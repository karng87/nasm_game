{
 "cells": [
  {
   "cell_type": "code",
   "execution_count": 81,
   "id": "a6f26102-b975-4823-9c44-bf344f621430",
   "metadata": {},
   "outputs": [
    {
     "data": {
      "text/markdown": [
       "# hello $\\sum_{i=1}^{n}$\n",
       "### product"
      ],
      "text/plain": [
       "<IPython.core.display.Markdown object>"
      ]
     },
     "metadata": {},
     "output_type": "display_data"
    },
    {
     "data": {
      "text/plain": [
       "3"
      ]
     },
     "metadata": {},
     "output_type": "display_data"
    },
    {
     "data": {
      "text/latex": [
       "$\\displaystyle \\prod_{i,j,k=1}^{n} = A$"
      ],
      "text/plain": [
       "<IPython.core.display.Math object>"
      ]
     },
     "metadata": {},
     "output_type": "display_data"
    },
    {
     "data": {
      "text/latex": [
       "$\\displaystyle \\prod_{i,j,k=1}^{n} = 3$"
      ],
      "text/plain": [
       "<IPython.core.display.Math object>"
      ]
     },
     "metadata": {},
     "output_type": "display_data"
    },
    {
     "data": {
      "text/plain": [
       "(None,)"
      ]
     },
     "execution_count": 81,
     "metadata": {},
     "output_type": "execute_result"
    }
   ],
   "source": [
    "import IPython\n",
    "A=3\n",
    "display(\n",
    "    IPython.display.Markdown('# hello $\\sum_{i=1}^{n}$\\n### product'),\n",
    "    A,\n",
    "    IPython.display.Math('\\prod_{i,j,k=1}^{n} = A'),\n",
    "    IPython.display.Math(f'\\prod_{{i,j,k=1}}^{{n}} = {A}')),"
   ]
  },
  {
   "cell_type": "code",
   "execution_count": 83,
   "id": "5d5ee777-6def-417f-92ff-1906f29d0d00",
   "metadata": {},
   "outputs": [
    {
     "data": {
      "text/markdown": [
       "\n",
       "## add the following to keyboard short cut of the advanced settings\n",
       "```json\n",
       "{\n",
       "    \"shortcuts\": [\n",
       "        {\n",
       "            \"command\": \"notebook:enter-command-mode\",\n",
       "            \"keys\": [\n",
       "                \"Escape\"\n",
       "            ],\n",
       "            \"selector\": \".jp-Notebook.jp-mod-editMode\",\n",
       "            \"disabled\": true\n",
       "        },\n",
       "    ]\n",
       "}\n",
       "```\n"
      ],
      "text/plain": [
       "<IPython.core.display.Markdown object>"
      ]
     },
     "execution_count": 83,
     "metadata": {},
     "output_type": "execute_result"
    }
   ],
   "source": [
    "import IPython as ip\n",
    "ip.display.Markdown(r\"\"\"\n",
    "## add the following to keyboard short cut of the advanced settings\n",
    "```json\n",
    "{\n",
    "    \"shortcuts\": [\n",
    "        {\n",
    "            \"command\": \"notebook:enter-command-mode\",\n",
    "            \"keys\": [\n",
    "                \"Escape\"\n",
    "            ],\n",
    "            \"selector\": \".jp-Notebook.jp-mod-editMode\",\n",
    "            \"disabled\": true\n",
    "        },\n",
    "    ]\n",
    "}\n",
    "```\n",
    "\"\"\")"
   ]
  },
  {
   "cell_type": "code",
   "execution_count": 31,
   "id": "cb9d6455-f6bb-4565-82bf-335fc2643641",
   "metadata": {},
   "outputs": [
    {
     "data": {
      "text/markdown": [
       "\n",
       "# IPython Markdown Math latex\n",
       "### r stand for raw that mean no need escape letter\n",
       "### f stand for format that mean to enable directly to use variable symbol\n",
       "> A = 나  \n",
       "> $$\\sum_{i=1}^{3}$$\n",
       "\n",
       "> $$\\sum_{i=1}^{3}$$\n"
      ],
      "text/plain": [
       "<IPython.core.display.Markdown object>"
      ]
     },
     "execution_count": 31,
     "metadata": {},
     "output_type": "execute_result"
    }
   ],
   "source": [
    "import IPython as ip\n",
    "A = \"나\"\n",
    "ip.display.Markdown(rf\"\"\"\n",
    "# IPython Markdown Math latex\n",
    "### r stand for raw that mean no need escape letter\n",
    "### f stand for format that mean to enable directly to use variable symbol\n",
    "> A = {A}  \n",
    "> $$\\sum_{{i=1}}^{{3}}$$\n",
    "\"\"\"r\"\"\"\n",
    "> $$\\sum_{i=1}^{3}$$\n",
    "\"\"\")"
   ]
  },
  {
   "cell_type": "code",
   "execution_count": 34,
   "id": "5bdfd99d-962e-4f30-ac1a-13042d08568a",
   "metadata": {},
   "outputs": [
    {
     "data": {
      "text/latex": [
       "$\\displaystyle \\sum_{i,j=1}^{3}$"
      ],
      "text/plain": [
       "<IPython.core.display.Math object>"
      ]
     },
     "execution_count": 34,
     "metadata": {},
     "output_type": "execute_result"
    }
   ],
   "source": [
    "import IPython as ip\n",
    "ip.display.Math('\\\\sum_{i,j=1}^{3}')\n",
    "ip.display.Math(r'\\sum_{i,j=1}^{3}')"
   ]
  },
  {
   "cell_type": "code",
   "execution_count": null,
   "id": "46d32653-2922-4459-90d5-e3010fb34a2b",
   "metadata": {},
   "outputs": [],
   "source": []
  }
 ],
 "metadata": {
  "kernelspec": {
   "display_name": "Python 3 (ipykernel)",
   "language": "python",
   "name": "python3"
  },
  "language_info": {
   "codemirror_mode": {
    "name": "ipython",
    "version": 3
   },
   "file_extension": ".py",
   "mimetype": "text/x-python",
   "name": "python",
   "nbconvert_exporter": "python",
   "pygments_lexer": "ipython3",
   "version": "3.10.2"
  }
 },
 "nbformat": 4,
 "nbformat_minor": 5
}
