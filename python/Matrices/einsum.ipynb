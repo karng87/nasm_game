{
 "cells": [
  {
   "cell_type": "code",
   "execution_count": 38,
   "id": "617da45f-3bef-4db8-82a5-9fbd23daed15",
   "metadata": {},
   "outputs": [
    {
     "data": {
      "text/plain": [
       "array([[ 60.,  70.],\n",
       "       [160., 195.],\n",
       "       [260., 320.]])"
      ]
     },
     "execution_count": 38,
     "metadata": {},
     "output_type": "execute_result"
    }
   ],
   "source": [
    "import numpy as np\n",
    "A = np.random.rand(3,5)\n",
    "A = np.arange(15).reshape(3,5)\n",
    "B = np.random.rand(5,2)\n",
    "B = np.arange(10).reshape(5,2)\n",
    "M = np.empty((3,2))\n",
    "\n",
    "# M_{ij} - \\sum_{k} A_{ik}*B_{kj} = A_{i,}*B_{kj}\n",
    "for i in range(3):\n",
    "    for j in range(2):\n",
    "        total = 0\n",
    "        for k in range(5):\n",
    "            total += A[i,k]*B[k,j]\n",
    "        M[i,j] = total\n",
    "M "
   ]
  },
  {
   "cell_type": "code",
   "execution_count": 34,
   "id": "d178bbe9-d0cc-4236-b55e-f69104b77371",
   "metadata": {},
   "outputs": [
    {
     "data": {
      "text/plain": [
       "array([[ 60,  70],\n",
       "       [160, 195],\n",
       "       [260, 320]])"
      ]
     },
     "execution_count": 34,
     "metadata": {},
     "output_type": "execute_result"
    }
   ],
   "source": [
    "# ik is A index\n",
    "# kj is B index\n",
    "# ij is outptu index\n",
    "# i j is free index\n",
    "# k is dummy index\n",
    "#### repeating letter in a different term\n",
    "####   will be multiplied and will be the output.\n",
    "####   mulipied summation \n",
    "# M_{ik} = A_{ik}B_{kj}\n",
    "np.einsum('ik,kj->ij',A,B)"
   ]
  },
  {
   "cell_type": "code",
   "execution_count": 39,
   "id": "2386bf71-4c01-44c1-a2b1-9b325062d0f2",
   "metadata": {},
   "outputs": [
    {
     "data": {
      "text/plain": [
       "array([[0, 0, 0],\n",
       "       [0, 1, 2],\n",
       "       [0, 2, 4],\n",
       "       [0, 3, 6],\n",
       "       [0, 4, 8]])"
      ]
     },
     "execution_count": 39,
     "metadata": {},
     "output_type": "execute_result"
    }
   ],
   "source": [
    "a = np.arange(5)\n",
    "b = np.arange(3)\n",
    "# free index: i,j(Used in output)\n",
    "# Summation(dummy) index: None (All used in output)\n",
    "# outer[i,j] = a[i] * b[j]\n",
    "np.einsum('i,j->ij',a,b)"
   ]
  },
  {
   "cell_type": "code",
   "execution_count": 48,
   "id": "b0cb4329-634c-45a2-bcec-56c45422da31",
   "metadata": {},
   "outputs": [
    {
     "data": {
      "text/plain": [
       "array([[0., 0., 0.],\n",
       "       [0., 1., 2.],\n",
       "       [0., 2., 4.],\n",
       "       [0., 3., 6.],\n",
       "       [0., 4., 8.]])"
      ]
     },
     "execution_count": 48,
     "metadata": {},
     "output_type": "execute_result"
    }
   ],
   "source": [
    "outer_product = np.empty((5,3))\n",
    "for i in range(5):\n",
    "    for j in range(3):\n",
    "        total = 0\n",
    "        total += a[i]*b[j]\n",
    "        outer_product[i,j] = total\n",
    "outer_product"
   ]
  },
  {
   "cell_type": "code",
   "execution_count": 51,
   "id": "2aa99dd4-d63b-491b-8843-1fb4dbd1097e",
   "metadata": {},
   "outputs": [
    {
     "data": {
      "text/plain": [
       "3.0"
      ]
     },
     "execution_count": 51,
     "metadata": {},
     "output_type": "execute_result"
    }
   ],
   "source": [
    "# Ommiting a letter measn that axis will be summed.\n",
    "# \\sum_{i}x[i]\n",
    "x = np.ones(3)\n",
    "np.einsum('i->',x)"
   ]
  },
  {
   "cell_type": "code",
   "execution_count": 61,
   "id": "589bea68-cd8e-4316-a5bd-dc7eee2d9d66",
   "metadata": {},
   "outputs": [
    {
     "data": {
      "text/plain": [
       "array([[0, 2, 4],\n",
       "       [1, 3, 5]])"
      ]
     },
     "execution_count": 61,
     "metadata": {},
     "output_type": "execute_result"
    }
   ],
   "source": [
    "x = np.arange(6).reshape(2,3)\n",
    "np.einsum('ij->ji',x)\n"
   ]
  },
  {
   "cell_type": "code",
   "execution_count": 62,
   "id": "825d0493-ce53-4710-8798-f6833ad9b58b",
   "metadata": {},
   "outputs": [
    {
     "data": {
      "text/plain": [
       "array([[0, 1],\n",
       "       [2, 3],\n",
       "       [4, 5]])"
      ]
     },
     "execution_count": 62,
     "metadata": {},
     "output_type": "execute_result"
    }
   ],
   "source": [
    "x"
   ]
  },
  {
   "cell_type": "code",
   "execution_count": 63,
   "id": "3ee0845c-899d-4f14-93d4-483af164da06",
   "metadata": {},
   "outputs": [
    {
     "data": {
      "text/plain": [
       "array([[0, 2, 4],\n",
       "       [1, 3, 5]])"
      ]
     },
     "execution_count": 63,
     "metadata": {},
     "output_type": "execute_result"
    }
   ],
   "source": [
    "# Permutation of Tensors\n",
    "np.einsum(\"ij->ji\",x)"
   ]
  },
  {
   "cell_type": "code",
   "execution_count": 64,
   "id": "0c095a8a-c4e1-408b-b567-6ebfacb0ee62",
   "metadata": {},
   "outputs": [
    {
     "data": {
      "text/plain": [
       "15"
      ]
     },
     "execution_count": 64,
     "metadata": {},
     "output_type": "execute_result"
    }
   ],
   "source": [
    "# Summation\n",
    "np.einsum('ij->',x)"
   ]
  },
  {
   "cell_type": "code",
   "execution_count": 66,
   "id": "76d8abd6-35e2-4e52-95c9-19b6bf263916",
   "metadata": {},
   "outputs": [
    {
     "data": {
      "text/plain": [
       "array([6, 9])"
      ]
     },
     "execution_count": 66,
     "metadata": {},
     "output_type": "execute_result"
    }
   ],
   "source": [
    "# column sum\n",
    "np.einsum('ij->j',x)"
   ]
  },
  {
   "cell_type": "code",
   "execution_count": 67,
   "id": "e78ba3b5-0df5-428b-bfe6-7bbda77bdf35",
   "metadata": {},
   "outputs": [
    {
     "data": {
      "text/plain": [
       "array([1, 5, 9])"
      ]
     },
     "execution_count": 67,
     "metadata": {},
     "output_type": "execute_result"
    }
   ],
   "source": [
    "# row sum\n",
    "np.einsum('ij->i',x)"
   ]
  },
  {
   "cell_type": "code",
   "execution_count": 94,
   "id": "cd77daa3-1b03-4196-a4df-60a65a3c9c18",
   "metadata": {},
   "outputs": [
    {
     "data": {
      "text/plain": [
       "array([[ 0,  0],\n",
       "       [ 2,  3],\n",
       "       [ 8, 10]])"
      ]
     },
     "execution_count": 94,
     "metadata": {},
     "output_type": "execute_result"
    }
   ],
   "source": [
    "# Matrix-Vector multiplication\n",
    "v = np.arange(3)\n",
    "# 3,2 -> 1,3\n",
    "np.einsum('ij,i->ij',x,v)"
   ]
  },
  {
   "cell_type": "code",
   "execution_count": 106,
   "id": "9bb8a1f4-2294-4b37-aeab-d4c17ffad56c",
   "metadata": {},
   "outputs": [
    {
     "data": {
      "text/plain": [
       "array([[ 0,  0],\n",
       "       [ 3, 12],\n",
       "       [ 6, 24]])"
      ]
     },
     "execution_count": 106,
     "metadata": {},
     "output_type": "execute_result"
    }
   ],
   "source": [
    "x1 = np.arange(6).reshape(2,3)\n",
    "# 2,3 -> 1,3\n",
    "np.einsum('ij,k->ki',x1,v)"
   ]
  },
  {
   "cell_type": "code",
   "execution_count": 120,
   "id": "097f1cde-4b0a-48ce-b2bc-594c213e69df",
   "metadata": {},
   "outputs": [
    {
     "data": {
      "text/latex": [
       "$\\displaystyle \\left[\\begin{matrix}10 & 13\\\\28 & 40\\end{matrix}\\right]$"
      ],
      "text/plain": [
       "Matrix([\n",
       "[10, 13],\n",
       "[28, 40]])"
      ]
     },
     "execution_count": 120,
     "metadata": {},
     "output_type": "execute_result"
    }
   ],
   "source": [
    "import sympy as sm\n",
    "sm.Matrix(np.einsum('ij,jk->ik',x1,x))"
   ]
  },
  {
   "cell_type": "code",
   "execution_count": null,
   "id": "20d11ca3-9f3d-4ab1-b45f-bfe38449190f",
   "metadata": {},
   "outputs": [],
   "source": []
  },
  {
   "cell_type": "code",
   "execution_count": null,
   "id": "9f9a0399-0597-46ae-b72e-ca7665906a7b",
   "metadata": {},
   "outputs": [],
   "source": []
  }
 ],
 "metadata": {
  "kernelspec": {
   "display_name": "Python 3 (ipykernel)",
   "language": "python",
   "name": "python3"
  },
  "language_info": {
   "codemirror_mode": {
    "name": "ipython",
    "version": 3
   },
   "file_extension": ".py",
   "mimetype": "text/x-python",
   "name": "python",
   "nbconvert_exporter": "python",
   "pygments_lexer": "ipython3",
   "version": "3.10.2"
  }
 },
 "nbformat": 4,
 "nbformat_minor": 5
}
