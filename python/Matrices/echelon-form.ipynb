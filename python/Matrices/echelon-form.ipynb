{
 "cells": [
  {
   "cell_type": "code",
   "execution_count": 47,
   "id": "a7a4ab63-1f85-4116-b7f1-681fb4df1b67",
   "metadata": {},
   "outputs": [
    {
     "data": {
      "text/latex": [
       "$\\displaystyle \\left[\\begin{matrix}1 & 2 & 3\\\\4 & 5 & 6\\\\7 & 8 & 9\\end{matrix}\\right]$"
      ],
      "text/plain": [
       "Matrix([\n",
       "[1, 2, 3],\n",
       "[4, 5, 6],\n",
       "[7, 8, 9]])"
      ]
     },
     "execution_count": 47,
     "metadata": {},
     "output_type": "execute_result"
    }
   ],
   "source": [
    "# Mtarix Reductions\n",
    "# elementary_row_op (기본행 연산)\n",
    "# elementary_col_op\n",
    "import sympy as sm\n",
    "T = sm.Matrix([[1,2,3],[4,5,6],[7,8,9]])\n",
    "T"
   ]
  },
  {
   "cell_type": "code",
   "execution_count": 48,
   "id": "ed378191-0ac4-45f6-bff5-9a31cdda28c4",
   "metadata": {},
   "outputs": [
    {
     "data": {
      "text/latex": [
       "$\\displaystyle \\left[\\begin{matrix}1 & 2 & 3\\\\0 & -3 & -6\\\\7 & 8 & 9\\end{matrix}\\right]$"
      ],
      "text/plain": [
       "Matrix([\n",
       "[1,  2,  3],\n",
       "[0, -3, -6],\n",
       "[7,  8,  9]])"
      ]
     },
     "execution_count": 48,
     "metadata": {},
     "output_type": "execute_result"
    }
   ],
   "source": [
    "T1 = T.elementary_row_op(op=\"n->n+km\",row=1,row2=0,k=-4)\n",
    "T1"
   ]
  },
  {
   "cell_type": "code",
   "execution_count": 49,
   "id": "0576c311-2a90-411a-86bf-7dcc117787cf",
   "metadata": {
    "tags": []
   },
   "outputs": [
    {
     "data": {
      "text/latex": [
       "$\\displaystyle \\left[\\begin{matrix}1 & 2 & 3\\\\0 & -3 & -6\\\\0 & -6 & -12\\end{matrix}\\right]$"
      ],
      "text/plain": [
       "Matrix([\n",
       "[1,  2,   3],\n",
       "[0, -3,  -6],\n",
       "[0, -6, -12]])"
      ]
     },
     "execution_count": 49,
     "metadata": {},
     "output_type": "execute_result"
    }
   ],
   "source": [
    "T2 = T1.elementary_row_op(op=\"n->n+km\",row=2,row2=0,k=-7)\n",
    "T2"
   ]
  },
  {
   "cell_type": "code",
   "execution_count": 50,
   "id": "6834bb7c-6348-4067-9be6-dc4376a5dd75",
   "metadata": {},
   "outputs": [
    {
     "data": {
      "text/latex": [
       "$\\displaystyle \\left[\\begin{matrix}1 & 2 & 3\\\\0 & -3 & -6\\\\0 & 0 & 0\\end{matrix}\\right]$"
      ],
      "text/plain": [
       "Matrix([\n",
       "[1,  2,  3],\n",
       "[0, -3, -6],\n",
       "[0,  0,  0]])"
      ]
     },
     "execution_count": 50,
     "metadata": {},
     "output_type": "execute_result"
    }
   ],
   "source": [
    "T3 = T2.elementary_row_op(op='n->n+km',row=2,row2=1,k=-2)\n",
    "T3"
   ]
  },
  {
   "cell_type": "code",
   "execution_count": 56,
   "id": "faade742-1df4-4eec-bddb-e43a204cecc7",
   "metadata": {},
   "outputs": [
    {
     "data": {
      "text/latex": [
       "$\\displaystyle \\left[\\begin{matrix}1 & 2 & 3\\\\0 & -3 & -6\\\\0 & 0 & 0\\end{matrix}\\right]$"
      ],
      "text/plain": [
       "Matrix([\n",
       "[1,  2,  3],\n",
       "[0, -3, -6],\n",
       "[0,  0,  0]])"
      ]
     },
     "execution_count": 56,
     "metadata": {},
     "output_type": "execute_result"
    }
   ],
   "source": [
    "T.echelon_form()"
   ]
  },
  {
   "cell_type": "code",
   "execution_count": 51,
   "id": "1890f51d-91f6-4415-91d9-ab33237d3807",
   "metadata": {
    "tags": []
   },
   "outputs": [],
   "source": [
    "T4 = T3.elementary_row_op(op='n->kn',row=1,k=-1/3)"
   ]
  },
  {
   "cell_type": "code",
   "execution_count": 52,
   "id": "5879c382-629f-4041-9021-54af3a69cfca",
   "metadata": {},
   "outputs": [
    {
     "data": {
      "text/latex": [
       "$\\displaystyle \\left[\\begin{matrix}1 & 0 & -1.0\\\\0 & 1.0 & 2.0\\\\0 & 0 & 0\\end{matrix}\\right]$"
      ],
      "text/plain": [
       "Matrix([\n",
       "[1,   0, -1.0],\n",
       "[0, 1.0,  2.0],\n",
       "[0,   0,    0]])"
      ]
     },
     "execution_count": 52,
     "metadata": {},
     "output_type": "execute_result"
    }
   ],
   "source": [
    "T4.elementary_row_op(op='n->n+km',row=0,row2=1,k=-2)"
   ]
  },
  {
   "cell_type": "code",
   "execution_count": 54,
   "id": "91c0a2ca-2730-46b0-8810-a32b14b64078",
   "metadata": {},
   "outputs": [
    {
     "data": {
      "text/plain": [
       "(Matrix([\n",
       " [1, 0, -1],\n",
       " [0, 1,  2],\n",
       " [0, 0,  0]]),\n",
       " (0, 1))"
      ]
     },
     "execution_count": 54,
     "metadata": {},
     "output_type": "execute_result"
    }
   ],
   "source": [
    "T.rref()"
   ]
  },
  {
   "cell_type": "code",
   "execution_count": null,
   "id": "a0984b54-9e14-4f8a-afe2-7c0a78f34556",
   "metadata": {},
   "outputs": [],
   "source": []
  }
 ],
 "metadata": {
  "kernelspec": {
   "display_name": "Python 3 (ipykernel)",
   "language": "python",
   "name": "python3"
  },
  "language_info": {
   "codemirror_mode": {
    "name": "ipython",
    "version": 3
   },
   "file_extension": ".py",
   "mimetype": "text/x-python",
   "name": "python",
   "nbconvert_exporter": "python",
   "pygments_lexer": "ipython3",
   "version": "3.10.1"
  }
 },
 "nbformat": 4,
 "nbformat_minor": 5
}
