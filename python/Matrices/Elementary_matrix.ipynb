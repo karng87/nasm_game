{
 "cells": [
  {
   "cell_type": "markdown",
   "id": "0cabc664-5f9e-4621-a0a6-def4abe06355",
   "metadata": {},
   "source": [
    "# elementary matrix\n",
    "> ### $I_n$에 기본행연산(elementary row operation)을 한번 적용해서 얻은 행열\n",
    ">> ### $ kR_i$\n",
    ">> ### $ kR_i + R_j$\n",
    "# permutaion matrix\n",
    "> ### $I_n$의 행들을 교환하여 얻어진 행열\n",
    ">> ### $ R_i \\iff R_j$\n",
    "\n",
    "# REF(Row echelon form)\n",
    "> ### 행사다리꼴\n",
    "# RREF(Reduce Row echelon form)\n",
    "> ### 기약행사다리꼴"
   ]
  },
  {
   "cell_type": "code",
   "execution_count": 3,
   "id": "329029d0-60e9-4e74-a9fb-77913262017c",
   "metadata": {},
   "outputs": [
    {
     "data": {
      "text/latex": [
       "$\\displaystyle \\left[\\begin{matrix}1 & 2 & 3\\\\0 & 1.0 & 2.0\\\\0 & 0 & 0\\end{matrix}\\right]$"
      ],
      "text/plain": [
       "Matrix([\n",
       "[1,   2,   3],\n",
       "[0, 1.0, 2.0],\n",
       "[0,   0,   0]])"
      ]
     },
     "execution_count": 3,
     "metadata": {},
     "output_type": "execute_result"
    }
   ],
   "source": [
    "import sympy as sm\n",
    "import numpy as np\n",
    "M = sm.Matrix(3,3,np.arange(1,10))\n",
    "# E_1 = E_1 + -4E_2\n",
    "M = M.elementary_row_op('n->n+km',row1=1,k=-4,row2=0)\n",
    "\n",
    "# E_3 = E_3 + -7E_1\n",
    "M = M.elementary_row_op('n->n+km',row1=2,k=-7,row2=0)\n",
    "\n",
    "# E_1 = -1/3*E_1\n",
    "M = M.elementary_row_op('n->kn',row1=1,k=-1/3)\n",
    "\n",
    "# E_n = E_n + kE_m\n",
    "M = M.elementary_row_op('n->n+km',row1=2,k=6,row2=1)\n",
    "M"
   ]
  },
  {
   "cell_type": "code",
   "execution_count": 4,
   "id": "116e3ffc-518f-4adc-9e29-3c28b1db074d",
   "metadata": {},
   "outputs": [
    {
     "data": {
      "text/latex": [
       "$\\displaystyle \\left[\\begin{matrix}31 & 50 & 11\\\\60 & 27 & 23\\\\54 & 67 & 41\\end{matrix}\\right]$"
      ],
      "text/plain": [
       "Matrix([\n",
       "[31, 50, 11],\n",
       "[60, 27, 23],\n",
       "[54, 67, 41]])"
      ]
     },
     "execution_count": 4,
     "metadata": {},
     "output_type": "execute_result"
    }
   ],
   "source": [
    "sm.randMatrix(3)"
   ]
  },
  {
   "cell_type": "code",
   "execution_count": 5,
   "id": "826f1d88-f2db-4e59-a17d-725d60b17fe8",
   "metadata": {},
   "outputs": [
    {
     "data": {
      "text/latex": [
       "$\\displaystyle \\left[\\begin{matrix}1 & 0 & 0\\\\0 & 1 & 0\\\\0 & -1 & 1\\end{matrix}\\right]$"
      ],
      "text/plain": [
       "Matrix([\n",
       "[1,  0, 0],\n",
       "[0,  1, 0],\n",
       "[0, -1, 1]])"
      ]
     },
     "execution_count": 5,
     "metadata": {},
     "output_type": "execute_result"
    }
   ],
   "source": [
    "sm.Matrix([[1,0,0],[0,1,0],[0,1,1]]).inv()"
   ]
  },
  {
   "cell_type": "code",
   "execution_count": 6,
   "id": "50807ff8-455e-48c0-96bb-ae75e8494c4b",
   "metadata": {},
   "outputs": [
    {
     "data": {
      "text/latex": [
       "$\\displaystyle \\left[\\begin{matrix}1 & 0 & 0\\\\-2 & 1 & 0\\\\0 & 0 & 1\\end{matrix}\\right]$"
      ],
      "text/plain": [
       "Matrix([\n",
       "[ 1, 0, 0],\n",
       "[-2, 1, 0],\n",
       "[ 0, 0, 1]])"
      ]
     },
     "execution_count": 6,
     "metadata": {},
     "output_type": "execute_result"
    }
   ],
   "source": [
    "sm.Matrix([[1,0,0],[-2,1,0],[0,0,1]])"
   ]
  },
  {
   "cell_type": "code",
   "execution_count": 8,
   "id": "8e05d103-6162-419d-bfd2-fa1cc0cd82e8",
   "metadata": {},
   "outputs": [
    {
     "data": {
      "text/latex": [
       "$\\displaystyle \\left[\\begin{matrix}1 & 0 & 0\\\\2 & 1 & 0\\\\0 & 0 & 1\\end{matrix}\\right]$"
      ],
      "text/plain": [
       "Matrix([\n",
       "[1, 0, 0],\n",
       "[2, 1, 0],\n",
       "[0, 0, 1]])"
      ]
     },
     "execution_count": 8,
     "metadata": {},
     "output_type": "execute_result"
    }
   ],
   "source": [
    "sm.Matrix([[1,0,0],[-2,1,0],[0,0,1]]).inv()"
   ]
  },
  {
   "cell_type": "code",
   "execution_count": null,
   "id": "5f702e0c-d6a4-4d0b-961d-ef7ec36a1012",
   "metadata": {},
   "outputs": [],
   "source": []
  }
 ],
 "metadata": {
  "kernelspec": {
   "display_name": "Python 3 (ipykernel)",
   "language": "python",
   "name": "python3"
  },
  "language_info": {
   "codemirror_mode": {
    "name": "ipython",
    "version": 3
   },
   "file_extension": ".py",
   "mimetype": "text/x-python",
   "name": "python",
   "nbconvert_exporter": "python",
   "pygments_lexer": "ipython3",
   "version": "3.10.2"
  }
 },
 "nbformat": 4,
 "nbformat_minor": 5
}
