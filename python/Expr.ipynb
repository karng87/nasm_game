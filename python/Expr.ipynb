{
 "cells": [
  {
   "cell_type": "markdown",
   "id": "4488a864-11da-4ace-bcd1-bcb06ee2d689",
   "metadata": {},
   "source": [
    "# Geometric Algebra\n",
    "> ## $ ^{3d}_{I=e_1e_2e_3}{\\Large\\color{red}{g}}^{e_1^2=e_2^2=e_3^2=1}_{e_1e_2 = e_1 \\wedge e_2} $\n",
    "> ## $ ^{uv(:2d)}_{\\theta = \\alpha + \\beta}{\\Large\\color{red}{g}}^{|u||v|e^{I\\theta}}_{u \\cdot v + u \\wedge v} $\n",
    "> ## $ ^{uv}_{v\\perp u}{\\Large\\color{red}{g}}^{uv\\, =\\, -vu}_{u \\cdot v = 0} $\n",
    "> ## $ ^{uv}_{v\\parallel u}{\\Large\\color{red}{g}}^{uv\\, =\\, vu}_{u \\wedge v = 0} $\n",
    "> ## $ ^{u\\cdot v}_{s=0}{\\Large\\color{red}{g}}^{|u||v|cos \\theta}_{\\theta = \\angle u v} $\n",
    "> ## $ ^{u\\wedge v}_{s=0}{\\Large\\color{red}{g}}^{|u||v|sin\\theta \\,I}_{I=e_1e_2} $\n",
    "> ## $ ^{u\\cdot v}_{s=0}{\\Large\\color{red}{g}}^{\\frac{1}{2}(uv + vu)}_{uv+vu=( u \\cdot v + u \\wedge v ) + (u \\cdot  v - u \\wedge v)} $\n",
    "> ## $ ^{u\\wedge v}_{s=0}{\\Large\\color{red}{g}}^{\\frac{1}{2}(uv - vu)}_{uv - vu = (u \\cdot v + u \\wedge v) - (u \\cdot v - u \\wedge v)} $\n",
    "\n",
    "> ## $ ^{uv}_{u=u_{\\parallel_v} + u_{\\perp_v}}{\\Large\\color{red}{g}}^{u_{\\parallel_v} \\cdot v + u_{\\perp_v} \\wedge v}_{} $"
   ]
  },
  {
   "cell_type": "markdown",
   "id": "e6b9ac3f-8567-42f7-8ca8-d4c1660c2e43",
   "metadata": {},
   "source": [
    "---\n",
    "> ## $ ^{vB}_{B=:bivector}{\\Large\\color{red}{g}}^{vB=v \\cdot B + v \\wedge B}_{vB = <vB>_1 + <vB>_3} $\n",
    ">\n",
    "> ## $ ^{vB}_{Bv}{\\Large\\color{red}{g}}^{v \\cdot B + v \\wedge B}_{B \\cdot v + B \\wedge v} $\n",
    ">\n",
    "> ## $ ^{vB}_{Bv}{\\Large\\color{red}{g}}^{v \\cdot B =\\, -(B \\cdot v)}_{v \\wedge B = B \\wedge v} $\n",
    ">\n",
    "> ## $ ^{vB}_{v\\perp B}{\\Large\\color{red}{g}}^{vB\\, =\\,  Bv}_{v \\cdot B = 0} $\n",
    ">\n",
    "> ## $ ^{vB}_{v\\parallel B}{\\Large\\color{red}{g}}^{vB\\, =\\, -Bv}_{v \\cdot B = 0} $\n",
    ">\n",
    "> ## $ ^{v\\cdot B}_{}{\\Large\\color{red}{g}}^{\\frac{1}{2}(vB - Bv)}_{<vB>_1} $\n",
    "> ## $ ^{v\\wedge B}_{}{\\Large\\color{red}{g}}^{\\frac{1}{2}(vB + Bv)}_{<vB>_3} $\n",
    "\n",
    "> ## $ ^{vB}_{v=v_{\\parallel_B} + v_{\\perp_B}}{\\Large\\color{red}{g}}^{v_{\\parallel_B} \\cdot B + v_{\\perp_B} \\wedge B}_{} $\n"
   ]
  },
  {
   "cell_type": "markdown",
   "id": "5b7c418f-50be-4a88-b585-5feb975877a9",
   "metadata": {},
   "source": [
    "---\n",
    "> ## $ ^{B+B}_{(e_1 + e_2) \\wedge e_3 + e_1 \\wedge e_2}{\\Large\\color{red}{g}}^{e_1 \\wedge e_2 = (e_1 + e_2)\\wedge e_2}_{(e_1 + e_2)\\wedge_3 + (e_1 + e_2)\\wedge e_2} $\n",
    "\n",
    "> ## $ ^{B}_{ae_1e_2 + be_2e_3 + ce_3e_1}{\\Large\\color{red}{g}}^{ae_1 \\wedge e_2 - be_3\\wedge e_2 - ce_1 \\wedge e_3}_{(ae_1-be_3)\\wedge e_2 - ce_1 \\wedge e_3}\n",
    "\\\\ \n",
    "\\quad \\because  \\; ^{ce_1 \\wedge e_3}_{\\frac{a}{a}(c e_1) \\wedge e_3}{\\Large\\color{red}{g}}^{\\frac{c}{a}(ae_1) \\wedge e_3}_{\\frac{a}{c}(ae_1 - be_3)\\wedge e_3)} \\\\\n",
    "^{(ae_1 - be_3) \\wedge e_2 - ce_1 \\wedge e_3}_{(ae_1 - be_3) \\wedge e_2 - \\frac{c}{a}(ae_1 - be_3) \\wedge e_3}\n",
    "{\\Large\\color{red}{g}}^\n",
    "{(ae_1 - be_3) \\wedge (e_2 - \\frac{c}{a}e_3)}_{2(ae_1 - be_3) \\wedge \\frac{1}{2}(e_2 - \\frac{c}{a}e_3)}$"
   ]
  },
  {
   "cell_type": "markdown",
   "id": "0fba1162-d9cd-471e-a4ad-4fe62f679c41",
   "metadata": {},
   "source": [
    "---\n",
    "> ### $B^2$\n",
    ">> ### $\n",
    "B = ae_1e_2 + be_2e_3 + ce_3e_1 \\\\\n",
    "B^2 = -(a^2 + b^2 + c^2) \\\\\n",
    "\\therefore |B|^2 = -B^2 = a^2 + b^2 + c^2 \\\\\n",
    "|B| = 1 \\iff B^2 = -1 \\\\\n",
    "\\hat{B} = \\frac{1}{|B|}\\big( ae_1e_2 + be_2e_3 + ce^3e_1 \\big)\n",
    "$"
   ]
  },
  {
   "cell_type": "markdown",
   "id": "dda38e99-ab93-4e30-94f4-abfaf0cadb68",
   "metadata": {},
   "source": [
    ">> ### $\n",
    "B = e_1e_2 + e_2e_3 - e_3e_1 \\implies B^2 = -3 \\to |B|^2 = 3, |B| = \\sqrt{3}\\\\\n",
    "\\therefore \\hat{B} = \\frac{1}{\\sqrt{3}}\\Big(e_1e_2 + e_2e_3 - e_3e_1 \\Big)\n",
    "$"
   ]
  },
  {
   "cell_type": "markdown",
   "id": "f7d67e92-4534-441c-a63b-91c0167a2a8f",
   "metadata": {
    "tags": []
   },
   "source": [
    "> # Rotor\n",
    "> ## Rotor $=:$ geometric product of a number of unit vectors\n",
    "> ## reverse Rotor $=: R^{\\dagger}$ reverses order of Rotor\n",
    ">> ## inverse Rotor $=: R^{-1} \\iff R^{\\dagger}$ inverses of Rotor\n",
    ">> ### $\n",
    "|v|=|w|=1, R = wv \\iff R^{\\dagger} = vw \\\\\n",
    "\\because vwwv = wvvw = R^{\\dagger}R = RR^{\\dagger} = 1\\quad \\therefore R^{\\dagger} = R^{-1}\\\\\n",
    "\\therefore {^{R=wv}_{R^{\\dagger} = vw}{\\Large\\color{red}{g}}^{RuR^{\\dagger}}_{(wv)^{-1}u\\,(vw)}}$"
   ]
  },
  {
   "cell_type": "markdown",
   "id": "50eac78a-7181-4252-a969-c0836a684498",
   "metadata": {},
   "source": [
    "> ### $\n",
    "R^{\\dagger} = vw = w \\cdot w + v \\wedge w = |v||w|cos(\\frac{\\theta}{2}) + |v||w|sin(\\frac{\\theta}{2})B \\because B^2 = -1 \\\\\n",
    "R^{\\dagger}= cos(\\frac{\\theta}{2}) + sin(\\frac{\\theta}{2})B = e^{\\frac{\\theta}{2}B}\\\\\n",
    "R = cos(\\frac{\\theta}{2}) - sin(\\frac{\\theta}{2})B = e^{-\\frac{\\theta}{2}B}\n",
    "$"
   ]
  },
  {
   "cell_type": "markdown",
   "id": "dc5507d0-92ca-45b2-b767-47a4ce56d1d6",
   "metadata": {},
   "source": [
    "# General Rotation Fomular\n",
    "> ### $\n",
    "u' = e^{-\\frac{\\theta}{2}B} u e^{\\frac{\\theta}{2}B}\n",
    "\\\\\n",
    "{^{RuR^{\\dagger}}_{}{\\Large\\color{red}{g}}^{e^{-\\frac{\\theta}{2}B}\\,u\\; e^{\\frac{\\theta}{2}B}}_{u\\,e^{\\theta B}}} $\n"
   ]
  },
  {
   "cell_type": "markdown",
   "id": "8ac645c6-63a3-492e-9513-985eb363b75c",
   "metadata": {},
   "source": [
    ">> ### $\n",
    "|v|=|w| = 1, vw = e^{\\theta I} \\iff (vw)^{-1} = e^{-(\\theta I)} \\because e^{-(\\theta I)} e^{(\\theta I)}=1\n",
    "$"
   ]
  },
  {
   "cell_type": "markdown",
   "id": "788f1a4c-ce91-4ab2-94f8-6bc13a380512",
   "metadata": {},
   "source": [
    "# Rotation\n",
    "> ### $theta$\n",
    ">> ### $\n",
    "^{\\theta}_{2d}\n",
    "{\\Large \\color{red}{g}}\n",
    "^{e^{-\\frac{\\theta}{2}I} v \\, e^{\\frac{\\theta}{2}I}}_{v\\, e^{\\theta I}}\n",
    "$"
   ]
  },
  {
   "cell_type": "code",
   "execution_count": 19,
   "id": "ecac3029-68f5-40d0-855a-5d61cd4e847b",
   "metadata": {},
   "outputs": [
    {
     "data": {
      "text/latex": [
       "$\\displaystyle \\left(e_{1} + e_{2}\\right) \\left(- \\frac{\\sqrt{2} e_{1} e_{2}}{2} + \\frac{\\sqrt{2}}{2}\\right)$"
      ],
      "text/plain": [
       "(e_1 + e_2)*(-sqrt(2)*e_1*e_2/2 + sqrt(2)/2)"
      ]
     },
     "execution_count": 19,
     "metadata": {},
     "output_type": "execute_result"
    }
   ],
   "source": []
  },
  {
   "cell_type": "code",
   "execution_count": null,
   "id": "aa27993e-e070-48e9-8557-a3e0acb999cd",
   "metadata": {},
   "outputs": [],
   "source": []
  }
 ],
 "metadata": {
  "kernelspec": {
   "display_name": "Python 3 (ipykernel)",
   "language": "python",
   "name": "python3"
  },
  "language_info": {
   "codemirror_mode": {
    "name": "ipython",
    "version": 3
   },
   "file_extension": ".py",
   "mimetype": "text/x-python",
   "name": "python",
   "nbconvert_exporter": "python",
   "pygments_lexer": "ipython3",
   "version": "3.10.1"
  }
 },
 "nbformat": 4,
 "nbformat_minor": 5
}
