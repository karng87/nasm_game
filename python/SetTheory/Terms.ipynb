{
 "cells": [
  {
   "cell_type": "markdown",
   "id": "7b201b86-2caa-40a3-a151-494b35978c92",
   "metadata": {},
   "source": [
    "# notation\n",
    "> # A set is a collection of elements/objects\n",
    ">> ### $ A = \\{1,2,3\\}$"
   ]
  },
  {
   "cell_type": "markdown",
   "id": "c8eb6bef-c976-462b-8c00-308af07016ef",
   "metadata": {},
   "source": [
    "# $ x \\in A$ \n",
    "> ### means: $x$ is a member of $A$\n",
    "# $ A \\subseteq B$ \n",
    "> ### reads: the set $A$ is a subset of the set $B$\n",
    "> ### means: Every object in $A$ is also an object of $B$"
   ]
  },
  {
   "cell_type": "markdown",
   "id": "b2b646ce-ccd3-4d4d-9fb2-5a9e51914d90",
   "metadata": {},
   "source": [
    "# $ \\forall x $\n",
    "> ### means: For all x\n",
    "# $ \\exists x $\n",
    "> ### means: There exists an $x$\n",
    "# $ \\implies $\n",
    "> ### reads: A implies B\n",
    "> ### means: A is true implies that B is ture\n",
    "# $ \\impliedby $\n",
    "> ### means: implied by  \n",
    "# $ \\iff$\n",
    "> ### means: A if and only if B, A iff B  \n",
    ">> ### $ (\\forall x \\in A \\implies x \\in B) \\iff A \\subseteq B$\n",
    "# $ \\neg $\n",
    "> ### means: Not  \n",
    "# $ \\&$\n",
    "> ### means: And \n",
    "# such that\n",
    "> ### some entry condition\n",
    ">> ### (..)\n",
    ">>> ### $\\exists x \\in \\mathbb{N} \\text{ (x is even)}$\n",
    ">>> ### $\\forall x \\in A \\implies x \\in A$\n",
    ">> ### $|$\n",
    ">>> ### $A = \\{ x | x {\\text{ is prime and less than 10}}$"
   ]
  },
  {
   "cell_type": "markdown",
   "id": "9cabaf4c-2310-4aba-8e6a-f61136088284",
   "metadata": {},
   "source": [
    "# $\\varnothing$\n",
    "> ### empty set: the set with no members\n",
    ">> ### Properties:\n",
    ">>> ### $\\varnothing \\subseteq A, \\text{ where A is any arbitary set}$"
   ]
  },
  {
   "cell_type": "markdown",
   "id": "2fd7ebaf-6928-44fa-a0cf-69af28db8a3a",
   "metadata": {},
   "source": [
    "# $\\mathscr{P}A$\n",
    "> ### power set $ = 2 ^{n}$ 각각의 원소에 대해서 뽑거나 안뽑는 경우의 수.\n",
    ">> ### $ \\mathscr{P}A = \\{x | x \\subseteq A\\} = \\{\\varnothing, A\\}$\n",
    ">>> ### $ A = \\{1\\}$ what is $\\mathscr{P}A$ ?\n",
    ">> ### $ \\varnothing \\subseteq A \\iff \\varnothing \\in \\mathscr{P}A$\n",
    ">> ### $ A \\subseteq A \\iff A \\in \\mathscr{P}A$\n"
   ]
  },
  {
   "cell_type": "markdown",
   "id": "327ae751-b3bd-42dd-b6d9-836868fa0191",
   "metadata": {},
   "source": [
    "# $A \\cup B$\n",
    "> ### Union of sets\n",
    "> ### $A \\cup B = \\{x | x \\in A \\text{ or } x \\in B\\}$\n",
    "# $A \\cap B$\n",
    "> ### Intersection of sets\n",
    "> ### $A \\cap B = \\{x | x \\in A \\text{ & } x \\in B\\}$\n",
    "# $A - B$\n",
    "> ### Relative complement\n",
    "> ### $A - B = \\{x | x \\in A \\text{ & } x \\notin B\\}$"
   ]
  },
  {
   "cell_type": "markdown",
   "id": "daffb96b-e696-40f9-bef3-c3baf608454d",
   "metadata": {},
   "source": [
    "# $\\color{red}{ZFC}$ (Zermelo-Fracenkel sysstem with axion of Choice)\n",
    "> ### 9 axiom\n",
    ">> ### 1. Axiom of extensionality \n",
    ">>> $ \\forall A\\; \\forall B\\; \\big[ \\forall x ( x \\in A \\iff x \\in B) \\implies A = B \\big]$\n",
    ">> ### 2. Power set of axiom \n",
    ">>> $ \\forall A\\; \\exists B\\; \\forall x \\;\\big( x \\in B \\iff x \\subseteq A \\big)$\n",
    ">> ### 3. Pairing axiom (for union)\n",
    ">>> $ \\forall A\\; \\forall B\\; \\exists C\\; \\forall x \\;\\big( x \\in C \\iff x = A \\text{ or } x=B \\big)$\n",
    ">>>> $A = \\{1,2\\}, B =\\{3,4\\},C=\\{A,B\\} = \\{\\{1,2\\},\\{3,4\\}\\}$\n",
    ">> ### 4. Union axiom \n",
    ">>> $ \\forall A\\; \\exists B\\; \\forall x \\;\\big[ x \\in B \\iff \\exists t (t \\in A \\text{ & } x \\in t \\big]$\n",
    ">>>> $C=\\{A,B\\} = \\{\\{1,2\\},\\{3,4\\}\\} \\implies {\\large{\\cup}} A = \\{1,2,3,4\\}$\n",
    ">> ### 5. Axiom of subsets / Axiom schema of separation\n",
    ">>> $ \\forall A\\; \\exists B\\; \\forall x \\;\\big( x \\in B \\iff x \\in A \\text{ & some requirement on } x \\big)$"
   ]
  },
  {
   "cell_type": "code",
   "execution_count": null,
   "id": "f18ca930-5788-48d0-8cf4-86ea69f0c872",
   "metadata": {},
   "outputs": [],
   "source": []
  }
 ],
 "metadata": {
  "kernelspec": {
   "display_name": "Python 3 (ipykernel)",
   "language": "python",
   "name": "python3"
  },
  "language_info": {
   "codemirror_mode": {
    "name": "ipython",
    "version": 3
   },
   "file_extension": ".py",
   "mimetype": "text/x-python",
   "name": "python",
   "nbconvert_exporter": "python",
   "pygments_lexer": "ipython3",
   "version": "3.10.1"
  }
 },
 "nbformat": 4,
 "nbformat_minor": 5
}
