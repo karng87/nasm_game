{
 "cells": [
  {
   "cell_type": "code",
   "execution_count": 54,
   "id": "28ea3675-2a06-4d61-8f3c-3e4c5a5e114a",
   "metadata": {},
   "outputs": [
    {
     "data": {
      "text/latex": [
       "$\\displaystyle 1 + i$"
      ],
      "text/plain": [
       "1 + I"
      ]
     },
     "execution_count": 54,
     "metadata": {},
     "output_type": "execute_result"
    }
   ],
   "source": [
    "import sympy as sm\n",
    "a = sm.I + 1\n",
    "sm.re(a)\n",
    "sm.im(a)\n",
    "sm.conjugate(a)\n",
    "a"
   ]
  },
  {
   "cell_type": "code",
   "execution_count": 53,
   "id": "2d839279-1c17-400c-add3-c668e606c521",
   "metadata": {},
   "outputs": [
    {
     "data": {
      "text/latex": [
       "$\\displaystyle -1 + i$"
      ],
      "text/plain": [
       "-1 + I"
      ]
     },
     "execution_count": 53,
     "metadata": {},
     "output_type": "execute_result"
    }
   ],
   "source": [
    "(sm.exp(sm.pi/2*sm.I)*a).expand()"
   ]
  },
  {
   "cell_type": "markdown",
   "id": "d2a413ed-b297-43e2-abf3-5d9397494eab",
   "metadata": {},
   "source": [
    "# Rotatation of special angle(othogonal axis)\n",
    "> ### a rotated vector is represented summation of vectors\n",
    ">> ### $ cos\\theta \\,q^v_0 + sin\\theta \\, \\big(q^{vn}_{\\odot} \\times q^v_0 \\big)\\\\\n",
    "\\begin{cases} \n",
    "q^v_0 =: \\text{ a vecotor of object} \n",
    "\\\\ \n",
    "q^{vn}_{\\odot} =: \\text{ axis(\\odot) of a rotation normal vector} \n",
    "\\end{cases}$\n",
    ">> ### $ \\Big( cos\\theta + sin\\theta \\, q^{vn}_{\\odot} \\Big) \\, q^v_0 \\\\\n",
    "\\text{if } \\quad q^v_0 = (s_0, \\vec{v0}) | s_0 = 0, \\quad q^{vn}_{\\odot} = (s_n, \\vec{vn}) | s_n = 0 \\\\\n",
    "q^{vn}_{\\odot} q^0_v = \\Big( s_n\\, s_0  + \\big(q^{vn}_{\\odot} \\cdot q^v_0 \\big),\\; s_n v_0 + v_0 s_n + \\big(q^{vn}_{\\odot} \\times q^v_0 \\big) \\Big)\\\\\n",
    "q^{vn}_{(\\odot)} q^v_0 = \\Big( 0 ,\\; q^{vn}_{\\odot} \\times q^v_0 \\Big) = q_{\\odot}^{vn} \\times q_{0}^{v}$\n",
    "> ### $ \\large \\therefore \\Big( cos\\theta + sin\\theta \\; q_{\\odot}^{vn} \\Big)q_0^v =  e^{\\theta q_{\\odot}^{vm}}q_0^v$"
   ]
  },
  {
   "cell_type": "markdown",
   "id": "0518089e-63a5-4900-8031-07d50afb81b4",
   "metadata": {},
   "source": [
    "# Rotation in general axis\n",
    "> ### $q^v = (0,v) , q^{v'} = (0, v'), q^{\\uparrow} = (0, \\uparrow) , q^{\\hat{\\uparrow}}, q^{\\parallel}_{\\uparrow}, q^{\\perp}_{\\uparrow} $\n",
    "> ### $ q^{v'} \n",
    "=  \n",
    "q^{\\parallel}_{(\\hat{\\uparrow}\\cdot v \\hat{\\uparrow})} + \n",
    "cos \\theta \\, q^{\\perp}_{(v-\\parallel)} + \n",
    "sin \\theta \\, q^{\\perp'}_{(\\hat{\\uparrow} \\times \\perp)}\n",
    "\\\\=  \n",
    "q^{\\parallel}_{(\\hat{\\uparrow}\\cdot v \\hat{\\uparrow})} + \n",
    "cos \\theta \\, q^{\\perp}_{\\big(v-\\parallel(\\hat{\\uparrow}\\cdot v \\hat{\\uparrow})\\big)} + \n",
    "sin \\theta \\, q^{\\perp'}_{(\\hat{\\uparrow} v)}\n",
    "\\\\=  \n",
    "q^{\\parallel}_{(\\hat{\\uparrow}\\cdot v \\hat{\\uparrow})} + \n",
    "cos \\theta \\, q^{\\perp}_{\\big(v-(\\hat{\\uparrow}\\cdot v \\hat{\\uparrow})\\big)} + \n",
    "sin \\theta \\, q^{\\perp'}_{(\\hat{\\uparrow} v)}\n",
    "\\\\=  \n",
    "q^{\\parallel}_{(\\hat{\\uparrow}\\cdot v \\hat{\\uparrow})} + \n",
    "cos \\theta \\, \\Big( q^{v} - q^{\\parallel}_{(\\hat{\\uparrow}\\cdot v \\hat{\\uparrow})} \\Big)+ \n",
    "sin \\theta \\, q^{\\perp'}_{(\\hat{\\uparrow} v)}\n",
    "\\\\=  \n",
    "(1 - cos\\theta)q^{\\parallel}_{(\\hat{\\uparrow}\\cdot v \\hat{\\uparrow})} + \n",
    "cos \\theta \\,q^{v} + \n",
    "sin \\theta \\, \\big( q^{\\hat{\\uparrow}} q^{v} \\big)\n",
    "\\\\=  \n",
    "(1 - cos\\theta)q^{\\parallel}_{(\\hat{\\uparrow}\\cdot v \\hat{\\uparrow})} + \n",
    "cos \\theta \\,q^{v} + \n",
    "sin \\theta \\, \\big(q^{\\hat{\\uparrow}} \\times q^{v}\\big)\n",
    "$"
   ]
  },
  {
   "cell_type": "markdown",
   "id": "8379fb0e-c440-4d28-901f-15f02810a665",
   "metadata": {},
   "source": [
    ">> ### $\n",
    "\\because q^{\\perp'}_{(\\hat{\\uparrow}\\times \\perp)} =  q^{\\perp'}_{(\\hat{\\uparrow}\\times v)}\n",
    ",\\quad  q^{\\perp'}_{(\\hat{\\uparrow}\\times \\perp)} =  q^{\\perp'}_{(\\hat{\\uparrow} v)}\n",
    ",\\quad q^{\\parallel}_{(\\hat{\\uparrow}\\cdot v)} =  q^{\\parallel}_{(\\hat{\\uparrow}\\cdot v\\uparrow)}\n",
    "\\\\\n",
    "q^{v'} = \n",
    "q^{\\parallel}_{(\\hat{\\uparrow}\\cdot v)} +\n",
    "cos \\theta \\, q^{\\perp}_{(v-\\parallel)} +\n",
    "sin \\theta \\, q^{\\perp'}_{\\hat{\\uparrow} v}\n",
    "$"
   ]
  },
  {
   "cell_type": "markdown",
   "id": "d8587e3f-c9bb-4c4f-9de9-32f3f436b359",
   "metadata": {},
   "source": [
    "> ### $ q^{v'} = \n",
    "q^{\\parallel}_{(\\hat{\\uparrow}\\cdot v)} + \\Big(\n",
    "cos \\theta \\, + \n",
    "sin \\theta \\, q^{\\hat{\\uparrow}} \\Big)\n",
    "q^{\\perp}_{(v-\\parallel)} \n",
    "$"
   ]
  },
  {
   "cell_type": "code",
   "execution_count": null,
   "id": "7cfe73c1-a66b-463d-aba9-2630bf393563",
   "metadata": {},
   "outputs": [],
   "source": []
  }
 ],
 "metadata": {
  "kernelspec": {
   "display_name": "Python 3 (ipykernel)",
   "language": "python",
   "name": "python3"
  },
  "language_info": {
   "codemirror_mode": {
    "name": "ipython",
    "version": 3
   },
   "file_extension": ".py",
   "mimetype": "text/x-python",
   "name": "python",
   "nbconvert_exporter": "python",
   "pygments_lexer": "ipython3",
   "version": "3.10.1"
  }
 },
 "nbformat": 4,
 "nbformat_minor": 5
}
