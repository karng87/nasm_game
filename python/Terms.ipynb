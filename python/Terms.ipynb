{
 "cells": [
  {
   "cell_type": "markdown",
   "id": "3228af9a-f8bd-419c-9bd9-410ade92c89a",
   "metadata": {},
   "source": [
    "# Abbreviations\n",
    "> ## $\\color{red}{i.e.}$\n",
    ">> ### in other word, that is\n",
    "> ## $\\color{red}{e.g.}$\n",
    ">> ### for example\n",
    "> ## $\\color{red}{cf.}$\n",
    ">> ### compare to , see also\n",
    "> ## $\\color{red}{vs.}$\n",
    ">> ### versus\n",
    ">> ### against or in constrast to"
   ]
  },
  {
   "cell_type": "markdown",
   "id": "80b7cf05-a894-4579-89ed-d6e14095d48a",
   "metadata": {},
   "source": [
    "# Mathematical Symbols\n",
    "> ## definition\n",
    ">> ## $\\color{red}{:=},\\color{red}{\\overset{def}{=}},\\color{red}{\\equiv} $\n",
    ">>> ### the equal by definition sign\n",
    ">>> ### is equal by dfinition to \n"
   ]
  },
  {
   "cell_type": "markdown",
   "id": "cc41785f-3da5-440d-8a13-10314a67cb04",
   "metadata": {},
   "source": [
    "> ## such that\n",
    ">> ### $\\color{red}{|},\\; \\color{red}{:},\\; \\color{red}{\\ni},\\; \\color{red}{ \\backepsilon},\\; \\color{red}{s.t}$\n",
    ">>> ### under the condition that"
   ]
  },
  {
   "cell_type": "markdown",
   "id": "ccce8d14-4a05-42fd-8cdf-caa3089abae2",
   "metadata": {},
   "source": [
    "> ## implies\n",
    ">> ### $\\color{red}{\\implies}$\n",
    "> ## impied by\n",
    ">> ### $\\color{red}{\\impliedby}$"
   ]
  },
  {
   "cell_type": "markdown",
   "id": "b9d4220a-ec24-4dac-a793-a838d402b9f7",
   "metadata": {},
   "source": [
    "> ## iff\n",
    ">> ### $\\color{red}{\\iff}$\n",
    ">> ### if and only if\n",
    ">>> ### simulataneously\n",
    ">>> ### it's raining iff it's really humid\n",
    ">>>> ### it's raining implies the statement it's really hummid and vice versa"
   ]
  },
  {
   "cell_type": "markdown",
   "id": "c4052659-86be-4976-bd0c-84394242e529",
   "metadata": {},
   "source": [
    "> ## therefore and because\n",
    ">> ### $\\color{red}{\\therefore}\\; \\equiv\\; $ therefore\n",
    ">> ### $\\color{red}{\\because}\\; \\equiv\\; $ because"
   ]
  },
  {
   "cell_type": "markdown",
   "id": "c8e60e7f-234d-403e-9dd5-1492966562ab",
   "metadata": {},
   "source": [
    "# $\\color{red}{wrt}$\n",
    "> with respect to\n",
    ">> taking as independent varialbe\n"
   ]
  },
  {
   "cell_type": "code",
   "execution_count": 4,
   "id": "2d1847e2-f339-45b1-92a1-14d34b23d2b4",
   "metadata": {},
   "outputs": [
    {
     "data": {
      "application/javascript": [
       "MathJax.Extension[\"TeX/cancel\"]={version:\"2.4.0\",ALLOWED:{color:1,mathcolor:1,background:1,mathbackground:1,padding:1,thickness:1}};MathJax.Hub.Register.StartupHook(\"TeX Jax Ready\",function(){var c=MathJax.InputJax.TeX,a=MathJax.ElementJax.mml,b=MathJax.Extension[\"TeX/cancel\"];b.setAttributes=function(h,e){if(e!==\"\"){e=e.replace(/ /g,\"\").split(/,/);for(var g=0,d=e.length;g<d;g++){var f=e[g].split(/[:=]/);if(b.ALLOWED[f[0]]){if(f[1]===\"true\"){f[1]=true}if(f[1]===\"false\"){f[1]=false}h[f[0]]=f[1]}}}return h};c.Definitions.Add({macros:{cancel:[\"Cancel\",a.NOTATION.UPDIAGONALSTRIKE],bcancel:[\"Cancel\",a.NOTATION.DOWNDIAGONALSTRIKE],xcancel:[\"Cancel\",a.NOTATION.UPDIAGONALSTRIKE+\" \"+a.NOTATION.DOWNDIAGONALSTRIKE],cancelto:\"CancelTo\"}},null,true);c.Parse.Augment({Cancel:function(e,g){var d=this.GetBrackets(e,\"\"),f=this.ParseArg(e);var h=b.setAttributes({notation:g},d);this.Push(a.menclose(f).With(h))},CancelTo:function(e,g){var i=this.ParseArg(e),d=this.GetBrackets(e,\"\"),f=this.ParseArg(e);var h=b.setAttributes({notation:a.NOTATION.UPDIAGONALSTRIKE+\" \"+a.NOTATION.UPDIAGONALARROW},d);i=a.mpadded(i).With({depth:\"-.1em\",height:\"+.1em\",voffset:\".1em\"});this.Push(a.msup(a.menclose(f).With(h),i))}});MathJax.Hub.Startup.signal.Post(\"TeX cancel Ready\")});MathJax.Ajax.loadComplete(\"[MathJax]/extensions/TeX/cancel.js\");\n",
       "# latex usepackage\n",
       "# $$ \\reqire{mhchem}$$\n",
       "# $$ \\reuire{cancle}$$\n"
      ],
      "text/plain": [
       "<IPython.core.display.Javascript object>"
      ]
     },
     "metadata": {},
     "output_type": "display_data"
    }
   ],
   "source": [
    "%%javascript\n",
    "MathJax.Extension[\"TeX/cancel\"]={version:\"2.4.0\",ALLOWED:{color:1,mathcolor:1,background:1,mathbackground:1,padding:1,thickness:1}};MathJax.Hub.Register.StartupHook(\"TeX Jax Ready\",function(){var c=MathJax.InputJax.TeX,a=MathJax.ElementJax.mml,b=MathJax.Extension[\"TeX/cancel\"];b.setAttributes=function(h,e){if(e!==\"\"){e=e.replace(/ /g,\"\").split(/,/);for(var g=0,d=e.length;g<d;g++){var f=e[g].split(/[:=]/);if(b.ALLOWED[f[0]]){if(f[1]===\"true\"){f[1]=true}if(f[1]===\"false\"){f[1]=false}h[f[0]]=f[1]}}}return h};c.Definitions.Add({macros:{cancel:[\"Cancel\",a.NOTATION.UPDIAGONALSTRIKE],bcancel:[\"Cancel\",a.NOTATION.DOWNDIAGONALSTRIKE],xcancel:[\"Cancel\",a.NOTATION.UPDIAGONALSTRIKE+\" \"+a.NOTATION.DOWNDIAGONALSTRIKE],cancelto:\"CancelTo\"}},null,true);c.Parse.Augment({Cancel:function(e,g){var d=this.GetBrackets(e,\"\"),f=this.ParseArg(e);var h=b.setAttributes({notation:g},d);this.Push(a.menclose(f).With(h))},CancelTo:function(e,g){var i=this.ParseArg(e),d=this.GetBrackets(e,\"\"),f=this.ParseArg(e);var h=b.setAttributes({notation:a.NOTATION.UPDIAGONALSTRIKE+\" \"+a.NOTATION.UPDIAGONALARROW},d);i=a.mpadded(i).With({depth:\"-.1em\",height:\"+.1em\",voffset:\".1em\"});this.Push(a.msup(a.menclose(f).With(h),i))}});MathJax.Hub.Startup.signal.Post(\"TeX cancel Ready\")});MathJax.Ajax.loadComplete(\"[MathJax]/extensions/TeX/cancel.js\");\n",
    "# latex usepackage\n",
    "# $$ \\reqire{mhchem}$$\n",
    "# $$ \\reuire{cancle}$$"
   ]
  },
  {
   "cell_type": "code",
   "execution_count": null,
   "id": "fcec82f8-4709-4621-999d-4779fe5f9cf9",
   "metadata": {},
   "outputs": [],
   "source": []
  }
 ],
 "metadata": {
  "kernelspec": {
   "display_name": "Python 3 (ipykernel)",
   "language": "python",
   "name": "python3"
  },
  "language_info": {
   "codemirror_mode": {
    "name": "ipython",
    "version": 3
   },
   "file_extension": ".py",
   "mimetype": "text/x-python",
   "name": "python",
   "nbconvert_exporter": "python",
   "pygments_lexer": "ipython3",
   "version": "3.10.1"
  }
 },
 "nbformat": 4,
 "nbformat_minor": 5
}
