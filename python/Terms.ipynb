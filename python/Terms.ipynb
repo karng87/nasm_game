{
 "cells": [
  {
   "cell_type": "markdown",
   "id": "3228af9a-f8bd-419c-9bd9-410ade92c89a",
   "metadata": {},
   "source": [
    "# Abbreviations\n",
    "> ## $\\color{red}{i.e.}$\n",
    ">> ### in other word, that is\n",
    "> ## $\\color{red}{e.g.}$\n",
    ">> ### for example\n",
    "> ## $\\color{red}{cf.}$\n",
    ">> ### compare to , see also\n",
    "> ## $\\color{red}{vs.}$\n",
    ">> ### versus\n",
    ">> ### against or in constrast to"
   ]
  },
  {
   "cell_type": "markdown",
   "id": "80b7cf05-a894-4579-89ed-d6e14095d48a",
   "metadata": {},
   "source": [
    "# Mathematical Symbols\n",
    "> ## definition\n",
    ">> ## $\\color{red}{:=},\\color{red}{\\overset{def}{=}},\\color{red}{\\equiv} $\n",
    ">>> ### the equal by definition sign\n",
    ">>> ### is equal by dfinition to \n"
   ]
  },
  {
   "cell_type": "markdown",
   "id": "cc41785f-3da5-440d-8a13-10314a67cb04",
   "metadata": {},
   "source": [
    "> ## such that\n",
    ">> ### $\\color{red}{|},\\; \\color{red}{:},\\; \\color{red}{\\ni},\\; \\color{red}{ \\backepsilon},\\; \\color{red}{s.t}$\n",
    ">>> ### under the condition that"
   ]
  },
  {
   "cell_type": "markdown",
   "id": "ccce8d14-4a05-42fd-8cdf-caa3089abae2",
   "metadata": {},
   "source": [
    "> ## implies\n",
    ">> ### $\\color{red}{\\implies}$\n",
    "> ## impied by\n",
    ">> ### $\\color{red}{\\impliedby}$"
   ]
  },
  {
   "cell_type": "markdown",
   "id": "b9d4220a-ec24-4dac-a793-a838d402b9f7",
   "metadata": {},
   "source": [
    "> ## iff\n",
    ">> ### $\\color{red}{\\iff}$\n",
    ">> ### if and only if\n",
    ">>> ### simulataneously\n",
    ">>> ### it's raining iff it's really humid\n",
    ">>>> ### it's raining implies the statement it's really hummid and vice versa"
   ]
  },
  {
   "cell_type": "markdown",
   "id": "c4052659-86be-4976-bd0c-84394242e529",
   "metadata": {},
   "source": [
    "> ## therefore and because\n",
    ">> ### $\\color{red}{\\therefore}\\; \\equiv\\; $ therefore\n",
    ">> ### $\\color{red}{\\because}\\; \\equiv\\; $ because"
   ]
  },
  {
   "cell_type": "markdown",
   "id": "c8e60e7f-234d-403e-9dd5-1492966562ab",
   "metadata": {},
   "source": [
    "# $\\color{red}{wrt}$\n",
    "> with respect to\n",
    ">> taking as independent varialbe\n"
   ]
  },
  {
   "cell_type": "markdown",
   "id": "da7277d0-eadc-468f-8b0e-f92a0653e44c",
   "metadata": {},
   "source": [
    "# latex usepackage\n",
    "> ### $\\require{mhchem}\n",
    "\\ce{H2O}$\n",
    "> ### $ \\require{cancel}\n",
    "\\cancelto{0}{fx} \\quad \\bcancel{fx}, \\cancel{fx}, \\xcancel{fx}\n",
    "$"
   ]
  },
  {
   "cell_type": "markdown",
   "id": "ad969f51-d724-4b3c-a8cf-913f2ad47297",
   "metadata": {},
   "source": [
    "# $\\color{red}{\\text{Supuer Position}}$(중첩의 원리)\n",
    "> # $f(\\alpha x + \\beta y) = \\alpha f(x) + \\beta f(y)$"
   ]
  },
  {
   "cell_type": "markdown",
   "id": "cabb33f3-ecc7-4c5b-a991-08f6a34778f4",
   "metadata": {},
   "source": [
    "# Combining Linear Transformation\n",
    "> ### $ (fg)(x) = f(g(x)) $\n",
    "> ## $ ^{(fg)(\\alpha x + \\beta y)=\\alpha (fg)(x) + \\beta (fg)(y)}\n",
    "_{f(gh)= f(gh),f(g+h) = fg + fh}\n",
    "{\\huge\\color{red}{L^{com}_{T}}}\n",
    "^{(f+g)(x)=f(x)+g(x)}_{(f+g)(\\alpha x + \\beta y)=\\alpha (f+g)(x) + \\beta (f+g)(y)}$"
   ]
  },
  {
   "cell_type": "markdown",
   "id": "d6e9eefd-fbee-4bae-a756-3fc8355eb4ee",
   "metadata": {},
   "source": [
    "# Exteding Linear Transformation (Outermorphism)\n",
    "> ### $\n",
    "^{f(u\\wedge v)=f(u) \\wedge f(v),f(a \\wedge b + c \\wedge d) = f(a \\wedge b) + f(c \\wedge d)}\n",
    "_{f (\\lambda(u\\wedge u \\wedge w)) = \\lambda ( f(u) \\wedge f(v) \\wedge f(w))}\n",
    "{\\huge\\color{red}{\\wedge}}\n",
    "^{f(x\\wedge y \\wedge z) = \\lambda (x \\wedge y \\wedge z) \\iff \\lambda = \\frac{f(x\\wedge y \\wedge z)}{x \\wedge y \\wedge z} := det(f)}\n",
    "_{f(I) = det(f)I\\:\\therefore det(f) = f(I)I^{-1}}\n",
    "$"
   ]
  },
  {
   "cell_type": "code",
   "execution_count": null,
   "id": "20941593-39d7-46a7-ab38-26a656343bb5",
   "metadata": {},
   "outputs": [],
   "source": []
  }
 ],
 "metadata": {
  "kernelspec": {
   "display_name": "Python 3 (ipykernel)",
   "language": "python",
   "name": "python3"
  },
  "language_info": {
   "codemirror_mode": {
    "name": "ipython",
    "version": 3
   },
   "file_extension": ".py",
   "mimetype": "text/x-python",
   "name": "python",
   "nbconvert_exporter": "python",
   "pygments_lexer": "ipython3",
   "version": "3.10.2"
  }
 },
 "nbformat": 4,
 "nbformat_minor": 5
}
