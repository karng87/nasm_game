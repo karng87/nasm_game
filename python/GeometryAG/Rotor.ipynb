{
 "cells": [
  {
   "cell_type": "markdown",
   "id": "f1e00fb3-0314-4174-971a-3771b3145176",
   "metadata": {},
   "source": [
    "# $\\langle$ Rotor $\\rangle$\n",
    "> ## Rotor $=:$ geometric product of a number of unit vectors\n",
    "> ## reverse Rotor $=: R^{\\dagger}$ reverses order of Rotor\n",
    ">> ## inverse Rotor $=: R^{-1} \\iff R^{\\dagger}$ inverses of Rotor\n",
    ">> ### $\n",
    "|v|=|w|=1, R = wv \\iff R^{\\dagger} = vw \\\\\n",
    "\\because vwwv = wvvw = R^{\\dagger}R = RR^{\\dagger} = 1\\quad \\therefore R^{\\dagger} = R^{-1}\\\\\n",
    "\\therefore {^{R=wv}_{R^{\\dagger} = vw}{\\Large\\color{red}{g}}^{RuR^{\\dagger}}_{(wv)^{-1}u\\,(vw)}}$"
   ]
  },
  {
   "cell_type": "markdown",
   "id": "18183075-a52b-4a56-a37e-f6ece56888ba",
   "metadata": {},
   "source": [
    "## Dagger (conjugate Rotor, reverse Rotor, inverse Rotor)\n",
    "> ### $\n",
    "R^{\\dagger} = vw = w \\cdot w + v \\wedge w = |v||w|cos(\\frac{\\theta}{2}) + |v||w|sin(\\frac{\\theta}{2})B \\because B^2 = -1 \\\\\n",
    "R^{\\dagger}= cos(\\frac{\\theta}{2}) + sin(\\frac{\\theta}{2})B = e^{\\frac{\\theta}{2}B}\\\\\n",
    "R = cos(\\frac{\\theta}{2}) - sin(\\frac{\\theta}{2})B = e^{-\\frac{\\theta}{2}B}\n",
    "$"
   ]
  },
  {
   "cell_type": "markdown",
   "id": "9a7ca462-d08b-43b7-9afd-5afaff4ae91e",
   "metadata": {},
   "source": [
    "> ### $\n",
    "R = e^{\\theta\\hat{B}}\\\\\n",
    "R^{\\dagger} = e^{-\\theta\\hat{B}} \\\\\n",
    "R^s = e^{s\\theta\\hat{B}}\\\\\n",
    "R^{s\\dagger} = e^{-s\\theta\\hat{B}} \\\\\n",
    "R^{\\dagger\\dagger} = R \\\\ \n",
    "(R_1R_2)^{\\dagger} = R_2^{\\dagger}R_1^{\\dagger} \\\\\n",
    "\\quad R_1 = ab, R_2 = cd, (abcd)^{\\dagger} = dcba = R_2^{\\dagger}R_1^{\\dagger}\n",
    "$"
   ]
  },
  {
   "cell_type": "code",
   "execution_count": null,
   "id": "02fc379e-1045-4b18-84ba-40d9ba79d98b",
   "metadata": {},
   "outputs": [],
   "source": []
  },
  {
   "cell_type": "markdown",
   "id": "e8178a58-37f7-4a96-968a-a4de9ff2254d",
   "metadata": {},
   "source": [
    "# $\\mathbb {C}$\n",
    "> ### $ (a+bi)i = ai - b \\iff i(a+bi) = ai -b $\n",
    ">> ### i is not a bivector \n",
    "> # $ ^{(cos\\theta \\,+\\, i\\,sin\\theta)z}_{z_1z_2 = z_2z_1}{\\Large \\color{red}{z}}^{z(cos\\theta \\,+\\, i\\,sin\\theta)}_{ze^{\\theta\\,i}=e^{i\\theta}z}$"
   ]
  },
  {
   "cell_type": "markdown",
   "id": "29efcbc0-a3cb-49ea-8504-8ee78d7a5ca8",
   "metadata": {},
   "source": [
    "# $G_{(\\mathbb{R}^2)}$\n",
    "> ## $\\mathbb{G}_2 = \\{1, e_1, e_2, e_1e_2 \\}$\n",
    "> ## $ uv = u \\cdot v + u \\wedge v , \\ni u, v \\in vector$\n",
    ">> ## $ vu = v \\cdot u + v \\wedge u$\n",
    ">> ## $ vu = u \\cdot v - u \\wedge v$\n",
    ">>> ### $ u \\cdot v = \\frac{1}{2}(uv + vu)$\n",
    ">>> ### $ u \\wedge v = \\frac{1}{2}(uv - vu)$\n",
    ">>> ### $ uu = u \\cdot u  + 0(u \\wedge u)= |u|^2$\n",
    ">>> ### $ u^{-1} = \\frac{u}{|u|^2}$\n",
    ">>> ### $ u \\parallel v \\to uv = vu = u \\cdot u  + 0(u \\wedge v)= u \\cdot v$\n",
    ">>> ### $ u \\perp v \\to uv = -vu = 0(u \\cdot u)  + (u \\wedge v)= u \\wedge v$\n",
    "> ## s = scalar(grade 0)\n",
    ">> ### $s^{-1} = \\frac{1}{s}, \\quad \\because s\\frac{1}{s} = 1$\n",
    "> ## v = vecotr(grade 1)\n",
    ">> ### $v^{-1} = \\frac{v}{|v|^2} =  \\frac{v}{v\\cdot v} , \\quad \\because v \\frac{v}{|v|^2} = 1$\n",
    "> ## B = bivector(pseudo scalar)(grade 2)\n",
    ">> ### $ B^{-1} = -B = -e_1e_2, \\quad \\because B(-B) = -BB = -e_1e_2e_1e_2 = 1$\n",
    "> # $ \n",
    "^{v(cos\\theta \\,+\\, e_1e_2\\,sin\\theta)}\n",
    "_{u\\wedge v = \\frac{1}{2}(uv - vu)}\n",
    "{\\Large \\color{red}{g}}\n",
    "^{v(cos\\theta \\,+\\, e_1e_2\\,sin\\theta)}\n",
    "_{ve^{\\theta e_1e_2}=-e^{e_1e_2\\theta}v}$\n",
    "> # $ \n",
    "^{v(cos\\theta \\,+\\, I\\,sin\\theta)}\n",
    "_{u\\cdot v = \\frac{1}{2}(uv + vu)}\n",
    "{\\Large \\color{red}{g}}\n",
    "^{v(cos\\theta \\,+\\, I\\,sin\\theta)}\n",
    "_{ve^{\\theta I}=-e^{I\\theta}v}$"
   ]
  },
  {
   "cell_type": "code",
   "execution_count": null,
   "id": "8d97f342-811d-4031-90a8-a60400b78c2d",
   "metadata": {},
   "outputs": [],
   "source": []
  }
 ],
 "metadata": {
  "kernelspec": {
   "display_name": "Python 3 (ipykernel)",
   "language": "python",
   "name": "python3"
  },
  "language_info": {
   "codemirror_mode": {
    "name": "ipython",
    "version": 3
   },
   "file_extension": ".py",
   "mimetype": "text/x-python",
   "name": "python",
   "nbconvert_exporter": "python",
   "pygments_lexer": "ipython3",
   "version": "3.10.1"
  }
 },
 "nbformat": 4,
 "nbformat_minor": 5
}
