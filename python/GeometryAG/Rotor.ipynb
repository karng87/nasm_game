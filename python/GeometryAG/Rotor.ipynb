{
 "cells": [
  {
   "cell_type": "markdown",
   "id": "f1e00fb3-0314-4174-971a-3771b3145176",
   "metadata": {},
   "source": [
    "# Rotor\n",
    "> ## Rotor $=:$ geometric product of a number of unit vectors\n",
    "> ## reverse Rotor $=: R^{\\dagger}$ reverses order of Rotor\n",
    ">> ## inverse Rotor $=: R^{-1} \\iff R^{\\dagger}$ inverses of Rotor\n",
    ">> ### $\n",
    "|v|=|w|=1, R = wv \\iff R^{\\dagger} = vw \\\\\n",
    "\\because vwwv = wvvw = R^{\\dagger}R = RR^{\\dagger} = 1\\quad \\therefore R^{\\dagger} = R^{-1}\\\\\n",
    "\\therefore {^{R=wv}_{R^{\\dagger} = vw}{\\Large\\color{red}{g}}^{RuR^{\\dagger}}_{(wv)^{-1}u\\,(vw)}}$"
   ]
  },
  {
   "cell_type": "markdown",
   "id": "18183075-a52b-4a56-a37e-f6ece56888ba",
   "metadata": {},
   "source": [
    "> ### $\n",
    "R^{\\dagger} = vw = w \\cdot w + v \\wedge w = |v||w|cos(\\frac{\\theta}{2}) + |v||w|sin(\\frac{\\theta}{2})B \\because B^2 = -1 \\\\\n",
    "R^{\\dagger}= cos(\\frac{\\theta}{2}) + sin(\\frac{\\theta}{2})B = e^{\\frac{\\theta}{2}B}\\\\\n",
    "R = cos(\\frac{\\theta}{2}) - sin(\\frac{\\theta}{2})B = e^{-\\frac{\\theta}{2}B}\n",
    "$"
   ]
  },
  {
   "cell_type": "code",
   "execution_count": null,
   "id": "7f2652b0-ba46-4350-956b-f373ae3fb910",
   "metadata": {},
   "outputs": [],
   "source": []
  }
 ],
 "metadata": {
  "kernelspec": {
   "display_name": "Python 3 (ipykernel)",
   "language": "python",
   "name": "python3"
  },
  "language_info": {
   "codemirror_mode": {
    "name": "ipython",
    "version": 3
   },
   "file_extension": ".py",
   "mimetype": "text/x-python",
   "name": "python",
   "nbconvert_exporter": "python",
   "pygments_lexer": "ipython3",
   "version": "3.10.1"
  }
 },
 "nbformat": 4,
 "nbformat_minor": 5
}
