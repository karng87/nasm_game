{
 "cells": [
  {
   "cell_type": "code",
   "execution_count": null,
   "id": "f0e1ca84-2ca7-4e3b-a601-faf6eec52fb1",
   "metadata": {},
   "outputs": [
    {
     "data": {
      "text/latex": [
       "$\\displaystyle \\left[\\begin{matrix}2\\\\2\\end{matrix}\\right]$"
      ],
      "text/plain": [
       "Matrix([\n",
       "[2],\n",
       "[2]])"
      ]
     },
     "execution_count": 3,
     "metadata": {},
     "output_type": "execute_result"
    }
   ],
   "source": [
    "# 3x + 2y = 1jj0\n",
    "# x + 3y = 8\n",
    "import sympy as sm\n",
    "sm.Matrix([[3,2],[1,3]]).inv()*sm.Matrix([10,8])"
   ]
  },
  {
   "cell_type": "markdown",
   "id": "5daeecec-3438-47e1-923f-48909adf894e",
   "metadata": {},
   "source": [
    "---\n",
    "# $\\color{red}{\\text{differential coefficiant}}$ is the $\\color{magenta}{\\text {cause effect}}$\n",
    "> ### wrt (with respect to)\n",
    "> ### $1x =: B, \\quad x = y $\n",
    ">> ### the base system $B_1$ of the unit 1\n",
    ">> ### $\\because 1 $ is Identy of system\n",
    "> ### $Ax =: N, \\quad f: N \\mapsto B $ \n",
    ">>###  $\\left [\\begin{array}{}1 \\\\ 0 \\\\ 0 \\end{array}\\right]  \\color{magenta}{\\text{ x wrt the N}}$\n",
    ">>###  $A$ is the constant of trasmfomration $\\left [\\begin{array}{}A & 0 & 0 \\end{array}\\right ]$ , differential coefficient\n",
    ">>> ###  with  respect to the N system \n",
    ">>> ### $Ax = 3,\\; A = 4$  \n",
    ">>>> 이것은 임무를 수행하는 구체적인 값을 찾는것이다.\n",
    ">>>> ### $4 = \\text{ the cause constant from } f, \\; x = \\text{ wrt } N, \\; 3 = \\text {wrt } B$\n",
    "> $ A^{-1}x = A^{-1}N, \\quad f^{-1} : B \\mapsto N $ \n",
    ">> ### now $\\color{magenta}{\\text{ x wrt B}}$\n",
    "> ### $x = \\frac{N}{A} $ 'basis system wrt system y'\n",
    ">> ### with respect to y system"
   ]
  },
  {
   "cell_type": "markdown",
   "id": "003908fc-a04d-481d-ab23-0e3b8161c58c",
   "metadata": {},
   "source": [
    "---\n",
    "# $ax + by =: N$\n",
    "> ### $\n",
    "x \\text{ is wrt } N_x \\\\\n",
    "y \\text{ is wrt } N_y \\\\\n",
    "\\text{the result is wrt } B_x + B_y \\\\\n",
    "a = \\text{the differential coefficient cause of N_x } \\\\\n",
    "b = \\text{the differential coefficient cause of N_y }\n",
    "\\left [ \\begin{array}{}\n",
    "a & b\n",
    "\\end{array} \\right ] \n",
    "\\left [ \\begin{array}{}\n",
    "x \\\\ y\n",
    "\\end{array} \\right ] \n",
    "= \\left [ \\begin{array}{}\n",
    "x' \\\\ y'\n",
    "\\end{array} \\right ]  $"
   ]
  },
  {
   "cell_type": "markdown",
   "id": "59c68092-eb98-445a-9dd1-575372d3a4d2",
   "metadata": {},
   "source": [
    "---\n",
    "# $ax + by =: N$\n",
    "# $cx + dy =: N$\n",
    "> ### $\n",
    "x \\text{ is wrt } N_x \\\\\n",
    "y \\text{ is wrt } N_y \\\\\n",
    "\\text{the result is wrt } B_x + B_y \\\\\n",
    "a = \\text{the differential coefficient cause of N_x } \\\\\n",
    "b = \\text{the differential coefficient cause of N_y } \\\\\n",
    "c = \\text{the differential coefficient cause of N_x } \\\\\n",
    "d = \\text{the differential coefficient cause of N_y }\\\\\n",
    "\\left [ \\begin{array}{}\n",
    "a & b \\\\ c & d\n",
    "\\end{array} \\right ] \n",
    "\\left [ \\begin{array}{}\n",
    "x \\\\ y\n",
    "\\end{array} \\right ] \n",
    "= \\left [ \\begin{array}{}\n",
    "x' \\\\ y'\n",
    "\\end{array} \\right ] \n",
    "\\\\ \n",
    "\\left [ \\begin{array}{}\n",
    "a & b \\\\ c & d\n",
    "\\end{array} \\right ]^{-1}\n",
    "\\left [ \\begin{array}{}\n",
    "x \\\\ y\n",
    "\\end{array} \\right ] \n",
    "=\n",
    "\\left [ \\begin{array}{}\n",
    "a & b \\\\ c & d\n",
    "\\end{array} \\right ]^{-1}\n",
    "\\left [ \\begin{array}{}\n",
    "x' \\\\ y'\n",
    "\\end{array} \\right ] \n",
    "\\\\ \n",
    "\\left [ \\begin{array}{}\n",
    "1 & 0 \\\\ 0 & 1\n",
    "\\end{array} \\right ]\n",
    "\\left [ \\begin{array}{}\n",
    "x \\\\ y\n",
    "\\end{array} \\right ] \n",
    "=\n",
    "\\left [ \\begin{array}{}\n",
    "a & b \\\\ c & d\n",
    "\\end{array} \\right ]^{-1}\n",
    "\\left [ \\begin{array}{}\n",
    "x' \\\\ y'\n",
    "\\end{array} \\right ] \n",
    "\\\\ \n",
    "\\left [ \\begin{array}{}\n",
    "x \\\\ y\n",
    "\\end{array} \\right ] \n",
    "=\n",
    "\\left [ \\begin{array}{}\n",
    "a & b \\\\ c & d\n",
    "\\end{array} \\right ]^{-1}\n",
    "\\left [ \\begin{array}{}\n",
    "x' \\\\ y'\n",
    "\\end{array} \\right ] \n",
    "$"
   ]
  },
  {
   "cell_type": "markdown",
   "id": "d7d38ad8-bdd1-4e60-b1b8-6f63dea28de1",
   "metadata": {},
   "source": [
    "# Matrix\n",
    "$$\\require{mhchem}$$ \n",
    "> ### $\n",
    "_{\\big(scalar\\big)}^{\\big(vectors\\big)}b^{\\big(bivectors\\big)}_{\\big(trivectors\\big)}\\\\\n",
    "s \\in \\mathbb R \\\\\n",
    "\\ce{B_{basis}} \\; \\Big\\{e_1, e_2,e_3 \\Big\\} \n",
    "= \n",
    "\\ce {_{(s)}^{$(e_1,e_2,e_3)$}q^{$(e_1e_2,e_2e_2,e_3e_1)$}_{$(e_1e_2e_3)$}} \\\\\n",
    "\\vec{v} = v_1e_1 + v_2e_2 + v_3e_3, \\quad v_1,v_2,v_3 \\in \\mathbb R \\\\\n",
    "\\ce {^{$\\big(v_1f(e_1),v_2f(e_2),v_3f(e_3)\\big)$}f^{$\\big(e_1,e_2,e_3\\big)$}} \\\\\n",
    "$\n"
   ]
  },
  {
   "cell_type": "code",
   "execution_count": 6,
   "id": "69ecd87d-eff0-4995-99ee-5fb84cd10c6c",
   "metadata": {},
   "outputs": [
    {
     "data": {
      "text/latex": [
       "$\\displaystyle \\left[\\begin{matrix}\\frac{d}{a d - b c} & - \\frac{b}{a d - b c}\\\\- \\frac{c}{a d - b c} & \\frac{a}{a d - b c}\\end{matrix}\\right]$"
      ],
      "text/plain": [
       "Matrix([\n",
       "[ d/(a*d - b*c), -b/(a*d - b*c)],\n",
       "[-c/(a*d - b*c),  a/(a*d - b*c)]])"
      ]
     },
     "execution_count": 6,
     "metadata": {},
     "output_type": "execute_result"
    }
   ],
   "source": [
    "a,b,c,d = sm.symbols('a b c d')\n",
    "A = sm.Matrix([[a,b],[c,d]])\n",
    "A.inv()"
   ]
  },
  {
   "cell_type": "code",
   "execution_count": 77,
   "id": "09a213a4-0009-4733-b2a2-56672a09db7f",
   "metadata": {},
   "outputs": [
    {
     "data": {
      "text/latex": [
       "$\\displaystyle -  b_{2} \\left(2 a_{1} b_{2} - 2 a_{2} b_{1}\\right)\\mathbf{\\hat{n}_x} + b_{1} \\left(2 a_{1} b_{2} - 2 a_{2} b_{1}\\right)\\mathbf{\\hat{n}_y}$"
      ],
      "text/plain": [
       "- b_2*(2*a_1*b_2 - 2*a_2*b_1)*N.x + b_1*(2*a_1*b_2 - 2*a_2*b_1)*N.y"
      ]
     },
     "execution_count": 77,
     "metadata": {},
     "output_type": "execute_result"
    }
   ],
   "source": [
    "import sympy.physics.vector\n",
    "B = sm.physics.vector.ReferenceFrame('B')\n",
    "N = sm.physics.vector.ReferenceFrame('N')\n",
    "C = sm.physics.vector.ReferenceFrame('N')\n",
    "a1,a2, b1,b2, c1, c2 = sm.symbols('a_1:3 b_1:3 c_1:3 ')\n",
    "# vectors\n",
    "# N.x N.y N.z\n",
    "# & dot product\n",
    "# ^ wedge product\n",
    "# | geometric product\n",
    "# a1 N.x + b1 N.y = c1 B.x\n",
    "# a2 N.x + b2 N.y = c2 B.y\n",
    "## to column picture\n",
    "# N.x[a1,a2] + N.y[b1,b2] = [c1,c2]\n",
    "kkk\n",
    "a = a1*C.x + a2*C.y\n",
    "b = b1*C.x + b2*C.y\n",
    "c = c1*C.x + c2*C.y\n",
    "# aX + bY = c\n",
    "# (Xa + Yb)^b = c^b\n",
    "#  X(a^b) + Y(b^b)= c^b\n",
    "# X(a^b)= c^b\n",
    "\n",
    "((a+b)|b).to_matrix(C)\n",
    "a^b + b^b"
   ]
  },
  {
   "cell_type": "code",
   "execution_count": 78,
   "id": "74adad0b-2f72-42e2-9d2d-b2b546826f88",
   "metadata": {},
   "outputs": [
    {
     "data": {
      "text/latex": [
       "$\\displaystyle (- b_{1} c_{2} + b_{2} c_{1})\\mathbf{\\hat{n}_z}$"
      ],
      "text/plain": [
       "(-b_1*c_2 + b_2*c_1)*N.z"
      ]
     },
     "execution_count": 78,
     "metadata": {},
     "output_type": "execute_result"
    }
   ],
   "source": [
    "c^b"
   ]
  },
  {
   "cell_type": "code",
   "execution_count": null,
   "id": "ec5652bd-0152-43f3-816c-1156181d09ff",
   "metadata": {},
   "outputs": [],
   "source": []
  }
 ],
 "metadata": {
  "kernelspec": {
   "display_name": "Python 3 (ipykernel)",
   "language": "python",
   "name": "python3"
  },
  "language_info": {
   "codemirror_mode": {
    "name": "ipython",
    "version": 3
   },
   "file_extension": ".py",
   "mimetype": "text/x-python",
   "name": "python",
   "nbconvert_exporter": "python",
   "pygments_lexer": "ipython3",
   "version": "3.10.1"
  }
 },
 "nbformat": 4,
 "nbformat_minor": 5
}
