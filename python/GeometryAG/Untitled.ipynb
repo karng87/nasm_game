{
 "cells": [
  {
   "cell_type": "code",
   "execution_count": 1,
   "id": "9b427a39-e0bd-42e7-aa9d-64450212b44b",
   "metadata": {},
   "outputs": [
    {
     "data": {
      "text/plain": [
       "[<matplotlib.lines.Line2D at 0x7f5cdf57f190>]"
      ]
     },
     "execution_count": 1,
     "metadata": {},
     "output_type": "execute_result"
    },
    {
     "data": {
      "image/png": "[encoded data removed]",
      "text/plain": [
       "<Figure size 432x288 with 1 Axes>"
      ]
     },
     "metadata": {
      "needs_background": "light"
     },
     "output_type": "display_data"
    }
   ],
   "source": [
    "import matplotlib.pyplot as plt\n",
    "import numpy as np\n",
    "ax = plt.figure().add_subplot()\n",
    "ax.set_aspect('equal',adjustable='box')\n",
    "ax.spines['left'].set_position('center')\n",
    "ax.spines['bottom'].set_position('center')\n",
    "ax.set_xticks(np.arange(-5,5,1))\n",
    "ax.set_yticks(np.arange(-5,5,1))\n",
    "ax.set_xlim(xmin=-5,xmax=5)\n",
    "ax.set_ylim(ymin=-5,ymax=5)\n",
    "ax.grid()\n",
    "ax.quiver(0,0,2,2,color='b',scale=1,units='xy')\n",
    "ax.quiver(0,0,5,0,color='r',scale=1,units='xy')\n",
    "ax.quiver(0,0,2,-2,color='r',scale=1,units='xy')\n",
    "ax.plot([2,2],[-2,2])\n"
   ]
  },
  {
   "cell_type": "markdown",
   "id": "0e88ccda-73c3-43ae-b006-51e17cbef5d0",
   "metadata": {},
   "source": [
    "# G(2): 2D Geometric Aglebra\n",
    "> ### $\n",
    "\\text{scalars (grade 0) } : \\text{ scalar} \\\\\n",
    "\\text{vectos (grade 1) } : \\vec{e_1}, \\; \\vec{e_2} \\quad |\\; v^2 = 1 \\\\\n",
    "\\text{bivectors (grade 2) } : \\vec{e_1} \\vec{e_2}, \\quad | \\; B^{2} = -1,  B \\text{ is bivectors} \\therefore B = I\n",
    "$"
   ]
  },
  {
   "cell_type": "markdown",
   "id": "820679a0-0c90-4ed5-a62e-838882032a0d",
   "metadata": {
    "tags": []
   },
   "source": [
    "> ### geometric production \n",
    ">> ### $\n",
    "^ag = (s, v, B)=(s_a, v_{a_{1}}\\vec{e_1}, v_{a_{2}}\\vec{e_2}, B ) = (^ag^{s} + ^ag^{v}) \\\\\n",
    "^bg = (s, v, B)=(s_b, v_{b_{1}}\\vec{e_1}, v_{b_{2}}\\vec{e_2}, B ) = (^bg^{s} + ^bg^{v}) \\\\\n",
    "^ag\\; ^bg =  \\begin{cases} \n",
    "s_a s_b + v_{a_1}v_{b_1} + v_{a_2}v_{b_2} \\\\\n",
    "(s_av_{b_1} + s_b v_{a_1}) \\vec{e_1} \\\\\n",
    "(s_bv_{b_2} + s_b v_{a_2}) \\vec{e_2} \\\\\n",
    "v_{a_1}v_{b_2} \\vec{e_1}\\vec{e_2} \\\\\n",
    "v_{a_2} v_{b_1} \\vec{e_2}\\vec{e_1} \\\\\n",
    "\\end{cases}\n",
    "$ "
   ]
  },
  {
   "cell_type": "markdown",
   "id": "cb79c403-16c5-484e-a19b-a1118b7e65a2",
   "metadata": {},
   "source": [
    "> ### $\n",
    "^ag\\; ^bg =  \\begin{cases} \n",
    "v_{a_1}v_{b_1} + v_{a_2}v_{b_2} =:\\; ^ag \\, \\cdot \\, ^bg \\\\\n",
    "\\left . \\begin{array}{}\n",
    "v_{a_1}v_{b_2} \\vec{e_1}\\vec{e_2} \\\\\n",
    "v_{a_2} v_{b_1} \\vec{e_2}\\vec{e_1} \\\\\n",
    "\\end{array} \\right \\} =:\\;  ^ag \\, \\wedge \\, ^bg\n",
    "\\end{cases}\n",
    "$"
   ]
  },
  {
   "cell_type": "markdown",
   "id": "5994eb37-ba52-41f4-ad16-cdce17bfd4a5",
   "metadata": {},
   "source": [
    "> ### $ \\therefore\n",
    "^ag\\; ^bg = \\Big( v_{a_1}v_{b_1} + v_{a_2}v_{b_2} \\Big) + \\Big( v_{a_1}v_{b_2} \\vec{e_1}\\vec{e_2} +  v_{a_2} v_{b_1} \\vec{e_2}\\vec{e_1} \\Big)\\\\\n",
    " =\\, ^ag \\, \\cdot \\, ^bg \\, + \\, ^ag \\, \\wedge \\, ^bg\n",
    "$"
   ]
  },
  {
   "cell_type": "markdown",
   "id": "d5f9823c-3275-49d1-b64a-39ae5b7a6bb6",
   "metadata": {},
   "source": [
    "# G(3): 3D Geometric Aglebra\n",
    "> ### $\n",
    "\\text{scalars (grade 0) } : \\text{ scalar} \\\\\n",
    "\\text{vectors (grade 1) } : \\vec{e_1}, \\; \\vec{e_2}, \\; \\vec{e_3} \\quad |\\; v^2 = 1 \\\\\n",
    "\\text{bivectors (grade 2) } : \\vec{e_1} \\vec{e_2},\\, \\vec{e_2}\\vec{e_3},\\, \\vec{e_3}\\vec{e_1}\\quad | \\; B^{2} = -1,  B \\text{ is bivectors} \\\\\n",
    "\\therefore e_1e_2, e_2e3, e_3e_1 = I, \\\\\n",
    "\\therefore e_1e_2 = -e_2e_1,\\quad  e_2e_3 = -e_3e_2, \\quad e_3e_1 = -e_1e_3 \\\\\n",
    "\\text{trivectors (grade 3 } : \\vec{e_1}\\vec{e_2} \\vec{e_3} \\quad |\\; T^3 = -1 \\\\\n",
    "\\therefore T = I\n",
    "$"
   ]
  },
  {
   "cell_type": "markdown",
   "id": "ce291e25-55b0-4bc3-9ffd-65ad0095fdca",
   "metadata": {},
   "source": [
    "## properties\n",
    "> ### $\n",
    "e_1e_2e_3 = e_1 \\wedge e_2 \\wedge e_3 \\because (e_1, e_2, e_3) = \\; \\perp (e_1 \\cdot e_2 \\cdot e_3 = 0) \\\\\n",
    "e_1e_2e_3 = -e_2 \\wedge e_1 \\wedge e_3 =  e_2\\wedge e_3\\wedge e_1 = e_3e_1e_2 \\\\\n",
    "\\therefore e_1e_2e_3 = e_2e_3e_1 = e_3e_2e_1 \\\\\n",
    "^1g ^2g = \\; ^1g \\; \\cdot\\; ^2g\n",
    "$"
   ]
  },
  {
   "cell_type": "code",
   "execution_count": null,
   "id": "d6ec09ed-f79c-4fa9-b100-5a43b1cd4707",
   "metadata": {},
   "outputs": [],
   "source": []
  }
 ],
 "metadata": {
  "kernelspec": {
   "display_name": "Python 3 (ipykernel)",
   "language": "python",
   "name": "python3"
  },
  "language_info": {
   "codemirror_mode": {
    "name": "ipython",
    "version": 3
   },
   "file_extension": ".py",
   "mimetype": "text/x-python",
   "name": "python",
   "nbconvert_exporter": "python",
   "pygments_lexer": "ipython3",
   "version": "3.10.1"
  }
 },
 "nbformat": 4,
 "nbformat_minor": 5
}
