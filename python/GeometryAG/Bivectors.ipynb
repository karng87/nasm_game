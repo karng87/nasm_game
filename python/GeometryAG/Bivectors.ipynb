{
 "cells": [
  {
   "cell_type": "markdown",
   "id": "4d34fbb0-f377-4d70-b58a-5deedaababa4",
   "metadata": {},
   "source": [
    "> ## $ ^{B+B}_{(e_1 + e_2) \\wedge e_3 + e_1 \\wedge e_2}{\\Large\\color{red}{g}}^{e_1 \\wedge e_2 = (e_1 + e_2)\\wedge e_2}_{(e_1 + e_2)\\wedge_3 + (e_1 + e_2)\\wedge e_2} $\n",
    "\n",
    "> ## $ ^{B}_{ae_1e_2 + be_2e_3 + ce_3e_1}{\\Large\\color{red}{g}}^{ae_1 \\wedge e_2 - be_3\\wedge e_2 - ce_1 \\wedge e_3}_{(ae_1-be_3)\\wedge e_2 - ce_1 \\wedge e_3}\n",
    "\\\\ \n",
    "\\quad \\because  \\; ^{ce_1 \\wedge e_3}_{\\frac{a}{a}(c e_1) \\wedge e_3}{\\Large\\color{red}{g}}^{\\frac{c}{a}(ae_1) \\wedge e_3}_{\\frac{a}{c}(ae_1 - be_3)\\wedge e_3)} \\\\\n",
    "^{(ae_1 - be_3) \\wedge e_2 - ce_1 \\wedge e_3}_{(ae_1 - be_3) \\wedge e_2 - \\frac{c}{a}(ae_1 - be_3) \\wedge e_3}\n",
    "{\\Large\\color{red}{g}}^\n",
    "{(ae_1 - be_3) \\wedge (e_2 - \\frac{c}{a}e_3)}_{2(ae_1 - be_3) \\wedge \\frac{1}{2}(e_2 - \\frac{c}{a}e_3)}$"
   ]
  },
  {
   "cell_type": "markdown",
   "id": "6b1f0d18-79d3-4a68-a776-7162564f6750",
   "metadata": {},
   "source": [
    "---\n",
    "> ### $B^2$\n",
    ">> ### $\n",
    "B = ae_1e_2 + be_2e_3 + ce_3e_1 \\\\\n",
    "B^2 = -(a^2 + b^2 + c^2) \\\\\n",
    "\\therefore |B|^2 = -B^2 = a^2 + b^2 + c^2 \\\\\n",
    "|B| = 1 \\iff B^2 = -1 \\\\\n",
    "\\hat{B} = \\frac{1}{|B|}\\big( ae_1e_2 + be_2e_3 + ce^3e_1 \\big)\n",
    "$"
   ]
  },
  {
   "cell_type": "markdown",
   "id": "eb7e3e19-07c4-44b6-99a2-89f4466d2abc",
   "metadata": {},
   "source": [
    ">> ### $\n",
    "B = e_1e_2 + e_2e_3 - e_3e_1 \\implies B^2 = -3 \\to |B|^2 = 3, |B| = \\sqrt{3}\\\\\n",
    "\\therefore \\hat{B} = \\frac{1}{\\sqrt{3}}\\Big(e_1e_2 + e_2e_3 - e_3e_1 \\Big)\n",
    "$"
   ]
  },
  {
   "cell_type": "code",
   "execution_count": null,
   "id": "9d94c7c0-14f3-4a96-b319-53a190123b89",
   "metadata": {},
   "outputs": [],
   "source": []
  }
 ],
 "metadata": {
  "kernelspec": {
   "display_name": "Python 3 (ipykernel)",
   "language": "python",
   "name": "python3"
  },
  "language_info": {
   "codemirror_mode": {
    "name": "ipython",
    "version": 3
   },
   "file_extension": ".py",
   "mimetype": "text/x-python",
   "name": "python",
   "nbconvert_exporter": "python",
   "pygments_lexer": "ipython3",
   "version": "3.10.1"
  }
 },
 "nbformat": 4,
 "nbformat_minor": 5
}
