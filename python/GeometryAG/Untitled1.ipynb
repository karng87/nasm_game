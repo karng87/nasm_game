{
 "cells": [
  {
   "cell_type": "code",
   "execution_count": 46,
   "id": "825f572e-7b83-4ae3-96b6-93a422fd1955",
   "metadata": {},
   "outputs": [
    {
     "data": {
      "text/plain": [
       "(e_x, e_y, e_z)"
      ]
     },
     "execution_count": 46,
     "metadata": {},
     "output_type": "execute_result"
    }
   ],
   "source": [
    "import sympy as sm\n",
    "from galgebra.ga import Ga\n",
    "import IPython as IPy\n",
    "xyz = (x,y,z) = sm.symbols('x y z',real=True)\n",
    "o3d = Ga('e_x e_y e_z', g=[1,1,1], coords=xyz)\n",
    "o3d.grad\n",
    "o3d.g\n",
    "o3d.mv('S', 'scalar')\n",
    "o3d.mv('V', 'vector')\n",
    "o3d.mv('B', 'bivector')\n",
    "o3d.mv('I', 'pseudo')\n",
    "o3d.mv()"
   ]
  },
  {
   "cell_type": "code",
   "execution_count": 22,
   "id": "7ffd8a58-bdad-48e8-a504-ff49d1576bec",
   "metadata": {},
   "outputs": [
    {
     "data": {
      "text/latex": [
       "$\\displaystyle y= x^2$"
      ],
      "text/plain": [
       "<IPython.core.display.Math object>"
      ]
     },
     "execution_count": 22,
     "metadata": {},
     "output_type": "execute_result"
    }
   ],
   "source": [
    "sm.S('n')**2\n",
    "IPy.display.Math(f\"y= x^2\")"
   ]
  },
  {
   "cell_type": "code",
   "execution_count": 24,
   "id": "8637db1a-5afb-4050-9493-bfa0bdbd0f72",
   "metadata": {},
   "outputs": [
    {
     "ename": "AttributeError",
     "evalue": "module 'galgebra' has no attribute 'ga'",
     "output_type": "error",
     "traceback": [
      "\u001b[0;31m---------------------------------------------------------------------------\u001b[0m",
      "\u001b[0;31mAttributeError\u001b[0m                            Traceback (most recent call last)",
      "\u001b[0;32m/tmp/ipykernel_10569/2700022413.py\u001b[0m in \u001b[0;36m<module>\u001b[0;34m\u001b[0m\n\u001b[1;32m      1\u001b[0m \u001b[0mxyz\u001b[0m \u001b[0;34m=\u001b[0m \u001b[0;34m(\u001b[0m\u001b[0mx\u001b[0m\u001b[0;34m,\u001b[0m\u001b[0my\u001b[0m\u001b[0;34m,\u001b[0m\u001b[0mz\u001b[0m\u001b[0;34m)\u001b[0m \u001b[0;34m=\u001b[0m \u001b[0msm\u001b[0m\u001b[0;34m.\u001b[0m\u001b[0msymbols\u001b[0m\u001b[0;34m(\u001b[0m\u001b[0;34m'x y z'\u001b[0m\u001b[0;34m,\u001b[0m\u001b[0mreal\u001b[0m\u001b[0;34m=\u001b[0m\u001b[0;32mTrue\u001b[0m\u001b[0;34m)\u001b[0m\u001b[0;34m\u001b[0m\u001b[0;34m\u001b[0m\u001b[0m\n\u001b[0;32m----> 2\u001b[0;31m \u001b[0mg\u001b[0m\u001b[0;34m.\u001b[0m\u001b[0mga\u001b[0m\u001b[0;34m.\u001b[0m\u001b[0mGa\u001b[0m\u001b[0;34m(\u001b[0m\u001b[0;34m'e_x e_y e_z'\u001b[0m\u001b[0;34m)\u001b[0m\u001b[0;34m\u001b[0m\u001b[0;34m\u001b[0m\u001b[0m\n\u001b[0m",
      "\u001b[0;31mAttributeError\u001b[0m: module 'galgebra' has no attribute 'ga'"
     ]
    }
   ],
   "source": [
    "xyz = (x,y,z) = sm.symbols('x y z',real=True)\n",
    "g.ga.Ga('e_x e_y e_z')"
   ]
  },
  {
   "cell_type": "code",
   "execution_count": null,
   "id": "b1f4a65e-015d-49b5-8e7d-c0ea800a9637",
   "metadata": {},
   "outputs": [],
   "source": []
  }
 ],
 "metadata": {
  "kernelspec": {
   "display_name": "Python 3 (ipykernel)",
   "language": "python",
   "name": "python3"
  },
  "language_info": {
   "codemirror_mode": {
    "name": "ipython",
    "version": 3
   },
   "file_extension": ".py",
   "mimetype": "text/x-python",
   "name": "python",
   "nbconvert_exporter": "python",
   "pygments_lexer": "ipython3",
   "version": "3.10.1"
  }
 },
 "nbformat": 4,
 "nbformat_minor": 5
}
