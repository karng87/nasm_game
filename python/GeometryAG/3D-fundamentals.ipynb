{
 "cells": [
  {
   "cell_type": "code",
   "execution_count": 1,
   "id": "8606fd5a-0a82-4679-9ec1-5d98870da953",
   "metadata": {},
   "outputs": [
    {
     "data": {
      "text/html": [
       "\n",
       "        <iframe\n",
       "            width=\"800\"\n",
       "            height=\"640\"\n",
       "            src=\"https://www.youtube.com/embed/https://www.youtube.com/watch?v=ElLl6gzNbFE&list=PLpzmRsG7u_gqaTo_vEseQ7U8KFvtiJY4K&index=9\"\n",
       "            frameborder=\"0\"\n",
       "            allowfullscreen\n",
       "            \n",
       "        ></iframe>\n",
       "        "
      ],
      "text/plain": [
       "<IPython.lib.display.YouTubeVideo at 0x7f580f08e2f0>"
      ]
     },
     "execution_count": 1,
     "metadata": {},
     "output_type": "execute_result"
    }
   ],
   "source": [
    "import IPython as ipy\n",
    "ipy.display.YouTubeVideo('https://www.youtube.com/watch?v=ElLl6gzNbFE&list=PLpzmRsG7u_gqaTo_vEseQ7U8KFvtiJY4K&index=9',width=800,height=640)"
   ]
  },
  {
   "cell_type": "markdown",
   "id": "c569bc84-b561-4dc9-b207-15652cdf49c0",
   "metadata": {},
   "source": [
    "# G(2)\n",
    "> ### bivectors: grade 2, pseudo vector\n",
    ">> ### $ e_1e_2,\\quad (e_1e_2)^2 = -1 = I$\n",
    "> ### vectors: grade 1\n",
    ">> ### $e_1, e_2, (e_1)^2=1, (e_2)^2 = 1,\\quad  e_1e_2 = e_1 \\wedge e_2,\\quad e_1e_1 = e_1 \\cdot e_1 = 1$\n",
    "> ### scalars: grade 0\n",
    ">> ### 1\n",
    "> ### dot product\n",
    ">> ### $ u \\dot v = |u||v|cos\\theta = \\frac{1}{2}(uv + vu)$\n",
    "> ### wedge product\n",
    ">> ### $ u \\wedge v = |u||v|sin\\theta = \\frac{1}{2}(uv - vu)\\\\\n",
    "e_1 \\wedge e_2 = e_1e_2 = -e_2 \\wedge e_1$\n",
    "> ### geometric product\n",
    ">> ### $ uv = |u||v|e^{I\\theta} = u \\cdot v + u \\wedge v \\\\\n",
    "(uv)w = u(vw),\\quad u(v+w) = uv + uw,\\quad u^2 = uu = u \\cdot = |u|^2, \\quad uv = -vu $"
   ]
  },
  {
   "cell_type": "markdown",
   "id": "17328731-6104-495c-8087-1b09eaab8415",
   "metadata": {},
   "source": [
    "# G(3)\n",
    "## $\\epsilon_{ijk} $\n",
    "> ### trivector: grade 3: pseudoscalar\n",
    ">> ### $ e_1e_2e_3 = e_1 \\wedge e_2 \\wedge e_3 = volume = I \\therefore (e_1e_2e_2)^2 = -1 \\\\\n",
    "I^{-1} = -I \\\\\n",
    "\\because (e_1e_2e_3)I^{-1} = 1 \\to (e_1e_2e_3)(-e_1e_2e_3) \\to\n",
    "-\\big((e_1e_2e_3)(e_1e_2e_3)\\big) = 1(-1) = 1\n",
    "$\n",
    "> ### bivectors: grade 2 : pseudovector: axial vectors\n",
    ">> ### $e_1e_2, e_2e_3, e_3e_1 \\\\\n",
    "e_1e_2 = - e_2e_1$\n",
    "> ### vectors: grade 1: polar vectors\n",
    ">> ### $ e_1, e_2, e_3 $\n",
    "> ### scalar: grade 0\n",
    ">> ### 1"
   ]
  },
  {
   "cell_type": "code",
   "execution_count": 2,
   "id": "e3c38b62-009b-45a5-a42f-e23bf0cdf3e6",
   "metadata": {},
   "outputs": [
    {
     "data": {
      "text/html": [
       "\n",
       "        <iframe\n",
       "            width=\"800\"\n",
       "            height=\"480\"\n",
       "            src=\"https://www.youtube.com/embed/https://www.youtube.com/watch?v=njxg5nUwZKA&list=PLpzmRsG7u_gqaTo_vEseQ7U8KFvtiJY4K&index=10\"\n",
       "            frameborder=\"0\"\n",
       "            allowfullscreen\n",
       "            \n",
       "        ></iframe>\n",
       "        "
      ],
      "text/plain": [
       "<IPython.lib.display.YouTubeVideo at 0x7f580e72fcd0>"
      ]
     },
     "execution_count": 2,
     "metadata": {},
     "output_type": "execute_result"
    }
   ],
   "source": [
    "ipy.display.YouTubeVideo('https://www.youtube.com/watch?v=njxg5nUwZKA&list=PLpzmRsG7u_gqaTo_vEseQ7U8KFvtiJY4K&index=10',width=800,height=480)"
   ]
  },
  {
   "cell_type": "markdown",
   "id": "e3757d03-e216-4cce-a449-5ed588771e5f",
   "metadata": {},
   "source": [
    "# Bivectors Multiplication\n",
    "## Bivector can be made by $\\color{red}{( u \\wedge v )} = \\color{red}{(uv - vu)} $ | $ u,v = vectors $\n",
    "> ### $ aB =\\;  <aB>_1 + <aB>_3 \\;= a \\cdot B + a \\wedge B, \\quad Ba =\\; <Ba>_1 + <Ba>_3 \\\\\n",
    "\\therefore \\;<aB>_1 \\;=\\; -<Ba>_1, \\quad <aB>_3 \\;=\\; <Ba>_3 \\\\\n",
    "\\quad \\;<uv>_0 \\;=\\; <vu>_0, \\quad <uv>_2 \\;=\\; -<vu>_2 \\\\\n",
    "\\quad \\;<q^v_1q^v_2>_0 \\;=\\; -<q^v_2q^v_1>_0, \\quad <q^v_1q^v_2>_1 \\;=\\; <q^v_2q^v_1>_1 \\\\\n",
    "\\therefore aB - Ba = 2<aB>_1=2(a\\cdot B), \\\\\n",
    "    \\therefore aB + Ba = 2<aB>_3 = 2(a \\wedge B) \\\\\n",
    "\\quad uv - vu = 2(u \\wedge v) , \\quad uv + uv = 2(u \\cdot v)\n",
    "\\quad q^v_1q^v_2 - q^v_2q^v_1 = 2(q^v_1 \\times q^v_2) , \\quad q^v_1q^v_2 + q^v_2q^v_1 = -2(q^v_1 \\cdot q^v_2) \\\\\n",
    "\\therefore <aB>_1 = \\frac{1}{2}\\big(aB - Ba \\big) = a \\cdot B \\\\\n",
    "\\quad <uv>_0 = \\frac{1}{2}\\big(uv + vu \\big)= u \\cdot v \\\\\n",
    "\\quad <q^v_1q^v_2>_0 = \\frac{1}{2}\\big(q^v_1q^v_2 + q^v_2q^v_1 \\big)= -(q^v_1 \\cdot q^v_2) \\\\\n",
    "\\therefore <aB>_3 = \\frac{1}{2}\\big(aB + Ba \\big) = a \\wedge B \\\\\n",
    "\\quad <uv>_2 = \\frac{1}{2}\\big(uv - vu \\big)= u \\wedge v \\\\\n",
    "\\quad <q^v_1q^v_2>_1 = \\frac{1}{2}\\big(q^v_1q^v_2 - q^v_2q^v_1 \\big)= q^v_1 \\times q^v_2$\n",
    "    "
   ]
  },
  {
   "cell_type": "markdown",
   "id": "2fdbf438-a07d-44f4-946c-aa62bdcfa111",
   "metadata": {},
   "source": [
    "---\n",
    ">> ### quaternion\n",
    ">>> ### $ q^v_1 q^v_2 = -(q^v_1 \\cdot q^v_2) + q^v_1 \\times q^v_2$\n",
    ">>> ### $ q^v_1 q^v_2 - q^v_2q^v_1 = 2(q^v_1 \\times q^v_2)$\n",
    ">>> ### $ q^v_1 q^v_2 + q^v_2q^v_1 = -2(q^v_1 \\cdot q^v_2)$"
   ]
  },
  {
   "cell_type": "code",
   "execution_count": 3,
   "id": "eb6e0e75-d4fa-4cd2-8d2a-93b62ddc3529",
   "metadata": {},
   "outputs": [
    {
     "data": {
      "text/html": [
       "\n",
       "        <iframe\n",
       "            width=\"800\"\n",
       "            height=\"640\"\n",
       "            src=\"https://www.youtube.com/embed/https://www.youtube.com/watch?v=RbKjaPDoGlw&list=PLpzmRsG7u_gqaTo_vEseQ7U8KFvtiJY4K&index=11\"\n",
       "            frameborder=\"0\"\n",
       "            allowfullscreen\n",
       "            \n",
       "        ></iframe>\n",
       "        "
      ],
      "text/plain": [
       "<IPython.lib.display.YouTubeVideo at 0x7f580e72f3d0>"
      ]
     },
     "execution_count": 3,
     "metadata": {},
     "output_type": "execute_result"
    }
   ],
   "source": [
    "ipy.display.YouTubeVideo('https://www.youtube.com/watch?v=RbKjaPDoGlw&list=PLpzmRsG7u_gqaTo_vEseQ7U8KFvtiJY4K&index=11',width=800,height=640)"
   ]
  },
  {
   "cell_type": "markdown",
   "id": "fae0dc39-b6ba-4d55-9fa4-81fec6a88223",
   "metadata": {},
   "source": [
    "---\n",
    "# Multiplication in parallel($\\color{red}\\parallel$)\n",
    "### 살아 남는것은 the only $\\color{red}{ \\text{dot product}}$ in vector $\\times$ bivector\n",
    "> ### $aB = \\; ^{aB}_{a\\perp B} {\\Large\\color{red}{g}}^{a\\cdot B}_{aB=-Ba}$\n",
    ">> ### $\n",
    "a \\parallel B \\iff aB = -Ba = \\color{red}{a \\cdot B} \\iff \\frac{1}{2}(aB + Ba) = \\color{red}{a \\wedge B = 0} \\\\\n",
    "\\quad u \\parallel v \\iff uv = vu = u \\cdot v \\iff u \\wedge v = 0\\\\\n",
    "\\quad q^v_1 \\parallel q^v_2 \\iff q^v_1q^v_2 = q^v_2q^v_1 \\iff -(q^v_1 \\cdot q^v_2),\\; q^v_1 \\times q^v_2 = 0\n",
    "$"
   ]
  },
  {
   "cell_type": "markdown",
   "id": "1d2bef9c-fa77-4ed1-8e82-cc639d97eca9",
   "metadata": {},
   "source": [
    "---\n",
    "# Multiplication in parallel($\\color{red}\\perp$)\n",
    "### 살아남는것은 the only $\\color{red}{\\text{wedge product}}$\n",
    "> ### $aB = \\;^{aB}_{(a\\perp B)}{\\Large\\color{red}{g}}^{a\\wedge B}_{aB=Ba}$\n",
    ">> ### $\n",
    "a \\perp B \\iff aB = Ba = \\color{red}{a \\wedge B} \\iff \\frac{1}{2}(aB - Ba) = \\color{red}{a \\cdot B = 0}\\\\\n",
    "\\quad u \\perp v \\iff uv = u \\wedge v,\\\\\n",
    "\\quad q^v_1q^v_2 \\iff (q^v_1 \\times q^v_2)\n",
    "$"
   ]
  },
  {
   "cell_type": "markdown",
   "id": "4d6d33e9-cabf-466e-88ec-6d614fdf0098",
   "metadata": {},
   "source": [
    "---\n",
    "# Mulitplication In $\\color{red}{General}$\n",
    "> ### $ aB = \n",
    "\\;^{aB}_{a=a_{\\parallel_B} + a_{\\perp_B}}\n",
    "{\\Large\\color{red}{g}}\n",
    "^{a_{\\perp} \\cdot B + a_{\\parallel} \\wedge B}_{} $ \n",
    "> ### $ a_{\\parallel} \\cdot B $\n",
    ">> ### $ \n",
    "\\require{mhchem}\n",
    "^{a\\cdot B}_{(a = a_{\\parallel_B}+a_{\\perp_B})}\\large g^{(a_{\\parallel_B} + a_{\\perp_B})\\cdot B}_{a_{\\parallel}\\cdot B}= a \\cdot B = a_{(\\parallel_B)}B\n",
    "$\n",
    "> ### $ a_{\\perp_B} \\wedge B $\n",
    ">> ### $\n",
    "^{a\\wedge B}_{(a = a_{\\parallel_B}+a_{\\perp_B})}\\large g^{(a_{\\parallel_B} + a_{\\perp_B})\\wedge B}_{a_{\\perp_B}\\wedge B}= a \\wedge B = a_{(\\perp_B)}B\n",
    "$"
   ]
  },
  {
   "cell_type": "code",
   "execution_count": null,
   "id": "910728f1-db68-4c2d-a713-83e038aa4105",
   "metadata": {},
   "outputs": [],
   "source": []
  }
 ],
 "metadata": {
  "kernelspec": {
   "display_name": "Python 3 (ipykernel)",
   "language": "python",
   "name": "python3"
  },
  "language_info": {
   "codemirror_mode": {
    "name": "ipython",
    "version": 3
   },
   "file_extension": ".py",
   "mimetype": "text/x-python",
   "name": "python",
   "nbconvert_exporter": "python",
   "pygments_lexer": "ipython3",
   "version": "3.10.1"
  }
 },
 "nbformat": 4,
 "nbformat_minor": 5
}
