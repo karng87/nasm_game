{
 "cells": [
  {
   "cell_type": "code",
   "execution_count": 5,
   "id": "a568f64b-9df2-4c7c-a7c0-72e088545353",
   "metadata": {},
   "outputs": [
    {
     "data": {
      "text/html": [
       "\n",
       "        <iframe\n",
       "            width=\"800\"\n",
       "            height=\"640\"\n",
       "            src=\"https://www.youtube.com/embed/https://www.youtube.com/watch?v=V6bbqkFmOXU&list=PLpzmRsG7u_gr0FO12cBWj-15_e0yqQQ1U&index=6\"\n",
       "            frameborder=\"0\"\n",
       "            allowfullscreen\n",
       "            \n",
       "        ></iframe>\n",
       "        "
      ],
      "text/plain": [
       "<IPython.lib.display.YouTubeVideo at 0x7ff108ed0550>"
      ]
     },
     "execution_count": 5,
     "metadata": {},
     "output_type": "execute_result"
    }
   ],
   "source": [
    "import IPython as py\n",
    "py.display.YouTubeVideo('https://www.youtube.com/watch?v=V6bbqkFmOXU&list=PLpzmRsG7u_gr0FO12cBWj-15_e0yqQQ1U&index=6',width=800,height=640)"
   ]
  },
  {
   "cell_type": "markdown",
   "id": "ca8386e6-2367-4aa7-ae09-2965c9bcf027",
   "metadata": {
    "tags": []
   },
   "source": [
    "# L(reflectioni)\n",
    "> # $\n",
    "\\require{mhchem}\n",
    "^{v}_{v\\veebar \\hat{n}}L^{(v-2v^{{\\parallel}}_{\\hat{n}})} = \\quad\n",
    "^{v}_{v\\veebar \\hat{n}}L^{v-}_{2(v\\cdot\\hat{n}) \\hat{n}^{-1}} = \\quad\n",
    "^{v}_{v\\veebar \\hat{n}}L^{v-}_{2(v\\cdot\\hat{n})\\hat{n}}\n",
    "$"
   ]
  },
  {
   "cell_type": "markdown",
   "id": "51d924e8-dd0b-4c2b-be25-1fc995d4d4f8",
   "metadata": {},
   "source": [
    ">> ### quaternion\n",
    ">>> ### $ \\require{mhchem}\n",
    "^{L}q^v  = (0, \\vec{v})\n",
    "\\\\\n",
    "^{L}q^{\\hat{n}} = (0, \\hat{n}) = \n",
    "\\ce{^{L}_{q \\veebar \\hat{n}}q^{n}} = \n",
    "(0, \\ce {^{\\parallel}_{mirror}q^{\\hat{n}}})$"
   ]
  },
  {
   "cell_type": "markdown",
   "id": "5a19dfba-356b-4661-9c35-a65e3cf668f4",
   "metadata": {},
   "source": [
    ">> ### $ \\begin{array}{r|ll}\n",
    "& q^v q^n = \\big( -(q^v \\cdot q^n) , & (q^v \\times q^n) \\big)\\\\\n",
    "+ \n",
    "& q^n q^v = \\big( -(q^v \\cdot q^n) , & -(q^v \\times q^n) \\big)\\\\ \n",
    "\\hline\n",
    "\\end{array} \\\\\n",
    "\\qquad q^v q^n + q^n q^v = -2 q^v \\cdot q^n $"
   ]
  },
  {
   "cell_type": "markdown",
   "id": "721db14d-195f-4109-8942-165c3cc65d5c",
   "metadata": {},
   "source": [
    "> ### $\\therefore q^v - 2(q^v \\cdot q^n) q^n = q^v + (q^vq^n + q^nq^v)q^n \\;\n",
    "\\because (q^n)^2 = -1 \\\\\n",
    "q^v + q^v(q^nq^n) + q^n(q^vq^n) =  \n",
    "q^v - q^v + q^nq^vq^n \\\\\n",
    "\\therefore q^nq^vq^n$ "
   ]
  },
  {
   "cell_type": "markdown",
   "id": "87923181-6ebb-4288-b87f-75aa7b09e539",
   "metadata": {},
   "source": [
    "> # $ \\color {red}{\\ce{ ^{L}_{$v$ \\veebar \\hat{n}}q^{nvn}_{mirror}}}$\n",
    "> # $ \\color{red}{ \n",
    "\\ce { ^{L}_{$v$ \\veebar \\hat{n}} T ^{$v$ - 2($v$\\cdot \\hat{n})\\hat{n}}_{mirror}}}$"
   ]
  },
  {
   "cell_type": "code",
   "execution_count": 4,
   "id": "7bcb5b63-11fe-49a5-9531-f9efa7d93a9e",
   "metadata": {},
   "outputs": [
    {
     "data": {
      "text/html": [
       "\n",
       "        <iframe\n",
       "            width=\"800\"\n",
       "            height=\"640\"\n",
       "            src=\"https://www.youtube.com/embed/https://www.youtube.com/watch?v=ERpcSJzX448&list=PLpzmRsG7u_gqaTo_vEseQ7U8KFvtiJY4K&index=2\"\n",
       "            frameborder=\"0\"\n",
       "            allowfullscreen\n",
       "            \n",
       "        ></iframe>\n",
       "        "
      ],
      "text/plain": [
       "<IPython.lib.display.YouTubeVideo at 0x7ff108ed0400>"
      ]
     },
     "execution_count": 4,
     "metadata": {},
     "output_type": "execute_result"
    }
   ],
   "source": [
    "import IPython as py\n",
    "py.display.YouTubeVideo('https://www.youtube.com/watch?v=ERpcSJzX448&list=PLpzmRsG7u_gqaTo_vEseQ7U8KFvtiJY4K&index=2',width=800,height=640)"
   ]
  },
  {
   "cell_type": "markdown",
   "id": "7d4a8b1c-7555-4612-b456-813bf38b4a02",
   "metadata": {},
   "source": [
    "# Geomeric Reflection in 2D\n",
    "> # $\\require{mhchem} \\color{red}{\\ce{ ^{L}_{$v \\perp u$}g^{$v^{-1}uv$}_{$2d$}}}$\n"
   ]
  },
  {
   "cell_type": "markdown",
   "id": "fc0b07f9-1dab-4199-aa6c-e50113edc4c3",
   "metadata": {},
   "source": [
    "# Geomeric double Reflection in 2D\n",
    "> # $\\require{mhchem}{\\ce{ ^{L}_{$(wv \\perp u)$}g^{$(wv)^{-1}u(vw)$}_{(2d)}}}$"
   ]
  },
  {
   "cell_type": "markdown",
   "id": "9e80b2df-0732-41dd-bf22-5040a7948243",
   "metadata": {},
   "source": [
    "> ### $\\require{mhchem}\n",
    "(vw)^{-1} = w^{-1}v^{-1} \\\\ \n",
    "\\because (vw)(w^{-1}v^{-1}) =  v(ww^{-1})v^{-1} =  1 \n",
    "\\therefore (vw)^{-1} =  w^{-1}v^{-1}\n",
    "$"
   ]
  },
  {
   "cell_type": "markdown",
   "id": "f767db1b-1357-4110-8820-a22cf9c023b3",
   "metadata": {},
   "source": [
    "> ### $\\require{mhchem}\n",
    "vw = |v||w| cos \\theta + |v||w| sin\\theta e_ie_2 =\n",
    "|v||w| \\big( cos \\theta +  sin\\theta I \\big)  = |v||w|e^{\\theta I} \\\\\n",
    "\\because (vw)^{-1} =  \\frac{1}{|v||w|}e^{-\\theta I} =\n",
    "\\frac{1}{|v||w|}\\big(cos(\\theta) - sin(\\theta)e_1e_2 \\big) =  \\frac{1}{|v||w|}\\big(cos(-\\theta) + sin(-\\theta)e_1e_2 \\big)\n",
    "$"
   ]
  },
  {
   "cell_type": "markdown",
   "id": "b02e7d8c-444e-40bd-861a-8c87a5c20caf",
   "metadata": {},
   "source": [
    "> ## $ \\therefore (wv)^{-1}uvw =\n",
    "(\\frac{1}{|v||w|}e^{-\\theta I})u (|v||w|e^{\\theta I}) = \n",
    "-u(\\frac{1}{|v||w|}e^{-\\theta I})(|v||w|e^{\\theta I}) =\n",
    "u(\\frac{1}{|v||w|}e^{+\\theta I})(|v||w|e^{\\theta I})\\\\\n",
    "\\color{red}{\\therefore ue^{2\\theta I}} = \\ce{ ^{L}_{(wv\\perp u)}g^{(2\\theta I)}_{(2d)}}\n",
    "$"
   ]
  },
  {
   "cell_type": "code",
   "execution_count": null,
   "id": "0ce9187b-4f1a-47b0-b992-a3260aad81e8",
   "metadata": {},
   "outputs": [],
   "source": []
  }
 ],
 "metadata": {
  "kernelspec": {
   "display_name": "Python 3 (ipykernel)",
   "language": "python",
   "name": "python3"
  },
  "language_info": {
   "codemirror_mode": {
    "name": "ipython",
    "version": 3
   },
   "file_extension": ".py",
   "mimetype": "text/x-python",
   "name": "python",
   "nbconvert_exporter": "python",
   "pygments_lexer": "ipython3",
   "version": "3.10.1"
  }
 },
 "nbformat": 4,
 "nbformat_minor": 5
}
