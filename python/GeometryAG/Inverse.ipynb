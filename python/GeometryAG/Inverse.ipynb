{
 "cells": [
  {
   "cell_type": "markdown",
   "id": "d1d73572-92d4-415e-9aac-85587bb82237",
   "metadata": {},
   "source": [
    "# $\\langle \\color{red}{inverse} \\rangle$"
   ]
  },
  {
   "cell_type": "markdown",
   "id": "aea36bae-d377-48ff-9b60-091d8728f71b",
   "metadata": {},
   "source": [
    "> ## geometric multiplication's inverse\n",
    ">> ### $u^2 = uu = u\\cdot u + 0(u \\wedge v) = u \\cdot u = |u||u|cos\\theta = |u|^2$\n",
    ">> ### $u\\frac{1}{u}= 1$\n",
    ">> ### $\\frac{1}{u}? \\to \\frac{1}{u}\\frac{u}{u} \\to \\frac{u}{u^2} = \\frac{u}{|u|^2}\\; \\because u^2 = u \\cdot u = |u|^2$\n",
    ">> ### $\\frac{uu}{u \\cdot u} = 1$\n",
    ">> ### $\\frac{u}{u \\cdot u} = \\frac{1}{u}$"
   ]
  },
  {
   "cell_type": "markdown",
   "id": "f98f82f7-508e-4b8e-b3c4-8bf22296af98",
   "metadata": {},
   "source": [
    "> ### $ (uv)^{-1} \\to (uv)(v^{-1}u^{-1}) = u(vv^{-1})u^{-1} = u1u^{-1} = uu^{-1} = 1$\n",
    "> ## $\\therefore (uv)^{-1} = v^{-1}u^{-1} $"
   ]
  },
  {
   "cell_type": "code",
   "execution_count": null,
   "id": "8d0f611f-6146-44d7-a946-39ea225dd3f7",
   "metadata": {},
   "outputs": [],
   "source": []
  }
 ],
 "metadata": {
  "kernelspec": {
   "display_name": "Python 3 (ipykernel)",
   "language": "python",
   "name": "python3"
  },
  "language_info": {
   "codemirror_mode": {
    "name": "ipython",
    "version": 3
   },
   "file_extension": ".py",
   "mimetype": "text/x-python",
   "name": "python",
   "nbconvert_exporter": "python",
   "pygments_lexer": "ipython3",
   "version": "3.10.1"
  }
 },
 "nbformat": 4,
 "nbformat_minor": 5
}
