{
 "cells": [
  {
   "cell_type": "markdown",
   "id": "509fdd4d-a731-4285-8a15-42d93341265a",
   "metadata": {
    "tags": []
   },
   "source": [
    "# $\\mathbb C$\n",
    "> ### $\n",
    "z_1 = (a+bi),= r_1(cos \\alpha + sin\\alpha i) \\\\\n",
    "z_2 = (c+di) = r_2(cos \\beta + sin\\beta i)\\\\\n",
    "(a+bi)(c+di) = (ac - bd) + (ad + bc)i = (c_1 \\cdot c_2) + (c_1 \\wedge c_2)\n",
    "$\n",
    "> ### $ (a+bi)(a+bi) = (a^2 - b^2) + (ab + ba)i = (c_1 \\cdot c_2) + (c_1 \\wedge c_2) $\n",
    "> ### $r_1(cos\\alpha + sin\\alpha\\, i)\\,r_2(cos\\beta + sin\\beta\\, i) = r_1r_2(cos\\alpha\\,cos\\beta - sin\\alpha\\,sin\\beta) + r_1r_2(cos\\alpha\\,sin\\beta + sin\\alpha\\,cos\\beta)i \n",
    "= r_1r_2 \\big( cos(\\alpha + \\alpha) + sin(\\alpha + \\alpha)i \\big)$\n",
    "> ### $ r_1(cos\\alpha + sin\\alpha\\, i)\\,r_1(cos\\alpha + sin\\alpha\\, i) = {r_1}^2(cos\\alpha\\,cos\\alpha - sin\\alpha\\,sin\\alpha) + {r_1}^2(cos\\alpha\\,sin\\alpha + sin\\alpha\\,cos\\alpha)i \n",
    "= {r_1}^2 \\big( cos(\\alpha + \\alpha) + sin(\\alpha + \\alpha)i \\big)$\n",
    "> ### $ i ? = 1, \\quad i(-i) = 1, \\quad \\therefore \\text{ multiplication's identity of }i = -i$\n",
    "> ### $ \\frac{1}{i}?, \\quad  \\frac{1}{i} \\frac{i}{i} = -i$\n",
    "> ### $ \\frac{1}{a+bi}?, \\quad  \\frac{1}{a+bi} \\frac{a-bi}{a-bi} = \\frac{a-bi}{a^2+b^2} = \\frac{\\overline{a+bi}}{(a+bi)(\\overline{a+bi})}$\n",
    "> ### $ \\therefore (a+bi)^{-1} =  \\frac{a-bi}{a^2+b^2}\n",
    "= \\frac{a-bi}{|a+bi|^2}, \\quad z^{-1} = \\frac{z^{\\star}}{zz^{\\star}} = \\frac{\\bar{z}}{|z|^2}$"
   ]
  },
  {
   "cell_type": "markdown",
   "id": "bb6a8ad7-0daf-4b38-a408-7dbe9e3ddea5",
   "metadata": {},
   "source": [
    "# $\\color{red}{conjugate}$\n",
    "> ### $ z^{\\star}, \\bar{z}$\n",
    ">> ### $ z = a + bi \\iff \\bar{z} = a - bi$\n",
    "> ### $z\\bar{z} = |z|^2 = |\\bar{z}|^2$\n",
    "> ### $|z_1 + z_2| = |z_1| + |z_2|$"
   ]
  },
  {
   "cell_type": "markdown",
   "id": "7cde5944-1708-45fe-bdfb-2c5c46169731",
   "metadata": {},
   "source": [
    "# $\\color{red}{norm}$\n",
    "> ### $ ||z|| = \\sqrt{zz^{\\star}} = \\sqrt{z\\bar{z}}$"
   ]
  }
 ],
 "metadata": {
  "kernelspec": {
   "display_name": "Python 3 (ipykernel)",
   "language": "python",
   "name": "python3"
  },
  "language_info": {
   "codemirror_mode": {
    "name": "ipython",
    "version": 3
   },
   "file_extension": ".py",
   "mimetype": "text/x-python",
   "name": "python",
   "nbconvert_exporter": "python",
   "pygments_lexer": "ipython3",
   "version": "3.10.1"
  }
 },
 "nbformat": 4,
 "nbformat_minor": 5
}
