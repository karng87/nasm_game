{
 "cells": [
  {
   "cell_type": "code",
   "execution_count": 147,
   "id": "9295a584-95de-449f-8119-959e0c3ec902",
   "metadata": {},
   "outputs": [
    {
     "data": {
      "text/latex": [
       "$\\displaystyle (- \\frac{5}{14})\\mathbf{\\hat{k}_{F}}$"
      ],
      "text/plain": [
       "(-5/14)*F.k"
      ]
     },
     "execution_count": 147,
     "metadata": {},
     "output_type": "execute_result"
    },
    {
     "data": {
      "image/png": "[encoded data removed]",
      "text/plain": [
       "<Figure size 432x288 with 1 Axes>"
      ]
     },
     "metadata": {
      "needs_background": "light"
     },
     "output_type": "display_data"
    }
   ],
   "source": [
    "import matplotlib.pyplot as plt\n",
    "import numpy as np\n",
    "import sympy as sm\n",
    "import sympy.vector\n",
    "F = sm.vector.CoordSys3D('F')\n",
    "u = 3*F.i + 8*F.j\n",
    "v = 7*F.i + 7*F.j\n",
    "\n",
    "x0 = np.linspace(0,8,100)\n",
    "fig = plt.figure()\n",
    "ax = fig.add_subplot()\n",
    "ax.set_aspect('equal')\n",
    "ax.set_xlim(xmin=0, xmax= 10)\n",
    "ax.set_ylim(ymin=0, ymax= 10)\n",
    "ax.quiver(0,0,7,7,scale=1,units='xy')\n",
    "ax.text(7,7,'v',fontsize=16)\n",
    "ax.quiver(0,0,3,8,scale=1,units='xy')\n",
    "ax.text(3,8.3,'u',fontsize=16)\n",
    "ax.quiver(0,0,11/2,11/2,scale=1,units='xy',color='r')\n",
    "ax.text(2,3.5,r'$u_{\\parallel_v}$',fontsize=16)\n",
    "ax.quiver(11/2,11/2,3-(11/2),8-(11/2),scale=1,units='xy',color='r')\n",
    "ax.text(4.3,7,r'$u_{\\perp_v}$',fontsize=16)\n",
    "\n",
    "ax.quiver(11/2,11/2,3+(11/2),8+(11/2),scale=1,units='xy',color='r')\n",
    "ax.text(4.3,7,r'$u_{\\perp_v}$',fontsize=16)\n",
    "u.dot(v)*v/v.dot(v)\n",
    "u.dot(v) \n",
    "u^v/v.dot(v)"
   ]
  },
  {
   "cell_type": "code",
   "execution_count": 143,
   "id": "237c3928-0d90-40d0-99cb-b6cdbec54a99",
   "metadata": {},
   "outputs": [
    {
     "ename": "ModuleNotFoundError",
     "evalue": "No module named 'clifford'",
     "output_type": "error",
     "traceback": [
      "\u001b[0;31m---------------------------------------------------------------------------\u001b[0m",
      "\u001b[0;31mModuleNotFoundError\u001b[0m                       Traceback (most recent call last)",
      "\u001b[0;32m/tmp/ipykernel_9059/3198570520.py\u001b[0m in \u001b[0;36m<module>\u001b[0;34m\u001b[0m\n\u001b[0;32m----> 1\u001b[0;31m \u001b[0;32mimport\u001b[0m \u001b[0mclifford\u001b[0m \u001b[0;32mas\u001b[0m \u001b[0mcf\u001b[0m\u001b[0;34m\u001b[0m\u001b[0;34m\u001b[0m\u001b[0m\n\u001b[0m",
      "\u001b[0;31mModuleNotFoundError\u001b[0m: No module named 'clifford'"
     ]
    }
   ],
   "source": [
    "import clifford as cf "
   ]
  },
  {
   "cell_type": "markdown",
   "id": "8ee5a09a-a1c1-4b8e-8763-e50e90d25f29",
   "metadata": {},
   "source": [
    "# Projection in $G_{(\\mathbb{R}_2)}$\n",
    "> ## $ uv + vu  = 2(u\\cdot v) \\left \\{\n",
    "\\begin {array}{} \n",
    "uv = (u \\cdot v) + (u \\wedge v)  \\\\ \n",
    "vu = (u \\cdot v) - (u \\wedge v) \\\\\n",
    "u_{\\parallel_v}v = u \\cdot v\\, \\because x \\parallel y \\iff x \\wedge y = 0 \\\\\n",
    "uv + vu  = 2(u_{\\parallel_v}v) \\\\\n",
    "\\frac{1}{2}(uv + vu) = u_{\\parallel_v}v \\\\\n",
    "u \\cdot v = u_{\\parallel_v}v \\\\\n",
    "u \\cdot v v^{-1} = u_{\\parallel_v} \\quad \\because v^{-1} = \\frac{v}{||v||^2}\\\\\n",
    "\\frac{u \\cdot v}{v \\cdot v} v = u_{\\parallel_v} \\quad \\because v^2 = v \\cdot v ,\\quad v \\parallel v\\\\\n",
    "\\end{array}\\right.$\n",
    "> ### $ u = u_{\\parallel_v} + u_{\\perp_v}$\n",
    "> ### $ uv = u_{\\parallel_v}v + u_{\\perp_v}v$\n",
    "> ### $ uv = u_{\\parallel_v}v - vu_{\\perp_v}$\n",
    "> ### $ uv = u_{\\parallel_v}v - v(u - u_{\\parallel_v})$\n",
    "> ### $ uv = u_{\\parallel_v}v - vu + vu_{\\parallel_v}$\n",
    "> ### $ uv = u_{\\parallel_v}v - vu + u_{\\parallel_v}v$\n",
    "> ### $ uv + vu = u_{\\parallel_v}v + u_{\\parallel_v}v$\n",
    "> ### $ uv + vu = 2u_{\\parallel_v}v$\n",
    "> ### $ \\frac{1}{2}(uv + vu) = u_{\\parallel_v}v$\n",
    "> ### $ u \\cdot v = u_{\\parallel_v}v$"
   ]
  },
  {
   "cell_type": "markdown",
   "id": "592cef42-bfc7-4e1c-bc62-4d0015fa1533",
   "metadata": {},
   "source": [
    "# Rejection in $G_{(\\mathbb{R}_2)}$\n",
    "> ## $ u_{\\perp_v}v = \\frac{1}{2}(uv - vu) \\left \\{\n",
    "\\begin {array}{} \n",
    "uv = (u \\cdot v) + (u \\wedge v)  \\\\ \n",
    "vu = (u \\cdot v) - (u \\wedge v) \\\\\n",
    "u_{\\perp_v}v = u \\wedge v\\, \\because u \\perp v \\iff u \\cdot v = 0 \\\\\n",
    "uv - vu  = 2(u_{\\perp_v}v) \\\\\n",
    "\\frac{1}{2}(uv - vu) = u_{\\perp_v}v \\\\\n",
    "u \\wedge v = u_{\\perp_v}v \\\\\n",
    "u \\wedge v v^{-1} = u_{\\perp_v} \\quad \\because v^{-1} = \\frac{v}{||v||^2}\\\\\n",
    "\\frac{u \\wedge v}{v \\cdot v} v = u_{\\perp_v} \\quad \\because v^2 = v \\cdot v ,\\quad v \\parallel v\\\\\n",
    "\\end{array}\\right.$"
   ]
  },
  {
   "cell_type": "markdown",
   "id": "336380cf-a48a-4a36-b0bc-ccdd5a22e38d",
   "metadata": {},
   "source": [
    "# Reflection in $G_{(\\mathbb{R}_2)}$\n",
    "> ## $ u_{\\parallel_v} - u_{\\perp_v} = u \\cdot v v^{-1} - u \\wedge v v^{-1} = (u \\cdot v - u \\wedge v ) v^{-1} = (u \\cdot u + v \\wedge u)v^{-1} = vuv^{-1}$"
   ]
  },
  {
   "cell_type": "code",
   "execution_count": null,
   "id": "cf3edf77-d711-4b1e-b7a9-89ff41c30613",
   "metadata": {},
   "outputs": [],
   "source": []
  }
 ],
 "metadata": {
  "kernelspec": {
   "display_name": "Python 3 (ipykernel)",
   "language": "python",
   "name": "python3"
  },
  "language_info": {
   "codemirror_mode": {
    "name": "ipython",
    "version": 3
   },
   "file_extension": ".py",
   "mimetype": "text/x-python",
   "name": "python",
   "nbconvert_exporter": "python",
   "pygments_lexer": "ipython3",
   "version": "3.10.1"
  }
 },
 "nbformat": 4,
 "nbformat_minor": 5
}
