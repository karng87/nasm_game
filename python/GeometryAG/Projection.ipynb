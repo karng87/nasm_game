{
 "cells": [
  {
   "cell_type": "code",
   "execution_count": 50,
   "id": "9295a584-95de-449f-8119-959e0c3ec902",
   "metadata": {},
   "outputs": [
    {
     "data": {
      "text/plain": [
       "(8.0^e1) + (3.0^e2)"
      ]
     },
     "execution_count": 50,
     "metadata": {},
     "output_type": "execute_result"
    },
    {
     "data": {
      "image/png": "[encoded data removed]",
      "text/plain": [
       "<Figure size 432x288 with 1 Axes>"
      ]
     },
     "metadata": {
      "needs_background": "light"
     },
     "output_type": "display_data"
    }
   ],
   "source": [
    "import matplotlib.pyplot as plt\n",
    "import numpy as np\n",
    "x0 = np.linspace(0,8,100)\n",
    "fig = plt.figure()\n",
    "ax = fig.add_subplot()\n",
    "ax.set_aspect('equal')\n",
    "ax.set_xlim(xmin=0, xmax= 10)\n",
    "ax.set_ylim(ymin=0, ymax= 10)\n",
    "ax.quiver(0,0,7,7,scale=1,units='xy')\n",
    "ax.text(7,7,'v',fontsize=16)\n",
    "ax.quiver(0,0,3,8,scale=1,units='xy')\n",
    "ax.text(3,8.3,'u',fontsize=16)\n",
    "ax.quiver(0,0,5.5,5.5,scale=1,units='xy',color='r')\n",
    "ax.text(3,5,r'$u_{\\parallel_v}$',fontsize=16)\n",
    "ax.quiver(5.5,5.5,3-(5.5),8-(5.5),scale=1,units='xy',color='r')\n",
    "ax.text(4.3,7,r'$u_{\\perp_v}$',fontsize=16)\n",
    "\n",
    "ax.quiver(0,0,8,3,scale=1,units='xy')\n",
    "ax.text(8,3,r\"u'\",fontsize=16)\n",
    "ax.quiver(11/2,11/2,8-11/2,3-11/2,scale=1,units='xy',color='magenta')\n",
    "ax.text(6.5,4.5,r'$-u_{\\perp_v}$',fontsize=16)\n",
    "\n",
    "import clifford.g2 as g2\n",
    "# paru -S python-numba\n",
    "# pip install clifford\n",
    "u = 3*g2.e1 + 8*g2.e2\n",
    "v = 7*g2.e1 + 7*g2.e2\n",
    "(u|v)*v.inv()\n",
    "(u^v)*v.inv()\n",
    "v*u*v.inv()\n"
   ]
  },
  {
   "cell_type": "code",
   "execution_count": 22,
   "id": "237c3928-0d90-40d0-99cb-b6cdbec54a99",
   "metadata": {},
   "outputs": [
    {
     "data": {
      "text/plain": [
       "(8.0^e1) + (3.0^e2)"
      ]
     },
     "execution_count": 22,
     "metadata": {},
     "output_type": "execute_result"
    }
   ],
   "source": []
  },
  {
   "cell_type": "markdown",
   "id": "8ee5a09a-a1c1-4b8e-8763-e50e90d25f29",
   "metadata": {},
   "source": [
    "# Projection in $G_{(\\mathbb{R}_2)}$\n",
    "> ## $ \\begin{array}{}uv + vu  = 2(u\\cdot v) \\\\\n",
    "^{Proj_v(u)}_{u=u_{\\parallel_v}+u_{\\perp_v}}{\\Large\\color{red}{g}}^{u\\cdot v v^{-1}}_{u\\cdot v = u_{\\parallel_v}v}\n",
    "\\end{array}\n",
    "\\left \\{\n",
    "\\begin {array}{} \n",
    "uv = (u \\cdot v) + (u \\wedge v)  \\\\ \n",
    "vu = (u \\cdot v) - (u \\wedge v) \\\\\n",
    "u_{\\parallel_v}v = u \\cdot v\\, \\because x \\parallel y \\iff x \\wedge y = 0 \\\\\n",
    "uv + vu  = 2(u_{\\parallel_v}v) \\\\\n",
    "\\frac{1}{2}(uv + vu) = u_{\\parallel_v}v \\\\\n",
    "u \\cdot v = u_{\\parallel_v}v \\\\\n",
    "u \\cdot v v^{-1} = u_{\\parallel_v} \\quad \\because v^{-1} = \\frac{v}{||v||^2}\\\\\n",
    "\\frac{u \\cdot v}{v \\cdot v} v = u_{\\parallel_v} \\quad \\because v^2 = v \\cdot v ,\\quad v \\parallel v\\\\\n",
    "\\end{array}\\right.$\n",
    "> ### $ u = u_{\\parallel_v} + u_{\\perp_v}$\n",
    "> ### $ uv = u_{\\parallel_v}v + u_{\\perp_v}v$\n",
    "> ### $ uv = u_{\\parallel_v}v - vu_{\\perp_v}$\n",
    "> ### $ uv = u_{\\parallel_v}v - v(u - u_{\\parallel_v})$\n",
    "> ### $ uv = u_{\\parallel_v}v - vu + vu_{\\parallel_v}$\n",
    "> ### $ uv = u_{\\parallel_v}v - vu + u_{\\parallel_v}v$\n",
    "> ### $ uv + vu = u_{\\parallel_v}v + u_{\\parallel_v}v$\n",
    "> ### $ uv + vu = 2u_{\\parallel_v}v$\n",
    "> ### $ \\frac{1}{2}(uv + vu) = u_{\\parallel_v}v$\n",
    "> ### $ u \\cdot v = u_{\\parallel_v}v$"
   ]
  },
  {
   "cell_type": "markdown",
   "id": "592cef42-bfc7-4e1c-bc62-4d0015fa1533",
   "metadata": {},
   "source": [
    "# Rejection in $G_{(\\mathbb{R}_2)}$\n",
    "> ## $\\begin{array}{}\n",
    "uv - vu = 2(u \\wedge v)\\\\\n",
    "u \\wedge v = \\frac{1}{2}(uv - vu)\\\\\n",
    "u_{\\perp_v}v = u_{\\perp_v} \\wedge v \\\\\n",
    "^{Rej_v(u)}_{u=u_{\\parallel_v}+u_{\\perp_v}}{\\Large\\color{red}{g}}^{u\\wedge v v^{-1}}_{u\\wedge v = u_{\\perp_v}v}\n",
    "\\end{array}\n",
    "\\left \\{\n",
    "\\begin {array}{} \n",
    "uv = (u \\cdot v) + (u \\wedge v)  \\\\ \n",
    "vu = (u \\cdot v) - (u \\wedge v) \\\\\n",
    "u_{\\perp_v}v = u \\wedge v\\, \\because u \\perp v \\iff u \\cdot v = 0 \\\\\n",
    "uv - vu  = 2(u_{\\perp_v}v) \\\\\n",
    "\\frac{1}{2}(uv - vu) = u_{\\perp_v}v \\\\\n",
    "u \\wedge v = u_{\\perp_v}v \\\\\n",
    "u \\wedge v v^{-1} = u_{\\perp_v} \\quad \\because v^{-1} = \\frac{v}{||v||^2}\\\\\n",
    "\\frac{u \\wedge v}{v \\cdot v} v = u_{\\perp_v} \\quad \\because v^2 = v \\cdot v ,\\quad v \\parallel v\\\\\n",
    "\\end{array}\\right.$"
   ]
  },
  {
   "cell_type": "markdown",
   "id": "336380cf-a48a-4a36-b0bc-ccdd5a22e38d",
   "metadata": {
    "tags": []
   },
   "source": [
    "# Reflection in $G_{(\\mathbb{R}_2)}$\n",
    "> # $ ^{Ref_v(u)}_{u=u_{\\parallel_v} + u_{\\perp_v}}{\\Large\\color{red}{g}}^{vuv^{-1}}_{u'=u_{\\parallel_v}-u_{\\perp_v}}$\n",
    "\n",
    "> ## $ u_{\\parallel_v} - u_{\\perp_v} = \n",
    "u \\cdot v v^{-1} - u \\wedge v v^{-1} = (u \\cdot v - u \\wedge v ) v^{-1} = (v \\cdot u + v \\wedge u)v^{-1} = vuv^{-1}$\n",
    "\n",
    "> ## $ u' = u_{\\parallel_v} - u_{\\perp_v} \\\\\n",
    "vu' = vu_{\\parallel_v} - vu_{\\perp_v} \\\\\n",
    "vu' = u_{\\parallel_v}v + u_{\\perp_v}v \\\\\n",
    "vu' = uv\\\\\n",
    "v^{-1}vu' = v^{-1}uv\\\\\n",
    "u' = v^{-1}uv $\n",
    "> # $ ^{Ref_v(u)}_{u=u_{\\parallel_v} + u_{\\perp_v}}{\\Large\\color{red}{g}}^{v^{-1}uv}_{u'=u_{\\parallel_v}-u_{\\perp_v}}$"
   ]
  },
  {
   "cell_type": "code",
   "execution_count": 73,
   "id": "551b5893-bf55-4721-8570-b999b02e54bc",
   "metadata": {},
   "outputs": [
    {
     "data": {
      "text/plain": [
       "0.04118 - (0.06471^e12)"
      ]
     },
     "execution_count": 73,
     "metadata": {},
     "output_type": "execute_result"
    }
   ],
   "source": [
    "import clifford.g2 as g2\n",
    "u = g2.e1 + 4*g2.e2\n",
    "v = 3*g2.e1 + g2.e2\n",
    "\n",
    "#u.inv()*v.inv() == (u*v).inv()\n",
    "# (uv)^{-1}\n",
    "v.inv()*u*v == v*u*v.inv()"
   ]
  },
  {
   "cell_type": "markdown",
   "id": "7000774f-bad6-4b49-b5f2-c65cfc1bdf50",
   "metadata": {},
   "source": [
    "# Rotation in $G_{\\mathbb{R}_2}$\n",
    "> ## $\n",
    "^{Rot_v(\\theta)}_{I=e_1e_2}{\\Large\\color{red}{g}}^{ve^{I\\theta}}_{e^{-I\\theta}v}\n",
    "$ \n",
    ">> ### need bivector I\n",
    ">>> ### $ \\color{red}{Bivector} \\left \\{ \\begin{array}{}\n",
    "e_1e_2 \\\\ e_1 \\wedge e_2 \\\\ uv = u \\cdot v + u \\wedge v \\\\\n",
    "\\Large\\therefore\\, {^{Dref_{\\hat{v}\\hat{w}}(u)}_{}{\\Large\\color{red}{g}}^{(w^{-1})(v^{-1})u(v)(w)}_{(wv)^{-1}u(vw)}}\n",
    "\\end{array}\\right .$"
   ]
  },
  {
   "cell_type": "code",
   "execution_count": 145,
   "id": "cc443ebc-a4fb-469b-a4f0-b1f63e25a15e",
   "metadata": {},
   "outputs": [
    {
     "data": {
      "text/plain": [
       "0.5403 + (0.5403^e1) + (0.84147^e12)"
      ]
     },
     "execution_count": 145,
     "metadata": {},
     "output_type": "execute_result"
    }
   ],
   "source": [
    "v*w"
   ]
  },
  {
   "cell_type": "code",
   "execution_count": 168,
   "id": "de790b18-0e84-4041-ba15-946bd56d2f95",
   "metadata": {},
   "outputs": [
    {
     "data": {
      "text/plain": [
       "-(0.10836^e1) + (1.38865^e2) + (0.24474^e3)"
      ]
     },
     "execution_count": 168,
     "metadata": {},
     "output_type": "execute_result"
    }
   ],
   "source": [
    "# import clifford as cl\n",
    "import clifford.g3 as g3\n",
    "import sympy as sm\n",
    "import numpy as np\n",
    "v = np.sin(np.pi/2)*np.cos(0)*g3.e1 + np.sin(np.pi/2)*np.sin(0)*g3.e2 + np.cos(np.pi/2)*g3.e3\n",
    "w = np.sin(2)*np.cos(1)*g3.e1 + np.sin(2)*np.sin(1)*g3.e2 + np.cos(2)*g3.e3\n",
    "#w = (1/np.sqrt(2))*g3.e1 + (1/np.sqrt(2))*g3.e2\n",
    "u = g3.e1 + g3.e3\n",
    "(v*w).inv()*u*(v*w)"
   ]
  },
  {
   "cell_type": "code",
   "execution_count": 169,
   "id": "9be90855-2ef1-4c9c-a447-cc2329b141cf",
   "metadata": {},
   "outputs": [
    {
     "data": {
      "text/plain": [
       "-(0.10836^e1) + (1.38865^e2) + (0.24474^e3)"
      ]
     },
     "execution_count": 169,
     "metadata": {},
     "output_type": "execute_result"
    }
   ],
   "source": [
    "w*v*u*v*w"
   ]
  },
  {
   "cell_type": "code",
   "execution_count": 170,
   "id": "53abf302-e8f6-4605-b8e3-96c3eaf5c04e",
   "metadata": {},
   "outputs": [
    {
     "data": {
      "text/plain": [
       "(1.0^e1)"
      ]
     },
     "execution_count": 170,
     "metadata": {},
     "output_type": "execute_result"
    }
   ],
   "source": []
  },
  {
   "cell_type": "code",
   "execution_count": 153,
   "id": "c0aedb04-3401-4d56-a81d-171d6afdd9f3",
   "metadata": {},
   "outputs": [
    {
     "data": {
      "text/plain": [
       "1.0"
      ]
     },
     "execution_count": 153,
     "metadata": {},
     "output_type": "execute_result"
    }
   ],
   "source": [
    "(v*w).mag2()"
   ]
  },
  {
   "cell_type": "code",
   "execution_count": null,
   "id": "cc42eb2f-f00e-4ac8-bf5c-072b7eb9153f",
   "metadata": {},
   "outputs": [],
   "source": []
  }
 ],
 "metadata": {
  "kernelspec": {
   "display_name": "Python 3 (ipykernel)",
   "language": "python",
   "name": "python3"
  },
  "language_info": {
   "codemirror_mode": {
    "name": "ipython",
    "version": 3
   },
   "file_extension": ".py",
   "mimetype": "text/x-python",
   "name": "python",
   "nbconvert_exporter": "python",
   "pygments_lexer": "ipython3",
   "version": "3.10.1"
  }
 },
 "nbformat": 4,
 "nbformat_minor": 5
}
