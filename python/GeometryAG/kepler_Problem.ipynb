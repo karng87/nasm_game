{
 "cells": [
  {
   "cell_type": "code",
   "execution_count": 1,
   "id": "1b87a5ba-6a5d-455c-9baf-eaa15614db9b",
   "metadata": {},
   "outputs": [
    {
     "data": {
      "text/html": [
       "\n",
       "        <iframe\n",
       "            width=\"800\"\n",
       "            height=\"640\"\n",
       "            src=\"https://www.youtube.com/embed/https://www.youtube.com/watch?v=VApO4qUgAYY&list=PLpzmRsG7u_gqaTo_vEseQ7U8KFvtiJY4K&index=6\"\n",
       "            frameborder=\"0\"\n",
       "            allowfullscreen\n",
       "            \n",
       "        ></iframe>\n",
       "        "
      ],
      "text/plain": [
       "<IPython.lib.display.YouTubeVideo at 0x7f385777fb80>"
      ]
     },
     "execution_count": 1,
     "metadata": {},
     "output_type": "execute_result"
    }
   ],
   "source": [
    "import IPython as ipy\n",
    "ipy.display.YouTubeVideo('https://www.youtube.com/watch?v=VApO4qUgAYY&list=PLpzmRsG7u_gqaTo_vEseQ7U8KFvtiJY4K&index=6',width=800,height=640)"
   ]
  },
  {
   "cell_type": "markdown",
   "id": "ca26456d-396d-473b-b3ae-bf01e9a3d862",
   "metadata": {},
   "source": []
  },
  {
   "cell_type": "code",
   "execution_count": 112,
   "id": "28bdae85-1b51-4bbe-9b48-288471e56390",
   "metadata": {},
   "outputs": [
    {
     "data": {
      "text/plain": [
       "<matplotlib.collections.PathCollection at 0x7f384c651270>"
      ]
     },
     "execution_count": 112,
     "metadata": {},
     "output_type": "execute_result"
    },
    {
     "data": {
      "image/png": "[encoded data removed]",
      "text/plain": [
       "<Figure size 432x288 with 1 Axes>"
      ]
     },
     "metadata": {
      "needs_background": "light"
     },
     "output_type": "display_data"
    }
   ],
   "source": [
    "import matplotlib.pyplot as plt\n",
    "import matplotlib.patches as pat\n",
    "import numpy as np\n",
    "fig = plt.figure()\n",
    "ax = fig.add_subplot()\n",
    "ax.set_aspect('equal')\n",
    "ax.add_patch(pat.Circle([0.2,0.6],0.05,color='r'))\n",
    "ax.text(0.17,0.61,\"$m_1$\")\n",
    "ax.add_patch(pat.Circle([0.8,0.4],0.05,color='r'))\n",
    "ax.text(0.8,0.4,\"$m_2$\")\n",
    "ax.quiver(0,0,0.2,0.6,scale=1,units='xy')\n",
    "ax.quiver(0,0,0.8,0.4,scale=1,units='xy')\n",
    "ax.quiver(0.2,0.6,(0.8-0.2),(0.4-0.6),scale=1,units='xy')\n",
    "ax.text(0.06,0.4,r\"$\\vec{r_1}$\")\n",
    "ax.text(0.5,0.2,r\"$\\vec{r_2}$\")\n",
    "ax.text(0.5,0.52,r\"$\\vec{r}=(\\vec{r_2} - \\vec{r_1})$\")\n",
    "ax.scatter(0,0,s=180,color='k')"
   ]
  },
  {
   "cell_type": "markdown",
   "id": "222ed8ce-e8cb-4f65-a47e-6106743aceff",
   "metadata": {},
   "source": [
    "# $F = ma, a = \\frac{v_1 - v_0}{t_1 - t_0}, v = \\frac{s_1 - s_0}{t_1 - t_0}, s = v_{mean}t$\n",
    "## $ \\dot{\\vec{r}} = \\frac{d}{dt}x = v$\n",
    "## $ \\ddot{\\vec{r}} = \\frac{d^2}{dt^2}x = a$\n",
    "> ### $\n",
    "\\vec {r} = \\vec{r_2} - \\vec{r_1}\\\\\n",
    "\\ddot{\\vec {r}} = \\ddot{\\vec{r_2}} - \\ddot{\\vec{r_1}}\\\\\n",
    "\\ddot{\\vec{r_1}} = \\frac{\\vec{F_{12}}}{m_1}, \\quad \\ddot{\\vec{r_2}} =\n",
    "\\frac{\\vec{F_{21}}}{m_2}\n",
    "$\n",
    "> ### $\\vec{F_{12}} = \\frac{Gm_1m_2}{r^2}\\hat{r}$\n",
    "> ### $\\ddot{\\vec{r_{1}}} = \\frac{Gm_2}{r^2}\\hat{r}$\n",
    "> ### $\\ddot{\\vec{r_{2}}} = -\\frac{Gm_1}{r^2}\\hat{r}$\n",
    "> ### $\\ddot{\\vec{r}} = -\\frac{G(m_1 + m_2)}{r^2}\\hat{r}$"
   ]
  },
  {
   "cell_type": "markdown",
   "id": "64a5287d-91ee-4552-8109-3768219398e5",
   "metadata": {},
   "source": []
  },
  {
   "cell_type": "code",
   "execution_count": 195,
   "id": "1f9d690c-c6b1-4abe-8144-80e79f5c2cf7",
   "metadata": {},
   "outputs": [
    {
     "data": {
      "text/plain": [
       "0.9"
      ]
     },
     "execution_count": 195,
     "metadata": {},
     "output_type": "execute_result"
    },
    {
     "data": {
      "image/png": "[encoded data removed]",
      "text/plain": [
       "<Figure size 432x288 with 1 Axes>"
      ]
     },
     "metadata": {
      "needs_background": "light"
     },
     "output_type": "display_data"
    }
   ],
   "source": [
    "import matplotlib.pyplot as plt\n",
    "import matplotlib.patches as pat\n",
    "import numpy as np\n",
    "x0 = np.linspace(0.25,0.8,100)\n",
    "fig = plt.figure()\n",
    "ax = fig.add_subplot()\n",
    "ax.set_aspect('equal')\n",
    "ax.set_xlim(xmin= -0.1,xmax=1.1)\n",
    "ax.add_patch(pat.Circle([0.6,0.3],0.05,color='r'))\n",
    "ax.text(0.6,0.4,\"$m$\")\n",
    "ax.quiver(0,0,0.6,0.3,scale=1,units='xy',width=0.02)\n",
    "ax.quiver(0.6,0.3,0.3-0.6,0.9-0.3,scale=1,units='xy',color='r',width=0.02)\n",
    "ax.scatter(0,0,s=180,color='b')\n",
    "ax.plot(x0,-2*x0+1.5,'--k')\n",
    "-2*0.3 + 1.5"
   ]
  },
  {
   "cell_type": "markdown",
   "id": "52b17252-f9cc-4ae3-93c5-06f26282787a",
   "metadata": {},
   "source": [
    "# Momentum(운동량)\n",
    "> ### $ \\vec{P} = m\\vec{v}$\n",
    ">> ### $^{\\angle}\\vec{P} = \\vec{r} \\times \\vec{P} = \\vec{r}\\times m \\dot{\\vec{r}}$\n",
    "> ### $ H_m = \\vec{r} \\wedge \\dot{\\vec{r}}, \\quad \\ddot{\\vec{r}} = G\\frac{m_1 + m_2}{r^2}\\hat{r}$\n",
    "> ### $ \\frac{d}{dt}H_m = \\frac{d}{dt} (\\vec{r}\\wedge \\dot{\\vec{r}})\\quad \\because \\wedge \\text{ product is multi linearity }$\n",
    "> ### $ \\frac{d}{dt}H_m = \\big( \\dot{\\vec{r}} \\wedge \\dot{\\vec{r}} \\big) + \\big( \\vec{r} \\wedge \\ddot{\\vec{r}} \\big) = \n",
    "\\vec{r} \\wedge \\ddot{\\vec{r}} = 0 \\\\\n",
    "\\therefore \\frac{d}{dt} (\\vec{r}\\wedge \\dot{\\vec{r}}) = 0\n",
    "$\n",
    ">> ### conservation of angular momentum"
   ]
  },
  {
   "cell_type": "markdown",
   "id": "40b35c02-0289-4b25-a859-4f19d39308e7",
   "metadata": {},
   "source": [
    "> ### $H_m = \\vec{r} \\wedge \\dot{\\vec{r}} \\quad \\because \\vec{r} = r \\hat{r}$"
   ]
  },
  {
   "cell_type": "markdown",
   "id": "4b6fe5e4-01aa-458a-8208-7f1b3c67716a",
   "metadata": {},
   "source": [
    "> ### $ \\dot{\\vec{r}} = \\dot{r\\hat{r}} = \\frac{d}{dt}(r\\hat{r}) = \\dot{r}\\hat{r} + r \\dot{\\hat{r}}$"
   ]
  },
  {
   "cell_type": "markdown",
   "id": "824933ee-3706-4dca-a4a6-666e162881a3",
   "metadata": {},
   "source": [
    "> ### $ H_m = r\\hat{r} \\wedge \\big(\\dot{r}\\hat{r} + r \\dot{\\hat{r}}\\big) \\quad \\because \\dot{r}\\hat{r} = 0\n",
    "$"
   ]
  },
  {
   "cell_type": "markdown",
   "id": "9ef88579-d8f0-4064-906e-513b8ccdd2c9",
   "metadata": {},
   "source": [
    "> ### $ H_m = r\\hat{r} \\wedge r \\dot{\\hat{r}} = r^2(\\hat{r} \\wedge \\dot{\\hat{r}}) \\quad \\because \\hat{r}\\dot{\\hat{r}} = \\hat{r} \\cdot \\dot{\\hat{r}} + \\hat{r} \\wedge \\dot{\\hat{r}}$\n",
    "> ### $ H_m = r^2\\big( \\hat{r} \\dot{\\hat{r}} - \\hat{r} \\cdot \\dot{\\hat{r}}\\big)\n",
    "\\quad \\because \\hat{r} \\cdot \\dot{\\hat{r}} = \\frac{1}{2}\\frac{d}{dt}\\big(\\hat{r} \\cdot \\hat{r}\\big) = \\frac{1}{2}\\frac{d}{dt}|r|^2 = \\frac{1}{2}\\frac{d}{dt}(1)= 0$"
   ]
  },
  {
   "cell_type": "code",
   "execution_count": null,
   "id": "3f28daf7-4bdc-4807-af5d-903505859f26",
   "metadata": {},
   "outputs": [],
   "source": []
  }
 ],
 "metadata": {
  "kernelspec": {
   "display_name": "Python 3 (ipykernel)",
   "language": "python",
   "name": "python3"
  },
  "language_info": {
   "codemirror_mode": {
    "name": "ipython",
    "version": 3
   },
   "file_extension": ".py",
   "mimetype": "text/x-python",
   "name": "python",
   "nbconvert_exporter": "python",
   "pygments_lexer": "ipython3",
   "version": "3.10.1"
  }
 },
 "nbformat": 4,
 "nbformat_minor": 5
}
