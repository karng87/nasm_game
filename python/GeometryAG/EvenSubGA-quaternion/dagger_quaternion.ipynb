{
 "cells": [
  {
   "cell_type": "markdown",
   "id": "92790b6f-182e-4365-8e4a-c8ac88cccbc5",
   "metadata": {},
   "source": [
    "# Even Subgeometric Algebra (isomorphism quaternion)\n",
    ">> ### Even =: grade 0(scalars) + grade 2(Bivectors)\n",
    "> # $ G^+_3 \\cong \\mathbb H \\text{ (quaternion)}$\n",
    ">> ### $ R_1 = a + be_1e_2 + ce_2e_3 + de_3e_1 \\in \\{1,e_1e_2,e_2e_3,e_3e_1\\}$\n",
    ">> ### $ q_1 = a + bi + cj + dk \\in \\{1,i,j,k\\}$\n",
    ">> ### $ R_2 = e + fe_1e_2 + ge_2e_3 + he_3e_1 \\iff q_2 = e + fi + gj + hk$\n",
    ">> ### $ R_3 = R_1R_2 \\iff q_3 = q_1 q_2$\n",
    ">> ### $ (e_1e_2) = i, (e_2e_3) = j, (e_3e_1) = k$\n",
    ">> ### $ (e_1e_2)^2 = i^2 = (e_2e_3)^2 = j^2 =  (e_1e_3)^2 = k^2 = -1 = ijk$\n",
    ">> ### $ (e_1e_1) = (e_2e_2) = (e_3e_3)^= 1$\n",
    ">> ### $ ki = j \\iff e_1e_3e_1e_2  =  -e_1e_1e_3e_2 = -e_3e_2 = -e_2e_3 = j$ "
   ]
  },
  {
   "cell_type": "markdown",
   "id": "7db1122d-365a-4187-8ec7-808ae17d4f75",
   "metadata": {},
   "source": [
    "# unit quaternion\n",
    "> ### a very specific subsets of the quaternions\n",
    ">> ### $ |q| = 1$\n",
    ">>> ### $ R = a + \\underbrace{be_1e_2 + c e_2e_3 + de_1e_3}_{\\text{Bivectors}}  = a + B$\n",
    ">>> ### $ R^{\\dagger} = (a+ B)^{\\dagger} = a^{\n",
    "\\dagger} + B^{\\dagger}$ \n",
    ">>>> ### $\\because R^{\\dagger}R = 1 \\\\\n",
    "(e_ie_j)^{\\dagger} = e_je_i = -e_ie_j \\\\\n",
    "R^{\\dagger}R = (a-B)(a+B) = a^2 - B^2, \\quad \\because B^2 = -|B|^2 $\n",
    ">>> ### $ R^{\\dagger}R = a^2 + |B|^2 = 1 \\therefore a^2 + b^2 + c^2 + d^2 = 1$"
   ]
  },
  {
   "cell_type": "markdown",
   "id": "925fb6bc-8dd3-473a-948f-b7ef91c577dc",
   "metadata": {},
   "source": [
    "> ### $ q_1q_2 = q_3 \\iff |q_1q_2|^2 = |q_1|^2|q_2|^2 \\\\\n",
    "\\text{ if } |q_1|=|q_2|=1 \\text { then } |q_1q_2| = 1$"
   ]
  },
  {
   "cell_type": "markdown",
   "id": "254566f6-8b9b-4152-8440-5c70b4e9a2cd",
   "metadata": {},
   "source": [
    "# $ v' = e^{-\\frac{1}{2}\\theta\\hat{B}}ve^{\\frac{1}{2}\\theta\\hat{B}}$\n",
    "> # $ v' = RvR^{\\dagger}$\n",
    "# $ q' = e^{\\frac{1}{2}\\theta\\hat{n}}qe^{-\\frac{1}{2}\\theta\\hat{n}}$\n",
    "> # $ v' = qvq^{\\star}$"
   ]
  },
  {
   "cell_type": "markdown",
   "id": "c0f5ca5a-dbfb-41e0-850c-7ea91b920885",
   "metadata": {},
   "source": [
    "# $\n",
    "uv = v^{-1}(u \\cdot v + u \\wedge v)\n",
    "$"
   ]
  },
  {
   "cell_type": "markdown",
   "id": "188de7aa-3f6b-4b86-8d4c-dc8ec40d431a",
   "metadata": {},
   "source": [
    "# $ \\frac{v}{|v|^2}(u \\cdot v + u \\wedge v) $ "
   ]
  },
  {
   "cell_type": "markdown",
   "id": "39309120-7b7d-428c-9654-5d722dc66956",
   "metadata": {},
   "source": [
    "# $ \\frac{v}{|v|^2}u \\wedge \\frac{v}{|v|^2}v $ "
   ]
  },
  {
   "cell_type": "markdown",
   "id": "f13163c3-e567-497f-be7d-5da40ec78e21",
   "metadata": {},
   "source": [
    "# $ v \\cdot u + v \\wedge u$ "
   ]
  },
  {
   "cell_type": "code",
   "execution_count": null,
   "id": "57f8a69d-3643-43a5-b016-98781edd24a9",
   "metadata": {},
   "outputs": [],
   "source": []
  }
 ],
 "metadata": {
  "kernelspec": {
   "display_name": "Python 3 (ipykernel)",
   "language": "python",
   "name": "python3"
  },
  "language_info": {
   "codemirror_mode": {
    "name": "ipython",
    "version": 3
   },
   "file_extension": ".py",
   "mimetype": "text/x-python",
   "name": "python",
   "nbconvert_exporter": "python",
   "pygments_lexer": "ipython3",
   "version": "3.10.1"
  }
 },
 "nbformat": 4,
 "nbformat_minor": 5
}
