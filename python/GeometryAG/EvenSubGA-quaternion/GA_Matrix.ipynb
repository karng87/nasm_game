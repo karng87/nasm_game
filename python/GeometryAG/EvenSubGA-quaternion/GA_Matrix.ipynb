{
 "cells": [
  {
   "cell_type": "markdown",
   "id": "6cbfafee-0719-451c-bf2b-1136e26421cb",
   "metadata": {},
   "source": [
    "# Matrices\n",
    "> ### Columns\n",
    "> ### interpretaions of matrix elements\n",
    "> ### matrix-vector product\n",
    "> ### scaling, adding, and muliplying matrices\n",
    "# Change of basis\n",
    "> ### invariance of the determinant\n",
    "# Adjoint\n",
    "> ### symmetric antisymmetric orthogonal transformations"
   ]
  },
  {
   "cell_type": "markdown",
   "id": "a3cb85f9-2070-40e6-abf3-b617bff4af2e",
   "metadata": {},
   "source": [
    "---\n",
    "> ### basis $\\{ e_1, e_2, e_3 \\}$\n",
    "> ### $\\vec{v} = v_1e_1 + v_2e_2 + v_3e_3 \\ni v_1,v_2 v_3 \\in \\mathbb R$\n",
    "> ### $f(\\vec{v}) = f(v_1e_1 + v_2e_2 + v_3e_3) = v_1f(e_1) + v_2f(e_2) + v_3 f(e_3)$\n",
    ">> ### $\\color{red}{row(행)} \\mapsto$ matches the $\\color{red}{basis}$ index \n",
    ">> ### $\\color{teal}{column(열)}\\mapsto$ matches the $\\color{teal}{component}$ index로 맞추어주자\n",
    ">> ### $\\because \\begin{cases}f(e_1) = f_{11}e_1 + f_{21}e_2 + f_{31}e_3 \\\\\n",
    "f(e_2) = f_{12}e_1 + f_{22}e_2 + f_{32}e_3 \\\\\n",
    "f(e_3) = f_{13}e_1 + f_{23}e_2 + f_{33}e_3 \\\\\n",
    "\\end{cases}$"
   ]
  },
  {
   "cell_type": "markdown",
   "id": "a861dd63-f22e-4e52-ba53-25df942d2a25",
   "metadata": {},
   "source": [
    "> ### $\n",
    "v_1 \\underbrace{\\begin{bmatrix}f_{11}e_1 \\\\ f_{21}e_2\\\\f_{31}e_3 \\end{bmatrix}}_{f(e_1)} + \n",
    "v_2 \\underbrace{\\begin{bmatrix}f_{12}e_1 \\\\ f_{22}e_2\\\\f_{32}e_3 \\end{bmatrix}}_{f(e_2)}+ \n",
    "v_1 \\underbrace{\\begin{bmatrix}f_{13}e_1 \\\\ f_{23}e_2\\\\f_{33}e_3 \\end{bmatrix}}_{f(e_3)}$"
   ]
  },
  {
   "cell_type": "markdown",
   "id": "0f74cda1-4193-44b5-ab95-8591a158c572",
   "metadata": {},
   "source": [
    "> ### $\n",
    "v_1 \\underbrace{\\begin{bmatrix}f_{11}\\\\ f_{21}\\\\f_{31} \\end{bmatrix}}_{f(e_1)} + \n",
    "v_2 \\underbrace{\\begin{bmatrix}f_{12}\\\\ f_{22}\\\\f_{32} \\end{bmatrix}}_{f(e_2)}+ \n",
    "v_1 \\underbrace{\\begin{bmatrix}f_{13}\\\\ f_{23}\\\\f_{33} \\end{bmatrix}}_{f(e_3)} = \n",
    "\\begin{bmatrix}e_1 \\\\ e_2 \\\\ e_3 \\end{bmatrix}$"
   ]
  },
  {
   "cell_type": "markdown",
   "id": "dec55220-ec84-47e3-8eb7-b288f9f4fd6b",
   "metadata": {},
   "source": [
    "> ### $\n",
    "\\begin{bmatrix}f_{11} & f_{12} & f_{13} \\\\ f_{21} & f_{22} & f_{23} \\\\ f_{31} & f_{32} & f_{33} \\end{bmatrix}\n",
    "\\begin{bmatrix}v_1 \\\\ v_2 \\\\ v_3 \\end{bmatrix} = \n",
    "\\begin{bmatrix}e_1 \\\\ e_2 \\\\ e_3 \\end{bmatrix}$"
   ]
  },
  {
   "cell_type": "markdown",
   "id": "f55d8a63-1b88-4dd8-b918-72275c34114b",
   "metadata": {},
   "source": [
    "> ### $\n",
    "f(\\vec{v})\\begin{cases} f(\\displaystyle{\\sum_{i=1}^{3}v_ie_i)}\n",
    "\\displaystyle{\\sum_{i=1}^{3}v_if(e_i)} \\\\\n",
    "\\displaystyle{\\sum_{i=1}^{3}v_i \\sum_{j=1}^{3}f_{ji}e_j} \\\\\n",
    "\\displaystyle{\\sum_{i=1}^{3}\\sum_{j=1}^{3} v_i f_{ji}e_j} \\\\\n",
    "\\end{cases}\n",
    "$ \n",
    "> ### $\n",
    "\\therefore f(\\vec{v}) = \\displaystyle{\\sum_{i=1}^{3}\\sum_{j=1}^{3} v_j f_{ij}e_i}\n",
    "= \\displaystyle{\\sum_{i=1}^{3}\\sum_{j=1}^{3} f_{ij}e_iv_j}\n",
    "$"
   ]
  },
  {
   "cell_type": "markdown",
   "id": "a82b25a3-44f3-4618-a359-28d2331382e2",
   "metadata": {},
   "source": [
    "> ### $\n",
    "\\therefore \\lambda f(\\vec{v})\n",
    "= \\displaystyle{\\sum_{i=1}^{3}\\sum_{j=1}^{3} (\\lambda f_{ij})e_iv_j}\n",
    "= \\displaystyle{\\sum_{i=1}^{3}\\sum_{j=1}^{3} (\\lambda f)_{ij}e_iv_j}\n",
    "= f(\\lambda \\vec{v})\n",
    "$"
   ]
  },
  {
   "cell_type": "code",
   "execution_count": null,
   "id": "752c7c1b-6a55-4d1d-bbad-bc4095aee898",
   "metadata": {},
   "outputs": [],
   "source": []
  }
 ],
 "metadata": {
  "kernelspec": {
   "display_name": "Python 3 (ipykernel)",
   "language": "python",
   "name": "python3"
  },
  "language_info": {
   "codemirror_mode": {
    "name": "ipython",
    "version": 3
   },
   "file_extension": ".py",
   "mimetype": "text/x-python",
   "name": "python",
   "nbconvert_exporter": "python",
   "pygments_lexer": "ipython3",
   "version": "3.10.1"
  }
 },
 "nbformat": 4,
 "nbformat_minor": 5
}
