{
 "cells": [
  {
   "cell_type": "markdown",
   "id": "995ff88d-6da9-457c-a668-79e4f9ef06f5",
   "metadata": {},
   "source": [
    "# $\\color{red}{vector space}$\n",
    "> ### A vector space $V$ is $\\color{magenta}{any}$ set of objects $P,Q,R,...$ satifying:\n",
    ">> ### $\\color{magenta}{\\text{ Scalar multiplication } sP}$ and $\\color{magenta}{\\text { vector addition } P+Q}$ are defined.\n",
    ">> ### there is a special object 0.\n",
    "> ### addition \n",
    ">> ### $\n",
    "P + Q = Q + P,  (P + Q) + R = P + (Q + R),  P + I = P, P +  P^{-1} = 0$\n",
    "> ### scalar multiplication \n",
    ">> ### $\n",
    "0P = 0, IP = P, a(bQ) = (ab)Q$\n",
    "> ### super position\n",
    ">> ### $\n",
    "(a+b)P = aP + bP\n",
    "$"
   ]
  },
  {
   "cell_type": "markdown",
   "id": "eeeaff65-627f-4cdf-bcc4-2511665df832",
   "metadata": {},
   "source": [
    "# $\\color{red}{multivectors}$\n",
    "> ### Four kinds in G3\n",
    ">> ### 1. scalars\n",
    ">> ### 2. vectors\n",
    ">> ### 3. bivectors\n",
    ">> ### 4. trivectors\n",
    "> ### The objects in $\\mathbb G^3$\n",
    ">> ### form\n",
    ">>> ### $ M = s + v + B + T$\n",
    ">>>> ### where s is a scalar, v a vector, B a bivector, T a trivectr.\n",
    ">>>> ### M is called a $\\color{magenta}{multivector}$.(v is a vector and multivector.)\n",
    "> ### The multivectors in $\\mathbb G^3$ form a vector space"
   ]
  },
  {
   "cell_type": "markdown",
   "id": "686de38f-2e3c-45b2-861f-beee5b1aa3f0",
   "metadata": {},
   "source": [
    "> ## 1. scalar\n",
    ">> ### an oriented  $\\color{magenta}{\\text{ magnitude}}$\n",
    ">> ### are not elements of $\\mathbb R^3$\n",
    ">>> ### but scalars multiply vectors in $\\mathbb R^3$"
   ]
  },
  {
   "cell_type": "markdown",
   "id": "c8a31687-35a2-47d2-85ec-8d9753b12f8b",
   "metadata": {},
   "source": [
    "> ## 2. Vectors\n",
    ">> ### an oriented $\\color{red}{segment}$ of $\\color {magenta}{ \\text {a line }}$ \n",
    ">> ### size\n",
    ">>> ### length $|V|$\n",
    ">> ### Orientation: arrow head \n",
    ">> ### 1 D object\n"
   ]
  },
  {
   "cell_type": "markdown",
   "id": "e5b74064-e094-4d1e-9db5-64f157cf1280",
   "metadata": {},
   "source": [
    "> ## 3. Bivector\n",
    ">> ### an oriented $\\color{red}{segment}$ of $\\color{magenta}{\\text{ a plane}}$\n",
    ">>> ### Size: area $|B|$.\n",
    ">>> ### Orientation: arrow head.\n",
    ">> ### considered unchanged if:  \n",
    ">>> ### moved paralled to it self;\n",
    ">>> ### rotated in its plane;\n",
    ">>> ### reshaped, retaining $|B|$\n",
    ">>>> ### have No Shape\n",
    ">> ### scalar multiplication\n",
    ">> ### also add vivectors\n",
    ">>> form a vector space"
   ]
  },
  {
   "cell_type": "markdown",
   "id": "db4fb15f-4c14-43a8-bfc9-686e08cf33c4",
   "metadata": {},
   "source": [
    "> ## 4. Triavector\n",
    ">> ### an oriented segment of $\\color{magenta}{space}$\n",
    ">> ### Size: volumn $|T|$\n",
    ">> ### Orientation: left/right handed.\n",
    ">> ### T considered unchanged if:\n",
    ">>> ### moved/rotated/reshaped, retaining $|T|$\n",
    ">> ### can define $cT, T_1 + T_2.$\n",
    ">>> ### T's form a vector space($\\color{magenta}{Dimention 1}$).\n",
    ">>> ### Every trivector T is a scalar multiple of a given trivector $T_0 \\neq 0$\n",
    ">> ### Called pseudoscalars\n"
   ]
  },
  {
   "cell_type": "markdown",
   "id": "cd93d42c-210f-4580-98ae-bfef25ef700a",
   "metadata": {},
   "source": [
    "# Basis\n",
    "> ### $\\{e_1,\\; e_2,\\; e_3\\}$ is an orthonormal basis for $\\mathbb R^3$\n",
    "> ### A $\\mathbb{G}^3$ Basis\n",
    ">> ### $\\{1\\}$ is a scalar basis: 1\n",
    ">> ### $\\{e_1,\\; e_2,\\; e_3\\}$ is a vector basis : 3\n",
    ">> ### $\\{e_1 \\wedge e_2,\\; e_1 \\wedge e_2,\\; e_2 \\wedge e_3\\}$ is a bivector basis : 3\n",
    ">> ### $\\{e_1 \\wedge e_2 \\wedge e_3\\}$ is a trivector basis : 1\n",
    "> ### Dimention in $\\mathbb G^3$\n",
    ">> ### 1 + 3 + 3 + 1 = 8\n"
   ]
  },
  {
   "cell_type": "markdown",
   "id": "15ad38bc-2be4-4752-9e91-206c3ad913bb",
   "metadata": {},
   "source": [
    "# Inner Product ($u \\cdot v$)\n",
    "> ### definition\n",
    ">> ### $ u \\cdot v = |u||v| cos \\theta $\n",
    ">>> ### this is a scalar\n",
    "> ### properties\n",
    ">> ### $ u \\parallel v \\implies u \\cdot v = |u||v|.\\\\\n",
    "\\quad  u \\parallel u \\implies u \\cdot u = |u|^2.\\\\\n",
    "u \\perp v \\implies u \\cdot v = 0.\\\\\n",
    "v \\cdot u = u \\cdot v \\text{ (Commute)}$"
   ]
  },
  {
   "cell_type": "markdown",
   "id": "65d15dc2-002e-4de9-86bf-8ea06c8d5b59",
   "metadata": {},
   "source": [
    "# Outer Product ($u \\wedge v$)\n",
    "> ### definition\n",
    ">> ### right hand rule\n",
    ">> ### $ |u \\wedge v| = |u||v|sin\\theta$\n",
    "> ### properties\n",
    ">> ### $\n",
    "u \\parallel v \\implies u \\wedge v = 0. \\\\\n",
    "\\quad u \\parallel u \\implies u \\wedge u = 0. \\\\\n",
    "u \\perp v \\implies |u \\wedge v| = |u||v|.\\\\\n",
    "u \\wedge v = - \\big(v \\wedge v\\big) \\text{ :Anticommute}\n",
    "$"
   ]
  },
  {
   "cell_type": "markdown",
   "id": "d191428f-745d-4325-a36a-1beff4c68c2c",
   "metadata": {},
   "source": [
    "---\n",
    "# 2D $\\color{red}{complex}$ number \n",
    "> # rotation of $\\theta$ angle\n",
    ">> ## $\\color{red}{v' = e^{i\\theta} v} $\n",
    "> ### $\n",
    "u = e^{i\\alpha} = cos\\alpha + i\\, sin\\alpha \\\\\n",
    "v = e^{i\\beta} = cos\\beta + i\\, sin\\beta\\\\\n",
    "uv = \n",
    "(cos\\alpha cos\\beta - sin\\alpha sin\\beta) +\n",
    "(cos\\alpha sin\\beta + cos\\beta sin\\alpha)i\n",
    "\\\\ =\n",
    "\\big(cos(\\alpha + \\beta \\big) + \\big( sin(\\alpha + \\beta \\big)i\n",
    "$ "
   ]
  },
  {
   "cell_type": "markdown",
   "id": "af2b2566-d35f-453a-83ef-11030401bacf",
   "metadata": {},
   "source": [
    "---\n",
    "# 3D $\\color{red}{quaternion}$\n",
    "> ## rotation of $\\theta$\n",
    ">> ## special\n",
    ">>> ## $\n",
    "cos \\theta \\; q^v_{\\flat{(v',v)}} + sin\\theta \\; q^{\\perp}_{(\\hat{\\uparrow}\\times v)}\\\\\n",
    "cos \\theta \\; q^v_{\\flat{(v',v)}} + sin\\theta \\; q^{\\perp}_{\\hat{\\uparrow}v}\\\\\n",
    "\\therefore cos \\theta \\; \\big( q^v \\big) + sin\\theta \\; \\big(q^{\\hat{\\uparrow}}\\times q^{v} \\big)\\\\\n",
    "\\therefore cos \\theta \\; \\big( q^v \\big) + sin\\theta \\; \\big( q^{\\hat{\\uparrow}} q^{v} \\big)\\\\\n",
    "\\therefore q^{v'} = e^{(\\hat{\\uparrow}\\theta)}q^v\n",
    "$"
   ]
  },
  {
   "cell_type": "markdown",
   "id": "a2643b02-2b15-48e6-9bb2-992ea6b7402a",
   "metadata": {},
   "source": [
    ">> ## general\n",
    ">>> ## $ \\large q^{v'} = e^{\\hat{\\uparrow}\\frac{\\theta}{2}} \\, q^{v} \\, e^{-\\hat{\\uparrow}\\frac{\\theta}{2}} $\n",
    ">>> ## $ q^{v'} = \n",
    "q^{\\parallel}_{\\flat(v,\\uparrow)} + \n",
    "cos\\theta \\, q^{\\perp}_{(v-\\parallel)} +\n",
    "sin\\theta \\, q^{\\perp'}_{(\\hat{\\parallel}\\times \\perp)} \\\\\n",
    "q^{\\parallel}_{\\flat(v,\\uparrow)} + \n",
    "cos\\theta \\, q^{\\perp}_{(v-\\parallel)} +\n",
    "sin\\theta \\, q^{\\perp'}_{(\\hat{\\parallel}\\times v)} \\\\\n",
    "q^{\\parallel}_{\\flat{(v,\\hat{\\uparrow}})} + e^{\\hat{\\uparrow}\\theta}\\; q^{\\perp}_{v-\\parallel}\\\\\n",
    "e^{\\hat{\\uparrow}\\frac{\\theta}{2}}\\; e^{-\\hat{\\uparrow}\\frac{\\theta}{2}}\\; q^{\\parallel}_{\\flat{(v,\\hat{\\uparrow}})} + \n",
    "e^{\\hat{\\uparrow}\\frac{\\theta}{2}} e^{\\hat{\\uparrow}\\frac{\\theta}{2}}\\; q^{\\perp}_{v-\\parallel}\n",
    "\\\\\n",
    "e^{\\hat{\\uparrow}\\frac{\\theta}{2}} q^{\\parallel}_{\\hat{\\uparrow}\\flat{(v,\\hat{\\uparrow}})} e^{-\\hat{\\uparrow}\\frac{\\theta}{2}} +\n",
    "e^{\\hat{\\uparrow}\\frac{\\theta}{2}} q^{\\perp}_{(v-\\parallel)}e^{-\\hat{arrow}\\frac{\\theta}{2}}\n",
    "\\\\\n",
    "\\color{red}{e^{\\hat{\\uparrow}\\frac{\\theta}{2}} \\big( q^{\\parallel} +q^{\\perp} \\big) \n",
    "e^{-\\hat{\\uparrow}\\frac{\\theta}{2}}} \\\\\n",
    "\\color{red}{e^{\\hat{\\uparrow}\\frac{\\theta}{2}} \\big( q^{v} \\big) \n",
    "e^{-\\hat{\\uparrow}\\frac{\\theta}{2}}}\n",
    "$"
   ]
  },
  {
   "cell_type": "markdown",
   "id": "094414dd-ba3f-4c58-87e7-7d80ae237d5c",
   "metadata": {},
   "source": [
    "---\n",
    "# Geometric Product ($uv$)\n",
    "> ### definiton\n",
    ">> ### $ uv = u \\cdot v + u \\wedge v = |u||v|e^{i\\theta}$\n",
    ">>> ### in 2D complex number \n",
    ">>>> ### $ uv = a_1 b_1 - a_2 b_2 + (a_1 b_2 + a_2b_1)i $\n",
    ">>> ### in quaternion\n",
    ">>>> ### $ uv = a_1 b_1 - (a_v \\cdot b_v) + a_1 b_v + b_1 a_v + (a_v \\times b_v) \\\\ \n",
    "\\text{if } a_1, b_1 = 0  \\text{ then } \\\\\n",
    "\\therefore q^v_aq^v_b = - (q^v_a \\cdot q^v_b) + (q^v_a \\times q^v_b)$\n",
    ">\n",
    ">> ### $\n",
    "vu = v \\cdot u + v \\wedge u.\\\\\n",
    "vu = u \\cdot v - u \\wedge v.\\\\\n",
    "\\because uv + vu = 2(u \\cdot v) \\\\\n",
    "\\therefore u \\cdot v =  \\frac{uv + vu}{2} \\\\\n",
    "\\because uv - vu = 2(u \\wedge v) \\\\\n",
    "\\therefore u \\wedge v =  \\frac{uv - vu}{2}$\n",
    ">> ### $uv = |u||v|e^{i\\theta}$\n",
    ">>> ### $\\because u \\cdot v = |u||v|cos\\theta \\\\ \n",
    "\\because u \\wedge v = |u||v|sin\\theta \\,e_1e_2\\\\ \n",
    "\\therefore uv = |u||v|(cos\\theta + sin\\theta\\, e_1 e_2) \\\\ \n",
    "\\therefore uv = |u||v|e^{i\\theta}$\n",
    ">>>> ### $\\color{magenta}{\\text{ if } |u| = |v|}$\n",
    ">>>>> ### $\n",
    "uv = |u||v|e^{i\\theta} \\\\\n",
    "uuv = u|u||v|e^{i\\theta} \\\\\n",
    "u^2v = u|u||v|e^{i\\theta} \\\\\n",
    "(u\\cdot u)v = u|u||v|e^{i\\theta} \\\\\n",
    "|u||u|v = u|u||v|e^{i\\theta} \\\\\n",
    "$\n",
    "> ### properties\n",
    ">> ### $\n",
    "u \\parallel v \\implies uv = u \\cdot v = |u||v|. \\\\\n",
    "\\quad uv = vu \\\\\n",
    "u \\perp v \\implies uv = u \\wedge v.\\\\\n",
    "\\quad vu = -uv.\n",
    "$"
   ]
  },
  {
   "cell_type": "markdown",
   "id": "f0f68d03-42a8-43d3-88b7-85158edc95fb",
   "metadata": {},
   "source": [
    "# Pseudoscalars $ = I = q^{\\hat{\\uparrow}}$\n",
    "> ### Highest dimensional object in $\\mathbb G^3:$\n",
    ">> ### Trivectors. Form a 1-dimentional vector space.\n",
    "> ### Highest dimensional objects in $\\mathbb G^2:$\n",
    ">> ### Bivectors. Form a 1-dimentional vector space.\n",
    "> ### Highest dimensional objets in $\\mathbb R^{2Ds} (\\text{ GA of 2D subspace of $\\mathbb R^n)$}$\n",
    ">> ### Bivectors. Form a 1-dimentional vector space."
   ]
  },
  {
   "cell_type": "markdown",
   "id": "4e907127-1614-4e1a-9061-80efe38b2375",
   "metadata": {},
   "source": [
    "# I(i)\n",
    "> ### definition(2D Unit Pseudoscalar i)\n",
    ">> ### $\\{e_1, e_2\\}:$ an orthonormal basis for a 2D subspace of $\\mathbb R^n$\n",
    ">>> ### $i = e_1e_2 = e_1 \\wedge e_2, \\text{ a bivector}\\\\\n",
    "\\because (e_1e_2)^2 = e_1e_2e_1e_2 = -e_1e_1e_2e_2 = -1$"
   ]
  },
  {
   "cell_type": "markdown",
   "id": "e267fd9f-e8f9-4f9a-ad99-45c56c02332d",
   "metadata": {},
   "source": [
    "# Bivector Angle $i\\theta$\n",
    "> ### definition (Bivector Angle $i\\theta$)\n",
    ">> ### Let $\\theta$ be an in a plane i.\n",
    ">> ### Call the bivector $i\\theta$ an angle also.\n",
    ">>> ### $i\\theta$ specifies both the plane i in which it resides and its size $\\theta$\n",
    "> ### definition (Exponential $e^{i\\theta}$)\n",
    ">> ### $ e^{i\\theta} = cos\\theta + i\\, sin\\theta$\n"
   ]
  },
  {
   "cell_type": "markdown",
   "id": "32408983-5bbc-4482-8583-2de6fbd46eac",
   "metadata": {},
   "source": [
    "# uv \n",
    "> ### $\n",
    "uv = u \\cdot v + v \\wedge u = |u||v|cost\\theta + |u||v|sin\\theta I \\\\\n",
    "uv = |u||v|e^{I\\theta} = |u||v|e^{\\hat{\\uparrow}\\theta} \n",
    "$\n",
    ">> ### $\\text{if } |u| = |v| \\text { then} \\\\\n",
    "u(uv) = u(|u||v|e^{I\\theta})\\\\\n",
    "(u \\cdot u)v = u|u||v|e^{I\\theta} \\\\\n",
    "|u||u|v = u|u||v|e^{I\\theta} \\\\\n",
    "|u||v|v = u|u||v|e^{I\\theta} \\\\\n",
    "v = ue^{I\\theta} \\text{ in special}\\\\\n",
    "\\color{red}{ \\therefore u' = ue^{I\\theta}} \\text{ in special}\\\\\n",
    "\\color{red}{ \\therefore u' = e^{i\\theta}u^{(2D)}} \\\\\n",
    "\\color{red}{ \\therefore u' = e^{I\\frac{\\theta}{2}} u^{(3D)} e^{-I\\frac{\\theta}{2}}}\\\\\n",
    "v = u_{e^{I\\theta} \\text{ in general}\\\\\n",
    "$"
   ]
  },
  {
   "cell_type": "code",
   "execution_count": null,
   "id": "39c7d6de-e5ae-4c2d-bc1c-787cea5b9a27",
   "metadata": {},
   "outputs": [],
   "source": [
    "# uv commutate"
   ]
  }
 ],
 "metadata": {
  "kernelspec": {
   "display_name": "Python 3 (ipykernel)",
   "language": "python",
   "name": "python3"
  },
  "language_info": {
   "codemirror_mode": {
    "name": "ipython",
    "version": 3
   },
   "file_extension": ".py",
   "mimetype": "text/x-python",
   "name": "python",
   "nbconvert_exporter": "python",
   "pygments_lexer": "ipython3",
   "version": "3.10.1"
  }
 },
 "nbformat": 4,
 "nbformat_minor": 5
}
