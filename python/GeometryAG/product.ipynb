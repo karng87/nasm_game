{
 "cells": [
  {
   "cell_type": "code",
   "execution_count": null,
   "id": "d360984f-4898-4406-b1b3-cf093766967a",
   "metadata": {},
   "outputs": [],
   "source": [
    "# Vector sapce\n",
    "> ### not vector field\n",
    "> ### also called Linear space\n",
    "> ### is a set of objects called vetors"
   ]
  },
  {
   "cell_type": "markdown",
   "id": "08cffea7-053b-46b6-a143-75783ad13553",
   "metadata": {},
   "source": [
    "# $\\langle$ Product $\\rangle$\n",
    "---\n",
    "## dot product \n",
    "> ## scalar product \n",
    "> ## inner product\n",
    "> ## $ \n",
    "^{\\langle a,b\\rangle \\mapsto \\mathbb{V} \\times \\mathbb{V} \\to \\mathbb{F}}\n",
    "_{a \\cdot b = \\sum_{i=1}^{n}a_ib_i}\n",
    "{\\Large \\color{red}{g}}\n",
    "^{|a||b|cos\\theta}\n",
    "_{u\\cdot u = ||u||^2}\n",
    "$"
   ]
  },
  {
   "cell_type": "markdown",
   "id": "82acf30f-bb7b-4403-8fc9-97f7e25b6060",
   "metadata": {},
   "source": [
    "---\n",
    "## wedge product\n",
    "> ## exterior product\n",
    "> ## $ \n",
    "^{a \\wedge b}\n",
    "_{}\n",
    "{\\Large \\color{red}{g}}\n",
    "^{|a||b|sin\\theta I}\n",
    "_{u\\wedge u_{\\parallel} = 0}\n",
    "$\n",
    ">> ### $ u \\wedge v = \\color{red}{|u||v|sin\\theta I}$\n",
    ">> ### $ u = ae_1 + be_e2, v = ce_1 + de_2 \\\\\n",
    "u \\wedge v = (ae_1 + be_e2) \\wedge (ce_1 + de_2) = (ad - bc)e_1e_2$\n",
    ">> ### $ u \\wedge v = \\det(u,v)I = \\left | \\begin{array}{}a & b \\\\ c & d \\end{array} \\right|I $\n",
    ">>> ### cross product\n",
    ">>>> ### $ u \\times v = |u||v|sin\\theta (BI^{-1})$"
   ]
  },
  {
   "cell_type": "markdown",
   "id": "d28bb985-7366-442a-b905-92aace6eaee7",
   "metadata": {},
   "source": [
    "---\n",
    "## geometric product\n",
    "> ## $ \n",
    "^{ab}\n",
    "_{ab = a\\cdot b + a\\wedge b}\n",
    "{\\Large \\color{red}{g}}\n",
    "^{|a||b|cos\\theta + |a||b|sin\\theta I}\n",
    "_{|a||b|e^{\\theta I}}\n",
    "$\n",
    ">> ### $uv = u \\cdot v + u \\wedge v$\n",
    ">> ### $uv = \\color{red}{|u||v|e^{\\theta I}}$"
   ]
  },
  {
   "cell_type": "markdown",
   "id": "f5bbf41d-8124-4e9f-ba40-d1679599ac48",
   "metadata": {},
   "source": [
    "---\n",
    "# law of sines\n",
    "> ### $A = B + C, B = A - C$\n",
    ">> ### $B \\wedge A = (A - C) \\wedge A = A \\wedge A - C \\wedge A = A \\wedge C \\\\\n",
    "= |B||A|sin \\alpha I = |A||C|sin \\beta I = ba\\, sin\\alpha = ac\\,sin\\beta \\\\\n",
    "\\therefore b\\, sin\\alpha = c\\, sin\\beta = \\frac{sin\\alpha}{c}= \\frac{sin\\beta}{b}$"
   ]
  },
  {
   "cell_type": "markdown",
   "id": "e914afb6-3713-4fa2-99cc-135480f0a77c",
   "metadata": {},
   "source": [
    "---\n",
    "# law of cosines\n",
    "> ### $C = (A - B) \\iff C^2 = (A - B)^2$\n",
    ">> ### $ \\because A^2 = A \\cdot A = |A|^2 = a^2, \\\\\n",
    "c^2 = a^2 + b^2 + AB + BA = a^2 + b^2 + 2(A \\cdot B)\\\\\n",
    "\\therefore a^2 + b^2 + |A||B|cos(\\alpha)\n",
    "$"
   ]
  },
  {
   "cell_type": "markdown",
   "id": "b46fe1ed-2688-4b69-be0d-fcfea77aaa11",
   "metadata": {},
   "source": [
    "---\n",
    "# Cramer's rule (Column picture)\n",
    "> ### $\n",
    "a_1x + b_1y = c_1 \\\\\n",
    "a_2x + b_2y = c_2 \\\\\n",
    "x\\begin{bmatrix}a_1 \\\\ a_2 \\end{bmatrix} + \n",
    "y\\begin{bmatrix}b_1 \\\\ b_2 \\end{bmatrix} =\n",
    "\\begin{bmatrix}c_1 \\\\ c_2 \\end{bmatrix} \\\\\n",
    "\\vec{a}x + \\vec{b}y = \\vec{c} \\\\\n",
    "(\\vec{a}x + \\vec{b}y) \\wedge \\vec{b} = \\vec{c} \\wedge \\vec{b} \\\\\n",
    "(\\vec{a} \\wedge \\vec{b})x = \\vec{c} \\wedge \\vec{b} \\\\\n",
    "\\color{red}{x = \\large \\frac{\\vec{c} \\wedge \\vec{b}}{\\vec{a} \\wedge \\vec{b}}} \\quad\n",
    "\\color{red}{y = \\large \\frac{\\vec{c} \\wedge \\vec{a}}{\\vec{b} \\wedge \\vec{a}}}\n",
    "$"
   ]
  },
  {
   "cell_type": "code",
   "execution_count": null,
   "id": "c545a05d-416f-404a-8411-18af8642adbc",
   "metadata": {},
   "outputs": [],
   "source": []
  }
 ],
 "metadata": {
  "kernelspec": {
   "display_name": "Python 3 (ipykernel)",
   "language": "python",
   "name": "python3"
  },
  "language_info": {
   "codemirror_mode": {
    "name": "ipython",
    "version": 3
   },
   "file_extension": ".py",
   "mimetype": "text/x-python",
   "name": "python",
   "nbconvert_exporter": "python",
   "pygments_lexer": "ipython3",
   "version": "3.10.1"
  }
 },
 "nbformat": 4,
 "nbformat_minor": 5
}
