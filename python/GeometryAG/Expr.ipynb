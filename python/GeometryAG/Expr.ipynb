{
 "cells": [
  {
   "cell_type": "markdown",
   "id": "4488a864-11da-4ace-bcd1-bcb06ee2d689",
   "metadata": {},
   "source": [
    "# Geometric Algebra\n",
    "> ## $ ^{3d}_{I=e_1e_2e_3}{\\Large\\color{red}{g}}^{e_1^2=e_2^2=e_3^2=1}_{e_1e_2 = e_1 \\wedge e_2} $\n",
    "> ## $ ^{uv(:2d)}_{\\theta = \\alpha + \\beta}{\\Large\\color{red}{g}}^{|u||v|e^{I\\theta}}_{u \\cdot v + u \\wedge v} $\n",
    "> ## $ ^{uv}_{v\\perp u}{\\Large\\color{red}{g}}^{uv\\, =\\, -vu}_{u \\cdot v = 0} $\n",
    "> ## $ ^{uv}_{v\\parallel u}{\\Large\\color{red}{g}}^{uv\\, =\\, vu}_{u \\wedge v = 0} $\n",
    "> ## $ ^{u\\cdot v}_{s=0}{\\Large\\color{red}{g}}^{|u||v|cos \\theta}_{\\theta = \\angle u v} $\n",
    "> ## $ ^{u\\wedge v}_{s=0}{\\Large\\color{red}{g}}^{|u||v|sin\\theta \\,I}_{I=e_1e_2} $\n",
    "> ## $ ^{u\\cdot v}_{s=0}{\\Large\\color{red}{g}}^{\\frac{1}{2}(uv + vu)}_{uv+vu=( u \\cdot v + u \\wedge v ) + (u \\cdot  v - u \\wedge v)} $\n",
    "> ## $ ^{u\\wedge v}_{s=0}{\\Large\\color{red}{g}}^{\\frac{1}{2}(uv - vu)}_{uv - vu = (u \\cdot v + u \\wedge v) - (u \\cdot v - u \\wedge v)} $\n",
    "\n",
    "> ## $ ^{uv}_{u=u_{\\parallel_v} + u_{\\perp_v}}{\\Large\\color{red}{g}}^{u_{\\parallel_v} \\cdot v + u_{\\perp_v} \\wedge v}_{} $"
   ]
  },
  {
   "cell_type": "markdown",
   "id": "e6b9ac3f-8567-42f7-8ca8-d4c1660c2e43",
   "metadata": {},
   "source": [
    "---\n",
    "> ## $ ^{vB}_{B=:bivector}{\\Large\\color{red}{g}}^{vB=v \\cdot B + v \\wedge B}_{vB = <vB>_1 + <vB>_3} $\n",
    ">\n",
    "> ## $ ^{vB}_{Bv}{\\Large\\color{red}{g}}^{v \\cdot B + v \\wedge B}_{B \\cdot v + B \\wedge v} $\n",
    ">\n",
    "> ## $ ^{vB}_{Bv}{\\Large\\color{red}{g}}^{v \\cdot B =\\, -(B \\cdot v)}_{v \\wedge B = B \\wedge v} $\n",
    ">\n",
    "> ## $ ^{vB}_{v\\perp B}{\\Large\\color{red}{g}}^{vB\\, =\\,  Bv}_{v \\cdot B = 0} $\n",
    ">\n",
    "> ## $ ^{vB}_{v\\parallel B}{\\Large\\color{red}{g}}^{vB\\, =\\, -Bv}_{v \\cdot B = 0} $\n",
    ">\n",
    "> ## $ ^{v\\cdot B}_{}{\\Large\\color{red}{g}}^{\\frac{1}{2}(vB - Bv)}_{<vB>_1} $\n",
    "> ## $ ^{v\\wedge B}_{}{\\Large\\color{red}{g}}^{\\frac{1}{2}(vB + Bv)}_{<vB>_3} $\n",
    "\n",
    "> ## $ ^{vB}_{v=v_{\\parallel_B} + v_{\\perp_B}}{\\Large\\color{red}{g}}^{v_{\\parallel_B} \\cdot B + v_{\\perp_B} \\wedge B}_{} $\n"
   ]
  },
  {
   "cell_type": "markdown",
   "id": "5b7c418f-50be-4a88-b585-5feb975877a9",
   "metadata": {},
   "source": [
    "---\n",
    "## $B+B$\n",
    "> ## $ ^{B+B}_{(e_1 + e_2) \\wedge e_3 + e_1 \\wedge e_2}{\\Large\\color{red}{g}}^{e_1 \\wedge e_2 = (e_1 + e_2)\\wedge e_2}_{(e_1 + e_2)\\wedge_3 + (e_1 + e_2)\\wedge e_2} $\n",
    "\n",
    "> ## $ ^{B}_{ae_1e_2 + be_2e_3 + ce_3e_1}{\\Large\\color{red}{g}}^{ae_1 \\wedge e_2 - be_3\\wedge e_2 - ce_1 \\wedge e_3}_{(ae_1-be_3)\\wedge e_2 - ce_1 \\wedge e_3}\n",
    "\\\\ \n",
    "\\quad \\because  \\; ^{ce_1 \\wedge e_3}_{\\frac{a}{a}(c e_1) \\wedge e_3}{\\Large\\color{red}{g}}^{\\frac{c}{a}(ae_1) \\wedge e_3}_{\\frac{a}{c}(ae_1 - be_3)\\wedge e_3)} \\\\\n",
    "^{(ae_1 - be_3) \\wedge e_2 - ce_1 \\wedge e_3}_{(ae_1 - be_3) \\wedge e_2 - \\frac{c}{a}(ae_1 - be_3) \\wedge e_3}\n",
    "{\\Large\\color{red}{g}}^\n",
    "{(ae_1 - be_3) \\wedge (e_2 - \\frac{c}{a}e_3)}_{2(ae_1 - be_3) \\wedge \\frac{1}{2}(e_2 - \\frac{c}{a}e_3)}$"
   ]
  },
  {
   "cell_type": "markdown",
   "id": "0fba1162-d9cd-471e-a4ad-4fe62f679c41",
   "metadata": {},
   "source": [
    "---\n",
    "## $B^2$\n",
    "> ### $\n",
    "^{B^2=-(a^2+b^2+c^2)}_{B^2 =\\, -|B|^2}{\\Large\\color{red}{g}}^{\\hat{B}}_{|B|=1}\n",
    "$"
   ]
  },
  {
   "cell_type": "markdown",
   "id": "50eac78a-7181-4252-a969-c0836a684498",
   "metadata": {},
   "source": [
    "---\n",
    "## Rotor\n",
    "> # $^{|w|=|v| = 1}_{RuR^{\\dagger}}\\\n",
    "{\\Large \\color{red}{g}}\n",
    "^{R=wv= e^{\\frac{\\theta}{2}B} = cos(-\\frac{\\theta}{2})+sin(-\\frac{\\theta}{2}B)}\n",
    "_{R^{\\dagger}=vw=e^{-\\frac{\\theta}{2}B} = cos(\\frac{\\theta}{2})+sin(\\frac{\\theta}{2}B)}$\n",
    "> # ${^{R=wv}_{R^{\\dagger} = vw}{\\Large\\color{red}{g}}^{RuR^{\\dagger}}_{(wv)^{-1}u\\,(vw)}}\n",
    "\\\\\n",
    "R^{\\dagger}= cos(\\frac{\\theta}{2}) + sin(\\frac{\\theta}{2})B = e^{\\frac{\\theta}{2}B}\\\\\n",
    "R = cos(\\frac{\\theta}{2}) - sin(\\frac{\\theta}{2})B = e^{-\\frac{\\theta}{2}B}\n",
    "$"
   ]
  },
  {
   "cell_type": "markdown",
   "id": "8ac645c6-63a3-492e-9513-985eb363b75c",
   "metadata": {},
   "source": [
    ">> ### $\n",
    "|v|=|w| = 1, vw = e^{\\theta I} \\iff (vw)^{-1} = e^{-(\\theta I)} \\because e^{-(\\theta I)} e^{(\\theta I)}=1\n",
    "$"
   ]
  },
  {
   "cell_type": "markdown",
   "id": "788f1a4c-ce91-4ab2-94f8-6bc13a380512",
   "metadata": {},
   "source": [
    "# Rotation\n",
    "> ### $theta$\n",
    ">> ### $\n",
    "^{\\theta}_{2d}\n",
    "{\\Large \\color{red}{g}}\n",
    "^{e^{-\\frac{\\theta}{2}I} v \\, e^{\\frac{\\theta}{2}I}}_{v\\, e^{\\theta I}}\n",
    "$"
   ]
  }
 ],
 "metadata": {
  "kernelspec": {
   "display_name": "Python 3 (ipykernel)",
   "language": "python",
   "name": "python3"
  },
  "language_info": {
   "codemirror_mode": {
    "name": "ipython",
    "version": 3
   },
   "file_extension": ".py",
   "mimetype": "text/x-python",
   "name": "python",
   "nbconvert_exporter": "python",
   "pygments_lexer": "ipython3",
   "version": "3.10.1"
  }
 },
 "nbformat": 4,
 "nbformat_minor": 5
}
