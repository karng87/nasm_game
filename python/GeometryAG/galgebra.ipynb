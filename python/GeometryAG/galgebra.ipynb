{
 "cells": [
  {
   "cell_type": "code",
   "execution_count": 11,
   "id": "e3631877-fe73-41c1-9126-6327425f0620",
   "metadata": {},
   "outputs": [
    {
     "data": {
      "text/latex": [
       "$\\displaystyle y = n^{2}$"
      ],
      "text/plain": [
       "<IPython.core.display.Math object>"
      ]
     },
     "execution_count": 11,
     "metadata": {},
     "output_type": "execute_result"
    }
   ],
   "source": [
    "import sympy as sm\n",
    "import galgebra.ga as ga\n",
    "import IPython as ipy\n",
    "#ga.printer.latex?\n",
    "#ga.Ga?\n",
    "#ipy.display.Math?\n",
    "sm.init_printing(latex_printer=ga.printer.latex, use_latex='mathjax')\n",
    "ipy.display.Math(f\"y = {ga.printer.latex(sm.S('n')**2)}\")"
   ]
  },
  {
   "cell_type": "code",
   "execution_count": 23,
   "id": "5e4fb05d-e4d4-4f4d-825c-d338b8a9b3ab",
   "metadata": {},
   "outputs": [
    {
     "data": {
      "text/latex": [
       "$\\displaystyle \\left[\\begin{array}{ccc}1 & 0 & 0\\\\0 & 1 & 0\\\\0 & 0 & 1\\end{array}\\right]$"
      ],
      "text/plain": [
       "Matrix([\n",
       "[1, 0, 0],\n",
       "[0, 1, 0],\n",
       "[0, 0, 1]])"
      ]
     },
     "execution_count": 23,
     "metadata": {},
     "output_type": "execute_result"
    }
   ],
   "source": [
    "x,y,z = sm.symbols('x y z',real=True)\n",
    "xyz = (x,y,z)\n",
    "# e_x, e_y, e_z =  unit vectors\n",
    "# x,y,z = cordinaters\n",
    "# g = metric tensor\n",
    "o3d = ga.Ga('e_x e_y e_z', g=[1,1,1],coords=xyz)\n",
    "ga.Ga('e_x e_y e_z', g=[1,1,1],coords=xyz).grad\n",
    "ga.Ga('e_x e_y e_z', g=[1,1,1],coords=xyz).g"
   ]
  },
  {
   "cell_type": "code",
   "execution_count": 27,
   "id": "4ebdd1c9-5bc4-49d5-bc12-f098ea608d72",
   "metadata": {},
   "outputs": [
    {
     "data": {
      "text/latex": [
       "\\begin{equation*} S = S \\end{equation*}"
      ],
      "text/plain": [
       "S"
      ]
     },
     "execution_count": 27,
     "metadata": {},
     "output_type": "execute_result"
    }
   ],
   "source": [
    "# to define a \n",
    "o3d.mv('S', 'scalar')"
   ]
  },
  {
   "cell_type": "code",
   "execution_count": 28,
   "id": "ae1bc5c3-b4fc-4383-a8f1-4a37c22f7c74",
   "metadata": {},
   "outputs": [
    {
     "data": {
      "text/latex": [
       "\\begin{equation*} V = V^{x} \\boldsymbol{e}_{x} + V^{y} \\boldsymbol{e}_{y} + V^{z} \\boldsymbol{e}_{z} \\end{equation*}"
      ],
      "text/plain": [
       "V__x*e_x + V__y*e_y + V__z*e_z"
      ]
     },
     "execution_count": 28,
     "metadata": {},
     "output_type": "execute_result"
    }
   ],
   "source": [
    "o3d.mv('V', 'vector')"
   ]
  },
  {
   "cell_type": "code",
   "execution_count": 29,
   "id": "766c3043-d571-4cd0-8b21-2bc13070fe11",
   "metadata": {},
   "outputs": [
    {
     "data": {
      "text/latex": [
       "\\begin{equation*} B = B^{xy} \\boldsymbol{e}_{x}\\wedge \\boldsymbol{e}_{y} + B^{xz} \\boldsymbol{e}_{x}\\wedge \\boldsymbol{e}_{z} + B^{yz} \\boldsymbol{e}_{y}\\wedge \\boldsymbol{e}_{z} \\end{equation*}"
      ],
      "text/plain": [
       "B__xy*e_x^e_y + B__xz*e_x^e_z + B__yz*e_y^e_z"
      ]
     },
     "execution_count": 29,
     "metadata": {},
     "output_type": "execute_result"
    }
   ],
   "source": [
    "o3d.mv('B', 'bivector')"
   ]
  },
  {
   "cell_type": "code",
   "execution_count": 31,
   "id": "27a64897-3d26-4e43-85ee-d62abc90c108",
   "metadata": {},
   "outputs": [
    {
     "data": {
      "text/latex": [
       "\\begin{equation*} I = I^{xyz} \\boldsymbol{e}_{x}\\wedge \\boldsymbol{e}_{y}\\wedge \\boldsymbol{e}_{z} \\end{equation*}"
      ],
      "text/plain": [
       "I__xyz*e_x^e_y^e_z"
      ]
     },
     "execution_count": 31,
     "metadata": {},
     "output_type": "execute_result"
    }
   ],
   "source": [
    "o3d.mv('I', 'pseudo')"
   ]
  },
  {
   "cell_type": "code",
   "execution_count": 33,
   "id": "662f2554-fb35-43b9-a623-a47faec2342d",
   "metadata": {},
   "outputs": [
    {
     "data": {
      "text/latex": [
       "$\\displaystyle \\left(  \\boldsymbol{e}_{x}, \\   \\boldsymbol{e}_{y}, \\   \\boldsymbol{e}_{z}\\right)$"
      ],
      "text/plain": [
       "(e_x, e_y, e_z)"
      ]
     },
     "execution_count": 33,
     "metadata": {},
     "output_type": "execute_result"
    }
   ],
   "source": [
    "o3d.mv()"
   ]
  },
  {
   "cell_type": "code",
   "execution_count": 45,
   "id": "c790b4d1-ff84-4e11-8ea6-a8a31a539734",
   "metadata": {},
   "outputs": [
    {
     "data": {
      "text/latex": [
       "\\begin{equation*} a^{x} b^{x} + a^{y} b^{y} + a^{z} b^{z} \\end{equation*}"
      ],
      "text/plain": [
       "a__x*b__x + a__y*b__y + a__z*b__z"
      ]
     },
     "execution_count": 45,
     "metadata": {},
     "output_type": "execute_result"
    }
   ],
   "source": [
    "a = o3d.mv('a', 'vector')\n",
    "b = o3d.mv('b','vector')\n",
    "# geometric product\n",
    "b*a\n",
    "# wedge product = outer product\n",
    "a^b\n",
    "# inner product\n",
    "a|b\n",
    "# left contraction\n",
    "a<b\n",
    "# right contraction\n",
    "a>b"
   ]
  },
  {
   "cell_type": "code",
   "execution_count": 56,
   "id": "d276e1c0-3aed-4e18-804f-cdd78b9832c5",
   "metadata": {},
   "outputs": [
    {
     "data": {
      "text/latex": [
       "\\begin{equation*} - A^{xy} B^{xy} - A^{xz} B^{xz} - A^{yz} B^{yz} \\end{equation*}"
      ],
      "text/plain": [
       "-A__xy*B__xy - A__xz*B__xz - A__yz*B__yz"
      ]
     },
     "execution_count": 56,
     "metadata": {},
     "output_type": "execute_result"
    }
   ],
   "source": [
    "A = o3d.mv('A', 'bivector')\n",
    "B = o3d.mv('B', 'bivector')\n",
    "A>B"
   ]
  },
  {
   "cell_type": "code",
   "execution_count": 55,
   "id": "1d5b9377-b644-4425-bef6-6c757788cd70",
   "metadata": {},
   "outputs": [
    {
     "data": {
      "text/latex": [
       "\\begin{equation*} - A^{xy} B^{xy} - A^{xz} B^{xz} - A^{yz} B^{yz} \\end{equation*}"
      ],
      "text/plain": [
       "-A__xy*B__xy - A__xz*B__xz - A__yz*B__yz"
      ]
     },
     "execution_count": 55,
     "metadata": {},
     "output_type": "execute_result"
    }
   ],
   "source": [
    "A|B"
   ]
  },
  {
   "cell_type": "code",
   "execution_count": 72,
   "id": "15528910-2863-4849-ae56-48915a2b510b",
   "metadata": {},
   "outputs": [
    {
     "data": {
      "text/latex": [
       "\\begin{equation*}  \\boldsymbol{e}_{y} \\end{equation*}"
      ],
      "text/plain": [
       "e_y"
      ]
     },
     "execution_count": 72,
     "metadata": {},
     "output_type": "execute_result"
    }
   ],
   "source": [
    "ex,ey,ez=o3d.mv()\n",
    "ey"
   ]
  },
  {
   "cell_type": "code",
   "execution_count": 69,
   "id": "da062a09-8279-47a7-8b6b-a15c35ec9ca2",
   "metadata": {},
   "outputs": [
    {
     "data": {
      "text/latex": [
       "\\begin{equation*} z \\boldsymbol{e}_{x}\\wedge \\boldsymbol{e}_{y} + y \\boldsymbol{e}_{x}\\wedge \\boldsymbol{e}_{z} + x \\boldsymbol{e}_{y}\\wedge \\boldsymbol{e}_{z} \\end{equation*}"
      ],
      "text/plain": [
       "z*e_x^e_y + y*e_x^e_z + x*e_y^e_z"
      ]
     },
     "execution_count": 69,
     "metadata": {},
     "output_type": "execute_result"
    }
   ],
   "source": [
    "v = x**2*o3d.mv()[0] + y**2*o3d.mv()[1] + z**2*o3d.mv()[2]\n",
    "x*(o3d.mv()[1]^o3d.mv()[2]) + y*(o3d.mv()[0]^o3d.mv()[2]) + z*(o3d.mv()[0]^o3d.mv()[1])"
   ]
  },
  {
   "cell_type": "code",
   "execution_count": 78,
   "id": "90261135-04c5-423e-ba05-94c11dc8a065",
   "metadata": {},
   "outputs": [
    {
     "data": {
      "text/latex": [
       "\\begin{equation*} v = v  + v^{x} \\boldsymbol{e}_{x} + v^{y} \\boldsymbol{e}_{y} + v^{z} \\boldsymbol{e}_{z} + v^{xy} \\boldsymbol{e}_{x}\\wedge \\boldsymbol{e}_{y} + v^{xz} \\boldsymbol{e}_{x}\\wedge \\boldsymbol{e}_{z} + v^{yz} \\boldsymbol{e}_{y}\\wedge \\boldsymbol{e}_{z} + v^{xyz} \\boldsymbol{e}_{x}\\wedge \\boldsymbol{e}_{y}\\wedge \\boldsymbol{e}_{z} \\end{equation*}"
      ],
      "text/plain": [
       "v + v__x*e_x + v__y*e_y + v__z*e_z + v__xy*e_x^e_y + v__xz*e_x^e_z + v__yz*e_y^e_z + v__xyz*e_x^e_y^e_z"
      ]
     },
     "execution_count": 78,
     "metadata": {},
     "output_type": "execute_result"
    }
   ],
   "source": [
    "o3d.mv('v','mv')"
   ]
  },
  {
   "cell_type": "code",
   "execution_count": 79,
   "id": "2de11bff-162d-4cb7-83b6-83c95ac19df9",
   "metadata": {},
   "outputs": [
    {
     "data": {
      "text/latex": [
       "\\begin{equation*}  \\begin{aligned}[t]  & w  \\\\  &  + w^{x} \\boldsymbol{e}_{x} \\\\  &  + w^{y} \\boldsymbol{e}_{y} \\\\  &  + w^{z} \\boldsymbol{e}_{z} \\\\  &  + w^{xy} \\boldsymbol{e}_{x}\\wedge \\boldsymbol{e}_{y} \\\\  &  + w^{xz} \\boldsymbol{e}_{x}\\wedge \\boldsymbol{e}_{z} \\\\  &  + w^{yz} \\boldsymbol{e}_{y}\\wedge \\boldsymbol{e}_{z} \\\\  &  + w^{xyz} \\boldsymbol{e}_{x}\\wedge \\boldsymbol{e}_{y}\\wedge \\boldsymbol{e}_{z}  \\end{aligned}  \\end{equation*}"
      ],
      "text/plain": [
       " w\n",
       " + w__x*e_x\n",
       " + w__y*e_y\n",
       " + w__z*e_z\n",
       " + w__xy*e_x^e_y\n",
       " + w__xz*e_x^e_z\n",
       " + w__yz*e_y^e_z\n",
       " + w__xyz*e_x^e_y^e_z"
      ]
     },
     "execution_count": 79,
     "metadata": {},
     "output_type": "execute_result"
    }
   ],
   "source": [
    "o3d.mv('w','mv').Fmt(3)"
   ]
  },
  {
   "cell_type": "code",
   "execution_count": null,
   "id": "ec5050db-3c90-4ee8-a323-56c4f5315a1b",
   "metadata": {},
   "outputs": [],
   "source": []
  }
 ],
 "metadata": {
  "kernelspec": {
   "display_name": "Python 3 (ipykernel)",
   "language": "python",
   "name": "python3"
  },
  "language_info": {
   "codemirror_mode": {
    "name": "ipython",
    "version": 3
   },
   "file_extension": ".py",
   "mimetype": "text/x-python",
   "name": "python",
   "nbconvert_exporter": "python",
   "pygments_lexer": "ipython3",
   "version": "3.10.1"
  }
 },
 "nbformat": 4,
 "nbformat_minor": 5
}
