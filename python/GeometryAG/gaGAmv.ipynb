{
 "cells": [
  {
   "cell_type": "code",
   "execution_count": 97,
   "id": "e8e9d555-1b80-48e7-80e0-315de9a9f742",
   "metadata": {},
   "outputs": [
    {
     "data": {
      "text/plain": [
       "(e_x, e_y, e_z)"
      ]
     },
     "execution_count": 97,
     "metadata": {},
     "output_type": "execute_result"
    }
   ],
   "source": [
    "import sympy as sm\n",
    "import galgebra.ga as ga\n",
    "g3 = ga.Ga('e_x e_y e_z',g=[1,1,1],coords=sm.symbols('x y z',real=True))\n",
    "g3.mv()"
   ]
  },
  {
   "cell_type": "code",
   "execution_count": 86,
   "id": "795b4dec-b52a-4142-949c-ab4a45f932ad",
   "metadata": {},
   "outputs": [
    {
     "data": {
      "text/plain": [
       "(e_x, e_y, e_z)"
      ]
     },
     "execution_count": 86,
     "metadata": {},
     "output_type": "execute_result"
    }
   ],
   "source": [
    "g3.mv()"
   ]
  },
  {
   "cell_type": "code",
   "execution_count": null,
   "id": "26b5768d-5a17-4fce-8485-6ee462e8d241",
   "metadata": {},
   "outputs": [],
   "source": []
  }
 ],
 "metadata": {
  "kernelspec": {
   "display_name": "Python 3 (ipykernel)",
   "language": "python",
   "name": "python3"
  },
  "language_info": {
   "codemirror_mode": {
    "name": "ipython",
    "version": 3
   },
   "file_extension": ".py",
   "mimetype": "text/x-python",
   "name": "python",
   "nbconvert_exporter": "python",
   "pygments_lexer": "ipython3",
   "version": "3.10.1"
  }
 },
 "nbformat": 4,
 "nbformat_minor": 5
}
