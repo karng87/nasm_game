{
 "cells": [
  {
   "cell_type": "markdown",
   "id": "6f543d9b-74e8-4b79-b7a0-7ea765a9fbbb",
   "metadata": {},
   "source": [
    "# Plane vector equation\n",
    "\n",
    "> # normal vector $ \\vec{n} \\iff $ 평면에 수직인 vector\n",
    ">> ## $\\vec{n} = (n_x,n_y,n_z) $ 과 절대 평행하면 안된다.\n",
    ">>> ## normal vector 인($(n_x\\:t, n_y\\:t,n_z\\:t)$) 과 평행하면 직선은 평면위에 있는 직선이 아니어야 한다. 그래서 0 이된다.\n",
    "k\n",
    ">>> ## $ n_x(x - x_0) + n_y(y - y_0) + n_z(z - z_0) = 0 $"
   ]
  },
  {
   "cell_type": "code",
   "execution_count": 19,
   "id": "29c9637b-8dab-4371-9839-97f1ac2eabb2",
   "metadata": {},
   "outputs": [
    {
     "ename": "AttributeError",
     "evalue": "'CoordSys3D' object has no attribute 'name_scalars'",
     "output_type": "error",
     "traceback": [
      "\u001b[0;31m---------------------------------------------------------------------------\u001b[0m",
      "\u001b[0;31mAttributeError\u001b[0m                            Traceback (most recent call last)",
      "\u001b[0;32m/tmp/ipykernel_20292/4022354160.py\u001b[0m in \u001b[0;36m<module>\u001b[0;34m\u001b[0m\n\u001b[1;32m     13\u001b[0m \u001b[0mn\u001b[0m \u001b[0;34m=\u001b[0m \u001b[0mn\u001b[0m\u001b[0;34m.\u001b[0m\u001b[0msubs\u001b[0m\u001b[0;34m(\u001b[0m\u001b[0;34m{\u001b[0m\u001b[0mC\u001b[0m\u001b[0;34m.\u001b[0m\u001b[0mx\u001b[0m\u001b[0;34m:\u001b[0m\u001b[0;36m1\u001b[0m\u001b[0;34m,\u001b[0m\u001b[0mC\u001b[0m\u001b[0;34m.\u001b[0m\u001b[0my\u001b[0m\u001b[0;34m:\u001b[0m\u001b[0;36m2\u001b[0m\u001b[0;34m,\u001b[0m\u001b[0mC\u001b[0m\u001b[0;34m.\u001b[0m\u001b[0mz\u001b[0m\u001b[0;34m:\u001b[0m\u001b[0;36m3\u001b[0m\u001b[0;34m}\u001b[0m\u001b[0;34m)\u001b[0m\u001b[0;34m\u001b[0m\u001b[0;34m\u001b[0m\u001b[0m\n\u001b[1;32m     14\u001b[0m \u001b[0mp\u001b[0m \u001b[0;34m=\u001b[0m \u001b[0mn\u001b[0m\u001b[0;34m.\u001b[0m\u001b[0msubs\u001b[0m\u001b[0;34m(\u001b[0m\u001b[0;34m{\u001b[0m\u001b[0mC\u001b[0m\u001b[0;34m.\u001b[0m\u001b[0mx\u001b[0m\u001b[0;34m:\u001b[0m\u001b[0;36m4\u001b[0m\u001b[0;34m,\u001b[0m\u001b[0mC\u001b[0m\u001b[0;34m.\u001b[0m\u001b[0my\u001b[0m\u001b[0;34m:\u001b[0m\u001b[0;36m3\u001b[0m\u001b[0;34m,\u001b[0m\u001b[0mC\u001b[0m\u001b[0;34m.\u001b[0m\u001b[0mz\u001b[0m\u001b[0;34m:\u001b[0m\u001b[0;36m3\u001b[0m\u001b[0;34m}\u001b[0m\u001b[0;34m)\u001b[0m\u001b[0;34m\u001b[0m\u001b[0;34m\u001b[0m\u001b[0m\n\u001b[0;32m---> 15\u001b[0;31m \u001b[0mC\u001b[0m\u001b[0;34m.\u001b[0m\u001b[0mname_scalars\u001b[0m\u001b[0;34m(\u001b[0m\u001b[0;34m)\u001b[0m\u001b[0;34m\u001b[0m\u001b[0;34m\u001b[0m\u001b[0m\n\u001b[0m",
      "\u001b[0;31mAttributeError\u001b[0m: 'CoordSys3D' object has no attribute 'name_scalars'"
     ]
    }
   ],
   "source": [
    "import sympy as sm\n",
    "import sympy.vector\n",
    "import matplotlib.pyplot as plt\n",
    "import numpy as np\n",
    "\n",
    "C = sm.vector.CoordSys3D('')\n",
    "\n",
    "# noarmal vector\n",
    "n = C.x*C.i + C.y*C.j + C.z*C.k\n",
    "# point vector\n",
    "p = n\n",
    "# plane equation\n",
    "n = n.subs({C.x:1,C.y:2,C.z:3})\n",
    "p = n.subs({C.x:4,C.y:3,C.z:3})\n",
    "C.name_scalars()"
   ]
  },
  {
   "cell_type": "markdown",
   "id": "fc56532c-aa0c-40af-9050-cfec11d14d90",
   "metadata": {},
   "source": [
    "# Line vector equation\n",
    "> ## direction vector $\\vec{d} = (d_x, d_y , d_z)$\n",
    ">> ## $\\vec{d} = (d_x,d_y,d_z)$ 과 반드시 평행해야 함으로 각각의 방향에 대한 미분계수가 같은 비율이어야 한다.\n",
    ">>> ## $\n",
    "\\frac{(x-x_0)}{\\vec{d_x}} = \\frac{(y-y_0)}{\\vec{d_y}} = \\frac{z-z_0}{\\vec{d_z}}\n",
    "$"
   ]
  },
  {
   "cell_type": "code",
   "execution_count": null,
   "id": "a1ff1376-6485-4369-a228-48bb29518cb6",
   "metadata": {},
   "outputs": [],
   "source": []
  }
 ],
 "metadata": {
  "kernelspec": {
   "display_name": "Python 3 (ipykernel)",
   "language": "python",
   "name": "python3"
  },
  "language_info": {
   "codemirror_mode": {
    "name": "ipython",
    "version": 3
   },
   "file_extension": ".py",
   "mimetype": "text/x-python",
   "name": "python",
   "nbconvert_exporter": "python",
   "pygments_lexer": "ipython3",
   "version": "3.10.2"
  }
 },
 "nbformat": 4,
 "nbformat_minor": 5
}
