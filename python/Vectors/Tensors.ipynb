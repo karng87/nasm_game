{
 "cells": [
  {
   "cell_type": "markdown",
   "id": "042b5859-3033-4e31-9a41-6fa4962f1244",
   "metadata": {},
   "source": [
    "# invariant\n",
    "> ### coordinate independent or coordinate invariant\n",
    ">> ### 관찰자가 측정값에 영향을 주지 않은 값\n",
    ">> ### 좌표 독립 특성\n",
    ">>> #### 설정한 좌표계와는 상관없이 독립적으로 존재해야 한다."
   ]
  },
  {
   "cell_type": "markdown",
   "id": "a9d38920-d624-4860-acbc-26e3e48cf077",
   "metadata": {},
   "source": [
    "> ## position vector\n",
    ">> ### origin 이 다르면 달라지는 값이다.\n",
    "> ## different among position vectors\n",
    ">> ### invariant\n",
    "> ## differential \n",
    ">> ### $ du^{i} = \\sum_{j=1}^{3} \\frac{\\partial u^i}{\\partial x^j}dx^j = \\frac{\\partial u^i}{\\partial x^j}dx^j$\n",
    ">>> ### $i$ is free index, $j$ is dummy index"
   ]
  },
  {
   "cell_type": "markdown",
   "id": "3c8db31a-1bbe-45ea-b1f1-9d8a3569a310",
   "metadata": {
    "tags": []
   },
   "source": [
    "# Vector\n",
    "> ## $(\\,V\\,,\\,S\\,,\\,+\\,,\\,\\cdot\\,)$\n",
    ">> ## V = basis vector: $ \\quad \\sum_{i=1}^{n}\\vec{e_i} $\n",
    ">> ## S = scalar field: $ \\quad S \\in \\mathbb{F}$\n",
    ">> ## + = addition (binary operator)\n",
    ">> ## $\\cdot$ = scalar multiply (binary operator)\n",
    "\n",
    "### $ \\vec{u}  = (u^1,\\, u^2,\\, u^3, ...) = u^1\\,e_1 + u^2\\,e_2 + u^3\\,e_3 + ... \\iff (B.x,\\, B.y,\\, B.z) = B.x\\,B.i + B.y\\,B.j + B.z\\,B.k$\n",
    "### $ \\vec{v}  = (v^1,\\, v^2,\\, v^3, ...) = v^1\\,e_1 + v^2\\,e_2 + v^3\\,e_3 + ... \\iff (B.x,\\, B.y,\\, B.z) = B.x\\,B.i + B.y\\,B.j + B.z\\,B.k$\n",
    "### $ \\vec{w}  = (w^1,\\, w^2,\\, w^3, ...) = w^1\\,e_1 + w^2\\,e_2 + w^3\\,e_3 + ... \\iff (B.x,\\, B.y,\\, B.z) = B.x\\,B.i + B.y\\,B.j + B.z\\,B.k$\n",
    "> ### $ \\sum_{i=1}^{n} v^ie_i \\iff \\sum_{s=x}^{z}B.s\\,\\sum_{b=i}^{k}B.b $"
   ]
  },
  {
   "cell_type": "markdown",
   "id": "1db1ae86-d1b3-440c-9b6c-5e4fbd3650c9",
   "metadata": {
    "tags": []
   },
   "source": [
    "# Cordinate basis\n",
    "> ### basis를 행열 F로 변환 시키면 본래 벡터는 그대로 인데 벡터의 성분만 달라진다.\n",
    "> ### Old basis: {$\\vec{e_1}, \\vec{e_2}$},  New basis: {$\\tilde{\\vec{e_1}},\\tilde{\\vec{e_2}}$}\n",
    ">> #### $\\tilde{\\vec{e_1}} = 2\\vec{e_1} + 1\\vec{e_2} \\\\\n",
    "\\tilde{\\vec{e_2}} = \\frac{-1}{2}\\vec{e_1} + \\frac{1}{4}\\vec{e_2} \\\\\n",
    "F = \\begin{bmatrix} 2 & \\frac{-1}{2} \\\\ 1 & \\frac{1}{4}\n",
    "\\end{bmatrix}, \\because \\text{ firstly inner product}\n",
    "$\n",
    ">> #### 행열 F는 기본좌표계의 elements를 변환 시킨후 변환된 기본 좌표값을 넘겨준다.\n",
    ">> #### 기본좌표계에서 vector v의 elements가 변환된 좌표를 기본축으로 했을때 어떻게 읽혀지는가 하고는 다른 것이다.\n",
    "\n"
   ]
  },
  {
   "cell_type": "code",
   "execution_count": 3,
   "id": "14d789d6-9c08-4f2c-af6a-b2b3a97fecc6",
   "metadata": {},
   "outputs": [],
   "source": [
    "# matrix product \n",
    "##  firstly inner product (same element * same eleemnt)\n"
   ]
  },
  {
   "cell_type": "markdown",
   "id": "a20fe435-8bb8-470f-bedd-5f88debc83d3",
   "metadata": {
    "tags": []
   },
   "source": [
    "# Tensors\n",
    "> ## in an m-dimentional space, \n",
    ">> ### a tensor of rank n is\n",
    ">>> ### a mathmatical object\n",
    ">>>> ### that has n indices, $m^n$ components, and\n",
    ">>>>> ### obeys certain transformation rules.\n",
    "> ### transformation rules:\n",
    ">> ### A tensor is an object that transformation like a tensor.\n",
    ">> ### A tensor is an object that is invariant under a change of coordinate systems, with components that change according to a special set of mathmatical formulae.\n",
    "> ### cordinate system change Intuition:\n",
    ">> ### To specify component of rank-n tensor,\n",
    ">> ### need:\n",
    ">>> ### magnitude of componet\n",
    ">>> ### n basis vecotors\n",
    ">> ### Suppose N is a coordinate transformation operator applied to a tensor\n",
    ">>> ### magnitude of tensor components will transform according to L,\n",
    ">>> ### basis vectors will transform according to $L^{-1}$.\n",
    ">>>> ### Effects of L and $L^{-1}$ cancle $\\to$ same overall tensor as under old coordinates(but writtern differently).\n",
    "\n",
    "> ## a collection of vectors and covectors combined together using the tensor product\n",
    ">> ### Tensors as partial derivatives and gradients that transform with the Jacobian Matrix"
   ]
  },
  {
   "cell_type": "code",
   "execution_count": 4,
   "id": "98ced01d-66a0-4899-94ba-f3f3717a53f6",
   "metadata": {},
   "outputs": [],
   "source": [
    "#M = N.create_new('M',transformation=lambda x,y,z:(2*x+y,-1/2*x + 1/4*y,z))"
   ]
  },
  {
   "cell_type": "markdown",
   "id": "53456861-f37f-4ab2-92dd-e49d75b73fcb",
   "metadata": {},
   "source": [
    "## Matices\n",
    "> ### representations of rank-2 tensors. Just arrays of numbers.\n",
    "## Tensors\n",
    "> ### required detailed specification and are invariant under change of coordinate system."
   ]
  },
  {
   "cell_type": "markdown",
   "id": "07e0923d-a79d-4341-8085-41cbc5e62ae0",
   "metadata": {},
   "source": []
  },
  {
   "cell_type": "markdown",
   "id": "907f1345-6ac2-4cad-b263-92be84d9246b",
   "metadata": {},
   "source": [
    "## [forward backward](https://www.youtube.com/watch?v=uPbBDToXjBw&list=PLJHszsWbB6hrkmmq57lX8BV-o-YIOFsiG&index=5)\n",
    "> ### Old basis: {$\\vec{e_1}, \\vec{e_2}$},  New basis: {$\\tilde{\\vec{e_1}},\\tilde{\\vec{e_2}}$}\n",
    ">> #### $\\tilde{\\vec{e_1}} = 2\\vec{e_1} + 1\\vec{e_2} \\\\\n",
    "\\tilde{\\vec{e_2}} = \\frac{-1}{2}\\vec{e_1} + \\frac{1}{4}\\vec{e_2} \\\\\n",
    "F = \\begin{bmatrix} 2 & \\frac{-1}{2} \\\\ 1 & \\frac{1}{4}\n",
    "\\end{bmatrix}, \\because \\text{ firstly inner product}\n",
    "$\n",
    ">>> ### $F' = \\begin{bmatrix} 2 & 1 \\\\ -\\frac{1}{2} & \\frac{1}{4}\n",
    "\\end{bmatrix}, \\because \\text{ what different?}\n",
    "$"
   ]
  },
  {
   "cell_type": "code",
   "execution_count": null,
   "id": "ff8a7fb3-4934-4d8e-9301-35a726eaaf20",
   "metadata": {},
   "outputs": [],
   "source": []
  },
  {
   "cell_type": "code",
   "execution_count": 53,
   "id": "2b970bc0-de54-4686-983d-69128f1674ac",
   "metadata": {},
   "outputs": [
    {
     "data": {
      "text/latex": [
       "$\\displaystyle \\left[\\begin{matrix}1.0\\\\1.0\\end{matrix}\\right]$"
      ],
      "text/plain": [
       "Matrix([\n",
       "[1.0],\n",
       "[1.0]])"
      ]
     },
     "execution_count": 53,
     "metadata": {},
     "output_type": "execute_result"
    },
    {
     "data": {
      "application/vnd.jupyter.widget-view+json": {
       "model_id": "88ae6b848bee4894af048fd92857a7b0",
       "version_major": 2,
       "version_minor": 0
      },
      "image/png": "[encoded data removed]",
      "text/html": [
       "\n",
       "            <div style=\"display: inline-block;\">\n",
       "                <div class=\"jupyter-widgets widget-label\" style=\"text-align: center;\">\n",
       "                    Figure\n",
       "                </div>\n",
       "                <img src='data:image/png;base64,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' width=400.0/>\n",
       "            </div>\n",
       "        "
      ],
      "text/plain": [
       "Canvas(toolbar=Toolbar(toolitems=[('Home', 'Reset original view', 'home', 'home'), ('Back', 'Back to previous …"
      ]
     },
     "metadata": {},
     "output_type": "display_data"
    }
   ],
   "source": [
    "#####################\n",
    "import matplotlib.pyplot as plt\n",
    "%matplotlib widget\n",
    "import numpy as np\n",
    "import sympy as sm\n",
    "F = sm.Matrix([[2,-1/2],[1,1/4]])\n",
    "F1 = sm.Matrix([[2,1],[-1/2,1/4]])\n",
    "a = sm.Matrix([[1],[1]])\n",
    "\n",
    "fig = plt.figure(figsize=(4,4))\n",
    "#ax = fig.add_subplot(projection='3d')\n",
    "#\n",
    "#ax.set_xlim(-2,3)\n",
    "#ax.set_ylim(-2,3)\n",
    "#ax.set_zlim(-2,3)\n",
    "#ax.set_yticks(np.arange(-3,3,1/4))\n",
    "#ax.set_xticks(np.arange(-3,3,1/4))\n",
    "#ax.set_xticklabels(ax.get_xticks(),rotation=90)\n",
    "#ax.set_yticklabels(ax.get_yticks(),rotation=90)\n",
    "#ax.grid()\n",
    "##ax.quiver(0,0,2,1,units='xy',color='red',scale=1)\n",
    "#ax.quiver3D(0,0,0,2,1,0,arrow_length_ratio=0.1,color='red')\n",
    "#ax.quiver3D(0,0,0,-0.5,1/4,0,color='red')\n",
    "#ax.quiver3D(0,0,0,1,0,0)\n",
    "#ax.quiver3D(0,0,0,0,1,0)\n",
    "#ax.quiver3D(0,0,0,1,1.5,0,color='green')\n",
    "ax = fig.add_subplot()\n",
    "ax.set_xlim(-0.75,3.25)\n",
    "ax.set_ylim(-0.75,3.25)\n",
    "ax.set_xticks(np.arange(-0.75,3.25,1/4))\n",
    "ax.set_yticks(np.arange(-0.75,3.25,1/4))\n",
    "ax.set_xticklabels(ax.get_xticks(),rotation=90)\n",
    "ax.grid()\n",
    "ax.quiver(0,0,1,0,units='xy',scale=1,color='r')\n",
    "ax.quiver(0,0,0,1,units='xy',scale=1,color='r')\n",
    "# \\tilde \\vec{e_1} = 2 \\vec{e_1} + 1 \\vec{e_2}\n",
    "ax.quiver(0,0,2,1,units='xy',scale=1,color='r')\n",
    "ax.text(2,1,r'$\\tilde\\vec{e_1}$',fontsize=16)\n",
    "ax.quiver(0,0,-1/2,1/4,units='xy',scale=1,color='r')\n",
    "ax.text(-0.75,1/4,r'$\\tilde\\vec{e_2}$',fontsize=16)\n",
    "ax.quiver(0,0,1,3/2,units='xy',scale=1,color='g')\n",
    "# useless\n",
    "F1*a\n",
    "ax.quiver(0,0,3,-0.25,units='xy',scale=1,color='b')\n",
    "ax.text(1.5,0.,r'$F_1(1.1)\\to(3,-0.25)$',fontsize=12)\n",
    "\n",
    "## F(1,1) -> B(1.5,1.25)\n",
    "F*a\n",
    "ax.quiver(0,0,1.5,1.25,units='xy',scale=1,color='g')\n",
    "ax.text(1,1.30,r'$F(1.1)\\to(1.5,1.25)$',fontsize=12)\n",
    "\n",
    "# F^{-1}*(1,1) => if  B(1,1) then F(0.75,1)\n",
    "b = sm.Matrix([[0.75],[1]])\n",
    "ax.quiver(0,0,0.75,1,units='xy',scale=1,color='magenta')\n",
    "F*b"
   ]
  },
  {
   "cell_type": "code",
   "execution_count": 6,
   "id": "267f9ba8-42ba-45f4-8d12-dcecfb30dc97",
   "metadata": {},
   "outputs": [],
   "source": [
    "#### \\vec{v} base_vectors(basis) -> B_1 + B_2 + B_3.. = \\sum_{i=1}^{n}B_i\n",
    "#### \\vec{v} base_scalars(components) -> B^1 + B^2 + B^3.. = \\sum_{i=1}^{n}B^i\n",
    "\n",
    "#### New.base_vector \\vec{e_n}(N.i, N.j, N.k)\n",
    "#--- wrt = with respect to ---  \n",
    "## taking as independent variable\n",
    "##### represent New basis wrt Basis #####\n",
    "### (1,0) wrt New -> (?,?) wrt Basis\n",
    "# N.i = x*B.i + y*B.j + z*B.k\n",
    "# N.j = x*B.i + y*B.j + z*B.k\n",
    "# N.k = x*B.i + y*B.j + z*B.k\n",
    "## N.i = ( 2,    1,  0)\n",
    "## N.j = (-1/2, 1/4, 0)\n",
    "## N.k = ( 0,    0,  1)\n",
    "# v = B(1, 1.5, 0) = B.i + 1.5*B.j \n",
    "# v = N(1, 2,   0) = N.i + 2*N.j\n",
    "##############################\n",
    "import sympy as sm\n",
    "import sympy.vector\n",
    "B = sm.vector.CoordSys3D('B')\n",
    "T = sm.vector.CoordSys3D('T')\n",
    "# B frame = Coordinate system\n",
    "Bs = B.x*B.i + B.y*B.j + B.z*B.k\n",
    "Ts = T.x*T.i + T.y*T.j + T.z*T.k\n",
    "\n",
    "T.i = Bs.subs({B.x:2,B.y:1,B.z:0}) # components expression :(2,1,0) wrt Ti\n",
    "T.i = 2*B.i + 1*B.j + 0*B.k # vector expression\n",
    "# v_1\n",
    "T.j = Bs.subs({B.x:-1/2,B.y:1/4,B.z:0})\n",
    "T.j = (-1/2)*B.i + 1/4*B.j + 0*B.k\n",
    "# v_2\n",
    "T.k = Bs.subs({B.x:0,B.y:0,B.z:1})\n",
    "T.k = 1*B.k"
   ]
  },
  {
   "cell_type": "markdown",
   "id": "66caa5b0-55cf-42cf-85bf-9e8daf766c71",
   "metadata": {
    "tags": []
   },
   "source": [
    "# Matrix\n",
    "## $\\text{Matrix only need all coefficients of basis vectors}$\n",
    "> ### $ \\left \\{ \\begin{aligned}\n",
    "B.i = \\vec{e_1}, && B.x = v^1 \\\\\n",
    "B.j = \\vec{e_2}, && B.y = v^2 \\\\\n",
    "B.k = \\vec{e_3}, && B.z = v^3  \\end{aligned} \n",
    "\\right .\n",
    "\\quad \\left \\{ \\begin{aligned}\n",
    "T.i = \\tilde{\\vec{e_1}}, && T.x = \\tilde{v}^1 \\\\\n",
    "T.j = \\tilde{\\vec{e_2}}, && T.y = \\tilde{v}^2 \\\\\n",
    "T.k = \\tilde{\\vec{e_3}}, && T.z = \\tilde{v}^3 \\end{aligned} \n",
    "\\right .\n",
    "\\\\\n",
    "\\left \\{ \\begin{aligned}\n",
    "\\vec{v} & = v^1\\; \\vec{e_1} + v^2 \\; \\vec{e_2} + v^3\\; \\vec{e_3} &=  B.x\\; B.i + B.y\\; B.j + B.z\\; B.k \\\\\n",
    "\\tilde{\\vec{v}} & = \\tilde{v}^1 \\; \\tilde{\\vec{e_1}} + \\tilde{v}^2 \\; \\tilde{\\vec{e_2}} + \\tilde{v}^3 \\; \\tilde{\\vec{e_3}} &=  T.x \\; T.i + T.y \\; T.j + T.z \\; T.k \n",
    "\\end{aligned} \\right .\n",
    "\\\\\n",
    "F = \\begin{bmatrix} \n",
    "F_{11} & F_{12} & \\cdots & F_{1k} & \\cdots & F_{1n}\\\\\n",
    "F_{21} & F_{22} & \\cdots & F_{2k} & \\cdots & F_{2n}\\\\\n",
    "\\vdots & \\ddots & \\ddots & \\ddots & \\ddots & \\vdots \\\\\n",
    "F_{k1} & F_{k2} & \\cdots & F_{kk} & \\cdots & F_{kn}\\\\\n",
    "\\vdots & \\ddots & \\ddots & \\ddots & \\ddots & \\vdots \\\\\n",
    "F_{n1} & F_{n2} & \\cdots & F_{nk} & \\cdots & F_{nn}\\\\\n",
    "\\end{bmatrix}_T \n",
    "F^{-1} = \\begin{bmatrix} \n",
    "B_{11} & B_{12} & \\cdots & B_{1k} & \\cdots & B_{1n}\\\\\n",
    "B_{21} & B_{22} & \\cdots & B_{2k} & \\cdots & B_{2n}\\\\\n",
    "\\vdots & \\ddots & \\ddots & \\ddots & \\ddots & \\vdots \\\\\n",
    "B_{k1} & B_{k2} & \\cdots & B_{kk} & \\cdots & B_{kn}\\\\\n",
    "\\vdots & \\ddots & \\ddots & \\ddots & \\ddots & \\vdots \\\\\n",
    "B_{n1} & B_{n2} & \\cdots & B_{nk} & \\cdots & B_{nn}\\\\\n",
    "\\end{bmatrix}_{T^{-1}}\n",
    "F\\;F^{-1} = \\begin{bmatrix} \n",
    "F_{11}B_{11} + F_{12}B_{21} + \\cdots + F_{1k}B_{k1} + \\cdots + F_{1n}B_{n1} & \\cdots\\\\\n",
    "F_{21}B_{12} + F_{22}B_{22} + \\cdots + F_{2k}B_{k2} + \\cdots + F_{2n}B_{n2} & \\cdots\\\\\n",
    "\\ddots & \\cdots\\\\\n",
    "F_{k1}B_{1k} + F_{k2}B_{2k} + \\cdots + F{kk}B_{kk} + \\cdots + F_{kn}B_{nk} & \\cdots\\\\\n",
    "\\vdots & \\cdots\\\\\n",
    "F_{n1}B_{1n} + F_{n2}B_{2n} + \\cdots + F_{nk}B_{kn} + \\cdots + F_{nn}B_{nn} & \\cdots\\\\\n",
    "\\end{bmatrix}\n",
    "$"
   ]
  },
  {
   "cell_type": "markdown",
   "id": "597171e5-c032-41c5-b1ff-369a9bccc35a",
   "metadata": {},
   "source": [
    "> ### $\n",
    "(FB)_{ij} = (FF^{-1})_{ij} = \\sum_{k=1}^{n}F_{ik}B_{kj} = \\delta_{ij} \\begin{cases}1 & \\text{if}& i = j \\\\ 0 & \\text{if} &i \\neq j \\end{cases}\n",
    "$"
   ]
  },
  {
   "cell_type": "markdown",
   "id": "6ea0d0c8-cd7d-4910-9a48-3ec9b7e2f2dd",
   "metadata": {
    "tags": []
   },
   "source": [
    "> ### $\n",
    "\\left \\{ \\begin{aligned}\n",
    "\\tilde{\\vec{e_i}} & = F_{1i}\\vec{e_1} + F_{2i}\\vec{e_2} + F_{3i}\\vec{e_3} + ... + F_{ni}\\vec{e_n} & = \\sum_{j=1}^{n} F_{ji}\\,\\vec{e_j} \\\\\n",
    "\\vec{e_i} & = B_{1i}\\tilde{\\vec{e_1}} + B_{2i}\\tilde{\\vec{e_2}} + B_{3i}\\tilde{\\vec{e_3}} + ... + B_{ni}\\tilde{\\vec{e_n}} & = \\sum_{j=1}^{n} B_{ji}\\,\\tilde{\\vec{e_j}} \\\\\n",
    "\\end{aligned} \\right .\n",
    "\\\\\n",
    "\\left \\{ \\begin{aligned}\n",
    "\\tilde{v}^i & = F_{i1}\\vec{e_i} + F_{i2}\\vec{e_i} + F_{i3}\\vec{e_i} + ... + F_{in}\\vec{e_i} & = \\sum_{j=1}^{n} F_{ij}\\,\\vec{e_i} \\\\\n",
    "v^i & = B_{i1}\\tilde{\\vec{e_i}} + B_{i2}\\tilde{\\vec{e_i}} + B_{i3}\\tilde{\\vec{e_i}} + ... + B_{in}\\tilde{\\vec{e_i}} & = \\sum_{j=1}^{n} B_{ij}\\,\\tilde{\\vec{e_i}} \\\\\n",
    "\\end{aligned} \\right .\n",
    "\\\\\n",
    "$\n",
    "\n",
    "> ## $\\text{coefficient of } \\tilde{\\vec{e_i}} $\n",
    ">> ### $\n",
    "\\begin{bmatrix}\\tilde{\\vec{e_1}} \\\\ \\tilde{\\vec{e_2}} \\\\ \\tilde{\\vec{e_3}} \\end{bmatrix} \n",
    "= \n",
    "\\begin{bmatrix} u^1\\vec{e_1} + u^2\\vec{e_2} + u^3\\vec{e_3} \\\\ v^1\\vec{e_1} + v^2\\vec{e_2} + v^3\\vec{e_3}  \\\\  w^1\\vec{e_1} + w^2\\vec{e_2} + w^3\\vec{e_3} \\end{bmatrix} \\\\\n",
    "\\iff\n",
    "\\begin{bmatrix}\\tilde{\\vec{e_1}} & \\tilde{\\vec{e_2}} & \\tilde{\\vec{e_3}} \\end{bmatrix} \n",
    "= \n",
    "\\begin{bmatrix} u^1\\vec{e_1} + u^2\\vec{e_2} + u^3\\vec{e_3} & v^1\\vec{e_1} + v^2\\vec{e_2} + v^3\\vec{e_3}  &  w^1\\vec{e_1} + w^2\\vec{e_2} + w^3\\vec{e_3} \\end{bmatrix} \n",
    "$\n",
    "\n",
    "> ## $ \\therefore \\vec{T}\\; =\\; T.x\\; T.i \\;+\\; T.x\\; T.j \\;+\\; T.z\\; T.k \\: = \\: (\\;T.x,\\; T.y,\\; T.z\\;)$ \n",
    ">> ### $\n",
    "\\begin{bmatrix} T.i & T.j & T.k \\end{bmatrix} \\begin{bmatrix}T.x \\\\ T.y \\\\ T.z \\end{bmatrix}\n",
    "= \n",
    "\\begin{bmatrix} \n",
    "u^1\\vec{e_1} + u^2\\vec{e_2} + u^3\\vec{e_3} & \n",
    "v^1\\vec{e_1} + v^2\\vec{e_2} + v^3\\vec{e_3} &  \n",
    "w^1\\vec{e_1} + w^2\\vec{e_2} + w^3\\vec{e_3} \n",
    "\\end{bmatrix}\n",
    "\\begin{bmatrix}T.x \\\\ T.y \\\\ T.z \\end{bmatrix}\\\\\n",
    "$\n",
    "> ## $\\therefore \\text{ coefficient of } \\vec{B}(\\text{ wrt }\\vec{T}) = (B.x, B.y, B.z) = B.x\\: B.i + B.y\\: B.j + B.z\\: B.k$\n",
    ">> ## $ \\begin{bmatrix} \n",
    "u^1 & v^1 & w^1 \\\\ \n",
    "u^2 & v^2 & w^2 \\\\\n",
    "u^3 & v^3 & w^3 \\\\\n",
    "\\end{bmatrix}\n",
    "\\begin{bmatrix}T.x \\\\ T.y \\\\ T.z \\end{bmatrix}\n",
    "=\n",
    "\\begin{bmatrix} \\vec{e_1} \\\\ \\vec{e_2} \\\\ \\vec{e_3} \\end{bmatrix}\n",
    "$"
   ]
  },
  {
   "cell_type": "code",
   "execution_count": null,
   "id": "c2de9e44-21c4-4073-9588-743be754b03b",
   "metadata": {},
   "outputs": [],
   "source": []
  },
  {
   "cell_type": "markdown",
   "id": "38dc299a-f014-4995-a101-1abf0e37dcc9",
   "metadata": {},
   "source": [
    "> ### $ \\tilde{\\vec{e_i}} \\quad \\left \\{ \\begin{aligned}\n",
    "\\: & T.i  = 2(B.i) + 1(B.j) + 0(B.k) \\\\ \n",
    "& T.j = \\frac{-1}{2}(B.i) + \\frac{1}{4}(B.j) + 0(B.k) \\\\\n",
    "& T.k = 0(B.i) + 0(B.j) + 1(B.k) \\end{aligned} \\right.$\n",
    "\n",
    "> ### $ \\vec{T} \\quad \\left \\{ \\begin{aligned}\n",
    "\\: & T.x\\big(T.i\\big)  = T.x\\big(2(B.i) + 1(B.j) + 0(B.k)\\big) \\\\ \n",
    "& T.y\\big(T.j\\big)  = T.y\\big(\\frac{-1}{2}(B.i) + \\frac{1}{4}(B.j) + 0(B.k)\\big) \\\\\n",
    "& T.z\\big(T.k\\big)  = T.z\\big(0(B.i) + 0(B.j) + 1(B.k)\\big) \\end{aligned}\\right.$\n",
    "> ### $ \\vec{T} \\text{ wrt } \\vec{B} \\quad \\left\\{\n",
    "\\begin{aligned}\n",
    "\\;& \\Big( 2  + \\frac{-1}{2} + 0 \\Big)B.i\\\\\n",
    "& \\Big( 1  + \\frac{1}{4} + 0 \\Big)B.j \\\\\n",
    "& \\Big( 0  + 0 + 1 \\Big)B.k \n",
    "\\end{aligned}\\right.\n",
    "$\n",
    "\n",
    ">> ### $\n",
    "\\begin{bmatrix} 2 & \\frac{-1}{2} & 0 \\\\ 1 & \\frac{1}{4} & 0 \\\\ 0 & 0 & 1 \\\\ \\end{bmatrix} \n",
    "\\begin{pmatrix}  T.x \\\\ T.y \\\\ T.z \\\\ \\end{pmatrix}\n",
    "= \n",
    "\\begin{pmatrix}  B.i \\\\ B.j \\\\ B.k \\\\ \\end{pmatrix} $"
   ]
  },
  {
   "cell_type": "markdown",
   "id": "02258239-8313-4cd5-a171-5ad091193ad1",
   "metadata": {},
   "source": [
    "> ### $(T.x\\; u^1 + T.y\\;v^1 + t.z\\; w^1)\\; e_1 + (T.x\\; u^2 + T.y\\; v^2 + t.z\\;w^2)\\;e_2 +  (T.x\\; u^3 + T.y\\; v^3 + T.z\\;w^3)\\; e_3 \\\\\n",
    "\\begin{bmatrix}\n",
    "T.x\\; u^1 & T.x\\; u^2 & T.x\\; u^3 \\\\  \n",
    "T.y\\; v^1 & T,y\\; v^2 & T.y\\; v^3 \\\\\n",
    "T.z\\; w^1 & T,z\\; v^2 & T.z\\; w^3 \\\\  \n",
    "\\end{bmatrix} \\iff \n",
    "\\begin{bmatrix}\n",
    "e_1 \\\\\n",
    "e_2 \\\\\n",
    "e_3 \\\\\n",
    "\\end{bmatrix}^{\\text{ cofficient of } e_i} \\\\\n",
    "\\begin{bmatrix}\n",
    "u^1 & v^1 & w^1 \\\\  \n",
    "u^2 & v^2 & w^2 \\\\\n",
    "u^3 & v^3 & w^3 \\\\  \n",
    "\\end{bmatrix} \n",
    "\\begin{bmatrix}\n",
    "T.x \\\\\n",
    "T.y \\\\\n",
    "T.z \\\\\n",
    "\\end{bmatrix}\n",
    "\\iff\n",
    "\\begin{bmatrix}\n",
    "e_1 \\\\\n",
    "e_2 \\\\\n",
    "e_3 \\\\\n",
    "\\end{bmatrix}^{\\text{ coefficient of } e_i} \\\\\n",
    "u^1  v^1  w^1] [T.x] [e_1]\n",
    "u^2  v^2  w^2] [T.y] [e_2]\n",
    "u^3  v^3  w^3] [T.z] [e_3]\n",
    "$"
   ]
  },
  {
   "cell_type": "code",
   "execution_count": 31,
   "id": "ba5ee063-637f-4cf5-9c9b-961aa0f47c4e",
   "metadata": {},
   "outputs": [
    {
     "ename": "TypeError",
     "evalue": "Invalid arg for differentiation",
     "output_type": "error",
     "traceback": [
      "\u001b[0;31m---------------------------------------------------------------------------\u001b[0m",
      "\u001b[0;31mTypeError\u001b[0m                                 Traceback (most recent call last)",
      "\u001b[0;32m/tmp/ipykernel_39898/3569096659.py\u001b[0m in \u001b[0;36m<module>\u001b[0;34m\u001b[0m\n\u001b[1;32m     50\u001b[0m \u001b[0;31m#(2,1,0)(-1/2,1/4,0)(0,0,1)\u001b[0m\u001b[0;34m\u001b[0m\u001b[0;34m\u001b[0m\u001b[0m\n\u001b[1;32m     51\u001b[0m \u001b[0mTm\u001b[0m\u001b[0;34m\u001b[0m\u001b[0;34m\u001b[0m\u001b[0m\n\u001b[0;32m---> 52\u001b[0;31m \u001b[0mT\u001b[0m\u001b[0;34m.\u001b[0m\u001b[0mi\u001b[0m\u001b[0;34m.\u001b[0m\u001b[0mdiff\u001b[0m\u001b[0;34m(\u001b[0m\u001b[0mB\u001b[0m\u001b[0;34m.\u001b[0m\u001b[0mi\u001b[0m\u001b[0;34m)\u001b[0m\u001b[0;34m\u001b[0m\u001b[0;34m\u001b[0m\u001b[0m\n\u001b[0m",
      "\u001b[0;32m~/.local/lib/python3.9/site-packages/sympy/vector/basisdependent.py\u001b[0m in \u001b[0;36mdiff\u001b[0;34m(self, *args, **kwargs)\u001b[0m\n\u001b[1;32m    160\u001b[0m         \u001b[0;32mfor\u001b[0m \u001b[0mx\u001b[0m \u001b[0;32min\u001b[0m \u001b[0margs\u001b[0m\u001b[0;34m:\u001b[0m\u001b[0;34m\u001b[0m\u001b[0;34m\u001b[0m\u001b[0m\n\u001b[1;32m    161\u001b[0m             \u001b[0;32mif\u001b[0m \u001b[0misinstance\u001b[0m\u001b[0;34m(\u001b[0m\u001b[0mx\u001b[0m\u001b[0;34m,\u001b[0m \u001b[0mBasisDependent\u001b[0m\u001b[0;34m)\u001b[0m\u001b[0;34m:\u001b[0m\u001b[0;34m\u001b[0m\u001b[0;34m\u001b[0m\u001b[0m\n\u001b[0;32m--> 162\u001b[0;31m                 \u001b[0;32mraise\u001b[0m \u001b[0mTypeError\u001b[0m\u001b[0;34m(\u001b[0m\u001b[0;34m\"Invalid arg for differentiation\"\u001b[0m\u001b[0;34m)\u001b[0m\u001b[0;34m\u001b[0m\u001b[0;34m\u001b[0m\u001b[0m\n\u001b[0m\u001b[1;32m    163\u001b[0m         diff_components = [df(v, *args, **kwargs) * k for\n\u001b[1;32m    164\u001b[0m                            k, v in self.components.items()]\n",
      "\u001b[0;31mTypeError\u001b[0m: Invalid arg for differentiation"
     ]
    }
   ],
   "source": [
    "T.i = Bs.subs({B.x:2,B.y:1,B.z:0}) # components expression :(2,1,0) wrt Ti\n",
    "T.i = 2*B.i + 1*B.j + 0*B.k # vector expression\n",
    "# v_1\n",
    "T.j = Bs.subs({B.x:-1/2,B.y:1/4,B.z:0})  #(2,1,0)(-1/2,1/4,0)(0,0,1)\n",
    "T.j = (-1/2)*B.i + 1/4*B.j + 0*B.k\n",
    "# v_2\n",
    "T.k = Bs.subs({B.x:0,B.y:0,B.z:1}) #(0,0,1)\n",
    "T.k = 1*B.k\n",
    "\n",
    "# T.x\n",
    "F11 = T.i.coeff(B.i) \n",
    "F21 = T.i.coeff(B.j) \n",
    "F31 = T.i.coeff(B.k) \n",
    "# T.y\n",
    "F12 = T.j.coeff(B.i) \n",
    "F22 = T.j.coeff(B.j) \n",
    "F32 = T.j.coeff(B.k) \n",
    "#T.z\n",
    "F13 = T.k.coeff(B.i) \n",
    "F23 = T.k.coeff(B.j) \n",
    "F33 = T.k.coeff(B.k) \n",
    "# \\tield{\\vec{e}_{i}} = \\sum_{j=1}^{n}F_{ji}\\vec{e}_{i}\n",
    "# v^i = \\sum(j=1}^{n} F_{ij}\\tilde{\\vec{e}_{i}}\n",
    "F = sm.Matrix([[F11, F12, F13],\n",
    "               [F21, F22, F23],\n",
    "               [F31, F32, F33]])\n",
    "vi = T.x*T.i  # v^0\n",
    "vj = T.y*T.j  # v^1\n",
    "vk = T.z*T.k  # v^2\n",
    "v = vi + vj + vk # sum_{i=1}^{3} v^i\n",
    "\n",
    "m1x = v.to_matrix(B)[0].coeff(T.x)\n",
    "m1y = v.to_matrix(B)[0].coeff(T.y)\n",
    "m1z = v.to_matrix(B)[0].coeff(T.z)\n",
    "m1x\n",
    "m2x = v.to_matrix(B)[1].coeff(T.x)\n",
    "m2y = v.to_matrix(B)[1].coeff(T.y)\n",
    "m2z = v.to_matrix(B)[1].coeff(T.z)\n",
    "m2x\n",
    "m3x = v.to_matrix(B)[2].coeff(T.x)\n",
    "m3y = v.to_matrix(B)[2].coeff(T.y)\n",
    "m3z = v.to_matrix(B)[2].coeff(T.z)\n",
    "m3x\n",
    "\n",
    "Tm = sm.Matrix([[m1x, m1y, m1z],[m2x, m2y, m2z],[m3x, m3y, m3z]])\n",
    "# Tm * b_i = t_i\n",
    "Fv = T.x*T.i + T.y*T.j + T.z*T.k\n",
    "Fv.subs({T.x:1,T.y:2,T.z:0})\n",
    "F*sm.Matrix([[1],[2],[0]])\n",
    "#(2,1,0)(-1/2,1/4,0)(0,0,1)\n",
    "Tm\n"
   ]
  },
  {
   "cell_type": "code",
   "execution_count": 23,
   "id": "229de8e6-d695-4b10-a5af-85e1deda4c18",
   "metadata": {},
   "outputs": [
    {
     "data": {
      "text/latex": [
       "$\\displaystyle \\mathbf{\\hat{0}}$"
      ],
      "text/plain": [
       "0"
      ]
     },
     "execution_count": 23,
     "metadata": {},
     "output_type": "execute_result"
    }
   ],
   "source": []
  },
  {
   "cell_type": "code",
   "execution_count": null,
   "id": "a3bf882b-1591-4052-8ae4-ef433fc205e0",
   "metadata": {},
   "outputs": [],
   "source": [
    "F*(sm.Matrix([1,2,0]))\n",
    "\n",
    "# N(1,2,0) wrt Matrix and vector\n",
    "v = 1*B.i + 2*B.j\n",
    "F*v.to_matrix(B) \n",
    "\n",
    "# Backward Matrix\n",
    "Bm = F.inv()\n",
    "Bm*sm.Matrix([1,1.5,0])"
   ]
  },
  {
   "cell_type": "code",
   "execution_count": null,
   "id": "0a7adc2f-af77-46aa-a5ff-8adc520bc2dd",
   "metadata": {},
   "outputs": [],
   "source": [
    "M = sm.vector.CoordSys3D('M')\n",
    "# represent Basis wrt M\n",
    "B.i = 1/4*M.i + (-1)*M.j\n",
    "B.j = 1/2*M.i + 2*M.j\n",
    "B.k = M.k\n",
    "\n",
    "# B(1, 1.5, 0) wrt vector\n",
    "1*B.i + 1.5*B.j\n",
    "\n",
    "# B(1, 1.5, 0) wrt Matrix\n",
    "Bm = F.inv()\n",
    "Bm * sm.Matrix( [1, 1.5, 0] )\n",
    "\n",
    "# wrt matrix and vector\n",
    "v = 1*M.i + 1.5*M.j\n",
    "Bm * v.to_matrix(M)"
   ]
  },
  {
   "cell_type": "markdown",
   "id": "81dab016-eca3-48f7-b17d-d0f5d9b73cd6",
   "metadata": {},
   "source": [
    "---\n",
    "> ### $\n",
    "\\tilde{\\vec{e_1}} =  F_{11}\\; \\vec{e_1} + F_{21}\\; \\vec{e_2} + \\dots + F_{n1}\\;\\vec{e_n}\\\\\n",
    "\\tilde{\\vec{e_2}} =  F_{12}\\; \\vec{e_1} + F_{22}\\; \\vec{e_2} + \\dots + F_{n2}\\;\\vec{e_n}\\\\\n",
    "\\tilde{\\vec{e_n}} =  F_{1n}\\; \\vec{e_1} + F_{2n}\\; \\vec{e_2} + \\dots + F_{nn}\\;\\vec{e_n}\\\\\n",
    "F = \\begin{bmatrix} \n",
    "F_{11} & F_{12} & F_{13} & \\dots & F_{1n} \\\\ \n",
    "F_{21} & F_{22} & F_{23} & \\dots & F_{2n} \\\\ \n",
    "\\vdots & \\vdots & \\ddots & \\vdots \\\\ \n",
    "F_{n1} & F_{n2} & F_{n3} & \\dots & F_{nn} \\\\ \n",
    "\\end{bmatrix}$ \n",
    ">> ### $ \\tilde{\\vec{e_i}} = \\sum_{j=1}^{n}F_{ji}\\;\\vec{e_{j}}\n",
    "$"
   ]
  },
  {
   "cell_type": "code",
   "execution_count": null,
   "id": "76a6f9e4-9dad-4d52-aaae-53d1300e49ee",
   "metadata": {},
   "outputs": [],
   "source": [
    "i,j,k,n = sm.symbols('i j k n', postive=True)\n",
    "\n",
    "F = sm.MatrixSymbol('F',n,n)\n",
    "B = sm.MatrixSymbol('B',n,n)\n",
    "sm.Sum(F[i,j]*B[j,k],(j,1,n))\n",
    "#sm.Sum(f[k,j]*b[j,i],(j,1,n)).subs({i:3,k:3})"
   ]
  },
  {
   "cell_type": "markdown",
   "id": "cf1b3327-e499-45eb-b150-cca706f6e9e0",
   "metadata": {},
   "source": [
    "> ### $\n",
    "\\vec{e_1} =  B_{11}\\;\\tilde{ \\vec{e_1}} + B_{21}\\;\\tilde{ \\vec{e_2}} + \\dots + B_{n1}\\;\\tilde{\\vec{e_n}}\\\\\n",
    "\\vec{e_2} =  B_{12}\\;\\tilde{ \\vec{e_1}} + B_{22}\\;\\tilde{ \\vec{e_2}} + \\dots + B_{n2}\\;\\tilde{\\vec{e_n}}\\\\\n",
    "\\vec{e_n} =  B_{1n}\\;\\tilde{ \\vec{e_1}} + B_{2n}\\;\\tilde{ \\vec{e_2}} + \\dots + B_{nn}\\;\\tilde{\\vec{e_n}}\\\\\n",
    "B = \\begin{bmatrix} \n",
    "B_{11} & B_{12} & \\dots & B_{1n} \\\\ \n",
    "B_{21} & B_{22} & \\dots & B_{2n} \\\\ \n",
    "\\vdots & \\vdots & \\ddots & \\vdots \\\\ \n",
    "B_{n1} & B_{n2} & \\dots & B_{nn} \\\\ \n",
    "\\end{bmatrix}$ \n",
    ">> ### $$ \\vec{e_i} = \\sum_{j=1}^{n}B_{ji}\\;\\tilde{\\vec{e_{j}}}\n",
    "$$"
   ]
  },
  {
   "cell_type": "markdown",
   "id": "3ed14162-303a-4e5e-80d5-901d11b1e556",
   "metadata": {},
   "source": [
    "---\n",
    "### $$ \n",
    "\\vec{e_i} = \\sum_{j=1}^{n} B_{ji}\\; \\tilde{\\vec{e_j}} \\quad\n",
    "\\because \\tilde{\\vec{e_j}} = \\sum_{k=1}^{n}F_{kj}\\; \\vec{e_k}, \\\\\n",
    "\\vec{e_i} = \\sum_{j} B_{ji}\\; \\sum_{k} F_{kj}\\; \\vec{e_{k}} \\\\\n",
    "\\vec{e_i} = \\sum_{k} \\Big(\\sum_{j} B_{ji}\\; F_{kj}\\Big)\\; \\vec{e_{k}} \\\\\n",
    "\\quad \\because \\sum_{j}B_{ji}F_{jk} = \n",
    "\\begin{cases} \n",
    "1 & \\text{if } i = k \\\\\n",
    "0 & \\text{if } i \\neq k \\\\\n",
    "\\therefore \\delta_{ik} =: \\text{Kronecker Delta}\n",
    "\\end{cases}\n",
    "$$ \n",
    "$\n",
    "F = \\begin{bmatrix} \n",
    "F_{11} & F_{12} & \\dots & F_{1n} \\\\ \n",
    "F_{21} & F_{22} & \\dots & F_{2n} \\\\ \n",
    "\\vdots & \\vdots & \\ddots & \\vdots \\\\ \n",
    "F_{n1} & F_{n2} & \\dots & F_{nn} \\\\ \n",
    "\\end{bmatrix} \\;\n",
    "B = \\begin{bmatrix} \n",
    "B_{11} & B_{12} & \\dots & B_{1n} \\\\ \n",
    "B_{21} & B_{22} & \\dots & B_{2n} \\\\ \n",
    "\\vdots & \\vdots & \\ddots & \\vdots \\\\ \n",
    "B_{n1} & B_{n2} & \\dots & B_{nn} \\\\ \n",
    "\\end{bmatrix}\\;\n",
    "I(FB) = \\begin{bmatrix} \n",
    "1 & 0 & \\dots & 0 \\\\ \n",
    "0 & 1 & \\dots & 0 \\\\ \n",
    "\\vdots & \\vdots & 1 & \\vdots \\\\ \n",
    "0 & 0 & \\dots & 1\\\\ \n",
    "\\end{bmatrix}$ "
   ]
  },
  {
   "cell_type": "code",
   "execution_count": null,
   "id": "0390fa21-e92c-46c7-9391-516735e69f46",
   "metadata": {},
   "outputs": [],
   "source": []
  },
  {
   "cell_type": "markdown",
   "id": "5f958bf5-32a9-4335-b80a-56c63e718c77",
   "metadata": {},
   "source": [
    "# Contra Variant\n",
    "> ### $\n",
    "\\vec{v} \n",
    "=  v_1\\vec{e_1} + v_2\\vec{e_2} + ... + v_n\\vec{e_n} \n",
    "= \\sum_{j=1}^n v_j\\vec{e_j}\\\\\n",
    "\\vec{v} \n",
    "= \\tilde{v_1}\\tilde{\\vec{e_1}} + \\tilde{v_2}\\tilde{\\vec{e_2}} + ... + \\tilde{v_n}\\tilde{\\vec{e_n}} \n",
    "= \\sum_{j=1}^n \\tilde{v_j}\\tilde{\\vec{e_j}}\\\\\n",
    "\\vec{v} \n",
    "\\begin{cases} \n",
    "\\sum_{j=1}^{n}v_j\\vec{e_j} \\\\\n",
    "\\sum_{i=1}^{n} \\tilde{v_i}\\tilde{\\vec{e_i}}\n",
    "\\end{cases}\n",
    "$"
   ]
  },
  {
   "cell_type": "markdown",
   "id": "93fa7c62-8bc4-4df2-8958-3dc0bbab53c3",
   "metadata": {},
   "source": [
    "> ### $ \\because\n",
    "\\tilde{\\vec{e_j}} = \\sum_{i=1}^n F_{ij}\\vec{e_i}, \\quad\n",
    "\\vec{e_j} = \\sum_{i=1}^n B_{ij}\\tilde{\\vec{e_i}}\n",
    "$\n",
    ">> ### $\\sum_{j=1}^{n}v_j\\vec{e_j}\n",
    "=\\sum_{j=1}^{n}v_j \\Big(\\sum_{i=1}^n B_{ij}\\tilde{\\vec{e_i}}\\Big)\n",
    "=\\sum_{i=1}^{n}\\Big(\\sum_{j=1}^n B_{ij}\\; v_j\\Big)\\tilde{\\vec{e_i}}\\\\\n",
    "\\quad \\because \\vec{v} = \\sum_{i=1}^{n}\\tilde{v_i}\\tilde{\\vec{e_i}} \\\\\n",
    "\\quad =\\sum_{i=1}^{n}\\Big(\\tilde{v_i}\\Big)\\tilde{\\vec{e_i}} \\\\\n",
    "\\therefore \\tilde{v_j} = \\sum_{j=1}^{n}B_{ij}\\; \\vec{v_j} \\\\\n",
    "$\n",
    "## Components vectors Transformation \n",
    "- ### Contra Varient\n",
    "> ### behave contray to the basis vecotrs\n",
    ">> ### therefore we gona wirte the indices above the V\n",
    ">> ### $\n",
    "\\quad \\therefore \\tilde{v^j} = \\sum_{j=1}^{n}B_{ij}\\; v^j \\\\\n",
    "\\quad \\therefore v^j = \\sum_{j=1}^{n}F_{ij}\\; \\tilde{v^j} \\\\\n",
    "\\vec{v} = \\sum_{i=1}^{n} v^{i}\\; \\vec{e_i} = \\sum_{i=1}^{n}\\tilde{v^i}\\; \\tilde{\\vec{e_i}}\n",
    "$\n",
    "\n",
    "## Basis vectors trasformation\n",
    "> ### $ \n",
    "\\quad \\therefore \\tilde{\\vec{e_j}} = \\sum_{i=1}^n F_{ij}\\vec{e_i} \\\\\n",
    "\\quad \\therefore \\vec{e_j} = \\sum_{i=1}^n B_{ij}\\tilde{\\vec{e_i}}\n",
    "$"
   ]
  },
  {
   "cell_type": "code",
   "execution_count": null,
   "id": "be446639-8f28-4f59-8eb1-98e222fea315",
   "metadata": {},
   "outputs": [],
   "source": []
  },
  {
   "cell_type": "markdown",
   "id": "9aed97bd-970d-4829-89e3-89f961950a21",
   "metadata": {
    "tags": []
   },
   "source": [
    "# CoVectors\n",
    "> - ### covectors are invariant\n",
    "> - ### covector components are not invariant\n",
    "> - ### covectors are functions $\\alpha : V \\to \\mathbb{R}$\n",
    "> - ### covectors don't live in the vector space V\n",
    "> - ### so we can't use basis vectors in V like {$\\vec{e_1}, \\vec{e_2}$} to measure covectors\n",
    "\n",
    "> ### take the basis{$\\vec{e_1}, \\vec{e_2}$} for V.\n",
    "> ### when we write $ \\begin{bmatrix}2 \\\\ 1 \\end{bmatrix}_{\\vec{e_i}} = 2\\; \\vec{e_1} + 1\\; \\vec{e}_2$\n",
    "> ### introduce two special covectors $\\epsilon^1, \\epsilon^2: V \\to \\mathbb{R}$\n",
    ">> ### $\\epsilon^1 (\\vec{e_1}) = 1, \\quad \\epsilon^1 (\\vec{e_2}) = 0$\n",
    ">> ### $\\epsilon^2 (\\vec{e_1}) = 1, \\quad \\epsilon^2 (\\vec{e_2}) = 0$\n",
    ">> ### $\\epsilon^i (\\vec{e_j}) = \\delta_{ij} = \n",
    "\\begin{cases} \n",
    "1 & if \\;i = j \\\\\n",
    "0 & if \\;i \\neq j \\\\\n",
    "\\end{cases}\n",
    "$\n",
    ">>> ### $\\epsilon^1 (\\vec{v}) \n",
    "= \\epsilon^1 ( {v}^1 \\vec{e_1} + {v}^2 \\vec{e_2}) \n",
    "= v^1 \\epsilon^1 (\\vec{e_1}) + v^2 \\epsilon^1(\\vec{e_2}) = v^1 $\n",
    ">>> ### $\\epsilon^2 (\\vec{v}) \n",
    "= \\epsilon^2 ( {v}^1 \\vec{e_1} + {v}^2 \\vec{e_2}) \n",
    "= v^1 \\epsilon^2 (\\vec{e_1}) + v^2 \\epsilon^2(\\vec{e_2}) = v^2 $\n",
    ">> ### $\\therefore \\epsilon^i (\\vec{v}) = v^i$\n",
    ">> ### $\\therefore  v^i = \\epsilon^i (\\vec{v}) $"
   ]
  },
  {
   "cell_type": "code",
   "execution_count": null,
   "id": "a95c5265-36a7-4dfa-85e6-cc2869c24cd2",
   "metadata": {},
   "outputs": [],
   "source": [
    "F = Bm.inv()\n",
    "\n",
    "sm.Matrix([[2,1,0]])*F\n",
    "sm.Matrix([[5,-3/4,0]])*Bm\n",
    "Bm"
   ]
  },
  {
   "cell_type": "markdown",
   "id": "99f8e5c6-6842-4da3-b150-b5b2042fd082",
   "metadata": {
    "tags": []
   },
   "source": [
    "> ### $\\alpha (\\vec{v}) \\begin{cases}\n",
    "\\alpha ( {v}^1 \\vec{e_1} + {v}^2 \\vec{e_2}) \\\\\n",
    "\\quad \\because \\text{ addition ruls}\\\\\n",
    "v^1 \\alpha(\\vec{e_1}) + {v}^2 \\alpha (\\vec{e_2}) \\\\\n",
    "\\quad \\because v^1 = \\epsilon^1(\\vec{v}), \\quad \\epsilon^2(\\vec{v}) = v^2 \\\\\n",
    "\\epsilon^1(\\vec{v})\\alpha(\\vec{e_1}) + \\epsilon^2(\\vec{v})\\alpha(\\vec{e_1}) \\\\\n",
    "\\quad \\text{define: } \\alpha(\\vec{e_1}) = \\alpha_1, \\quad \\alpha(\\vec{e_2}) = \\alpha_2 \\\\\n",
    "\\epsilon^1 \\alpha_1(\\vec{v}) + \\epsilon^2\\alpha_1 (\\vec{v})\\\\\n",
    "(\\epsilon^1 \\alpha_1 + \\epsilon^2\\alpha_1) (\\vec{v})\\\\\n",
    "\\quad \\because \\text{cancel } \\vec{v}\n",
    "\\end{cases}\n",
    "$\n",
    "> ## $\\therefore \\alpha = \\alpha_1 \\epsilon^1 + \\alpha_2 \\epsilon^2 \n",
    "\\begin{cases} \n",
    "\\alpha (\\vec{e_1}) = \\alpha_1 \\\\\n",
    "\\alpha (\\vec{e_2}) = \\alpha_2 \\\\\n",
    "\\epsilon^i (\\vec{e_j}) = \\delta_{ij} \\\\\n",
    "\\epsilon^i (\\vec{v_i}) = v^i\n",
    "\\end{cases}$\n",
    ">> ### $\\epsilon$ is called Dual Basis(양쪽에서 Basis)\n",
    ">>> ### $\\because \\epsilon$ Covector form a basis for the set of all Covectors \n",
    ">> ### $\\alpha$ is General Covector"
   ]
  },
  {
   "cell_type": "code",
   "execution_count": null,
   "id": "fb77219b-efeb-4066-96f6-7bb068ce9899",
   "metadata": {},
   "outputs": [],
   "source": [
    "#"
   ]
  },
  {
   "cell_type": "markdown",
   "id": "cfc2873b-f23b-4f33-baac-fa0ea7d2b846",
   "metadata": {},
   "source": [
    "> ### A covector(row vector) is \n",
    ">>  ### Linearity\n",
    ">>> ### A fucntion that takes a vector and produces a scalar/number \n",
    "$ \\alpha: V \\to \\mathbb{R}$\n",
    ">>> ### We can add inputs or add output and get the same answer\n",
    "$ \\alpha(\\vec{v} + \\vec{w}) = \\alpha(\\vec{v}) + \\alpha \\vec{w}$\n",
    ">>> ### We can scale inputs or scale outputs and get the same answer\n",
    "$ \\alpha(n \\vec{v} + m \\vec{w}) = n \\alpha(\\vec{v}) + m \\alpha(\\vec{w})$\n"
   ]
  },
  {
   "cell_type": "code",
   "execution_count": null,
   "id": "fbb32899-64bb-4e67-a1e9-ee8031e28c15",
   "metadata": {},
   "outputs": [],
   "source": [
    "#"
   ]
  },
  {
   "cell_type": "markdown",
   "id": "dc6e7de1-2929-4565-90c2-3c5c7033cc4f",
   "metadata": {},
   "source": [
    "---\n",
    "# Vector Space\n",
    "> ### $(V,S, +,\\cdot)$\n",
    "# Dual Vector Space\n",
    "> ### $(V^*, S, + , \\cdot)$\n",
    ">> ### Elements of $V^*$ ard covectors, $\\alpha: V \\to \\mathbb{R}$\n",
    ">>> $(n \\cdot \\alpha)(\\vec{v}) = n\\alpha(\\vec v) \\\\\n",
    "(\\beta + \\gamma)(\\vec v) = \\beta(\\vec v) + \\gamma(\\vec v)\\\\\n",
    "\\alpha(\\vec v + \\vec w) = \\alpha(\\vec v) + \\alpha(\\vec w)\\\\\n",
    "\\alpha(n\\vec v) = n \\alpha(\\vec v)\n",
    "$\n"
   ]
  },
  {
   "cell_type": "code",
   "execution_count": 2,
   "id": "cdb828cc-ed52-4c0b-b8ca-8511f22e02b6",
   "metadata": {},
   "outputs": [
    {
     "data": {
      "image/png": "[encoded data removed]",
      "text/plain": [
       "<Figure size 720x720 with 1 Axes>"
      ]
     },
     "metadata": {
      "needs_background": "light"
     },
     "output_type": "display_data"
    }
   ],
   "source": [
    "import matplotlib.pyplot as plt\n",
    "import numpy as np\n",
    "x = np.linspace(-10,10,100)\n",
    "fig = plt.figure(figsize=(10,10))\n",
    "ax = fig.add_subplot()\n",
    "ax.set_aspect('equal')\n",
    "ax.set_xlim(xmin=-10,xmax=10)\n",
    "ax.set_ylim(ymin=-10,ymax=10)\n",
    "ax.set_xticks(np.arange(-10,10,1))\n",
    "ax.set_yticks(np.arange(-10,10,1))\n",
    "ax.spines['left'].set_position('center')\n",
    "ax.spines['bottom'].set_position('center')\n",
    "ax.grid()\n",
    "\n",
    "#ax.axhline(0)\n",
    "#ax.axvline(0)\n"
   ]
  },
  {
   "cell_type": "code",
   "execution_count": null,
   "id": "b7a81316-16d2-45f8-a550-d27442e92805",
   "metadata": {},
   "outputs": [],
   "source": []
  },
  {
   "cell_type": "code",
   "execution_count": null,
   "id": "1c01edd9-e431-4994-9653-14e1b284bae6",
   "metadata": {},
   "outputs": [],
   "source": []
  }
 ],
 "metadata": {
  "kernelspec": {
   "display_name": "Python 3 (ipykernel)",
   "language": "python",
   "name": "python3"
  },
  "language_info": {
   "codemirror_mode": {
    "name": "ipython",
    "version": 3
   },
   "file_extension": ".py",
   "mimetype": "text/x-python",
   "name": "python",
   "nbconvert_exporter": "python",
   "pygments_lexer": "ipython3",
   "version": "3.10.1"
  }
 },
 "nbformat": 4,
 "nbformat_minor": 5
}
