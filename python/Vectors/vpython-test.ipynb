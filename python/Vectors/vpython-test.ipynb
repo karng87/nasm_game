{
 "cells": [
  {
   "cell_type": "code",
   "execution_count": 4,
   "id": "b2edd361-83d0-4440-85d3-6ceeea3816bf",
   "metadata": {},
   "outputs": [
    {
     "data": {
      "text/plain": [
       "8.3"
      ]
     },
     "execution_count": 4,
     "metadata": {},
     "output_type": "execute_result"
    }
   ],
   "source": [
    "import vpython as vp\n",
    "#bola = vp.sphere(pos=vp.vector(0,10,0),radius=0.5,color=vp.color.red)\n",
    "G = 6.67e-11\n",
    "Me = 5.9e24 #kg\n",
    "Re = 6.24e6 #m\n",
    "h = 23456\n",
    "g = G*Me/(Re+h)**2\n",
    "A = vp.vector(1,2,-1)\n",
    "B = vp.vector(0.3,4,0)\n",
    "vp.dot(A,B)"
   ]
  },
  {
   "cell_type": "markdown",
   "id": "3e08b803-e5ab-451d-b445-02e946a0e666",
   "metadata": {},
   "source": [
    "# Velocity\n",
    "> ### $ v_{avg} = \\frac{x_0 + x_1}{\\Delta t} $"
   ]
  },
  {
   "cell_type": "code",
   "execution_count": 6,
   "id": "f21e5b1e-7006-42dd-99b7-ea5c8997a23f",
   "metadata": {},
   "outputs": [],
   "source": [
    "g1 = vp.graph(title=\"kinematics\")\n",
    "f1 = vp.gcurve(color=vp.color.blue)\n",
    "x = 0 # m\n",
    "v = 0.45 # m/sec\n",
    "a = 0.5 # m/sec^2\n",
    "t = 0 # sec\n",
    "dt = 0.01 # sec\n",
    "while t < 1.5:\n",
    "    v = v + a*dt\n",
    "    x = x + v*dt\n",
    "    t = t + dt\n",
    "    f1.plot(t,x)"
   ]
  },
  {
   "cell_type": "code",
   "execution_count": null,
   "id": "fa4883bf-4a9e-44e3-825d-813c7ee8667f",
   "metadata": {},
   "outputs": [],
   "source": []
  }
 ],
 "metadata": {
  "kernelspec": {
   "display_name": "Python 3 (ipykernel)",
   "language": "python",
   "name": "python3"
  },
  "language_info": {
   "codemirror_mode": {
    "name": "ipython",
    "version": 3
   },
   "file_extension": ".py",
   "mimetype": "text/x-python",
   "name": "python",
   "nbconvert_exporter": "python",
   "pygments_lexer": "ipython3",
   "version": "3.9.9"
  }
 },
 "nbformat": 4,
 "nbformat_minor": 5
}
