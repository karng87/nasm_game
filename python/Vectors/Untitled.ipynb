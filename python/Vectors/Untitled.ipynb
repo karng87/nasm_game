{
 "cells": [
  {
   "cell_type": "markdown",
   "id": "41b19d65-297e-4d40-bb8f-5fa047a8f4f9",
   "metadata": {},
   "source": [
    "# Symbolic Calculations"
   ]
  },
  {
   "cell_type": "code",
   "execution_count": 54,
   "id": "431112d7-0b59-4efc-8b17-266ce188641a",
   "metadata": {},
   "outputs": [
    {
     "data": {
      "image/png": "[encoded data removed]",
      "text/latex": [
       "$\\displaystyle 1.609344 \\text{km}$"
      ],
      "text/plain": [
       "1.609344⋅kilometer"
      ]
     },
     "execution_count": 54,
     "metadata": {},
     "output_type": "execute_result"
    }
   ],
   "source": [
    "import sympy as sm\n",
    "sm.init_printing()\n",
    "import numpy as np\n",
    "import scipy as sp\n",
    "import scipy.integrate\n",
    "import matplotlib as mpl\n",
    "mpl.rcParams['mathtext.fontset']='stix'\n",
    "import matplotlib.pyplot as plt\n",
    "import sympy.physics.units as u\n",
    "u.miles.convert_to(u.km).n()"
   ]
  },
  {
   "cell_type": "markdown",
   "id": "bfe64ba2-2db9-4f94-ab49-52e5d5d742a7",
   "metadata": {},
   "source": [
    "Differential equation for the Damped Harmonic Oscillator:\n",
    "$$\n",
    "\\large\n",
    "\\frac{d^{2}x(t)}{dt^{2}}+2\\gamma\\omega_{0}\\frac{dx(t)}{dt}+\\omega_{0}^{2}x(t) = 0\n",
    "$$"
   ]
  },
  {
   "cell_type": "code",
   "execution_count": 10,
   "id": "9a6d9f42-43eb-4e1f-8e74-1f6d5cecc164",
   "metadata": {},
   "outputs": [
    {
     "data": {
      "image/png": "[encoded data removed]",
      "text/latex": [
       "$\\displaystyle 2 \\gamma \\omega_{0} \\frac{d}{d t} x{\\left(t \\right)} + \\omega_{0}^{2} x{\\left(t \\right)} + \\frac{d^{2}}{d t^{2}} x{\\left(t \\right)}$"
      ],
      "text/plain": [
       "                               2      \n",
       "       d            2         d       \n",
       "2⋅γ⋅ω₀⋅──(x(t)) + ω₀ ⋅x(t) + ───(x(t))\n",
       "       dt                      2      \n",
       "                             dt       "
      ]
     },
     "execution_count": 10,
     "metadata": {},
     "output_type": "execute_result"
    }
   ],
   "source": [
    "t,omega0 = sm.symbols('t,omega_0', positive=True)\n",
    "gamma = sm.symbols('gamma',complex=True)\n",
    "x = sm.Function('x')\n",
    "ode = 2*gamma*omega0*x(t).diff(t)+omega0**2*x(t)+x(t).diff(t,2)\n",
    "ode"
   ]
  },
  {
   "cell_type": "code",
   "execution_count": 11,
   "id": "fd42887f-9d7d-4af8-abc4-8fe066444bfc",
   "metadata": {},
   "outputs": [
    {
     "data": {
      "image/png": "[encoded data removed]",
      "text/latex": [
       "$\\displaystyle x{\\left(t \\right)} = C_{1} e^{\\omega_{0} t \\left(- \\gamma - \\sqrt{\\gamma^{2} - 1}\\right)} + C_{2} e^{\\omega_{0} t \\left(- \\gamma + \\sqrt{\\gamma^{2} - 1}\\right)}$"
      ],
      "text/plain": [
       "                ⎛        ________⎞            ⎛        ________⎞\n",
       "                ⎜       ╱  2     ⎟            ⎜       ╱  2     ⎟\n",
       "           ω₀⋅t⋅⎝-γ - ╲╱  γ  - 1 ⎠       ω₀⋅t⋅⎝-γ + ╲╱  γ  - 1 ⎠\n",
       "x(t) = C₁⋅ℯ                        + C₂⋅ℯ                       "
      ]
     },
     "execution_count": 11,
     "metadata": {},
     "output_type": "execute_result"
    }
   ],
   "source": [
    "sm.dsolve(ode)"
   ]
  },
  {
   "cell_type": "code",
   "execution_count": null,
   "id": "767901bd-d2ad-4fcc-94c3-b2e2f7386400",
   "metadata": {},
   "outputs": [],
   "source": []
  }
 ],
 "metadata": {
  "kernelspec": {
   "display_name": "Python 3 (ipykernel)",
   "language": "python",
   "name": "python3"
  },
  "language_info": {
   "codemirror_mode": {
    "name": "ipython",
    "version": 3
   },
   "file_extension": ".py",
   "mimetype": "text/x-python",
   "name": "python",
   "nbconvert_exporter": "python",
   "pygments_lexer": "ipython3",
   "version": "3.9.9"
  }
 },
 "nbformat": 4,
 "nbformat_minor": 5
}
