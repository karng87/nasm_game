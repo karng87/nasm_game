{
 "cells": [
  {
   "cell_type": "code",
   "execution_count": 10,
   "id": "5abbd82d-946b-4368-a86a-4ccbb7966e1f",
   "metadata": {},
   "outputs": [
    {
     "data": {
      "text/latex": [
       "$\\displaystyle \\left[\\begin{matrix}1 & 2 & 3 & 2 & 4 & 6 & 3 & 6 & 9\\\\4 & 5 & 6 & 8 & 10 & 12 & 12 & 15 & 18\\\\7 & 8 & 9 & 14 & 16 & 18 & 21 & 24 & 27\\\\4 & 8 & 12 & 5 & 10 & 15 & 6 & 12 & 18\\\\16 & 20 & 24 & 20 & 25 & 30 & 24 & 30 & 36\\\\28 & 32 & 36 & 35 & 40 & 45 & 42 & 48 & 54\\\\7 & 14 & 21 & 8 & 16 & 24 & 9 & 18 & 27\\\\28 & 35 & 42 & 32 & 40 & 48 & 36 & 45 & 54\\\\49 & 56 & 63 & 56 & 64 & 72 & 63 & 72 & 81\\end{matrix}\\right]$"
      ],
      "text/plain": [
       "Matrix([\n",
       "[ 1,  2,  3,  2,  4,  6,  3,  6,  9],\n",
       "[ 4,  5,  6,  8, 10, 12, 12, 15, 18],\n",
       "[ 7,  8,  9, 14, 16, 18, 21, 24, 27],\n",
       "[ 4,  8, 12,  5, 10, 15,  6, 12, 18],\n",
       "[16, 20, 24, 20, 25, 30, 24, 30, 36],\n",
       "[28, 32, 36, 35, 40, 45, 42, 48, 54],\n",
       "[ 7, 14, 21,  8, 16, 24,  9, 18, 27],\n",
       "[28, 35, 42, 32, 40, 48, 36, 45, 54],\n",
       "[49, 56, 63, 56, 64, 72, 63, 72, 81]])"
      ]
     },
     "execution_count": 10,
     "metadata": {},
     "output_type": "execute_result"
    }
   ],
   "source": [
    "import sympy as sm\n",
    "import sympy.physics.quantum as spq\n",
    "A = sm.Matrix([[1,2,3],[4,5,6],[7,8,9]])\n",
    "spq.TensorProduct(A,A)"
   ]
  },
  {
   "cell_type": "code",
   "execution_count": null,
   "id": "e87d6042-84b0-45ba-bf90-8eb0a33d4df6",
   "metadata": {},
   "outputs": [],
   "source": []
  }
 ],
 "metadata": {
  "kernelspec": {
   "display_name": "Python 3 (ipykernel)",
   "language": "python",
   "name": "python3"
  },
  "language_info": {
   "codemirror_mode": {
    "name": "ipython",
    "version": 3
   },
   "file_extension": ".py",
   "mimetype": "text/x-python",
   "name": "python",
   "nbconvert_exporter": "python",
   "pygments_lexer": "ipython3",
   "version": "3.10.2"
  }
 },
 "nbformat": 4,
 "nbformat_minor": 5
}
