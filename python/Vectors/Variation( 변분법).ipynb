{
 "cells": [
  {
   "cell_type": "markdown",
   "id": "4482d616-64b1-4650-a480-1e7b36a23b6a",
   "metadata": {},
   "source": [
    "# Variation(변분법)\n",
    "## functional (범함수)\n",
    "> ## domain -> functions\n",
    ">> # rarnge -> functions\n",
    "> ## variation of calculus\n",
    ">> ## differential of funcional(변분)\n",
    ">>> ## cf) differential(미분) of value of function\n",
    ">>> ## cf) differnce(차분) of indipendent variable"
   ]
  }
 ],
 "metadata": {
  "kernelspec": {
   "display_name": "Python 3 (ipykernel)",
   "language": "python",
   "name": "python3"
  },
  "language_info": {
   "codemirror_mode": {
    "name": "ipython",
    "version": 3
   },
   "file_extension": ".py",
   "mimetype": "text/x-python",
   "name": "python",
   "nbconvert_exporter": "python",
   "pygments_lexer": "ipython3",
   "version": "3.9.7"
  }
 },
 "nbformat": 4,
 "nbformat_minor": 5
}
