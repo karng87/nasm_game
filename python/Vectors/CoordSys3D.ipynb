{
 "cells": [
  {
   "cell_type": "code",
   "execution_count": 267,
   "id": "52589f5a-1e3b-4f13-852a-87d5f3400014",
   "metadata": {},
   "outputs": [],
   "source": [
    "import sympy as sm\n",
    "import sympy.vector\n",
    "import sympy.plotting\n",
    "sigma_s = sm.symbols('\\hat{\\sigma}^2')\n",
    "lamb, x,y,a, b = sm.symbols('lambda x,y a b')\n",
    "B = sm.vector.CoordSys3D('B')\n",
    "#### transformation factor\n",
    "# P_{B}^(N) = N.e [] = P[](N_e1 + N_e2)\n",
    "P = sm.Matrix([[1,1],[4,1]])\n",
    "\n",
    "I = sm.eye(2)\n",
    "lI = lamb * I\n",
    "\n",
    "V = sm.Matrix([a,b])\n",
    "\n",
    "#### A*V = lamb*V\n",
    "# A*V = lamb*I*V\n",
    "# A*V - lamb*I*V = 0\n",
    "# (A - lamb*I)*V = 0\n",
    "# A 와 lamb*I, 두 벡터가 평행 해야만 빼서 0을 만들수 있으므로\n",
    "# 평행한 벡터의 면적은 0 !!\n",
    "# det(A - lamb*I) = 0\n",
    "s = P - lamb*I\n",
    "s = s.det()\n",
    "s = sm.solve(s,lamb)\n",
    "## substitute lamb to V\n",
    "# (A - s[0] * I) *V = 0 \n",
    "s1 = (P - s[0]*I) * V\n",
    "s2 = (P - s[1]*I) * V\n",
    "\n",
    "s1 = V.subs(sm.solve(s1))\n",
    "s2 = V.subs(sm.solve(s2))\n",
    "v1 = sm.vector.matrix_to_vector(s1,B)"
   ]
  },
  {
   "cell_type": "code",
   "execution_count": 272,
   "id": "a23cbacc-8829-44ff-a130-5f2a9940e3c1",
   "metadata": {},
   "outputs": [
    {
     "data": {
      "text/latex": [
       "$\\displaystyle f{\\left(x \\right)} = C_{1} e^{- x} + C_{2} e^{x}$"
      ],
      "text/plain": [
       "Eq(f(x), C1*exp(-x) + C2*exp(x))"
      ]
     },
     "execution_count": 272,
     "metadata": {},
     "output_type": "execute_result"
    }
   ],
   "source": [
    "f = sm.symbols('f',cls=sm.Function)\n",
    "sm.dsolve(f(x).diff(x,2) - f(x),f(x))"
   ]
  },
  {
   "cell_type": "markdown",
   "id": "39e5152e-20f3-4704-8d1f-bcb7660871a4",
   "metadata": {
    "tags": []
   },
   "source": [
    "# [basis](https://www.youtube.com/watch?v=PT8FyU0dd3k) > standard basis(orthogonal)\n",
    ">> $ S , N \\in \\mathbb R^2\\\\ \n",
    "S = \\{e_1,e_2 \\}, e_1=(1,0),e_2=(0,1)\\\\\n",
    "N = \n",
    "\\begin{bmatrix}1 & 1 \\\\ 1 & -1 \\end{bmatrix}\\\\\n",
    "[V]_S = \\big[?\\big]_S^N\\:[v]_N \\\\ \n",
    "[V]_N = \\big[?\\big]_N^S\\:[v]_S \\\\\n",
    "\\therefore P_{N}^{S} = \\big(? \\big)_{2\\times 2}\\\\\n",
    "N.e_1 = \\begin{bmatrix} 1 \\\\ 0 \\end{bmatrix} \n",
    "\\Leftarrow \n",
    "\\begin{bmatrix}? \\\\ ? \\end{bmatrix}_N^S \n",
    "\\begin{bmatrix}1\\\\1\\end{bmatrix} \n",
    "+ \n",
    "\\begin{bmatrix}? \\\\ ? \\end{bmatrix}_N^S \n",
    "\\begin{bmatrix}1 \\\\ -1 \\end{bmatrix}\n",
    "\\\\\n",
    "N.e_2 = \\begin{bmatrix} 0 \\\\ 1 \\end{bmatrix} \n",
    "\\Leftarrow \n",
    "\\begin{bmatrix}? \\\\ ? \\end{bmatrix}_N^S \\begin{bmatrix}1\\\\1\\end{bmatrix} \n",
    "+ \n",
    "\\begin{bmatrix}? \\\\ ? \\end{bmatrix}_N^S \n",
    "\\begin{bmatrix}1 \\\\ -1 \\end{bmatrix}\n",
    "\\\\\n",
    "\\therefore \n",
    "P_N^S = \\begin{bmatrix} \\frac{1}{2} & \\frac{1}{2}\\\\\n",
    "\\frac{1}{2} & -\\frac{1}{2} \\end{bmatrix} \\\\\n",
    "\\quad [v]_N  =  P_N^S\\:[v]_S\n",
    "$\n",
    "> ## that is inverse\n",
    ">> ## $ N^{-1} \n",
    "= \n",
    "\\begin{bmatrix} 1 & 1 \\\\ 1 & -1 \\end{bmatrix}^{-1}\n",
    "\\iff \n",
    "P_N^S = \\begin{bmatrix} \\frac{1}{2} & \\frac{1}{2}\\\\\n",
    "\\frac{1}{2} & -\\frac{1}{2} \\end{bmatrix}\n",
    "$\n",
    "\n",
    "\n",
    "# origin\n",
    "> 기시점, 원점  \n",
    ">> 참조 point   \n",
    ">> reference point: one point를 중심으로 모든 대상을 상대적인 비율(거리)로 나타내려할때 그 중심 point \n",
    "\n",
    "# axis\n",
    "> 축\n",
    ">> 원점에 서있을때 정면 옆면 윗면방향으로 무한히 확장한 축\n",
    "\n",
    "# perspective\n",
    "> 관점.  \n",
    ">> 목적 대상(object)을 원점과의 상대적인 물리적인 관계로 상태(states)를 기술하는 방법\n",
    "\n",
    "# Scaling Factor\n",
    "> 축척\n",
    "\n",
    ">> line\n",
    ">>> 1D\n",
    "\n",
    ">> Area\n",
    ">>> Determinant = scaling factor for areas in matrix\n",
    "\n",
    ">> Volumn\n",
    ">>> corss product = scaling factor fo rarea in matix"
   ]
  },
  {
   "cell_type": "code",
   "execution_count": 8,
   "id": "43530c1f-b04f-4647-823f-85f0f7180be6",
   "metadata": {
    "tags": []
   },
   "outputs": [
    {
     "data": {
      "text/plain": [
       "True"
      ]
     },
     "execution_count": 8,
     "metadata": {},
     "output_type": "execute_result"
    }
   ],
   "source": [
    "    # 직각좌표계\n",
    "import sympy as sm\n",
    "import sympy.vector\n",
    "\n",
    "### nabla operator = Del()\n",
    "###    sympy.vector.Del()\n",
    "nabla = sm.vector.Del()\n",
    "\n",
    "# 직각 좌표계\n",
    "B = sm.vector.CoordSys3D('')\n",
    "\n",
    "# 직각 좌표계의 base vector(i,j,k), base scalar(x,y,z)\n",
    "B.base_scalars(), B.base_vectors()\n",
    "\n",
    "# vector in i,j,k vector\n",
    "v1 = 1*B.i+2*B.j+3*B.k\n",
    "type(v1)\n",
    "\n",
    "v2 = 3*B.i+4*B.j+5*B.k\n",
    "type(v2)\n",
    "\n",
    "# scalar in x,y,z not a vector\n",
    "v0 = B.x + B.y + B.z\n",
    "type(v0)\n",
    "\n",
    "# to matrix of the Coordinate system,where, v is vector\n",
    "v1.to_matrix(B)\n",
    "\n",
    "v1.magnitude() == sm.sqrt(v1.dot(v1))\n",
    "v1.cross(v2)\n",
    "v1.normalize()\n",
    "\n",
    "### projection vector ###\n",
    "# v1.projection(v2)\n",
    "# v1.dot(v2) = ||v1|| ||v2|| cos(theta)\n",
    "# cos(theta) = (v1.dot(v2))/(||v1|| ||v2||)\n",
    "# v1.project(v2) = ||v2|| cost(theta) \\hat{v1} = (v1.dot(v2))/(|\\v1||^2) x \\vec{v1}\n",
    "# v1.project(v2) = \\frac{||v2||cost(theta)}{\\hat{v1}} = \\frac{(v1.dot(v2))}{|\\v1||^2} \\vec{v1}\n",
    "# v1.project(v2) = \\frac{(v1.dot(v2))}{v1.dot(v1)}\\vec{v1}\n",
    "v1.projection(v2) == v1.dot(v2)/v1.dot(v1)*v1\n",
    "\n",
    "#### nabla Del(), where in field potential energy ###\n",
    "# \\nabla \\cdot = divergence\n",
    "# \\nabla \\times = curl\n",
    "# \\nabla * f(x,y,z) = gradient, where f(x,y,z) is scalar function(that return real numbers)\n",
    "u_field = 2 * B.x * B.y**2 * B.i + 3 * B.z**2 * B.y*B.j + 4 * B.x**3 * B.z * B.k\n",
    "type(u_field)\n",
    "\n",
    "f_field = 3* B.x**2 + B.y**3 + B.z**2\n",
    "type(f_field)\n",
    "\n",
    "nabla = sm.vector.Del()\n",
    "nabla.dot(u_field)\n",
    "nabla.dot(u_field).doit() == sm.vector.divergence(u_field)\n",
    "nabla.cross(u_field)\n",
    "nabla.cross(u_field).doit() == sm.vector.curl(u_field)\n",
    "nabla(f_field)\n",
    "nabla(f_field).doit() == sm.vector.gradient(f_field)"
   ]
  },
  {
   "cell_type": "code",
   "execution_count": 9,
   "id": "f75a78f7-09a7-4223-a4cb-281c9e4da761",
   "metadata": {
    "tags": []
   },
   "outputs": [
    {
     "data": {
      "text/latex": [
       "$\\displaystyle (\\frac{2 \\mathbf{{r}_{C}} \\sin^{2}{\\left(\\mathbf{{theta}_{C}} \\right)} + 2 \\mathbf{{r}_{C}} \\sin{\\left(\\mathbf{{theta}_{C}} \\right)} \\cos{\\left(\\mathbf{{theta}_{C}} \\right)}}{\\mathbf{{r}_{C}}})\\mathbf{\\hat{k}_{C}}$"
      ],
      "text/plain": [
       "((2*C.r*sin(C.theta)**2 + 2*C.r*sin(C.theta)*cos(C.theta))/C.r)*C.k"
      ]
     },
     "execution_count": 9,
     "metadata": {},
     "output_type": "execute_result"
    }
   ],
   "source": [
    "#### cylindrical CoordSys3D ####\n",
    "#### 원통 좌표계\n",
    "B = sm.vector.CoordSys3D('B')\n",
    "C = B.create_new('C', transformation='cylindrical')\n",
    "\n",
    "#### (r,theta,z) -> (x,y.z)\n",
    "# (r x cos(theta), r x sin(theta), z)\n",
    "#rv = C.transformation_from_parent()\n",
    "ra = [ C.r * sm.cos(C.theta), C.r* sm.sin(C.theta), C.z]\n",
    "rm = sm.Matrix(ra)\n",
    "rv = sm.vector.matrix_to_vector(rm,C)\n",
    "\n",
    "#### (r,theta,z) -> (sqrt(x^2 + y^2), atan(y\\x), z)\n",
    "#r_v = C.transformation_from_parent()\n",
    "####  r > 0, 0 < theta <  2{\\pi} -oo < z < oo\n",
    "r_a = [ sm.sqrt(B.x**2 + B.y**2), sm.atan(B.y/B.x), B.z]\n",
    "r_m = sm.Matrix(r_a)\n",
    "r_v = sm.vector.matrix_to_vector(r_m, C)\n",
    "\n",
    "#### Scale factor Jacobian(행열식) ####\n",
    "hr = sm.sqrt(rv.diff(C.r).dot(rv.diff(C.r))).simplify()\n",
    "ht = sm.sqrt(rv.diff(C.theta).dot(rv.diff(C.theta))).simplify()\n",
    "hz = sm.sqrt(rv.diff(C.z).dot(rv.diff(C.z))).simplify()\n",
    "#### bases\n",
    "rh = rv.diff(C.r)/hr\n",
    "th = rv.diff(C.theta)/ht\n",
    "zh = rv.diff(C.z)/hz\n",
    "rh.cross(th).simplify() == zh\n",
    "\n",
    "#### dS = d{\\theta} * dz + 2*dr\n",
    "## dS = ht * hz * d{\\theta}*dz + 2(hr*dr)\n",
    "## dS = r*d{\\theta}*dz + 2(dr)\n",
    "sm.Integral(C.r,(C.theta,0,2*sm.pi),(C.z,0,C.z)) + 2*sm.Integral(C.r,(C.theta,0,2*sm.pi)) \n",
    "sm.integrate(C.r,(C.theta,0,2*sm.pi),(C.z,0,C.z)) + 2*sm.integrate(C.r,(C.theta,0,2*sm.pi)) \n",
    "sm.integrate(ht*hz,(C.theta,0,2*sm.pi),(C.z,0,C.z)) + 2*sm.integrate(ht,(C.theta,0,2*sm.pi)) \n",
    "\n",
    "#### dV\n",
    "## dV = hr * ht * hz * dr * dt * dz = dr * r*dt * dz\n",
    "## dV = dr * r*d{\\theta} * dz\n",
    "sm.Integral(hr*ht*hz,(C.z,0,C.z),(C.theta,0,2*sm.pi),(C.r,0,C.r))\n",
    "sm.integrate(hr*ht*hz,(C.z,0,C.z),(C.theta,0,2*sm.pi),(C.r,0,C.r))\n",
    "sm.integrate(C.r,(C.z,0,C.z),(C.theta,0,2*sm.pi),(C.r,0,C.r))\n",
    "\n",
    "sm.Matrix(C.transformation_to_parent()).subs({C.i:sm.cos(C.theta),C.j:sm.sin(C.theta)})\n",
    "uf = C.r*sm.cos(C.theta)**2*C.i + C.r*sm.sin(C.theta)**2*C.j + C.z*C.k\n",
    "type(uf)\n",
    "uf.to_matrix(C)\n",
    "\n",
    "sf = C.r**2\n",
    "type(sf)\n",
    "\n",
    "nabla = sm.vector.Del()\n",
    "\n",
    "nabla(sf).doit() == sm.vector.gradient(sf)\n",
    "nabla.dot(uf).doit() == sm.vector.divergence(uf)\n",
    "nabla.cross(uf).doit() == sm.vector.curl(uf)\n",
    "nabla.cross(uf).doit()\n"
   ]
  },
  {
   "cell_type": "code",
   "execution_count": 10,
   "id": "19d326da-f8a9-4359-ae9f-7cc3d442a19d",
   "metadata": {},
   "outputs": [
    {
     "name": "stdout",
     "output_type": "stream",
     "text": [
      "(sin(S.theta)*cos(S.phi))*S.i + (sin(S.phi)*sin(S.theta))*S.j + (cos(S.theta))*S.k\n",
      "dr \n",
      "1 \n",
      "(sin(S.theta)*cos(S.phi))*S.i + (sin(S.phi)*sin(S.theta))*S.j + (cos(S.theta))*S.k\n"
     ]
    },
    {
     "data": {
      "text/plain": [
       "True"
      ]
     },
     "execution_count": 10,
     "metadata": {},
     "output_type": "execute_result"
    }
   ],
   "source": [
    "#### spherical CoordSys3D #####\n",
    "#### 구 좌표계 ####\n",
    "B = sm.vector.CoordSys3D('B')\n",
    "S = B.create_new('S', transformation='spherical')\n",
    "u = S.r*sm.sin(S.theta)*sm.cos(S.phi)*S.i + S.r*sm.sin(S.theta)*sm.sin(S.phi)*S.j + S.r*sm.cos(S.theta)\n",
    "u.to_matrix(S)\n",
    "sm.vector.matrix_to_vector(sm.Matrix(S.transformation_to_parent()),S)\n",
    "\n",
    "### \\ver{r} (r,theta,phi) -> (x,y,z)\n",
    "ra = [S.r*sm.sin(S.theta)*sm.cos(S.phi), S.r*sm.sin(S.theta)*sm.sin(S.phi),S.r*sm.cos(S.theta)]\n",
    "rm = sm.Matrix(ra)\n",
    "rv = sm.vector.matrix_to_vector(rm,S)\n",
    "\n",
    "#### (x,y,z) ->  (r, theta, phi)\n",
    "r_a = [sm.sqrt(B.x**2 + B.y**2 + B.z**2),\n",
    "       sm.atan(sm.sqrt(B.x**2 + B.y**2)/B.z),\n",
    "       sm.atan(B.y/B.x)]\n",
    "r_m = sm.Matrix(r_a)\n",
    "r_x = sm.vector.matrix_to_vector(r_m,S)\n",
    "#print(f'{r_x}\\n{sm.vector.matrix_to_vector(sm.Matrix(S.transformation_from_parent()),S)}')   \n",
    "\n",
    "### height : length r theta phi \n",
    "## \n",
    "#hr = rv.diff(S.r).magnitude().doit().simplify()\n",
    "hr = rv.diff(S.r)\n",
    "print(f'{hr}')\n",
    "hr = sm.sqrt(hr.dot(hr)).simplify()\n",
    "print(f'dr \\n{hr} \\n{rv.diff(S.r)}')\n",
    "ht = rv.diff(S.theta)\n",
    "ht = sm.sqrt(ht.dot(ht)).simplify()\n",
    "\n",
    "hp = rv.diff(S.phi)\n",
    "hp = sm.sqrt(hp.dot(hp)).simplify()\n",
    "\n",
    "rh = rv.diff(S.r) / hr\n",
    "th = rv.diff(S.theta) / ht\n",
    "ph = rv.diff(S.phi) / hp\n",
    "\n",
    "rh.dot(th).doit().simplify()\n",
    "rh.dot(ph).doit().simplify()\n",
    "th.dot(ph).doit().simplify()\n",
    "\n",
    "rh.cross(th).simplify()\n",
    "th.cross(ph).simplify()\n",
    "\n",
    "### dS ###\n",
    "## dS = d{\\theta } * d{\\phi}\n",
    "## dr/{\\partial \\theta}.magnitude() => r * d{\\theta}\n",
    "#print(f'D_theta= {ht.simplify()}')\n",
    "## dr/{\\partial \\phi}.magnitude() /phi 축 방향 크기 => r * sin(\\theta) d{\\phi}\n",
    "#print(f'D_phi = {hp.simplify()}')\n",
    "# r^2 x sin({\\theta})\n",
    "# dS = ht x hp x dt x dp = r^2 x sin(theta) x d{\\theta} x d{\\phi}\n",
    "sm.Integral(S.r**2 * sm.sin(S.theta),(S.theta,0,sm.pi),(S.phi,0,2*sm.pi))\n",
    "sm.integrate(S.r**2 * sm.sin(S.theta),(S.theta,0,sm.pi),(S.phi,0,2*sm.pi))\n",
    "\n",
    "### dV ###\n",
    "## dV = dr x d{\\theta} x d{\\phi}\n",
    "## dr = 1\n",
    "#print(f'D_r = {hr.simplify()}')\n",
    "rv.diff(S.r)\n",
    "sm.Integral(hr*ht*hp,(S.r,0,2*sm.pi),(S.theta,0,sm.pi),(S.phi,0,2*sm.pi))\n",
    "sm.integrate(hr*ht*hp,(S.r,0,S.r),(S.theta,0,sm.pi),(S.phi,0,2*sm.pi))\n",
    "\n",
    "### gradient = \\nabla(f) ###\n",
    "nabla = sm.vector.Del()\n",
    "sm.integrate(S.r**2 * sm.sin(S.theta),(S.theta,0,sm.pi),(S.phi,0,2*sm.pi)) ==  sm.integrate(ht*hp,(S.theta,0,sm.pi),(S.phi,0,2*sm.pi))"
   ]
  },
  {
   "cell_type": "raw",
   "id": "a2efee82-ca83-44c7-8c8f-c31378635587",
   "metadata": {
    "jp-MarkdownHeadingCollapsed": true,
    "tags": []
   },
   "source": [
    "# Creating New System v.to_matrix(B)\n",
    "> ## sympy.vector.CoordSys3D('name')\n",
    "\n",
    "# Transformaing New System\n",
    "> ## obj.create_new (name, transforamtion='')\n",
    ">> ## 원점은 변하지 않는다, axis 만 각과 섞어서 쓴다.\n",
    ">>> name: str,  \n",
    ">>> transformation: lambda,tuple.str('cylindrical','spherical'),  \n",
    ">>> vector_names = ' ',  \n",
    ">>> variable_names = ' '"
   ]
  },
  {
   "cell_type": "code",
   "execution_count": 11,
   "id": "6ea571fd-4303-4c63-a02c-ab8d754fbc8e",
   "metadata": {},
   "outputs": [
    {
     "ename": "NameError",
     "evalue": "name 'p' is not defined",
     "output_type": "error",
     "traceback": [
      "\u001b[0;31m---------------------------------------------------------------------------\u001b[0m",
      "\u001b[0;31mNameError\u001b[0m                                 Traceback (most recent call last)",
      "\u001b[0;32m/tmp/ipykernel_1418/3188072250.py\u001b[0m in \u001b[0;36m<module>\u001b[0;34m\u001b[0m\n\u001b[1;32m     10\u001b[0m \u001b[0;31m# wrt = with respect to\u001b[0m\u001b[0;34m\u001b[0m\u001b[0;34m\u001b[0m\u001b[0m\n\u001b[1;32m     11\u001b[0m \u001b[0;31m#C.position_wrt(B)\u001b[0m\u001b[0;34m\u001b[0m\u001b[0;34m\u001b[0m\u001b[0m\n\u001b[0;32m---> 12\u001b[0;31m \u001b[0msm\u001b[0m\u001b[0;34m.\u001b[0m\u001b[0mvector\u001b[0m\u001b[0;34m.\u001b[0m\u001b[0mexpress\u001b[0m\u001b[0;34m(\u001b[0m\u001b[0mp\u001b[0m\u001b[0;34m,\u001b[0m\u001b[0mC\u001b[0m\u001b[0;34m)\u001b[0m\u001b[0;34m\u001b[0m\u001b[0;34m\u001b[0m\u001b[0m\n\u001b[0m",
      "\u001b[0;31mNameError\u001b[0m: name 'p' is not defined"
     ]
    }
   ],
   "source": [
    "C = B.create_new('C','cylindrical')\n",
    "C = B.create_new(name='C',transformation='cylindrical')\n",
    "D = B.create_new('D',transformation=lambda x,y,z:(sm.cos(x),sm.sin(y),z))\n",
    "\n",
    "C.base_vectors()\n",
    "C.base_scalars()\n",
    "\n",
    "sm.Matrix(C.transformation_from_parent())\n",
    "sm.Matrix(C.transformation_to_parent()) \n",
    "# wrt = with respect to\n",
    "#C.position_wrt(B)\n",
    "sm.vector.express(p,C)"
   ]
  },
  {
   "cell_type": "code",
   "execution_count": 12,
   "id": "e6f45d08-8dc6-4de9-be74-9312722b72bb",
   "metadata": {},
   "outputs": [
    {
     "data": {
      "text/plain": [
       "\u001b[0;31mSignature:\u001b[0m \u001b[0msm\u001b[0m\u001b[0;34m.\u001b[0m\u001b[0mccode\u001b[0m\u001b[0;34m(\u001b[0m\u001b[0mexpr\u001b[0m\u001b[0;34m,\u001b[0m \u001b[0massign_to\u001b[0m\u001b[0;34m=\u001b[0m\u001b[0;32mNone\u001b[0m\u001b[0;34m,\u001b[0m \u001b[0mstandard\u001b[0m\u001b[0;34m=\u001b[0m\u001b[0;34m'c99'\u001b[0m\u001b[0;34m,\u001b[0m \u001b[0;34m**\u001b[0m\u001b[0msettings\u001b[0m\u001b[0;34m)\u001b[0m\u001b[0;34m\u001b[0m\u001b[0;34m\u001b[0m\u001b[0m\n",
       "\u001b[0;31mDocstring:\u001b[0m\n",
       "Converts an expr to a string of c code\n",
       "\n",
       "Parameters\n",
       "==========\n",
       "\n",
       "expr : Expr\n",
       "    A sympy expression to be converted.\n",
       "assign_to : optional\n",
       "    When given, the argument is used as the name of the variable to which\n",
       "    the expression is assigned. Can be a string, ``Symbol``,\n",
       "    ``MatrixSymbol``, or ``Indexed`` type. This is helpful in case of\n",
       "    line-wrapping, or for expressions that generate multi-line statements.\n",
       "standard : str, optional\n",
       "    String specifying the standard. If your compiler supports a more modern\n",
       "    standard you may set this to 'c99' to allow the printer to use more math\n",
       "    functions. [default='c89'].\n",
       "precision : integer, optional\n",
       "    The precision for numbers such as pi [default=17].\n",
       "user_functions : dict, optional\n",
       "    A dictionary where the keys are string representations of either\n",
       "    ``FunctionClass`` or ``UndefinedFunction`` instances and the values\n",
       "    are their desired C string representations. Alternatively, the\n",
       "    dictionary value can be a list of tuples i.e. [(argument_test,\n",
       "    cfunction_string)] or [(argument_test, cfunction_formater)]. See below\n",
       "    for examples.\n",
       "dereference : iterable, optional\n",
       "    An iterable of symbols that should be dereferenced in the printed code\n",
       "    expression. These would be values passed by address to the function.\n",
       "    For example, if ``dereference=[a]``, the resulting code would print\n",
       "    ``(*a)`` instead of ``a``.\n",
       "human : bool, optional\n",
       "    If True, the result is a single string that may contain some constant\n",
       "    declarations for the number symbols. If False, the same information is\n",
       "    returned in a tuple of (symbols_to_declare, not_supported_functions,\n",
       "    code_text). [default=True].\n",
       "contract: bool, optional\n",
       "    If True, ``Indexed`` instances are assumed to obey tensor contraction\n",
       "    rules and the corresponding nested loops over indices are generated.\n",
       "    Setting contract=False will not generate loops, instead the user is\n",
       "    responsible to provide values for the indices in the code.\n",
       "    [default=True].\n",
       "\n",
       "Examples\n",
       "========\n",
       "\n",
       ">>> from sympy import ccode, symbols, Rational, sin, ceiling, Abs, Function\n",
       ">>> x, tau = symbols(\"x, tau\")\n",
       ">>> expr = (2*tau)**Rational(7, 2)\n",
       ">>> ccode(expr)\n",
       "'8*M_SQRT2*pow(tau, 7.0/2.0)'\n",
       ">>> ccode(expr, math_macros={})\n",
       "'8*sqrt(2)*pow(tau, 7.0/2.0)'\n",
       ">>> ccode(sin(x), assign_to=\"s\")\n",
       "'s = sin(x);'\n",
       ">>> from sympy.codegen.ast import real, float80\n",
       ">>> ccode(expr, type_aliases={real: float80})\n",
       "'8*M_SQRT2l*powl(tau, 7.0L/2.0L)'\n",
       "\n",
       "Simple custom printing can be defined for certain types by passing a\n",
       "dictionary of {\"type\" : \"function\"} to the ``user_functions`` kwarg.\n",
       "Alternatively, the dictionary value can be a list of tuples i.e.\n",
       "[(argument_test, cfunction_string)].\n",
       "\n",
       ">>> custom_functions = {\n",
       "...   \"ceiling\": \"CEIL\",\n",
       "...   \"Abs\": [(lambda x: not x.is_integer, \"fabs\"),\n",
       "...           (lambda x: x.is_integer, \"ABS\")],\n",
       "...   \"func\": \"f\"\n",
       "... }\n",
       ">>> func = Function('func')\n",
       ">>> ccode(func(Abs(x) + ceiling(x)), standard='C89', user_functions=custom_functions)\n",
       "'f(fabs(x) + CEIL(x))'\n",
       "\n",
       "or if the C-function takes a subset of the original arguments:\n",
       "\n",
       ">>> ccode(2**x + 3**x, standard='C99', user_functions={'Pow': [\n",
       "...   (lambda b, e: b == 2, lambda b, e: 'exp2(%s)' % e),\n",
       "...   (lambda b, e: b != 2, 'pow')]})\n",
       "'exp2(x) + pow(3, x)'\n",
       "\n",
       "``Piecewise`` expressions are converted into conditionals. If an\n",
       "``assign_to`` variable is provided an if statement is created, otherwise\n",
       "the ternary operator is used. Note that if the ``Piecewise`` lacks a\n",
       "default term, represented by ``(expr, True)`` then an error will be thrown.\n",
       "This is to prevent generating an expression that may not evaluate to\n",
       "anything.\n",
       "\n",
       ">>> from sympy import Piecewise\n",
       ">>> expr = Piecewise((x + 1, x > 0), (x, True))\n",
       ">>> print(ccode(expr, tau, standard='C89'))\n",
       "if (x > 0) {\n",
       "tau = x + 1;\n",
       "}\n",
       "else {\n",
       "tau = x;\n",
       "}\n",
       "\n",
       "Support for loops is provided through ``Indexed`` types. With\n",
       "``contract=True`` these expressions will be turned into loops, whereas\n",
       "``contract=False`` will just print the assignment expression that should be\n",
       "looped over:\n",
       "\n",
       ">>> from sympy import Eq, IndexedBase, Idx\n",
       ">>> len_y = 5\n",
       ">>> y = IndexedBase('y', shape=(len_y,))\n",
       ">>> t = IndexedBase('t', shape=(len_y,))\n",
       ">>> Dy = IndexedBase('Dy', shape=(len_y-1,))\n",
       ">>> i = Idx('i', len_y-1)\n",
       ">>> e=Eq(Dy[i], (y[i+1]-y[i])/(t[i+1]-t[i]))\n",
       ">>> ccode(e.rhs, assign_to=e.lhs, contract=False, standard='C89')\n",
       "'Dy[i] = (y[i + 1] - y[i])/(t[i + 1] - t[i]);'\n",
       "\n",
       "Matrices are also supported, but a ``MatrixSymbol`` of the same dimensions\n",
       "must be provided to ``assign_to``. Note that any expression that can be\n",
       "generated normally can also exist inside a Matrix:\n",
       "\n",
       ">>> from sympy import Matrix, MatrixSymbol\n",
       ">>> mat = Matrix([x**2, Piecewise((x + 1, x > 0), (x, True)), sin(x)])\n",
       ">>> A = MatrixSymbol('A', 3, 1)\n",
       ">>> print(ccode(mat, A, standard='C89'))\n",
       "A[0] = pow(x, 2);\n",
       "if (x > 0) {\n",
       "   A[1] = x + 1;\n",
       "}\n",
       "else {\n",
       "   A[1] = x;\n",
       "}\n",
       "A[2] = sin(x);\n",
       "\u001b[0;31mFile:\u001b[0m      ~/.local/lib/python3.9/site-packages/sympy/printing/codeprinter.py\n",
       "\u001b[0;31mType:\u001b[0m      function\n"
      ]
     },
     "metadata": {},
     "output_type": "display_data"
    }
   ],
   "source": [
    "x = sm.symbols('x')\n",
    "expr = abs(sm.sin(x**2))\n",
    "sm.ccode(expr)\n",
    "sm.julia_code(expr)\n",
    "sm.octave_code(expr)\n",
    "#import sympy.printing.cxxcode\n",
    "sm.cxxcode(expr)\n",
    "sm.ccode?"
   ]
  },
  {
   "cell_type": "code",
   "execution_count": 13,
   "id": "ecfd393d-e4c3-4324-97b3-7c4713220303",
   "metadata": {},
   "outputs": [
    {
     "ename": "AttributeError",
     "evalue": "'CoordSys3D' object has no attribute 'to_matrix'",
     "output_type": "error",
     "traceback": [
      "\u001b[0;31m---------------------------------------------------------------------------\u001b[0m",
      "\u001b[0;31mAttributeError\u001b[0m                            Traceback (most recent call last)",
      "\u001b[0;32m/tmp/ipykernel_1418/1520130431.py\u001b[0m in \u001b[0;36m<module>\u001b[0;34m\u001b[0m\n\u001b[1;32m      1\u001b[0m \u001b[0mS\u001b[0m \u001b[0;34m=\u001b[0m \u001b[0mB\u001b[0m\u001b[0;34m.\u001b[0m\u001b[0mcreate_new\u001b[0m\u001b[0;34m(\u001b[0m\u001b[0;34m'S'\u001b[0m\u001b[0;34m,\u001b[0m\u001b[0;34m'spherical'\u001b[0m\u001b[0;34m)\u001b[0m\u001b[0;34m\u001b[0m\u001b[0;34m\u001b[0m\u001b[0m\n\u001b[0;32m----> 2\u001b[0;31m \u001b[0mS\u001b[0m\u001b[0;34m.\u001b[0m\u001b[0mto_matrix\u001b[0m\u001b[0;34m(\u001b[0m\u001b[0;34m)\u001b[0m\u001b[0;34m\u001b[0m\u001b[0;34m\u001b[0m\u001b[0m\n\u001b[0m",
      "\u001b[0;31mAttributeError\u001b[0m: 'CoordSys3D' object has no attribute 'to_matrix'"
     ]
    }
   ],
   "source": [
    "S = B.create_new('S','spherical')\n",
    "S.to_matrix()"
   ]
  },
  {
   "cell_type": "markdown",
   "id": "a20674d8-cb63-4bdf-a2a8-3aa054fa50a1",
   "metadata": {},
   "source": [
    "# Locating New System\n",
    "> # obj.locate_new(...)\n",
    ">> name,  \n",
    ">> postition,  \n",
    ">> vector_names,  \n",
    ">> variable_names\n"
   ]
  },
  {
   "cell_type": "code",
   "execution_count": 31,
   "id": "9a98326d-1b0c-466c-8289-d9ec9bcd8067",
   "metadata": {},
   "outputs": [
    {
     "data": {
      "text/latex": [
       "$\\displaystyle (2)\\mathbf{\\hat{i}_{B}} + \\mathbf{\\hat{j}_{B}} + \\mathbf{\\hat{k}_{B}}$"
      ],
      "text/plain": [
       "2*B.i + B.j + B.k"
      ]
     },
     "execution_count": 31,
     "metadata": {},
     "output_type": "execute_result"
    }
   ],
   "source": [
    "L = B.locate_new('L', 5*B.i+ 2*B.j + 3*B.k)\n",
    "sm.Matrix(L.transformation_to_parent()).subs({L.x:7,L.y:2,L.z:3})\n",
    "sm.Matrix(L.transformation_to_parent())\n",
    "L.position_wrt(B)\n",
    "# something wrong???\n",
    "sm.vector.express(2*L.i+L.j+L.k,B)"
   ]
  },
  {
   "cell_type": "markdown",
   "id": "2bf64ae9-4d7c-4ab0-ad34-8b49d128b477",
   "metadata": {},
   "source": [
    "# Orienting New System\n",
    "> ## 한축을 중심으로 나머지 origin 회전시킨다..  \n",
    "\n",
    "> # obj.orient_new(..)\n",
    "> ## 축의 각도가 변한다.\n",
    ">> ### obj.orient_new_axis\n",
    ">>> ### B.orient_new_axis(\n",
    "        name, \n",
    "        angle, \n",
    "        axis vector, \n",
    "        locastion=$\\vec{v}$\n",
    ")\n",
    ">> ### obj.orient_new_body\n",
    ">> ### obj.orient_new_space\n",
    ">> ### obj.orient_new_quaternion\n",
    "\n",
    "# QuaternionOrienter\n",
    "## obj.orient_new(name,(,))v\n"
   ]
  },
  {
   "cell_type": "code",
   "execution_count": 32,
   "id": "0a127ce9-8a8c-4076-8a98-c5b24bf76ad2",
   "metadata": {},
   "outputs": [
    {
     "data": {
      "text/latex": [
       "$\\displaystyle \\left[\\begin{matrix}\\mathbf{{x}_{N}} \\cos{\\left(\\theta \\right)} + \\mathbf{{y}_{N}} \\sin{\\left(\\theta \\right)}\\\\- \\mathbf{{x}_{N}} \\sin{\\left(\\theta \\right)} + \\mathbf{{y}_{N}} \\cos{\\left(\\theta \\right)}\\\\\\mathbf{{z}_{N}}\\end{matrix}\\right]$"
      ],
      "text/plain": [
       "Matrix([\n",
       "[ N.x*cos(theta) + N.y*sin(theta)],\n",
       "[-N.x*sin(theta) + N.y*cos(theta)],\n",
       "[                             N.z]])"
      ]
     },
     "execution_count": 32,
     "metadata": {},
     "output_type": "execute_result"
    }
   ],
   "source": [
    "theta = sm.symbols('theta')\n",
    "\n",
    "# \\hat{k}를 축으로 해서 \\theta 만큼 회전시킨다.\n",
    "N = B.orient_new_axis('N', theta, B.k)\n",
    "\n",
    "sm.Matrix(N.transformation_to_parent())\n",
    "#sm.Matrix(N.transformation_to_parent()).subs({theta:sm.pi/4,N.x:1,N.y:2,N.z:2})\n",
    "# sm.vector.express(p,N)"
   ]
  },
  {
   "cell_type": "code",
   "execution_count": 34,
   "id": "56ca8857-b5f7-4cf1-81a7-0b623e3c1d71",
   "metadata": {},
   "outputs": [
    {
     "data": {
      "text/plain": [
       "[3*sqrt(2)/2, sqrt(2)/2, 2]"
      ]
     },
     "execution_count": 34,
     "metadata": {},
     "output_type": "execute_result"
    }
   ],
   "source": [
    "N.rotation_matrix(B)\n",
    "N.rotation_matrix(B).subs({theta:sm.pi/4})\n",
    "N.rotation_matrix(B).subs({theta:sm.pi/4}).dot([1,2,2])\n",
    "#sm.Matrix(N.rotation_matrix(B).subs({theta:sm.pi/4}).dot([1,2,2]))"
   ]
  },
  {
   "cell_type": "markdown",
   "id": "2e0588a3-4cf2-4859-a6a7-9da81d5ee195",
   "metadata": {},
   "source": [
    "# Orienting and Locating New Coordinate System\n",
    "> ## B.orient_new_axis (\n",
    ">> ### 'name',\n",
    ">> ### $(\\angle)$ angle scalar, $(\\vec{axis})$ axis vector,\n",
    ">> ### location = $(\\vec{move})$ vector \n",
    "> ## )"
   ]
  },
  {
   "cell_type": "code",
   "execution_count": 35,
   "id": "dd820e83-9d2b-4cc0-b6cb-9fb241c13bfb",
   "metadata": {},
   "outputs": [
    {
     "data": {
      "text/latex": [
       "$\\displaystyle \\left[\\begin{matrix}1 + \\frac{3 \\sqrt{2}}{2}\\\\\\frac{\\sqrt{2}}{2} + 1\\\\3\\end{matrix}\\right]$"
      ],
      "text/plain": [
       "Matrix([\n",
       "[1 + 3*sqrt(2)/2],\n",
       "[  sqrt(2)/2 + 1],\n",
       "[              3]])"
      ]
     },
     "execution_count": 35,
     "metadata": {},
     "output_type": "execute_result"
    }
   ],
   "source": [
    "a,b,r = sm.symbols('alpha beta gamma')\n",
    "M = B.orient_new_axis('M',theta,B.k,location= a*B.i + b*B.j + r*B.k)\n",
    "sm.Matrix(M.transformation_to_parent()).subs({theta:sm.pi/4,a:1,b:1,r:1,M.x:1,M.y:2,M.z:2})"
   ]
  },
  {
   "cell_type": "markdown",
   "id": "bb1a48af-0c58-4fad-afc1-5876d01f6a98",
   "metadata": {
    "tags": []
   },
   "source": [
    "# quaternion\n",
    "> ## sympy.algebras.quaternion\n",
    ">> ## $q = (w , \\vec{v})$\n",
    ">>> ## $q = (w,(x,y,z))$\n",
    ">>> ## $q = w + xi + yj + zk \\\\ q_1 = w_1 + \\vec{v_1} \\\\ q_2= w_2 + \\vec{v_2}$\n",
    "> ## $q_1\\:q_2 = (w_1w_2 - \\vec{v_1}\\cdot \\vec{v_2}, \\quad w_1\\vec{v_1} + w_2\\vec{v_2} + \\vec{v_1}\\times\\vec{v_2})$\n",
    "> ## $q^2 = (0,\\vec{v})(0,\\vec{v}) = (-\\vec{v}\\cdot \\vec{v}, \\vec{0}) = -|\\vec{v}|^2 $"
   ]
  },
  {
   "cell_type": "code",
   "execution_count": 36,
   "id": "9a489e72-c513-45e1-8619-b298c8c55474",
   "metadata": {},
   "outputs": [
    {
     "data": {
      "text/latex": [
       "$\\displaystyle \\left(3 + 4 i\\right) + \\left(2 + 5 i\\right) i + 0 j + \\left(7 + 8 i\\right) k$"
      ],
      "text/plain": [
       "(3 + 4*I) + (2 + 5*I)*i + 0*j + (7 + 8*I)*k"
      ]
     },
     "execution_count": 36,
     "metadata": {},
     "output_type": "execute_result"
    }
   ],
   "source": [
    "import sympy.algebras\n",
    "x = sm.symbols('x')\n",
    "q = sm.algebras.Quaternion(1,2,3,4)\n",
    "q1 = sm.algebras.Quaternion(x,x**3,x,x**2,real_field=False)\n",
    "q2 = sm.algebras.Quaternion(3+4*sm.I,2+5*sm.I,0,7+8*sm.I,real_field=False)\n",
    "q2"
   ]
  },
  {
   "cell_type": "markdown",
   "id": "fc46e760-e725-4818-ac4f-251e509db9b8",
   "metadata": {},
   "source": [
    "# \n",
    "> ### $ \\vec{v} = ai + bj + ck \\\\\n",
    "q = w + \\vec{v} \\\\\n",
    "\\quad = (w, \\vec{v}) \\\\\n",
    "\\quad = (w, ai + bj + ck) $\n",
    ">> ### $ e^{ai + bj + ck} = cos(|\\vec{v}|) + \n",
    "\\frac{sin(|\\vec{v}|}{|\\vec{v}|} \n",
    "(ai + bj + ck)$  \n",
    ">> ### $ e^{w + ai + bj + ck} \\\\\n",
    "\\quad = e^{w} e^{ai+bj+ck} \\\\\n",
    "\\quad = cos(|\\vec{v}|) +  \\frac{sin(|\\vec{v}|}{|\\vec{v}|} \n",
    "(ai + bj + ck) \\\\\n",
    "\\quad = cos(|\\vec{v}|) + sin(|\\vec{v}|)\\,\n",
    "\\frac {ai + bj + ck}{|\\vec{v}|} \\\\\n",
    "\\quad = cos(|\\vec{v}|) + sin(|\\vec{v}|)\\,\n",
    "\\frac {\\vec{v}}{|\\vec{v}|} \\\\\n",
    "\\quad = cos(|\\vec{v}|) + sin(|\\vec{v}|)\\,\\hat{v}\\\\\n",
    "$\n",
    "> ## $ e^{\\vec{v}} = e^{ai+bj+ck} \n",
    "\\begin{cases}\n",
    "cos(|\\vec{v}|) +  \n",
    "\\frac{sin(|\\vec{v}|}{|\\vec{v}|}\\,(ai + bj + ck) \\\\\n",
    "cos(|\\vec{v}|) + \n",
    "sin(|\\vec{v}|)\\,\n",
    "(\n",
    "\\frac{ai}{|\\vec{v}|} + \n",
    "\\frac{bj}{|\\vec{v}|} + \n",
    "\\frac{ck}{|\\vec{v}|}\n",
    ") \\\\\n",
    "cos(|\\vec{v}|) + sin(|\\vec{v}|)\\,\\hat{v} \\\\\n",
    "\\end{cases}$"
   ]
  },
  {
   "cell_type": "code",
   "execution_count": 40,
   "id": "4ab222f3-5b4c-4fb5-a990-c3f80f174a40",
   "metadata": {},
   "outputs": [
    {
     "data": {
      "text/plain": [
       "\u001b[0;31mType:\u001b[0m        module\n",
       "\u001b[0;31mString form:\u001b[0m <module 'sympy' from '/home/jkarng/.local/lib/python3.9/site-packages/sympy/__init__.py'>\n",
       "\u001b[0;31mFile:\u001b[0m        ~/.local/lib/python3.9/site-packages/sympy/__init__.py\n",
       "\u001b[0;31mDocstring:\u001b[0m  \n",
       "SymPy is a Python library for symbolic mathematics. It aims to become a\n",
       "full-featured computer algebra system (CAS) while keeping the code as simple\n",
       "as possible in order to be comprehensible and easily extensible.  SymPy is\n",
       "written entirely in Python. It depends on mpmath, and other external libraries\n",
       "may be optionally for things like plotting support.\n",
       "\n",
       "See the webpage for more information and documentation:\n",
       "\n",
       "    https://sympy.org\n"
      ]
     },
     "metadata": {},
     "output_type": "display_data"
    }
   ],
   "source": [
    "# e^q\n",
    "import sympy.algebras\n",
    "theta = sm.symbols('theta')\n",
    "q = sm.algebras.Quaternion(sm.cos(theta),\n",
    "                           sm.sin(theta)*sm.sqrt(1/3),\n",
    "                           sm.sin(theta)*sm.sqrt(1/3),\n",
    "                           sm.sin(theta)*sm.sqrt(1/3))\n",
    "q*q\n",
    "sm?\n"
   ]
  },
  {
   "cell_type": "code",
   "execution_count": null,
   "id": "35ac5cd7-b24e-4afc-b9d7-e04ea95c7728",
   "metadata": {},
   "outputs": [],
   "source": [
    "sm.exp(sm.algebras.Quaternion(1,1,1,1)) "
   ]
  },
  {
   "cell_type": "code",
   "execution_count": null,
   "id": "24a25bd8-5727-43c6-8ead-80c3a6792f07",
   "metadata": {},
   "outputs": [],
   "source": [
    "sm.algebras.Quaternion(1,1,1,1).exp()"
   ]
  },
  {
   "cell_type": "markdown",
   "id": "ed44cf6e-ece9-46da-be2c-cd48f0fee73c",
   "metadata": {},
   "source": [
    "# Quaternion Multiply\n",
    "> #[quaternion](https://www.youtube.com/watch?v=88BA8aO3qXA)\n",
    "> $ (a + bi + cj + dk)\\:(e + fi + gj + hk ) \\\\\n",
    "\\begin{bmatrix}\n",
    "a & -b & -c & -d \\\\\n",
    "b &  a & -d & c \\\\\n",
    "c &  d &  a & -b \\\\\n",
    "d & -c &  b & a\n",
    "\\end{bmatrix} \\quad\n",
    "\\begin{bmatrix}\n",
    "e \\\\ f \\\\ g \\\\ h \n",
    "\\end{bmatrix}\n",
    "$\n",
    "> # unit quaternion matrix\n",
    ">> $ 1 = (1,0,0,0) \\\\\n",
    "\\begin{bmatrix}\n",
    "1 & 0 & 0 & 0 \\\\\n",
    "0 & 1 & 0 & 0 \\\\\n",
    "0 & 0 & 1 & 0 \\\\\n",
    "0 & 0 & 0 & 1 \n",
    "\\end{bmatrix} \n",
    "$  \n",
    ">> $ i = (0,1,0,0) \\\\\n",
    "\\begin{bmatrix}\n",
    "0 & -1 & 0 & 0  \\\\\n",
    "1 & 0 & 0 & 0 \\\\\n",
    "0 & 0 & 0 & -1 \\\\\n",
    "0 & 0 & 1 & 0 \\\\\n",
    "\\end{bmatrix}\n",
    "$  \n",
    ">> $ j = (0,0,1,0) \\\\\n",
    "\\begin{bmatrix}\n",
    "0 & 0 & -1 & 0 \\\\\n",
    "0 & 0 & 0 & -1 \\\\\n",
    "1 & 0 & 0 & 0 \\\\\n",
    "0 & -1 & 0 & 0 \\\\\n",
    "\\end{bmatrix}\n",
    "$  \n",
    ">> $k = (0,0,0,1) \\\\\n",
    "\\begin{bmatrix}\n",
    "0 & 0 & 0 & -1 \\\\\n",
    "0 & 0 & -1 & 0 \\\\\n",
    "0 & 1 & 0 & 0 \\\\\n",
    "1 & 0 & 0 & 0 \\\\\n",
    "\\end{bmatrix}\n",
    "$"
   ]
  },
  {
   "cell_type": "code",
   "execution_count": null,
   "id": "953577da-f161-4330-8e05-bad810e485d0",
   "metadata": {},
   "outputs": [],
   "source": [
    "q0, q1, q2, q3 = sm.symbols('q_0 q_1 q_2 q_3')\n",
    "Q = B.orient_new_quaternion('Q',q0,q1,q2,q3)\n",
    "sm.Matrix(Q.transformation_to_parent())"
   ]
  },
  {
   "cell_type": "code",
   "execution_count": null,
   "id": "37d3c114-72d4-4898-95fc-119d0f9f3c63",
   "metadata": {},
   "outputs": [],
   "source": [
    "m = sm.Matrix([1,2,3])\n",
    "q = sm.algebras.Quaternion(1,2,3,4)\n",
    "\n",
    "q.norm()\n",
    "q.normalize()\n",
    "q.inverse()\n",
    "q.pow(2) == q.mul(q) == q*q\n",
    "sm.vector.divergence(q)\n",
    "sm.vector.curl(q)\n",
    "sm.vector.gradient(q)"
   ]
  },
  {
   "cell_type": "code",
   "execution_count": null,
   "id": "7a22469a-b7d5-4d0c-a9b7-729217ccc294",
   "metadata": {},
   "outputs": [],
   "source": [
    "x = sm.symbols('x')\n",
    "q1 = sm.algebras.Quaternion(x**2,x**3,x)\n",
    "q2 = sm.algebras.Quaternion(2,(3+2*sm.I), x**2, 3.5*sm.I)"
   ]
  },
  {
   "cell_type": "code",
   "execution_count": null,
   "id": "927b6ba0-9399-48de-a0b4-a4f61f92124b",
   "metadata": {},
   "outputs": [],
   "source": [
    "q1 * q2"
   ]
  },
  {
   "cell_type": "code",
   "execution_count": null,
   "id": "c9c2d27d-9134-41bd-baaa-63128aa48257",
   "metadata": {},
   "outputs": [],
   "source": [
    "q1.inverse()\n",
    "q1.conjugate()/q1.norm()"
   ]
  },
  {
   "cell_type": "code",
   "execution_count": null,
   "id": "6909a3ac-3342-472d-b93c-621660d066ca",
   "metadata": {},
   "outputs": [],
   "source": [
    "q1.inverse()"
   ]
  },
  {
   "cell_type": "code",
   "execution_count": null,
   "id": "4b9fc6ee-28f1-432c-aadf-2490d20c9c73",
   "metadata": {},
   "outputs": [],
   "source": []
  }
 ],
 "metadata": {
  "kernelspec": {
   "display_name": "Python 3 (ipykernel)",
   "language": "python",
   "name": "python3"
  },
  "language_info": {
   "codemirror_mode": {
    "name": "ipython",
    "version": 3
   },
   "file_extension": ".py",
   "mimetype": "text/x-python",
   "name": "python",
   "nbconvert_exporter": "python",
   "pygments_lexer": "ipython3",
   "version": "3.10.3"
  }
 },
 "nbformat": 4,
 "nbformat_minor": 5
}
