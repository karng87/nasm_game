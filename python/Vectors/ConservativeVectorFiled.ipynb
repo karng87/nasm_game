{
 "cells": [
  {
   "cell_type": "markdown",
   "id": "6657a622-25ce-4e43-be9a-2c9801818df0",
   "metadata": {},
   "source": [
    "# conservative vector field\n",
    "> # $ \\vec{F} = \n",
    "\\nabla \\phi \\iff \\vec{F} \\text{ is conservative vector} \\\\\n",
    "\\phi \\text{ is Potential Energy}\n",
    "$"
   ]
  },
  {
   "cell_type": "code",
   "execution_count": null,
   "id": "62b9402d-d382-424e-ac7c-08e94b1f0165",
   "metadata": {},
   "outputs": [],
   "source": []
  }
 ],
 "metadata": {
  "kernelspec": {
   "display_name": "Python 3 (ipykernel)",
   "language": "python",
   "name": "python3"
  },
  "language_info": {
   "codemirror_mode": {
    "name": "ipython",
    "version": 3
   },
   "file_extension": ".py",
   "mimetype": "text/x-python",
   "name": "python",
   "nbconvert_exporter": "python",
   "pygments_lexer": "ipython3",
   "version": "3.10.3"
  }
 },
 "nbformat": 4,
 "nbformat_minor": 5
}
