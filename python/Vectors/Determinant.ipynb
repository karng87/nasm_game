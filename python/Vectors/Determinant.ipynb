{
 "cells": [
  {
   "cell_type": "code",
   "execution_count": 6,
   "id": "b90f49b4-c0a6-4ae7-b08c-804497be40c2",
   "metadata": {
    "jupyter": {
     "source_hidden": true
    },
    "tags": []
   },
   "outputs": [
    {
     "data": {
      "text/html": [
       "\n",
       "        <iframe\n",
       "            width=\"600\"\n",
       "            height=\"400\"\n",
       "            src=\"https://www.youtube.com/embed/https://www.youtube.com/watch?v=ypUqQWYZTJs&list=PLIxff5DJJR7oBEy0Kdg12WWSlS6XFtr6r&index=28\"\n",
       "            frameborder=\"0\"\n",
       "            allowfullscreen\n",
       "            \n",
       "        ></iframe>\n",
       "        "
      ],
      "text/plain": [
       "<IPython.lib.display.YouTubeVideo at 0x7fc9ec6440a0>"
      ]
     },
     "execution_count": 6,
     "metadata": {},
     "output_type": "execute_result"
    }
   ],
   "source": [
    "import IPython as Ipy\n",
    "Ipy.display.YouTubeVideo('https://www.youtube.com/watch?v=ypUqQWYZTJs&list=PLIxff5DJJR7oBEy0Kdg12WWSlS6XFtr6r&index=28',width= 600,height=400)"
   ]
  },
  {
   "cell_type": "markdown",
   "id": "766bc69b-dd9d-4ed9-9719-f8bfc5ac12ed",
   "metadata": {},
   "source": [
    "# [Linearity](https://www.youtube.com/watch?v=ypUqQWYZTJs&list=PLIxff5DJJR7oBEy0Kdg12WWSlS6XFtr6r&index=28)\n",
    "> ### $ f(x) = \\color{magenta}{a}x $\n",
    ">> ### $\n",
    "f(\\vartriangle + \\;\\square) = a\\vartriangle + a\\; \\square\\\\\n",
    "f(\\vartriangle + \\; \\square) = f(\\vartriangle) + f(\\square) \\\\\n",
    "f(\\vartriangle + \\; 0) = f(\\vartriangle) + f(0), \\;s.t\\; \\square = 0 \\\\\n",
    "f(0) = 0 \\\\\n",
    "f(s\\vartriangle) = sf(\\vartriangle)\n",
    "$\n",
    "# Non linearity\n",
    "> ### $ g(x) = ax + \\color{magenta}{b}$\n",
    ">> ### $\n",
    "g(\\vartriangle + \\square) = a \\vartriangle + a\\square  + b \\\\\n",
    "\\therefore  g(\\vartriangle + \\square) \\neq g(\\vartriangle) + g(\\square)\n",
    "$"
   ]
  },
  {
   "cell_type": "markdown",
   "id": "3b5cbe7f-157b-43af-bc3a-58a3f647a323",
   "metadata": {},
   "source": [
    "# Linearity of determinant\n",
    "> ### row lineartity $\n",
    "\\begin{vmatrix}\n",
    "\\vartriangle_1 + \\; \\square_1 &  \\vartriangle_2 + \\; \\square_2 \\\\ \n",
    "c & d\n",
    "\\end{vmatrix}\n",
    "=\n",
    "\\begin{vmatrix}\n",
    "\\vartriangle_1 &  \\vartriangle_2 \\\\ \n",
    "c & d\n",
    "\\end{vmatrix}\n",
    "+ \\begin{vmatrix}\n",
    "\\square_1 & \\square_2 \\\\ \n",
    "c & d\n",
    "\\end{vmatrix}\n",
    "$"
   ]
  },
  {
   "cell_type": "markdown",
   "id": "060e17fe-56bf-40e7-9a61-7c21f5457b27",
   "metadata": {},
   "source": [
    "> ### column lineartity $\n",
    "\\begin{vmatrix}\n",
    "\\color{magenta}{\\vartriangle_1 + \\; \\square_1} & b \\\\\n",
    "\\color{magenta}{\\vartriangle_2 + \\; \\square_2} & d \\\\\n",
    "\\end{vmatrix}\n",
    "=\n",
    "\\begin{vmatrix}\n",
    "\\color{magenta}{\\vartriangle_1} & b \\\\\n",
    "\\color{magenta}{\\vartriangle_2} & d \\\\\n",
    "\\end{vmatrix}\n",
    "+ \\begin{vmatrix}\n",
    "\\color{magenta}{\\square_1} & b \\\\\n",
    "\\color{magenta}{\\square_2} & d \\\\ \n",
    "\\end{vmatrix}\n",
    "$"
   ]
  },
  {
   "cell_type": "markdown",
   "id": "f2ab22fc-4077-44aa-9093-384c79d92e1b",
   "metadata": {},
   "source": [
    "> ### non-lineartity of entry $\n",
    "\\begin{vmatrix}\n",
    "\\vartriangle_1 + \\; \\square_1 & b \\\\\n",
    "\\vartriangle_2 & d \\\\\n",
    "\\end{vmatrix}\n",
    "\\neq\n",
    "\\begin{vmatrix}\n",
    "\\vartriangle_1 & b \\\\\n",
    "\\vartriangle_2 & d \\\\\n",
    "\\end{vmatrix}\n",
    "+ \\begin{vmatrix}\n",
    "\\square_1 & b \\\\\n",
    "\\vartriangle_2 & d \\\\ \n",
    "\\end{vmatrix}\n",
    "\\\\\n",
    "\\because \\text{ not curve}\n",
    "$"
   ]
  },
  {
   "cell_type": "markdown",
   "id": "0a778032-63fa-413d-bc40-fe7e0f40f84a",
   "metadata": {},
   "source": [
    "> ### lineartity $\n",
    "\\begin{vmatrix}\n",
    "\\vartriangle_1 + \\; \\square_1 & b \\\\\n",
    "\\vartriangle_2 + \\; \\color{magenta}{0} & d \\\\\n",
    "\\end{vmatrix}\n",
    "= \\begin{vmatrix}\n",
    "\\vartriangle_1 & b \\\\\n",
    "\\vartriangle_2 & d \\\\\n",
    "\\end{vmatrix}\n",
    "+ \\begin{vmatrix}\n",
    "\\square_1 & b \\\\\n",
    "\\color{magenta}{0} & d \\\\ \n",
    "\\end{vmatrix}\n",
    "$"
   ]
  },
  {
   "cell_type": "markdown",
   "id": "fc8e6f80-cb18-4342-8660-04bf170e3561",
   "metadata": {},
   "source": [
    "> ### non-lineartity - diagnonal $\n",
    "\\begin{vmatrix}\n",
    "\\vartriangle_1 + \\; \\square_1 & b \\\\\n",
    "c & \\vartriangle_2 + \\; \\square_2 \\\\\n",
    "\\end{vmatrix}\n",
    "\\neq\n",
    "\\begin{vmatrix}\n",
    "\\vartriangle_1 & b \\\\\n",
    "c & \\vartriangle_2 \\\\\n",
    "\\end{vmatrix}\n",
    "+ \\begin{vmatrix}\n",
    "\\square_1 & b \\\\\n",
    "c & \\square_2 \\\\ \n",
    "\\end{vmatrix}\n",
    "$"
   ]
  },
  {
   "cell_type": "markdown",
   "id": "99a4e1d7-eeaa-4a6d-a8f5-6ceddd8daecd",
   "metadata": {},
   "source": [
    "# multi-linear of determinant\n",
    "> ### $\n",
    "\\big|A\\big| = det(A) = \\sum_{j} a_{ij}C_{ij} \\\\\n",
    "\\big|A\\big| = det(A) = \\sum_{j} a_{ji}C_{ji} \\\\\n",
    "$\n",
    ">> ### Minor Matrix\n",
    ">>> ### $\n",
    "\\begin{bmatrix}\n",
    "a_{11} & a_{12} & a_{13} & \\cdots & a_{1n} \\\\\n",
    "a_{21} & M_{11} & M_{12} & \\cdots & M_{1,n-1} \\\\\n",
    "a_{31} & M_{21} & M_{22} & \\cdots & M_{2,n-1} \\\\\n",
    "\\vdots & \\ddots & \\ddots & \\ddots & \\vdots \\\\\n",
    "a_{n1} & M_{n-1,1} & M_{n-1,2} & \\cdots & M_{n-1,n-1} \\\\\n",
    "\\end{bmatrix}\n",
    "$\n",
    ">> ### Cofactor Matrix\n",
    ">>> ### $\n",
    "C_{ij} = (-1)^{i+j}M_{ij}\n",
    "$"
   ]
  },
  {
   "cell_type": "markdown",
   "id": "2e886904-28bf-4ef6-be9f-fb4ded510f5e",
   "metadata": {},
   "source": [
    "> ### arbitary i row determinant = arbitary j column determinant \n",
    ">> ### $ det(A) = det\\big[a_{i}\\big] = \\sum_{j}a_{ij}C_{ij} $\n",
    ">>> ### $ det(A) = det\\big[ 0 \\big] = \\sum_{j}(0)C_{ij} = 0 $\n",
    ">>> ### $ det(A) = det\\big[ sa_{i} \\big] = \\sum_{j}sa_{ij}C_{ij} = s\\sum_{ij}C_{ij}= s\\; \\det(A) $"
   ]
  },
  {
   "cell_type": "markdown",
   "id": "1bda1c32-920b-41ce-8801-8028207483f1",
   "metadata": {},
   "source": [
    "> ### determinant having a same row or column matrix \n",
    ">> ### $\n",
    "det\\begin{bmatrix} \n",
    "\\check {\\vartriangle}\n",
    "\\\\ \\vartriangle\n",
    "\\end{bmatrix}\n",
    "= \\sum_j \\vartriangle_{i,j}(-1)^{i+j}M_{ij}\n",
    "\\\\\n",
    "det\\begin{bmatrix} \n",
    "\\vartriangle\n",
    "\\\\ \\check{\\vartriangle}\n",
    "\\end{bmatrix}\n",
    "= \\sum_j \\vartriangle_{i+1,j}(-1)^{i+1+j}M_{i+1,j}\n",
    "\\\\\\qquad \\quad = -\\sum_j \\vartriangle_{ij}(-1)^{i+j}M_{ij}\n",
    "$\n",
    ">>> ### 어떤 row 나 column을 선택해도 determimant는 같으므로\n",
    ">>>> ### $\n",
    "det \\left[ \\begin{array}{r} \\vartriangle \\\\ \\vartriangle \\end{array} \\right]\n",
    "= - det \\left[ \\begin{array}{r} \\vartriangle \\\\ \\vartriangle \\end{array} \\right]\n",
    "\\\\\n",
    "\\therefore det \\left[ \n",
    "\\begin{array}{c}\\vartriangle \\\\ \\vartriangle \\end{array}\\right] = 0\n",
    "\\\\\n",
    "\\therefore det \\left[ \n",
    "\\begin{array}{c}\\vartriangle \\\\ \\vdots \\\\ \\vartriangle \\end{array}\\right] = 0\n",
    "$"
   ]
  },
  {
   "cell_type": "markdown",
   "id": "ee1701dc-fe73-40aa-a6da-b9179d7eb584",
   "metadata": {},
   "source": [
    "> ### determinant having a same row or column matrix \n",
    ">> ### $\n",
    "0 = det\\begin{bmatrix} \n",
    "\\vartriangle +\\;\\square \n",
    "\\\\ \\vartriangle +\\; \\square \n",
    "\\end{bmatrix}\n",
    "= \n",
    "det\\begin{bmatrix} \n",
    "\\vartriangle \n",
    "\\\\ \\vartriangle +\\; \\square \n",
    "\\end{bmatrix}\n",
    "+\n",
    "det\\begin{bmatrix} \n",
    "\\square \n",
    "\\\\ \\vartriangle +\\; \\square \n",
    "\\end{bmatrix}\n",
    "$"
   ]
  },
  {
   "cell_type": "markdown",
   "id": "5decd330-68aa-48de-9a55-3fbac379a68c",
   "metadata": {},
   "source": [
    ">> ### $ \n",
    "0 = \n",
    "\\underbrace{\n",
    "det\\begin{bmatrix} \n",
    "\\vartriangle \n",
    "\\\\ \\vartriangle\n",
    "\\end{bmatrix}}_{0}\n",
    "+\n",
    "det\\begin{bmatrix} \n",
    "\\vartriangle\n",
    "\\\\ \\square\n",
    "\\end{bmatrix}\n",
    "+\n",
    "det\\begin{bmatrix} \n",
    "\\square\n",
    "\\\\ \\vartriangle\n",
    "\\end{bmatrix}\n",
    "+\n",
    "\\underbrace{\n",
    "det\\begin{bmatrix} \n",
    "\\square \n",
    "\\\\\\square \n",
    "\\end{bmatrix}}_{0}\n",
    "\\\\\n",
    "\\therefore 0 = \\left[ \\begin{array}{c}\\vartriangle \\\\ \\square \\end{array} \\right]\n",
    "+ \\left[ \\begin{array}{c}\\square \\\\ \\vartriangle \\end{array} \\right]\n",
    "\\\\ \\therefore \\left[ \\begin{array}{c}\\vartriangle \\\\ \\square \\end{array} \\right]\n",
    "= - \\left[ \\begin{array}{c}\\square \\\\ \\vartriangle \\end{array} \\right]\n",
    "$\n",
    "> ### 행교환\n",
    ">> ### $\n",
    "0 = det\\begin{bmatrix} \n",
    "\\vartriangle +\\;\\square \\\\ \\vdots\n",
    "\\\\ \\vartriangle +\\; \\square \n",
    "\\end{bmatrix} \n",
    "\\\\ \n",
    "\\therefore\n",
    "\\left[ \\begin{array}{c}\\vartriangle \\\\ \\vdots \\\\ \\square \\end{array} \\right]\n",
    "= - \\left[ \\begin{array}{c}\\square \\\\ \\vdots \\\\ \\vartriangle \\end{array} \\right]\n",
    "$"
   ]
  },
  {
   "cell_type": "markdown",
   "id": "c8a0857c-6fc8-472c-a312-b8734375624d",
   "metadata": {},
   "source": [
    "# addtion of determinant\n",
    "> ### $\n",
    "det \\left[ \n",
    "\\begin{array}{c} \\vartriangle \\\\ \\vdots \\\\ \\square + s \\vartriangle \\end{array} \\right]\n",
    "= det \\left[ \n",
    "\\begin{array}{c} \\vartriangle \\\\ \\vdots \\\\ \\square \n",
    "\\end{array} \\right]\n",
    "+ det \\left[ \n",
    "\\begin{array}{c} \\vartriangle \\\\ \\vdots \\\\ s\\vartriangle \n",
    "\\end{array} \\right]\n",
    "\\\\= det \\left[ \n",
    "\\begin{array}{c} \\vartriangle \\\\ \\vdots \\\\ \\square \n",
    "\\end{array} \\right]\n",
    "+ s\\; det \\left[ \n",
    "\\begin{array}{c} \\vartriangle \\\\ \\vdots \\\\ \\vartriangle \n",
    "\\end{array} \\right]\n",
    "\\\\=\n",
    "det \\left[ \\begin{array}{c}\\vartriangle \\\\ \\vdots \\\\ \\square \\end{array}\\right]\n",
    "$"
   ]
  },
  {
   "cell_type": "markdown",
   "id": "dbc68c2b-569c-42c4-bdb3-7fc3e8c22e34",
   "metadata": {},
   "source": [
    "# [Determinant](https://www.youtube.com/watch?v=FsCLrXjRCIM&list=PLIxff5DJJR7oBEy0Kdg12WWSlS6XFtr6r&index=29)\n",
    "> $\n",
    "det\\begin{bmatrix}a & b \\\\ c & d\\end{bmatrix} = \n",
    "det \\Big(\\begin{bmatrix}a \\\\ c \\end{bmatrix}, \\begin{bmatrix} b \\\\ d \\end{bmatrix}\\Big)\n",
    "\\\\ =\n",
    "det \\Big(\n",
    "a \\begin{bmatrix} 1 \\\\ 0 \\end{bmatrix} + \n",
    "c \\begin{bmatrix} 0 \\\\ 1 \\end{bmatrix},\n",
    "b \\begin{bmatrix} 1 \\\\ 0 \\end{bmatrix} + \n",
    "d \\begin{bmatrix} 0 \\\\ 1 \\end{bmatrix}\n",
    "\\Big) \n",
    "\\\\ = \n",
    "det \\Big(\n",
    "a \\begin{bmatrix} 1 \\\\ 0 \\end{bmatrix}, \n",
    "b \\begin{bmatrix} 1 \\\\ 0 \\end{bmatrix} +\n",
    "d \\begin{bmatrix} 0 \\\\ 1 \\end{bmatrix}\n",
    "\\Big) +\n",
    "det \\Big(\n",
    "c \\begin{bmatrix} 0 \\\\ 1 \\end{bmatrix}, \n",
    "b \\begin{bmatrix} 1 \\\\ 0 \\end{bmatrix} +\n",
    "d \\begin{bmatrix} 0 \\\\ 1 \\end{bmatrix}\n",
    "\\Big)\n",
    "\\\\\n",
    "=\n",
    "ab \\det\\Big(  \n",
    "\\begin{bmatrix} 1 \\\\ 0 \\end{bmatrix}, \n",
    "\\begin{bmatrix} 1 \\\\ 0 \\end{bmatrix}\n",
    "\\Big) +\n",
    "ad \\det\\Big( \n",
    "\\begin{bmatrix} 1 \\\\ 0 \\end{bmatrix}, \n",
    "\\begin{bmatrix} 0 \\\\ 0 \\end{bmatrix}\n",
    "\\Big) +\n",
    "cb \\det\\Big( \n",
    "\\begin{bmatrix} 0 \\\\ 1 \\end{bmatrix}, \n",
    "\\begin{bmatrix} 1 \\\\ 0 \\end{bmatrix}\n",
    "\\Big) +\n",
    "cd \\det\\Big( \n",
    "\\begin{bmatrix} 0 \\\\ 1 \\end{bmatrix}, \n",
    "\\begin{bmatrix} 0 \\\\ 1 \\end{bmatrix}\n",
    "\\Big)\n",
    "\\\\\n",
    "=\n",
    "ab \\det \\begin{bmatrix} 1 & 1 \\\\ 0 & 0 \\end{bmatrix}\n",
    "+\n",
    "ad \\det \\begin{bmatrix} 1 & 0 \\\\ 0 & 1 \\end{bmatrix}\n",
    "+\n",
    "cb \\det \\begin{bmatrix} 0 & 1 \\\\ 1 & 0 \\end{bmatrix}\n",
    "+\n",
    "cd \\det \\begin{bmatrix} 0 & 0 \\\\ 1 & 1 \\end{bmatrix}\n",
    "\\\\ = ad - bc \\\\\n",
    "E^1 = \\begin{bmatrix} 1 \\\\ 0 \\end{bmatrix}, \\quad\n",
    "E^2 = \\begin{bmatrix} 0 \\\\ 1 \\end{bmatrix} \\\\\n",
    "det \\big[E^1,E^2 \\big] = \\begin{bmatrix} 1 & 0 \\\\ 0 & 1 \\end{bmatrix} = 1, \\quad\n",
    "det \\big[E^2,E^1 \\big] = \\begin{bmatrix} 0 & 1 \\\\ 1 & 0 \\end{bmatrix} = -1 \n",
    "\\\\\n",
    "\\therefore det \\begin{bmatrix}a_{11} & a_{12} \\\\ a_{21} & a_{22} \\end{bmatrix} \n",
    "= det \\Big[ A^1, A^2 \\Big] = \\sum_{ij} a_{i1}a_{j2}\\; det\\Big(E^i,E^j\\Big)\n",
    "= det\n",
    "$"
   ]
  },
  {
   "cell_type": "markdown",
   "id": "ed17a532-b6a2-4e42-993f-49b322dd566d",
   "metadata": {
    "tags": []
   },
   "source": [
    "# determinant 3by 3\n",
    "> ### $\n",
    "\\begin{vmatrix}\n",
    "a_{11} & a_{12} & a_{13} \\\\\n",
    "a_{21} & a_{22} & a_{23} \\\\\n",
    "a_{31} & a_{32} & a_{33} \\\\\n",
    "\\end{vmatrix}\n",
    "= \n",
    "\\Big|\n",
    "A^1 , A^2 , A^3\n",
    "\\Big|\n",
    "= \\sum_{ijk}a_{i1}a_{j2} a_{k3}\\Big| E^{i} E^{j} E^{k} \\Big|\n",
    "\\\\\n",
    "\\therefore \\sum_{ijk} \\epsilon \\Big(i,j,k \\Big)a_{i1}a_{j2}a_{k3}\\; det \\Big(E^1,E^2,E^3 \\Big)\n",
    "$"
   ]
  },
  {
   "cell_type": "markdown",
   "id": "ca69eb90-ebc2-4031-a7e4-e4109ef295ae",
   "metadata": {},
   "source": [
    "> ### $\n",
    "det \\Big( E^{1}, E^{2}, E^{3} \\Big) = \n",
    "\\begin{vmatrix}\n",
    "1 & 0 & 0 \\\\\n",
    "0 & 1 & 0 \\\\\n",
    "0 & 0 & 1 \\\\\n",
    "\\end{vmatrix} = 1\n",
    "\\\\\n",
    "det \\Big( E^{1}, E^{3}, E^{2} \\Big) = \n",
    "\\begin{vmatrix}\n",
    "1 & 0 & 0 \\\\\n",
    "0 & 0 & 1 \\\\\n",
    "0 & 1 & 0 \\\\\n",
    "\\end{vmatrix} = -1\n",
    "$"
   ]
  },
  {
   "cell_type": "markdown",
   "id": "b9316d0c-c877-4422-819e-aaad777cee13",
   "metadata": {},
   "source": [
    "# n by n determinant\n",
    "> ### $\n",
    "\\begin{vmatrix}\n",
    "a_{11} & a_{12} & \\cdots & a_{1n} \\\\\n",
    "a_{21} & a_{22} & \\cdots & a_{2n} \\\\\n",
    "\\vdots & \\vdots & \\ddots & \\vdots \\\\\n",
    "a_{n1} & a_{n2} & \\cdots & a_{nn} \\\\\n",
    "\\end{vmatrix} = det\\Big[ A^1,A^2,\\cdots,A^n \\Big]\n",
    "\\\\= \n",
    "\\sum_{s_1s_2\\cdots s_n}A_{s_{1,1}}, \\cdots a_{s_n,n}\\; det\\Big(E^{s_1},\\cdots,E^{s_n}\\Big)\n",
    "\\\\\n",
    "A^1 = \\sum b_{j1}G^{j} = b_{11}G^1 + b_{21}G^2 + \\cdots + b_{n1}G^n\n",
    "\\\\ \\vdots \\\\\n",
    "A^k = \\sum b_{jk}G^{j} = b_{1k}G^1 + b_{2k}G^2 + \\cdots + b_{nk}G^n\n",
    "\\\\ \\vdots \\\\\n",
    "A^n = \\sum b_{jn}G^{j} = b_{1n}G^1 + b_{2n}G^2 + \\cdots + b_{nn}G^n\n",
    "\\\\\n",
    "det\\Big[A^1, A^2, \\cdots, A^n\\Big] \n",
    "= \\sum_{s_1s_2\\cdots s_n} \\epsilon\\Big(s_1,s_2,\\cdots, s_n \\Big) b_{s_1,1}b_{s_2,2}\\cdots b_{s_n,n}\\; det\\Big(G^1,G^2,\\cdots,G^n\\Big)\n",
    "$"
   ]
  },
  {
   "cell_type": "markdown",
   "id": "77d47fd0-f06a-4764-960d-a0b27ba290ee",
   "metadata": {},
   "source": [
    "# Sumation\n",
    "> ### $\n",
    "AB = \\sum_{ij}a_{ij}G_{ij} \\sum_{lm}b_{lm}G_{lm}\n",
    "\\\\ = \\sum_{ijm}a_{ij}b{jm}G_{im}\n",
    "\\\\ = \\sum_{jm} b_{jm}(\\sum_{}a_{}G_{})\n",
    "$"
   ]
  },
  {
   "cell_type": "markdown",
   "id": "1832ac2d-4579-4cfc-9f5c-d0a755ddc544",
   "metadata": {
    "jp-MarkdownHeadingCollapsed": true,
    "tags": []
   },
   "source": [
    "# inverse\n",
    "> ### $\n",
    "T^{-1} = B, \\quad Tx = h \\\\\n",
    "B_{i} \\cdot T^{j} = \\delta_{i}^{j} \\\\\n",
    "B_{i}\\cdot h = x_{i} \\\\\n",
    "\\begin{bmatrix}\n",
    "a & b \\\\ c & d\n",
    "\\end{bmatrix}\n",
    "\\begin{bmatrix}\n",
    "a^{-1}(x) & b^{-1}(u) \\\\ c^{-1}(y) & d^{-1}(v)\n",
    "\\end{bmatrix}\n",
    "=\n",
    "\\begin{bmatrix}\n",
    "1 & 0 \\\\ 0 & 1\n",
    "\\end{bmatrix}\n",
    "\\iff  ax + by = 1  \\quad cx + dy = 0,\\quad   au + bv = 1 \\quad  cu + dv = 0 \n",
    "$\n",
    ">> ### $\n",
    "(ax + by = 1)d - (cx + dy = 0)b, \\to adx - bcx = d \\to x(a^{-1}) = \\frac{d}{ad-bc} \\\\\n",
    "(ax + by = 1)c - (cx + dy = 0)a, \\to bcy - adx = c \\to y(c^{-1}) = \\frac{c}{-(ad-bc)} = \\frac{-c}{ad-bc} \\\\\n",
    "(au + bv = 0)d - (cu + dv = 1)b, \\to adu - bcu = -b \\to u(b^{-1}) = \\frac{-b}{ad-bc}\\\\\n",
    "(au + bv = 0)c - (cu + dv = 1)a, \\to bcv - dav = -a \\to v(c^{-1}) = \\frac{-a}{-(ad-bc)} = \\frac{a}{ad-bc} \\\\\n",
    "\\therefore \\begin{bmatrix}\n",
    "\\frac{d}{ad-bc} & \\frac{-b}{ad-bc} \\\\ \\frac{-c}{ad-bc} & \\frac{a}{ad-bc} \n",
    "\\end{bmatrix} \\iff\n",
    "\\therefore \\frac{1}{ad-bc}\\begin{bmatrix}\n",
    "d & -b \\\\ -c & a \n",
    "\\end{bmatrix}\n",
    "$"
   ]
  },
  {
   "cell_type": "markdown",
   "id": "b6cbb307-9019-4728-88de-2df9550170f9",
   "metadata": {},
   "source": [
    "# determinant\n",
    "> ### $\n",
    "det(A) = det(A^{T}) \\\\\n",
    "A = \\begin{bmatrix}\n",
    "a_{11} & a_{12} & a_{13} & a_{14} & a_{15} \\\\\n",
    "a_{21} & a_{22} & a_{23} & a_{24} & a_{25} \\\\\n",
    "a_{31} & a_{32} & a_{33} & a_{34} & a_{35} \\\\\n",
    "a_{41} & a_{42} & a_{43} & a_{44} & a_{45} \\\\\n",
    "a_{51} & a_{52} & a_{53} & a_{54} & a_{55} \\\\\n",
    "\\end{bmatrix} \\\\\n",
    "det(A) = \\sum_{k=1}^{n}(-1)^{i+k}a_{ik} M_{ik} =  \\sum_{k=1}^{n}a_{ik}C_{ik}\n",
    "\\\\\n",
    "C_{ij} = (-1)^{i+j}M_{ij}\n",
    "$"
   ]
  },
  {
   "cell_type": "markdown",
   "id": "f3f2b728-95b2-4a07-8234-7e4daedd38b1",
   "metadata": {},
   "source": [
    "# multi linear transformation of determinant\n",
    "# 같은 행벡터가 두개 있을때\n",
    "> ### $ det \\begin{bmatrix} \\vdots \\\\ \\vartriangle \\\\ \\vartriangle \\\\ \\vdots \\end{bmatrix} = 0 = det \\begin{bmatrix} \\vdots \\\\ \\vartriangle \\\\ \\vdots \\\\ \\vartriangle \\\\ \\vdots \\end{bmatrix} $"
   ]
  },
  {
   "cell_type": "markdown",
   "id": "94b495c5-eba7-4b6d-894f-438583ed9f44",
   "metadata": {},
   "source": [
    "# 행교환\n",
    "> ### $ det \\begin{bmatrix} \\vdots \\\\ \\square \\\\ \\vartriangle \\\\ \\vdots \\end{bmatrix} = -det \\begin{bmatrix} \\vdots \\\\ \\square \\\\ \\vartriangle \\\\ \\vdots \\end{bmatrix} \\iff det \\begin{bmatrix} \\vdots \\\\ \\square \\\\ \\vdots \\\\ \\vartriangle \\\\ \\vdots \\end{bmatrix} = -det \\begin{bmatrix} \\vdots \\\\ \\square \\\\ \\vdots \\\\ \\vartriangle \\\\ \\vdots \\end{bmatrix} $"
   ]
  },
  {
   "cell_type": "markdown",
   "id": "77df3d6e-cf86-48f3-aca8-0d25cd2b4ce9",
   "metadata": {
    "tags": []
   },
   "source": [
    "# 상수배후 다른행에 더해주기\n",
    "> ### $ det \\begin{bmatrix} \\vartriangle \\\\ \\vdots \\\\ \\square + s\\vartriangle \\end{bmatrix} \n",
    "= det \\begin{bmatrix} \\vartriangle \\\\ \\vdots \\\\ \\square \\end{bmatrix} \n",
    "+ det \\begin{bmatrix} \\vartriangle \\\\ \\vdots \\\\ s\\vartriangle \\end{bmatrix} \n",
    "= det \\begin{bmatrix} \\vartriangle \\\\ \\vdots \\\\ \\square \\end{bmatrix} \n",
    "+ s\\, det \\begin{bmatrix} \\vartriangle \\\\ \\vdots \\\\ \\vartriangle \\end{bmatrix} $"
   ]
  },
  {
   "cell_type": "markdown",
   "id": "9e9dd22f-d9ba-4bb7-9d91-1af0479dc8fe",
   "metadata": {},
   "source": [
    "# L (low triangle matrix) $\\iff$ U (upper triangle matrix)\n",
    "> ### $\n",
    "det(L) = det\n",
    "\\begin{bmatrix}\n",
    "a_{11} & 0 & \\cdots & 0 \\\\ ? & a_{22} & \\cdots & 0 \\\\ \\vdots & \\ddots & \\ddots & \\vdots  \\\\ ? & ? & \\cdots & a_{nn}\n",
    "\\end{bmatrix}\n",
    "= a_{11} \\times a_{22} \\times \\cdots \\times a_{nn}\n",
    "$"
   ]
  },
  {
   "cell_type": "code",
   "execution_count": 92,
   "id": "e5bc640c-6bc1-48ca-b6d0-c557bcf0f3e1",
   "metadata": {},
   "outputs": [
    {
     "data": {
      "text/latex": [
       "$\\displaystyle \\left[\\begin{matrix}\\frac{4 x_{0}}{5} + \\frac{3 x_{1}}{5}\\end{matrix}\\right]$"
      ],
      "text/plain": [
       "Matrix([[4*x_0/5 + 3*x_1/5]])"
      ]
     },
     "execution_count": 92,
     "metadata": {},
     "output_type": "execute_result"
    },
    {
     "data": {
      "application/vnd.jupyter.widget-view+json": {
       "model_id": "dd7504b875e8491b8a44f80a3c782437",
       "version_major": 2,
       "version_minor": 0
      },
      "text/html": [
       "\n",
       "            <div style=\"display: inline-block;\">\n",
       "                <div class=\"jupyter-widgets widget-label\" style=\"text-align: center;\">\n",
       "                    Figure\n",
       "                </div>\n",
       "                <img src='data:image/png;base64,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' width=800.0/>\n",
       "            </div>\n",
       "        "
      ],
      "text/plain": [
       "Canvas(toolbar=Toolbar(toolitems=[('Home', 'Reset original view', 'home', 'home'), ('Back', 'Back to previous …"
      ]
     },
     "metadata": {},
     "output_type": "display_data"
    }
   ],
   "source": [
    "import numpy as np\n",
    "import sympy as sm\n",
    "import sympy.vector\n",
    "N = sm.vector.CoordSys3D('N')\n",
    "\n",
    "# v(3,1), w(1,2) \\iff T([3,1],[1,2])\n",
    "u = 3*N.i + N.j + 0*N.k\n",
    "v = N.i + 2*N.j + 0*N.k\n",
    "w = 0*N.i + 0*N.j + N.k\n",
    "T = u.to_matrix(N).col_insert(1,v.to_matrix(N)).col_insert(2,w.to_matrix(N))\n",
    "T = u.to_matrix(N).row_join(v.to_matrix(N)).row_join(w.to_matrix(N))\n",
    "B = T.inv()\n",
    "# x(x_0, x_1)\n",
    "x0,x1,x2 = sm.symbols('x_0 x_1 x_2')\n",
    "x = sm.Matrix([x0,x1,x2])\n",
    "# sm.vector.matrix_to_vector(x,N)\n",
    "\n",
    "# Tx = h(3,2)\n",
    "h = 3*N.i + 2*N.j + 0*N.k\n",
    "\n",
    "import matplotlib.pyplot as plt\n",
    "%matplotlib widget\n",
    "fig = plt.figure(figsize=(8,8))\n",
    "ax = fig.add_subplot()\n",
    "ax.grid()\n",
    "ax.spines[['left','bottom']].set_position('zero')\n",
    "ax.set_aspect('equal')\n",
    "ax.set_xlim(xmin=-4,xmax=9)\n",
    "ax.set_ylim(ymin=-4,ymax=9)\n",
    "ax.set_xticks(np.arange(-4,9,1))\n",
    "ax.set_yticks(np.arange(-4,9,1))\n",
    "ax.quiver(0,0,3,1,scale=1,units='xy')\n",
    "ax.quiver(0,0,-1,3,scale=1,units='xy')\n",
    "ax.annotate(\"B'(3,1)\",(2.2,1.1))\n",
    "ax.quiver(0,0,1,2,scale=1,units='xy')\n",
    "ax.quiver(0,0,2,-1,scale=1,units='xy')\n",
    "ax.annotate('A(1,2)',(0.6,2.1))\n",
    "ax.annotate(\"A'(0,0)\",(0.2,-0.3))\n",
    "ax.quiver(0,0,4,3,scale=1,units='xy')\n",
    "ax.annotate('B(4,3)',(4.1,3))\n",
    "ax.annotate('C(4,2)',(4.2,2))\n",
    "ax.annotate(\"C'(3,0)\",(3.1,0.1))\n",
    "ax.annotate(\"D(3,3)\",(2.8,3.1))\n",
    "ax.annotate(\"D'(0,2)\",(-0.5,2.1))\n",
    "ax.plot([1,4],[2,2],color='r')\n",
    "ax.plot([1,4],[2,3],color='r')\n",
    "ax.plot([4,4],[2,3],color='r')\n",
    "ax.plot([3,3],[0,1],color='r')\n",
    "ax.plot([0,3],[0,0],color='r')\n",
    "\n",
    "ax.plot([3,4],[1,3],color='b')\n",
    "ax.plot([3,4],[3,3],color='b')\n",
    "ax.plot([0,0],[0,2],color='b')\n",
    "ax.plot([0,1],[2,2],color='b')\n",
    "ax.plot([3,3],[2,3],color='b')\n",
    "ax.plot([3,3],[1,2],color='k')\n",
    "\n",
    "# solve\n",
    "T.inv()*sm.Matrix([3,2,0])\n",
    "(T.inv()*x).T*(h.to_matrix(N))"
   ]
  },
  {
   "cell_type": "code",
   "execution_count": null,
   "id": "dedad5fe-39fe-4a02-96ad-c8cb994a06f3",
   "metadata": {},
   "outputs": [],
   "source": []
  },
  {
   "cell_type": "markdown",
   "id": "b2ff2afb-1d7a-4bb3-87b1-cee52ef57103",
   "metadata": {},
   "source": [
    "# [determinant & inverse matrix meanning](https://www.youtube.com/watch?v=CLS3Z9jbZw4&list=PLIxff5DJJR7oBEy0Kdg12WWSlS6XFtr6r&index=33)"
   ]
  },
  {
   "cell_type": "code",
   "execution_count": 93,
   "id": "a0dbe86f-aac5-46e0-ab72-9a0c122c0b47",
   "metadata": {},
   "outputs": [
    {
     "data": {
      "text/latex": [
       "$\\displaystyle \\left[\\begin{matrix}\\frac{1}{2}\\end{matrix}\\right]$"
      ],
      "text/plain": [
       "Matrix([[1/2]])"
      ]
     },
     "execution_count": 93,
     "metadata": {},
     "output_type": "execute_result"
    },
    {
     "data": {
      "application/vnd.jupyter.widget-view+json": {
       "model_id": "71cdea4bd9ba4264944d5192901d86fb",
       "version_major": 2,
       "version_minor": 0
      },
      "text/html": [
       "\n",
       "            <div style=\"display: inline-block;\">\n",
       "                <div class=\"jupyter-widgets widget-label\" style=\"text-align: center;\">\n",
       "                    Figure\n",
       "                </div>\n",
       "                <img src='data:image/png;base64,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' width=800.0/>\n",
       "            </div>\n",
       "        "
      ],
      "text/plain": [
       "Canvas(toolbar=Toolbar(toolitems=[('Home', 'Reset original view', 'home', 'home'), ('Back', 'Back to previous …"
      ]
     },
     "metadata": {},
     "output_type": "display_data"
    }
   ],
   "source": [
    "# v(3,1), w(2,2) \\iff T([3,1],[2,2]) , b=(3,2)\n",
    "# https://www.youtube.com/watch?v=CLS3Z9jbZw4&list=PLIxff5DJJR7oBEy0Kdg12WWSlS6XFtr6r&index=33\n",
    "u = 3*N.i + N.j + 0*N.k\n",
    "v = 2*N.i + 2*N.j + 0*N.k\n",
    "w = 0*N.i + 0*N.j + N.k\n",
    "T = u.to_matrix(N).col_insert(1,v.to_matrix(N)).col_insert(2,w.to_matrix(N))\n",
    "T = u.to_matrix(N).row_join(v.to_matrix(N)).row_join(w.to_matrix(N))\n",
    "\n",
    "# x(x_0, x_1)\n",
    "x1,x2,x3 = sm.symbols('x_1 x_2 x_3')\n",
    "x = sm.Matrix([x1,x2,x3])\n",
    "\n",
    "# Tx = h(3,2)\n",
    "h = 3*N.i + 2*N.j + 0*N.k\n",
    "\n",
    "import matplotlib.pyplot as plt\n",
    "%matplotlib widget\n",
    "fig = plt.figure(figsize=(8,8))\n",
    "ax = fig.add_subplot()\n",
    "ax.grid()\n",
    "#ax.spines[['left','bottom']].set_position('zero')\n",
    "ax.axhline()\n",
    "ax.axvline()\n",
    "ax.set_aspect('equal')\n",
    "ax.set_xlim(xmin=-2,xmax=4)\n",
    "ax.set_ylim(ymin=-2,ymax=4)\n",
    "ax.set_xticks(np.arange(-2,4,1/4))\n",
    "ax.set_xticklabels(ax.get_xticks(),rotation=45)\n",
    "ax.set_yticks(np.arange(-2,4,1/4))\n",
    "# u(3,1,0)\n",
    "ax.quiver(0,0,3,1,scale=1,units='xy')\n",
    "ax.annotate(r\"$T^1=u(3,1)$\",(3,1))\n",
    "# v(2,2,0)\n",
    "ax.quiver(0,0,2,2,scale=1,units='xy')\n",
    "ax.annotate(r\"$T^2v(2,2)$\",(2,2))\n",
    "# b(3,2)\n",
    "ax.scatter(3,2,color='r')\n",
    "ax.annotate(\"b(3,2)\",(3,2))\n",
    "# T.inv()  = [1/2, -1/2], [-1/4, 3/4]\n",
    "# new axix of N.i (1/2, -1/2)\n",
    "# new axix of N.j (-1/4, 3/4)\n",
    "B = T.inv()\n",
    "ax.quiver(0,0,1/2,-1/2,scale=1,units='xy')\n",
    "ax.annotate(r\"$B_{1}=\\hat{e_1}( \\frac{1}{2}, \\frac{-1}{2})$\",(1/2,-1/2))\n",
    "ax.quiver(0,0,-1/4,3/4,scale=1,units='xy')\n",
    "ax.annotate(r\"$B_{2}=\\hat{e_2}(\\frac{-1}{4}, \\frac{3}{4})$\",(-1/4,3/4))\n",
    "\n",
    "# B_i * h = x_i\n",
    "# B_0 * h = x_0\n",
    "B.row(0)*(h.to_matrix(N))"
   ]
  },
  {
   "cell_type": "code",
   "execution_count": 94,
   "id": "a56d87e9-4a6d-4f50-8370-7b5b1c548e81",
   "metadata": {},
   "outputs": [],
   "source": [
    "#%%javascript\n",
    "#MathJax.Hub.Config({\n",
    "#    TeX: { equationNumbers: { autoNumber: \"AMS\" } }\n",
    "#});"
   ]
  },
  {
   "cell_type": "markdown",
   "id": "9c1eda66-713b-487c-9127-3df9880f0501",
   "metadata": {},
   "source": [
    "# 1 by 1 determinat\n",
    "> ### $\n",
    "Tx = h \\\\\n",
    "x = \\frac{b}{a}\n",
    "$\n",
    "# 2 by 2 determinant\n",
    "> ### $\n",
    "\\begin{align}\n",
    "& ax + by = u  \\label{eq1}\\tag{1}\\\\\n",
    "& cx + dy = v  \\label{eq2}\\tag{2}\\\\\n",
    "& adx + bdy = ud & \\eqref{eq1} \\times d \\label{eq3}\\tag{3}\\\\\\\n",
    "& bcx + bdy = bv & \\eqref{eq2} \\times b \\label{eq4}\\tag{4}\\\\\n",
    "& (ad - bc)x = ud - bv & \\eqref{eq3} - \\eqref{eq4} \\\\\n",
    "\\therefore x = \\frac{ud - bv}{ad - bc} & \\\\\n",
    "\\end{align}\n",
    "$\n",
    "> ### 행교환 $\\iff$ 부호가 바뀜\n",
    ">> ### $\n",
    "cx + dy = v \\\\\n",
    "ax + by = u \\\\\n",
    "x = \\frac{bv - ud}{bc - ad}\n",
    "$"
   ]
  },
  {
   "cell_type": "markdown",
   "id": "8d11a51b-0c69-4047-b170-48dcd5c808b3",
   "metadata": {
    "tags": []
   },
   "source": [
    "# 3 by 3 determinant\n",
    "> ### $ \n",
    "a_1x + b_1y + c_1z = u\\\\\n",
    "a_2x + b_2y + c_2z = v\\\\\n",
    "a_3x + b_3y + c_3z = w\\\\\n",
    "\\therefore \n",
    "|A| = det(A)$\n",
    ">> ### $$\n",
    "x = \n",
    "\\frac{\n",
    "u\\begin{vmatrix}b_2 & c_2 \\\\ b_3 & c_3\\end{vmatrix} - \n",
    "v\\begin{vmatrix}b_1 & c_1 \\\\ b_3 & c_3\\end{vmatrix} +\n",
    "w\\begin{vmatrix}b_1 & c_1 \\\\ b_2 & c_2\\end{vmatrix}\n",
    "}\n",
    "{\n",
    "a_1\\begin{vmatrix}b_2 & c_2 \\\\ b_3 & c_3\\end{vmatrix} - \n",
    "a_2\\begin{vmatrix}b_1 & c_1 \\\\ b_3 & c_3\\end{vmatrix} +\n",
    "a_3\\begin{vmatrix}b_1 & c_1 \\\\ b_2 & c_2\\end{vmatrix}\n",
    "}\n",
    "$$"
   ]
  },
  {
   "cell_type": "markdown",
   "id": "4a1478ff-360b-4902-843a-9b66d8a30a4d",
   "metadata": {},
   "source": []
  },
  {
   "cell_type": "markdown",
   "id": "fd4378eb-e8c8-42b4-8136-d5c80a9ec1bd",
   "metadata": {},
   "source": [
    "# 행이나 열이 서로 비례하는 성분이 2개 행열식은 0이된다.\n",
    "> ### 서로 다른 두점$(x_0,x_2),(y_0,y_1)$을 지나는 직선의 방정식은 행열식이 0이 되어야 함으로\n",
    ">> ### $\n",
    "det (A) \\Rightarrow\n",
    "\\begin{align}\n",
    "\\begin{vmatrix}\n",
    "1 & x & y \\\\ 1 & x_0 & y_0 \\\\ 1 & x_0 & y_1\n",
    "\\end{vmatrix} = 0\n",
    "\\end{align}\n",
    "$\n",
    "> ### 서로 다른 세점$(x_0,y_0),(x_1,y_1),(x_2,y_2)$을 지나는 직선의 방정식은 행열식이 0이 되어야 함으로\n",
    ">> ### $\n",
    "det (A) \\Rightarrow\n",
    "\\begin{align}\n",
    "\\begin{vmatrix}\n",
    "1 & x & x^2 & y \\\\ 1 & x_0 & x_0^2 & y_0 \\\\ 1 & x_1 & x_1^2 & y_1 \\\\ 1 & x_2 & x_2^2 & y_2\n",
    "\\end{vmatrix} = 0\n",
    "\\end{align}\n",
    "$"
   ]
  },
  {
   "cell_type": "code",
   "execution_count": 145,
   "id": "d2632c22-74e5-4c23-8f9e-94bc6d4cfa83",
   "metadata": {},
   "outputs": [
    {
     "data": {
      "text/latex": [
       "$\\displaystyle \\left[\\begin{matrix}1 & 2\\\\3 & 4\\end{matrix}\\right]$"
      ],
      "text/plain": [
       "Matrix([\n",
       "[1, 2],\n",
       "[3, 4]])"
      ]
     },
     "execution_count": 145,
     "metadata": {},
     "output_type": "execute_result"
    }
   ],
   "source": [
    "T\n",
    "T1 = sm.Matrix([[1,2],[3,4]])\n",
    "T1"
   ]
  },
  {
   "cell_type": "code",
   "execution_count": 147,
   "id": "c33e3a24-abfe-4cf4-9611-e1bb061e30af",
   "metadata": {},
   "outputs": [
    {
     "data": {
      "text/latex": [
       "$\\displaystyle 4$"
      ],
      "text/plain": [
       "4"
      ]
     },
     "execution_count": 147,
     "metadata": {},
     "output_type": "execute_result"
    }
   ],
   "source": [
    "# Minor matrix (소행열)\n",
    "T.minor_submatrix(0,0)\n",
    "T.minorEntry(0,1)\n",
    "T.minorMatrix(0,1)\n",
    "T1.minorMatrix(0,0)\n",
    "T1.minorEntry(0,0)"
   ]
  },
  {
   "cell_type": "code",
   "execution_count": 175,
   "id": "905c5b80-2c7a-4219-b477-7fc51b26523f",
   "metadata": {},
   "outputs": [
    {
     "data": {
      "text/latex": [
       "$\\displaystyle \\left[\\begin{matrix}2 & -1 & 0\\\\-2 & 3 & 0\\\\0 & 0 & 4\\end{matrix}\\right]$"
      ],
      "text/plain": [
       "Matrix([\n",
       "[ 2, -1, 0],\n",
       "[-2,  3, 0],\n",
       "[ 0,  0, 4]])"
      ]
     },
     "execution_count": 175,
     "metadata": {},
     "output_type": "execute_result"
    }
   ],
   "source": [
    "# cofactor (여인수)\n",
    "T.cofactor(0,0)\n",
    "T1.cofactor(0,0)\n",
    "# cofactor Matrix(여인수 행열)\n",
    "T1.cofactorMatrix()\n",
    "T.cofactorMatrix()"
   ]
  },
  {
   "cell_type": "code",
   "execution_count": 199,
   "id": "1e94e8af-99f7-46a9-bca1-28c181215917",
   "metadata": {},
   "outputs": [
    {
     "data": {
      "text/latex": [
       "$\\displaystyle \\left[\\begin{matrix}1 & 2\\\\0 & -2\\end{matrix}\\right]$"
      ],
      "text/plain": [
       "Matrix([\n",
       "[1,  2],\n",
       "[0, -2]])"
      ]
     },
     "execution_count": 199,
     "metadata": {},
     "output_type": "execute_result"
    }
   ],
   "source": [
    "# elementary column operation(기본행 연산)\n",
    "# elementary row operation(기본열 연산)\n",
    "# n->n+km : n=col1, m=col2\n",
    "T1.elementary_row_op(op=\"n->n+km\",row=1,k=-3,row2=0)"
   ]
  },
  {
   "cell_type": "code",
   "execution_count": 182,
   "id": "54183f45-f658-4e94-bd59-43f42d8e6655",
   "metadata": {},
   "outputs": [
    {
     "data": {
      "text/latex": [
       "$\\displaystyle \\left[\\begin{matrix}2 & -2 & 0\\\\-1 & 3 & 0\\\\0 & 0 & 4\\end{matrix}\\right]$"
      ],
      "text/plain": [
       "Matrix([\n",
       "[ 2, -2, 0],\n",
       "[-1,  3, 0],\n",
       "[ 0,  0, 4]])"
      ]
     },
     "execution_count": 182,
     "metadata": {},
     "output_type": "execute_result"
    }
   ],
   "source": [
    "# adjoint (수반행열) = (cofactor matrix).transpose()\n",
    "# adjugate in sympy\n",
    "# jugate (쌍으로 되어있는)\n",
    "T1.adjugate()\n",
    "T.adjugate()"
   ]
  },
  {
   "cell_type": "code",
   "execution_count": 179,
   "id": "d0e631c4-b2ae-4a50-b690-d9cded86550e",
   "metadata": {},
   "outputs": [
    {
     "data": {
      "text/plain": [
       "(Matrix([\n",
       " [1, 0, 0],\n",
       " [0, 1, 0],\n",
       " [0, 0, 1]]),\n",
       " (0, 1, 2))"
      ]
     },
     "execution_count": 179,
     "metadata": {},
     "output_type": "execute_result"
    }
   ],
   "source": [
    "T1.echelon_form()\n",
    "\n",
    "# rref = reduce row echelon form\n",
    "ref, pivots = T1.rref()\n",
    "# 행사다리(echelon) 꼴(form)\n",
    "T.echelon_form()\n",
    "T.rref()"
   ]
  },
  {
   "cell_type": "markdown",
   "id": "86783eac-0667-4c5f-b281-e85e68e09115",
   "metadata": {},
   "source": [
    "# adjoin matrix\n",
    "> ### cofactor\n",
    ">> ### $\n",
    "C_{ij} = (-1)^{i+j}M_{ij} \\in \\mathbb R\n",
    "$"
   ]
  },
  {
   "cell_type": "code",
   "execution_count": null,
   "id": "a0c0cbe4-1779-4980-8f87-e58ed0b9266c",
   "metadata": {},
   "outputs": [],
   "source": []
  }
 ],
 "metadata": {
  "kernelspec": {
   "display_name": "Python 3 (ipykernel)",
   "language": "python",
   "name": "python3"
  },
  "language_info": {
   "codemirror_mode": {
    "name": "ipython",
    "version": 3
   },
   "file_extension": ".py",
   "mimetype": "text/x-python",
   "name": "python",
   "nbconvert_exporter": "python",
   "pygments_lexer": "ipython3",
   "version": "3.9.9"
  }
 },
 "nbformat": 4,
 "nbformat_minor": 5
}
