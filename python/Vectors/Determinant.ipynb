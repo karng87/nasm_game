{
 "cells": [
  {
   "cell_type": "code",
   "execution_count": 1,
   "id": "b90f49b4-c0a6-4ae7-b08c-804497be40c2",
   "metadata": {
    "tags": []
   },
   "outputs": [
    {
     "data": {
      "text/html": [
       "\n",
       "        <iframe\n",
       "            width=\"600\"\n",
       "            height=\"400\"\n",
       "            src=\"https://www.youtube.com/embed/https://www.youtube.com/watch?v=ypUqQWYZTJs&list=PLIxff5DJJR7oBEy0Kdg12WWSlS6XFtr6r&index=28\"\n",
       "            frameborder=\"0\"\n",
       "            allowfullscreen\n",
       "            \n",
       "        ></iframe>\n",
       "        "
      ],
      "text/plain": [
       "<IPython.lib.display.YouTubeVideo at 0x7fadb10cacb0>"
      ]
     },
     "execution_count": 1,
     "metadata": {},
     "output_type": "execute_result"
    }
   ],
   "source": [
    "import IPython as Ipy\n",
    "Ipy.display.YouTubeVideo('https://www.youtube.com/watch?v=ypUqQWYZTJs&list=PLIxff5DJJR7oBEy0Kdg12WWSlS6XFtr6r&index=28',width= 600,height=400)"
   ]
  },
  {
   "cell_type": "markdown",
   "id": "766bc69b-dd9d-4ed9-9719-f8bfc5ac12ed",
   "metadata": {},
   "source": [
    "# [Linearity](https://www.youtube.com/watch?v=ypUqQWYZTJs&list=PLIxff5DJJR7oBEy0Kdg12WWSlS6XFtr6r&index=28)\n",
    "> ### $ f(x) = \\color{magenta}{a}x $\n",
    ">> ### $\n",
    "f(\\vartriangle + \\;\\square) = a\\vartriangle + a\\; \\square\\\\\n",
    "f(\\vartriangle + \\; \\square) = f(\\vartriangle) + f(\\square) \\\\\n",
    "f(\\vartriangle + \\; 0) = f(\\vartriangle) + f(0), \\;s.t\\; \\square = 0 \\\\\n",
    "f(0) = 0 \\\\\n",
    "f(s\\vartriangle) = sf(\\vartriangle)\n",
    "$\n",
    "# Non linearity\n",
    "> ### $ g(x) = ax + \\color{magenta}{b}$\n",
    ">> ### $\n",
    "g(\\vartriangle + \\square) = a \\vartriangle + a\\square  + b \\\\\n",
    "\\therefore  g(\\vartriangle + \\square) \\neq g(\\vartriangle) + g(\\square)\n",
    "$"
   ]
  },
  {
   "cell_type": "markdown",
   "id": "3b5cbe7f-157b-43af-bc3a-58a3f647a323",
   "metadata": {},
   "source": [
    "# Linearity of determinant\n",
    "> ### row lineartity $\n",
    "\\begin{vmatrix}\n",
    "\\vartriangle_1 + \\; \\square_1 &  \\vartriangle_2 + \\; \\square_2 \\\\ \n",
    "c & d\n",
    "\\end{vmatrix}\n",
    "=\n",
    "\\begin{vmatrix}\n",
    "\\vartriangle_1 &  \\vartriangle_2 \\\\ \n",
    "c & d\n",
    "\\end{vmatrix}\n",
    "+ \\begin{vmatrix}\n",
    "\\square_1 & \\square_2 \\\\ \n",
    "c & d\n",
    "\\end{vmatrix}\n",
    "$"
   ]
  },
  {
   "cell_type": "markdown",
   "id": "060e17fe-56bf-40e7-9a61-7c21f5457b27",
   "metadata": {},
   "source": [
    "> ### column lineartity $\n",
    "\\begin{vmatrix}\n",
    "\\color{magenta}{\\vartriangle_1 + \\; \\square_1} & b \\\\\n",
    "\\color{magenta}{\\vartriangle_2 + \\; \\square_2} & d \\\\\n",
    "\\end{vmatrix}\n",
    "=\n",
    "\\begin{vmatrix}\n",
    "\\color{magenta}{\\vartriangle_1} & b \\\\\n",
    "\\color{magenta}{\\vartriangle_2} & d \\\\\n",
    "\\end{vmatrix}\n",
    "+ \\begin{vmatrix}\n",
    "\\color{magenta}{\\square_1} & b \\\\\n",
    "\\color{magenta}{\\square_2} & d \\\\ \n",
    "\\end{vmatrix}\n",
    "$"
   ]
  },
  {
   "cell_type": "markdown",
   "id": "f2ab22fc-4077-44aa-9093-384c79d92e1b",
   "metadata": {},
   "source": [
    "> ### non-lineartity of entry $\n",
    "\\begin{vmatrix}\n",
    "\\vartriangle_1 + \\; \\square_1 & b \\\\\n",
    "\\vartriangle_2 & d \\\\\n",
    "\\end{vmatrix}\n",
    "\\neq\n",
    "\\begin{vmatrix}\n",
    "\\vartriangle_1 & b \\\\\n",
    "\\vartriangle_2 & d \\\\\n",
    "\\end{vmatrix}\n",
    "+ \\begin{vmatrix}\n",
    "\\square_1 & b \\\\\n",
    "\\vartriangle_2 & d \\\\ \n",
    "\\end{vmatrix}\n",
    "\\\\\n",
    "\\because \\text{ not curve}\n",
    "$"
   ]
  },
  {
   "cell_type": "markdown",
   "id": "0a778032-63fa-413d-bc40-fe7e0f40f84a",
   "metadata": {},
   "source": [
    "> ### lineartity $\n",
    "\\begin{vmatrix}\n",
    "\\vartriangle_1 + \\; \\square_1 & b \\\\\n",
    "\\vartriangle_2 + \\; \\color{magenta}{0} & d \\\\\n",
    "\\end{vmatrix}\n",
    "= \\begin{vmatrix}\n",
    "\\vartriangle_1 & b \\\\\n",
    "\\vartriangle_2 & d \\\\\n",
    "\\end{vmatrix}\n",
    "+ \\begin{vmatrix}\n",
    "\\square_1 & b \\\\\n",
    "\\color{magenta}{0} & d \\\\ \n",
    "\\end{vmatrix}\n",
    "$"
   ]
  },
  {
   "cell_type": "markdown",
   "id": "fc8e6f80-cb18-4342-8660-04bf170e3561",
   "metadata": {},
   "source": [
    "> ### non-lineartity - diagnonal $\n",
    "\\begin{vmatrix}\n",
    "\\vartriangle_1 + \\; \\square_1 & b \\\\\n",
    "c & \\vartriangle_2 + \\; \\square_2 \\\\\n",
    "\\end{vmatrix}\n",
    "\\neq\n",
    "\\begin{vmatrix}\n",
    "\\vartriangle_1 & b \\\\\n",
    "c & \\vartriangle_2 \\\\\n",
    "\\end{vmatrix}\n",
    "+ \\begin{vmatrix}\n",
    "\\square_1 & b \\\\\n",
    "c & \\square_2 \\\\ \n",
    "\\end{vmatrix}\n",
    "$"
   ]
  },
  {
   "cell_type": "markdown",
   "id": "99a4e1d7-eeaa-4a6d-a8f5-6ceddd8daecd",
   "metadata": {},
   "source": [
    "# multi-linear of determinant\n",
    "> ### $\n",
    "\\big|A\\big| = det(A) = \\sum_{j} a_{ij}C_{ij} \\\\\n",
    "\\big|A\\big| = det(A) = \\sum_{j} a_{ji}C_{ji} \\\\\n",
    "$\n",
    ">> ### Minor Matrix\n",
    ">>> ### $\n",
    "\\begin{bmatrix}\n",
    "a_{11} & a_{12} & a_{13} & \\cdots & a_{1n} \\\\\n",
    "a_{21} & M_{11} & M_{12} & \\cdots & M_{1,n-1} \\\\\n",
    "a_{31} & M_{21} & M_{22} & \\cdots & M_{2,n-1} \\\\\n",
    "\\vdots & \\ddots & \\ddots & \\ddots & \\vdots \\\\\n",
    "a_{n1} & M_{n-1,1} & M_{n-1,2} & \\cdots & M_{n-1,n-1} \\\\\n",
    "\\end{bmatrix}\n",
    "$\n",
    ">> ### Cofactor Matrix\n",
    ">>> ### $\n",
    "C_{ij} = (-1)^{i+j}M_{ij}\n",
    "$"
   ]
  },
  {
   "cell_type": "markdown",
   "id": "2e886904-28bf-4ef6-be9f-fb4ded510f5e",
   "metadata": {},
   "source": [
    "> ### arbitary i row determinant = arbitary j column determinant \n",
    ">> ### $ det(A) = det\\big[a_{i}\\big] = \\sum_{j}a_{ij}C_{ij} $\n",
    ">>> ### $ det(A) = det\\big[ 0 \\big] = \\sum_{j}(0)C_{ij} = 0 $\n",
    ">>> ### $ det(A) = det\\big[ sa_{i} \\big] = \\sum_{j}sa_{ij}C_{ij} = s\\sum_{ij}C_{ij}= s\\; \\det(A) $"
   ]
  },
  {
   "cell_type": "markdown",
   "id": "1bda1c32-920b-41ce-8801-8028207483f1",
   "metadata": {},
   "source": [
    "> ### determinant having a same row or column matrix \n",
    ">> ### $\n",
    "det\\begin{bmatrix} \n",
    "\\check {\\vartriangle}\n",
    "\\\\ \\vartriangle\n",
    "\\end{bmatrix}\n",
    "= \\sum_j \\vartriangle_{i,j}(-1)^{i+j}M_{ij}\n",
    "\\\\\n",
    "det\\begin{bmatrix} \n",
    "\\vartriangle\n",
    "\\\\ \\check{\\vartriangle}\n",
    "\\end{bmatrix}\n",
    "= \\sum_j \\vartriangle_{i+1,j}(-1)^{i+1+j}M_{i+1,j}\n",
    "\\\\\\qquad \\quad = -\\sum_j \\vartriangle_{ij}(-1)^{i+j}M_{ij}\n",
    "$\n",
    ">>> ### 어떤 row 나 column을 선택해도 determimant는 같으므로\n",
    ">>>> ### $\n",
    "det \\left[ \\begin{array}{r} \\vartriangle \\\\ \\vartriangle \\end{array} \\right]\n",
    "= - det \\left[ \\begin{array}{r} \\vartriangle \\\\ \\vartriangle \\end{array} \\right]\n",
    "\\\\\n",
    "\\therefore det \\left[ \n",
    "\\begin{array}{c}\\vartriangle \\\\ \\vartriangle \\end{array}\\right] = 0\n",
    "\\\\\n",
    "\\therefore det \\left[ \n",
    "\\begin{array}{c}\\vartriangle \\\\ \\vdots \\\\ \\vartriangle \\end{array}\\right] = 0\n",
    "$"
   ]
  },
  {
   "cell_type": "markdown",
   "id": "ee1701dc-fe73-40aa-a6da-b9179d7eb584",
   "metadata": {},
   "source": [
    "> ### determinant having a same row or column matrix \n",
    ">> ### $\n",
    "0 = det\\begin{bmatrix} \n",
    "\\vartriangle +\\;\\square \n",
    "\\\\ \\vartriangle +\\; \\square \n",
    "\\end{bmatrix}\n",
    "= \n",
    "det\\begin{bmatrix} \n",
    "\\vartriangle \n",
    "\\\\ \\vartriangle +\\; \\square \n",
    "\\end{bmatrix}\n",
    "+\n",
    "det\\begin{bmatrix} \n",
    "\\square \n",
    "\\\\ \\vartriangle +\\; \\square \n",
    "\\end{bmatrix}\n",
    "$"
   ]
  },
  {
   "cell_type": "markdown",
   "id": "5decd330-68aa-48de-9a55-3fbac379a68c",
   "metadata": {},
   "source": [
    ">> ### $ \n",
    "0 = \n",
    "\\underbrace{\n",
    "det\\begin{bmatrix} \n",
    "\\vartriangle \n",
    "\\\\ \\vartriangle\n",
    "\\end{bmatrix}}_{0}\n",
    "+\n",
    "det\\begin{bmatrix} \n",
    "\\vartriangle\n",
    "\\\\ \\square\n",
    "\\end{bmatrix}\n",
    "+\n",
    "det\\begin{bmatrix} \n",
    "\\square\n",
    "\\\\ \\vartriangle\n",
    "\\end{bmatrix}\n",
    "+\n",
    "\\underbrace{\n",
    "det\\begin{bmatrix} \n",
    "\\square \n",
    "\\\\\\square \n",
    "\\end{bmatrix}}_{0}\n",
    "\\\\\n",
    "\\therefore 0 = \\left[ \\begin{array}{c}\\vartriangle \\\\ \\square \\end{array} \\right]\n",
    "+ \\left[ \\begin{array}{c}\\square \\\\ \\vartriangle \\end{array} \\right]\n",
    "\\\\ \\therefore \\left[ \\begin{array}{c}\\vartriangle \\\\ \\square \\end{array} \\right]\n",
    "= - \\left[ \\begin{array}{c}\\square \\\\ \\vartriangle \\end{array} \\right]\n",
    "$\n",
    "> ### 행교환\n",
    ">> ### $\n",
    "0 = det\\begin{bmatrix} \n",
    "\\vartriangle +\\;\\square \\\\ \\vdots\n",
    "\\\\ \\vartriangle +\\; \\square \n",
    "\\end{bmatrix} \n",
    "\\\\ \n",
    "\\therefore\n",
    "\\left[ \\begin{array}{c}\\vartriangle \\\\ \\vdots \\\\ \\square \\end{array} \\right]\n",
    "= - \\left[ \\begin{array}{c}\\square \\\\ \\vdots \\\\ \\vartriangle \\end{array} \\right]\n",
    "$"
   ]
  },
  {
   "cell_type": "markdown",
   "id": "c8a0857c-6fc8-472c-a312-b8734375624d",
   "metadata": {},
   "source": [
    "# addtion of determinant\n",
    "> ### $\n",
    "det \\left[ \n",
    "\\begin{array}{c} \\vartriangle \\\\ \\vdots \\\\ \\square + s \\vartriangle \\end{array} \\right]\n",
    "= det \\left[ \n",
    "\\begin{array}{c} \\vartriangle \\\\ \\vdots \\\\ \\square \n",
    "\\end{array} \\right]\n",
    "+ det \\left[ \n",
    "\\begin{array}{c} \\vartriangle \\\\ \\vdots \\\\ s\\vartriangle \n",
    "\\end{array} \\right]\n",
    "\\\\= det \\left[ \n",
    "\\begin{array}{c} \\vartriangle \\\\ \\vdots \\\\ \\square \n",
    "\\end{array} \\right]\n",
    "+ s\\; det \\left[ \n",
    "\\begin{array}{c} \\vartriangle \\\\ \\vdots \\\\ \\vartriangle \n",
    "\\end{array} \\right]\n",
    "\\\\=\n",
    "det \\left[ \\begin{array}{c}\\vartriangle \\\\ \\vdots \\\\ \\square \\end{array}\\right]\n",
    "$"
   ]
  },
  {
   "cell_type": "markdown",
   "id": "dbc68c2b-569c-42c4-bdb3-7fc3e8c22e34",
   "metadata": {},
   "source": [
    "# [Determinant](https://www.youtube.com/watch?v=FsCLrXjRCIM&list=PLIxff5DJJR7oBEy0Kdg12WWSlS6XFtr6r&index=29)\n",
    "> $\n",
    "det\\begin{bmatrix}a & b \\\\ c & d\\end{bmatrix} = \n",
    "det \\Big(\\begin{bmatrix}a \\\\ c \\end{bmatrix}, \\begin{bmatrix} b \\\\ d \\end{bmatrix}\\Big)\n",
    "\\\\ =\n",
    "det \\Big(\n",
    "a \\begin{bmatrix} 1 \\\\ 0 \\end{bmatrix} + \n",
    "c \\begin{bmatrix} 0 \\\\ 1 \\end{bmatrix},\n",
    "b \\begin{bmatrix} 1 \\\\ 0 \\end{bmatrix} + \n",
    "d \\begin{bmatrix} 0 \\\\ 1 \\end{bmatrix}\n",
    "\\Big) \n",
    "\\\\ = \n",
    "det \\Big(\n",
    "a \\begin{bmatrix} 1 \\\\ 0 \\end{bmatrix}, \n",
    "b \\begin{bmatrix} 1 \\\\ 0 \\end{bmatrix} +\n",
    "d \\begin{bmatrix} 0 \\\\ 1 \\end{bmatrix}\n",
    "\\Big) +\n",
    "det \\Big(\n",
    "c \\begin{bmatrix} 0 \\\\ 1 \\end{bmatrix}, \n",
    "b \\begin{bmatrix} 1 \\\\ 0 \\end{bmatrix} +\n",
    "d \\begin{bmatrix} 0 \\\\ 1 \\end{bmatrix}\n",
    "\\Big)\n",
    "\\\\\n",
    "=\n",
    "ab \\det\\Big(  \n",
    "\\begin{bmatrix} 1 \\\\ 0 \\end{bmatrix}, \n",
    "\\begin{bmatrix} 1 \\\\ 0 \\end{bmatrix}\n",
    "\\Big) +\n",
    "ad \\det\\Big( \n",
    "\\begin{bmatrix} 1 \\\\ 0 \\end{bmatrix}, \n",
    "\\begin{bmatrix} 0 \\\\ 0 \\end{bmatrix}\n",
    "\\Big) +\n",
    "cb \\det\\Big( \n",
    "\\begin{bmatrix} 0 \\\\ 1 \\end{bmatrix}, \n",
    "\\begin{bmatrix} 1 \\\\ 0 \\end{bmatrix}\n",
    "\\Big) +\n",
    "cd \\det\\Big( \n",
    "\\begin{bmatrix} 0 \\\\ 1 \\end{bmatrix}, \n",
    "\\begin{bmatrix} 0 \\\\ 1 \\end{bmatrix}\n",
    "\\Big)\n",
    "\\\\\n",
    "=\n",
    "ab \\det \\begin{bmatrix} 1 & 1 \\\\ 0 & 0 \\end{bmatrix}\n",
    "+\n",
    "ad \\det \\begin{bmatrix} 1 & 0 \\\\ 0 & 1 \\end{bmatrix}\n",
    "+\n",
    "cb \\det \\begin{bmatrix} 0 & 1 \\\\ 1 & 0 \\end{bmatrix}\n",
    "+\n",
    "cd \\det \\begin{bmatrix} 0 & 0 \\\\ 1 & 1 \\end{bmatrix}\n",
    "\\\\ = ad - bc \\\\\n",
    "E^1 = \\begin{bmatrix} 1 \\\\ 0 \\end{bmatrix}, \\quad\n",
    "E^2 = \\begin{bmatrix} 0 \\\\ 1 \\end{bmatrix} \\\\\n",
    "det \\big[E^1,E^2 \\big] = \\begin{bmatrix} 1 & 0 \\\\ 0 & 1 \\end{bmatrix} = 1, \\quad\n",
    "det \\big[E^2,E^1 \\big] = \\begin{bmatrix} 0 & 1 \\\\ 1 & 0 \\end{bmatrix} = -1 \n",
    "\\\\\n",
    "\\therefore det \\begin{bmatrix}a_{11} & a_{12} \\\\ a_{21} & a_{22} \\end{bmatrix} \n",
    "= det \\Big[ A^1, A^2 \\Big] = \\sum_{ij} a_{i1}a_{j2}\\; det\\Big(E^i,E^j\\Big)\n",
    "= det\n",
    "$"
   ]
  },
  {
   "cell_type": "markdown",
   "id": "ed17a532-b6a2-4e42-993f-49b322dd566d",
   "metadata": {
    "tags": []
   },
   "source": [
    "# determinant 3by 3\n",
    "> ### $\n",
    "\\begin{vmatrix}\n",
    "a_{11} & a_{12} & a_{13} \\\\\n",
    "a_{21} & a_{22} & a_{23} \\\\\n",
    "a_{31} & a_{32} & a_{33} \\\\\n",
    "\\end{vmatrix}\n",
    "= \n",
    "\\Big|\n",
    "A^1 , A^2 , A^3\n",
    "\\Big|\n",
    "= \\sum_{ijk}a_{i1}a_{j2} a_{k3}\\Big| E^{i} E^{j} E^{k} \\Big|\n",
    "\\\\\n",
    "\\therefore \\sum_{ijk} \\epsilon \\Big(i,j,k \\Big)a_{i1}a_{j2}a_{k3}\\; det \\Big(E^1,E^2,E^3 \\Big)\n",
    "$"
   ]
  },
  {
   "cell_type": "markdown",
   "id": "ca69eb90-ebc2-4031-a7e4-e4109ef295ae",
   "metadata": {},
   "source": [
    "> ### $\n",
    "det \\Big( E^{1}, E^{2}, E^{3} \\Big) = \n",
    "\\begin{vmatrix}\n",
    "1 & 0 & 0 \\\\\n",
    "0 & 1 & 0 \\\\\n",
    "0 & 0 & 1 \\\\\n",
    "\\end{vmatrix} = 1\n",
    "\\\\\n",
    "det \\Big( E^{1}, E^{3}, E^{2} \\Big) = \n",
    "\\begin{vmatrix}\n",
    "1 & 0 & 0 \\\\\n",
    "0 & 0 & 1 \\\\\n",
    "0 & 1 & 0 \\\\\n",
    "\\end{vmatrix} = -1\n",
    "$"
   ]
  },
  {
   "cell_type": "markdown",
   "id": "b9316d0c-c877-4422-819e-aaad777cee13",
   "metadata": {},
   "source": [
    "# n by n determinant\n",
    "> ### $\n",
    "\\begin{vmatrix}\n",
    "a_{11} & a_{12} & \\cdots & a_{1n} \\\\\n",
    "a_{21} & a_{22} & \\cdots & a_{2n} \\\\\n",
    "\\vdots & \\vdots & \\ddots & \\vdots \\\\\n",
    "a_{n1} & a_{n2} & \\cdots & a_{nn} \\\\\n",
    "\\end{vmatrix} = det\\Big[ A^1,A^2,\\cdots,A^n \\Big]\n",
    "\\\\= \n",
    "\\sum_{s_1s_2\\cdots s_n}A_{s_{1,1}}, \\cdots a_{s_n,n}\\; det\\Big(E^{s_1},\\cdots,E^{s_n}\\Big)\n",
    "\\\\\n",
    "A^1 = \\sum b_{j1}G^{j} = b_{11}G^1 + b_{21}G^2 + \\cdots + b_{n1}G^n\n",
    "\\\\ \\vdots \\\\\n",
    "A^k = \\sum b_{jk}G^{j} = b_{1k}G^1 + b_{2k}G^2 + \\cdots + b_{nk}G^n\n",
    "\\\\ \\vdots \\\\\n",
    "A^n = \\sum b_{jn}G^{j} = b_{1n}G^1 + b_{2n}G^2 + \\cdots + b_{nn}G^n\n",
    "\\\\\n",
    "det\\Big[A^1, A^2, \\cdots, A^n\\Big] \n",
    "= \\sum_{s_1s_2\\cdots s_n} \\epsilon\\Big(s_1,s_2,\\cdots, s_n \\Big) b_{s_1,1}b_{s_2,2}\\cdots b_{s_n,n}\\; det\\Big(G^1,G^2,\\cdots,G^n\\Big)\n",
    "$"
   ]
  },
  {
   "cell_type": "markdown",
   "id": "77d47fd0-f06a-4764-960d-a0b27ba290ee",
   "metadata": {},
   "source": [
    "# Sumation\n",
    "> ### $\n",
    "AB = \\sum_{ij}a_{ij}G_{ij} \\sum_{lm}b_{lm}G_{lm}\n",
    "\\\\ = \\sum_{ijm}a_{ij}b{jm}G_{im}\n",
    "\\\\ = \\sum_{jm} b_{jm}(\\sum_{}a_{}G_{})\n",
    "$"
   ]
  },
  {
   "cell_type": "markdown",
   "id": "1832ac2d-4579-4cfc-9f5c-d0a755ddc544",
   "metadata": {
    "jp-MarkdownHeadingCollapsed": true,
    "tags": []
   },
   "source": [
    "# inverse\n",
    "> ### $\n",
    "T^{-1} = B, \\quad Tx = h \\\\\n",
    "B_{i} \\cdot T^{j} = \\delta_{i}^{j} \\\\\n",
    "B_{i}\\cdot h = x_{i} \\\\\n",
    "\\begin{bmatrix}\n",
    "a & b \\\\ c & d\n",
    "\\end{bmatrix}\n",
    "\\begin{bmatrix}\n",
    "a^{-1}(x) & b^{-1}(u) \\\\ c^{-1}(y) & d^{-1}(v)\n",
    "\\end{bmatrix}\n",
    "=\n",
    "\\begin{bmatrix}\n",
    "1 & 0 \\\\ 0 & 1\n",
    "\\end{bmatrix}\n",
    "\\iff  ax + by = 1  \\quad cx + dy = 0,\\quad   au + bv = 1 \\quad  cu + dv = 0 \n",
    "$\n",
    ">> ### $\n",
    "(ax + by = 1)d - (cx + dy = 0)b, \\to adx - bcx = d \\to x(a^{-1}) = \\frac{d}{ad-bc} \\\\\n",
    "(ax + by = 1)c - (cx + dy = 0)a, \\to bcy - adx = c \\to y(c^{-1}) = \\frac{c}{-(ad-bc)} = \\frac{-c}{ad-bc} \\\\\n",
    "(au + bv = 0)d - (cu + dv = 1)b, \\to adu - bcu = -b \\to u(b^{-1}) = \\frac{-b}{ad-bc}\\\\\n",
    "(au + bv = 0)c - (cu + dv = 1)a, \\to bcv - dav = -a \\to v(c^{-1}) = \\frac{-a}{-(ad-bc)} = \\frac{a}{ad-bc} \\\\\n",
    "\\therefore \\begin{bmatrix}\n",
    "\\frac{d}{ad-bc} & \\frac{-b}{ad-bc} \\\\ \\frac{-c}{ad-bc} & \\frac{a}{ad-bc} \n",
    "\\end{bmatrix} \\iff\n",
    "\\therefore \\frac{1}{ad-bc}\\begin{bmatrix}\n",
    "d & -b \\\\ -c & a \n",
    "\\end{bmatrix}\n",
    "$"
   ]
  },
  {
   "cell_type": "markdown",
   "id": "b6cbb307-9019-4728-88de-2df9550170f9",
   "metadata": {},
   "source": [
    "# determinant\n",
    "> ### $\n",
    "det(A) = det(A^{T}) \\\\\n",
    "A = \\begin{bmatrix}\n",
    "a_{11} & a_{12} & a_{13} & a_{14} & a_{15} \\\\\n",
    "a_{21} & a_{22} & a_{23} & a_{24} & a_{25} \\\\\n",
    "a_{31} & a_{32} & a_{33} & a_{34} & a_{35} \\\\\n",
    "a_{41} & a_{42} & a_{43} & a_{44} & a_{45} \\\\\n",
    "a_{51} & a_{52} & a_{53} & a_{54} & a_{55} \\\\\n",
    "\\end{bmatrix} \\\\\n",
    "det(A) = \\sum_{k=1}^{n}(-1)^{i+k}a_{ik} M_{ik} =  \\sum_{k=1}^{n}a_{ik}C_{ik}\n",
    "\\\\\n",
    "C_{ij} = (-1)^{i+j}M_{ij}\n",
    "$"
   ]
  },
  {
   "cell_type": "markdown",
   "id": "f3f2b728-95b2-4a07-8234-7e4daedd38b1",
   "metadata": {},
   "source": [
    "# multi linear transformation of determinant\n",
    "# 같은 행벡터가 두개 있을때\n",
    "> ### $ det \\begin{bmatrix} \\vdots \\\\ \\vartriangle \\\\ \\vartriangle \\\\ \\vdots \\end{bmatrix} = 0 = det \\begin{bmatrix} \\vdots \\\\ \\vartriangle \\\\ \\vdots \\\\ \\vartriangle \\\\ \\vdots \\end{bmatrix} $"
   ]
  },
  {
   "cell_type": "markdown",
   "id": "94b495c5-eba7-4b6d-894f-438583ed9f44",
   "metadata": {},
   "source": [
    "# 행교환\n",
    "> ### $ det \\begin{bmatrix} \\vdots \\\\ \\square \\\\ \\vartriangle \\\\ \\vdots \\end{bmatrix} = -det \\begin{bmatrix} \\vdots \\\\ \\square \\\\ \\vartriangle \\\\ \\vdots \\end{bmatrix} \\iff det \\begin{bmatrix} \\vdots \\\\ \\square \\\\ \\vdots \\\\ \\vartriangle \\\\ \\vdots \\end{bmatrix} = -det \\begin{bmatrix} \\vdots \\\\ \\square \\\\ \\vdots \\\\ \\vartriangle \\\\ \\vdots \\end{bmatrix} $"
   ]
  },
  {
   "cell_type": "markdown",
   "id": "77df3d6e-cf86-48f3-aca8-0d25cd2b4ce9",
   "metadata": {
    "tags": []
   },
   "source": [
    "# 상수배후 다른행에 더해주기\n",
    "> ### $ det \\begin{bmatrix} \\vartriangle \\\\ \\vdots \\\\ \\square + s\\vartriangle \\end{bmatrix} \n",
    "= det \\begin{bmatrix} \\vartriangle \\\\ \\vdots \\\\ \\square \\end{bmatrix} \n",
    "+ det \\begin{bmatrix} \\vartriangle \\\\ \\vdots \\\\ s\\vartriangle \\end{bmatrix} \n",
    "= det \\begin{bmatrix} \\vartriangle \\\\ \\vdots \\\\ \\square \\end{bmatrix} \n",
    "+ s\\, det \\begin{bmatrix} \\vartriangle \\\\ \\vdots \\\\ \\vartriangle \\end{bmatrix} $"
   ]
  },
  {
   "cell_type": "markdown",
   "id": "9e9dd22f-d9ba-4bb7-9d91-1af0479dc8fe",
   "metadata": {},
   "source": [
    "# L (low triangle matrix) $\\iff$ U (upper triangle matrix)\n",
    "> ### $\n",
    "det(L) = det\n",
    "\\begin{bmatrix}\n",
    "a_{11} & 0 & \\cdots & 0 \\\\ ? & a_{22} & \\cdots & 0 \\\\ \\vdots & \\ddots & \\ddots & \\vdots  \\\\ ? & ? & \\cdots & a_{nn}\n",
    "\\end{bmatrix}\n",
    "= a_{11} \\times a_{22} \\times \\cdots \\times a_{nn}\n",
    "$"
   ]
  },
  {
   "cell_type": "code",
   "execution_count": 248,
   "id": "852cf2ea-0e7d-430c-a762-1929f0f741bd",
   "metadata": {},
   "outputs": [
    {
     "data": {
      "text/latex": [
       "$\\displaystyle A \\iff det(A)=24$"
      ],
      "text/plain": [
       "<IPython.core.display.Math object>"
      ]
     },
     "metadata": {},
     "output_type": "display_data"
    },
    {
     "data": {
      "text/latex": [
       "$\\displaystyle \\left[\\begin{matrix}0 & 2 & 3\\\\2 & 0 & 3\\\\3 & 1 & 0\\end{matrix}\\right]$"
      ],
      "text/plain": [
       "Matrix([\n",
       "[0, 2, 3],\n",
       "[2, 0, 3],\n",
       "[3, 1, 0]])"
      ]
     },
     "metadata": {},
     "output_type": "display_data"
    },
    {
     "data": {
      "text/latex": [
       "$\\displaystyle A_{r1} \\iff det(A_{r1})=6$"
      ],
      "text/plain": [
       "<IPython.core.display.Math object>"
      ]
     },
     "metadata": {},
     "output_type": "display_data"
    },
    {
     "data": {
      "text/latex": [
       "$\\displaystyle \\left[\\begin{matrix}0 & 0 & 3\\\\2 & 0 & 3\\\\3 & 1 & 0\\end{matrix}\\right]$"
      ],
      "text/plain": [
       "Matrix([\n",
       "[0, 0, 3],\n",
       "[2, 0, 3],\n",
       "[3, 1, 0]])"
      ]
     },
     "metadata": {},
     "output_type": "display_data"
    },
    {
     "data": {
      "text/latex": [
       "$\\displaystyle A_{r2} \\iff det(A_{r2}) = 18$"
      ],
      "text/plain": [
       "<IPython.core.display.Math object>"
      ]
     },
     "metadata": {},
     "output_type": "display_data"
    },
    {
     "data": {
      "text/latex": [
       "$\\displaystyle \\left[\\begin{matrix}0 & 2 & 0\\\\2 & 0 & 3\\\\3 & 1 & 0\\end{matrix}\\right]$"
      ],
      "text/plain": [
       "Matrix([\n",
       "[0, 2, 0],\n",
       "[2, 0, 3],\n",
       "[3, 1, 0]])"
      ]
     },
     "metadata": {},
     "output_type": "display_data"
    },
    {
     "data": {
      "text/markdown": [
       "det(A)=24"
      ],
      "text/plain": [
       "<IPython.core.display.Markdown object>"
      ]
     },
     "metadata": {},
     "output_type": "display_data"
    },
    {
     "data": {
      "text/markdown": [
       "$A^{-1}=$"
      ],
      "text/plain": [
       "<IPython.core.display.Markdown object>"
      ]
     },
     "metadata": {},
     "output_type": "display_data"
    },
    {
     "data": {
      "text/latex": [
       "$\\displaystyle \\left[\\begin{matrix}- \\frac{1}{8} & \\frac{1}{8} & \\frac{1}{4}\\\\\\frac{3}{8} & - \\frac{3}{8} & \\frac{1}{4}\\\\\\frac{1}{12} & \\frac{1}{4} & - \\frac{1}{6}\\end{matrix}\\right]$"
      ],
      "text/plain": [
       "Matrix([\n",
       "[-1/8,  1/8,  1/4],\n",
       "[ 3/8, -3/8,  1/4],\n",
       "[1/12,  1/4, -1/6]])"
      ]
     },
     "metadata": {},
     "output_type": "display_data"
    },
    {
     "data": {
      "text/latex": [
       "$\\displaystyle 1 + 2 i + 3 j + 4 k$"
      ],
      "text/plain": [
       "1 + 2*i + 3*j + 4*k"
      ]
     },
     "execution_count": 248,
     "metadata": {},
     "output_type": "execute_result"
    },
    {
     "data": {
      "application/vnd.jupyter.widget-view+json": {
       "model_id": "cee478abcbe2494d91610ce7757210a6",
       "version_major": 2,
       "version_minor": 0
      },
      "image/png": "[encoded data removed]",
      "text/html": [
       "\n",
       "            <div style=\"display: inline-block;\">\n",
       "                <div class=\"jupyter-widgets widget-label\" style=\"text-align: center;\">\n",
       "                    Figure\n",
       "                </div>\n",
       "                <img src='data:image/png;base64,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' width=640.0/>\n",
       "            </div>\n",
       "        "
      ],
      "text/plain": [
       "Canvas(toolbar=Toolbar(toolitems=[('Home', 'Reset original view', 'home', 'home'), ('Back', 'Back to previous …"
      ]
     },
     "metadata": {},
     "output_type": "display_data"
    }
   ],
   "source": [
    "import sympy as sm\n",
    "import numpy as np\n",
    "import matplotlib.pyplot as plt\n",
    "import IPython as ip\n",
    "A=sm.Matrix([[0,2,3],[2,0,3],[3,1,0]])\n",
    "Ar1=sm.Matrix([[0,0,3],[2,0,3],[3,1,0]])\n",
    "Ar2=sm.Matrix([[0,2,0],[2,0,3],[3,1,0]])\n",
    "C = sm.vector.CoordSys3D('C')\n",
    "c1 = 2*C.j+3*C.k\n",
    "c2 = 2*C.i+1*C.k\n",
    "c3 = 3*C.i+3*C.j\n",
    "q = sm.Quaternion(1,2,3,4)\n",
    "NA=np.array([[0,2,3],[2,0,3],[3,1,0]])\n",
    "NB = np.array(A.tolist())\n",
    "na = np.array([1,1,1])\n",
    "a = np.array([1,1,1])\n",
    "#display(NA,ip.display.Markdown(rf'det(NA)={np.linalg.det(NA)}'),ip.display.Markdown('$NA^{-1}=$'),np.linalg.inv(NA))\n",
    "display(ip.display.Math(f'A \\iff det(A)={A.det()}'),A,\n",
    "        ip.display.Math(f'A_{{r1}} \\iff det(A_{{r1}})={Ar1.det()}'),Ar1,\n",
    "        ip.display.Math(f'A_{{r2}} \\iff det(A_{{r2}}) = {Ar2.det()}'),Ar2,\n",
    "        ip.display.Markdown(rf'det(A)={A.det()}'),ip.display.Markdown('$A^{-1}=$'),A.inv())\n",
    "\n",
    "fig = plt.figure()\n",
    "ax = fig.add_subplot(projection='3d')\n",
    "ax.scatter3D(0,0,0,color='k')\n",
    "ax.scatter3D(1,1,1,color='k')\n",
    "ax.quiver([0],[0],[0],[0],[2],[3],arrow_length_ratio=0.1)\n",
    "ax.quiver([0],[0],[0],[2],[0],[3],arrow_length_ratio=0.1)\n",
    "ax.quiver([0],[0],[0],[3],[1],[0],arrow_length_ratio=0.1)\n",
    "ax.quiver([1],[1],[1],[5-1],[5-1],[4-1],color='k',arrow_length_ratio=0.1)\n",
    "ax.quiver([0],[0],[0],[-1/8],[3/8],[1/12],color='r',arrow_length_ratio=0.5)\n",
    "ax.quiver([0],[0],[0],[1/8],[-3/8],[1/4],color='r',arrow_length_ratio=0.5)\n",
    "ax.quiver([0],[0],[0],[1/4],[1/4],[-1/6],color='r',arrow_length_ratio=0.5)\n",
    "#ax.plot([0,-1/8],[0,3/8],[0,1/12],'r')\n",
    "\n",
    "ax.plot(\n",
    "    [0,5],\n",
    "    [2,5],\n",
    "    [3,4],'r')\n",
    "ax.plot(\n",
    "    [2,5],\n",
    "    [0,5],\n",
    "    [3,4],'r')\n",
    "ax.plot(\n",
    "    [3,5],\n",
    "    [1,5],\n",
    "    [0,4],'r')\n",
    "q"
   ]
  },
  {
   "cell_type": "code",
   "execution_count": 1,
   "id": "e5bc640c-6bc1-48ca-b6d0-c557bcf0f3e1",
   "metadata": {},
   "outputs": [
    {
     "data": {
      "text/latex": [
       "$\\displaystyle \\left[\\begin{matrix}\\frac{2}{5} & - \\frac{1}{5} & 0\\\\- \\frac{1}{5} & \\frac{3}{5} & 0\\\\0 & 0 & 1\\end{matrix}\\right]$"
      ],
      "text/plain": [
       "Matrix([\n",
       "[ 2/5, -1/5, 0],\n",
       "[-1/5,  3/5, 0],\n",
       "[   0,    0, 1]])"
      ]
     },
     "execution_count": 1,
     "metadata": {},
     "output_type": "execute_result"
    },
    {
     "data": {
      "application/vnd.jupyter.widget-view+json": {
       "model_id": "7bb06d0155114b76906f6e9993849bc0",
       "version_major": 2,
       "version_minor": 0
      },
      "image/png": "[encoded data removed]",
      "text/html": [
       "\n",
       "            <div style=\"display: inline-block;\">\n",
       "                <div class=\"jupyter-widgets widget-label\" style=\"text-align: center;\">\n",
       "                    Figure\n",
       "                </div>\n",
       "                <img src='data:image/png;base64,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' width=800.0/>\n",
       "            </div>\n",
       "        "
      ],
      "text/plain": [
       "Canvas(toolbar=Toolbar(toolitems=[('Home', 'Reset original view', 'home', 'home'), ('Back', 'Back to previous …"
      ]
     },
     "metadata": {},
     "output_type": "display_data"
    }
   ],
   "source": [
    "import numpy as np\n",
    "import sympy as sm\n",
    "import sympy.vector\n",
    "N = sm.vector.CoordSys3D('N')\n",
    "\n",
    "# v(3,1), w(1,2) \\iff T([3,1],[1,2])\n",
    "u = 3*N.i + N.j + 0*N.k\n",
    "v = N.i + 2*N.j + 0*N.k\n",
    "w = 0*N.i + 0*N.j + N.k\n",
    "T = u.to_matrix(N).col_insert(1,v.to_matrix(N)).col_insert(2,w.to_matrix(N))\n",
    "T = u.to_matrix(N).row_join(v.to_matrix(N)).row_join(w.to_matrix(N))\n",
    "B = T.inv()\n",
    "# x(x_0, x_1)\n",
    "x0,x1,x2 = sm.symbols('x_0 x_1 x_2')\n",
    "x = sm.Matrix([x0,x1,x2])\n",
    "# sm.vector.matrix_to_vector(x,N)\n",
    "\n",
    "# Tx = h(3,2)\n",
    "h = 3*N.i + 2*N.j + 0*N.k\n",
    "\n",
    "import matplotlib.pyplot as plt\n",
    "%matplotlib widget\n",
    "fig = plt.figure(figsize=(8,8))\n",
    "ax = fig.add_subplot()\n",
    "ax.grid()\n",
    "ax.spines[['left','bottom']].set_position('zero')\n",
    "ax.set_aspect('equal')\n",
    "ax.set_xlim(xmin=-1.1,xmax=5)\n",
    "ax.set_ylim(ymin=-1.1,ymax=5)\n",
    "ax.set_xticks(np.arange(-1,5,1))\n",
    "ax.set_yticks(np.arange(-1,5,1))\n",
    "ax.quiver(0,0,3,1,scale=1,units='xy')\n",
    "ax.quiver(0,0,-1/5,3/5,scale=1,units='xy')\n",
    "ax.annotate(r\"$A_{i,1}=\\vec{e_1}(3,1)$\",(3.1,0.8))\n",
    "ax.quiver(0,0,1,2,scale=1,units='xy')\n",
    "ax.quiver(0,0,2/5,-1/5,scale=1,units='xy')\n",
    "ax.annotate(r'$A_{i,2}=\\vec{e_2}(1,2)$',(0.3,2.2))\n",
    "ax.annotate(r\"${A^{-1}}_{i,1}=\\vec{e_1}(\\frac{2}{5},-\\frac{1}{5})$\",(0.2,-0.5))\n",
    "ax.annotate(r\"${A^{-1}}_{i,2}=\\vec{e_2}(-\\frac{1}{5},\\frac{3}{5})$\",(-1,0.7))\n",
    "ax.quiver(0,0,4,3,scale=1,units='xy')\n",
    "ax.annotate(r'$\\vec{b}(4,3)$',(4.1,3))\n",
    "ax.plot([1,4],[2,2],color='r')\n",
    "ax.plot([1,4],[2,3],color='k')\n",
    "ax.plot([4,4],[2,3],color='r')\n",
    "ax.plot([3,3],[0,1],color='r')\n",
    "ax.plot([0,3],[0,0],color='r')\n",
    "\n",
    "ax.plot([3,4],[1,3],color='k')\n",
    "ax.plot([3,4],[3,3],color='b')\n",
    "ax.plot([0,0],[0,2],color='b')\n",
    "ax.plot([0,1],[2,2],color='b')\n",
    "ax.plot([3,3],[2,3],color='b')\n",
    "ax.plot([3,3],[1,2],color='b')\n",
    "\n",
    "# solve\n",
    "T.inv()*sm.Matrix([3,2,0])\n",
    "(T.inv()*x).T*(h.to_matrix(N))\n",
    "B"
   ]
  },
  {
   "cell_type": "code",
   "execution_count": 77,
   "id": "dedad5fe-39fe-4a02-96ad-c8cb994a06f3",
   "metadata": {},
   "outputs": [
    {
     "data": {
      "text/latex": [
       "$\\displaystyle det(A) = 5$"
      ],
      "text/plain": [
       "<IPython.core.display.Math object>"
      ]
     },
     "metadata": {},
     "output_type": "display_data"
    },
    {
     "data": {
      "text/latex": [
       "$\\displaystyle \\left[\\begin{matrix}3 & 1\\\\1 & 2\\end{matrix}\\right]$"
      ],
      "text/plain": [
       "Matrix([\n",
       "[3, 1],\n",
       "[1, 2]])"
      ]
     },
     "metadata": {},
     "output_type": "display_data"
    },
    {
     "data": {
      "text/latex": [
       "$\\displaystyle det(B_1) = -1$"
      ],
      "text/plain": [
       "<IPython.core.display.Math object>"
      ]
     },
     "metadata": {},
     "output_type": "display_data"
    },
    {
     "data": {
      "text/latex": [
       "$\\displaystyle \\left[\\begin{matrix}0 & 1\\\\1 & 2\\end{matrix}\\right]$"
      ],
      "text/plain": [
       "Matrix([\n",
       "[0, 1],\n",
       "[1, 2]])"
      ]
     },
     "metadata": {},
     "output_type": "display_data"
    },
    {
     "data": {
      "text/latex": [
       "$\\displaystyle det(B2) = 6$"
      ],
      "text/plain": [
       "<IPython.core.display.Math object>"
      ]
     },
     "metadata": {},
     "output_type": "display_data"
    },
    {
     "data": {
      "text/latex": [
       "$\\displaystyle \\left[\\begin{matrix}3 & 0\\\\1 & 2\\end{matrix}\\right]$"
      ],
      "text/plain": [
       "Matrix([\n",
       "[3, 0],\n",
       "[1, 2]])"
      ]
     },
     "metadata": {},
     "output_type": "display_data"
    },
    {
     "data": {
      "text/latex": [
       "$\\displaystyle det(B1)+det(B2) = 5\\\\ det(C1) = -1$"
      ],
      "text/plain": [
       "<IPython.core.display.Math object>"
      ]
     },
     "metadata": {},
     "output_type": "display_data"
    },
    {
     "data": {
      "text/latex": [
       "$\\displaystyle \\left[\\begin{matrix}0 & 1\\\\1 & 0\\end{matrix}\\right]$"
      ],
      "text/plain": [
       "Matrix([\n",
       "[0, 1],\n",
       "[1, 0]])"
      ]
     },
     "metadata": {},
     "output_type": "display_data"
    },
    {
     "data": {
      "text/latex": [
       "$\\displaystyle det(C2) = 6$"
      ],
      "text/plain": [
       "<IPython.core.display.Math object>"
      ]
     },
     "metadata": {},
     "output_type": "display_data"
    },
    {
     "data": {
      "text/latex": [
       "$\\displaystyle \\left[\\begin{matrix}3 & 0\\\\0 & 2\\end{matrix}\\right]$"
      ],
      "text/plain": [
       "Matrix([\n",
       "[3, 0],\n",
       "[0, 2]])"
      ]
     },
     "metadata": {},
     "output_type": "display_data"
    },
    {
     "data": {
      "text/latex": [
       "$\\displaystyle det(C_1+C_2) = 5$"
      ],
      "text/plain": [
       "<IPython.core.display.Math object>"
      ]
     },
     "metadata": {},
     "output_type": "display_data"
    }
   ],
   "source": [
    "import sympy as sm\n",
    "#from IPython.display import display, Markdown\n",
    "import IPython as ip\n",
    "A = sm.Matrix([[3,1], [1,2]])\n",
    "\n",
    "B1 = sm.Matrix([[0,1],[1,2]])\n",
    "B2 = sm.Matrix([[3,0],[1,2]])\n",
    "#C=A\n",
    "#C.row_del(0)\n",
    "#C.row_insert(0,B1.row(0)+B2.row(0))\n",
    "#C.row(0).col(0)\n",
    "C1 = sm.Matrix([[0,1],[1,0]])\n",
    "C2 = sm.Matrix([[3,0],[0,2]])\n",
    "\n",
    "display(ip.display.Math(rf\"\"\"det(A) = {A.det()}\"\"\"),\n",
    "A,\n",
    "ip.display.Math(rf\"\"\"det(B_1) = {B1.det()}\"\"\"),\n",
    "B1,\n",
    "ip.display.Math(rf\"\"\"det(B2) = {B2.det()}\"\"\"),\n",
    "B2,\n",
    "ip.display.Math(rf\"\"\"det(B1)+det(B2) = {B1.det()+B2.det()}\\\\ det(C1) = {C1.det()}\"\"\"),\n",
    "C1,\n",
    "ip.display.Math(rf\"\"\"det(C2) = {C2.det()}\"\"\"),\n",
    "C2,\n",
    "ip.display.Math(rf\"\"\"det(C_1+C_2) = {(C1+C2).det()}\"\"\"))\n"
   ]
  },
  {
   "cell_type": "markdown",
   "id": "b2ff2afb-1d7a-4bb3-87b1-cee52ef57103",
   "metadata": {},
   "source": [
    "# [determinant & inverse matrix meanning](https://www.youtube.com/watch?v=CLS3Z9jbZw4&list=PLIxff5DJJR7oBEy0Kdg12WWSlS6XFtr6r&index=33)"
   ]
  },
  {
   "cell_type": "code",
   "execution_count": 29,
   "id": "a0dbe86f-aac5-46e0-ab72-9a0c122c0b47",
   "metadata": {},
   "outputs": [
    {
     "ename": "NameError",
     "evalue": "name 'N' is not defined",
     "output_type": "error",
     "traceback": [
      "\u001b[0;31m---------------------------------------------------------------------------\u001b[0m",
      "\u001b[0;31mNameError\u001b[0m                                 Traceback (most recent call last)",
      "\u001b[0;32m/tmp/ipykernel_9637/1396062902.py\u001b[0m in \u001b[0;36m<module>\u001b[0;34m\u001b[0m\n\u001b[1;32m      1\u001b[0m \u001b[0;31m# v(3,1), w(2,2) \\iff T([3,1],[2,2]) , b=(3,2)\u001b[0m\u001b[0;34m\u001b[0m\u001b[0;34m\u001b[0m\u001b[0m\n\u001b[1;32m      2\u001b[0m \u001b[0;31m# https://www.youtube.com/watch?v=CLS3Z9jbZw4&list=PLIxff5DJJR7oBEy0Kdg12WWSlS6XFtr6r&index=33\u001b[0m\u001b[0;34m\u001b[0m\u001b[0;34m\u001b[0m\u001b[0m\n\u001b[0;32m----> 3\u001b[0;31m \u001b[0mu\u001b[0m \u001b[0;34m=\u001b[0m \u001b[0;36m3\u001b[0m\u001b[0;34m*\u001b[0m\u001b[0mN\u001b[0m\u001b[0;34m.\u001b[0m\u001b[0mi\u001b[0m \u001b[0;34m+\u001b[0m \u001b[0mN\u001b[0m\u001b[0;34m.\u001b[0m\u001b[0mj\u001b[0m \u001b[0;34m+\u001b[0m \u001b[0;36m0\u001b[0m\u001b[0;34m*\u001b[0m\u001b[0mN\u001b[0m\u001b[0;34m.\u001b[0m\u001b[0mk\u001b[0m\u001b[0;34m\u001b[0m\u001b[0;34m\u001b[0m\u001b[0m\n\u001b[0m\u001b[1;32m      4\u001b[0m \u001b[0mv\u001b[0m \u001b[0;34m=\u001b[0m \u001b[0;36m2\u001b[0m\u001b[0;34m*\u001b[0m\u001b[0mN\u001b[0m\u001b[0;34m.\u001b[0m\u001b[0mi\u001b[0m \u001b[0;34m+\u001b[0m \u001b[0;36m2\u001b[0m\u001b[0;34m*\u001b[0m\u001b[0mN\u001b[0m\u001b[0;34m.\u001b[0m\u001b[0mj\u001b[0m \u001b[0;34m+\u001b[0m \u001b[0;36m0\u001b[0m\u001b[0;34m*\u001b[0m\u001b[0mN\u001b[0m\u001b[0;34m.\u001b[0m\u001b[0mk\u001b[0m\u001b[0;34m\u001b[0m\u001b[0;34m\u001b[0m\u001b[0m\n\u001b[1;32m      5\u001b[0m \u001b[0mw\u001b[0m \u001b[0;34m=\u001b[0m \u001b[0;36m0\u001b[0m\u001b[0;34m*\u001b[0m\u001b[0mN\u001b[0m\u001b[0;34m.\u001b[0m\u001b[0mi\u001b[0m \u001b[0;34m+\u001b[0m \u001b[0;36m0\u001b[0m\u001b[0;34m*\u001b[0m\u001b[0mN\u001b[0m\u001b[0;34m.\u001b[0m\u001b[0mj\u001b[0m \u001b[0;34m+\u001b[0m \u001b[0mN\u001b[0m\u001b[0;34m.\u001b[0m\u001b[0mk\u001b[0m\u001b[0;34m\u001b[0m\u001b[0;34m\u001b[0m\u001b[0m\n",
      "\u001b[0;31mNameError\u001b[0m: name 'N' is not defined"
     ]
    }
   ],
   "source": [
    "# v(3,1), w(2,2) \\iff T([3,1],[2,2]) , b=(3,2)\n",
    "# https://www.youtube.com/watch?v=CLS3Z9jbZw4&list=PLIxff5DJJR7oBEy0Kdg12WWSlS6XFtr6r&index=33\n",
    "u = 3*N.i + N.j + 0*N.k\n",
    "v = 2*N.i + 2*N.j + 0*N.k\n",
    "w = 0*N.i + 0*N.j + N.k\n",
    "T = u.to_matrix(N).col_insert(1,v.to_matrix(N)).col_insert(2,w.to_matrix(N))\n",
    "T = u.to_matrix(N).row_join(v.to_matrix(N)).row_join(w.to_matrix(N))\n",
    "\n",
    "# x(x_0, x_1)\n",
    "x1,x2,x3 = sm.symbols('x_1 x_2 x_3')\n",
    "x = sm.Matrix([x1,x2,x3])\n",
    "\n",
    "# Tx = h(3,2)\n",
    "h = 3*N.i + 2*N.j + 0*N.k\n",
    "\n",
    "import matplotlib.pyplot as plt\n",
    "%matplotlib widget\n",
    "fig = plt.figure(figsize=(8,8))\n",
    "ax = fig.add_subplot()\n",
    "ax.grid()\n",
    "#ax.spines[['left','bottom']].set_position('zero')\n",
    "ax.axhline()\n",
    "ax.axvline()\n",
    "ax.set_aspect('equal')\n",
    "ax.set_xlim(xmin=-2,xmax=4)\n",
    "ax.set_ylim(ymin=-2,ymax=4)\n",
    "ax.set_xticks(np.arange(-2,4,1/4))\n",
    "ax.set_xticklabels(ax.get_xticks(),rotation=45)\n",
    "ax.set_yticks(np.arange(-2,4,1/4))\n",
    "# u(3,1,0)\n",
    "ax.quiver(0,0,3,1,scale=1,units='xy')\n",
    "ax.annotate(r\"$T^1=u(3,1)$\",(3,1))\n",
    "# v(2,2,0)\n",
    "ax.quiver(0,0,2,2,scale=1,units='xy')\n",
    "ax.annotate(r\"$T^2v(2,2)$\",(2,2))\n",
    "# b(3,2)\n",
    "ax.scatter(3,2,color='r')\n",
    "ax.annotate(\"b(3,2)\",(3,2))\n",
    "# T.inv()  = [1/2, -1/2], [-1/4, 3/4]\n",
    "# new axix of N.i (1/2, -1/2)\n",
    "# new axix of N.j (-1/4, 3/4)\n",
    "B = T.inv()\n",
    "ax.quiver(0,0,1/2,-1/2,scale=1,units='xy')\n",
    "ax.annotate(r\"$B_{1}=\\hat{e_1}( \\frac{1}{2}, \\frac{-1}{2})$\",(1/2,-1/2))\n",
    "ax.quiver(0,0,-1/4,3/4,scale=1,units='xy')\n",
    "ax.annotate(r\"$B_{2}=\\hat{e_2}(\\frac{-1}{4}, \\frac{3}{4})$\",(-1/4,3/4))\n",
    "\n",
    "# B_i * h = x_i\n",
    "# B_0 * h = x_0\n",
    "B.row(0)*(h.to_matrix(N))"
   ]
  },
  {
   "cell_type": "code",
   "execution_count": 5,
   "id": "a56d87e9-4a6d-4f50-8370-7b5b1c548e81",
   "metadata": {},
   "outputs": [],
   "source": [
    "#%%javascript\n",
    "#MathJax.Hub.Config({\n",
    "#    TeX: { equationNumbers: { autoNumber: \"AMS\" } }\n",
    "#});"
   ]
  },
  {
   "cell_type": "markdown",
   "id": "9c1eda66-713b-487c-9127-3df9880f0501",
   "metadata": {},
   "source": [
    "# 1 by 1 determinat\n",
    "> ### $\n",
    "Tx = h \\\\\n",
    "x = \\frac{b}{a}\n",
    "$\n",
    "# 2 by 2 determinant\n",
    "> ### $\n",
    "\\begin{align}\n",
    "& ax + by = u  \\label{eq1}\\tag{1}\\\\\n",
    "& cx + dy = v  \\label{eq2}\\tag{2}\\\\\n",
    "& adx + bdy = ud & \\eqref{eq1} \\times d \\label{eq3}\\tag{3}\\\\\\\n",
    "& bcx + bdy = bv & \\eqref{eq2} \\times b \\label{eq4}\\tag{4}\\\\\n",
    "& (ad - bc)x = ud - bv & \\eqref{eq3} - \\eqref{eq4} \\\\\n",
    "\\therefore x = \\frac{ud - bv}{ad - bc} & \\\\\n",
    "\\end{align}\n",
    "$\n",
    "> ### 행교환 $\\iff$ 부호가 바뀜\n",
    ">> ### $\n",
    "cx + dy = v \\\\\n",
    "ax + by = u \\\\\n",
    "x = \\frac{bv - ud}{bc - ad}\n",
    "$"
   ]
  },
  {
   "cell_type": "markdown",
   "id": "8d11a51b-0c69-4047-b170-48dcd5c808b3",
   "metadata": {
    "tags": []
   },
   "source": [
    "# 3 by 3 determinant\n",
    "> ### $ \n",
    "a_1x + b_1y + c_1z = u\\\\\n",
    "a_2x + b_2y + c_2z = v\\\\\n",
    "a_3x + b_3y + c_3z = w\\\\\n",
    "\\therefore \n",
    "|A| = det(A)$\n",
    ">> ### $$\n",
    "x = \n",
    "\\frac{\n",
    "u\\begin{vmatrix}b_2 & c_2 \\\\ b_3 & c_3\\end{vmatrix} - \n",
    "v\\begin{vmatrix}b_1 & c_1 \\\\ b_3 & c_3\\end{vmatrix} +\n",
    "w\\begin{vmatrix}b_1 & c_1 \\\\ b_2 & c_2\\end{vmatrix}\n",
    "}\n",
    "{\n",
    "a_1\\begin{vmatrix}b_2 & c_2 \\\\ b_3 & c_3\\end{vmatrix} - \n",
    "a_2\\begin{vmatrix}b_1 & c_1 \\\\ b_3 & c_3\\end{vmatrix} +\n",
    "a_3\\begin{vmatrix}b_1 & c_1 \\\\ b_2 & c_2\\end{vmatrix}\n",
    "}\n",
    "$$"
   ]
  },
  {
   "cell_type": "markdown",
   "id": "4a1478ff-360b-4902-843a-9b66d8a30a4d",
   "metadata": {},
   "source": []
  },
  {
   "cell_type": "markdown",
   "id": "fd4378eb-e8c8-42b4-8136-d5c80a9ec1bd",
   "metadata": {},
   "source": [
    "# 행이나 열이 서로 비례하는 성분이 2개 행열식은 0이된다.\n",
    "> ### 서로 다른 두점$(x_0,x_2),(y_0,y_1)$을 지나는 직선의 방정식은 행열식이 0이 되어야 함으로\n",
    ">> ### $\n",
    "det (A) \\Rightarrow\n",
    "\\begin{align}\n",
    "\\begin{vmatrix}\n",
    "1 & x & y \\\\ 1 & x_0 & y_0 \\\\ 1 & x_0 & y_1\n",
    "\\end{vmatrix} = 0\n",
    "\\end{align}\n",
    "$\n",
    "> ### 서로 다른 세점$(x_0,y_0),(x_1,y_1),(x_2,y_2)$을 지나는 직선의 방정식은 행열식이 0이 되어야 함으로\n",
    ">> ### $\n",
    "det (A) \\Rightarrow\n",
    "\\begin{align}\n",
    "\\begin{vmatrix}\n",
    "1 & x & x^2 & y \\\\ 1 & x_0 & x_0^2 & y_0 \\\\ 1 & x_1 & x_1^2 & y_1 \\\\ 1 & x_2 & x_2^2 & y_2\n",
    "\\end{vmatrix} = 0\n",
    "\\end{align}\n",
    "$"
   ]
  },
  {
   "cell_type": "code",
   "execution_count": 6,
   "id": "d2632c22-74e5-4c23-8f9e-94bc6d4cfa83",
   "metadata": {},
   "outputs": [
    {
     "data": {
      "text/latex": [
       "$\\displaystyle \\left[\\begin{matrix}1 & 2\\\\3 & 4\\end{matrix}\\right]$"
      ],
      "text/plain": [
       "Matrix([\n",
       "[1, 2],\n",
       "[3, 4]])"
      ]
     },
     "execution_count": 6,
     "metadata": {},
     "output_type": "execute_result"
    }
   ],
   "source": [
    "T\n",
    "T1 = sm.Matrix([[1,2],[3,4]])\n",
    "T1"
   ]
  },
  {
   "cell_type": "code",
   "execution_count": 7,
   "id": "c33e3a24-abfe-4cf4-9611-e1bb061e30af",
   "metadata": {},
   "outputs": [
    {
     "data": {
      "text/latex": [
       "$\\displaystyle 4$"
      ],
      "text/plain": [
       "4"
      ]
     },
     "execution_count": 7,
     "metadata": {},
     "output_type": "execute_result"
    }
   ],
   "source": [
    "# Minor matrix (소행열)\n",
    "T.minor_submatrix(0,0)\n",
    "T.minorEntry(0,1)\n",
    "T.minorMatrix(0,1)\n",
    "T1.minorMatrix(0,0)\n",
    "T1.minorEntry(0,0)"
   ]
  },
  {
   "cell_type": "code",
   "execution_count": 8,
   "id": "905c5b80-2c7a-4219-b477-7fc51b26523f",
   "metadata": {},
   "outputs": [
    {
     "data": {
      "text/latex": [
       "$\\displaystyle \\left[\\begin{matrix}2 & -1 & 0\\\\-2 & 3 & 0\\\\0 & 0 & 4\\end{matrix}\\right]$"
      ],
      "text/plain": [
       "Matrix([\n",
       "[ 2, -1, 0],\n",
       "[-2,  3, 0],\n",
       "[ 0,  0, 4]])"
      ]
     },
     "execution_count": 8,
     "metadata": {},
     "output_type": "execute_result"
    }
   ],
   "source": [
    "# cofactor (여인수)\n",
    "T.cofactor(0,0)\n",
    "T1.cofactor(0,0)\n",
    "# cofactor Matrix(여인수 행열)\n",
    "T1.cofactorMatrix()\n",
    "T.cofactorMatrix()"
   ]
  },
  {
   "cell_type": "code",
   "execution_count": 9,
   "id": "1e94e8af-99f7-46a9-bca1-28c181215917",
   "metadata": {},
   "outputs": [
    {
     "data": {
      "text/latex": [
       "$\\displaystyle \\left[\\begin{matrix}1 & 2\\\\0 & -2\\end{matrix}\\right]$"
      ],
      "text/plain": [
       "Matrix([\n",
       "[1,  2],\n",
       "[0, -2]])"
      ]
     },
     "execution_count": 9,
     "metadata": {},
     "output_type": "execute_result"
    }
   ],
   "source": [
    "# elementary column operation(기본행 연산)\n",
    "# elementary row operation(기본열 연산)\n",
    "# n->n+km : n=col1, m=col2\n",
    "T1.elementary_row_op(op=\"n->n+km\",row=1,k=-3,row2=0)"
   ]
  },
  {
   "cell_type": "code",
   "execution_count": 10,
   "id": "54183f45-f658-4e94-bd59-43f42d8e6655",
   "metadata": {},
   "outputs": [
    {
     "data": {
      "text/latex": [
       "$\\displaystyle \\left[\\begin{matrix}2 & -2 & 0\\\\-1 & 3 & 0\\\\0 & 0 & 4\\end{matrix}\\right]$"
      ],
      "text/plain": [
       "Matrix([\n",
       "[ 2, -2, 0],\n",
       "[-1,  3, 0],\n",
       "[ 0,  0, 4]])"
      ]
     },
     "execution_count": 10,
     "metadata": {},
     "output_type": "execute_result"
    }
   ],
   "source": [
    "# adjoint (수반행열) = (cofactor matrix).transpose()\n",
    "# adjugate in sympy\n",
    "# jugate (쌍으로 되어있는)\n",
    "T1.adjugate()\n",
    "T.adjugate()"
   ]
  },
  {
   "cell_type": "code",
   "execution_count": 11,
   "id": "d0e631c4-b2ae-4a50-b690-d9cded86550e",
   "metadata": {},
   "outputs": [
    {
     "data": {
      "text/plain": [
       "(Matrix([\n",
       " [1, 0, 0],\n",
       " [0, 1, 0],\n",
       " [0, 0, 1]]),\n",
       " (0, 1, 2))"
      ]
     },
     "execution_count": 11,
     "metadata": {},
     "output_type": "execute_result"
    }
   ],
   "source": [
    "T1.echelon_form()\n",
    "\n",
    "# rref = reduce row echelon form\n",
    "ref, pivots = T1.rref()\n",
    "# 행사다리(echelon) 꼴(form)\n",
    "T.echelon_form()\n",
    "T.rref()"
   ]
  },
  {
   "cell_type": "markdown",
   "id": "86783eac-0667-4c5f-b281-e85e68e09115",
   "metadata": {},
   "source": [
    "# adjoin matrix\n",
    "> ### cofactor\n",
    ">> ### $\n",
    "C_{ij} = (-1)^{i+j}M_{ij} \\in \\mathbb R\n",
    "$"
   ]
  },
  {
   "cell_type": "code",
   "execution_count": null,
   "id": "a0c0cbe4-1779-4980-8f87-e58ed0b9266c",
   "metadata": {},
   "outputs": [],
   "source": []
  }
 ],
 "metadata": {
  "kernelspec": {
   "display_name": "Python 3 (ipykernel)",
   "language": "python",
   "name": "python3"
  },
  "language_info": {
   "codemirror_mode": {
    "name": "ipython",
    "version": 3
   },
   "file_extension": ".py",
   "mimetype": "text/x-python",
   "name": "python",
   "nbconvert_exporter": "python",
   "pygments_lexer": "ipython3",
   "version": "3.10.2"
  }
 },
 "nbformat": 4,
 "nbformat_minor": 5
}
