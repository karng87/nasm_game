{
 "cells": [
  {
   "cell_type": "code",
   "execution_count": 3,
   "id": "b90f49b4-c0a6-4ae7-b08c-804497be40c2",
   "metadata": {
    "tags": []
   },
   "outputs": [
    {
     "data": {
      "text/html": [
       "\n",
       "        <iframe\n",
       "            width=\"600\"\n",
       "            height=\"400\"\n",
       "            src=\"https://www.youtube.com/embed/https://www.youtube.com/watch?v=ypUqQWYZTJs&list=PLIxff5DJJR7oBEy0Kdg12WWSlS6XFtr6r&index=28\"\n",
       "            frameborder=\"0\"\n",
       "            allowfullscreen\n",
       "            \n",
       "        ></iframe>\n",
       "        "
      ],
      "text/plain": [
       "<IPython.lib.display.YouTubeVideo at 0x7f1a0d2d2920>"
      ]
     },
     "execution_count": 3,
     "metadata": {},
     "output_type": "execute_result"
    }
   ],
   "source": [
    "import IPython as Ipy\n",
    "Ipy.display.YouTubeVideo('https://www.youtube.com/watch?v=ypUqQWYZTJs&list=PLIxff5DJJR7oBEy0Kdg12WWSlS6XFtr6r&index=28',width= 600,height=400)"
   ]
  },
  {
   "cell_type": "markdown",
   "id": "766bc69b-dd9d-4ed9-9719-f8bfc5ac12ed",
   "metadata": {},
   "source": [
    "# [Linearity](https://www.youtube.com/watch?v=ypUqQWYZTJs&list=PLIxff5DJJR7oBEy0Kdg12WWSlS6XFtr6r&index=28)\n",
    "> ### $ f(x) = \\color{magenta}{a}x $\n",
    ">> ### $\n",
    "f(\\vartriangle + \\;\\square) = a\\vartriangle + a\\; \\square\\\\\n",
    "f(\\vartriangle + \\; \\square) = f(\\vartriangle) + f(\\square) \\\\\n",
    "f(\\vartriangle + \\; 0) = f(\\vartriangle) + f(0), \\;s.t\\; \\square = 0 \\\\\n",
    "f(0) = 0 \\\\\n",
    "f(s\\vartriangle) = sf(\\vartriangle)\n",
    "$\n",
    "# Non linearity\n",
    "> ### $ g(x) = ax + \\color{magenta}{b}$\n",
    ">> ### $\n",
    "g(\\vartriangle + \\square) = a \\vartriangle + a\\square  + b \\\\\n",
    "\\therefore  g(\\vartriangle + \\square) \\neq g(\\vartriangle) + g(\\square)\n",
    "$"
   ]
  },
  {
   "cell_type": "markdown",
   "id": "3b5cbe7f-157b-43af-bc3a-58a3f647a323",
   "metadata": {},
   "source": [
    "# Linearity of determinant\n",
    "> ### row lineartity $\n",
    "\\begin{vmatrix}\n",
    "\\vartriangle_1 + \\; \\square_1 &  \\vartriangle_2 + \\; \\square_2 \\\\ \n",
    "c & d\n",
    "\\end{vmatrix}\n",
    "=\n",
    "\\begin{vmatrix}\n",
    "\\vartriangle_1 &  \\vartriangle_2 \\\\ \n",
    "c & d\n",
    "\\end{vmatrix}\n",
    "+ \\begin{vmatrix}\n",
    "\\square_1 & \\square_2 \\\\ \n",
    "c & d\n",
    "\\end{vmatrix}\n",
    "$"
   ]
  },
  {
   "cell_type": "markdown",
   "id": "060e17fe-56bf-40e7-9a61-7c21f5457b27",
   "metadata": {},
   "source": [
    "> ### column lineartity $\n",
    "\\begin{vmatrix}\n",
    "\\color{magenta}{\\vartriangle_1 + \\; \\square_1} & b \\\\\n",
    "\\color{magenta}{\\vartriangle_2 + \\; \\square_2} & d \\\\\n",
    "\\end{vmatrix}\n",
    "=\n",
    "\\begin{vmatrix}\n",
    "\\color{magenta}{\\vartriangle_1} & b \\\\\n",
    "\\color{magenta}{\\vartriangle_2} & d \\\\\n",
    "\\end{vmatrix}\n",
    "+ \\begin{vmatrix}\n",
    "\\color{magenta}{\\square_1} & b \\\\\n",
    "\\color{magenta}{\\square_2} & d \\\\ \n",
    "\\end{vmatrix}\n",
    "$"
   ]
  },
  {
   "cell_type": "markdown",
   "id": "f2ab22fc-4077-44aa-9093-384c79d92e1b",
   "metadata": {},
   "source": [
    "> ### non-lineartity of entry $\n",
    "\\begin{vmatrix}\n",
    "\\vartriangle_1 + \\; \\square_1 & b \\\\\n",
    "\\vartriangle_2 & d \\\\\n",
    "\\end{vmatrix}\n",
    "\\neq\n",
    "\\begin{vmatrix}\n",
    "\\vartriangle_1 & b \\\\\n",
    "\\vartriangle_2 & d \\\\\n",
    "\\end{vmatrix}\n",
    "+ \\begin{vmatrix}\n",
    "\\square_1 & b \\\\\n",
    "\\vartriangle_2 & d \\\\ \n",
    "\\end{vmatrix}\n",
    "\\\\\n",
    "\\because \\text{ not curve}\n",
    "$"
   ]
  },
  {
   "cell_type": "markdown",
   "id": "0a778032-63fa-413d-bc40-fe7e0f40f84a",
   "metadata": {},
   "source": [
    "> ### lineartity $\n",
    "\\begin{vmatrix}\n",
    "\\vartriangle_1 + \\; \\square_1 & b \\\\\n",
    "\\vartriangle_2 + \\; \\color{magenta}{0} & d \\\\\n",
    "\\end{vmatrix}\n",
    "= \\begin{vmatrix}\n",
    "\\vartriangle_1 & b \\\\\n",
    "\\vartriangle_2 & d \\\\\n",
    "\\end{vmatrix}\n",
    "+ \\begin{vmatrix}\n",
    "\\square_1 & b \\\\\n",
    "\\color{magenta}{0} & d \\\\ \n",
    "\\end{vmatrix}\n",
    "$"
   ]
  },
  {
   "cell_type": "markdown",
   "id": "fc8e6f80-cb18-4342-8660-04bf170e3561",
   "metadata": {},
   "source": [
    "> ### non-lineartity - diagnonal $\n",
    "\\begin{vmatrix}\n",
    "\\vartriangle_1 + \\; \\square_1 & b \\\\\n",
    "c & \\vartriangle_2 + \\; \\square_2 \\\\\n",
    "\\end{vmatrix}\n",
    "\\neq\n",
    "\\begin{vmatrix}\n",
    "\\vartriangle_1 & b \\\\\n",
    "c & \\vartriangle_2 \\\\\n",
    "\\end{vmatrix}\n",
    "+ \\begin{vmatrix}\n",
    "\\square_1 & b \\\\\n",
    "c & \\square_2 \\\\ \n",
    "\\end{vmatrix}\n",
    "$"
   ]
  },
  {
   "cell_type": "markdown",
   "id": "99a4e1d7-eeaa-4a6d-a8f5-6ceddd8daecd",
   "metadata": {},
   "source": [
    "# multi-linear of determinant\n",
    "> ### $\n",
    "\\big|A\\big| = det(A) = \\sum_{j} a_{ij}C_{ij} \\\\\n",
    "\\big|A\\big| = det(A) = \\sum_{j} a_{ji}C_{ji} \\\\\n",
    "$\n",
    ">> ### Minor Matrix\n",
    ">>> ### $\n",
    "\\begin{bmatrix}\n",
    "a_{11} & a_{12} & a_{13} & \\cdots & a_{1n} \\\\\n",
    "a_{21} & M_{11} & M_{12} & \\cdots & M_{1,n-1} \\\\\n",
    "a_{31} & M_{21} & M_{22} & \\cdots & M_{2,n-1} \\\\\n",
    "\\vdots & \\ddots & \\ddots & \\ddots & \\vdots \\\\\n",
    "a_{n1} & M_{n-1,1} & M_{n-1,2} & \\cdots & M_{n-1,n-1} \\\\\n",
    "\\end{bmatrix}\n",
    "$\n",
    ">> ### Cofactor Matrix\n",
    ">>> ### $\n",
    "C_{ij} = (-1)^{i+j}M_{ij}\n",
    "$"
   ]
  },
  {
   "cell_type": "markdown",
   "id": "2e886904-28bf-4ef6-be9f-fb4ded510f5e",
   "metadata": {},
   "source": [
    "> ### arbitary i row determinant = arbitary j column determinant \n",
    ">> ### $ det(A) = det\\big[a_{i}\\big] = \\sum_{j}a_{ij}C_{ij} $\n",
    ">>> ### $ det(A) = det\\big[ 0 \\big] = \\sum_{j}(0)C_{ij} = 0 $\n",
    ">>> ### $ det(A) = det\\big[ sa_{i} \\big] = \\sum_{j}sa_{ij}C_{ij} = s\\sum_{ij}C_{ij}= s\\; \\det(A) $"
   ]
  },
  {
   "cell_type": "markdown",
   "id": "1bda1c32-920b-41ce-8801-8028207483f1",
   "metadata": {},
   "source": [
    "> ### determinant having a same row or column matrix \n",
    ">> ### $\n",
    "det\\begin{bmatrix} \n",
    "\\check {\\vartriangle}\n",
    "\\\\ \\vartriangle\n",
    "\\end{bmatrix}\n",
    "= \\sum_j \\vartriangle_{i,j}(-1)^{i+j}M_{ij}\n",
    "\\\\\n",
    "det\\begin{bmatrix} \n",
    "\\vartriangle\n",
    "\\\\ \\check{\\vartriangle}\n",
    "\\end{bmatrix}\n",
    "= \\sum_j \\vartriangle_{i+1,j}(-1)^{i+1+j}M_{i+1,j}\n",
    "\\\\\\qquad \\quad = -\\sum_j \\vartriangle_{ij}(-1)^{i+j}M_{ij}\n",
    "$\n",
    ">>> ### 어떤 row 나 column을 선택해도 determimant는 같으므로\n",
    ">>>> ### $\n",
    "det \\left[ \\begin{array}{r} \\vartriangle \\\\ \\vartriangle \\end{array} \\right]\n",
    "= - det \\left[ \\begin{array}{r} \\vartriangle \\\\ \\vartriangle \\end{array} \\right]\n",
    "\\\\\n",
    "\\therefore det \\left[ \n",
    "\\begin{array}{c}\\vartriangle \\\\ \\vartriangle \\end{array}\\right] = 0\n",
    "\\\\\n",
    "\\therefore det \\left[ \n",
    "\\begin{array}{c}\\vartriangle \\\\ \\vdots \\\\ \\vartriangle \\end{array}\\right] = 0\n",
    "$"
   ]
  },
  {
   "cell_type": "markdown",
   "id": "ee1701dc-fe73-40aa-a6da-b9179d7eb584",
   "metadata": {},
   "source": [
    "> ### determinant having a same row or column matrix \n",
    ">> ### $\n",
    "0 = det\\begin{bmatrix} \n",
    "\\vartriangle +\\;\\square \n",
    "\\\\ \\vartriangle +\\; \\square \n",
    "\\end{bmatrix}\n",
    "= \n",
    "det\\begin{bmatrix} \n",
    "\\vartriangle \n",
    "\\\\ \\vartriangle +\\; \\square \n",
    "\\end{bmatrix}\n",
    "+\n",
    "det\\begin{bmatrix} \n",
    "\\square \n",
    "\\\\ \\vartriangle +\\; \\square \n",
    "\\end{bmatrix}\n",
    "$"
   ]
  },
  {
   "cell_type": "markdown",
   "id": "5decd330-68aa-48de-9a55-3fbac379a68c",
   "metadata": {},
   "source": [
    ">> ### $ \n",
    "0 = \n",
    "\\underbrace{\n",
    "det\\begin{bmatrix} \n",
    "\\vartriangle \n",
    "\\\\ \\vartriangle\n",
    "\\end{bmatrix}}_{0}\n",
    "+\n",
    "det\\begin{bmatrix} \n",
    "\\vartriangle\n",
    "\\\\ \\square\n",
    "\\end{bmatrix}\n",
    "+\n",
    "det\\begin{bmatrix} \n",
    "\\square\n",
    "\\\\ \\vartriangle\n",
    "\\end{bmatrix}\n",
    "+\n",
    "\\underbrace{\n",
    "det\\begin{bmatrix} \n",
    "\\square \n",
    "\\\\\\square \n",
    "\\end{bmatrix}}_{0}\n",
    "\\\\\n",
    "\\therefore 0 = \\left[ \\begin{array}{c}\\vartriangle \\\\ \\square \\end{array} \\right]\n",
    "+ \\left[ \\begin{array}{c}\\square \\\\ \\vartriangle \\end{array} \\right]\n",
    "\\\\ \\therefore \\left[ \\begin{array}{c}\\vartriangle \\\\ \\square \\end{array} \\right]\n",
    "= - \\left[ \\begin{array}{c}\\square \\\\ \\vartriangle \\end{array} \\right]\n",
    "$\n",
    "> ### 행교환\n",
    ">> ### $\n",
    "0 = det\\begin{bmatrix} \n",
    "\\vartriangle +\\;\\square \\\\ \\vdots\n",
    "\\\\ \\vartriangle +\\; \\square \n",
    "\\end{bmatrix} \n",
    "\\\\ \n",
    "\\therefore\n",
    "\\left[ \\begin{array}{c}\\vartriangle \\\\ \\vdots \\\\ \\square \\end{array} \\right]\n",
    "= - \\left[ \\begin{array}{c}\\square \\\\ \\vdots \\\\ \\vartriangle \\end{array} \\right]\n",
    "$"
   ]
  },
  {
   "cell_type": "markdown",
   "id": "c8a0857c-6fc8-472c-a312-b8734375624d",
   "metadata": {},
   "source": [
    "# addtion of determinant\n",
    "> ### $\n",
    "det \\left[ \n",
    "\\begin{array}{c} \\vartriangle \\\\ \\vdots \\\\ \\square + s \\vartriangle \\end{array} \\right]\n",
    "= det \\left[ \n",
    "\\begin{array}{c} \\vartriangle \\\\ \\vdots \\\\ \\square \n",
    "\\end{array} \\right]\n",
    "+ det \\left[ \n",
    "\\begin{array}{c} \\vartriangle \\\\ \\vdots \\\\ s\\vartriangle \n",
    "\\end{array} \\right]\n",
    "\\\\= det \\left[ \n",
    "\\begin{array}{c} \\vartriangle \\\\ \\vdots \\\\ \\square \n",
    "\\end{array} \\right]\n",
    "+ s\\; det \\left[ \n",
    "\\begin{array}{c} \\vartriangle \\\\ \\vdots \\\\ \\vartriangle \n",
    "\\end{array} \\right]\n",
    "\\\\=\n",
    "det \\left[ \\begin{array}{c}\\vartriangle \\\\ \\vdots \\\\ \\square \\end{array}\\right]\n",
    "$"
   ]
  },
  {
   "cell_type": "markdown",
   "id": "dbc68c2b-569c-42c4-bdb3-7fc3e8c22e34",
   "metadata": {},
   "source": [
    "# [Determinant](https://www.youtube.com/watch?v=FsCLrXjRCIM&list=PLIxff5DJJR7oBEy0Kdg12WWSlS6XFtr6r&index=29)\n",
    "> $\n",
    "det\\begin{bmatrix}a & b \\\\ c & d\\end{bmatrix} = \n",
    "det \\Big(\\begin{bmatrix}a \\\\ c \\end{bmatrix}, \\begin{bmatrix} b \\\\ d \\end{bmatrix}\\Big)\n",
    "\\\\ =\n",
    "det \\Big(\n",
    "a \\begin{bmatrix} 1 \\\\ 0 \\end{bmatrix} + \n",
    "c \\begin{bmatrix} 0 \\\\ 1 \\end{bmatrix},\n",
    "b \\begin{bmatrix} 1 \\\\ 0 \\end{bmatrix} + \n",
    "d \\begin{bmatrix} 0 \\\\ 1 \\end{bmatrix}\n",
    "\\Big) \n",
    "\\\\ = \n",
    "det \\Big(\n",
    "a \\begin{bmatrix} 1 \\\\ 0 \\end{bmatrix}, \n",
    "b \\begin{bmatrix} 1 \\\\ 0 \\end{bmatrix} +\n",
    "d \\begin{bmatrix} 0 \\\\ 1 \\end{bmatrix}\n",
    "\\Big) +\n",
    "det \\Big(\n",
    "c \\begin{bmatrix} 0 \\\\ 1 \\end{bmatrix}, \n",
    "b \\begin{bmatrix} 1 \\\\ 0 \\end{bmatrix} +\n",
    "d \\begin{bmatrix} 0 \\\\ 1 \\end{bmatrix}\n",
    "\\Big)\n",
    "\\\\\n",
    "=\n",
    "ab \\det\\Big(  \n",
    "\\begin{bmatrix} 1 \\\\ 0 \\end{bmatrix}, \n",
    "\\begin{bmatrix} 1 \\\\ 0 \\end{bmatrix}\n",
    "\\Big) +\n",
    "ad \\det\\Big( \n",
    "\\begin{bmatrix} 1 \\\\ 0 \\end{bmatrix}, \n",
    "\\begin{bmatrix} 0 \\\\ 0 \\end{bmatrix}\n",
    "\\Big) +\n",
    "cb \\det\\Big( \n",
    "\\begin{bmatrix} 0 \\\\ 1 \\end{bmatrix}, \n",
    "\\begin{bmatrix} 1 \\\\ 0 \\end{bmatrix}\n",
    "\\Big) +\n",
    "cd \\det\\Big( \n",
    "\\begin{bmatrix} 0 \\\\ 1 \\end{bmatrix}, \n",
    "\\begin{bmatrix} 0 \\\\ 1 \\end{bmatrix}\n",
    "\\Big)\n",
    "\\\\\n",
    "=\n",
    "ab \\det \\begin{bmatrix} 1 & 1 \\\\ 0 & 0 \\end{bmatrix}\n",
    "+\n",
    "ad \\det \\begin{bmatrix} 1 & 0 \\\\ 0 & 1 \\end{bmatrix}\n",
    "+\n",
    "cb \\det \\begin{bmatrix} 0 & 1 \\\\ 1 & 0 \\end{bmatrix}\n",
    "+\n",
    "cd \\det \\begin{bmatrix} 0 & 0 \\\\ 1 & 1 \\end{bmatrix}\n",
    "\\\\ = ad - bc \\\\\n",
    "E^1 = \\begin{bmatrix} 1 \\\\ 0 \\end{bmatrix}, \\quad\n",
    "E^2 = \\begin{bmatrix} 0 \\\\ 1 \\end{bmatrix} \\\\\n",
    "det \\big[E^1,E^2 \\big] = \\begin{bmatrix} 1 & 0 \\\\ 0 & 1 \\end{bmatrix} = 1, \\quad\n",
    "det \\big[E^2,E^1 \\big] = \\begin{bmatrix} 0 & 1 \\\\ 1 & 0 \\end{bmatrix} = -1 \n",
    "\\\\\n",
    "\\therefore det \\begin{bmatrix}a_{11} & a_{12} \\\\ a_{21} & a_{22} \\end{bmatrix} \n",
    "= det \\Big[ A^1, A^2 \\Big] = \\sum_{ij} a_{i1}a_{j2}\\; det\\Big(E^i,E^j\\Big)\n",
    "= det\n",
    "$"
   ]
  },
  {
   "cell_type": "markdown",
   "id": "ed17a532-b6a2-4e42-993f-49b322dd566d",
   "metadata": {
    "tags": []
   },
   "source": [
    "# determinant 3by 3\n",
    "> ### $\n",
    "\\begin{vmatrix}\n",
    "a_{11} & a_{12} & a_{13} \\\\\n",
    "a_{21} & a_{22} & a_{23} \\\\\n",
    "a_{31} & a_{32} & a_{33} \\\\\n",
    "\\end{vmatrix}\n",
    "= \n",
    "\\Big|\n",
    "A^1 , A^2 , A^3\n",
    "\\Big|\n",
    "= \\sum_{ijk}a_{i1}a_{j2} a_{k3}\\Big| E^{i} E^{j} E^{k} \\Big|\n",
    "\\\\\n",
    "\\therefore \\sum_{ijk} \\epsilon \\Big(i,j,k \\Big)a_{i1}a_{j2}a_{k3}\\; det \\Big(E^1,E^2,E^3 \\Big)\n",
    "$"
   ]
  },
  {
   "cell_type": "markdown",
   "id": "ca69eb90-ebc2-4031-a7e4-e4109ef295ae",
   "metadata": {},
   "source": [
    "> ### $\n",
    "det \\Big( E^{1}, E^{2}, E^{3} \\Big) = \n",
    "\\begin{vmatrix}\n",
    "1 & 0 & 0 \\\\\n",
    "0 & 1 & 0 \\\\\n",
    "0 & 0 & 1 \\\\\n",
    "\\end{vmatrix} = 1\n",
    "\\\\\n",
    "det \\Big( E^{1}, E^{3}, E^{2} \\Big) = \n",
    "\\begin{vmatrix}\n",
    "1 & 0 & 0 \\\\\n",
    "0 & 0 & 1 \\\\\n",
    "0 & 1 & 0 \\\\\n",
    "\\end{vmatrix} = -1\n",
    "$"
   ]
  },
  {
   "cell_type": "markdown",
   "id": "b9316d0c-c877-4422-819e-aaad777cee13",
   "metadata": {},
   "source": [
    "# n by n determinant\n",
    "> ### $\n",
    "\\begin{vmatrix}\n",
    "a_{11} & a_{12} & \\cdots & a_{1n} \\\\\n",
    "a_{21} & a_{22} & \\cdots & a_{2n} \\\\\n",
    "\\vdots & \\vdots & \\ddots & \\vdots \\\\\n",
    "a_{n1} & a_{n2} & \\cdots & a_{nn} \\\\\n",
    "\\end{vmatrix} = det\\Big[ A^1,A^2,\\cdots,A^n \\Big]\n",
    "\\\\= \n",
    "\\sum_{s_1s_2\\cdots s_n}A_{s_{1,1}}, \\cdots a_{s_n,n}\\; det\\Big(E^{s_1},\\cdots,E^{s_n}\\Big)\n",
    "\\\\\n",
    "A^1 = \\sum b_{j1}G^{j} = b_{11}G^1 + b_{21}G^2 + \\cdots + b_{n1}G^n\n",
    "\\\\ \\vdots \\\\\n",
    "A^k = \\sum b_{jk}G^{j} = b_{1k}G^1 + b_{2k}G^2 + \\cdots + b_{nk}G^n\n",
    "\\\\ \\vdots \\\\\n",
    "A^n = \\sum b_{jn}G^{j} = b_{1n}G^1 + b_{2n}G^2 + \\cdots + b_{nn}G^n\n",
    "\\\\\n",
    "det\\Big[A^1, A^2, \\cdots, A^n\\Big] \n",
    "= \\sum_{s_1s_2\\cdots s_n} \\epsilon\\Big(s_1,s_2,\\cdots, s_n \\Big) b_{s_1,1}b_{s_2,2}\\cdots b_{s_n,n}\\; det\\Big(G^1,G^2,\\cdots,G^n\\Big)\n",
    "$"
   ]
  },
  {
   "cell_type": "markdown",
   "id": "77d47fd0-f06a-4764-960d-a0b27ba290ee",
   "metadata": {},
   "source": [
    "# Sumation\n",
    "> ### $\n",
    "AB = \\sum_{ij}a_{ij}G_{ij} \\sum_{lm}b_{lm}G_{lm}\n",
    "\\\\ = \\sum_{ijm}a_{ij}b{jm}G_{im}\n",
    "\\\\ = \\sum_{jm} b_{jm}(\\sum_{}a_{}G_{})\n",
    "$"
   ]
  },
  {
   "cell_type": "markdown",
   "id": "1832ac2d-4579-4cfc-9f5c-d0a755ddc544",
   "metadata": {
    "jp-MarkdownHeadingCollapsed": true,
    "tags": []
   },
   "source": [
    "# inverse\n",
    "> ### $\n",
    "T^{-1} = B, \\quad Tx = h \\\\\n",
    "B_{i} \\cdot T^{j} = \\delta_{i}^{j} \\\\\n",
    "B_{i}\\cdot h = x_{i} \\\\\n",
    "\\begin{bmatrix}\n",
    "a & b \\\\ c & d\n",
    "\\end{bmatrix}\n",
    "\\begin{bmatrix}\n",
    "a^{-1}(x) & b^{-1}(u) \\\\ c^{-1}(y) & d^{-1}(v)\n",
    "\\end{bmatrix}\n",
    "=\n",
    "\\begin{bmatrix}\n",
    "1 & 0 \\\\ 0 & 1\n",
    "\\end{bmatrix}\n",
    "\\iff  ax + by = 1  \\quad cx + dy = 0,\\quad   au + bv = 1 \\quad  cu + dv = 0 \n",
    "$\n",
    ">> ### $\n",
    "(ax + by = 1)d - (cx + dy = 0)b, \\to adx - bcx = d \\to x(a^{-1}) = \\frac{d}{ad-bc} \\\\\n",
    "(ax + by = 1)c - (cx + dy = 0)a, \\to bcy - adx = c \\to y(c^{-1}) = \\frac{c}{-(ad-bc)} = \\frac{-c}{ad-bc} \\\\\n",
    "(au + bv = 0)d - (cu + dv = 1)b, \\to adu - bcu = -b \\to u(b^{-1}) = \\frac{-b}{ad-bc}\\\\\n",
    "(au + bv = 0)c - (cu + dv = 1)a, \\to bcv - dav = -a \\to v(c^{-1}) = \\frac{-a}{-(ad-bc)} = \\frac{a}{ad-bc} \\\\\n",
    "\\therefore \\begin{bmatrix}\n",
    "\\frac{d}{ad-bc} & \\frac{-b}{ad-bc} \\\\ \\frac{-c}{ad-bc} & \\frac{a}{ad-bc} \n",
    "\\end{bmatrix} \\iff\n",
    "\\therefore \\frac{1}{ad-bc}\\begin{bmatrix}\n",
    "d & -b \\\\ -c & a \n",
    "\\end{bmatrix}\n",
    "$"
   ]
  },
  {
   "cell_type": "markdown",
   "id": "b6cbb307-9019-4728-88de-2df9550170f9",
   "metadata": {},
   "source": [
    "# determinant\n",
    "> ### $\n",
    "det(A) = det(A^{T}) \\\\\n",
    "A = \\begin{bmatrix}\n",
    "a_{11} & a_{12} & a_{13} & a_{14} & a_{15} \\\\\n",
    "a_{21} & a_{22} & a_{23} & a_{24} & a_{25} \\\\\n",
    "a_{31} & a_{32} & a_{33} & a_{34} & a_{35} \\\\\n",
    "a_{41} & a_{42} & a_{43} & a_{44} & a_{45} \\\\\n",
    "a_{51} & a_{52} & a_{53} & a_{54} & a_{55} \\\\\n",
    "\\end{bmatrix} \\\\\n",
    "det(A) = \\sum_{k=1}^{n}(-1)^{i+k}a_{ik} M_{ik} =  \\sum_{k=1}^{n}a_{ik}C_{ik}\n",
    "\\\\\n",
    "C_{ij} = (-1)^{i+j}M_{ij}\n",
    "$"
   ]
  },
  {
   "cell_type": "markdown",
   "id": "f3f2b728-95b2-4a07-8234-7e4daedd38b1",
   "metadata": {},
   "source": [
    "# multi linear transformation of determinant\n",
    "# 같은 행벡터가 두개 있을때\n",
    "> ### $ det \\begin{bmatrix} \\vdots \\\\ \\vartriangle \\\\ \\vartriangle \\\\ \\vdots \\end{bmatrix} = 0 = det \\begin{bmatrix} \\vdots \\\\ \\vartriangle \\\\ \\vdots \\\\ \\vartriangle \\\\ \\vdots \\end{bmatrix} $"
   ]
  },
  {
   "cell_type": "markdown",
   "id": "94b495c5-eba7-4b6d-894f-438583ed9f44",
   "metadata": {},
   "source": [
    "# 행교환\n",
    "> ### $ det \\begin{bmatrix} \\vdots \\\\ \\square \\\\ \\vartriangle \\\\ \\vdots \\end{bmatrix} = -det \\begin{bmatrix} \\vdots \\\\ \\square \\\\ \\vartriangle \\\\ \\vdots \\end{bmatrix} \\iff det \\begin{bmatrix} \\vdots \\\\ \\square \\\\ \\vdots \\\\ \\vartriangle \\\\ \\vdots \\end{bmatrix} = -det \\begin{bmatrix} \\vdots \\\\ \\square \\\\ \\vdots \\\\ \\vartriangle \\\\ \\vdots \\end{bmatrix} $"
   ]
  },
  {
   "cell_type": "markdown",
   "id": "77df3d6e-cf86-48f3-aca8-0d25cd2b4ce9",
   "metadata": {
    "tags": []
   },
   "source": [
    "# 상수배후 다른행에 더해주기\n",
    "> ### $ det \\begin{bmatrix} \\vartriangle \\\\ \\vdots \\\\ \\square + s\\vartriangle \\end{bmatrix} \n",
    "= det \\begin{bmatrix} \\vartriangle \\\\ \\vdots \\\\ \\square \\end{bmatrix} \n",
    "+ det \\begin{bmatrix} \\vartriangle \\\\ \\vdots \\\\ s\\vartriangle \\end{bmatrix} \n",
    "= det \\begin{bmatrix} \\vartriangle \\\\ \\vdots \\\\ \\square \\end{bmatrix} \n",
    "+ s\\, det \\begin{bmatrix} \\vartriangle \\\\ \\vdots \\\\ \\vartriangle \\end{bmatrix} $"
   ]
  },
  {
   "cell_type": "markdown",
   "id": "9e9dd22f-d9ba-4bb7-9d91-1af0479dc8fe",
   "metadata": {},
   "source": [
    "# L (low triangle matrix) $\\iff$ U (upper triangle matrix)\n",
    "> ### $\n",
    "det(L) = det\n",
    "\\begin{bmatrix}\n",
    "a_{11} & 0 & \\cdots & 0 \\\\ ? & a_{22} & \\cdots & 0 \\\\ \\vdots & \\ddots & \\ddots & \\vdots  \\\\ ? & ? & \\cdots & a_{nn}\n",
    "\\end{bmatrix}\n",
    "= a_{11} \\times a_{22} \\times \\cdots \\times a_{nn}\n",
    "$"
   ]
  },
  {
   "cell_type": "code",
   "execution_count": 5,
   "id": "852cf2ea-0e7d-430c-a762-1929f0f741bd",
   "metadata": {},
   "outputs": [
    {
     "data": {
      "text/latex": [
       "$\\displaystyle A \\iff det(A)=24$"
      ],
      "text/plain": [
       "<IPython.core.display.Math object>"
      ]
     },
     "metadata": {},
     "output_type": "display_data"
    },
    {
     "data": {
      "text/latex": [
       "$\\displaystyle \\left[\\begin{matrix}0 & 2 & 3\\\\2 & 0 & 3\\\\3 & 1 & 0\\end{matrix}\\right]$"
      ],
      "text/plain": [
       "Matrix([\n",
       "[0, 2, 3],\n",
       "[2, 0, 3],\n",
       "[3, 1, 0]])"
      ]
     },
     "metadata": {},
     "output_type": "display_data"
    },
    {
     "data": {
      "text/latex": [
       "$\\displaystyle A_{r1} \\iff det(A_{r1})=6$"
      ],
      "text/plain": [
       "<IPython.core.display.Math object>"
      ]
     },
     "metadata": {},
     "output_type": "display_data"
    },
    {
     "data": {
      "text/latex": [
       "$\\displaystyle \\left[\\begin{matrix}0 & 0 & 3\\\\2 & 0 & 3\\\\3 & 1 & 0\\end{matrix}\\right]$"
      ],
      "text/plain": [
       "Matrix([\n",
       "[0, 0, 3],\n",
       "[2, 0, 3],\n",
       "[3, 1, 0]])"
      ]
     },
     "metadata": {},
     "output_type": "display_data"
    },
    {
     "data": {
      "text/latex": [
       "$\\displaystyle A_{r2} \\iff det(A_{r2}) = 18$"
      ],
      "text/plain": [
       "<IPython.core.display.Math object>"
      ]
     },
     "metadata": {},
     "output_type": "display_data"
    },
    {
     "data": {
      "text/latex": [
       "$\\displaystyle \\left[\\begin{matrix}0 & 2 & 0\\\\2 & 0 & 3\\\\3 & 1 & 0\\end{matrix}\\right]$"
      ],
      "text/plain": [
       "Matrix([\n",
       "[0, 2, 0],\n",
       "[2, 0, 3],\n",
       "[3, 1, 0]])"
      ]
     },
     "metadata": {},
     "output_type": "display_data"
    },
    {
     "data": {
      "text/markdown": [
       "det(A)=24"
      ],
      "text/plain": [
       "<IPython.core.display.Markdown object>"
      ]
     },
     "metadata": {},
     "output_type": "display_data"
    },
    {
     "data": {
      "text/markdown": [
       "$A^{-1}=$"
      ],
      "text/plain": [
       "<IPython.core.display.Markdown object>"
      ]
     },
     "metadata": {},
     "output_type": "display_data"
    },
    {
     "data": {
      "text/latex": [
       "$\\displaystyle \\left[\\begin{matrix}- \\frac{1}{8} & \\frac{1}{8} & \\frac{1}{4}\\\\\\frac{3}{8} & - \\frac{3}{8} & \\frac{1}{4}\\\\\\frac{1}{12} & \\frac{1}{4} & - \\frac{1}{6}\\end{matrix}\\right]$"
      ],
      "text/plain": [
       "Matrix([\n",
       "[-1/8,  1/8,  1/4],\n",
       "[ 3/8, -3/8,  1/4],\n",
       "[1/12,  1/4, -1/6]])"
      ]
     },
     "metadata": {},
     "output_type": "display_data"
    },
    {
     "data": {
      "text/latex": [
       "$\\displaystyle 1 + 2 i + 3 j + 4 k$"
      ],
      "text/plain": [
       "1 + 2*i + 3*j + 4*k"
      ]
     },
     "execution_count": 5,
     "metadata": {},
     "output_type": "execute_result"
    },
    {
     "data": {
      "image/png": "[encoded data removed]",
      "text/plain": [
       "<Figure size 432x288 with 1 Axes>"
      ]
     },
     "metadata": {
      "needs_background": "light"
     },
     "output_type": "display_data"
    }
   ],
   "source": [
    "import sympy as sm\n",
    "import sympy.vector\n",
    "import numpy as np\n",
    "import matplotlib.pyplot as plt\n",
    "import IPython as ip\n",
    "A=sm.Matrix([[0,2,3],[2,0,3],[3,1,0]])\n",
    "Ar1=sm.Matrix([[0,0,3],[2,0,3],[3,1,0]])\n",
    "Ar2=sm.Matrix([[0,2,0],[2,0,3],[3,1,0]])\n",
    "C = sm.vector.CoordSys3D('C')\n",
    "c1 = 2*C.j+3*C.k\n",
    "c2 = 2*C.i+1*C.k\n",
    "c3 = 3*C.i+3*C.j\n",
    "q = sm.Quaternion(1,2,3,4)\n",
    "NA=np.array([[0,2,3],[2,0,3],[3,1,0]])\n",
    "NB = np.array(A.tolist())\n",
    "na = np.array([1,1,1])\n",
    "a = np.array([1,1,1])\n",
    "#display(NA,ip.display.Markdown(rf'det(NA)={np.linalg.det(NA)}'),ip.display.Markdown('$NA^{-1}=$'),np.linalg.inv(NA))\n",
    "display(ip.display.Math(f'A \\iff det(A)={A.det()}'),A,\n",
    "        ip.display.Math(f'A_{{r1}} \\iff det(A_{{r1}})={Ar1.det()}'),Ar1,\n",
    "        ip.display.Math(f'A_{{r2}} \\iff det(A_{{r2}}) = {Ar2.det()}'),Ar2,\n",
    "        ip.display.Markdown(rf'det(A)={A.det()}'),ip.display.Markdown('$A^{-1}=$'),A.inv())\n",
    "\n",
    "fig = plt.figure()\n",
    "ax = fig.add_subplot(projection='3d')\n",
    "ax.scatter3D(0,0,0,color='k')\n",
    "ax.scatter3D(1,1,1,color='k')\n",
    "ax.quiver([0],[0],[0],[0],[2],[3],arrow_length_ratio=0.1)\n",
    "ax.quiver([0],[0],[0],[2],[0],[3],arrow_length_ratio=0.1)\n",
    "ax.quiver([0],[0],[0],[3],[1],[0],arrow_length_ratio=0.1)\n",
    "ax.quiver([1],[1],[1],[5-1],[5-1],[4-1],color='k',arrow_length_ratio=0.1)\n",
    "ax.quiver([0],[0],[0],[-1/8],[3/8],[1/12],color='r',arrow_length_ratio=0.5)\n",
    "ax.quiver([0],[0],[0],[1/8],[-3/8],[1/4],color='r',arrow_length_ratio=0.5)\n",
    "ax.quiver([0],[0],[0],[1/4],[1/4],[-1/6],color='r',arrow_length_ratio=0.5)\n",
    "#ax.plot([0,-1/8],[0,3/8],[0,1/12],'r')\n",
    "\n",
    "ax.plot(\n",
    "    [0,5],\n",
    "    [2,5],\n",
    "    [3,4],'r')\n",
    "ax.plot(\n",
    "    [2,5],\n",
    "    [0,5],\n",
    "    [3,4],'r')\n",
    "ax.plot(\n",
    "    [3,5],\n",
    "    [1,5],\n",
    "    [0,4],'r')\n",
    "q"
   ]
  },
  {
   "cell_type": "code",
   "execution_count": 6,
   "id": "e5bc640c-6bc1-48ca-b6d0-c557bcf0f3e1",
   "metadata": {},
   "outputs": [
    {
     "data": {
      "text/latex": [
       "$\\displaystyle \\left[\\begin{matrix}\\frac{2}{5} & - \\frac{1}{5} & 0\\\\- \\frac{1}{5} & \\frac{3}{5} & 0\\\\0 & 0 & 1\\end{matrix}\\right]$"
      ],
      "text/plain": [
       "Matrix([\n",
       "[ 2/5, -1/5, 0],\n",
       "[-1/5,  3/5, 0],\n",
       "[   0,    0, 1]])"
      ]
     },
     "execution_count": 6,
     "metadata": {},
     "output_type": "execute_result"
    },
    {
     "data": {
      "application/vnd.jupyter.widget-view+json": {
       "model_id": "0c35ec32b4504bd8ae000dac5c04e6dc",
       "version_major": 2,
       "version_minor": 0
      },
      "image/png": "[encoded data removed]",
      "text/html": [
       "\n",
       "            <div style=\"display: inline-block;\">\n",
       "                <div class=\"jupyter-widgets widget-label\" style=\"text-align: center;\">\n",
       "                    Figure\n",
       "                </div>\n",
       "                <img src='data:image/png;base64,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' width=800.0/>\n",
       "            </div>\n",
       "        "
      ],
      "text/plain": [
       "Canvas(toolbar=Toolbar(toolitems=[('Home', 'Reset original view', 'home', 'home'), ('Back', 'Back to previous …"
      ]
     },
     "metadata": {},
     "output_type": "display_data"
    }
   ],
   "source": [
    "import numpy as np\n",
    "import sympy as sm\n",
    "import sympy.vector\n",
    "N = sm.vector.CoordSys3D('N')\n",
    "\n",
    "# v(3,1), w(1,2) \\iff T([3,1],[1,2])\n",
    "u = 3*N.i + N.j + 0*N.k\n",
    "v = N.i + 2*N.j + 0*N.k\n",
    "w = 0*N.i + 0*N.j + N.k\n",
    "T = u.to_matrix(N).col_insert(1,v.to_matrix(N)).col_insert(2,w.to_matrix(N))\n",
    "T = u.to_matrix(N).row_join(v.to_matrix(N)).row_join(w.to_matrix(N))\n",
    "B = T.inv()\n",
    "# x(x_0, x_1)\n",
    "x0,x1,x2 = sm.symbols('x_0 x_1 x_2')\n",
    "x = sm.Matrix([x0,x1,x2])\n",
    "# sm.vector.matrix_to_vector(x,N)\n",
    "\n",
    "# Tx = h(3,2)\n",
    "h = 3*N.i + 2*N.j + 0*N.k\n",
    "\n",
    "import matplotlib.pyplot as plt\n",
    "%matplotlib widget\n",
    "fig = plt.figure(figsize=(8,8))\n",
    "ax = fig.add_subplot()\n",
    "ax.grid()\n",
    "ax.spines[['left','bottom']].set_position('zero')\n",
    "ax.set_aspect('equal')\n",
    "ax.set_xlim(xmin=-1.1,xmax=5)\n",
    "ax.set_ylim(ymin=-1.1,ymax=5)\n",
    "ax.set_xticks(np.arange(-1,5,1))\n",
    "ax.set_yticks(np.arange(-1,5,1))\n",
    "ax.quiver(0,0,3,1,scale=1,units='xy')\n",
    "ax.quiver(0,0,-1/5,3/5,scale=1,units='xy')\n",
    "ax.annotate(r\"$A_{i,1}=\\vec{e_1}(3,1)$\",(3.1,0.8))\n",
    "ax.quiver(0,0,1,2,scale=1,units='xy')\n",
    "ax.quiver(0,0,2/5,-1/5,scale=1,units='xy')\n",
    "ax.annotate(r'$A_{i,2}=\\vec{e_2}(1,2)$',(0.3,2.2))\n",
    "ax.annotate(r\"${A^{-1}}_{i,1}=\\vec{e_1}(\\frac{2}{5},-\\frac{1}{5})$\",(0.2,-0.5))\n",
    "ax.annotate(r\"${A^{-1}}_{i,2}=\\vec{e_2}(-\\frac{1}{5},\\frac{3}{5})$\",(-1,0.7))\n",
    "ax.quiver(0,0,4,3,scale=1,units='xy')\n",
    "ax.annotate(r'$\\vec{b}(4,3)$',(4.1,3))\n",
    "ax.plot([1,4],[2,2],color='r')\n",
    "ax.plot([1,4],[2,3],color='k')\n",
    "ax.plot([4,4],[2,3],color='r')\n",
    "ax.plot([3,3],[0,1],color='r')\n",
    "ax.plot([0,3],[0,0],color='r')\n",
    "\n",
    "ax.plot([3,4],[1,3],color='k')\n",
    "ax.plot([3,4],[3,3],color='b')\n",
    "ax.plot([0,0],[0,2],color='b')\n",
    "ax.plot([0,1],[2,2],color='b')\n",
    "ax.plot([3,3],[2,3],color='b')\n",
    "ax.plot([3,3],[1,2],color='b')\n",
    "\n",
    "# solve\n",
    "T.inv()*sm.Matrix([3,2,0])\n",
    "(T.inv()*x).T*(h.to_matrix(N))\n",
    "B"
   ]
  },
  {
   "cell_type": "code",
   "execution_count": null,
   "id": "dedad5fe-39fe-4a02-96ad-c8cb994a06f3",
   "metadata": {},
   "outputs": [],
   "source": [
    "import sympy as sm\n",
    "#from IPython.display import display, Markdown\n",
    "import IPython as ip\n",
    "A = sm.Matrix([[3,1], [1,2]])\n",
    "\n",
    "B1 = sm.Matrix([[0,1],[1,2]])\n",
    "B2 = sm.Matrix([[3,0],[1,2]])\n",
    "#C=A\n",
    "#C.row_del(0)\n",
    "#C.row_insert(0,B1.row(0)+B2.row(0))\n",
    "#C.row(0).col(0)\n",
    "C1 = sm.Matrix([[0,1],[1,0]])\n",
    "C2 = sm.Matrix([[3,0],[0,2]])\n",
    "\n",
    "display(ip.display.Math(rf\"\"\"det(A) = {A.det()}\"\"\"),\n",
    "A,\n",
    "ip.display.Math(rf\"\"\"det(B_1) = {B1.det()}\"\"\"),\n",
    "B1,\n",
    "ip.display.Math(rf\"\"\"det(B2) = {B2.det()}\"\"\"),\n",
    "B2,\n",
    "ip.display.Math(rf\"\"\"det(B1)+det(B2) = {B1.det()+B2.det()}\\\\ det(C1) = {C1.det()}\"\"\"),\n",
    "C1,\n",
    "ip.display.Math(rf\"\"\"det(C2) = {C2.det()}\"\"\"),\n",
    "C2,\n",
    "ip.display.Math(rf\"\"\"det(C_1+C_2) = {(C1+C2).det()}\"\"\"))\n"
   ]
  },
  {
   "cell_type": "markdown",
   "id": "b2ff2afb-1d7a-4bb3-87b1-cee52ef57103",
   "metadata": {},
   "source": [
    "# [determinant & inverse matrix meanning](https://www.youtube.com/watch?v=CLS3Z9jbZw4&list=PLIxff5DJJR7oBEy0Kdg12WWSlS6XFtr6r&index=33)"
   ]
  },
  {
   "cell_type": "code",
   "execution_count": null,
   "id": "a0dbe86f-aac5-46e0-ab72-9a0c122c0b47",
   "metadata": {},
   "outputs": [],
   "source": [
    "# v(3,1), w(2,2) \\iff T([3,1],[2,2]) , b=(3,2)\n",
    "# https://www.youtube.com/watch?v=CLS3Z9jbZw4&list=PLIxff5DJJR7oBEy0Kdg12WWSlS6XFtr6r&index=33\n",
    "u = 3*N.i + N.j + 0*N.k\n",
    "v = 2*N.i + 2*N.j + 0*N.k\n",
    "w = 0*N.i + 0*N.j + N.k\n",
    "T = u.to_matrix(N).col_insert(1,v.to_matrix(N)).col_insert(2,w.to_matrix(N))\n",
    "T = u.to_matrix(N).row_join(v.to_matrix(N)).row_join(w.to_matrix(N))\n",
    "\n",
    "# x(x_0, x_1)\n",
    "x1,x2,x3 = sm.symbols('x_1 x_2 x_3')\n",
    "x = sm.Matrix([x1,x2,x3])\n",
    "\n",
    "# Tx = h(3,2)\n",
    "h = 3*N.i + 2*N.j + 0*N.k\n",
    "\n",
    "import matplotlib.pyplot as plt\n",
    "%matplotlib widget\n",
    "fig = plt.figure(figsize=(8,8))\n",
    "ax = fig.add_subplot()\n",
    "ax.grid()\n",
    "#ax.spines[['left','bottom']].set_position('zero')\n",
    "ax.axhline()\n",
    "ax.axvline()\n",
    "ax.set_aspect('equal')\n",
    "ax.set_xlim(xmin=-2,xmax=4)\n",
    "ax.set_ylim(ymin=-2,ymax=4)\n",
    "ax.set_xticks(np.arange(-2,4,1/4))\n",
    "ax.set_xticklabels(ax.get_xticks(),rotation=45)\n",
    "ax.set_yticks(np.arange(-2,4,1/4))\n",
    "# u(3,1,0)\n",
    "ax.quiver(0,0,3,1,scale=1,units='xy')\n",
    "ax.annotate(r\"$T^1=u(3,1)$\",(3,1))\n",
    "# v(2,2,0)\n",
    "ax.quiver(0,0,2,2,scale=1,units='xy')\n",
    "ax.annotate(r\"$T^2v(2,2)$\",(2,2))\n",
    "# b(3,2)\n",
    "ax.scatter(3,2,color='r')\n",
    "ax.annotate(\"b(3,2)\",(3,2))\n",
    "# T.inv()  = [1/2, -1/2], [-1/4, 3/4]\n",
    "# new axix of N.i (1/2, -1/2)\n",
    "# new axix of N.j (-1/4, 3/4)\n",
    "B = T.inv()\n",
    "ax.quiver(0,0,1/2,-1/2,scale=1,units='xy')\n",
    "ax.annotate(r\"$B_{1}=\\hat{e_1}( \\frac{1}{2}, \\frac{-1}{2})$\",(1/2,-1/2))\n",
    "ax.quiver(0,0,-1/4,3/4,scale=1,units='xy')\n",
    "ax.annotate(r\"$B_{2}=\\hat{e_2}(\\frac{-1}{4}, \\frac{3}{4})$\",(-1/4,3/4))\n",
    "\n",
    "# B_i * h = x_i\n",
    "# B_0 * h = x_0\n",
    "B.row(0)*(h.to_matrix(N))"
   ]
  },
  {
   "cell_type": "code",
   "execution_count": null,
   "id": "a56d87e9-4a6d-4f50-8370-7b5b1c548e81",
   "metadata": {},
   "outputs": [],
   "source": [
    "#%%javascript\n",
    "#MathJax.Hub.Config({\n",
    "#    TeX: { equationNumbers: { autoNumber: \"AMS\" } }\n",
    "#});"
   ]
  },
  {
   "cell_type": "markdown",
   "id": "9c1eda66-713b-487c-9127-3df9880f0501",
   "metadata": {},
   "source": [
    "# 1 by 1 determinat\n",
    "> ### $\n",
    "Tx = h \\\\\n",
    "x = \\frac{b}{a}\n",
    "$\n",
    "# 2 by 2 determinant\n",
    "> ### $\n",
    "\\begin{align}\n",
    "& ax + by = u  \\label{eq1}\\tag{1}\\\\\n",
    "& cx + dy = v  \\label{eq2}\\tag{2}\\\\\n",
    "& adx + bdy = ud & \\eqref{eq1} \\times d \\label{eq3}\\tag{3}\\\\\\\n",
    "& bcx + bdy = bv & \\eqref{eq2} \\times b \\label{eq4}\\tag{4}\\\\\n",
    "& (ad - bc)x = ud - bv & \\eqref{eq3} - \\eqref{eq4} \\\\\n",
    "\\therefore x = \\frac{ud - bv}{ad - bc} & \\\\\n",
    "\\end{align}\n",
    "$\n",
    "> ### 행교환 $\\iff$ 부호가 바뀜\n",
    ">> ### $\n",
    "cx + dy = v \\\\\n",
    "ax + by = u \\\\\n",
    "x = \\frac{bv - ud}{bc - ad}\n",
    "$"
   ]
  },
  {
   "cell_type": "markdown",
   "id": "8d11a51b-0c69-4047-b170-48dcd5c808b3",
   "metadata": {
    "tags": []
   },
   "source": [
    "# 3 by 3 determinant\n",
    "> ### $ \n",
    "a_1x + b_1y + c_1z = u\\\\\n",
    "a_2x + b_2y + c_2z = v\\\\\n",
    "a_3x + b_3y + c_3z = w\\\\\n",
    "\\therefore \n",
    "|A| = det(A)$\n",
    ">> ### $$\n",
    "x = \n",
    "\\frac{\n",
    "u\\begin{vmatrix}b_2 & c_2 \\\\ b_3 & c_3\\end{vmatrix} - \n",
    "v\\begin{vmatrix}b_1 & c_1 \\\\ b_3 & c_3\\end{vmatrix} +\n",
    "w\\begin{vmatrix}b_1 & c_1 \\\\ b_2 & c_2\\end{vmatrix}\n",
    "}\n",
    "{\n",
    "a_1\\begin{vmatrix}b_2 & c_2 \\\\ b_3 & c_3\\end{vmatrix} - \n",
    "a_2\\begin{vmatrix}b_1 & c_1 \\\\ b_3 & c_3\\end{vmatrix} +\n",
    "a_3\\begin{vmatrix}b_1 & c_1 \\\\ b_2 & c_2\\end{vmatrix}\n",
    "}\n",
    "$$"
   ]
  },
  {
   "cell_type": "markdown",
   "id": "4a1478ff-360b-4902-843a-9b66d8a30a4d",
   "metadata": {},
   "source": []
  },
  {
   "cell_type": "markdown",
   "id": "fd4378eb-e8c8-42b4-8136-d5c80a9ec1bd",
   "metadata": {},
   "source": [
    "# 행이나 열이 서로 비례하는 성분이 2개 행열식은 0이된다.\n",
    "> ### 서로 다른 두점$(x_0,x_2),(y_0,y_1)$을 지나는 직선의 방정식은 행열식이 0이 되어야 함으로\n",
    ">> ### $\n",
    "det (A) \\Rightarrow\n",
    "\\begin{align}\n",
    "\\begin{vmatrix}\n",
    "1 & x & y \\\\ 1 & x_0 & y_0 \\\\ 1 & x_0 & y_1\n",
    "\\end{vmatrix} = 0\n",
    "\\end{align}\n",
    "$\n",
    "> ### 서로 다른 세점$(x_0,y_0),(x_1,y_1),(x_2,y_2)$을 지나는 직선의 방정식은 행열식이 0이 되어야 함으로\n",
    ">> ### $\n",
    "det (A) \\Rightarrow\n",
    "\\begin{align}\n",
    "\\begin{vmatrix}\n",
    "1 & x & x^2 & y \\\\ 1 & x_0 & x_0^2 & y_0 \\\\ 1 & x_1 & x_1^2 & y_1 \\\\ 1 & x_2 & x_2^2 & y_2\n",
    "\\end{vmatrix} = 0\n",
    "\\end{align}\n",
    "$"
   ]
  },
  {
   "cell_type": "code",
   "execution_count": null,
   "id": "d2632c22-74e5-4c23-8f9e-94bc6d4cfa83",
   "metadata": {},
   "outputs": [],
   "source": [
    "T\n",
    "T1 = sm.Matrix([[1,2],[3,4]])\n",
    "T1"
   ]
  },
  {
   "cell_type": "code",
   "execution_count": null,
   "id": "c33e3a24-abfe-4cf4-9611-e1bb061e30af",
   "metadata": {},
   "outputs": [],
   "source": [
    "# Minor matrix (소행열)\n",
    "T.minor_submatrix(0,0)\n",
    "T.minorEntry(0,1)\n",
    "T.minorMatrix(0,1)\n",
    "T1.minorMatrix(0,0)\n",
    "T1.minorEntry(0,0)"
   ]
  },
  {
   "cell_type": "code",
   "execution_count": null,
   "id": "905c5b80-2c7a-4219-b477-7fc51b26523f",
   "metadata": {},
   "outputs": [],
   "source": [
    "# cofactor (여인수)\n",
    "T.cofactor(0,0)\n",
    "T1.cofactor(0,0)\n",
    "# cofactor Matrix(여인수 행열)\n",
    "T1.cofactorMatrix()\n",
    "T.cofactorMatrix()"
   ]
  },
  {
   "cell_type": "code",
   "execution_count": null,
   "id": "1e94e8af-99f7-46a9-bca1-28c181215917",
   "metadata": {},
   "outputs": [],
   "source": [
    "# elementary column operation(기본행 연산)\n",
    "# elementary row operation(기본열 연산)\n",
    "# n->n+km : n=col1, m=col2\n",
    "T1.elementary_row_op(op=\"n->n+km\",row=1,k=-3,row2=0)"
   ]
  },
  {
   "cell_type": "code",
   "execution_count": null,
   "id": "54183f45-f658-4e94-bd59-43f42d8e6655",
   "metadata": {},
   "outputs": [],
   "source": [
    "# adjoint (수반행열) = (cofactor matrix).transpose()\n",
    "# adjugate in sympy\n",
    "# jugate (쌍으로 되어있는)\n",
    "T1.adjugate()\n",
    "T.adjugate()"
   ]
  },
  {
   "cell_type": "code",
   "execution_count": null,
   "id": "d0e631c4-b2ae-4a50-b690-d9cded86550e",
   "metadata": {},
   "outputs": [],
   "source": [
    "T1.echelon_form()\n",
    "\n",
    "# rref = reduce row echelon form\n",
    "ref, pivots = T1.rref()\n",
    "# 행사다리(echelon) 꼴(form)\n",
    "T.echelon_form()\n",
    "T.rref()"
   ]
  },
  {
   "cell_type": "markdown",
   "id": "86783eac-0667-4c5f-b281-e85e68e09115",
   "metadata": {},
   "source": [
    "# adjoin matrix\n",
    "> ### cofactor\n",
    ">> ### $\n",
    "C_{ij} = (-1)^{i+j}M_{ij} \\in \\mathbb R\n",
    "$"
   ]
  },
  {
   "cell_type": "code",
   "execution_count": null,
   "id": "a0c0cbe4-1779-4980-8f87-e58ed0b9266c",
   "metadata": {},
   "outputs": [],
   "source": []
  }
 ],
 "metadata": {
  "kernelspec": {
   "display_name": "Python 3 (ipykernel)",
   "language": "python",
   "name": "python3"
  },
  "language_info": {
   "codemirror_mode": {
    "name": "ipython",
    "version": 3
   },
   "file_extension": ".py",
   "mimetype": "text/x-python",
   "name": "python",
   "nbconvert_exporter": "python",
   "pygments_lexer": "ipython3",
   "version": "3.10.2"
  }
 },
 "nbformat": 4,
 "nbformat_minor": 5
}
