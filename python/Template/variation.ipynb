{
 "cells": [
  {
   "cell_type": "markdown",
   "id": "42440ecd-32c5-4534-852b-dedd2c3787f0",
   "metadata": {},
   "source": [
    "# Variation principle\n",
    "> 최소 시간, 최소 거리의 법칙\n",
    "# functional\n",
    "> \n",
    "> independent variable\n",
    ">> t,s\n",
    ">\n",
    "> functions\n",
    ">> $x(t), y(t), F(x(t),y(t),t), G(x(t,s),t,s)$"
   ]
  },
  {
   "cell_type": "markdown",
   "id": "da36f81f-d185-4046-8eff-2f3cffc723bd",
   "metadata": {},
   "source": [
    "# Hamilton mechanics\n",
    "> ## Lagrangian \n",
    ">> $ L(q_i, \\dot{q_i};t) $\n",
    ">\n",
    "> ## Hamiltonian\n",
    ">> $ H(q_i, p_i;t) $\n",
    ">>> $q_i p_i is canonical coordinates$\n",
    ">>\n",
    ">> Legendre transformation\n",
    ">>> $$ H = \\sum_{i} p_i \\dot q_i - L $$"
   ]
  },
  {
   "cell_type": "code",
   "execution_count": null,
   "id": "aa7e6a4d-7bb9-4f29-939c-a0b0d68d9b45",
   "metadata": {},
   "outputs": [],
   "source": []
  }
 ],
 "metadata": {
  "kernelspec": {
   "display_name": "Python 3 (ipykernel)",
   "language": "python",
   "name": "python3"
  },
  "language_info": {
   "codemirror_mode": {
    "name": "ipython",
    "version": 3
   },
   "file_extension": ".py",
   "mimetype": "text/x-python",
   "name": "python",
   "nbconvert_exporter": "python",
   "pygments_lexer": "ipython3",
   "version": "3.10.2"
  }
 },
 "nbformat": 4,
 "nbformat_minor": 5
}
