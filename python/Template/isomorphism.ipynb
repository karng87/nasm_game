{
 "cells": [
  {
   "cell_type": "markdown",
   "id": "a422d336-9c20-4342-8089-0a0096f61c3d",
   "metadata": {},
   "source": [
    "# isomorphism (congruence)  합동\n",
    "> $ \\cong $\n",
    ">> $ \\phi(x\\otimes y) \\mapsto \\phi(x) \\oplus \\phi(y)$\n",
    "\n",
    "> let exp : $ \\begin{cases} (\\mathbb{R} , +) & \\to (\\mathbb{R}_{>0}, \\times ) \\\\\n",
    "x & \\mapsto e^{x} = \\exp(x)  \\end{cases}$\n",
    "> then we know : $\\begin{cases} \\exp(x+y) & = e^{(x+y)} = e^{x}\\,e^{y} \\\\ & = \\exp(x)\\,\\exp(y) \\end{cases}$\n",
    ">\n",
    "> # $ \\therefore (\\mathbb{R},+)\\overset{\\exp}{\\cong} (\\mathbb{R}_{>0},\\times), \\text{ as a group}$"
   ]
  },
  {
   "cell_type": "markdown",
   "id": "9694523c-c735-47ec-ac0d-01d1354669a6",
   "metadata": {},
   "source": [
    "# group homomorphism\n",
    "> # Def.\n",
    ">> Given $(\\mathbb{G},*), (\\mathbb{H},\\circ)$ gropus  \n",
    ">> We call $f: \\mathbb{G} \\to \\mathbb{H} $ is a group homomorphism  \n",
    ">>> $if \\quad \\forall \\, g_1, g_2 \\in \\mathbb{G} ,\\quad f(g_1 * g_2) = f(g_1) \\circ f(g_2) \\\\\n",
    "        (\\mathbb{G},*) \\overset {f}{\\cong} (\\mathbb{H},\\circ)$  \n",
    ">>> $if \\,f \\text{ is one to one }, f\\, \\text{ is called a group monomorphism}\\\\\n",
    "     if \\,f \\text{ is on to on}, f\\, \\text{ is called a group epimorphism}\\\\\n",
    "     if \\,f \\text{ is one to one and on to on}, f\\, \\text{ is called a group isomorphism}$\n",
    ">> ## $(\\mathbb{G},*) \\overset {f}{\\cong} (\\mathbb{H},\\circ)$"
   ]
  },
  {
   "cell_type": "code",
   "execution_count": null,
   "id": "84afccb7-1d49-4ffc-a81f-905a89c1e7ea",
   "metadata": {},
   "outputs": [],
   "source": []
  }
 ],
 "metadata": {
  "kernelspec": {
   "display_name": "Python 3 (ipykernel)",
   "language": "python",
   "name": "python3"
  },
  "language_info": {
   "codemirror_mode": {
    "name": "ipython",
    "version": 3
   },
   "file_extension": ".py",
   "mimetype": "text/x-python",
   "name": "python",
   "nbconvert_exporter": "python",
   "pygments_lexer": "ipython3",
   "version": "3.10.2"
  }
 },
 "nbformat": 4,
 "nbformat_minor": 5
}
