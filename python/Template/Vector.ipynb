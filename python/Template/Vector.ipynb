{
 "cells": [
  {
   "cell_type": "markdown",
   "id": "6d1ad3b8-cbd2-4f47-b771-fba9c66c030f",
   "metadata": {},
   "source": [
    "# $ \\big( V, \\mathbb{F}, +, \\cdot \\big)$\n",
    "> ## $ \\big( V, \\mathbb{R}, +, \\cdot \\big)$"
   ]
  },
  {
   "cell_type": "markdown",
   "id": "07a6d2e5-ce53-43c0-acfd-d8e411f7fecf",
   "metadata": {
    "tags": []
   },
   "source": [
    "# Field\n",
    "> ## addtion operator\n",
    ">> ### identity\n",
    ">>> ### need for solution\n",
    ">> ### inverse\n",
    ">>> ### need for solution\n",
    "> ## multiply operator\n",
    ">> ## identity\n",
    ">>> ### need for solution\n",
    ">> ### inverse (*0)\n",
    ">>> ### need for solution"
   ]
  },
  {
   "cell_type": "markdown",
   "id": "dcdc3138-6efb-4f4b-9fec-d13bb97b75b2",
   "metadata": {
    "jp-MarkdownHeadingCollapsed": true,
    "tags": []
   },
   "source": [
    "# span $\\iff$ how to make vectors \n",
    "> ### $ \\big(V, \\mathbb{F}, +, \\cdot \\big) $\n",
    ">> ### ${}^{\\forall}\\vec{v}$ ,where $\\vec{v} \\in V$\n",
    ">> ### single basis $ e_{n} \\in V$\n",
    ">>> ### $ \\vec{v} = v^{1}\\vec{e_{1}} + v^{2}\\vec{e_{2}} + .. + v^{n}\\vec{e_{n}}$\n",
    ">>>> ### n is rank(dimention)\n",
    ">> ### components $ v^{n} \\in \\mathbb {F}$\n",
    ">>> ### $v^{1}, v^{2}, ... , v^{n} $ is components"
   ]
  },
  {
   "cell_type": "markdown",
   "id": "2dbebccf-cbeb-4f17-9576-43210c0c46c9",
   "metadata": {},
   "source": [
    "# rank = dimention\n",
    "> ### $ \\vec{e_{1}}, \\vec{e_{2}}, \\vec{e_{3}} ..., \\vec{e_{n}}$\n",
    ">> ### $\\big[V,\\; \\mathbb{R},\\; e_n,\\; n \\big] \\iff \\text{ Vector}$\n",
    ">> ### $\\big[V^{*},\\; \\mathbb{R},\\; e^n,\\; n \\big] \\iff \\text{ CoVector}$\n",
    ">>> ### $\\big[V^{*},\\; \\mathbb{R},\\; \\epsilon ^n,\\; n \\big]$\n",
    "> ### $\\big[\\underbrace{V}_{\\text{vector space}}, \\mathbb{R}, \\underbrace{e_m}_{\\text{single basis}}, \\underbrace{m}_{\\text{rank}} \\big],\n",
    "\\quad \\big[\\underbrace{V^{*}}_{\\text{dual space}}, \\mathbb{R}, \\underbrace{e^n}_{\\text{dual basis}}, \\underbrace{n}_{\\text{ rank}} \\big] $\n",
    "> ### 1 dimentional vector = use super script\n",
    ">> ### $\\big[V,\\;  \\mathbb{R},\\;  e^m, \\text{ rank: }4 \\big] \\overset{\\Lambda}{\\longrightarrow}  \\mathbb{R} $ \n",
    ">>> ### $ \n",
    "\\big[V^{*},\\;  \\mathbb{R},\\;  e^m, \\text{ rank: }4 \\big] \n",
    "\\mapsto \n",
    "\\big[V,\\; \\mathbb{R}, \\; e_m, \\text{ rank: }4 \\big] $"
   ]
  },
  {
   "cell_type": "markdown",
   "id": "4fcbe219-49e8-43e4-b214-98c34be0f1c4",
   "metadata": {},
   "source": [
    "# Maps\n",
    "> ### $\\big[V, \\mathbb{R}, \\vec{e_m}, \\text{ rank: }m, \\big], \\quad \\big[W, \\mathbb{R}, \\tilde{\\vec{e_n}}, \\text{ rank: }n, \\big] $\n",
    "> ### $\\big[V, \\mathbb{R}, \\vec{e_m}, \\text{ rank: }m, \\big] \\overset{\\Lambda}{\\longrightarrow}{\\big[W, \\mathbb{R}, \\tilde{\\vec{e_n}}, \\text{ rank: }n, \\big]} $\n",
    ">> ### $ \\Lambda: V \\mapsto W$\n",
    ">> ### $ \\Lambda v \\to w$\n",
    ">> ### $ \\Lambda (v) \\to w$\n",
    ">> ### $ <\\Lambda, v> \\;\\to w$\n",
    ">> ### $ <\\Lambda, >$\n",
    ">> ### $\\Lambda e_0 =  \\; < \\Lambda, \\vec{e_0}> \\;\n",
    "= 3\\tilde{\\vec{e_1}} + 2\\tilde{\\vec{e_4}} + \\tilde{\\vec{e_m}}$\n",
    ">> ### $\\Lambda e_1 =  \\; < \\Lambda, \\vec{e_0}> \\;\n",
    "= \\pi\\tilde{\\vec{e_1}} + 2\\tilde{\\vec{e_2}} + \\tilde{\\vec{e_k}}$\n"
   ]
  },
  {
   "cell_type": "markdown",
   "id": "0c7eca64-f343-49be-b20c-58c86e4c3e99",
   "metadata": {},
   "source": [
    "# Lenear Map\n",
    "> ### $ A = A^{m} \\vec{e_m} \\iff A^0\\vec{e_0} + A^1\\vec{e_1} + ... + A^n\\vec{e_n} = \\sum_{i=0}^{m}A^{i}\\vec{e_n}$\n",
    ">> ### $ <\\Lambda, A> = <\\Lambda, A^{m}\\vec{e_m}>\n",
    "= A^0<\\Lambda,\\vec{e_0}> + A^1<\\Lambda, \\vec{e_1}> .. A^n<\\Lambda, \\vec{e_n}>$\n",
    "> ### $<\\Lambda, av + bw> \\; = a<\\Lambda,v> + \\; b<\\Lambda,w>$ \n",
    "> ### $ L: V \\mapsto W $\n",
    ">> ### $\\quad V$ is domain\n",
    ">> ### $\\quad W$ is range\n",
    "> ### $ L(v + w) = L(v) + l(w) $\n",
    ">> ### $\\quad \\vec{v}, \\vec{w} \\in V, a \\in \\mathbb{F} $\n",
    "> ### $ aL(v) = L(av)$"
   ]
  },
  {
   "cell_type": "markdown",
   "id": "3a2647bf-8cad-4f0c-896b-b34cb9da275f",
   "metadata": {},
   "source": [
    "# Vector $\\iff$ Field, Linear Map"
   ]
  },
  {
   "cell_type": "markdown",
   "id": "92e7ec08-9833-444a-a79f-1dbe88e207e0",
   "metadata": {},
   "source": []
  },
  {
   "cell_type": "markdown",
   "id": "87fb9384-ab59-4ea4-a242-2fde7db858cd",
   "metadata": {},
   "source": [
    "---\n",
    "# \"Position\" vector\n",
    "> # are only meaningful in a vector/affine space.\n",
    ">> ### Position/separation vectors: \n",
    ">>> ### Arrows that point between two points. \n",
    ">>> ### Position vectors point from the origin to another point. \n",
    ">>> ### Separation vectors between arbitrary points."
   ]
  },
  {
   "cell_type": "markdown",
   "id": "b9f4a432-78df-4663-a0e1-0580f4d145fe",
   "metadata": {},
   "source": [
    "---\n",
    "# \"Tangent\" vectors: \n",
    "> # In differential geometry, only tangent vectors make sense,\n",
    ">> ### These vectors are firmly located in one point. \n",
    ">> ### They have finite length (norm), \n",
    ">> ### but they don't point between two points at all. \n",
    ">> ### If you think about it, it makes sense. \n",
    ">> ### Consider an electric field E(r). \n",
    ">> ### This associates to a point (represented by the position vector r) a vector E(r), \n",
    ">> ### representing the strength of the electric field there. \n",
    ">> ### It is a vector because the electric field has a direction too. \n",
    ">> ### But ask, \"to which point does that vector point to, from r?\". \n",
    ">> ### The question doesn't make sense. \n",
    ">>> ### The vector simply sits in the point r, and it pertains(부속하다) to that point and that point only."
   ]
  },
  {
   "cell_type": "markdown",
   "id": "ba7c4b7e-5563-4348-82b8-9245f5022f96",
   "metadata": {},
   "source": [
    "---\n",
    "# \"Moment\" vectors \n",
    "> # are only meaningful in a vector/affine space.\n",
    ">> ### These vectors are not located anywhere. \n",
    ">> ### Stuff like, \n",
    ">>> ### angular momentum of a rigid body, or total momentum of a system of multiple particles. \n",
    ">> ### It is a quantity with direction and magnitude, but the \"location\" of this quantity is ill-defined."
   ]
  },
  {
   "cell_type": "code",
   "execution_count": null,
   "id": "64a5c955-5e64-49cf-90db-c59273f4de69",
   "metadata": {},
   "outputs": [],
   "source": []
  }
 ],
 "metadata": {
  "kernelspec": {
   "display_name": "Python 3 (ipykernel)",
   "language": "python",
   "name": "python3"
  },
  "language_info": {
   "codemirror_mode": {
    "name": "ipython",
    "version": 3
   },
   "file_extension": ".py",
   "mimetype": "text/x-python",
   "name": "python",
   "nbconvert_exporter": "python",
   "pygments_lexer": "ipython3",
   "version": "3.10.1"
  }
 },
 "nbformat": 4,
 "nbformat_minor": 5
}
