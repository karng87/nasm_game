{
 "cells": [
  {
   "cell_type": "markdown",
   "id": "9e3936f2-a005-4b49-b02f-39aac528e68a",
   "metadata": {},
   "source": [
    "# 순열 조합 확률\n",
    "## 건물 층수\n",
    ">##  n (자연인)\n",
    ">> $ n \\in \\mathbb N$  \n",
    ">##  r (층수=rows)  \n",
    "---\n",
    "> ## Repeated Pumutation\n",
    ">> 일층부터 모두 채우고 중복임으로 모두 복사해서 다음층으로 올라간다.\n",
    ">> 10진수 16진수 8진수 2진수 만들기\n",
    ">> ## $ {}_n\\Pi_r = n^{r}$\n",
    "\n",
    "> ## Pumutation\n",
    ">> 일층부터 모두 채우고 중복할수 없으므로 한명을 남겨서 지키게 하고 만들어야 하는 모든 층수 만큼 반복 이동 시킨다.\n",
    ">> ## ${}_{n}P_{r} = \\frac{n!}{(n-r)!} $\n",
    "\n",
    "> ## Combination\n",
    ">> 1층에 일단 모두 채우고 중복을 허락하지 않으므로 한명은 남기고 다음층으로 모두 이동 시킨다. \n",
    ">>> 그리고 나서 층수를 사람으로 해서 층만큼 중복을 허락하지 않고 넣고 계산한것으로 나누어 건물 층을 무력화 시킨다.\n",
    ">> ## $ {}_{n}C_{r} =  \\frac{nPr}{r!}$\n",
    ">>\n"
   ]
  },
  {
   "cell_type": "markdown",
   "id": "f3c53920-d035-4cd9-921c-4f07d79c891b",
   "metadata": {},
   "source": [
    "# 공집합 ($\\emptyset $)  =  전체집합 ($ \\cup $)"
   ]
  },
  {
   "cell_type": "code",
   "execution_count": null,
   "id": "d4ef06cc-c6db-4eda-b63b-ed86e2144c1e",
   "metadata": {},
   "outputs": [],
   "source": []
  }
 ],
 "metadata": {
  "kernelspec": {
   "display_name": "Python 3 (ipykernel)",
   "language": "python",
   "name": "python3"
  },
  "language_info": {
   "codemirror_mode": {
    "name": "ipython",
    "version": 3
   },
   "file_extension": ".py",
   "mimetype": "text/x-python",
   "name": "python",
   "nbconvert_exporter": "python",
   "pygments_lexer": "ipython3",
   "version": "3.10.2"
  }
 },
 "nbformat": 4,
 "nbformat_minor": 5
}
