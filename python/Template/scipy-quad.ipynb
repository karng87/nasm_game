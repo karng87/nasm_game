{
 "cells": [
  {
   "cell_type": "markdown",
   "id": "555a88e2-d91e-4040-b292-557f3c3423be",
   "metadata": {},
   "source": [
    "# General integration (quad)"
   ]
  },
  {
   "cell_type": "code",
   "execution_count": 32,
   "id": "a5ca666e-52de-42b8-b845-43c93d1105ca",
   "metadata": {},
   "outputs": [],
   "source": [
    "import scipy as sci\n",
    "import scipy.integrate\n",
    "import numpy as np\n",
    "\n",
    "ans = sci.integrate.quad(lambda x: np.exp(-x**2)*np.cos(2*np.pi*x), -np.Inf, np.Inf)"
   ]
  },
  {
   "cell_type": "markdown",
   "id": "92807c0a-cd5c-4d21-ac44-110a7086b73d",
   "metadata": {},
   "source": [
    "# $$ I_n = \\int_0^{\\infty} e^{-nx^2}dx $$"
   ]
  },
  {
   "cell_type": "code",
   "execution_count": 37,
   "id": "d50a3fa8-2c98-4ef9-a98b-93c0a5fbbfe1",
   "metadata": {},
   "outputs": [
    {
     "data": {
      "text/plain": [
       "(0.8862269254527579, 7.101318390472462e-09)"
      ]
     },
     "execution_count": 37,
     "metadata": {},
     "output_type": "execute_result"
    }
   ],
   "source": [
    "def f(x):\n",
    "    return np.exp(-n*x**2)\n",
    "n=1\n",
    "sci.integrate.quad(f,0,np.Inf)"
   ]
  },
  {
   "cell_type": "code",
   "execution_count": 42,
   "id": "6d4501a6-87be-43af-bd9a-5567ba3d3185",
   "metadata": {},
   "outputs": [
    {
     "data": {
      "text/plain": [
       "(0.8862269254527579, 7.101318390472462e-09)"
      ]
     },
     "execution_count": 42,
     "metadata": {},
     "output_type": "execute_result"
    }
   ],
   "source": [
    "sci.integrate.quad(lambda x,n:np.exp(-n*x**2),0,np.Inf,args=n)"
   ]
  },
  {
   "cell_type": "code",
   "execution_count": 53,
   "id": "76bf8aeb-cbe4-4397-95c8-e6115a9b7ffe",
   "metadata": {},
   "outputs": [
    {
     "data": {
      "text/plain": [
       "[0.8862269254527579,\n",
       " 0.6266570686577508,\n",
       " 0.5116633539732443,\n",
       " 0.44311346272637897,\n",
       " 0.3963327297606012,\n",
       " 0.3618006272791338,\n",
       " 0.334962292845339,\n",
       " 0.31332853432887503,\n",
       " 0.29540897515091924]"
      ]
     },
     "execution_count": 53,
     "metadata": {},
     "output_type": "execute_result"
    }
   ],
   "source": [
    "[sci.integrate.quad(lambda x,n:np.exp(-n*x**2),0,np.Inf,args=n)[0] for n in np.arange(1,10)]"
   ]
  },
  {
   "cell_type": "code",
   "execution_count": null,
   "id": "51b1d396-e7ca-4cc7-9a3f-d8fa616bb69e",
   "metadata": {},
   "outputs": [],
   "source": []
  }
 ],
 "metadata": {
  "kernelspec": {
   "display_name": "Python 3 (ipykernel)",
   "language": "python",
   "name": "python3"
  },
  "language_info": {
   "codemirror_mode": {
    "name": "ipython",
    "version": 3
   },
   "file_extension": ".py",
   "mimetype": "text/x-python",
   "name": "python",
   "nbconvert_exporter": "python",
   "pygments_lexer": "ipython3",
   "version": "3.10.2"
  }
 },
 "nbformat": 4,
 "nbformat_minor": 5
}
