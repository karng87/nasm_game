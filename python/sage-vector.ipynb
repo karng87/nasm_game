{
 "cells": [
  {
   "cell_type": "code",
   "execution_count": 177,
   "id": "0338da74-2bc9-4112-85ee-95d097151a9f",
   "metadata": {},
   "outputs": [
    {
     "ename": "TypeError",
     "evalue": "expect string as first argument",
     "output_type": "error",
     "traceback": [
      "\u001b[0;31m---------------------------------------------------------------------------\u001b[0m",
      "\u001b[0;31mTypeError\u001b[0m                                 Traceback (most recent call last)",
      "Input \u001b[0;32mIn [177]\u001b[0m, in \u001b[0;36m<cell line: 6>\u001b[0;34m()\u001b[0m\n\u001b[1;32m      4\u001b[0m a\u001b[38;5;241m*\u001b[39mx\u001b[38;5;241m*\u001b[39m\u001b[38;5;241m*\u001b[39mInteger(\u001b[38;5;241m2\u001b[39m) \u001b[38;5;241m+\u001b[39m b\u001b[38;5;241m*\u001b[39mx \u001b[38;5;241m+\u001b[39m c\n\u001b[1;32m      5\u001b[0m var(\u001b[38;5;124m'\u001b[39m\u001b[38;5;124mV V_f chi l psi\u001b[39m\u001b[38;5;124m'\u001b[39m)\n\u001b[0;32m----> 6\u001b[0m \u001b[43mfunction\u001b[49m\u001b[43m(\u001b[49m\u001b[43ma\u001b[49m\u001b[43m)\u001b[49m\n",
      "File \u001b[0;32m/usr/lib/python3.10/site-packages/sage/calculus/var.pyx:353\u001b[0m, in \u001b[0;36msage.calculus.var.function (build/cythonized/sage/calculus/var.c:1763)\u001b[0;34m()\u001b[0m\n\u001b[1;32m    134\u001b[0m \u001b[38;5;124mr\u001b[39m\u001b[38;5;124;03m\"\"\"\u001b[39;00m\n\u001b[1;32m    135\u001b[0m \u001b[38;5;124;03mCreate a formal symbolic function with the name *s*.\u001b[39;00m\n\u001b[1;32m    136\u001b[0m \n\u001b[0;32m   (...)\u001b[0m\n\u001b[1;32m    350\u001b[0m \u001b[38;5;124;03m    B   \u001b[39;00m\n\u001b[1;32m    351\u001b[0m \u001b[38;5;124;03m\"\"\"\u001b[39;00m\n\u001b[1;32m    352\u001b[0m G \u001b[38;5;241m=\u001b[39m \u001b[38;5;28mglobals\u001b[39m()  \u001b[38;5;66;03m# this is the reason the code must be in Cython.\u001b[39;00m\n\u001b[0;32m--> 353\u001b[0m v \u001b[38;5;241m=\u001b[39m new_function(s, \u001b[38;5;241m*\u001b[39m\u001b[38;5;241m*\u001b[39mkwds)\n\u001b[1;32m    354\u001b[0m \u001b[38;5;28;01mif\u001b[39;00m \u001b[38;5;28misinstance\u001b[39m(v, \u001b[38;5;28mtuple\u001b[39m):\n\u001b[1;32m    355\u001b[0m     \u001b[38;5;28;01mfor\u001b[39;00m x \u001b[38;5;129;01min\u001b[39;00m v:\n",
      "File \u001b[0;32m/usr/lib/python3.10/site-packages/sage/symbolic/function_factory.py:338\u001b[0m, in \u001b[0;36mfunction\u001b[0;34m(s, **kwds)\u001b[0m\n\u001b[1;32m    152\u001b[0m \u001b[38;5;124mr\u001b[39m\u001b[38;5;124;03m\"\"\"\u001b[39;00m\n\u001b[1;32m    153\u001b[0m \u001b[38;5;124;03mCreate a formal symbolic function with the name *s*.\u001b[39;00m\n\u001b[1;32m    154\u001b[0m \n\u001b[0;32m   (...)\u001b[0m\n\u001b[1;32m    335\u001b[0m \u001b[38;5;124;03m    E\u001b[39;00m\n\u001b[1;32m    336\u001b[0m \u001b[38;5;124;03m\"\"\"\u001b[39;00m\n\u001b[1;32m    337\u001b[0m \u001b[38;5;28;01mif\u001b[39;00m \u001b[38;5;129;01mnot\u001b[39;00m \u001b[38;5;28misinstance\u001b[39m(s, \u001b[38;5;28mstr\u001b[39m):\n\u001b[0;32m--> 338\u001b[0m     \u001b[38;5;28;01mraise\u001b[39;00m \u001b[38;5;167;01mTypeError\u001b[39;00m(\u001b[38;5;124m\"\u001b[39m\u001b[38;5;124mexpect string as first argument\u001b[39m\u001b[38;5;124m\"\u001b[39m)\n\u001b[1;32m    340\u001b[0m \u001b[38;5;66;03m# create the function or functions\u001b[39;00m\n\u001b[1;32m    341\u001b[0m \u001b[38;5;28;01mif\u001b[39;00m \u001b[38;5;124m'\u001b[39m\u001b[38;5;124m,\u001b[39m\u001b[38;5;124m'\u001b[39m \u001b[38;5;129;01min\u001b[39;00m s:\n",
      "\u001b[0;31mTypeError\u001b[0m: expect string as first argument"
     ]
    }
   ],
   "source": [
    "%display latex\n",
    "var('a, b, c')\n",
    "u=vector([a,b,c])\n",
    "a*x^2 + b*x + c\n",
    "var('V V_f chi l psi')"
   ]
  },
  {
   "cell_type": "code",
   "execution_count": 98,
   "id": "5ac7560e-eabd-48b8-856d-cc8be36579c2",
   "metadata": {},
   "outputs": [
    {
     "data": {
      "text/latex": [
       "$\\nabla \\cdot \\vec{\\mathbf{B}} \\\\ \\left[\\begin{align}a_{11}&&a_{12} \\\\a_{21}&&a_{22} \\end{align} \\right]$\n",
       "$\\nabla \\times \\vec{\\mathbf{B}} \\\\ \\begin{bmatrix}a_{11}  & a_{12} \\\\a_{21} & a_{22} \\end{bmatrix}$\n",
       "$\\left|A /right| $\n"
      ],
      "text/plain": [
       "<IPython.core.display.Latex object>"
      ]
     },
     "metadata": {},
     "output_type": "display_data"
    }
   ],
   "source": [
    "%%latex\n",
    "$\\nabla \\cdot \\vec{\\mathbf{B}} \\\\ \\left[\\begin{align}a_{11}&&a_{12} \\\\a_{21}&&a_{22} \\end{align} \\right]$\n",
    "$\\nabla \\times \\vec{\\mathbf{B}} \\\\ \\begin{bmatrix}a_{11}  & a_{12} \\\\a_{21} & a_{22} \\end{bmatrix}$"
   ]
  },
  {
   "cell_type": "code",
   "execution_count": 118,
   "id": "c4129e8a-92b4-4ba4-adf1-c0d260990c1b",
   "metadata": {},
   "outputs": [
    {
     "data": {
      "text/latex": [
       "$det(A) = \\left| A \\right| = \\left| \\begin{align} \\epsilon_i && \\epsilon_j && \\epsilon_k \\\\ a_{11} && a_{12} && a_{13}\\\\ b_{11} && b_{12} && b_{13}\\end{align}\\right|$\n"
      ],
      "text/plain": [
       "<IPython.core.display.Latex object>"
      ]
     },
     "metadata": {},
     "output_type": "display_data"
    }
   ],
   "source": [
    "%%latex\n",
    "$det(A) = \\left| A \\right| = \\left| \\begin{align} \\epsilon_i && \\epsilon_j && \\epsilon_k \\\\ a_{11} && a_{12} && a_{13}\\\\ b_{11} && b_{12} && b_{13}\\end{align}\\right|$"
   ]
  },
  {
   "cell_type": "code",
   "execution_count": 165,
   "id": "ed37018f-dc08-4a82-899a-d25936ee2c41",
   "metadata": {},
   "outputs": [
    {
     "data": {
      "text/latex": [
       "$\\epsilon_{ijk} \\left\\{ \\begin{align} 1 &\\quad \\text{even permutation with i j k} \\\\ -1 &\\quad odd \\\\ 0 &\\quad otherwise \\end{align}\\right. $\n"
      ],
      "text/plain": [
       "<IPython.core.display.Latex object>"
      ]
     },
     "metadata": {},
     "output_type": "display_data"
    }
   ],
   "source": [
    "%%latex\n",
    "$\\epsilon_{ijk} \\left\\{ \\begin{align} 1 &\\quad \\text{even permutation with i j k} \\\\ -1 &\\quad odd \\\\ 0 &\\quad otherwise \\end{align}\\right. $"
   ]
  },
  {
   "cell_type": "code",
   "execution_count": 170,
   "id": "46f9d679-5e88-4a8d-a5f6-49b21959d857",
   "metadata": {},
   "outputs": [
    {
     "data": {
      "text/latex": [
       "$$\\big(AB\\big)_{ij} = A_{ik}B_{kj} = \\sum_{k=1}^{n}A_{ik}B_{kj}$$\n"
      ],
      "text/plain": [
       "<IPython.core.display.Latex object>"
      ]
     },
     "metadata": {},
     "output_type": "display_data"
    }
   ],
   "source": [
    "%%latex\n",
    "$$\\big(AB\\big)_{ij} = A_{ik}B_{kj} = \\sum_{k=1}^{n}A_{ik}B_{kj}$$"
   ]
  },
  {
   "cell_type": "code",
   "execution_count": null,
   "id": "9327f9f9-3371-421a-9f28-0a1f9181d53b",
   "metadata": {},
   "outputs": [],
   "source": []
  }
 ],
 "metadata": {
  "kernelspec": {
   "display_name": "SageMath 9.5",
   "language": "sage",
   "name": "sagemath"
  },
  "language_info": {
   "codemirror_mode": {
    "name": "ipython",
    "version": 3
   },
   "file_extension": ".py",
   "mimetype": "text/x-python",
   "name": "python",
   "nbconvert_exporter": "python",
   "pygments_lexer": "ipython3",
   "version": "3.10.4"
  }
 },
 "nbformat": 4,
 "nbformat_minor": 5
}
