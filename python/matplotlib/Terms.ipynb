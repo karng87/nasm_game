{
 "cells": [
  {
   "cell_type": "markdown",
   "id": "3228af9a-f8bd-419c-9bd9-410ade92c89a",
   "metadata": {},
   "source": [
    "# Abbreviations\n",
    "> ## $\\color{red}{i.e.}$\n",
    ">> ### in other word, that is\n",
    "> ## $\\color{red}{e.g.}$\n",
    ">> ### for example\n",
    "> ## $\\color{red}{cf.}$\n",
    ">> ### compare to , see also\n",
    "> ## $\\color{red}{vs.}$\n",
    ">> ### versus\n",
    ">> ### against or in constrast to"
   ]
  },
  {
   "cell_type": "markdown",
   "id": "80b7cf05-a894-4579-89ed-d6e14095d48a",
   "metadata": {},
   "source": [
    "# Mathematical Symbols\n",
    "> ## definition\n",
    ">> ## $\\color{red}{:=},\\color{red}{\\overset{def}{=}},\\color{red}{\\equiv} $\n",
    ">>> ### the equal by definition sign\n",
    ">>> ### is equal by dfinition to \n"
   ]
  },
  {
   "cell_type": "markdown",
   "id": "cc41785f-3da5-440d-8a13-10314a67cb04",
   "metadata": {},
   "source": [
    "> ## such that\n",
    ">> ### $\\color{red}{|},\\; \\color{red}{:},\\; \\color{red}{\\ni},\\; \\color{red}{ \\backepsilon},\\; \\color{red}{s.t}$\n",
    ">>> ### under the condition that"
   ]
  },
  {
   "cell_type": "markdown",
   "id": "ccce8d14-4a05-42fd-8cdf-caa3089abae2",
   "metadata": {},
   "source": [
    "> ## implies\n",
    ">> ### $\\color{red}{\\implies}$\n",
    "> ## impied by\n",
    ">> ### $\\color{red}{\\impliedby}$"
   ]
  },
  {
   "cell_type": "markdown",
   "id": "b9d4220a-ec24-4dac-a793-a838d402b9f7",
   "metadata": {},
   "source": [
    "> ## iff\n",
    ">> ### $\\color{red}{\\iff}$\n",
    ">> ### if and only if\n",
    ">>> ### simulataneously\n",
    ">>> ### it's raining iff it's really humid\n",
    ">>>> ### it's raining implies the statement it's really hummid and vice versa"
   ]
  },
  {
   "cell_type": "markdown",
   "id": "c4052659-86be-4976-bd0c-84394242e529",
   "metadata": {},
   "source": [
    "> ## therefore and because\n",
    ">> ### $\\color{red}{\\therefore}\\; \\equiv\\; $ therefore\n",
    ">> ### $\\color{red}{\\because}\\; \\equiv\\; $ because"
   ]
  },
  {
   "cell_type": "code",
   "execution_count": null,
   "id": "14f1ff60-7c9d-45cd-95cb-d57b7c84b9ed",
   "metadata": {},
   "outputs": [],
   "source": []
  }
 ],
 "metadata": {
  "kernelspec": {
   "display_name": "Python 3 (ipykernel)",
   "language": "python",
   "name": "python3"
  },
  "language_info": {
   "codemirror_mode": {
    "name": "ipython",
    "version": 3
   },
   "file_extension": ".py",
   "mimetype": "text/x-python",
   "name": "python",
   "nbconvert_exporter": "python",
   "pygments_lexer": "ipython3",
   "version": "3.9.9"
  }
 },
 "nbformat": 4,
 "nbformat_minor": 5
}
