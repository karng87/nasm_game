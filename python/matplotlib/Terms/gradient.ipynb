{
 "cells": [
  {
   "cell_type": "markdown",
   "id": "fdf6145c-4156-47ce-ad93-65a31745d5fd",
   "metadata": {},
   "source": [
    "# Vector CoordSys3D\n",
    "> ### gradient"
   ]
  },
  {
   "cell_type": "code",
   "execution_count": 5,
   "id": "03fcfe6e-6c18-4a36-96e4-ef82d9442b10",
   "metadata": {},
   "outputs": [
    {
     "data": {
      "text/latex": [
       "$\\displaystyle CoordSys3D\\left(, \\left( \\left[\\begin{matrix}1 & 0 & 0\\\\0 & 1 & 0\\\\0 & 0 & 1\\end{matrix}\\right], \\  \\mathbf{\\hat{0}}\\right)\\right)$"
      ],
      "text/plain": []
     },
     "execution_count": 5,
     "metadata": {},
     "output_type": "execute_result"
    }
   ],
   "source": [
    "import sympy as sym\n",
    "import sympy.vector\n",
    "sym.vector.CoordSys3D('')"
   ]
  },
  {
   "cell_type": "code",
   "execution_count": 6,
   "id": "edbb145a-9ec1-430d-b4a3-3c3d8bfa42a0",
   "metadata": {},
   "outputs": [
    {
     "data": {
      "text/latex": [
       "$\\displaystyle \\mathbf{{x}_{}} \\sin{\\left(\\mathbf{{y}_{}} \\right)}$"
      ],
      "text/plain": [
       ".x*sin(.y)"
      ]
     },
     "execution_count": 6,
     "metadata": {},
     "output_type": "execute_result"
    }
   ],
   "source": [
    "C = sym.vector.CoordSys3D('')\n",
    "f = C.x * sym.sin(C.y)\n",
    "f"
   ]
  },
  {
   "cell_type": "code",
   "execution_count": 7,
   "id": "a5a907c3-f24e-4999-81e9-4ae3739de302",
   "metadata": {},
   "outputs": [
    {
     "data": {
      "text/latex": [
       "$\\displaystyle (\\sin{\\left(\\mathbf{{y}_{}} \\right)})\\mathbf{\\hat{i}_{}} + (\\mathbf{{x}_{}} \\cos{\\left(\\mathbf{{y}_{}} \\right)})\\mathbf{\\hat{j}_{}}$"
      ],
      "text/plain": [
       "(sin(.y))*.i + (.x*cos(.y))*.j"
      ]
     },
     "execution_count": 7,
     "metadata": {},
     "output_type": "execute_result"
    }
   ],
   "source": [
    "sym.vector.gradient(f)"
   ]
  },
  {
   "cell_type": "code",
   "execution_count": 8,
   "id": "39e9e9b8-a7a8-4468-b091-35983bd7e635",
   "metadata": {},
   "outputs": [
    {
     "data": {
      "text/latex": [
       "$\\displaystyle \\left[\\begin{matrix}\\sin{\\left(\\mathbf{{y}_{}} \\right)}\\\\\\mathbf{{x}_{}} \\cos{\\left(\\mathbf{{y}_{}} \\right)}\\\\0\\end{matrix}\\right]$"
      ],
      "text/plain": [
       "Matrix([\n",
       "[   sin(.y)],\n",
       "[.x*cos(.y)],\n",
       "[         0]])"
      ]
     },
     "execution_count": 8,
     "metadata": {},
     "output_type": "execute_result"
    }
   ],
   "source": [
    "sym.vector.gradient(f).to_matrix(C)"
   ]
  },
  {
   "cell_type": "code",
   "execution_count": 9,
   "id": "30f4f1f5-a348-4a7a-9289-bfc0e3d086fc",
   "metadata": {},
   "outputs": [
    {
     "data": {
      "text/latex": [
       "$\\displaystyle (- \\mathbf{{x}_{}})\\mathbf{\\hat{j}_{}}$"
      ],
      "text/plain": [
       "(-.x)*.j"
      ]
     },
     "execution_count": 9,
     "metadata": {},
     "output_type": "execute_result"
    }
   ],
   "source": [
    "sym.vector.gradient(f).subs(C.y, sym.pi)"
   ]
  },
  {
   "cell_type": "code",
   "execution_count": 10,
   "id": "03d01f7b-7be4-4422-9dc1-f7a427f1ebbc",
   "metadata": {},
   "outputs": [
    {
     "data": {
      "text/latex": [
       "$\\displaystyle \\left[\\begin{matrix}0\\\\- \\mathbf{{x}_{}}\\\\0\\end{matrix}\\right]$"
      ],
      "text/plain": [
       "Matrix([\n",
       "[  0],\n",
       "[-.x],\n",
       "[  0]])"
      ]
     },
     "execution_count": 10,
     "metadata": {},
     "output_type": "execute_result"
    }
   ],
   "source": [
    "sym.vector.gradient(f).to_matrix(C).subs(C.y,sym.pi)"
   ]
  },
  {
   "cell_type": "markdown",
   "id": "198eb409-0975-4be6-b7dd-53ac11ca3165",
   "metadata": {},
   "source": [
    "## Directional derivative vector u"
   ]
  },
  {
   "cell_type": "code",
   "execution_count": 11,
   "id": "26b6a684-12eb-4870-a255-cef164938f63",
   "metadata": {},
   "outputs": [
    {
     "data": {
      "text/latex": [
       "$\\displaystyle (3)\\mathbf{\\hat{i}_{}} + (4)\\mathbf{\\hat{j}_{}} + (5)\\mathbf{\\hat{k}_{}}$"
      ],
      "text/plain": [
       "3*.i + 4*.j + 5*.k"
      ]
     },
     "execution_count": 11,
     "metadata": {},
     "output_type": "execute_result"
    }
   ],
   "source": [
    "u = 3 * C.i + 4 * C.j + 5 * C.k\n",
    "u"
   ]
  },
  {
   "cell_type": "code",
   "execution_count": 12,
   "id": "4300eacd-0b59-4810-94d5-861717f7d4f7",
   "metadata": {},
   "outputs": [
    {
     "data": {
      "text/latex": [
       "$\\displaystyle (\\frac{3 \\sqrt{2}}{10})\\mathbf{\\hat{i}_{}} + (\\frac{2 \\sqrt{2}}{5})\\mathbf{\\hat{j}_{}} + (\\frac{\\sqrt{2}}{2})\\mathbf{\\hat{k}_{}}$"
      ],
      "text/plain": [
       "(3*sqrt(2)/10)*.i + (2*sqrt(2)/5)*.j + (sqrt(2)/2)*.k"
      ]
     },
     "execution_count": 12,
     "metadata": {},
     "output_type": "execute_result"
    }
   ],
   "source": [
    "u.normalize()"
   ]
  },
  {
   "cell_type": "code",
   "execution_count": 13,
   "id": "4c4ca078-1604-42a8-832a-5d00d577c722",
   "metadata": {},
   "outputs": [
    {
     "data": {
      "text/latex": [
       "$\\displaystyle 16$"
      ],
      "text/plain": [
       "16"
      ]
     },
     "execution_count": 13,
     "metadata": {},
     "output_type": "execute_result"
    }
   ],
   "source": [
    "f = C.i + 3*C.j + C.k\n",
    "g = C.x * sym.cos(C.y)\n",
    "u = 3* C.i + 4* C.j + C.k\n",
    "sym.vector.dot(f,u)"
   ]
  },
  {
   "cell_type": "code",
   "execution_count": 14,
   "id": "f6a08f24-5f0b-4c59-b731-9b3c3d952234",
   "metadata": {},
   "outputs": [
    {
     "data": {
      "text/latex": [
       "$\\displaystyle 3 \\left(\\mathbf{\\hat{i}_{}} \\cdot \\left(\\mathbf{{x}_{}} \\cos{\\left(\\mathbf{{y}_{}} \\right)}\\right)\\right) + 4 \\left(\\mathbf{\\hat{j}_{}} \\cdot \\left(\\mathbf{{x}_{}} \\cos{\\left(\\mathbf{{y}_{}} \\right)}\\right)\\right) + \\mathbf{\\hat{k}_{}} \\cdot \\left(\\mathbf{{x}_{}} \\cos{\\left(\\mathbf{{y}_{}} \\right)}\\right)$"
      ],
      "text/plain": [
       "3*Dot(.i, .x*cos(.y)) + 4*Dot(.j, .x*cos(.y)) + Dot(.k, .x*cos(.y))"
      ]
     },
     "execution_count": 14,
     "metadata": {},
     "output_type": "execute_result"
    }
   ],
   "source": [
    "sym.vector.dot(g,u)"
   ]
  },
  {
   "cell_type": "code",
   "execution_count": 15,
   "id": "097ca8ba-8602-462b-b706-6f78cefb47ce",
   "metadata": {},
   "outputs": [
    {
     "data": {
      "text/latex": [
       "$\\displaystyle \\mathbf{\\hat{i}_{}} \\cdot \\left(\\mathbf{{x}_{}} \\cos{\\left(\\mathbf{{y}_{}} \\right)}\\right) + 3 \\left(\\mathbf{\\hat{j}_{}} \\cdot \\left(\\mathbf{{x}_{}} \\cos{\\left(\\mathbf{{y}_{}} \\right)}\\right)\\right) + \\mathbf{\\hat{k}_{}} \\cdot \\left(\\mathbf{{x}_{}} \\cos{\\left(\\mathbf{{y}_{}} \\right)}\\right)$"
      ],
      "text/plain": [
       "Dot(.i, .x*cos(.y)) + 3*Dot(.j, .x*cos(.y)) + Dot(.k, .x*cos(.y))"
      ]
     },
     "execution_count": 15,
     "metadata": {},
     "output_type": "execute_result"
    }
   ],
   "source": [
    "sym.vector.dot(f,g)"
   ]
  },
  {
   "cell_type": "code",
   "execution_count": 16,
   "id": "10351aac-f7de-4916-b865-1a3a08ea6f54",
   "metadata": {},
   "outputs": [
    {
     "data": {
      "text/latex": [
       "$\\displaystyle \\left[\\begin{matrix}0\\\\0\\\\0\\end{matrix}\\right]$"
      ],
      "text/plain": [
       "Matrix([\n",
       "[0],\n",
       "[0],\n",
       "[0]])"
      ]
     },
     "execution_count": 16,
     "metadata": {},
     "output_type": "execute_result"
    }
   ],
   "source": [
    "sym.vector.gradient(f).to_matrix(C)"
   ]
  },
  {
   "cell_type": "code",
   "execution_count": 17,
   "id": "d2e69cd6-b5c0-4e1e-91c7-447681880f93",
   "metadata": {},
   "outputs": [
    {
     "data": {
      "text/latex": [
       "$\\displaystyle \\left[\\begin{matrix}\\cos{\\left(\\mathbf{{y}_{}} \\right)}\\\\- \\mathbf{{x}_{}} \\sin{\\left(\\mathbf{{y}_{}} \\right)}\\\\0\\end{matrix}\\right]$"
      ],
      "text/plain": [
       "Matrix([\n",
       "[    cos(.y)],\n",
       "[-.x*sin(.y)],\n",
       "[          0]])"
      ]
     },
     "execution_count": 17,
     "metadata": {},
     "output_type": "execute_result"
    }
   ],
   "source": [
    "sym.vector.gradient(g).to_matrix(C)"
   ]
  },
  {
   "cell_type": "code",
   "execution_count": 18,
   "id": "b0d761a0-ce9a-44bd-a33f-c805a261d198",
   "metadata": {},
   "outputs": [
    {
     "data": {
      "text/latex": [
       "$\\displaystyle - 4 \\mathbf{{x}_{}} \\sin{\\left(\\mathbf{{y}_{}} \\right)} + 3 \\cos{\\left(\\mathbf{{y}_{}} \\right)}$"
      ],
      "text/plain": [
       "-4*.x*sin(.y) + 3*cos(.y)"
      ]
     },
     "execution_count": 18,
     "metadata": {},
     "output_type": "execute_result"
    }
   ],
   "source": [
    "sym.vector.gradient(g).dot(u)"
   ]
  },
  {
   "cell_type": "code",
   "execution_count": 19,
   "id": "b7706183-e6bc-4557-911d-d677b4bd55bc",
   "metadata": {},
   "outputs": [
    {
     "data": {
      "text/latex": [
       "$\\displaystyle -3$"
      ],
      "text/plain": [
       "-3"
      ]
     },
     "execution_count": 19,
     "metadata": {},
     "output_type": "execute_result"
    }
   ],
   "source": [
    "sym.vector.gradient(g).dot(u).subs([(C.x,1),(C.y,sym.pi)])"
   ]
  },
  {
   "cell_type": "markdown",
   "id": "ab1fd06d-1809-4917-b9f7-57707623468f",
   "metadata": {},
   "source": [
    "# [Extreme Values and Saddle Points](https://www.youtube.com/watch?v=Teb28OFMVFc)\n",
    "Extream values of f(x,y) can occur at\n",
    "> Boundary points of the domain of f  \n",
    "> Critical Points($f_x = f_y = 0$)  \n",
    "> if\n",
    ">> $ f_{xx} \\lt 0 $ and $ f_{xx}f_{yy} - f{xy}^2 \\gt 0 $ at (a,b) then local maximum  \n",
    ">> $ f_{xx} \\gt 0 $ and $ f_{xx}f_{yy} - f{xy}^2 \\gt 0 $ at (a,b) then local minimum  \n",
    ">> $ f_{xx}f_{yy} - f_{xy}^2 \\lt 0$ at (a,b) then saddle point  \n",
    ">> $ f_{xx}f_{yy} - f_{xy}^2 = 0$ at (a,b) then inconclusive"
   ]
  },
  {
   "cell_type": "code",
   "execution_count": 45,
   "id": "61e2f879-7a6d-4b77-bf59-66f739e002ae",
   "metadata": {},
   "outputs": [
    {
     "data": {
      "text/latex": [
       "$\\displaystyle (3 \\mathbf{{x}_{}}^{2} + 3 \\mathbf{{y}_{}})\\mathbf{\\hat{i}_{}} + (3 \\mathbf{{x}_{}} + 3 \\mathbf{{y}_{}}^{2})\\mathbf{\\hat{j}_{}}$"
      ],
      "text/plain": [
       "(3*.x**2 + 3*.y)*.i + (3*.x + 3*.y**2)*.j"
      ]
     },
     "execution_count": 45,
     "metadata": {},
     "output_type": "execute_result"
    }
   ],
   "source": [
    "x = sym.symbols('x')\n",
    "f = sym.symbols('f',cls=sym.Function)\n",
    "f = C.x**3 + 3*C.x*C.y + C.y**3\n",
    "sym.diff(f,C.x,C.x)\n",
    "sym.vector.gradient(f)"
   ]
  },
  {
   "cell_type": "code",
   "execution_count": 21,
   "id": "a6436fbb-acf5-4db5-9722-982a81c2eed2",
   "metadata": {},
   "outputs": [
    {
     "data": {
      "text/latex": [
       "$\\displaystyle 6 x_1$"
      ],
      "text/plain": [
       "6*.y"
      ]
     },
     "execution_count": 21,
     "metadata": {},
     "output_type": "execute_result"
    }
   ],
   "source": [
    "sym.diff(f,C.y,C.y)"
   ]
  },
  {
   "cell_type": "code",
   "execution_count": 22,
   "id": "8f5b6483-fadc-4913-881a-e734636794ac",
   "metadata": {},
   "outputs": [
    {
     "data": {
      "text/plain": [
       "[{.x: -1, .y: -1},\n",
       " {.x: 0, .y: 0},\n",
       " {.x: -(1/2 - sqrt(3)*I/2)**2, .y: 1/2 - sqrt(3)*I/2},\n",
       " {.x: -(1/2 + sqrt(3)*I/2)**2, .y: 1/2 + sqrt(3)*I/2}]"
      ]
     },
     "execution_count": 22,
     "metadata": {},
     "output_type": "execute_result"
    }
   ],
   "source": [
    "sym.solve([sym.diff(f,C.x),sym.diff(f,C.y)])"
   ]
  },
  {
   "cell_type": "code",
   "execution_count": 23,
   "id": "518cc69f-566f-4a1d-ab13-bdff2019742f",
   "metadata": {},
   "outputs": [
    {
     "data": {
      "text/latex": [
       "$\\displaystyle -6$"
      ],
      "text/plain": [
       "-6"
      ]
     },
     "execution_count": 23,
     "metadata": {},
     "output_type": "execute_result"
    }
   ],
   "source": [
    "fxx = sym.diff(f,C.x,C.x)\n",
    "fyy = sym.diff(f,C.y,C.y)\n",
    "fxy = sym.diff(f,C.x,C.y)\n",
    "fxx.subs([(C.x,-1),(C.y,-1)])"
   ]
  },
  {
   "cell_type": "code",
   "execution_count": 24,
   "id": "435d28a1-f442-45a0-9ac4-8063ce43d797",
   "metadata": {},
   "outputs": [
    {
     "data": {
      "text/latex": [
       "$\\displaystyle 27$"
      ],
      "text/plain": [
       "27"
      ]
     },
     "execution_count": 24,
     "metadata": {},
     "output_type": "execute_result"
    }
   ],
   "source": [
    "(fxx*fyy - fxy**2).subs([(C.x,-1),(C.y,-1)])\n",
    "# therefore at(-1,-1) lcoal minimum"
   ]
  },
  {
   "cell_type": "markdown",
   "id": "ff44c7e1-4562-4ac5-bf2c-91b941383286",
   "metadata": {},
   "source": [
    "# Lagrange Mulipliers\n",
    "## [let find a point(a,b,c) on g(x,y,z) from Min or Max value](https://www.youtube.com/watch?v=lmD9p6J_-TA)\n",
    "> Minimize $f(x,y,z)$ subject to the constraint $g(x,y,z)=0,  g(a,b,c) = 0$  \n",
    ">> Requires solving the two euqations $\\nabla f = \\lambda \\nabla \\text{ and } g(x,y,z) = 0 $  \n",
    ">> why $\\lambda$:  \n",
    ">>> $\\because$ each diffenrence Magnitude of gradient \n",
    "\n",
    "> Example: \n",
    ">> A space probe has the shape of an elipsoid $4x^2 + y^2 + 4z^2 = 16$ and after setting in the sun for an hour. the temperture on its surface is given by $`T(x,y,z) = 8x^2 + 4yz - 16z + 600$. Find the hottest point on the surfae  \n",
    ">\n",
    ">>Note: \n",
    ">>> that $ g = 4x^2 + y^2 + 4z^2 - 16 = 0 $ and $ f = T = 8x^2 + 4yz - 16z + 600 $ here"
   ]
  },
  {
   "cell_type": "code",
   "execution_count": 25,
   "id": "f36eeae6-a81a-4a80-8b5c-722752f7a1b8",
   "metadata": {},
   "outputs": [],
   "source": [
    "C = sym.vector.CoordSys3D('')"
   ]
  },
  {
   "cell_type": "code",
   "execution_count": 26,
   "id": "a7d1a7e5-e130-4634-b51f-5d7408ee1c29",
   "metadata": {},
   "outputs": [
    {
     "name": "stdout",
     "output_type": "stream",
     "text": [
      "Df: 16*.x*.i + 4*.z*.j + (4*.y - 16)*.k \n",
      "Dg:8*.x*.i + 2*.y*.j + 8*.z*.k\n"
     ]
    }
   ],
   "source": [
    "lam = sym.symbols('\\lambda')\n",
    "g = 4*C.x**2 + C.y**2 + 4*C.z**2 - 16\n",
    "T = 8*C.x**2 + 4*C.y*C.z - 16*C.z + 600\n",
    "print(f'Df: {sym.vector.gradient(T)} \\nDg:{sym.vector.gradient(g)}')"
   ]
  },
  {
   "cell_type": "code",
   "execution_count": 27,
   "id": "041d5fa4-1a12-4a47-b649-3a7ec1897af9",
   "metadata": {},
   "outputs": [
    {
     "data": {
      "text/plain": [
       "[{.x: 0,\n",
       "  .y: -4/((\\lambda - 1)*(\\lambda + 1)),\n",
       "  .z: -2*\\lambda/((\\lambda - 1)*(\\lambda + 1))},\n",
       " {.y: -4/3, .z: -4/3, \\lambda: 2}]"
      ]
     },
     "execution_count": 27,
     "metadata": {},
     "output_type": "execute_result"
    }
   ],
   "source": [
    "eq1 = sym.vector.gradient(T) - lam*sym.vector.gradient(g)\n",
    "eq1 = eq1.to_matrix(C)\n",
    "s1 = sym.solve(eq1)\n",
    "s1"
   ]
  },
  {
   "cell_type": "code",
   "execution_count": 28,
   "id": "959c8aae-1692-46b1-b645-9d543542d2d6",
   "metadata": {},
   "outputs": [
    {
     "name": "stdout",
     "output_type": "stream",
     "text": [
      "4*.x**2 + .y**2 + 4*.z**2 - 16\n"
     ]
    },
    {
     "data": {
      "text/plain": [
       "[{.x: -sqrt(-.y**2 - 4*.z**2 + 16)/2}, {.x: sqrt(-.y**2 - 4*.z**2 + 16)/2}]"
      ]
     },
     "execution_count": 28,
     "metadata": {},
     "output_type": "execute_result"
    }
   ],
   "source": [
    "s2 = sym.solve(g)\n",
    "print(g)\n",
    "s2"
   ]
  },
  {
   "cell_type": "code",
   "execution_count": 29,
   "id": "f47384f3-5368-4116-a157-26f4e351f865",
   "metadata": {},
   "outputs": [
    {
     "data": {
      "text/latex": [
       "$\\displaystyle \\frac{1928}{3}$"
      ],
      "text/plain": [
       "1928/3"
      ]
     },
     "execution_count": 29,
     "metadata": {},
     "output_type": "execute_result"
    }
   ],
   "source": [
    "sol = sym.solve([(sym.vector.gradient(T) - lam*sym.vector.gradient(g)).to_matrix(C), g])\n",
    "sol[0]\n",
    "g.subs(sol[0])\n",
    "T.subs(sol[0])"
   ]
  },
  {
   "cell_type": "code",
   "execution_count": 30,
   "id": "fdda3ed4-1527-4157-94f4-856267cfad73",
   "metadata": {},
   "outputs": [
    {
     "name": "stdout",
     "output_type": "stream",
     "text": [
      "1928/3\n",
      "24*sqrt(3) + 600\n",
      "600 - 24*sqrt(3)\n",
      "600\n",
      "1928/3\n"
     ]
    }
   ],
   "source": [
    "for s in sol:\n",
    "    print(T.subs(s))"
   ]
  },
  {
   "cell_type": "markdown",
   "id": "3ed68c52-a71e-494e-8f77-7c4a55ffe5f9",
   "metadata": {},
   "source": [
    "# MUltiple Integrals\n",
    "in rare cases these can be done symbolically\n",
    "> $$ \\int_0^1 \\int_0^{1-x^2} \\int_3^{4-x^2-y^2} xe^{-y}cos(z)dzdydx $$"
   ]
  },
  {
   "cell_type": "code",
   "execution_count": 31,
   "id": "a541951f-9ffa-4cc6-af18-8bec3c345755",
   "metadata": {},
   "outputs": [
    {
     "data": {
      "text/plain": [
       "(0.8652852789233809, 3.877301196381849e-14)"
      ]
     },
     "execution_count": 31,
     "metadata": {},
     "output_type": "execute_result"
    }
   ],
   "source": [
    "import scipy as sci\n",
    "import scipy.integrate\n",
    "import numpy as np\n",
    "\n",
    "sci.integrate.tplquad(lambda x,y,z:x*np.exp(-y)*np.cos(z), 0,1,lambda x:0, lambda x:1-x**2, lambda x,y:3, lambda x,y:4-x**2-y**2)\n",
    "\n"
   ]
  },
  {
   "cell_type": "markdown",
   "id": "d426a851-fd40-45a5-b311-4adaa0d37e10",
   "metadata": {},
   "source": [
    "# Integrals and vector Fields\n",
    "> Work \n",
    ">> $ W = \\vec{F} \\cdot \\vec{c}$   \n",
    ">> $ d\\,W = \\vec{F} \\cdot d\\vec{r}$   \n",
    ">> $ d\\,W = \\vec{U} \\cdot d\\,\\vec{r}$\n",
    ">>> d : diferential  of $\\vec{r}$  \n",
    ">>> $\\vec{r}$ : position vector  \n",
    ">>> u : Potential Energy\n",
    "\n",
    "## Line Inregrals(Scalar)\n",
    "> Given $\\vec{r(t)} = (g(t),h(t),k(t))$ the line integral $f(x,y,z)$ along the curve is\n",
    "$$ \\int_C f(x,y,z)dL = \\int_a^b f(g(t),h(t),k(t)) |\\frac{\\vec{dl}}{dt}| dt $$"
   ]
  },
  {
   "cell_type": "code",
   "execution_count": 32,
   "id": "da274ab1-7ee2-479d-9f25-562906294de1",
   "metadata": {},
   "outputs": [],
   "source": [
    "t = sym.symbols('t')\n",
    "x,y,z,f = sym.symbols('x y z f',cls=sym.Function,real=True)\n",
    "x = x(t)\n",
    "y = y(t)\n",
    "z = z(t)\n",
    "r = sym.Matrix([x,y,z])\n",
    "f = f(x,y,z)"
   ]
  },
  {
   "cell_type": "code",
   "execution_count": 33,
   "id": "b203ed28-c641-40fb-b828-9e5911c26920",
   "metadata": {},
   "outputs": [
    {
     "data": {
      "text/latex": [
       "$\\displaystyle \\left[\\begin{matrix}\\frac{d}{d t} x{\\left(t \\right)}\\\\\\frac{d}{d t} y{\\left(t \\right)}\\\\\\frac{d}{d t} z{\\left(t \\right)}\\end{matrix}\\right]$"
      ],
      "text/plain": [
       "Matrix([\n",
       "[Derivative(x(t), t)],\n",
       "[Derivative(y(t), t)],\n",
       "[Derivative(z(t), t)]])"
      ]
     },
     "execution_count": 33,
     "metadata": {},
     "output_type": "execute_result"
    }
   ],
   "source": [
    "sym.diff(r,t).norm()\n",
    "sym.diff(r,t)"
   ]
  },
  {
   "cell_type": "code",
   "execution_count": 34,
   "id": "0a94fa16-3ed0-4d28-b792-b0509183a4cd",
   "metadata": {
    "tags": []
   },
   "outputs": [
    {
     "data": {
      "text/latex": [
       "$\\displaystyle \\sqrt{\\left|{\\frac{d}{d t} x{\\left(t \\right)}}\\right|^{2} + \\left|{\\frac{d}{d t} y{\\left(t \\right)}}\\right|^{2} + \\left|{\\frac{d}{d t} z{\\left(t \\right)}}\\right|^{2}} f{\\left(x{\\left(t \\right)},y{\\left(t \\right)},z{\\left(t \\right)} \\right)}$"
      ],
      "text/plain": [
       "sqrt(Abs(Derivative(x(t), t))**2 + Abs(Derivative(y(t), t))**2 + Abs(Derivative(z(t), t))**2)*f(x(t), y(t), z(t))"
      ]
     },
     "execution_count": 34,
     "metadata": {},
     "output_type": "execute_result"
    }
   ],
   "source": [
    "f*sym.diff(r,t).norm()"
   ]
  },
  {
   "cell_type": "markdown",
   "id": "360d5f04-222e-4b8d-b0f2-0397cbf43849",
   "metadata": {},
   "source": [
    "### 1. suppose\n",
    "$ \n",
    "\\vec{r(t)} = < cos(t), sin(t), t > \\\\\n",
    "f(x,y,z) = 2xy + \\sqrt{z}\n",
    "$"
   ]
  },
  {
   "cell_type": "code",
   "execution_count": 35,
   "id": "5d0ebe90-6eac-4171-a03f-0910686c5f2c",
   "metadata": {},
   "outputs": [
    {
     "data": {
      "text/latex": [
       "$\\displaystyle \\frac{8 \\pi^{\\frac{3}{2}}}{3}$"
      ],
      "text/plain": [
       "8*pi**(3/2)/3"
      ]
     },
     "execution_count": 35,
     "metadata": {},
     "output_type": "execute_result"
    }
   ],
   "source": [
    "integrand = (\n",
    "    f*sym.diff(r,t).norm()).subs(\n",
    "        [(f,2*x*y+sym.sqrt(z)),\n",
    "         (x,sym.cos(t)),\n",
    "         (y,sym.sin(t)),(z,t)\n",
    "        ])\n",
    "\n",
    "integrand1=integrand.doit().simplify()\n",
    "\n",
    "sym.integrate(integrand1,(t,0,2*sym.pi))"
   ]
  },
  {
   "cell_type": "markdown",
   "id": "5e40738f-d580-477c-a307-4e1da5f478d8",
   "metadata": {},
   "source": [
    "## 2. suppose\n",
    "$\n",
    "\\vec{r(t)} = < 3cos(t), 2sin(t), e^{t/4} > \\\\\n",
    "f(x,y,z) = 2xy + \\sqrt{z}\n",
    "$"
   ]
  },
  {
   "cell_type": "code",
   "execution_count": 36,
   "id": "fd24bb51-79cb-4f0e-9017-79a4ba002ec0",
   "metadata": {},
   "outputs": [
    {
     "data": {
      "text/latex": [
       "$\\displaystyle \\frac{\\int\\limits_{0}^{2 \\pi} 3 \\sqrt{e^{\\frac{t}{2}} + 144 \\sin^{2}{\\left(t \\right)} + 16 \\cos^{2}{\\left(t \\right)}} \\sin{\\left(2 t \\right)}\\, dt}{4} + \\frac{\\int\\limits_{0}^{2 \\pi} \\sqrt{e^{\\frac{t}{2}} + 144 \\sin^{2}{\\left(t \\right)} + 16 \\cos^{2}{\\left(t \\right)}} e^{\\frac{t}{8}}\\, dt}{4}$"
      ],
      "text/plain": [
       "Integral(3*sqrt(exp(t/2) + 144*sin(t)**2 + 16*cos(t)**2)*sin(2*t), (t, 0, 2*pi))/4 + Integral(sqrt(exp(t/2) + 144*sin(t)**2 + 16*cos(t)**2)*exp(t/8), (t, 0, 2*pi))/4"
      ]
     },
     "execution_count": 36,
     "metadata": {},
     "output_type": "execute_result"
    }
   ],
   "source": [
    "integrand2=(f*sym.diff(r,t).norm()).subs(\n",
    "    [\n",
    "        (f,2*x*y+sym.sqrt(z)),(x,3*sym.cos(t)),(y,sym.sin(t)),(z,sym.exp(t/4))\n",
    "    ]\n",
    ").doit().simplify()\n",
    "sym.integrate(integrand2,(t,0,2*sym.pi))"
   ]
  },
  {
   "cell_type": "code",
   "execution_count": 37,
   "id": "8898e2f7-024c-423e-a3f0-770ef1e9a4f2",
   "metadata": {},
   "outputs": [
    {
     "data": {
      "text/plain": [
       "(21.05530045675979, 3.960606771059637e-08)"
      ]
     },
     "execution_count": 37,
     "metadata": {},
     "output_type": "execute_result"
    }
   ],
   "source": [
    "integrate_num = sym.lambdify([t],integrand2)\n",
    "sci.integrate.quad(integrate_num,0,2*np.pi)"
   ]
  },
  {
   "cell_type": "markdown",
   "id": "2d2cdaff-c7aa-4bd8-a795-02d7517cf531",
   "metadata": {},
   "source": [
    "# Line Integrals (Vector)\n",
    "> Given $ \\vec{r(t)} = < g(t),h(t),k(t) > $ \n",
    "the line integral of $ \\vec{F}(x,y,z,) $  along the curve is\n",
    "$$\n",
    "\\int_c \\vec{F}(x,y,z)\\cdot d\\,\\vec{r} = \\int_a^b \\vec{F}(g(t),h(t),k(t))\\cdot \\frac{d\\,\\vec{r}}{dt}dt\n",
    "$$"
   ]
  },
  {
   "cell_type": "code",
   "execution_count": 38,
   "id": "b6084859-11fd-4583-a71a-8e84632d3b4c",
   "metadata": {},
   "outputs": [
    {
     "data": {
      "text/latex": [
       "$\\displaystyle \\left[\\begin{matrix}\\operatorname{F_{1}}{\\left(x{\\left(t \\right)},y{\\left(t \\right)},z{\\left(t \\right)} \\right)}\\\\\\operatorname{F_{2}}{\\left(x{\\left(t \\right)},y{\\left(t \\right)},z{\\left(t \\right)} \\right)}\\\\\\operatorname{F_{3}}{\\left(x{\\left(t \\right)},y{\\left(t \\right)},z{\\left(t \\right)} \\right)}\\end{matrix}\\right]$"
      ],
      "text/plain": [
       "Matrix([\n",
       "[F_1(x(t), y(t), z(t))],\n",
       "[F_2(x(t), y(t), z(t))],\n",
       "[F_3(x(t), y(t), z(t))]])"
      ]
     },
     "execution_count": 38,
     "metadata": {},
     "output_type": "execute_result"
    }
   ],
   "source": [
    "F1,F2,F3 = sym.symbols('F_1 F_2 F_3',cls=sym.Function, real=True)\n",
    "F1 = F1(x,y,z)\n",
    "F2 = F2(x,y,z)\n",
    "F3 = F3(x,y,z)\n",
    "r = sym.Matrix([x,y,z])\n",
    "F = sym.Matrix([F1,F2,F3])\n",
    "F"
   ]
  },
  {
   "cell_type": "code",
   "execution_count": 39,
   "id": "428db18c-b1a6-48e7-bc81-7edc3f5feca9",
   "metadata": {},
   "outputs": [
    {
     "data": {
      "text/latex": [
       "$\\displaystyle \\operatorname{F_{1}}{\\left(x{\\left(t \\right)},y{\\left(t \\right)},z{\\left(t \\right)} \\right)} \\frac{d}{d t} x{\\left(t \\right)} + \\operatorname{F_{2}}{\\left(x{\\left(t \\right)},y{\\left(t \\right)},z{\\left(t \\right)} \\right)} \\frac{d}{d t} y{\\left(t \\right)} + \\operatorname{F_{3}}{\\left(x{\\left(t \\right)},y{\\left(t \\right)},z{\\left(t \\right)} \\right)} \\frac{d}{d t} z{\\left(t \\right)}$"
      ],
      "text/plain": [
       "F_1(x(t), y(t), z(t))*Derivative(x(t), t) + F_2(x(t), y(t), z(t))*Derivative(y(t), t) + F_3(x(t), y(t), z(t))*Derivative(z(t), t)"
      ]
     },
     "execution_count": 39,
     "metadata": {},
     "output_type": "execute_result"
    }
   ],
   "source": [
    "F.dot(sym.diff(r,t))"
   ]
  },
  {
   "cell_type": "markdown",
   "id": "25fc34f3-cae9-4fea-bcea-05b2f024ba9b",
   "metadata": {},
   "source": [
    "# 1. suppose\n",
    "$\n",
    "\\vec{F} = \\langle \\sqrt{z} - 2x , \\sqrt{y} \\rangle \\text{ and } \\vec{r(t)} = \\langle t, r^2,r^4 \\rangle \\text{ from } t = 0 \\text{ to } t = 1\n",
    "$"
   ]
  },
  {
   "cell_type": "code",
   "execution_count": 40,
   "id": "7b79ab6a-5ae3-4a0b-808b-d85ddec0664a",
   "metadata": {},
   "outputs": [],
   "source": [
    "integrand1 = (F.dot(sym.diff(r,t))).subs(\n",
    "    [(F1,sym.sqrt(z)),(F2,-2*x),(F3,sym.sqrt(y)),(x,t),(y,t**2),(z,t**4)]\n",
    ").doit().simplify()"
   ]
  },
  {
   "cell_type": "code",
   "execution_count": 41,
   "id": "6d14c7d5-d987-455a-93a7-de492073451f",
   "metadata": {},
   "outputs": [
    {
     "data": {
      "text/latex": [
       "$\\displaystyle - \\frac{1}{5}$"
      ],
      "text/plain": [
       "-1/5"
      ]
     },
     "execution_count": 41,
     "metadata": {},
     "output_type": "execute_result"
    }
   ],
   "source": [
    "sym.integrate(integrand1,(t,0,1))"
   ]
  },
  {
   "cell_type": "code",
   "execution_count": 42,
   "id": "ecade3f0-09f6-4e57-8d1d-3b028b14f49e",
   "metadata": {},
   "outputs": [
    {
     "data": {
      "text/latex": [
       "$\\displaystyle 4 t^{3} \\sqrt{t^{2}} - 4 t^{2} + \\sqrt{t^{4}}$"
      ],
      "text/plain": [
       "4*t**3*sqrt(t**2) - 4*t**2 + sqrt(t**4)"
      ]
     },
     "execution_count": 42,
     "metadata": {},
     "output_type": "execute_result"
    }
   ],
   "source": [
    "integrand1"
   ]
  },
  {
   "cell_type": "code",
   "execution_count": null,
   "id": "c50d603a-079b-4cf3-b727-5be247f5b6a0",
   "metadata": {},
   "outputs": [],
   "source": []
  }
 ],
 "metadata": {
  "kernelspec": {
   "display_name": "Python 3 (ipykernel)",
   "language": "python",
   "name": "python3"
  },
  "language_info": {
   "codemirror_mode": {
    "name": "ipython",
    "version": 3
   },
   "file_extension": ".py",
   "mimetype": "text/x-python",
   "name": "python",
   "nbconvert_exporter": "python",
   "pygments_lexer": "ipython3",
   "version": "3.9.9"
  }
 },
 "nbformat": 4,
 "nbformat_minor": 5
}
