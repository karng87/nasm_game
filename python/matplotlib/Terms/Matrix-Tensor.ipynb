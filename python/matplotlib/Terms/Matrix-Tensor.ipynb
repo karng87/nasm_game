{
 "cells": [
  {
   "cell_type": "markdown",
   "id": "5d6ea5bc-4688-4048-b869-a16156c6c636",
   "metadata": {},
   "source": [
    "# Metrix Tensor\n",
    "> ### euclidean geometry\n",
    ">> ### $ dl^2 = dx^2 + dy^2 $\n",
    ">>>### $ \\begin{bmatrix}dx & dy \\end{bmatrix}\n",
    "\\begin{bmatrix}1 & 0 \\\\ 0 & 1 \\end{bmatrix}\n",
    "\\begin{bmatrix}dx \\\\ dy \\end{bmatrix}\n",
    "$\n",
    ">>### Matrix Tensor \n",
    ">>> ### $\n",
    "\\begin{bmatrix} 1 & 0 \\\\ 0 & 1 \\end{bmatrix}\n",
    "=\n",
    "\\begin{bmatrix} g_{11} & g_{12} \\\\ g_{21} & g_{22} \\end{bmatrix}\n",
    "= \n",
    "g_{\\mu,\\nu}, \\text{ where } \\mu,\\nu = \\{1,2\\}\n",
    "$\n",
    ">> ### $ dl^2 = dx^2 + dy^2  + dz^2 $\n",
    ">>>### $ \\begin{bmatrix}dx & dy & dz \\end{bmatrix}\n",
    "\\begin{bmatrix}1 & 0 & 0 \\\\ 0 & 1 & 0 \\\\ 0 & 0 & 1 \\end{bmatrix}\n",
    "\\begin{bmatrix}dx \\\\ dy \\\\ dz \\end{bmatrix}\n",
    "$\n",
    ">>### Matrix Tensor \n",
    ">>> ### $\n",
    "\\begin{bmatrix} 1 & 0 & 0 \\\\ 0 & 1 & 0 \\\\ 0 & 0 & 1 \\end{bmatrix}\n",
    "=\n",
    "\\begin{bmatrix} g_{11} & g_{12} & g_{13}\\\\ g_{21} & g_{22} & g_{23} \\\\ g_{31} & g_{32} & g_{33} \\end{bmatrix}\n",
    "= \n",
    "g_{\\mu,\\nu}, \\text{ where } \\mu,\\nu = \\{1,2,3\\} \\\\\n",
    "= \n",
    "g_{11}e^{1}e^{1} + g_{12}e^{1}e^{2} + g_{13}e^{1}e^{3} +\n",
    "g_{21}e^{2}e^{1} + g_{22}e^{2}e^{2} + g_{23}e^{2}e^{3} +\n",
    "g_{31}e^{3}e^{1} + g_{32}e^{3}e^{2} + g_{33}e^{3}e^{3} +\n",
    "$"
   ]
  },
  {
   "cell_type": "markdown",
   "id": "7138a249-26aa-44c3-ad6f-0480c9fe428a",
   "metadata": {},
   "source": [
    "# [Polar coordiante system (non-euclidean geometry)](https://math.stackexchange.com/questions/2334570/how-can-you-calculate-distance-in-plane-polar-coordinates-using-the-metric-tenso/2335492)\n",
    "## $ \\psi: \\mu \\mapsto \\mathbb{R^2} \\\\\n",
    "\\psi (x,y) = \\Big( \\sqrt{x^2 + y^2}, \\arctan \\big(\\frac{y}{x} \\big) \\Big)$\n",
    "> ### $\n",
    "\\vec{r} = (x,y) = x\\hat{e_{1}} + y\\hat{e_{2}}\\quad \\text{ where } \\hat{e_{i}} \\text{ are the cartesian basis vectors}\n",
    "$\n",
    "> ### make the transforms\n",
    ">> ### $ x(r,\\theta) = r \\cos\\theta \\\\\n",
    "y(r,\\theta) = r \\sin\\theta$\n",
    "> ### coordinate bases are given by\n",
    ">> ### $\n",
    "g_{1} = \\frac{\\partial \\vec{r}}{\\partial r} \\\\\n",
    "g_{2} = \\frac{\\partial \\vec{r}}{\\partial \\theta}$\n",
    ">>> ### In differential geometry notation \n",
    ">>> ### you might see them as \n",
    "$ g_{1}= \\frac{\\partial}{\\partial r}$ and $ g_{2} = \\frac{\\partial}{\\partial \\theta}$ \n",
    ">>> ### because on a differentiable manifold, \n",
    ">>> ### there are no \"position vectors\" like r, \n",
    ">>> ### so vectors have to be identified with differential operators.\n",
    "\n",
    ">> ### Now, in vector calculus, \n",
    ">>> ### it is common to use an orthonormal frame instead of the coordinate basis vector fields.\n",
    ">>> ### The coordinate basis vectors for the polar coordinates are already \n",
    ">>>> ### orthogonal, and the \n",
    ">>>> ### $\\vec{r}$ is also unit length everywhere, \n",
    ">>> ### but the $\\vec{\\theta}$ is longer the farther you are from the origin, \n",
    ">>>> ### so we usually norm them. \n",
    ">>>> ### We have \n",
    "$$ \\hat r = \\frac{\\partial r}{ \\partial r} $$\n",
    "$$ \\hat \\theta = \\frac{1}{r} \\frac{\\partial \\vec{r}}{\\partial \\theta}$$\n",
    ">>>> ### then these vectors form an orthonormal basis everywhere they are defined."
   ]
  },
  {
   "cell_type": "markdown",
   "id": "64d961dd-86ba-4e65-b311-2adec7637ed4",
   "metadata": {},
   "source": [
    "> ### The components of the metric tensor are defined \n",
    ">> ### by the inner products of the basis vector fields \n",
    ">>> ### the metric tensor is abstractly the same as the inner product, \n",
    ">>> ### but in terms of components, this is how you define it, \n",
    ">> ### so the metric tensor is $ g_{ij} = \\delta^{i}_{j}$ in the orthonormal frame, \n",
    ">> ### but for polar coordinates, it is given by \n",
    ">> ### $ g_{ij} = \\begin{pmatrix} 1 & 0 \\\\ 0 & r^2 \\end{pmatrix} $\n",
    "> ### So if you wanna calculate inner products via this form of the metric, \n",
    "> ### you need to use coordinate bases, not the orthonormal frame."
   ]
  },
  {
   "cell_type": "code",
   "execution_count": null,
   "id": "856d35e3-919d-4b44-86d8-e44cca7a74d5",
   "metadata": {},
   "outputs": [],
   "source": []
  }
 ],
 "metadata": {
  "kernelspec": {
   "display_name": "Python 3 (ipykernel)",
   "language": "python",
   "name": "python3"
  },
  "language_info": {
   "codemirror_mode": {
    "name": "ipython",
    "version": 3
   },
   "file_extension": ".py",
   "mimetype": "text/x-python",
   "name": "python",
   "nbconvert_exporter": "python",
   "pygments_lexer": "ipython3",
   "version": "3.9.9"
  }
 },
 "nbformat": 4,
 "nbformat_minor": 5
}
