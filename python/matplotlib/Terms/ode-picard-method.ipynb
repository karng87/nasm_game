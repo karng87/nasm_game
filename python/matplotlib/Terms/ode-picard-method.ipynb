{
 "cells": [
  {
   "cell_type": "markdown",
   "id": "fa69497b-941e-424d-8f03-c50e5e18801f",
   "metadata": {},
   "source": [
    "# [first order differential eqations](https://people.math.wisc.edu/~angenent/519.2016s/notes/elementary-diffeqs.html)\n",
    "> ## First Order Separable Equation\n",
    ">> ## $\n",
    "\\frac{dy}{dx} = f(x,y) \\\\\n",
    "y'(x) = F(x)G(y(x)), \\quad or \\quad \\frac{dy}{dx} = F(x)G(y)\n",
    "$\n",
    ">>> ### not separable $ \\frac{dy}{dx} = x + y \\quad or \\quad y' = x + y$"
   ]
  },
  {
   "cell_type": "markdown",
   "id": "7792047d-2b4c-440b-ba07-96b81c515777",
   "metadata": {},
   "source": [
    "# The simplest case\n",
    "> ## $ \\frac{dx}{dt} = f(t), \\quad x(t_0) = x_0$\n",
    ">> ## $ x(t) = x_0 + \\int_{t_0}^{t} f(s)ds $\n",
    "\n",
    "# The general case\n",
    "> ## $ \\frac{dx}{dt} = f(t,x), \\quad x(t_0) = x_0 $\n",
    ">> ## $ x_0 - \\delta \\leq x \\leq x_0 + \\delta , \\quad t_{-}  \\leq t \\leq t_{+} $\n",
    "\n",
    "# [Proof by Picard iteration of Exisence Theorem](https://people.math.wisc.edu/~angenent/519.2016s/notes/picard.html#mjx-eqn-eqsimplest-ODE)\n",
    "> ## $\n",
    "x_0(t) = x_0 \\\\\n",
    "\\text{which gives us a new function } x_1(t)\n",
    "$\n",
    ">> ## $\n",
    "\\frac{dx_1}{dt} = f(t,x_0), \\quad x_0(t_0) = x_0 \\\\\n",
    "\\frac{dx_2}{dt} = f(t,x_1(t)), \\quad x_1(t0) = x_0 \\\\\n",
    "\\dots \\\\\n",
    "\\frac{dx_n}{dt} = f(t, x_{n-1}(t), \\quad x_{n-1}(t_0) = x_0 \\\\\n",
    "\\therefore x(t) \\overset{def}{=} \\lim \\limits_{k\\to\\infty} x_k(t) \\\\\n",
    "$\n",
    "> ## $$\n",
    "x_k(t) = x_0 + \\int_{t_0}^{t} f(s,x_{k-1}(s))ds \\\\\n",
    "x_{k+1}(t) = x_0 + \\int_{t_0}^{t} f(s,x_{k}(s))ds \\\\\n",
    "$$  \n",
    ">\n",
    "> ## $\n",
    "\\begin{cases}\n",
    "k \\to \\infty, \\Rightarrow x_k(t) \\to x(t) \\\\\n",
    "k \\to \\infty, \\Rightarrow y_k(x) \\to y(x)\n",
    "\\end{cases}\n",
    "$\n",
    "> ## $$\n",
    "x(t) = x_0 + \\int_{t_0}^{t} f(s,x(s))ds \\\\\n",
    "y(x) = y_0 + \\int_{x_0}^{x} f(t,x(t))dt \\\\\n",
    "$$"
   ]
  },
  {
   "cell_type": "code",
   "execution_count": 87,
   "id": "48e92ca5-bd43-430d-bdac-75973825d2d4",
   "metadata": {},
   "outputs": [
    {
     "data": {
      "text/latex": [
       "$\\displaystyle \\frac{x^{6}}{720} + \\frac{x^{5}}{40} + \\frac{x^{4}}{8} + \\frac{x^{3}}{2} + \\frac{3 x^{2}}{2} + 2 x + 2$"
      ],
      "text/plain": [
       "x**6/720 + x**5/40 + x**4/8 + x**3/2 + 3*x**2/2 + 2*x + 2"
      ]
     },
     "execution_count": 87,
     "metadata": {},
     "output_type": "execute_result"
    }
   ],
   "source": [
    "import sympy as sym\n",
    "t, x = sym.symbols('t x')\n",
    "f,y = sym.symbols('f y',cls=sym.Function)\n",
    "f.diff(x)\n",
    "\n",
    "# y' = x + y\n",
    "y = sym.dsolve(f(x).diff(x) - x - f(x),f(x))\n",
    "C1,_ = y.free_symbols\n",
    "y = y.subs(C1,2).simplify()\n",
    "\n",
    "# y'= x + y\n",
    "k1 = 2 + sym.integrate(t+2,(t,0,x))\n",
    "k2 = 2 + sym.integrate(t+k1.subs(x,t),(t,0,x))\n",
    "k3 = 2 + sym.integrate(t+k2.subs(x,t),(t,0,x))\n",
    "k4 = 2 + sym.integrate(t+k3.subs(x,t),(t,0,x))\n",
    "k5 = 2 + sym.integrate(t+k4.subs(x,t),(t,0,x))\n",
    "k5"
   ]
  },
  {
   "cell_type": "markdown",
   "id": "4148ae0a-b8b5-42db-bfb3-a6e468ed41a1",
   "metadata": {
    "tags": []
   },
   "source": [
    "# [Picards method](https://www.youtube.com/watch?v=ZpvUyOvoNHg)\n",
    "> # $ y'(x) = f(x,y) $\n",
    ">> # $$ \\begin{align} \n",
    "    & y(x_0) & = \\quad & y_0 \\quad \\text{, given initial value}  \\\\\n",
    "    & \\frac{d\\, y(x)}{dx} & =\\quad  & f(x,y) \\\\\n",
    "    & dy(x) & =\\quad  & f(x,y)\\,dx \\\\\n",
    "    & \\int_{y_0}^{y}dy(x) & =\\quad  & \\int_{x_0}^{x}f(t,y(x)) dx \\\\\n",
    "    & y - y_0 & =\\quad  & \\int_{x_0}^{x}f(x,y)dx \\\\\n",
    "    & \\therefore y & =\\quad  & y_0 + \\int_{x_0}^{x}f(x,y)dx \\\\\n",
    "\\end{align}$$\n",
    ">\n",
    "> # first approximation method\n",
    ">> # $$ y(x) = y_{0} + \\int_{x_0}^{x} f(x,y(x)) dx $$  \n",
    ">> # $$ y(x) = y_{0} + \\int_{x_0}^{x} f(t,y(t)) dt $$\n"
   ]
  },
  {
   "cell_type": "markdown",
   "id": "9a8d101a-df4e-4e7b-beb3-50926259e35a",
   "metadata": {},
   "source": [
    "# [ODE]( https://www.youtube.com/watch?v=C0Hl8DXDJ2M&list=PLW1_9UnhaSkEdN19b2KTQm1ShFGdHHbIJ&index=2)\n",
    "# $  \n",
    "\\begin{cases}\n",
    "y = ce^x -x -1  \n",
    "        \\begin{cases}\n",
    "           y' & = \\frac{d}{dx}(ce^x - x -1) \\\\\n",
    "           & = ce^x -1 \\\\\n",
    "           & = ce^x -1 -x + x \\\\\n",
    "           & = y + x\\\\\n",
    "        \\end{cases} \\\\\n",
    "\\therefore y' = y + x \\\\\n",
    "\\end{cases} \n",
    "$"
   ]
  },
  {
   "cell_type": "markdown",
   "id": "598bdbaf-d62f-47d2-8515-ee47f34c257c",
   "metadata": {},
   "source": [
    "## $ y'' =  a^2 y $\n",
    "> ## $ y = c_{1}sinh(ax)+c_{2}cosh(ax)$\n",
    ">> ## $ \\because \\text{Recall: } \\begin{cases}\n",
    "        \\frac{d}{dx}sinh(x) = cosh(x) \\\\\n",
    "        \\frac{d}{dx}cosh(x)  = sinh(x)\n",
    "        \\end{cases} $\n",
    "> ## $ y = c_1 sinh(ax) + c_2 cosh(ax)$\n",
    "> ## $ y' = a c_1 cosh(ax) + ac_2sinh(ax)$\n",
    "> ## $ y'' = a^2 c_1 sinh(ax) + a^2c_2cosh(ax)$"
   ]
  },
  {
   "cell_type": "code",
   "execution_count": 59,
   "id": "10d1a2ec-1c98-4468-a762-eef75bc43e17",
   "metadata": {},
   "outputs": [
    {
     "data": {
      "text/plain": [
       "True"
      ]
     },
     "execution_count": 59,
     "metadata": {},
     "output_type": "execute_result"
    }
   ],
   "source": [
    "import sympy as sym\n",
    "import numpy as np\n",
    "import matplotlib.pyplot as plt\n",
    "import matplotlib.patches as pat\n",
    "\n",
    "x,y,a,b,c,c1,c2 = sym.symbols(r'x y alpha beta c c_1 c_2')\n",
    "f = sym.symbols('f',cls=sym.Function)\n",
    "fx =  c1*sym.sinh(a*x) + c2*sym.cosh(a*x)\n",
    "sym.diff(fx,x,x) == a**2*fx"
   ]
  },
  {
   "cell_type": "code",
   "execution_count": 87,
   "id": "b57806d0-adfb-40a1-a59d-f22110615a77",
   "metadata": {},
   "outputs": [
    {
     "data": {
      "text/plain": [
       "True"
      ]
     },
     "execution_count": 87,
     "metadata": {},
     "output_type": "execute_result"
    }
   ],
   "source": [
    "g = c*sym.exp(x) - x \n",
    "dgdx = sym.diff(dgdx,x)\n",
    "dgdx == g + x"
   ]
  },
  {
   "cell_type": "code",
   "execution_count": 103,
   "id": "b9531a05-980f-4ae9-8bea-794af6c3069e",
   "metadata": {},
   "outputs": [
    {
     "data": {
      "text/plain": [
       "True"
      ]
     },
     "execution_count": 103,
     "metadata": {},
     "output_type": "execute_result"
    }
   ],
   "source": [
    "def h(t,x):\n",
    "    return x * sym.integrate(sym.sin(t)/t,(t,0,x))\n",
    "\n",
    "t = sym.symbols('t')\n",
    "f = x*sym.integrate(sym.sin(t)/t,(t,0,x))\n",
    "sym.diff(h(t,x),x) == sym.sin(x) + f/x"
   ]
  },
  {
   "cell_type": "code",
   "execution_count": null,
   "id": "59bee01d-a56f-495e-b5f2-c1b9898a9420",
   "metadata": {},
   "outputs": [],
   "source": []
  },
  {
   "cell_type": "code",
   "execution_count": 7,
   "id": "e0b76e46-5e4f-4616-b163-abfd29d64d3e",
   "metadata": {},
   "outputs": [
    {
     "data": {
      "text/plain": [
       "(-7.0, 7.0)"
      ]
     },
     "execution_count": 7,
     "metadata": {},
     "output_type": "execute_result"
    },
    {
     "data": {
      "image/png": "[encoded data removed]",
      "text/plain": [
       "<Figure size 432x288 with 1 Axes>"
      ]
     },
     "metadata": {
      "needs_background": "light"
     },
     "output_type": "display_data"
    }
   ],
   "source": [
    "import numpy as np\n",
    "import matplotlib.pyplot as plt\n",
    "fig = plt.figure()\n",
    "ax = fig.add_subplot()\n",
    "x = np.linspace(-7,7,1000)\n",
    "ax.plot(x,np.sinh(x))\n",
    "ax.plot(x,np.cosh(x))\n",
    "ax.axis('scaled')\n",
    "ax.set_xlim(xmin=-7,xmax=7)\n",
    "ax.set_ylim(ymin=-7,ymax=7)"
   ]
  },
  {
   "cell_type": "code",
   "execution_count": 46,
   "id": "58d0053f-c621-4442-a09e-c9face4ef5bf",
   "metadata": {},
   "outputs": [
    {
     "data": {
      "text/plain": [
       "[Eq(g(x), -asin(C1 + 4*x)/2 + pi/2), Eq(g(x), asin(C1 + 4*x)/2)]"
      ]
     },
     "execution_count": 46,
     "metadata": {},
     "output_type": "execute_result"
    }
   ],
   "source": [
    "import sympy as sym\n",
    "x,y = sym.symbols('x y')\n",
    "f,g = sym.symbols('f g', cls=sym.Function)\n",
    "f = f(x)\n",
    "\n",
    "sym.dsolve(f.diff(x)-1-f**2,f.simplify())\n",
    "sym.dsolve(f.diff(x) + (x+2)*f**2,f,hint='separable')\n",
    "sym.dsolve(g(x).diff(x)-2*sym.sec(2*g(x)),g(x),hint='separable')"
   ]
  },
  {
   "cell_type": "code",
   "execution_count": 48,
   "id": "aa3c66b4-c6c6-4ca8-9fe4-4f9f8cbc4f85",
   "metadata": {},
   "outputs": [
    {
     "data": {
      "text/latex": [
       "$\\displaystyle x + \\frac{f^{2}{\\left(x \\right)}}{x} = C_{1}$"
      ],
      "text/plain": [
       "Eq(x + f(x)**2/x, C1)"
      ]
     },
     "execution_count": 48,
     "metadata": {},
     "output_type": "execute_result"
    }
   ],
   "source": [
    "#sym.dsolve(2*x*f(x)*f(x).diff(x)-f(x)**2 + x**2,f(x),hint='separable_reduced')\n",
    "sym.dsolve(2*x*f*f.diff(x)-f**2 + x**2,f,simplify=False)"
   ]
  },
  {
   "cell_type": "code",
   "execution_count": 55,
   "id": "e7b237c1-2213-4c19-be55-ad7236f6a585",
   "metadata": {},
   "outputs": [
    {
     "data": {
      "text/latex": [
       "$\\displaystyle \\frac{1}{f^{2}{\\left(x \\right)}} = \\left(C_{1} - \\operatorname{Ei}{\\left(4 x^{2} \\right)}\\right) e^{- 4 x^{2}}$"
      ],
      "text/plain": [
       "Eq(f(x)**(-2), (C1 - Ei(4*x**2))*exp(-4*x**2))"
      ]
     },
     "execution_count": 55,
     "metadata": {},
     "output_type": "execute_result"
    }
   ],
   "source": [
    "sym.dsolve(f.diff(x) - (4*x**2+f**2)/x*f,f,simplify=False)"
   ]
  },
  {
   "cell_type": "code",
   "execution_count": 55,
   "id": "d31bde11-5d6e-4e11-9a95-d4fbca46e4b7",
   "metadata": {},
   "outputs": [
    {
     "data": {
      "text/latex": [
       "$\\displaystyle 1$"
      ],
      "text/plain": [
       "1"
      ]
     },
     "execution_count": 55,
     "metadata": {},
     "output_type": "execute_result"
    }
   ],
   "source": [
    "import sympy as sym\n",
    "x,h = sym.symbols('x h')\n",
    "f = lambda x:x/(x-1)\n",
    "f(x+h)\n",
    "Df = (f(x+h) - f(x))/h\n",
    "Df.simplify()\n",
    "a = sym.limit(Df,h,0)\n",
    "a.factor() == sym.diff(f(x),x).factor()\n",
    "sym.limit(sym.sin(x)/x,x,0)"
   ]
  },
  {
   "cell_type": "code",
   "execution_count": 47,
   "id": "4dd8ba38-0fcb-4ef4-82ab-a1cf84f2931a",
   "metadata": {},
   "outputs": [
    {
     "data": {
      "text/latex": [
       "$\\displaystyle \\int e^{- x^{2}}\\, dx$"
      ],
      "text/plain": [
       "Integral(exp(-x**2), x)"
      ]
     },
     "execution_count": 47,
     "metadata": {},
     "output_type": "execute_result"
    }
   ],
   "source": [
    "sym.Integral(sym.exp(-x**2),x).doit()\n",
    "sym.Integral(sym.exp(-x**2),x)"
   ]
  },
  {
   "cell_type": "code",
   "execution_count": 39,
   "id": "1c4e381b-00fe-4309-800a-e582adda3e5e",
   "metadata": {},
   "outputs": [
    {
     "data": {
      "text/latex": [
       "$\\displaystyle \\sqrt{\\pi}$"
      ],
      "text/plain": [
       "sqrt(pi)"
      ]
     },
     "execution_count": 39,
     "metadata": {},
     "output_type": "execute_result"
    }
   ],
   "source": [
    "sym.integrate(sym.exp(-x**2),(x,-sym.oo,sym.oo))"
   ]
  },
  {
   "cell_type": "markdown",
   "id": "d746c091-de76-4934-b0e4-0cb3f6d822ef",
   "metadata": {},
   "source": [
    "# Matrices\n",
    "$$\n",
    "A = \\begin{pmatrix}\n",
    "1 & 2 \\\\\n",
    "3 & 4 \\\\\n",
    "\\end{pmatrix}\n",
    "$$"
   ]
  },
  {
   "cell_type": "code",
   "execution_count": 61,
   "id": "8ff13a20-efb8-4c03-9212-8a1cd8a16163",
   "metadata": {},
   "outputs": [],
   "source": [
    "A = [[1,2],[3,4]]\n",
    "B = [[5,6],[7,8]]\n",
    "A = sym.Matrix(A)\n",
    "B = sym.Matrix(B)"
   ]
  },
  {
   "cell_type": "code",
   "execution_count": 62,
   "id": "9f738685-8b3a-4e9c-ab40-2a18ca9bedbb",
   "metadata": {},
   "outputs": [
    {
     "data": {
      "text/latex": [
       "$\\displaystyle \\left[\\begin{matrix}6 & 8\\\\10 & 12\\end{matrix}\\right]$"
      ],
      "text/plain": [
       "Matrix([\n",
       "[ 6,  8],\n",
       "[10, 12]])"
      ]
     },
     "execution_count": 62,
     "metadata": {},
     "output_type": "execute_result"
    }
   ],
   "source": [
    "A + B"
   ]
  },
  {
   "cell_type": "code",
   "execution_count": 63,
   "id": "c1720b82-04fd-4208-a77b-8fe0a7e87413",
   "metadata": {},
   "outputs": [
    {
     "data": {
      "text/latex": [
       "$\\displaystyle \\left[\\begin{matrix}19 & 22\\\\43 & 50\\end{matrix}\\right]$"
      ],
      "text/plain": [
       "Matrix([\n",
       "[19, 22],\n",
       "[43, 50]])"
      ]
     },
     "execution_count": 63,
     "metadata": {},
     "output_type": "execute_result"
    }
   ],
   "source": [
    "A * B"
   ]
  },
  {
   "cell_type": "code",
   "execution_count": 65,
   "id": "cdcfdcdc-5f0f-46c0-982e-4258a4bb2337",
   "metadata": {},
   "outputs": [
    {
     "data": {
      "text/latex": [
       "$\\displaystyle \\left[\\begin{matrix}1 & 3\\\\2 & 4\\end{matrix}\\right]$"
      ],
      "text/plain": [
       "Matrix([\n",
       "[1, 3],\n",
       "[2, 4]])"
      ]
     },
     "execution_count": 65,
     "metadata": {},
     "output_type": "execute_result"
    }
   ],
   "source": [
    "A.det()\n",
    "A.T"
   ]
  },
  {
   "cell_type": "markdown",
   "id": "045f388d-6912-40f7-a5b1-4f686d1123c6",
   "metadata": {},
   "source": [
    "# Chain rule"
   ]
  },
  {
   "cell_type": "code",
   "execution_count": 67,
   "id": "2910d83a-3b94-4de5-b97f-b7b5697fdfa5",
   "metadata": {},
   "outputs": [
    {
     "data": {
      "text/latex": [
       "$\\displaystyle w{\\left(x{\\left(t \\right)},y{\\left(t \\right)},z{\\left(t \\right)} \\right)}$"
      ],
      "text/plain": [
       "w(x(t), y(t), z(t))"
      ]
     },
     "execution_count": 67,
     "metadata": {},
     "output_type": "execute_result"
    }
   ],
   "source": [
    "t = sym.symbols('t')\n",
    "x,y,z,w = sym.symbols('x y z w',cls=sym.Function)\n",
    "x = x(t)\n",
    "y = y(t)\n",
    "z = z(t)\n",
    "w = w(x,y,z)\n",
    "w"
   ]
  },
  {
   "cell_type": "code",
   "execution_count": 68,
   "id": "efb2e1fe-107f-4cc7-89b1-ada80a8248e1",
   "metadata": {},
   "outputs": [
    {
     "data": {
      "text/latex": [
       "$\\displaystyle \\frac{d}{d x{\\left(t \\right)}} w{\\left(x{\\left(t \\right)},y{\\left(t \\right)},z{\\left(t \\right)} \\right)} \\frac{d}{d t} x{\\left(t \\right)} + \\frac{d}{d y{\\left(t \\right)}} w{\\left(x{\\left(t \\right)},y{\\left(t \\right)},z{\\left(t \\right)} \\right)} \\frac{d}{d t} y{\\left(t \\right)} + \\frac{d}{d z{\\left(t \\right)}} w{\\left(x{\\left(t \\right)},y{\\left(t \\right)},z{\\left(t \\right)} \\right)} \\frac{d}{d t} z{\\left(t \\right)}$"
      ],
      "text/plain": [
       "Derivative(w(x(t), y(t), z(t)), x(t))*Derivative(x(t), t) + Derivative(w(x(t), y(t), z(t)), y(t))*Derivative(y(t), t) + Derivative(w(x(t), y(t), z(t)), z(t))*Derivative(z(t), t)"
      ]
     },
     "execution_count": 68,
     "metadata": {},
     "output_type": "execute_result"
    }
   ],
   "source": [
    "sym.diff(w,t)"
   ]
  },
  {
   "cell_type": "code",
   "execution_count": 73,
   "id": "0dd1b5ea-f53c-48b5-8a24-01acac8ec9db",
   "metadata": {},
   "outputs": [
    {
     "data": {
      "text/latex": [
       "$\\displaystyle 2 t e^{\\cos{\\left(t \\right)}} \\cos{\\left(t^{2} \\right)} - e^{\\cos{\\left(t \\right)}} \\sin{\\left(t \\right)} \\sin{\\left(t^{2} \\right)} + 2 \\sin{\\left(t \\right)} \\cos{\\left(t \\right)}$"
      ],
      "text/plain": [
       "2*t*exp(cos(t))*cos(t**2) - exp(cos(t))*sin(t)*sin(t**2) + 2*sin(t)*cos(t)"
      ]
     },
     "execution_count": 73,
     "metadata": {},
     "output_type": "execute_result"
    }
   ],
   "source": [
    "w1 = x**2 + sym.exp(y) * sym.sin(z)\n",
    "sym.diff(w1,t).subs([(x,sym.sin(t)),(y,sym.cos(t)),(z,t**2)]).doit()"
   ]
  },
  {
   "cell_type": "markdown",
   "id": "2d68604f-b3d0-4ae7-9731-04b45e698ffa",
   "metadata": {},
   "source": [
    "# Vector CoordSys3D\n",
    "> ### gradient"
   ]
  },
  {
   "cell_type": "code",
   "execution_count": 110,
   "id": "250e0116-47ba-412d-8d45-cddd9f12f64c",
   "metadata": {
    "tags": []
   },
   "outputs": [
    {
     "data": {
      "text/latex": [
       "$\\displaystyle \\mathbf{{x}_{}} \\sin{\\left(\\mathbf{{y}_{}} \\right)}$"
      ],
      "text/plain": [
       ".x*sin(.y)"
      ]
     },
     "execution_count": 110,
     "metadata": {},
     "output_type": "execute_result"
    }
   ],
   "source": [
    "C = sym.vector.CoordSys3D('')\n",
    "f = C.x * sym.sin(C.y)\n",
    "f"
   ]
  },
  {
   "cell_type": "code",
   "execution_count": 92,
   "id": "310f24ad-b064-4742-b43f-db7ac804391b",
   "metadata": {},
   "outputs": [
    {
     "data": {
      "text/latex": [
       "$\\displaystyle (\\sin{\\left(\\mathbf{{y}_{}} \\right)})\\mathbf{\\hat{i}_{}} + (\\mathbf{{x}_{}} \\cos{\\left(\\mathbf{{y}_{}} \\right)})\\mathbf{\\hat{j}_{}}$"
      ],
      "text/plain": [
       "(sin(.y))*.i + (.x*cos(.y))*.j"
      ]
     },
     "execution_count": 92,
     "metadata": {},
     "output_type": "execute_result"
    }
   ],
   "source": [
    "sym.vector.gradient(f)"
   ]
  },
  {
   "cell_type": "code",
   "execution_count": 87,
   "id": "7a7c82e3-4926-42a3-9086-adf40eaa50ca",
   "metadata": {},
   "outputs": [
    {
     "data": {
      "text/latex": [
       "$\\displaystyle \\left[\\begin{matrix}\\sin{\\left(\\mathbf{{y}_{}} \\right)}\\\\\\mathbf{{x}_{}} \\cos{\\left(\\mathbf{{y}_{}} \\right)}\\\\0\\end{matrix}\\right]$"
      ],
      "text/plain": [
       "Matrix([\n",
       "[   sin(.y)],\n",
       "[.x*cos(.y)],\n",
       "[         0]])"
      ]
     },
     "execution_count": 87,
     "metadata": {},
     "output_type": "execute_result"
    }
   ],
   "source": [
    "sym.vector.gradient(f).to_matrix(C)"
   ]
  },
  {
   "cell_type": "code",
   "execution_count": 100,
   "id": "fb26c2dd-6f4f-4a29-bae0-5f6add9ebfd9",
   "metadata": {},
   "outputs": [
    {
     "data": {
      "text/latex": [
       "$\\displaystyle \\left[\\begin{matrix}0\\\\- \\mathbf{{x}_{}}\\\\0\\end{matrix}\\right]$"
      ],
      "text/plain": [
       "Matrix([\n",
       "[  0],\n",
       "[-.x],\n",
       "[  0]])"
      ]
     },
     "execution_count": 100,
     "metadata": {},
     "output_type": "execute_result"
    }
   ],
   "source": [
    "sym.vector.gradient(f).to_matrix(C).subs(C.y,sym.pi)"
   ]
  },
  {
   "cell_type": "markdown",
   "id": "7efbae74-205d-4783-a358-9c5dc48800bb",
   "metadata": {},
   "source": [
    "# Directional Derivatives\n",
    "$$\n",
    "D_uf = \\Delta f\\cdot u\n",
    "$$"
   ]
  },
  {
   "cell_type": "code",
   "execution_count": 117,
   "id": "b171820c-e0ce-48b7-b694-04ab72a18ca8",
   "metadata": {},
   "outputs": [
    {
     "data": {
      "text/latex": [
       "$\\displaystyle (\\frac{4 \\sqrt{29}}{29})\\mathbf{\\hat{i}_{}} + (- \\frac{3 \\sqrt{29}}{29})\\mathbf{\\hat{j}_{}} + (\\frac{2 \\sqrt{29}}{29})\\mathbf{\\hat{k}_{}}$"
      ],
      "text/plain": [
       "(4*sqrt(29)/29)*.i + (-3*sqrt(29)/29)*.j + (2*sqrt(29)/29)*.k"
      ]
     },
     "execution_count": 117,
     "metadata": {},
     "output_type": "execute_result"
    }
   ],
   "source": [
    "u = 4*C.i - 3*C.j + 2*C.k\n",
    "u = u.normalize()\n",
    "u"
   ]
  },
  {
   "cell_type": "code",
   "execution_count": 118,
   "id": "120576b7-2ea8-44b5-bced-8b86d1b2f553",
   "metadata": {},
   "outputs": [
    {
     "data": {
      "text/latex": [
       "$\\displaystyle - \\frac{3 \\sqrt{29} \\mathbf{{x}_{}} \\cos{\\left(\\mathbf{{y}_{}} \\right)}}{29} + \\frac{4 \\sqrt{29} \\sin{\\left(\\mathbf{{y}_{}} \\right)}}{29}$"
      ],
      "text/plain": [
       "-3*sqrt(29)*.x*cos(.y)/29 + 4*sqrt(29)*sin(.y)/29"
      ]
     },
     "execution_count": 118,
     "metadata": {},
     "output_type": "execute_result"
    }
   ],
   "source": [
    "sym.vector.gradient(f).dot(u)"
   ]
  },
  {
   "cell_type": "markdown",
   "id": "afb9045b-b4e9-4669-a50a-656fcc15174f",
   "metadata": {},
   "source": [
    "# [Extreme Values and Saddle Points](https://www.youtube.com/watch?v=Teb28OFMVFc)\n",
    "Extream values of f(x,y) can occur at\n",
    "> Boundary points of the domain of f  \n",
    "> Critical Points($f_x = f_y = 0$)  \n",
    "> if\n",
    ">> $ f_{xx} \\lt 0 $ and $ f_{xx}f_{yy} - f{xy}^2 \\gt 0 $ at (a,b) then local maximum  \n",
    ">> $ f_{xx} \\gt 0 $ and $ f_{xx}f_{yy} - f{xy}^2 \\gt 0 $ at (a,b) then local minimum  \n",
    ">> $ f_{xx}f_{yy} - f_{xy}^2 \\lt 0$ at (a,b) then saddle point  \n",
    ">> $ f_{xx}f_{yy} - f_{xy}^2 = 0$ at (a,b) then inconclusive"
   ]
  },
  {
   "cell_type": "code",
   "execution_count": 121,
   "id": "b0ceda0e-e0da-4ffa-85ab-b8a87bbfd1af",
   "metadata": {},
   "outputs": [
    {
     "data": {
      "text/latex": [
       "$\\displaystyle x^{3} + 3 x y + y^{3}$"
      ],
      "text/plain": [
       "x**3 + 3*x*y + y**3"
      ]
     },
     "execution_count": 121,
     "metadata": {},
     "output_type": "execute_result"
    }
   ],
   "source": [
    "x,y = sym.symbols('x y')\n",
    "f = x**3 + 3*x*y + y**3\n",
    "f"
   ]
  },
  {
   "cell_type": "code",
   "execution_count": 123,
   "id": "f87e5366-ae27-4115-a461-fddc25a82b76",
   "metadata": {},
   "outputs": [
    {
     "data": {
      "text/plain": [
       "[{x: -1, y: -1},\n",
       " {x: 0, y: 0},\n",
       " {x: -(1/2 - sqrt(3)*I/2)**2, y: 1/2 - sqrt(3)*I/2},\n",
       " {x: -(1/2 + sqrt(3)*I/2)**2, y: 1/2 + sqrt(3)*I/2}]"
      ]
     },
     "execution_count": 123,
     "metadata": {},
     "output_type": "execute_result"
    }
   ],
   "source": [
    "sym.solve([sym.diff(f,x),sym.diff(f,y)])"
   ]
  },
  {
   "cell_type": "code",
   "execution_count": 129,
   "id": "93bead94-78c2-4668-8f05-ad8a8db693d9",
   "metadata": {},
   "outputs": [
    {
     "data": {
      "text/latex": [
       "$\\displaystyle 3$"
      ],
      "text/plain": [
       "3"
      ]
     },
     "execution_count": 129,
     "metadata": {},
     "output_type": "execute_result"
    }
   ],
   "source": [
    "fxx = sym.diff(f,x,x)\n",
    "fyy = sym.diff(f,y,y)\n",
    "fxy = sym.diff(f,x,y)"
   ]
  },
  {
   "cell_type": "markdown",
   "id": "aefdf2f5-798a-45c3-9154-43a1e7616cc2",
   "metadata": {},
   "source": [
    "# testing the first point (-1,-1)"
   ]
  },
  {
   "cell_type": "code",
   "execution_count": 130,
   "id": "aa6869d5-ae40-4873-932d-28b3868a452b",
   "metadata": {},
   "outputs": [
    {
     "data": {
      "text/latex": [
       "$\\displaystyle -6$"
      ],
      "text/plain": [
       "-6"
      ]
     },
     "execution_count": 130,
     "metadata": {},
     "output_type": "execute_result"
    }
   ],
   "source": [
    "fxx.subs([(x,-1),(y,-1)])"
   ]
  },
  {
   "cell_type": "code",
   "execution_count": 133,
   "id": "d63c0ba7-74eb-4bac-8d92-3b437787784f",
   "metadata": {},
   "outputs": [
    {
     "data": {
      "text/latex": [
       "$\\displaystyle 27$"
      ],
      "text/plain": [
       "27"
      ]
     },
     "execution_count": 133,
     "metadata": {},
     "output_type": "execute_result"
    }
   ],
   "source": [
    "(fxx * fyy - fxy**2).subs([(x,-1),(y,-1)])\n",
    "# fxx < 0 and fxx * fyy - fxy**2 > 0 => local maximum"
   ]
  },
  {
   "cell_type": "code",
   "execution_count": null,
   "id": "1eafe552-846f-4959-9a78-f0f830146d78",
   "metadata": {},
   "outputs": [],
   "source": []
  }
 ],
 "metadata": {
  "kernelspec": {
   "display_name": "Python 3 (ipykernel)",
   "language": "python",
   "name": "python3"
  },
  "language_info": {
   "codemirror_mode": {
    "name": "ipython",
    "version": 3
   },
   "file_extension": ".py",
   "mimetype": "text/x-python",
   "name": "python",
   "nbconvert_exporter": "python",
   "pygments_lexer": "ipython3",
   "version": "3.9.7"
  }
 },
 "nbformat": 4,
 "nbformat_minor": 5
}
