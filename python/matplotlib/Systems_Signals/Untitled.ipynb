{
 "cells": [
  {
   "cell_type": "markdown",
   "id": "31ccff7a-85b8-4ba0-9cd4-a8181f744a12",
   "metadata": {},
   "source": [
    "---\n",
    "# y = ax + b\n",
    "    a : 재생속도\n",
    "    b : starting point\n",
    "--- \n",
    "# system\n",
    "    a function of functions\n",
    "    a function of signals\n",
    "\n",
    "# class\n",
    "    a set of sets"
   ]
  },
  {
   "cell_type": "markdown",
   "id": "82f3738f-b9d0-45ff-89f6-c1fb7e0c1c0a",
   "metadata": {},
   "source": [
    "# static\n",
    "# dynamic\n",
    "    causal\n",
    "    non causal"
   ]
  },
  {
   "cell_type": "markdown",
   "id": "8224b67a-1d74-491f-8d70-5d2113bd184f",
   "metadata": {},
   "source": [
    "---\n",
    "# Stability\n",
    "> 안정성  \n",
    "> A system: $x \\rightarrow y$ is stable $\\overset{def}{\\iff} y$ is bounded $\\forall$ bounded x\n",
    ">> - A if B  : if and only if \n",
    "     - $A \\rightarrow B$\n",
    "     - $A \\to $ get hat, $B \\to$ \n",
    "     - it's sunny\n",
    "     - $A \\supset B$\n",
    ">> - A only if B : only if \n",
    "     - $A \\leftarrow B$\n",
    "     - $A \\to $ sunny, $B \\to$ hat \n",
    "     - $A \\subset B$\n",
    ">> - iff : if and only if ($ \\iff $)\n",
    "     - $ A \\equiv B $  \n",
    ">\n",
    "> BIBO(Bounded Input Bounded Output stability)"
   ]
  },
  {
   "cell_type": "markdown",
   "id": "c379e087-7514-4883-a8a7-295feebcfb40",
   "metadata": {},
   "source": [
    "---\n",
    "# Time Invariance\n",
    "> - Definition\n",
    ">> - A system: $x(t) \\to y(t)$ is time invariant $\\overset{}{}\n"
   ]
  },
  {
   "cell_type": "markdown",
   "id": "b597d385-f524-4b50-9829-7fafb60597f5",
   "metadata": {},
   "source": [
    "---\n",
    "# Linearity\n",
    "> - ## additivity\n",
    ">> - $x_1 + x_2 \\to y_1 + y_2$\n",
    "> - ## scaling , homogenity\n",
    ">> - $ax_1 \\to ay_1 \\quad \\forall a$\n",
    "> - ## superposition(additive + homogeneous)\n",
    ">> - ## $ ax_1 + bx_2 \\to ay_1 + by_2 \\quad \\forall a, b$\n",
    "> - Consider a system S s.t $x_1 \\to y_1$ and $x_1 \\to y_2$ ($x_2$ and $x_2$  are arbitrary)"
   ]
  },
  {
   "cell_type": "markdown",
   "id": "7f546777-65fc-4005-9240-398b95d66d20",
   "metadata": {},
   "source": [
    "---\n",
    "# 미분 방정식\n",
    "> - $\\dot y + y = x"
   ]
  },
  {
   "cell_type": "code",
   "execution_count": null,
   "id": "92f55634-a002-40f1-ab19-8c5bba37f4db",
   "metadata": {},
   "outputs": [],
   "source": []
  }
 ],
 "metadata": {
  "kernelspec": {
   "display_name": "Python 3 (ipykernel)",
   "language": "python",
   "name": "python3"
  },
  "language_info": {
   "codemirror_mode": {
    "name": "ipython",
    "version": 3
   },
   "file_extension": ".py",
   "mimetype": "text/x-python",
   "name": "python",
   "nbconvert_exporter": "python",
   "pygments_lexer": "ipython3",
   "version": "3.9.7"
  }
 },
 "nbformat": 4,
 "nbformat_minor": 5
}
