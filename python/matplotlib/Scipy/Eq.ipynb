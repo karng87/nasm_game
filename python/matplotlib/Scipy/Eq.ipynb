{
 "cells": [
  {
   "cell_type": "code",
   "execution_count": 42,
   "id": "ae7ddbf1-e3d7-4a83-ba0f-51c5416b3cf1",
   "metadata": {},
   "outputs": [],
   "source": [
    "import sympy as sp"
   ]
  },
  {
   "cell_type": "code",
   "execution_count": 43,
   "id": "1de6927b-9a2f-4238-85f8-237e5b9f1404",
   "metadata": {},
   "outputs": [],
   "source": [
    "val = 5\n",
    "x,y = sp.symbols('x y')"
   ]
  },
  {
   "cell_type": "code",
   "execution_count": 44,
   "id": "3d02086e-891a-4a9a-a19e-6a6c82b6b582",
   "metadata": {},
   "outputs": [
    {
     "data": {
      "text/plain": [
       "[7/5 - y]"
      ]
     },
     "metadata": {},
     "output_type": "display_data"
    },
    {
     "data": {
      "text/plain": [
       "[x - 3/2]"
      ]
     },
     "metadata": {},
     "output_type": "display_data"
    }
   ],
   "source": [
    "eq1 = sp.Eq(5*x + 5*y -7, 0)\n",
    "eq2 = sp.Eq(6*x - 6*y - 9, 0)\n",
    "display(sp.solve(eq1,x))\n",
    "display(sp.solve(eq2,y))"
   ]
  },
  {
   "cell_type": "code",
   "execution_count": 45,
   "id": "68c719ff-346c-490a-bf03-ceab36311810",
   "metadata": {},
   "outputs": [
    {
     "data": {
      "text/plain": [
       "{x: 29/20, y: -1/20}"
      ]
     },
     "execution_count": 45,
     "metadata": {},
     "output_type": "execute_result"
    }
   ],
   "source": [
    "sp.solve((eq1,eq2),(x,y))"
   ]
  },
  {
   "cell_type": "code",
   "execution_count": 46,
   "id": "d7d933c3-6b49-4cb7-85c8-80090d361369",
   "metadata": {},
   "outputs": [
    {
     "data": {
      "text/latex": [
       "$\\displaystyle - \\frac{1}{20}$"
      ],
      "text/plain": [
       "-1/20"
      ]
     },
     "execution_count": 46,
     "metadata": {},
     "output_type": "execute_result"
    }
   ],
   "source": [
    "sp.solve((eq1,eq2),(x,y))[x]\n",
    "sp.solve((eq1,eq2),(x,y))[y]"
   ]
  },
  {
   "cell_type": "code",
   "execution_count": 47,
   "id": "3e2c13ae-a874-4609-95be-92e02435ec15",
   "metadata": {},
   "outputs": [
    {
     "data": {
      "text/latex": [
       "$\\displaystyle V_{m}$"
      ],
      "text/plain": [
       "V_m"
      ]
     },
     "execution_count": 47,
     "metadata": {},
     "output_type": "execute_result"
    }
   ],
   "source": [
    "D,V,rho = sp.symbols('D,V_m, rho')\n",
    "V"
   ]
  },
  {
   "cell_type": "code",
   "execution_count": 54,
   "id": "eaef37e1-da0b-49a4-97c0-1aaf3a825c1d",
   "metadata": {},
   "outputs": [
    {
     "data": {
      "text/latex": [
       "$\\displaystyle D \\frac{d^{2}}{d x^{2}} f{\\left(x \\right)} - V_{m} \\rho = 0$"
      ],
      "text/plain": [
       "Eq(D*Derivative(f(x), (x, 2)) - V_m*rho, 0)"
      ]
     },
     "execution_count": 54,
     "metadata": {},
     "output_type": "execute_result"
    }
   ],
   "source": [
    "f = sp.Function('f')\n",
    "ode = D * f(x).diff(x,2) - V * rho\n",
    "sp.Eq(ode,0)"
   ]
  },
  {
   "cell_type": "code",
   "execution_count": 25,
   "id": "30eb6889-c77a-4a06-b56d-b9ee4c64c87b",
   "metadata": {},
   "outputs": [
    {
     "data": {
      "text/latex": [
       "$\\displaystyle f{\\left(x \\right)} = C_{1} + C_{2} x + \\frac{V_{m} \\rho x^{2}}{2 D}$"
      ],
      "text/plain": [
       "Eq(f(x), C1 + C2*x + V_m*rho*x**2/(2*D))"
      ]
     },
     "execution_count": 25,
     "metadata": {},
     "output_type": "execute_result"
    }
   ],
   "source": [
    "sp.dsolve(sp.Eq(ode,0))"
   ]
  },
  {
   "cell_type": "markdown",
   "id": "8cec0899-4640-4101-afc4-f5107e76a70b",
   "metadata": {},
   "source": [
    "# https://www.youtube.com/watch?v=MXUMJMrX2Gw\n"
   ]
  },
  {
   "cell_type": "code",
   "execution_count": 39,
   "id": "87c44c6f-66c3-4bdb-9514-c32a39f96594",
   "metadata": {},
   "outputs": [
    {
     "data": {
      "image/png": "[encoded data removed]",
      "text/plain": [
       "<Figure size 432x288 with 1 Axes>"
      ]
     },
     "metadata": {
      "needs_background": "light"
     },
     "output_type": "display_data"
    }
   ],
   "source": [
    "import scipy as scp\n",
    "import scipy.integrate as si \n",
    "import numpy as np\n",
    "import matplotlib.pyplot as plt\n",
    "\n",
    "def odes(x,t):\n",
    "    a1 = 3e5\n",
    "    a2 = 0.2\n",
    "    a3 = 4e-7\n",
    "    a4 = 0.6\n",
    "    a5 = 8\n",
    "    a6 = 90\n",
    "    \n",
    "    A = x[0]\n",
    "    B = x[1]\n",
    "    C = x[2]\n",
    "    \n",
    "    dAdt = a1 - a2*A - a3*A*C\n",
    "    dBdt = a3*A*C - a4*B\n",
    "    dCdt = -a3*A*C - a5*C + a6*B\n",
    "    \n",
    "    return [dAdt, dBdt, dCdt]\n",
    "\n",
    "x0 = [2e6, 0, 90]\n",
    "\n",
    "t = np.linspace(0,15,1000)\n",
    "x = si.odeint(odes,x0,t)\n",
    "\n",
    "A = x[:,0]\n",
    "B = x[:,1]\n",
    "C = x[:,2]\n",
    "\n",
    "plt.semilogy(t,A)\n",
    "plt.semilogy(t,B)\n",
    "plt.semilogy(t,C)\n",
    "plt.show()"
   ]
  },
  {
   "cell_type": "code",
   "execution_count": 40,
   "id": "a03f05ce-8d42-4ade-9d44-4b257689df1b",
   "metadata": {},
   "outputs": [
    {
     "ename": "AttributeError",
     "evalue": "module 'scipy' has no attribute 'pprint'",
     "output_type": "error",
     "traceback": [
      "\u001b[0;31m---------------------------------------------------------------------------\u001b[0m",
      "\u001b[0;31mAttributeError\u001b[0m                            Traceback (most recent call last)",
      "\u001b[0;32m/tmp/ipykernel_12211/126679326.py\u001b[0m in \u001b[0;36m<module>\u001b[0;34m\u001b[0m\n\u001b[0;32m----> 1\u001b[0;31m \u001b[0mscp\u001b[0m\u001b[0;34m.\u001b[0m\u001b[0mpprint\u001b[0m\u001b[0;34m(\u001b[0m\u001b[0mode\u001b[0m\u001b[0;34m)\u001b[0m\u001b[0;34m\u001b[0m\u001b[0;34m\u001b[0m\u001b[0m\n\u001b[0m",
      "\u001b[0;31mAttributeError\u001b[0m: module 'scipy' has no attribute 'pprint'"
     ]
    }
   ],
   "source": []
  },
  {
   "cell_type": "code",
   "execution_count": null,
   "id": "5d4e5e59-23ac-494b-8a63-18ce4e327a89",
   "metadata": {},
   "outputs": [],
   "source": []
  }
 ],
 "metadata": {
  "kernelspec": {
   "display_name": "Python 3 (ipykernel)",
   "language": "python",
   "name": "python3"
  },
  "language_info": {
   "codemirror_mode": {
    "name": "ipython",
    "version": 3
   },
   "file_extension": ".py",
   "mimetype": "text/x-python",
   "name": "python",
   "nbconvert_exporter": "python",
   "pygments_lexer": "ipython3",
   "version": "3.9.7"
  }
 },
 "nbformat": 4,
 "nbformat_minor": 5
}
