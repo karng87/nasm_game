{
 "cells": [
  {
   "cell_type": "markdown",
   "id": "0073825a-eba0-4a83-8746-c1512e26d952",
   "metadata": {},
   "source": [
    "---\n",
    "# ODE(Ordinay Derivative Equation)\n",
    "> ## implicit function\n",
    ">> ### $$\\begin{array}{l} \n",
    "x^3y + xy^3 & = 2 \\\\\n",
    "\\frac{d}{dx}(x^3y + xy^3)& = \\frac{d}{dx}(2) \\\\\n",
    "3x^2y + x^3\\frac{d}{dx}(y) + \n",
    "y^3 + x\\frac{d}{dx}(y^3) & = 0 \\\\\n",
    "3x^2y + x^3\\frac{d}{dx}(y) + \n",
    "y^3 + x\\frac{d}{dx}(y^3) \\frac{d}{dy}(y)& = 0 \\\\\n",
    "3x^2y + x^3\\frac{d}{dx}(y) + \n",
    "y^3 + x\\frac{d}{dx}(y) \\frac{d}{dy}(y^3)& = 0 \\\\\n",
    "3x^2y + x^3\\frac{d}{dx}(y) + \n",
    "y^3 + x\\frac{dy}{dx}3y^2 & = 0\n",
    "\\end{array}$$\n"
   ]
  },
  {
   "cell_type": "markdown",
   "id": "7f131402-19f1-453f-b922-6b8c04d07ab6",
   "metadata": {},
   "source": [
    "---\n",
    "# PDE(Partial Derivative Equation) \n",
    "> ## The Van Der Waals equation \n",
    ">> ### $$  \n",
    "P(V,T) = \n",
    "\\frac{RT}{V-b} - \\frac{a}{V^2} \\\\\n",
    "\\begin{array}\n",
    "\\text{where, } &\\\\\n",
    "& P = \\text{Pressure}, \\\\\n",
    "& V = \\text{Volume}, \\\\\n",
    "& T = \\text{Temperature} \n",
    "\\end{array}$$"
   ]
  },
  {
   "cell_type": "markdown",
   "id": "4a6b0ae4-3364-4de6-a3e9-caaf21d2e6bd",
   "metadata": {},
   "source": [
    "> $$ \\Big (\\frac{\\partial P}{\\partial V}\\Big)_T $$\n",
    ">> ### T를 고정시키고 V에 대한 변화율을 구하는 의미"
   ]
  },
  {
   "cell_type": "markdown",
   "id": "24fbb09f-55d3-43fc-a237-54878d77e7cc",
   "metadata": {},
   "source": [
    "> ### $$ \n",
    "\\frac{\\partial}{\\partial x} \\Big(\\frac{\\partial}{\\partial x}f \\Big) = \n",
    "\\begin{cases}\n",
    "\\frac{\\partial^2}{(\\partial x)^2}f \\\\\n",
    "f_{xx}\n",
    "\\end{cases}\n",
    "$$"
   ]
  },
  {
   "cell_type": "markdown",
   "id": "3a02dab0-ce3a-41d6-b870-8ff272d74ec4",
   "metadata": {},
   "source": [
    "> ### $$  f_{xy} = \n",
    "\\frac{\\partial}{\\partial y}\\frac{\\partial}{\\partial x}f\n",
    "$$"
   ]
  },
  {
   "cell_type": "markdown",
   "id": "e2299b1d-ef77-48e5-8a9d-0a174030a14b",
   "metadata": {},
   "source": [
    "> # Total Derivative\n",
    ">> ### $$\\begin{cases} \\Delta f & = f(x+\\Delta x, y+\\Delta y) - f(x,y) \\\\\n",
    "& = f(x+\\Delta x, y + \\Delta y) - f(x, y+\\Delta y) + f(x,y+\\Delta y) - f(x,y) \\\\\n",
    "& = [ f(x+\\Delta x, y + \\Delta y) - f(x, y+\\Delta y) ] - [f(x,y+\\Delta y) - f(x,y)] \\\\\n",
    "& = \\frac {f(x+\\Delta x, y + \\Delta y) - f(x, y+\\Delta y)}{\\Delta x} \\cdot \\Delta x  - \\frac { f(x,y+\\Delta y) - f(x,y)}{\\Delta y} \\cdot \\Delta y \\\\\n",
    "df = & \\lim \\limits_{\\Delta x \\to 0 \\\\\\Delta y\\to 0 }\\frac {f(x+\\Delta x, y + \\Delta y) - f(x, y+\\Delta y)}{\\Delta x} \\cdot \\Delta x  - \\frac { f(x,y+\\Delta y) - f(x,y)}{\\Delta y} \\cdot \\Delta y \\\\\n",
    "& =  \\frac{\\partial}{\\partial x}f \\cdot dx + \\frac{\\partial}{\\partial y}f \\cdot dy \n",
    "\\end{cases}$$"
   ]
  },
  {
   "cell_type": "code",
   "execution_count": 10,
   "id": "02eb32d9-59ed-4beb-89a1-cdb76f70c7bb",
   "metadata": {},
   "outputs": [
    {
     "data": {
      "text/plain": [
       "array([[ 1.        ,  1.05372601,  1.04614215,  0.10456239, -1.04941513,\n",
       "        -1.01465853, -0.11049032,  0.93048041,  1.10586209,  0.21489349,\n",
       "        -0.01228496],\n",
       "       [ 1.        ,  1.0917561 ,  2.06386853,  2.74273626,  2.05787092,\n",
       "         1.02327549,  0.39908996,  0.90244735,  1.93608796,  2.72289099,\n",
       "         2.74784802]])"
      ]
     },
     "execution_count": 10,
     "metadata": {},
     "output_type": "execute_result"
    }
   ],
   "source": [
    "import numpy as np\n",
    "import matplotlib.pyplot as plt\n",
    "from scipy import integrate\n",
    "\n",
    "def f(t,r):\n",
    "    x,y = r\n",
    "    fx = np.cos(y)\n",
    "    fy = np.sin(x)\n",
    "    return fx, fy\n",
    "\n",
    "sol = integrate.solve_ivp(f,(0,10),(1,1))\n",
    "sol.y\n"
   ]
  },
  {
   "cell_type": "code",
   "execution_count": null,
   "id": "550631e7-b3fd-4d3c-8783-10a81f9a87e6",
   "metadata": {},
   "outputs": [],
   "source": []
  }
 ],
 "metadata": {
  "kernelspec": {
   "display_name": "Python 3 (ipykernel)",
   "language": "python",
   "name": "python3"
  },
  "language_info": {
   "codemirror_mode": {
    "name": "ipython",
    "version": 3
   },
   "file_extension": ".py",
   "mimetype": "text/x-python",
   "name": "python",
   "nbconvert_exporter": "python",
   "pygments_lexer": "ipython3",
   "version": "3.9.7"
  }
 },
 "nbformat": 4,
 "nbformat_minor": 5
}
