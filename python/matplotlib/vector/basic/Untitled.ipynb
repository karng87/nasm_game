{
 "cells": [
  {
   "cell_type": "code",
   "execution_count": 5,
   "id": "26b80df5-731c-49a4-bcf5-5bc239c3a162",
   "metadata": {},
   "outputs": [],
   "source": [
    "import matplotlib as mpl\n",
    "mpl.rcParams.update({\n",
    "    'font.size' : 9.0,\n",
    "    'mathtext.fontset' : 'stix',\n",
    "    'font.family': 'STIXGeneral',\n",
    "    'text.usetex': True\n",
    "})\n",
    "import matplotlib.pyplot as plt\n",
    "import numpy as np\n",
    "%matplotlib widget"
   ]
  },
  {
   "cell_type": "code",
   "execution_count": 6,
   "id": "66a7f854-c8a8-475b-8dda-d34ac08fcf02",
   "metadata": {},
   "outputs": [
    {
     "name": "stdout",
     "output_type": "stream",
     "text": [
      "U\n",
      "5/s**2\n",
      "X\n",
      "5*t*Heaviside(t)\n",
      "F\n",
      "(5*s + 5)/(s + 3)**2\n",
      "G\n",
      "5/(s + 3) - 10/(s + 3)**2\n",
      "d2\n",
      "s**4 + 7*s**3 + 16*s**2 + 13*s + 3\n",
      "{-1: 1, -3: 1, -3/2 - sqrt(5)/2: 1, -3/2 + sqrt(5)/2: 1}\n"
     ]
    }
   ],
   "source": [
    "import sympy as sym\n",
    "from sympy.abc import s,t,x,y,z\n",
    "from sympy.integrals import laplace_transform\n",
    "from sympy.integrals import inverse_laplace_transform\n",
    "\n",
    "# Laplace transform (t->s)\n",
    "U = laplace_transform(5*t, t, s)\n",
    "print('U')\n",
    "print(U[0])\n",
    "# Result: 5/s**2\n",
    "\n",
    "# Inverse Laplace transform (s->t)\n",
    "X = inverse_laplace_transform(U[0],s,t)\n",
    "print('X')\n",
    "print(X)\n",
    "# Result: 5*t*Heaviside(t)\n",
    "\n",
    "# Function\n",
    "F = 5*(s+1)/(s+3)**2\n",
    "print('F')\n",
    "print(F)\n",
    "# Result: (5*s + 5)/(s + 3)**2\n",
    "\n",
    "# Partial fraction decomposition\n",
    "G = sym.apart(F)\n",
    "print('G')\n",
    "print(G)\n",
    "# Result: 5/(s + 3) - 10/(s + 3)**2\n",
    "\n",
    "# denominator of transfer function\n",
    "d1 = (s+1)*(s+3)*(s**2+3*s+1)\n",
    "\n",
    "# expand polynomial\n",
    "d2 = sym.expand(d1)\n",
    "print('d2')\n",
    "print(d2)\n",
    "# Result: s**4 + 7*s**3 + 16*s**2 + 13*s + 3\n",
    "\n",
    "# find roots\n",
    "print(sym.roots(d2))\n",
    "# Result: {-1: 1, -3: 1, -3/2 - sqrt(5)/2: 1, -3/2 + sqrt(5)/2: 1}"
   ]
  },
  {
   "cell_type": "code",
   "execution_count": null,
   "id": "34061dc4-55e3-4935-ada2-82951d1a7e76",
   "metadata": {},
   "outputs": [],
   "source": []
  }
 ],
 "metadata": {
  "kernelspec": {
   "display_name": "Python 3 (ipykernel)",
   "language": "python",
   "name": "python3"
  },
  "language_info": {
   "codemirror_mode": {
    "name": "ipython",
    "version": 3
   },
   "file_extension": ".py",
   "mimetype": "text/x-python",
   "name": "python",
   "nbconvert_exporter": "python",
   "pygments_lexer": "ipython3",
   "version": "3.10.2"
  }
 },
 "nbformat": 4,
 "nbformat_minor": 5
}
