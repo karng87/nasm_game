{
 "cells": [
  {
   "cell_type": "code",
   "execution_count": 10,
   "id": "1ec19204-0c9e-449f-9285-f2c320b90391",
   "metadata": {},
   "outputs": [
    {
     "data": {
      "text/latex": [
       "$\\displaystyle e + \\pi + i$"
      ],
      "text/plain": [
       "E + pi + I"
      ]
     },
     "execution_count": 10,
     "metadata": {},
     "output_type": "execute_result"
    }
   ],
   "source": [
    "import sympy as sp\n",
    "sp.E + sp.pi + sp.I "
   ]
  },
  {
   "cell_type": "code",
   "execution_count": 11,
   "id": "64dac416-0539-4372-b16a-b8f5d92a67c4",
   "metadata": {},
   "outputs": [
    {
     "data": {
      "text/latex": [
       "$\\displaystyle \\infty$"
      ],
      "text/plain": [
       "oo"
      ]
     },
     "execution_count": 11,
     "metadata": {},
     "output_type": "execute_result"
    }
   ],
   "source": [
    "sp.oo"
   ]
  },
  {
   "cell_type": "code",
   "execution_count": 19,
   "id": "19ac5bf6-d456-40d6-84de-aa6e36fe1455",
   "metadata": {},
   "outputs": [
    {
     "data": {
      "text/latex": [
       "$\\displaystyle e^{x} + \\log{\\left(x \\right)} + \\sin{\\left(x \\right)} + \\sinh{\\left(x \\right)} + \\operatorname{asin}{\\left(x \\right)}$"
      ],
      "text/plain": [
       "exp(x) + log(x) + sin(x) + sinh(x) + asin(x)"
      ]
     },
     "execution_count": 19,
     "metadata": {},
     "output_type": "execute_result"
    }
   ],
   "source": [
    "x,y,z = sp.symbols('x y z')\n",
    "sp.log(x) + sp.exp(x) + sp.sin(x) + sp.asin(x) + sp.sinh(x) "
   ]
  },
  {
   "cell_type": "code",
   "execution_count": 20,
   "id": "d9bef02a-081d-4031-9fc1-c3cc855062d0",
   "metadata": {},
   "outputs": [
    {
     "data": {
      "text/latex": [
       "$\\displaystyle \\left\\{- \\sqrt{3} i, \\sqrt{3} i\\right\\}$"
      ],
      "text/plain": [
       "FiniteSet(sqrt(3)*I, -sqrt(3)*I)"
      ]
     },
     "execution_count": 20,
     "metadata": {},
     "output_type": "execute_result"
    }
   ],
   "source": [
    "eq = x**2 + 3\n",
    "sp.solveset(eq,x)\n"
   ]
  },
  {
   "cell_type": "code",
   "execution_count": 21,
   "id": "f3a2bb4b-5380-4122-bcfa-1a05b224bffa",
   "metadata": {},
   "outputs": [
    {
     "data": {
      "text/latex": [
       "$\\displaystyle \\left\\{- \\sqrt{3} i, \\sqrt{3} i\\right\\}$"
      ],
      "text/plain": [
       "FiniteSet(sqrt(3)*I, -sqrt(3)*I)"
      ]
     },
     "execution_count": 21,
     "metadata": {},
     "output_type": "execute_result"
    }
   ],
   "source": [
    "eq = sp.Eq(x**2+3,0)\n",
    "sp.solveset(eq)"
   ]
  },
  {
   "cell_type": "code",
   "execution_count": 22,
   "id": "24cb9223-1c56-46ae-abb2-f055a95dee85",
   "metadata": {},
   "outputs": [
    {
     "data": {
      "text/latex": [
       "$\\displaystyle \\left\\{2 n \\pi + \\frac{3 \\pi}{4}\\; \\middle|\\; n \\in \\mathbb{Z}\\right\\} \\cup \\left\\{2 n \\pi + \\frac{7 \\pi}{4}\\; \\middle|\\; n \\in \\mathbb{Z}\\right\\}$"
      ],
      "text/plain": [
       "Union(ImageSet(Lambda(_n, 2*_n*pi + 3*pi/4), Integers), ImageSet(Lambda(_n, 2*_n*pi + 7*pi/4), Integers))"
      ]
     },
     "execution_count": 22,
     "metadata": {},
     "output_type": "execute_result"
    }
   ],
   "source": [
    "sp.solveset(sp.sin(x)+sp.cos(x),x)"
   ]
  },
  {
   "cell_type": "code",
   "execution_count": 33,
   "id": "71aac18d-30ff-4d28-9aed-5af2f9b29f08",
   "metadata": {},
   "outputs": [
    {
     "data": {
      "text/latex": [
       "$\\displaystyle \\left\\{\\left( \\frac{4}{5}, \\  \\frac{4}{5}\\right)\\right\\}$"
      ],
      "text/plain": [
       "FiniteSet((4/5, 4/5))"
      ]
     },
     "execution_count": 33,
     "metadata": {},
     "output_type": "execute_result"
    }
   ],
   "source": [
    "sp.linsolve([sp.Eq(3*x+2*y,4),sp.Eq(1*x+9*y,8)],x,y)"
   ]
  },
  {
   "cell_type": "markdown",
   "id": "a6f99029-2623-49eb-b863-14064c1ecf4d",
   "metadata": {},
   "source": [
    "# Functions\n",
    "\n",
    "> 인수분해\n",
    "\n",
    "        * sp.factor() - Factor expressions\n",
    "    \n",
    "> 전개하기\n",
    "\n",
    "        * sp.expand() - Expands expr\n",
    "    \n",
    "> 분수 약분, 부분분수로 \n",
    "\n",
    "        * sp.cancel() - Puts rational function in standard canonical form\n",
    "        * sp.apart()  - Perform a partial fraction decomposition for a function\n",
    "\n",
    "> 최대한 간단하게\n",
    "\n",
    "        * sp.simplify() - A general simplification function\n",
    "\n",
    "> 묶어내기\n",
    "\n",
    "        * sp.collect(expr,x) - arrage of x(or sp.I)"
   ]
  },
  {
   "cell_type": "code",
   "execution_count": 39,
   "id": "cf4ebab0-b208-42e4-93c5-910cd209e92d",
   "metadata": {},
   "outputs": [
    {
     "data": {
      "text/latex": [
       "$\\displaystyle \\left(x + 2\\right) \\left(x + 3\\right)$"
      ],
      "text/plain": [
       "(x + 2)*(x + 3)"
      ]
     },
     "execution_count": 39,
     "metadata": {},
     "output_type": "execute_result"
    }
   ],
   "source": [
    "# create a polynomial\n",
    "poly = x**2 + 5*x + 6\n",
    "poly.factor()"
   ]
  },
  {
   "cell_type": "code",
   "execution_count": 40,
   "id": "ea2043cb-bceb-40a0-af06-cc375b8a3766",
   "metadata": {},
   "outputs": [
    {
     "data": {
      "text/latex": [
       "$\\displaystyle x^{2} + 5 x + 6$"
      ],
      "text/plain": [
       "x**2 + 5*x + 6"
      ]
     },
     "execution_count": 40,
     "metadata": {},
     "output_type": "execute_result"
    }
   ],
   "source": [
    "poly = poly.factor()\n",
    "poly.expand()"
   ]
  },
  {
   "cell_type": "code",
   "execution_count": 42,
   "id": "55ba9cb4-c0fd-4db1-ac6d-6aced8a3bc09",
   "metadata": {},
   "outputs": [
    {
     "data": {
      "text/latex": [
       "$\\displaystyle \\left(\\sin{\\left(y \\right)} + \\cos{\\left(x \\right)}\\right)^{2} + \\cos^{2}{\\left(x \\right)}$"
      ],
      "text/plain": [
       "(sin(y) + cos(x))**2 + cos(x)**2"
      ]
     },
     "execution_count": 42,
     "metadata": {},
     "output_type": "execute_result"
    }
   ],
   "source": [
    "trig = (sp.cos(x) + sp.sin(y))**2 + sp.cos(x)**2\n",
    "trig"
   ]
  },
  {
   "cell_type": "code",
   "execution_count": 43,
   "id": "477812d8-df0b-4e53-af56-311ee44e22f8",
   "metadata": {},
   "outputs": [
    {
     "data": {
      "text/latex": [
       "$\\displaystyle \\sin^{2}{\\left(y \\right)} + 2 \\sin{\\left(y \\right)} \\cos{\\left(x \\right)} + 2 \\cos^{2}{\\left(x \\right)}$"
      ],
      "text/plain": [
       "sin(y)**2 + 2*sin(y)*cos(x) + 2*cos(x)**2"
      ]
     },
     "execution_count": 43,
     "metadata": {},
     "output_type": "execute_result"
    }
   ],
   "source": [
    "trig.expand()"
   ]
  },
  {
   "cell_type": "code",
   "execution_count": 44,
   "id": "be1f7f6f-7db6-4c36-b2aa-1fc78761052d",
   "metadata": {},
   "outputs": [
    {
     "data": {
      "text/latex": [
       "$\\displaystyle \\sin^{2}{\\left(y \\right)} + 2 \\sin{\\left(y \\right)} \\cos{\\left(x \\right)} + 2 \\cos^{2}{\\left(x \\right)}$"
      ],
      "text/plain": [
       "sin(y)**2 + 2*sin(y)*cos(x) + 2*cos(x)**2"
      ]
     },
     "execution_count": 44,
     "metadata": {},
     "output_type": "execute_result"
    }
   ],
   "source": [
    "trig.factor()"
   ]
  },
  {
   "cell_type": "code",
   "execution_count": 45,
   "id": "24ef7351-2fd6-4ad5-9992-6da52b9f080f",
   "metadata": {},
   "outputs": [
    {
     "data": {
      "text/latex": [
       "$\\displaystyle \\left(\\sin{\\left(y \\right)} + \\cos{\\left(x \\right)}\\right)^{2} + \\cos^{2}{\\left(x \\right)}$"
      ],
      "text/plain": [
       "(sin(y) + cos(x))**2 + cos(x)**2"
      ]
     },
     "execution_count": 45,
     "metadata": {},
     "output_type": "execute_result"
    }
   ],
   "source": [
    "trig.simplify()"
   ]
  },
  {
   "cell_type": "code",
   "execution_count": 46,
   "id": "592b5272-f4a5-4a92-9f7e-acf48cdb4df7",
   "metadata": {},
   "outputs": [
    {
     "data": {
      "text/latex": [
       "$\\displaystyle \\frac{x^{3} + 10 x^{2} + 31 x + 30}{x^{2} + 12 x + 35}$"
      ],
      "text/plain": [
       "(x**3 + 10*x**2 + 31*x + 30)/(x**2 + 12*x + 35)"
      ]
     },
     "execution_count": 46,
     "metadata": {},
     "output_type": "execute_result"
    }
   ],
   "source": [
    "p = x**3 + 10*x**2 + 31*x + 30\n",
    "q = x**2 + 12*x + 35\n",
    "f = p/q\n",
    "f\n"
   ]
  },
  {
   "cell_type": "code",
   "execution_count": 47,
   "id": "d88671c7-2cd7-4d7b-bdec-8b57e2769824",
   "metadata": {},
   "outputs": [
    {
     "data": {
      "text/latex": [
       "$\\displaystyle \\frac{x^{2} + 5 x + 6}{x + 7}$"
      ],
      "text/plain": [
       "(x**2 + 5*x + 6)/(x + 7)"
      ]
     },
     "execution_count": 47,
     "metadata": {},
     "output_type": "execute_result"
    }
   ],
   "source": [
    "f.cancel()"
   ]
  },
  {
   "cell_type": "code",
   "execution_count": 48,
   "id": "316ad0fe-bdf9-46ea-a310-3b2b259c75a1",
   "metadata": {},
   "outputs": [
    {
     "data": {
      "text/latex": [
       "$\\displaystyle x - 2 + \\frac{20}{x + 7}$"
      ],
      "text/plain": [
       "x - 2 + 20/(x + 7)"
      ]
     },
     "execution_count": 48,
     "metadata": {},
     "output_type": "execute_result"
    }
   ],
   "source": [
    "f.apart()"
   ]
  },
  {
   "cell_type": "code",
   "execution_count": 49,
   "id": "a0932901-fdb3-44e0-8603-309dc2fb9891",
   "metadata": {},
   "outputs": [
    {
     "data": {
      "text/latex": [
       "$\\displaystyle \\frac{x^{2} + 5 x + 6}{x + 7}$"
      ],
      "text/plain": [
       "(x**2 + 5*x + 6)/(x + 7)"
      ]
     },
     "execution_count": 49,
     "metadata": {},
     "output_type": "execute_result"
    }
   ],
   "source": [
    "f.simplify()\n"
   ]
  },
  {
   "cell_type": "code",
   "execution_count": 51,
   "id": "d49be19f-7139-4455-84b7-8ec4ea33c3e6",
   "metadata": {},
   "outputs": [
    {
     "data": {
      "text/latex": [
       "$\\displaystyle e^{x + y} + \\sin{\\left(2 x \\right)} + 1$"
      ],
      "text/plain": [
       "exp(x + y) + sin(2*x) + 1"
      ]
     },
     "execution_count": 51,
     "metadata": {},
     "output_type": "execute_result"
    }
   ],
   "source": [
    "expr = sp.exp(x+y) + (sp.cos(x) + sp.sin(x))**2\n",
    "expr.simplify()"
   ]
  },
  {
   "cell_type": "code",
   "execution_count": 58,
   "id": "9a43aa8e-7bcb-422d-921f-eced0dc20f4d",
   "metadata": {},
   "outputs": [
    {
     "data": {
      "text/latex": [
       "$\\displaystyle x^{2} + \\pi$"
      ],
      "text/plain": [
       "x**2 + pi"
      ]
     },
     "execution_count": 58,
     "metadata": {},
     "output_type": "execute_result"
    }
   ],
   "source": [
    "expr = sp.pi + x**2\n",
    "expr"
   ]
  },
  {
   "cell_type": "code",
   "execution_count": 59,
   "id": "206e5de0-6762-4ea9-8e07-8b4868cfd22a",
   "metadata": {},
   "outputs": [
    {
     "data": {
      "text/latex": [
       "$\\displaystyle x^{2} + 3.14159265358979$"
      ],
      "text/plain": [
       "x**2 + 3.14159265358979"
      ]
     },
     "execution_count": 59,
     "metadata": {},
     "output_type": "execute_result"
    }
   ],
   "source": [
    "sp.N(expr)"
   ]
  },
  {
   "cell_type": "markdown",
   "id": "4bf05fe1-22a9-4e1e-8584-039854b0f89d",
   "metadata": {},
   "source": [
    "# Derivatives\n",
    "    sp.diff()\n",
    "    .rewirte()"
   ]
  },
  {
   "cell_type": "code",
   "execution_count": 60,
   "id": "09d6c5f8-3b8f-4cf9-8d55-2755635b15c2",
   "metadata": {},
   "outputs": [
    {
     "data": {
      "text/latex": [
       "$\\displaystyle e^{2 x} + \\sin{\\left(x \\right)}$"
      ],
      "text/plain": [
       "exp(2*x) + sin(x)"
      ]
     },
     "execution_count": 60,
     "metadata": {},
     "output_type": "execute_result"
    }
   ],
   "source": [
    "expr = sp.exp(2*x) + sp.sin(x)\n",
    "expr"
   ]
  },
  {
   "cell_type": "code",
   "execution_count": 61,
   "id": "6159d975-ecce-4634-ad7b-c6ab31d241da",
   "metadata": {},
   "outputs": [
    {
     "data": {
      "text/latex": [
       "$\\displaystyle 2 e^{2 x} + \\cos{\\left(x \\right)}$"
      ],
      "text/plain": [
       "2*exp(2*x) + cos(x)"
      ]
     },
     "execution_count": 61,
     "metadata": {},
     "output_type": "execute_result"
    }
   ],
   "source": [
    "expr.diff()"
   ]
  },
  {
   "cell_type": "code",
   "execution_count": 62,
   "id": "40830774-6918-4843-9891-6bc17c1d4635",
   "metadata": {},
   "outputs": [
    {
     "data": {
      "text/latex": [
       "$\\displaystyle 2 e^{2 x} + \\cos{\\left(x \\right)}$"
      ],
      "text/plain": [
       "2*exp(2*x) + cos(x)"
      ]
     },
     "execution_count": 62,
     "metadata": {},
     "output_type": "execute_result"
    }
   ],
   "source": [
    "sp.diff(expr,x)"
   ]
  },
  {
   "cell_type": "code",
   "execution_count": 64,
   "id": "096a1868-5660-4b09-b50d-a8c9c58c2b90",
   "metadata": {},
   "outputs": [
    {
     "data": {
      "text/latex": [
       "$\\displaystyle 4 e^{2 x} - \\sin{\\left(x \\right)}$"
      ],
      "text/plain": [
       "4*exp(2*x) - sin(x)"
      ]
     },
     "execution_count": 64,
     "metadata": {},
     "output_type": "execute_result"
    }
   ],
   "source": [
    "sp.diff(sp.diff(expr))"
   ]
  },
  {
   "cell_type": "code",
   "execution_count": 65,
   "id": "df81031b-04c5-4d76-85d7-672f4b2de099",
   "metadata": {},
   "outputs": [
    {
     "data": {
      "text/latex": [
       "$\\displaystyle 4 e^{2 x} - \\sin{\\left(x \\right)}$"
      ],
      "text/plain": [
       "4*exp(2*x) - sin(x)"
      ]
     },
     "execution_count": 65,
     "metadata": {},
     "output_type": "execute_result"
    }
   ],
   "source": [
    "sp.diff(expr,x,x)"
   ]
  },
  {
   "cell_type": "code",
   "execution_count": 67,
   "id": "906458b6-33e2-48f0-830c-d2344988598a",
   "metadata": {},
   "outputs": [
    {
     "data": {
      "text/latex": [
       "$\\displaystyle e^{- \\frac{e^{x}}{2}} e^{\\sinh{\\left(x \\right)}}$"
      ],
      "text/plain": [
       "exp(-exp(x)/2)*exp(sinh(x))"
      ]
     },
     "execution_count": 67,
     "metadata": {},
     "output_type": "execute_result"
    }
   ],
   "source": [
    "expr = sp.exp(sp.sinh(x)) / sp.exp(sp.exp(x) / 2)\n",
    "expr"
   ]
  },
  {
   "cell_type": "code",
   "execution_count": 68,
   "id": "4085e52b-f9fe-4b20-9924-7122434feeb0",
   "metadata": {},
   "outputs": [
    {
     "data": {
      "text/latex": [
       "$\\displaystyle e^{\\frac{e^{x}}{2} - \\frac{e^{- x}}{2}} e^{- \\frac{e^{x}}{2}}$"
      ],
      "text/plain": [
       "exp(exp(x)/2 - exp(-x)/2)*exp(-exp(x)/2)"
      ]
     },
     "execution_count": 68,
     "metadata": {},
     "output_type": "execute_result"
    }
   ],
   "source": [
    "expr.rewrite(sp.exp)"
   ]
  },
  {
   "cell_type": "code",
   "execution_count": 69,
   "id": "b771a307-09a6-45d0-901f-6b4d900293ce",
   "metadata": {},
   "outputs": [
    {
     "data": {
      "text/latex": [
       "$\\displaystyle e^{- \\frac{e^{x}}{2} + \\sinh{\\left(x \\right)}}$"
      ],
      "text/plain": [
       "exp(-exp(x)/2 + sinh(x))"
      ]
     },
     "execution_count": 69,
     "metadata": {},
     "output_type": "execute_result"
    }
   ],
   "source": [
    "expr.simplify()"
   ]
  },
  {
   "cell_type": "code",
   "execution_count": 70,
   "id": "703b3015-50c3-4d4c-9cf1-009118d20516",
   "metadata": {},
   "outputs": [
    {
     "data": {
      "text/latex": [
       "$\\displaystyle e^{- \\frac{e^{x}}{2}} e^{\\sinh{\\left(x \\right)}}$"
      ],
      "text/plain": [
       "exp(-exp(x)/2)*exp(sinh(x))"
      ]
     },
     "execution_count": 70,
     "metadata": {},
     "output_type": "execute_result"
    }
   ],
   "source": [
    "expr.expand()"
   ]
  },
  {
   "cell_type": "code",
   "execution_count": 72,
   "id": "9dacf7e4-d618-4bca-884b-a04c385f528f",
   "metadata": {},
   "outputs": [
    {
     "data": {
      "text/latex": [
       "$\\displaystyle \\cos{\\left(x \\right)} \\cot^{2}{\\left(2 y \\right)}$"
      ],
      "text/plain": [
       "cos(x)*cot(2*y)**2"
      ]
     },
     "execution_count": 72,
     "metadata": {},
     "output_type": "execute_result"
    }
   ],
   "source": [
    "two_var = sp.cos(x)*sp.cot(2*y)**2\n",
    "two_var"
   ]
  },
  {
   "cell_type": "code",
   "execution_count": 73,
   "id": "362dc4ba-fded-413c-876a-7ecf9a19fd79",
   "metadata": {},
   "outputs": [
    {
     "data": {
      "text/latex": [
       "$\\displaystyle \\left(- 4 \\cot^{2}{\\left(2 y \\right)} - 4\\right) \\cos{\\left(x \\right)} \\cot{\\left(2 y \\right)}$"
      ],
      "text/plain": [
       "(-4*cot(2*y)**2 - 4)*cos(x)*cot(2*y)"
      ]
     },
     "execution_count": 73,
     "metadata": {},
     "output_type": "execute_result"
    }
   ],
   "source": [
    "two_var.diff(y)"
   ]
  },
  {
   "cell_type": "code",
   "execution_count": 75,
   "id": "63593f9d-d2bb-4525-b3a1-39f27c61a150",
   "metadata": {},
   "outputs": [
    {
     "data": {
      "text/latex": [
       "$\\displaystyle \\frac{\\left(-4 - \\frac{\\sin^{2}{\\left(4 y \\right)}}{\\sin^{4}{\\left(2 y \\right)}}\\right) \\sin{\\left(4 y \\right)} \\sin{\\left(x + \\frac{\\pi}{2} \\right)}}{2 \\sin^{2}{\\left(2 y \\right)}}$"
      ],
      "text/plain": [
       "(-4 - sin(4*y)**2/sin(2*y)**4)*sin(4*y)*sin(x + pi/2)/(2*sin(2*y)**2)"
      ]
     },
     "execution_count": 75,
     "metadata": {},
     "output_type": "execute_result"
    }
   ],
   "source": [
    "two_var.diff(y).rewrite(sp.sin)"
   ]
  },
  {
   "cell_type": "code",
   "execution_count": 76,
   "id": "04c33d39-73fc-4146-9579-f051df5c27e6",
   "metadata": {},
   "outputs": [
    {
     "data": {
      "text/latex": [
       "$\\displaystyle - \\frac{4 \\cos{\\left(x \\right)} \\cot{\\left(2 y \\right)}}{\\sin^{2}{\\left(2 y \\right)}}$"
      ],
      "text/plain": [
       "-4*cos(x)*cot(2*y)/sin(2*y)**2"
      ]
     },
     "execution_count": 76,
     "metadata": {},
     "output_type": "execute_result"
    }
   ],
   "source": [
    "two_var.diff(y).simplify()"
   ]
  },
  {
   "cell_type": "code",
   "execution_count": 77,
   "id": "ab290cda-f0da-4c7e-8db3-fc95f09807a1",
   "metadata": {},
   "outputs": [
    {
     "data": {
      "text/latex": [
       "$\\displaystyle 8 \\left(\\cot^{2}{\\left(2 y \\right)} + 1\\right) \\left(3 \\cot^{2}{\\left(2 y \\right)} + 1\\right) \\sin{\\left(x \\right)}$"
      ],
      "text/plain": [
       "8*(cot(2*y)**2 + 1)*(3*cot(2*y)**2 + 1)*sin(x)"
      ]
     },
     "execution_count": 77,
     "metadata": {},
     "output_type": "execute_result"
    }
   ],
   "source": [
    "two_var.diff(y,2,x,3)"
   ]
  },
  {
   "cell_type": "code",
   "execution_count": 78,
   "id": "0b43afa9-0a3b-4180-a79f-d4a058435bae",
   "metadata": {},
   "outputs": [
    {
     "data": {
      "text/latex": [
       "$\\displaystyle 8 \\left(\\cot^{2}{\\left(2 y \\right)} + 1\\right) \\left(3 \\cot^{2}{\\left(2 y \\right)} + 1\\right) \\sin{\\left(x \\right)}$"
      ],
      "text/plain": [
       "8*(cot(2*y)**2 + 1)*(3*cot(2*y)**2 + 1)*sin(x)"
      ]
     },
     "execution_count": 78,
     "metadata": {},
     "output_type": "execute_result"
    }
   ],
   "source": [
    "two_var.diff(x,3,y,2)"
   ]
  },
  {
   "cell_type": "markdown",
   "id": "49c02d5b-c8c5-47d4-9bc4-58149ce4d7a0",
   "metadata": {},
   "source": [
    "# Integrals\n",
    "    sp.integrate()\n",
    "    sp.integrate(fx,(x,start,end))"
   ]
  },
  {
   "cell_type": "code",
   "execution_count": 79,
   "id": "7920be96-22cb-418e-a56c-4f8d3ccd98d5",
   "metadata": {},
   "outputs": [
    {
     "data": {
      "text/latex": [
       "$\\displaystyle x y z^{2}$"
      ],
      "text/plain": [
       "x*y*z**2"
      ]
     },
     "execution_count": 79,
     "metadata": {},
     "output_type": "execute_result"
    }
   ],
   "source": [
    "w = x*y*z**2\n",
    "w"
   ]
  },
  {
   "cell_type": "code",
   "execution_count": 81,
   "id": "1de9a01b-5dd6-4cc8-993d-07f64c98d1cf",
   "metadata": {},
   "outputs": [
    {
     "data": {
      "text/latex": [
       "$\\displaystyle \\frac{x^{2} y z^{2}}{2}$"
      ],
      "text/plain": [
       "x**2*y*z**2/2"
      ]
     },
     "execution_count": 81,
     "metadata": {},
     "output_type": "execute_result"
    }
   ],
   "source": [
    "sp.integrate(w,x)"
   ]
  },
  {
   "cell_type": "code",
   "execution_count": 82,
   "id": "2ffc3f30-8dbd-4539-aeb9-474e070f10af",
   "metadata": {},
   "outputs": [
    {
     "data": {
      "text/latex": [
       "$\\displaystyle \\frac{x y^{2} z^{2}}{2}$"
      ],
      "text/plain": [
       "x*y**2*z**2/2"
      ]
     },
     "execution_count": 82,
     "metadata": {},
     "output_type": "execute_result"
    }
   ],
   "source": [
    "sp.integrate(w,y)"
   ]
  },
  {
   "cell_type": "code",
   "execution_count": 83,
   "id": "a214c98b-1c2a-4b2f-b75a-cc8b623acade",
   "metadata": {},
   "outputs": [
    {
     "data": {
      "text/latex": [
       "$\\displaystyle \\frac{x^{2} y^{2} z^{2}}{4}$"
      ],
      "text/plain": [
       "x**2*y**2*z**2/4"
      ]
     },
     "execution_count": 83,
     "metadata": {},
     "output_type": "execute_result"
    }
   ],
   "source": [
    "# indefinite integral\n",
    "sp.integrate(w,x,y)"
   ]
  },
  {
   "cell_type": "code",
   "execution_count": 86,
   "id": "b409a68d-46e9-4fff-afc4-9aa7e468e1ce",
   "metadata": {},
   "outputs": [
    {
     "data": {
      "text/latex": [
       "$\\displaystyle \\frac{x^{2} y^{2} z^{2}}{4}$"
      ],
      "text/plain": [
       "x**2*y**2*z**2/4"
      ]
     },
     "execution_count": 86,
     "metadata": {},
     "output_type": "execute_result"
    }
   ],
   "source": [
    "# indefinite integral\n",
    "sp.integrate(sp.integrate(w,x),y)"
   ]
  },
  {
   "cell_type": "code",
   "execution_count": 87,
   "id": "69e82fbc-fdc7-46a5-b107-7c0253d4a05a",
   "metadata": {},
   "outputs": [
    {
     "data": {
      "text/latex": [
       "$\\displaystyle 54$"
      ],
      "text/plain": [
       "54"
      ]
     },
     "execution_count": 87,
     "metadata": {},
     "output_type": "execute_result"
    }
   ],
   "source": [
    "# definate integral\n",
    "sp.integrate(w,(x,0,1),(y,1,5),(z,0,3))"
   ]
  },
  {
   "cell_type": "markdown",
   "id": "12f63f31-2ca4-4b97-b3e3-043858cbb003",
   "metadata": {},
   "source": [
    "# Limits and Series\n",
    "    sp.limit()\n",
    "    sp.series()\n",
    "    .remove()   - remove the \"big O\" from the Taylor series"
   ]
  },
  {
   "cell_type": "code",
   "execution_count": 88,
   "id": "e28a4967-c923-485e-af1c-30853e0299e1",
   "metadata": {},
   "outputs": [
    {
     "data": {
      "text/latex": [
       "$\\displaystyle \\frac{1}{x}$"
      ],
      "text/plain": [
       "1/x"
      ]
     },
     "execution_count": 88,
     "metadata": {},
     "output_type": "execute_result"
    }
   ],
   "source": [
    "expr = 1 / x\n",
    "expr"
   ]
  },
  {
   "cell_type": "code",
   "execution_count": 89,
   "id": "2a78f99e-30dd-468a-a5f3-784ea1934cd9",
   "metadata": {},
   "outputs": [
    {
     "data": {
      "text/latex": [
       "$\\displaystyle \\infty$"
      ],
      "text/plain": [
       "oo"
      ]
     },
     "execution_count": 89,
     "metadata": {},
     "output_type": "execute_result"
    }
   ],
   "source": [
    "sp.limit(expr,x,0)"
   ]
  },
  {
   "cell_type": "code",
   "execution_count": 90,
   "id": "7ad5aa79-f667-4c81-bc70-100228bbec79",
   "metadata": {},
   "outputs": [
    {
     "data": {
      "text/latex": [
       "$\\displaystyle -\\infty$"
      ],
      "text/plain": [
       "-oo"
      ]
     },
     "execution_count": 90,
     "metadata": {},
     "output_type": "execute_result"
    }
   ],
   "source": [
    "sp.limit(expr,x,0,'-')"
   ]
  },
  {
   "cell_type": "code",
   "execution_count": 91,
   "id": "7a535901-ccfd-4038-bbb5-35aac8092f37",
   "metadata": {},
   "outputs": [
    {
     "data": {
      "text/latex": [
       "$\\displaystyle \\tilde{\\infty}$"
      ],
      "text/plain": [
       "zoo"
      ]
     },
     "execution_count": 91,
     "metadata": {},
     "output_type": "execute_result"
    }
   ],
   "source": [
    "sp.limit(expr,x,0,'+-')"
   ]
  },
  {
   "cell_type": "code",
   "execution_count": 92,
   "id": "d2b3683a-78d8-47e1-b67c-2d502c48acbd",
   "metadata": {},
   "outputs": [
    {
     "data": {
      "text/latex": [
       "$\\displaystyle 1 - \\frac{\\left(x - \\frac{\\pi}{2}\\right)^{2}}{2} + \\frac{\\left(x - \\frac{\\pi}{2}\\right)^{4}}{24} + O\\left(\\left(x - \\frac{\\pi}{2}\\right)^{6}; x\\rightarrow \\frac{\\pi}{2}\\right)$"
      ],
      "text/plain": [
       "1 - (x - pi/2)**2/2 + (x - pi/2)**4/24 + O((x - pi/2)**6, (x, pi/2))"
      ]
     },
     "execution_count": 92,
     "metadata": {},
     "output_type": "execute_result"
    }
   ],
   "source": [
    "sp.series(sp.sin(x),x,sp.pi/2)"
   ]
  },
  {
   "cell_type": "markdown",
   "id": "398810d0-78c1-4497-8d02-e369bfa53194",
   "metadata": {},
   "source": [
    "# Taylor series"
   ]
  },
  {
   "cell_type": "code",
   "execution_count": 93,
   "id": "1c96a30f-4467-4234-beef-a5b1ab2e33c8",
   "metadata": {},
   "outputs": [
    {
     "data": {
      "text/latex": [
       "$\\displaystyle \\sin{\\left(x \\right)}$"
      ],
      "text/plain": [
       "sin(x)"
      ]
     },
     "execution_count": 93,
     "metadata": {},
     "output_type": "execute_result"
    }
   ],
   "source": [
    "expr = sp.sin(x)\n",
    "expr"
   ]
  },
  {
   "cell_type": "code",
   "execution_count": 94,
   "id": "c2435f95-f801-4dbf-9f39-5bd39ee6a768",
   "metadata": {},
   "outputs": [
    {
     "data": {
      "text/latex": [
       "$\\displaystyle x - \\frac{x^{3}}{6} + \\frac{x^{5}}{120} + O\\left(x^{6}\\right)$"
      ],
      "text/plain": [
       "x - x**3/6 + x**5/120 + O(x**6)"
      ]
     },
     "execution_count": 94,
     "metadata": {},
     "output_type": "execute_result"
    }
   ],
   "source": [
    "sp.series(expr,x,0)"
   ]
  },
  {
   "cell_type": "code",
   "execution_count": 95,
   "id": "6190afc3-8961-417b-9bf6-313e0d9a2c1c",
   "metadata": {},
   "outputs": [
    {
     "data": {
      "text/latex": [
       "$\\displaystyle 1 - \\frac{x^{2}}{2} + \\frac{x^{4}}{24} + O\\left(x^{6}\\right)$"
      ],
      "text/plain": [
       "1 - x**2/2 + x**4/24 + O(x**6)"
      ]
     },
     "execution_count": 95,
     "metadata": {},
     "output_type": "execute_result"
    }
   ],
   "source": [
    "sp.series(sp.cos(x),x,0)"
   ]
  },
  {
   "cell_type": "code",
   "execution_count": 96,
   "id": "9f18b643-4910-48fe-8482-6053f9668366",
   "metadata": {},
   "outputs": [
    {
     "data": {
      "text/latex": [
       "$\\displaystyle 1 + x + \\frac{x^{2}}{2} + \\frac{x^{3}}{6} + \\frac{x^{4}}{24} + \\frac{x^{5}}{120} + O\\left(x^{6}\\right)$"
      ],
      "text/plain": [
       "1 + x + x**2/2 + x**3/6 + x**4/24 + x**5/120 + O(x**6)"
      ]
     },
     "execution_count": 96,
     "metadata": {},
     "output_type": "execute_result"
    }
   ],
   "source": [
    "sp.series(sp.exp(x),x,0)"
   ]
  },
  {
   "cell_type": "code",
   "execution_count": 98,
   "id": "f59392b2-0389-4e11-9bf9-1089962e6e5d",
   "metadata": {},
   "outputs": [
    {
     "data": {
      "text/latex": [
       "$\\displaystyle 1 + x + \\frac{x^{2}}{2} - \\frac{x^{4}}{8} - \\frac{x^{5}}{15} + O\\left(x^{6}\\right)$"
      ],
      "text/plain": [
       "1 + x + x**2/2 - x**4/8 - x**5/15 + O(x**6)"
      ]
     },
     "execution_count": 98,
     "metadata": {},
     "output_type": "execute_result"
    }
   ],
   "source": [
    "sp.series(sp.exp(sp.sin(x)),x,0)"
   ]
  },
  {
   "cell_type": "code",
   "execution_count": 103,
   "id": "490cd258-5ee7-4f6a-9a59-b75ca1cbc377",
   "metadata": {},
   "outputs": [
    {
     "data": {
      "text/latex": [
       "$\\displaystyle 1 + i x - \\frac{x^{2}}{2} - \\frac{i x^{3}}{6} + \\frac{x^{4}}{24} + \\frac{i x^{5}}{120} + O\\left(x^{6}\\right)$"
      ],
      "text/plain": [
       "1 + I*x - x**2/2 - I*x**3/6 + x**4/24 + I*x**5/120 + O(x**6)"
      ]
     },
     "execution_count": 103,
     "metadata": {},
     "output_type": "execute_result"
    }
   ],
   "source": [
    "sp.series(sp.exp(x*sp.I),x,0)"
   ]
  },
  {
   "cell_type": "markdown",
   "id": "84f26d3d-86b2-4df8-90bc-1bdb9854de7f",
   "metadata": {},
   "source": [
    "# f(x)\n",
    "near x=a, $$f(x) = a_0 + a_1(x-a) + a_2(x-a)^2 + a_3(x-a)^3 + \\dots + a_n(x-a)^n + \\dots \\\\\n",
    "x = a , f(a) = a_0 $$\n",
    "\n",
    "$$ f'(x-a) = 0 + a_1 + (a_2*2)(x-a) + a_3*3(x-a)^2 + a_4*4(x-a)^3 + a_5*5(x-a)^4 \\dots \\\\\n",
    "x = a ,\\, f'(a) = (a_1) $$\n",
    "\n",
    "$$ f''(x-a) = 0 + 0 + (a_2*2) + a_3*3*2(x-a)^1 + a_4*4*3(x-a)^2 + a_5*5*4(x-a)^3 \\dots \\\\\n",
    "x = a ,\\, f''(a) = (a_2) * 2 $$\n",
    "\n",
    "$$ f^{3}(x-a) = 0 + 0 + 0 + a_3*3*2 + a_4*4*3*2(x-a)^1 + a_5*5*4*3(x-a)^2 \\dots \\\\\n",
    "x = a ,\\, f'''(a) = (a_3) *3 * 2 $$\n",
    "\n",
    "$$ \\because f(x) = \\frac{f(a)}{0!}(x-a)^0 + \\frac{f'(a)}{1!}(x-a)^1 + \\frac{f''(a)}{2!}(x-a)^2 + \\frac{f'''(a)}{3!}(x-a)^3 + \\frac{f^{4}(a)}{4!}(x-a)^4 \\dots $$\n",
    "\n",
    "$$ f(x) = \\sum_{n =0}^{\\infty}\\, \\frac{f^{n}(a)}{n!}{(x-a)^n} $$"
   ]
  },
  {
   "cell_type": "markdown",
   "id": "d8865b6d-bed3-4aa8-adbf-f1bea520cec2",
   "metadata": {},
   "source": [
    "# exp\n",
    "$$ e^x = \\frac{e^0}{0!}x^0 + \\frac {e^0}{1!}x^1 + \\frac{e^0}{2!}x^2 + \\frac{e^0}{3!}x^3 + \\dots\n",
    "$$\n",
    "\n",
    "$$ e^x = 1 + x + \\frac{x^2}{2!} + \\frac{x^3}{3!} + \\dots\n",
    "$$"
   ]
  },
  {
   "cell_type": "markdown",
   "id": "ac0ff804-fdc4-42fb-9e88-3fb17dffc129",
   "metadata": {},
   "source": [
    "# cos (x)\n",
    "$$ \\cos(x) = -sin(0) + \\frac{-cos(0)}{1!}x^1 + \\frac{sin(0)}{2!}x^2 + \\frac{cos(0)}{3!}x^3 + \\frac{-sin(0)}{4!}x^4 + \\frac{-cos(0)}{5!}x^5 + \\frac{sin(0)}{6!}x^6 + \\dots $$\n",
    "\n",
    "$$ \\cos(x) = 0 + -1x + 0 + \\frac{1}{3!}x^3 + 0 + \\frac{-1}{5!}x^5 + 0 + \\dots\n",
    "$$"
   ]
  },
  {
   "cell_type": "markdown",
   "id": "5c2100b6-aae8-4a3b-9573-61f813dfe000",
   "metadata": {},
   "source": [
    "# sin (x)\n",
    "$$ \\sin(x) = cos(0) + \\frac{-sin(0)}{1!}x^1 + \\frac{-cos(0)}{2!}x^2 + \\frac{sin(0)}{3!}x^3 + \\frac{cos(0)}{4!}x^4 + \\frac{-sin(0)}{5!}x^5 + \\frac{-cos(0)}{6!}x^6 + \\dots \n",
    "$$\n",
    "\n",
    "$$ \\sin(x) = 1 + 0 + \\frac{-1}{2!}x^2 + 0 + \\frac{1}{4!}x^4 + 0 + \\frac{-1}{6!}x^6\n",
    "$$"
   ]
  },
  {
   "cell_type": "markdown",
   "id": "d6966ab7-c7cd-4eaa-b479-f8a296d658a4",
   "metadata": {},
   "source": [
    "# eulor equation\n",
    "$$ e^{ix} = \\cos(x) + i(\\sin(x)) \\\\\n",
    "x = \\pi, \\\\\n",
    "e^{i\\pi} = \\cos(\\pi) +  i (\\sin{\\pi}) \\\\\n",
    "e^{i\\pi} = -1 \\\\\n",
    "x = \\frac{\\pi}{2}, \\\\\n",
    "e^{i\\frac{\\pi}{2}} = i \\\\ \n",
    "$$"
   ]
  },
  {
   "cell_type": "code",
   "execution_count": 114,
   "id": "47cea204-ba88-440d-828e-b32bb3c5c972",
   "metadata": {},
   "outputs": [
    {
     "data": {
      "text/latex": [
       "$\\displaystyle 1 + x + \\frac{x^{2}}{2} + \\frac{x^{3}}{6} + \\frac{x^{4}}{24} + \\frac{x^{5}}{120} + \\frac{x^{6}}{720} + \\frac{x^{7}}{5040} + \\frac{x^{8}}{40320} + \\frac{x^{9}}{362880} + O\\left(x^{10}\\right)$"
      ],
      "text/plain": [
       "1 + x + x**2/2 + x**3/6 + x**4/24 + x**5/120 + x**6/720 + x**7/5040 + x**8/40320 + x**9/362880 + O(x**10)"
      ]
     },
     "execution_count": 114,
     "metadata": {},
     "output_type": "execute_result"
    }
   ],
   "source": [
    "sp.series(sp.E**x,x,0,n=10)"
   ]
  },
  {
   "cell_type": "code",
   "execution_count": 115,
   "id": "ddc7bbd6-6321-42b0-afaf-820be7c75d2f",
   "metadata": {},
   "outputs": [
    {
     "data": {
      "text/latex": [
       "$\\displaystyle 1 - \\frac{x^{2}}{2} + \\frac{x^{4}}{24} - \\frac{x^{6}}{720} + \\frac{x^{8}}{40320} + O\\left(x^{10}\\right)$"
      ],
      "text/plain": [
       "1 - x**2/2 + x**4/24 - x**6/720 + x**8/40320 + O(x**10)"
      ]
     },
     "execution_count": 115,
     "metadata": {},
     "output_type": "execute_result"
    }
   ],
   "source": [
    "sp.series(sp.cos(x),x,0,n=10)"
   ]
  },
  {
   "cell_type": "code",
   "execution_count": 116,
   "id": "73f27d4e-1156-454a-ab45-28679bf64eff",
   "metadata": {},
   "outputs": [
    {
     "data": {
      "text/latex": [
       "$\\displaystyle x - \\frac{x^{3}}{6} + \\frac{x^{5}}{120} - \\frac{x^{7}}{5040} + \\frac{x^{9}}{362880} + O\\left(x^{10}\\right)$"
      ],
      "text/plain": [
       "x - x**3/6 + x**5/120 - x**7/5040 + x**9/362880 + O(x**10)"
      ]
     },
     "execution_count": 116,
     "metadata": {},
     "output_type": "execute_result"
    }
   ],
   "source": [
    "sp.series(sp.sin(x),x,0,n=10)"
   ]
  },
  {
   "cell_type": "code",
   "execution_count": 118,
   "id": "f0d2eb6e-99e3-49b8-bb6d-b0b62297a5fd",
   "metadata": {},
   "outputs": [
    {
     "data": {
      "text/latex": [
       "$\\displaystyle i x - \\frac{i x^{3}}{6} + \\frac{i x^{5}}{120} - \\frac{i x^{7}}{5040} + \\frac{i x^{9}}{362880} + O\\left(x^{10}\\right)$"
      ],
      "text/plain": [
       "I*x - I*x**3/6 + I*x**5/120 - I*x**7/5040 + I*x**9/362880 + O(x**10)"
      ]
     },
     "execution_count": 118,
     "metadata": {},
     "output_type": "execute_result"
    }
   ],
   "source": [
    "sp.series(sp.I*sp.sin(x),x, 0 , 10)"
   ]
  },
  {
   "cell_type": "code",
   "execution_count": 126,
   "id": "0f5174f8-cf24-4f2b-b0a7-8c3cb776fbc5",
   "metadata": {},
   "outputs": [
    {
     "data": {
      "text/latex": [
       "$\\displaystyle 1 + i \\left(x - \\frac{x^{3}}{6} + O\\left(x^{5}\\right)\\right) - \\frac{x^{2}}{2} + \\frac{x^{4}}{24} + O\\left(x^{5}\\right)$"
      ],
      "text/plain": [
       "1 + I*(x - x**3/6 + O(x**5)) - x**2/2 + x**4/24 + O(x**5)"
      ]
     },
     "execution_count": 126,
     "metadata": {},
     "output_type": "execute_result"
    }
   ],
   "source": [
    "expr = sp.series(sp.E**(sp.I*x), x, 0 , 5)\n",
    "sp.collect(expr,sp.I)"
   ]
  },
  {
   "cell_type": "code",
   "execution_count": 127,
   "id": "0a25899b-3612-47e6-b619-b207795a8f7b",
   "metadata": {},
   "outputs": [
    {
     "data": {
      "text/latex": [
       "$\\displaystyle \\frac{x^{4}}{24} - \\frac{i x^{3}}{6} - \\frac{x^{2}}{2} + i x + 1$"
      ],
      "text/plain": [
       "x**4/24 - I*x**3/6 - x**2/2 + I*x + 1"
      ]
     },
     "execution_count": 127,
     "metadata": {},
     "output_type": "execute_result"
    }
   ],
   "source": [
    "expr.removeO()"
   ]
  },
  {
   "cell_type": "markdown",
   "id": "251c27cf-5238-440d-8f8a-4587a5fcf4cb",
   "metadata": {},
   "source": [
    "# Ordinary Differential Euqation\n",
    "    .rhs - right-hand side of an equation\n",
    "    .lhs - left-hand side of an equation\n",
    "    sp.dsolve() - Soving a differential eqation\n",
    "    sp.Function() - Creating an unspecified function"
   ]
  },
  {
   "cell_type": "code",
   "execution_count": 132,
   "id": "dbca06bd-2c3d-4481-9cef-36d8eda550b1",
   "metadata": {},
   "outputs": [
    {
     "data": {
      "text/latex": [
       "$\\displaystyle f{\\left(x \\right)}$"
      ],
      "text/plain": [
       "f(x)"
      ]
     },
     "execution_count": 132,
     "metadata": {},
     "output_type": "execute_result"
    }
   ],
   "source": [
    "f = sp.Function('f')(x)\n",
    "f"
   ]
  },
  {
   "cell_type": "code",
   "execution_count": 133,
   "id": "e5200b5b-cba4-43d7-ad0e-79b06496ba97",
   "metadata": {},
   "outputs": [
    {
     "data": {
      "text/latex": [
       "$\\displaystyle \\frac{d}{d x} f{\\left(x \\right)}$"
      ],
      "text/plain": [
       "Derivative(f(x), x)"
      ]
     },
     "execution_count": 133,
     "metadata": {},
     "output_type": "execute_result"
    }
   ],
   "source": [
    "f.diff()"
   ]
  },
  {
   "cell_type": "code",
   "execution_count": 134,
   "id": "957253e1-a47e-44ef-8d32-dcf78477a847",
   "metadata": {},
   "outputs": [
    {
     "data": {
      "text/latex": [
       "$\\displaystyle \\int f{\\left(x \\right)}\\, dx$"
      ],
      "text/plain": [
       "Integral(f(x), x)"
      ]
     },
     "execution_count": 134,
     "metadata": {},
     "output_type": "execute_result"
    }
   ],
   "source": [
    "f.integrate()"
   ]
  },
  {
   "cell_type": "code",
   "execution_count": 136,
   "id": "0f11a566-6252-463b-a4c2-20436938c523",
   "metadata": {},
   "outputs": [
    {
     "data": {
      "text/latex": [
       "$\\displaystyle x \\frac{d^{2}}{d x^{2}} f{\\left(x \\right)} + \\frac{d}{d x} f{\\left(x \\right)} = x^{3}$"
      ],
      "text/plain": [
       "Eq(x*Derivative(f(x), (x, 2)) + Derivative(f(x), x), x**3)"
      ]
     },
     "execution_count": 136,
     "metadata": {},
     "output_type": "execute_result"
    }
   ],
   "source": [
    "diff_eq = sp.Eq(x*f.diff(x,x) + f.diff(x), x**3) \n",
    "diff_eq"
   ]
  },
  {
   "cell_type": "code",
   "execution_count": 137,
   "id": "4b2bc65a-0776-4a86-b421-bf06d809419c",
   "metadata": {},
   "outputs": [
    {
     "data": {
      "text/latex": [
       "$\\displaystyle x^{3}$"
      ],
      "text/plain": [
       "x**3"
      ]
     },
     "execution_count": 137,
     "metadata": {},
     "output_type": "execute_result"
    }
   ],
   "source": [
    "diff_eq.rhs"
   ]
  },
  {
   "cell_type": "code",
   "execution_count": 138,
   "id": "8d50e7d0-df6b-4855-b606-1c12ac33b2e4",
   "metadata": {},
   "outputs": [
    {
     "data": {
      "text/latex": [
       "$\\displaystyle x \\frac{d^{2}}{d x^{2}} f{\\left(x \\right)} + \\frac{d}{d x} f{\\left(x \\right)}$"
      ],
      "text/plain": [
       "x*Derivative(f(x), (x, 2)) + Derivative(f(x), x)"
      ]
     },
     "execution_count": 138,
     "metadata": {},
     "output_type": "execute_result"
    }
   ],
   "source": [
    "diff_eq.lhs"
   ]
  },
  {
   "cell_type": "code",
   "execution_count": 139,
   "id": "53fe340e-70ce-4e7d-b2cb-3bc59587ec09",
   "metadata": {},
   "outputs": [
    {
     "data": {
      "text/latex": [
       "$\\displaystyle f{\\left(x \\right)} = C_{1} + C_{2} \\log{\\left(x \\right)} + \\frac{x^{4}}{16}$"
      ],
      "text/plain": [
       "Eq(f(x), C1 + C2*log(x) + x**4/16)"
      ]
     },
     "execution_count": 139,
     "metadata": {},
     "output_type": "execute_result"
    }
   ],
   "source": [
    "sol = sp.dsolve(diff_eq,f)\n",
    "sol"
   ]
  },
  {
   "cell_type": "code",
   "execution_count": 140,
   "id": "3469f0e9-8fc8-4ef6-9cf4-67d800dfb30e",
   "metadata": {},
   "outputs": [
    {
     "data": {
      "text/plain": [
       "sympy.core.relational.Equality"
      ]
     },
     "execution_count": 140,
     "metadata": {},
     "output_type": "execute_result"
    }
   ],
   "source": [
    "type(sol)"
   ]
  },
  {
   "cell_type": "code",
   "execution_count": 142,
   "id": "10992fed-c8d2-4dad-be2d-a8bdf6d30c4f",
   "metadata": {},
   "outputs": [
    {
     "data": {
      "text/latex": [
       "$\\displaystyle C_{1} + C_{2} \\log{\\left(x \\right)} + \\frac{x^{4}}{16}$"
      ],
      "text/plain": [
       "C1 + C2*log(x) + x**4/16"
      ]
     },
     "execution_count": 142,
     "metadata": {},
     "output_type": "execute_result"
    }
   ],
   "source": [
    "exp = sol.rhs\n",
    "exp"
   ]
  },
  {
   "cell_type": "code",
   "execution_count": 143,
   "id": "a5ca9298-551d-48cc-b3c9-8b7c5b27e73a",
   "metadata": {},
   "outputs": [
    {
     "data": {
      "text/plain": [
       "{C1, C2, x}"
      ]
     },
     "execution_count": 143,
     "metadata": {},
     "output_type": "execute_result"
    }
   ],
   "source": [
    "exp.free_symbols"
   ]
  },
  {
   "cell_type": "code",
   "execution_count": 145,
   "id": "a62c538b-cdd0-43f9-a541-8b31b6152f99",
   "metadata": {},
   "outputs": [
    {
     "data": {
      "text/plain": [
       "(x, C2, C1)"
      ]
     },
     "execution_count": 145,
     "metadata": {},
     "output_type": "execute_result"
    }
   ],
   "source": [
    "tuple(exp.free_symbols)"
   ]
  },
  {
   "cell_type": "code",
   "execution_count": 149,
   "id": "f34f60a2-27a6-4849-be44-66f836622733",
   "metadata": {},
   "outputs": [],
   "source": [
    "_, c2,c1 = tuple(exp.free_symbols)"
   ]
  },
  {
   "cell_type": "code",
   "execution_count": 153,
   "id": "a011eb6c-323c-488d-8a84-28c88843feed",
   "metadata": {},
   "outputs": [
    {
     "data": {
      "text/latex": [
       "$\\displaystyle \\frac{x^{4}}{16} + \\log{\\left(x \\right)}$"
      ],
      "text/plain": [
       "x**4/16 + log(x)"
      ]
     },
     "execution_count": 153,
     "metadata": {},
     "output_type": "execute_result"
    }
   ],
   "source": [
    "exp.subs(c1,0).subs(c2,1)"
   ]
  },
  {
   "cell_type": "markdown",
   "id": "d6a8ad30-9e1f-4d6f-a64b-0d4071c73c1f",
   "metadata": {},
   "source": [
    "# Initial Condition\n",
    "    f(1) = 0, f'(2) = 1"
   ]
  },
  {
   "cell_type": "code",
   "execution_count": 154,
   "id": "3d605c20-6953-48d1-a268-77dc75a579df",
   "metadata": {},
   "outputs": [
    {
     "data": {
      "text/plain": [
       "{f(1): 0, Subs(Derivative(f(x), x), x, 2): 1}"
      ]
     },
     "execution_count": 154,
     "metadata": {},
     "output_type": "execute_result"
    }
   ],
   "source": [
    "ics = {f.subs(x,1):0, f.diff().subs(x,2):1}\n",
    "ics"
   ]
  },
  {
   "cell_type": "code",
   "execution_count": 156,
   "id": "019ad310-27b4-42cb-920d-43c69d124072",
   "metadata": {},
   "outputs": [
    {
     "data": {
      "text/latex": [
       "$\\displaystyle \\frac{x^{4}}{16} - 2 \\log{\\left(x \\right)} - \\frac{1}{16}$"
      ],
      "text/plain": [
       "x**4/16 - 2*log(x) - 1/16"
      ]
     },
     "execution_count": 156,
     "metadata": {},
     "output_type": "execute_result"
    }
   ],
   "source": [
    "ivp = sp.dsolve(diff_eq, ics=ics).rhs\n",
    "ivp"
   ]
  },
  {
   "cell_type": "code",
   "execution_count": 157,
   "id": "8c250a83-db57-4cd8-8b0e-cd9a37894808",
   "metadata": {},
   "outputs": [
    {
     "data": {
      "text/latex": [
       "$\\displaystyle 1$"
      ],
      "text/plain": [
       "1"
      ]
     },
     "execution_count": 157,
     "metadata": {},
     "output_type": "execute_result"
    }
   ],
   "source": [
    "ivp.diff().subs(x,2)"
   ]
  },
  {
   "cell_type": "code",
   "execution_count": 159,
   "id": "3aaa798b-da58-4034-ac29-6cbad7416037",
   "metadata": {},
   "outputs": [
    {
     "data": {
      "text/latex": [
       "$\\displaystyle 0$"
      ],
      "text/plain": [
       "0"
      ]
     },
     "execution_count": 159,
     "metadata": {},
     "output_type": "execute_result"
    }
   ],
   "source": [
    "ivp.subs(x,1)"
   ]
  },
  {
   "cell_type": "code",
   "execution_count": 161,
   "id": "1ab68e56-7bed-4f66-9787-e3e6c84bdb68",
   "metadata": {},
   "outputs": [
    {
     "data": {
      "text/latex": [
       "$\\displaystyle x^{3}$"
      ],
      "text/plain": [
       "x**3"
      ]
     },
     "execution_count": 161,
     "metadata": {},
     "output_type": "execute_result"
    }
   ],
   "source": [
    "(x*ivp.diff(x,x) + ivp.diff()).simplify()"
   ]
  },
  {
   "cell_type": "markdown",
   "id": "2b587244-49cb-44d9-a42d-d556297b7ce5",
   "metadata": {},
   "source": [
    "# Numerical\n",
    "    sp.evalf() - Evaluats a sympy numerical expressions to a float\n",
    "    sp.lamdify() - Create a \"lamddified function\" out of an expession"
   ]
  },
  {
   "cell_type": "code",
   "execution_count": 164,
   "id": "e538d7c7-e294-4e87-a1ad-fdf39bd1f101",
   "metadata": {},
   "outputs": [
    {
     "data": {
      "text/latex": [
       "$\\displaystyle \\pi x^{2} + 5 x + e$"
      ],
      "text/plain": [
       "pi*x**2 + 5*x + E"
      ]
     },
     "execution_count": 164,
     "metadata": {},
     "output_type": "execute_result"
    }
   ],
   "source": [
    "expr = sp.pi * x**2 + 5*x + sp.E\n",
    "expr"
   ]
  },
  {
   "cell_type": "code",
   "execution_count": 165,
   "id": "3b32a43a-84f2-4de9-a93e-de13711d537f",
   "metadata": {},
   "outputs": [
    {
     "data": {
      "text/latex": [
       "$\\displaystyle e + \\pi + 5$"
      ],
      "text/plain": [
       "E + pi + 5"
      ]
     },
     "execution_count": 165,
     "metadata": {},
     "output_type": "execute_result"
    }
   ],
   "source": [
    "value = expr.subs(x,1)\n",
    "value"
   ]
  },
  {
   "cell_type": "code",
   "execution_count": 166,
   "id": "d2a618c0-21a9-460a-9824-8006eddd117c",
   "metadata": {},
   "outputs": [
    {
     "data": {
      "text/latex": [
       "$\\displaystyle 10.8598744820488$"
      ],
      "text/plain": [
       "10.8598744820488"
      ]
     },
     "execution_count": 166,
     "metadata": {},
     "output_type": "execute_result"
    }
   ],
   "source": [
    "value.evalf()"
   ]
  },
  {
   "cell_type": "code",
   "execution_count": 167,
   "id": "7199e2b1-0229-4870-b868-1c257ff10f38",
   "metadata": {},
   "outputs": [
    {
     "data": {
      "text/latex": [
       "$\\displaystyle 10.859874$"
      ],
      "text/plain": [
       "10.859874"
      ]
     },
     "execution_count": 167,
     "metadata": {},
     "output_type": "execute_result"
    }
   ],
   "source": [
    "value.evalf(8)"
   ]
  },
  {
   "cell_type": "code",
   "execution_count": 168,
   "id": "c145c832-c655-460c-a2d4-87b5f6a4b098",
   "metadata": {},
   "outputs": [
    {
     "data": {
      "text/latex": [
       "$\\displaystyle 10.8598744820488$"
      ],
      "text/plain": [
       "10.8598744820488"
      ]
     },
     "execution_count": 168,
     "metadata": {},
     "output_type": "execute_result"
    }
   ],
   "source": [
    "sp.N(value)"
   ]
  },
  {
   "cell_type": "code",
   "execution_count": 169,
   "id": "24532ecf-6460-401b-814b-25dfbf9442a1",
   "metadata": {},
   "outputs": [
    {
     "data": {
      "text/latex": [
       "$\\displaystyle 10.859874$"
      ],
      "text/plain": [
       "10.859874"
      ]
     },
     "execution_count": 169,
     "metadata": {},
     "output_type": "execute_result"
    }
   ],
   "source": [
    "sp.N(value,8)"
   ]
  },
  {
   "cell_type": "code",
   "execution_count": 182,
   "id": "59c8336e-2ca2-42ef-84e9-5be704b38fde",
   "metadata": {},
   "outputs": [
    {
     "data": {
      "text/plain": [
       "<function _lambdifygenerated(x)>"
      ]
     },
     "execution_count": 182,
     "metadata": {},
     "output_type": "execute_result"
    }
   ],
   "source": [
    "lambdified_expr = sp.lambdify(x, sp.pi * x**2 + 5*x + sp.E)\n",
    "lambdified_expr"
   ]
  },
  {
   "cell_type": "code",
   "execution_count": 172,
   "id": "82408439-328c-4e00-a0fe-bfe894e1dcaf",
   "metadata": {},
   "outputs": [
    {
     "data": {
      "text/plain": [
       "45.99261571076719"
      ]
     },
     "execution_count": 172,
     "metadata": {},
     "output_type": "execute_result"
    }
   ],
   "source": [
    "lambdified_expr(3)"
   ]
  },
  {
   "cell_type": "code",
   "execution_count": 175,
   "id": "5ed0e89e-6f89-4660-894d-a24794037ecf",
   "metadata": {},
   "outputs": [],
   "source": [
    "import numpy as np\n",
    "p = np.linspace(-20,20,1000)"
   ]
  },
  {
   "cell_type": "code",
   "execution_count": 177,
   "id": "7dd09700-dee8-4ddf-896b-cc739e3ca721",
   "metadata": {},
   "outputs": [
    {
     "data": {
      "text/plain": [
       "array([1.15935534e+03, 1.15452900e+03, 1.14971273e+03, 1.14490653e+03,\n",
       "       1.14011041e+03, 1.13532436e+03, 1.13054838e+03, 1.12578248e+03,\n",
       "       1.12102665e+03, 1.11628089e+03, 1.11154521e+03, 1.10681960e+03,\n",
       "       1.10210406e+03, 1.09739860e+03, 1.09270321e+03, 1.08801789e+03,\n",
       "       1.08334264e+03, 1.07867747e+03, 1.07402237e+03, 1.06937735e+03,\n",
       "       1.06474240e+03, 1.06011752e+03, 1.05550271e+03, 1.05089798e+03,\n",
       "       1.04630332e+03, 1.04171874e+03, 1.03714423e+03, 1.03257979e+03,\n",
       "       1.02802542e+03, 1.02348113e+03, 1.01894691e+03, 1.01442276e+03,\n",
       "       1.00990869e+03, 1.00540469e+03, 1.00091076e+03, 9.96426912e+02,\n",
       "       9.91953132e+02, 9.87489425e+02, 9.83035792e+02, 9.78592231e+02,\n",
       "       9.74158745e+02, 9.69735331e+02, 9.65321990e+02, 9.60918723e+02,\n",
       "       9.56525529e+02, 9.52142408e+02, 9.47769361e+02, 9.43406387e+02,\n",
       "       9.39053486e+02, 9.34710658e+02, 9.30377903e+02, 9.26055222e+02,\n",
       "       9.21742614e+02, 9.17440079e+02, 9.13147617e+02, 9.08865229e+02,\n",
       "       9.04592913e+02, 9.00330671e+02, 8.96078503e+02, 8.91836407e+02,\n",
       "       8.87604385e+02, 8.83382436e+02, 8.79170560e+02, 8.74968758e+02,\n",
       "       8.70777028e+02, 8.66595372e+02, 8.62423789e+02, 8.58262280e+02,\n",
       "       8.54110843e+02, 8.49969480e+02, 8.45838190e+02, 8.41716973e+02,\n",
       "       8.37605830e+02, 8.33504760e+02, 8.29413763e+02, 8.25332839e+02,\n",
       "       8.21261988e+02, 8.17201211e+02, 8.13150507e+02, 8.09109876e+02,\n",
       "       8.05079318e+02, 8.01058834e+02, 7.97048423e+02, 7.93048085e+02,\n",
       "       7.89057820e+02, 7.85077629e+02, 7.81107511e+02, 7.77147466e+02,\n",
       "       7.73197494e+02, 7.69257595e+02, 7.65327770e+02, 7.61408018e+02,\n",
       "       7.57498339e+02, 7.53598734e+02, 7.49709201e+02, 7.45829742e+02,\n",
       "       7.41960356e+02, 7.38101044e+02, 7.34251804e+02, 7.30412638e+02,\n",
       "       7.26583545e+02, 7.22764525e+02, 7.18955579e+02, 7.15156706e+02,\n",
       "       7.11367906e+02, 7.07589179e+02, 7.03820525e+02, 7.00061945e+02,\n",
       "       6.96313438e+02, 6.92575004e+02, 6.88846643e+02, 6.85128356e+02,\n",
       "       6.81420142e+02, 6.77722001e+02, 6.74033933e+02, 6.70355939e+02,\n",
       "       6.66688018e+02, 6.63030170e+02, 6.59382395e+02, 6.55744693e+02,\n",
       "       6.52117065e+02, 6.48499510e+02, 6.44892028e+02, 6.41294619e+02,\n",
       "       6.37707284e+02, 6.34130022e+02, 6.30562833e+02, 6.27005717e+02,\n",
       "       6.23458675e+02, 6.19921706e+02, 6.16394810e+02, 6.12877987e+02,\n",
       "       6.09371238e+02, 6.05874561e+02, 6.02387958e+02, 5.98911428e+02,\n",
       "       5.95444972e+02, 5.91988589e+02, 5.88542278e+02, 5.85106042e+02,\n",
       "       5.81679878e+02, 5.78263788e+02, 5.74857770e+02, 5.71461826e+02,\n",
       "       5.68075956e+02, 5.64700158e+02, 5.61334434e+02, 5.57978783e+02,\n",
       "       5.54633205e+02, 5.51297701e+02, 5.47972269e+02, 5.44656911e+02,\n",
       "       5.41351626e+02, 5.38056415e+02, 5.34771276e+02, 5.31496211e+02,\n",
       "       5.28231219e+02, 5.24976301e+02, 5.21731455e+02, 5.18496683e+02,\n",
       "       5.15271984e+02, 5.12057358e+02, 5.08852806e+02, 5.05658327e+02,\n",
       "       5.02473921e+02, 4.99299588e+02, 4.96135328e+02, 4.92981142e+02,\n",
       "       4.89837029e+02, 4.86702989e+02, 4.83579022e+02, 4.80465129e+02,\n",
       "       4.77361309e+02, 4.74267562e+02, 4.71183888e+02, 4.68110287e+02,\n",
       "       4.65046760e+02, 4.61993306e+02, 4.58949925e+02, 4.55916618e+02,\n",
       "       4.52893383e+02, 4.49880222e+02, 4.46877134e+02, 4.43884120e+02,\n",
       "       4.40901178e+02, 4.37928310e+02, 4.34965515e+02, 4.32012794e+02,\n",
       "       4.29070145e+02, 4.26137570e+02, 4.23215068e+02, 4.20302639e+02,\n",
       "       4.17400284e+02, 4.14508001e+02, 4.11625792e+02, 4.08753657e+02,\n",
       "       4.05891594e+02, 4.03039605e+02, 4.00197688e+02, 3.97365846e+02,\n",
       "       3.94544076e+02, 3.91732379e+02, 3.88930756e+02, 3.86139206e+02,\n",
       "       3.83357730e+02, 3.80586326e+02, 3.77824996e+02, 3.75073739e+02,\n",
       "       3.72332555e+02, 3.69601444e+02, 3.66880407e+02, 3.64169443e+02,\n",
       "       3.61468552e+02, 3.58777734e+02, 3.56096990e+02, 3.53426319e+02,\n",
       "       3.50765721e+02, 3.48115196e+02, 3.45474745e+02, 3.42844366e+02,\n",
       "       3.40224061e+02, 3.37613830e+02, 3.35013671e+02, 3.32423586e+02,\n",
       "       3.29843574e+02, 3.27273635e+02, 3.24713769e+02, 3.22163977e+02,\n",
       "       3.19624258e+02, 3.17094612e+02, 3.14575039e+02, 3.12065540e+02,\n",
       "       3.09566114e+02, 3.07076761e+02, 3.04597481e+02, 3.02128274e+02,\n",
       "       2.99669141e+02, 2.97220081e+02, 2.94781094e+02, 2.92352181e+02,\n",
       "       2.89933340e+02, 2.87524573e+02, 2.85125879e+02, 2.82737259e+02,\n",
       "       2.80358711e+02, 2.77990237e+02, 2.75631836e+02, 2.73283508e+02,\n",
       "       2.70945254e+02, 2.68617073e+02, 2.66298965e+02, 2.63990930e+02,\n",
       "       2.61692968e+02, 2.59405080e+02, 2.57127265e+02, 2.54859523e+02,\n",
       "       2.52601854e+02, 2.50354259e+02, 2.48116737e+02, 2.45889288e+02,\n",
       "       2.43671912e+02, 2.41464610e+02, 2.39267380e+02, 2.37080224e+02,\n",
       "       2.34903142e+02, 2.32736132e+02, 2.30579196e+02, 2.28432333e+02,\n",
       "       2.26295543e+02, 2.24168826e+02, 2.22052183e+02, 2.19945613e+02,\n",
       "       2.17849116e+02, 2.15762692e+02, 2.13686342e+02, 2.11620065e+02,\n",
       "       2.09563861e+02, 2.07517730e+02, 2.05481673e+02, 2.03455688e+02,\n",
       "       2.01439777e+02, 1.99433939e+02, 1.97438175e+02, 1.95452484e+02,\n",
       "       1.93476865e+02, 1.91511321e+02, 1.89555849e+02, 1.87610450e+02,\n",
       "       1.85675125e+02, 1.83749873e+02, 1.81834695e+02, 1.79929589e+02,\n",
       "       1.78034557e+02, 1.76149598e+02, 1.74274712e+02, 1.72409900e+02,\n",
       "       1.70555160e+02, 1.68710494e+02, 1.66875901e+02, 1.65051382e+02,\n",
       "       1.63236935e+02, 1.61432562e+02, 1.59638262e+02, 1.57854036e+02,\n",
       "       1.56079882e+02, 1.54315802e+02, 1.52561795e+02, 1.50817861e+02,\n",
       "       1.49084001e+02, 1.47360214e+02, 1.45646499e+02, 1.43942859e+02,\n",
       "       1.42249291e+02, 1.40565797e+02, 1.38892376e+02, 1.37229028e+02,\n",
       "       1.35575753e+02, 1.33932552e+02, 1.32299423e+02, 1.30676369e+02,\n",
       "       1.29063387e+02, 1.27460478e+02, 1.25867643e+02, 1.24284881e+02,\n",
       "       1.22712192e+02, 1.21149577e+02, 1.19597034e+02, 1.18054565e+02,\n",
       "       1.16522169e+02, 1.14999847e+02, 1.13487597e+02, 1.11985421e+02,\n",
       "       1.10493318e+02, 1.09011289e+02, 1.07539332e+02, 1.06077449e+02,\n",
       "       1.04625639e+02, 1.03183902e+02, 1.01752239e+02, 1.00330648e+02,\n",
       "       9.89191313e+01, 9.75176875e+01, 9.61263169e+01, 9.47450195e+01,\n",
       "       9.33737954e+01, 9.20126445e+01, 9.06615669e+01, 8.93205624e+01,\n",
       "       8.79896312e+01, 8.66687733e+01, 8.53579885e+01, 8.40572770e+01,\n",
       "       8.27666388e+01, 8.14860737e+01, 8.02155819e+01, 7.89551634e+01,\n",
       "       7.77048180e+01, 7.64645459e+01, 7.52343471e+01, 7.40142214e+01,\n",
       "       7.28041690e+01, 7.16041898e+01, 7.04142839e+01, 6.92344512e+01,\n",
       "       6.80646917e+01, 6.69050055e+01, 6.57553925e+01, 6.46158527e+01,\n",
       "       6.34863862e+01, 6.23669929e+01, 6.12576728e+01, 6.01584259e+01,\n",
       "       5.90692523e+01, 5.79901520e+01, 5.69211248e+01, 5.58621709e+01,\n",
       "       5.48132902e+01, 5.37744828e+01, 5.27457486e+01, 5.17270876e+01,\n",
       "       5.07184999e+01, 4.97199853e+01, 4.87315441e+01, 4.77531760e+01,\n",
       "       4.67848812e+01, 4.58266596e+01, 4.48785113e+01, 4.39404362e+01,\n",
       "       4.30124343e+01, 4.20945056e+01, 4.11866502e+01, 4.02888680e+01,\n",
       "       3.94011591e+01, 3.85235233e+01, 3.76559609e+01, 3.67984716e+01,\n",
       "       3.59510556e+01, 3.51137128e+01, 3.42864432e+01, 3.34692469e+01,\n",
       "       3.26621238e+01, 3.18650740e+01, 3.10780974e+01, 3.03011940e+01,\n",
       "       2.95343638e+01, 2.87776069e+01, 2.80309232e+01, 2.72943127e+01,\n",
       "       2.65677755e+01, 2.58513115e+01, 2.51449208e+01, 2.44486032e+01,\n",
       "       2.37623589e+01, 2.30861879e+01, 2.24200901e+01, 2.17640655e+01,\n",
       "       2.11181141e+01, 2.04822360e+01, 1.98564311e+01, 1.92406994e+01,\n",
       "       1.86350410e+01, 1.80394558e+01, 1.74539438e+01, 1.68785051e+01,\n",
       "       1.63131396e+01, 1.57578473e+01, 1.52126283e+01, 1.46774825e+01,\n",
       "       1.41524099e+01, 1.36374106e+01, 1.31324845e+01, 1.26376316e+01,\n",
       "       1.21528520e+01, 1.16781456e+01, 1.12135124e+01, 1.07589525e+01,\n",
       "       1.03144658e+01, 9.88005229e+00, 9.45571205e+00, 9.04144505e+00,\n",
       "       8.63725128e+00, 8.24313074e+00, 7.85908343e+00, 7.48510935e+00,\n",
       "       7.12120851e+00, 6.76738090e+00, 6.42362653e+00, 6.08994539e+00,\n",
       "       5.76633748e+00, 5.45280280e+00, 5.14934136e+00, 4.85595314e+00,\n",
       "       4.57263817e+00, 4.29939642e+00, 4.03622791e+00, 3.78313263e+00,\n",
       "       3.54011058e+00, 3.30716177e+00, 3.08428619e+00, 2.87148384e+00,\n",
       "       2.66875472e+00, 2.47609884e+00, 2.29351619e+00, 2.12100678e+00,\n",
       "       1.95857059e+00, 1.80620764e+00, 1.66391792e+00, 1.53170144e+00,\n",
       "       1.40955819e+00, 1.29748817e+00, 1.19549138e+00, 1.10356783e+00,\n",
       "       1.02171751e+00, 9.49940420e-01, 8.88236565e-01, 8.36605943e-01,\n",
       "       7.95048554e-01, 7.63564398e-01, 7.42153474e-01, 7.30815784e-01,\n",
       "       7.29551327e-01, 7.38360102e-01, 7.57242110e-01, 7.86197351e-01,\n",
       "       8.25225826e-01, 8.74327532e-01, 9.33502472e-01, 1.00275065e+00,\n",
       "       1.08207205e+00, 1.17146669e+00, 1.27093456e+00, 1.38047566e+00,\n",
       "       1.50009000e+00, 1.62977757e+00, 1.76953837e+00, 1.91937241e+00,\n",
       "       2.07927968e+00, 2.24926018e+00, 2.42931392e+00, 2.61944088e+00,\n",
       "       2.81964108e+00, 3.02991452e+00, 3.25026118e+00, 3.48068108e+00,\n",
       "       3.72117421e+00, 3.97174058e+00, 4.23238017e+00, 4.50309300e+00,\n",
       "       4.78387907e+00, 5.07473836e+00, 5.37567089e+00, 5.68667666e+00,\n",
       "       6.00775565e+00, 6.33890788e+00, 6.68013334e+00, 7.03143203e+00,\n",
       "       7.39280396e+00, 7.76424912e+00, 8.14576751e+00, 8.53735913e+00,\n",
       "       8.93902399e+00, 9.35076208e+00, 9.77257341e+00, 1.02044580e+01,\n",
       "       1.06464158e+01, 1.10984468e+01, 1.15605510e+01, 1.20327285e+01,\n",
       "       1.25149792e+01, 1.30073032e+01, 1.35097004e+01, 1.40221708e+01,\n",
       "       1.45447145e+01, 1.50773313e+01, 1.56200215e+01, 1.61727848e+01,\n",
       "       1.67356214e+01, 1.73085312e+01, 1.78915143e+01, 1.84845705e+01,\n",
       "       1.90877001e+01, 1.97009028e+01, 2.03241788e+01, 2.09575280e+01,\n",
       "       2.16009504e+01, 2.22544461e+01, 2.29180150e+01, 2.35916572e+01,\n",
       "       2.42753726e+01, 2.49691612e+01, 2.56730230e+01, 2.63869581e+01,\n",
       "       2.71109664e+01, 2.78450480e+01, 2.85892027e+01, 2.93434307e+01,\n",
       "       3.01077320e+01, 3.08821065e+01, 3.16665542e+01, 3.24610751e+01,\n",
       "       3.32656693e+01, 3.40803367e+01, 3.49050773e+01, 3.57398912e+01,\n",
       "       3.65847783e+01, 3.74397386e+01, 3.83047722e+01, 3.91798790e+01,\n",
       "       4.00650590e+01, 4.09603123e+01, 4.18656388e+01, 4.27810385e+01,\n",
       "       4.37065115e+01, 4.46420577e+01, 4.55876772e+01, 4.65433698e+01,\n",
       "       4.75091357e+01, 4.84849748e+01, 4.94708872e+01, 5.04668728e+01,\n",
       "       5.14729316e+01, 5.24890637e+01, 5.35152690e+01, 5.45515475e+01,\n",
       "       5.55978993e+01, 5.66543243e+01, 5.77208225e+01, 5.87973940e+01,\n",
       "       5.98840387e+01, 6.09807566e+01, 6.20875478e+01, 6.32044122e+01,\n",
       "       6.43313498e+01, 6.54683606e+01, 6.66154447e+01, 6.77726021e+01,\n",
       "       6.89398326e+01, 7.01171364e+01, 7.13045134e+01, 7.25019637e+01,\n",
       "       7.37094872e+01, 7.49270839e+01, 7.61547538e+01, 7.73924970e+01,\n",
       "       7.86403135e+01, 7.98982031e+01, 8.11661660e+01, 8.24442021e+01,\n",
       "       8.37323115e+01, 8.50304940e+01, 8.63387499e+01, 8.76570789e+01,\n",
       "       8.89854812e+01, 9.03239567e+01, 9.16725055e+01, 9.30311274e+01,\n",
       "       9.43998227e+01, 9.57785911e+01, 9.71674328e+01, 9.85663477e+01,\n",
       "       9.99753358e+01, 1.01394397e+02, 1.02823532e+02, 1.04262740e+02,\n",
       "       1.05712021e+02, 1.07171375e+02, 1.08640803e+02, 1.10120303e+02,\n",
       "       1.11609877e+02, 1.13109525e+02, 1.14619245e+02, 1.16139039e+02,\n",
       "       1.17668906e+02, 1.19208846e+02, 1.20758859e+02, 1.22318946e+02,\n",
       "       1.23889106e+02, 1.25469339e+02, 1.27059645e+02, 1.28660025e+02,\n",
       "       1.30270478e+02, 1.31891004e+02, 1.33521603e+02, 1.35162275e+02,\n",
       "       1.36813021e+02, 1.38473840e+02, 1.40144732e+02, 1.41825698e+02,\n",
       "       1.43516736e+02, 1.45217848e+02, 1.46929034e+02, 1.48650292e+02,\n",
       "       1.50381623e+02, 1.52123028e+02, 1.53874506e+02, 1.55636058e+02,\n",
       "       1.57407682e+02, 1.59189380e+02, 1.60981151e+02, 1.62782995e+02,\n",
       "       1.64594913e+02, 1.66416903e+02, 1.68248967e+02, 1.70091104e+02,\n",
       "       1.71943315e+02, 1.73805598e+02, 1.75677955e+02, 1.77560385e+02,\n",
       "       1.79452889e+02, 1.81355465e+02, 1.83268115e+02, 1.85190838e+02,\n",
       "       1.87123634e+02, 1.89066504e+02, 1.91019447e+02, 1.92982463e+02,\n",
       "       1.94955552e+02, 1.96938714e+02, 1.98931950e+02, 2.00935259e+02,\n",
       "       2.02948641e+02, 2.04972096e+02, 2.07005625e+02, 2.09049227e+02,\n",
       "       2.11102902e+02, 2.13166650e+02, 2.15240471e+02, 2.17324366e+02,\n",
       "       2.19418334e+02, 2.21522375e+02, 2.23636490e+02, 2.25760677e+02,\n",
       "       2.27894938e+02, 2.30039273e+02, 2.32193680e+02, 2.34358161e+02,\n",
       "       2.36532714e+02, 2.38717341e+02, 2.40912042e+02, 2.43116815e+02,\n",
       "       2.45331662e+02, 2.47556582e+02, 2.49791575e+02, 2.52036642e+02,\n",
       "       2.54291782e+02, 2.56556994e+02, 2.58832281e+02, 2.61117640e+02,\n",
       "       2.63413073e+02, 2.65718579e+02, 2.68034158e+02, 2.70359810e+02,\n",
       "       2.72695536e+02, 2.75041334e+02, 2.77397206e+02, 2.79763152e+02,\n",
       "       2.82139170e+02, 2.84525262e+02, 2.86921427e+02, 2.89327665e+02,\n",
       "       2.91743977e+02, 2.94170361e+02, 2.96606819e+02, 2.99053350e+02,\n",
       "       3.01509955e+02, 3.03976632e+02, 3.06453383e+02, 3.08940207e+02,\n",
       "       3.11437104e+02, 3.13944075e+02, 3.16461119e+02, 3.18988236e+02,\n",
       "       3.21525426e+02, 3.24072689e+02, 3.26630026e+02, 3.29197436e+02,\n",
       "       3.31774919e+02, 3.34362476e+02, 3.36960105e+02, 3.39567808e+02,\n",
       "       3.42185584e+02, 3.44813433e+02, 3.47451356e+02, 3.50099352e+02,\n",
       "       3.52757421e+02, 3.55425563e+02, 3.58103779e+02, 3.60792067e+02,\n",
       "       3.63490429e+02, 3.66198864e+02, 3.68917373e+02, 3.71645955e+02,\n",
       "       3.74384609e+02, 3.77133338e+02, 3.79892139e+02, 3.82661013e+02,\n",
       "       3.85439961e+02, 3.88228982e+02, 3.91028077e+02, 3.93837244e+02,\n",
       "       3.96656485e+02, 3.99485799e+02, 4.02325186e+02, 4.05174647e+02,\n",
       "       4.08034180e+02, 4.10903787e+02, 4.13783467e+02, 4.16673221e+02,\n",
       "       4.19573047e+02, 4.22482947e+02, 4.25402920e+02, 4.28332967e+02,\n",
       "       4.31273086e+02, 4.34223279e+02, 4.37183545e+02, 4.40153884e+02,\n",
       "       4.43134297e+02, 4.46124782e+02, 4.49125341e+02, 4.52135973e+02,\n",
       "       4.55156679e+02, 4.58187457e+02, 4.61228309e+02, 4.64279234e+02,\n",
       "       4.67340233e+02, 4.70411304e+02, 4.73492449e+02, 4.76583667e+02,\n",
       "       4.79684958e+02, 4.82796323e+02, 4.85917761e+02, 4.89049272e+02,\n",
       "       4.92190856e+02, 4.95342513e+02, 4.98504244e+02, 5.01676048e+02,\n",
       "       5.04857925e+02, 5.08049875e+02, 5.11251899e+02, 5.14463996e+02,\n",
       "       5.17686166e+02, 5.20918409e+02, 5.24160726e+02, 5.27413115e+02,\n",
       "       5.30675578e+02, 5.33948115e+02, 5.37230724e+02, 5.40523407e+02,\n",
       "       5.43826163e+02, 5.47138992e+02, 5.50461894e+02, 5.53794870e+02,\n",
       "       5.57137919e+02, 5.60491041e+02, 5.63854236e+02, 5.67227505e+02,\n",
       "       5.70610847e+02, 5.74004262e+02, 5.77407750e+02, 5.80821311e+02,\n",
       "       5.84244946e+02, 5.87678654e+02, 5.91122435e+02, 5.94576290e+02,\n",
       "       5.98040217e+02, 6.01514218e+02, 6.04998292e+02, 6.08492440e+02,\n",
       "       6.11996660e+02, 6.15510954e+02, 6.19035321e+02, 6.22569761e+02,\n",
       "       6.26114275e+02, 6.29668862e+02, 6.33233522e+02, 6.36808255e+02,\n",
       "       6.40393061e+02, 6.43987941e+02, 6.47592894e+02, 6.51207920e+02,\n",
       "       6.54833019e+02, 6.58468192e+02, 6.62113438e+02, 6.65768757e+02,\n",
       "       6.69434149e+02, 6.73109615e+02, 6.76795154e+02, 6.80490766e+02,\n",
       "       6.84196451e+02, 6.87912209e+02, 6.91638041e+02, 6.95373946e+02,\n",
       "       6.99119924e+02, 7.02875976e+02, 7.06642100e+02, 7.10418298e+02,\n",
       "       7.14204569e+02, 7.18000914e+02, 7.21807331e+02, 7.25623822e+02,\n",
       "       7.29450386e+02, 7.33287023e+02, 7.37133734e+02, 7.40990517e+02,\n",
       "       7.44857374e+02, 7.48734305e+02, 7.52621308e+02, 7.56518385e+02,\n",
       "       7.60425535e+02, 7.64342758e+02, 7.68270054e+02, 7.72207424e+02,\n",
       "       7.76154867e+02, 7.80112383e+02, 7.84079972e+02, 7.88057634e+02,\n",
       "       7.92045370e+02, 7.96043179e+02, 8.00051061e+02, 8.04069017e+02,\n",
       "       8.08097046e+02, 8.12135148e+02, 8.16183323e+02, 8.20241571e+02,\n",
       "       8.24309893e+02, 8.28388288e+02, 8.32476756e+02, 8.36575297e+02,\n",
       "       8.40683912e+02, 8.44802599e+02, 8.48931360e+02, 8.53070195e+02,\n",
       "       8.57219102e+02, 8.61378083e+02, 8.65547137e+02, 8.69726264e+02,\n",
       "       8.73915464e+02, 8.78114738e+02, 8.82324085e+02, 8.86543505e+02,\n",
       "       8.90772998e+02, 8.95012565e+02, 8.99262205e+02, 9.03521918e+02,\n",
       "       9.07791704e+02, 9.12071564e+02, 9.16361496e+02, 9.20661502e+02,\n",
       "       9.24971582e+02, 9.29291734e+02, 9.33621960e+02, 9.37962259e+02,\n",
       "       9.42312631e+02, 9.46673076e+02, 9.51043595e+02, 9.55424187e+02,\n",
       "       9.59814852e+02, 9.64215590e+02, 9.68626402e+02, 9.73047286e+02,\n",
       "       9.77478244e+02, 9.81919276e+02, 9.86370380e+02, 9.90831558e+02,\n",
       "       9.95302809e+02, 9.99784133e+02, 1.00427553e+03, 1.00877700e+03,\n",
       "       1.01328854e+03, 1.01781016e+03, 1.02234185e+03, 1.02688362e+03,\n",
       "       1.03143545e+03, 1.03599736e+03, 1.04056935e+03, 1.04515140e+03,\n",
       "       1.04974353e+03, 1.05434574e+03, 1.05895801e+03, 1.06358036e+03,\n",
       "       1.06821278e+03, 1.07285528e+03, 1.07750785e+03, 1.08217049e+03,\n",
       "       1.08684321e+03, 1.09152600e+03, 1.09621886e+03, 1.10092179e+03,\n",
       "       1.10563480e+03, 1.11035788e+03, 1.11509104e+03, 1.11983427e+03,\n",
       "       1.12458757e+03, 1.12935094e+03, 1.13412439e+03, 1.13890791e+03,\n",
       "       1.14370151e+03, 1.14850517e+03, 1.15331891e+03, 1.15814273e+03,\n",
       "       1.16297662e+03, 1.16782058e+03, 1.17267461e+03, 1.17753872e+03,\n",
       "       1.18241290e+03, 1.18729715e+03, 1.19219148e+03, 1.19709588e+03,\n",
       "       1.20201035e+03, 1.20693490e+03, 1.21186952e+03, 1.21681421e+03,\n",
       "       1.22176898e+03, 1.22673382e+03, 1.23170873e+03, 1.23669371e+03,\n",
       "       1.24168877e+03, 1.24669391e+03, 1.25170911e+03, 1.25673439e+03,\n",
       "       1.26176974e+03, 1.26681517e+03, 1.27187066e+03, 1.27693624e+03,\n",
       "       1.28201188e+03, 1.28709760e+03, 1.29219339e+03, 1.29729926e+03,\n",
       "       1.30241519e+03, 1.30754120e+03, 1.31267729e+03, 1.31782345e+03,\n",
       "       1.32297968e+03, 1.32814598e+03, 1.33332236e+03, 1.33850881e+03,\n",
       "       1.34370533e+03, 1.34891193e+03, 1.35412860e+03, 1.35935534e+03])"
      ]
     },
     "execution_count": 177,
     "metadata": {},
     "output_type": "execute_result"
    }
   ],
   "source": [
    "lambdified_expr(p)"
   ]
  },
  {
   "cell_type": "code",
   "execution_count": 180,
   "id": "b017a0c6-8ea4-4ee9-ab4f-e035abd461cc",
   "metadata": {},
   "outputs": [
    {
     "data": {
      "image/png": "[encoded data removed]",
      "text/plain": [
       "<Figure size 432x288 with 1 Axes>"
      ]
     },
     "metadata": {
      "needs_background": "light"
     },
     "output_type": "display_data"
    }
   ],
   "source": [
    "import matplotlib.pyplot as plt\n",
    "plt.plot(p,lambdified_expr(p))\n",
    "\n",
    "plt.title(\"parabola\")\n",
    "plt.show()"
   ]
  },
  {
   "cell_type": "code",
   "execution_count": null,
   "id": "7f1efbd1-0dd6-40b6-ad5b-fa95d929f13b",
   "metadata": {},
   "outputs": [],
   "source": []
  }
 ],
 "metadata": {
  "kernelspec": {
   "display_name": "Python 3 (ipykernel)",
   "language": "python",
   "name": "python3"
  },
  "language_info": {
   "codemirror_mode": {
    "name": "ipython",
    "version": 3
   },
   "file_extension": ".py",
   "mimetype": "text/x-python",
   "name": "python",
   "nbconvert_exporter": "python",
   "pygments_lexer": "ipython3",
   "version": "3.9.7"
  }
 },
 "nbformat": 4,
 "nbformat_minor": 5
}
