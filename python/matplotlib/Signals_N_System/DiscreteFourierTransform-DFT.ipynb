{
 "cells": [
  {
   "cell_type": "code",
   "execution_count": 46,
   "id": "9520d6aa-400d-4e84-99e6-6873cace952b",
   "metadata": {},
   "outputs": [
    {
     "data": {
      "text/plain": [
       "<matplotlib.legend.Legend at 0x7f8cae7ba760>"
      ]
     },
     "execution_count": 46,
     "metadata": {},
     "output_type": "execute_result"
    },
    {
     "data": {
      "application/vnd.jupyter.widget-view+json": {
       "model_id": "f3de77415b0144029af1bd43feff8020",
       "version_major": 2,
       "version_minor": 0
      },
      "text/html": [
       "\n",
       "            <div style=\"display: inline-block;\">\n",
       "                <div class=\"jupyter-widgets widget-label\" style=\"text-align: center;\">\n",
       "                    Figure\n",
       "                </div>\n",
       "                <img src='data:image/png;base64,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' width=640.0/>\n",
       "            </div>\n",
       "        "
      ],
      "text/plain": [
       "Canvas(toolbar=Toolbar(toolitems=[('Home', 'Reset original view', 'home', 'home'), ('Back', 'Back to previous …"
      ]
     },
     "metadata": {},
     "output_type": "display_data"
    }
   ],
   "source": [
    "# Stem Plot\n",
    "import numpy as np\n",
    "import matplotlib.pyplot as plt\n",
    "%matplotlib widget\n",
    "def unit(x):\n",
    "    res = np.zeros_like(x) \n",
    "    for i, d in enumerate(x):\n",
    "        if d > 0:\n",
    "            res[i] = 1\n",
    "        else:\n",
    "            res[i] = 0\n",
    "    return res\n",
    "\n",
    "x = np.linspace(-5,5,11)\n",
    "\n",
    "fig = plt.figure()\n",
    "ax1 = fig.add_subplot(211)\n",
    "ax1.set_xlim(xmin=-5, xmax=5)\n",
    "ax1.set_ylim(ymin=-2, ymax=2)\n",
    "\n",
    "ax1.stem(x,list(map(lambda x: 1 if x==0 else 0, x)),label='delta')\n",
    "ax1.legend()\n",
    "\n",
    "ax = fig.add_subplot(212,sharex=ax1, sharey=ax1)\n",
    "ax.stem(x,unit(x),label='unit')\n",
    "ax.legend()"
   ]
  },
  {
   "cell_type": "code",
   "execution_count": null,
   "id": "4228d8a7-f997-4f3e-9641-cf6edf0ba0d2",
   "metadata": {},
   "outputs": [],
   "source": []
  },
  {
   "cell_type": "code",
   "execution_count": null,
   "id": "3f8ecfd8-e33e-4c8f-96d7-ce430ad3c415",
   "metadata": {},
   "outputs": [],
   "source": []
  },
  {
   "cell_type": "markdown",
   "id": "c22d1ab3-013b-4a9b-817d-2461fca5d8c6",
   "metadata": {},
   "source": [
    "# [Discrete Fourier Transform (DFT)](https://pythonnumericalmethods.berkeley.edu/notebooks/chapter24.02-Discrete-Fourier-Transform.html)\n",
    ">  Characteristics of a wave\n",
    ">> $\\text{Frequency} = \\frac{1}{\\text{Period}} \\\\\n",
    "\\text{Period} = \\frac{1}{\\text{Frequency}}$ \n",
    "\n",
    ">> $ \\text{Wave Length}(\\lambda) = \\frac{f}{T}$\n",
    ">> $ f = \\frac{\\lambda}{T}$\n",
    "\n",
    "> wave number($\\omega$)\n",
    ">> $\\quad \\text{where}, \\begin{cases} \\text{in sinoidal} \\\\ \\text{wave length}(\\lambda) = 2\\pi \\end{cases}$\n",
    ">>\n",
    ">> $\\omega = k 2\\pi f_0$ \n",
    ">>> $ where, \\quad k = \\text{scaling number}$\n",
    ">>> $ \\quad \\quad f_0 = \\text{basis frequency}$\n",
    "\n",
    ">> $ \\omega = k 2\\pi \\frac{1}{T_0}$ \n",
    ">>> $ where, \\quad T_0 = \\text{basis peroid}$\n",
    "\n",
    ">> $ \\omega = k \\lambda \\frac{1}{T_0}$ \n",
    ">>> $ where, \\quad T_0 = \\text{basis peroid}$\n",
    "\n"
   ]
  },
  {
   "cell_type": "markdown",
   "id": "92ce2f2c-5910-470f-9469-83f0930eabc4",
   "metadata": {},
   "source": []
  },
  {
   "cell_type": "code",
   "execution_count": null,
   "id": "7ebbb45f-cd2b-4677-945e-3600f302f190",
   "metadata": {},
   "outputs": [],
   "source": []
  }
 ],
 "metadata": {
  "kernelspec": {
   "display_name": "Python 3 (ipykernel)",
   "language": "python",
   "name": "python3"
  },
  "language_info": {
   "codemirror_mode": {
    "name": "ipython",
    "version": 3
   },
   "file_extension": ".py",
   "mimetype": "text/x-python",
   "name": "python",
   "nbconvert_exporter": "python",
   "pygments_lexer": "ipython3",
   "version": "3.9.7"
  }
 },
 "nbformat": 4,
 "nbformat_minor": 5
}
