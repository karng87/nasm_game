{
 "cells": [
  {
   "cell_type": "markdown",
   "id": "8961b861-e546-403d-b85e-79248f3762b2",
   "metadata": {},
   "source": [
    "# wave equation\n",
    "> https://www.youtube.com/watch?v=vFWlFAlpJqk&t=35s\n",
    "\n",
    "> \n"
   ]
  }
 ],
 "metadata": {
  "kernelspec": {
   "display_name": "Python 3 (ipykernel)",
   "language": "python",
   "name": "python3"
  },
  "language_info": {
   "codemirror_mode": {
    "name": "ipython",
    "version": 3
   },
   "file_extension": ".py",
   "mimetype": "text/x-python",
   "name": "python",
   "nbconvert_exporter": "python",
   "pygments_lexer": "ipython3",
   "version": "3.9.7"
  }
 },
 "nbformat": 4,
 "nbformat_minor": 5
}
