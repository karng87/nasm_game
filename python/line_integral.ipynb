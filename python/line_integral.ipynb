{
 "cells": [
  {
   "cell_type": "code",
   "execution_count": 85,
   "id": "b52699af-411c-4d52-b88e-454bb9e3e594",
   "metadata": {},
   "outputs": [
    {
     "data": {
      "text/latex": [
       "$\\displaystyle (\\int \\left(\\sin^{2}{\\left(a \\right)} + \\cos^{2}{\\left(a \\right)}\\right)\\, da)\\mathbf{\\hat{i}_{}} + (\\int \\left(2 \\cos{\\left(b \\right)} - 1\\right)\\, da)\\mathbf{\\hat{j}_{}} + (\\int 2 c\\, da)\\mathbf{\\hat{k}_{}}$"
      ],
      "text/plain": [
       "(Integral(sin(a)**2 + cos(a)**2, a))*.i + (Integral(2*cos(b) - 1, a))*.j + (Integral(2*c, a))*.k"
      ]
     },
     "execution_count": 85,
     "metadata": {},
     "output_type": "execute_result"
    }
   ],
   "source": [
    "import numpy as np\n",
    "import sympy as sm\n",
    "import sympy.vector\n",
    "\n",
    "a,b,c = sm.symbols('a b c')\n",
    "C = sm.vector.CoordSys3D('')\n",
    "C.i.dot(C.j)\n",
    "C.i.cross(C.j)\n",
    "\n",
    "v = a*C.j + b*C.k + 3*a*C.i\n",
    "w = (sm.sin(a)**2 + sm.cos(a)**2)*C.i + (2*sm.cos(b) - 1)*C.j + 2*c*C.k\n",
    "w.factor()\n",
    "w.simplify()\n",
    "w.dot(v)\n",
    "w.cross(w).simplify()\n",
    "w.diff(b,1)\n",
    "\n",
    "sm.Derivative(w,a)\n",
    "sm.Derivative(w,c).doit()\n",
    "sm.Integral(w,a).doit()\n",
    "sm.Integral(w,a)"
   ]
  },
  {
   "cell_type": "code",
   "execution_count": 130,
   "id": "fc33e9dd-da4c-48d4-823a-0f7bc421e6d6",
   "metadata": {},
   "outputs": [
    {
     "data": {
      "text/plain": [
       "sympy.vector.vector.VectorAdd"
      ]
     },
     "execution_count": 130,
     "metadata": {},
     "output_type": "execute_result"
    }
   ],
   "source": [
    "# O = C.origin\n",
    "P = O.locate_new('P', C.i + C.j + C.k)\n",
    "P = C.origin.locate_new('P', C.i + C.j + C.k)\n",
    "Q = P.locate_new('Q', 3*C.i + -3*C.j)\n",
    "R = P.position_wrt(Q)\n",
    "#Q.express_coordinates(C)\n",
    "type(R)"
   ]
  },
  {
   "cell_type": "code",
   "execution_count": null,
   "id": "0e5b8afb-7bed-4b03-8571-7d98830acd52",
   "metadata": {},
   "outputs": [],
   "source": []
  }
 ],
 "metadata": {
  "kernelspec": {
   "display_name": "Python 3 (ipykernel)",
   "language": "python",
   "name": "python3"
  },
  "language_info": {
   "codemirror_mode": {
    "name": "ipython",
    "version": 3
   },
   "file_extension": ".py",
   "mimetype": "text/x-python",
   "name": "python",
   "nbconvert_exporter": "python",
   "pygments_lexer": "ipython3",
   "version": "3.9.7"
  }
 },
 "nbformat": 4,
 "nbformat_minor": 5
}
