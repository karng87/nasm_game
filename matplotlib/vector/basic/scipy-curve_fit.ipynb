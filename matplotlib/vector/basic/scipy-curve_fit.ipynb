{
 "cells": [
  {
   "cell_type": "code",
   "execution_count": 71,
   "id": "000a25c3-e0d9-4ecc-8b28-c86edfc2260c",
   "metadata": {},
   "outputs": [],
   "source": [
    "import numpy as np\n",
    "import scipy as sp\n",
    "import matplotlib.pyplot as plt\n",
    "%matplotlib widget"
   ]
  },
  {
   "cell_type": "markdown",
   "id": "fbf36d3b-b1db-4645-afe9-1a433759588c",
   "metadata": {},
   "source": [
    "# curve_fit\n",
    "    sp.optimize.curve_fit\n",
    "        - contravariant\n",
    "            basis(meter -> centimeter) scale down -> vetors : scale up (고유길이 보존) \n",
    "        - covariant(공변)\n",
    "            gradient vector\n",
    "    \n",
    "    데이터와 유사한 함수 찾아주기\n",
    "    \n",
    "https://turtle-dennis.tistory.com/17\n",
    "\n",
    "https://www.youtube.com/watch?v=jmX4FOUEfgU&t=1029s"
   ]
  },
  {
   "cell_type": "code",
   "execution_count": 72,
   "id": "cfe31695-99e5-4039-bedd-718997f9c99a",
   "metadata": {},
   "outputs": [],
   "source": [
    "t_data = np.array([ 0.   ,  0.34482759,  0.68965517,  1.03448276,  1.37931034,\n",
    "        1.72413793,  2.06896552,  2.4137931 ,  2.75862069,  3.10344828,\n",
    "        3.44827586,  3.79310345,  4.13793103,  4.48275862,  4.82758621,\n",
    "        5.17241379,  5.51724138,  5.86206897,  6.20689655,  6.55172414,\n",
    "        6.89655172,  7.24137931,  7.5862069 ,  7.93103448,  8.27586207,\n",
    "        8.62068966,  8.96551724,  9.31034483,  9.65517241, 10.        ])\n",
    "y_data = np.array([ 4.3303953 ,  1.61137995, -2.15418696, -3.90137249, -1.67259042,\n",
    "        2.16884383,  3.86635998,  1.85194506, -1.8489224 , -3.96560495,\n",
    "       -2.13385255,  1.59425817,  4.06145238,  1.89300594, -1.76870297,\n",
    "       -4.26791226, -2.46874133,  1.37019912,  4.24945607,  2.27038039,\n",
    "       -1.50299303, -3.46774049, -2.50845488,  1.20022052,  3.81633703,\n",
    "        2.91511556, -1.24569189, -3.72716214, -2.54549857,  0.87262548])"
   ]
  },
  {
   "cell_type": "code",
   "execution_count": 85,
   "id": "0b0540bb-dec2-4f09-a760-6aefe5b3130a",
   "metadata": {},
   "outputs": [
    {
     "data": {
      "text/plain": [
       "<matplotlib.collections.PathCollection at 0x7f4124af6e20>"
      ]
     },
     "execution_count": 85,
     "metadata": {},
     "output_type": "execute_result"
    }
   ],
   "source": [
    "#plt.plot(t_data,y_data,'ro')\n",
    "plt.scatter(t_data,y_data)\n",
    "# A = 4, w = 3 k = 1.7 b=0"
   ]
  },
  {
   "cell_type": "markdown",
   "id": "b9b4ddd5-10c1-49af-90e7-464fcde698b9",
   "metadata": {},
   "source": [
    "# periodic function\n",
    "# $$ A\\,\\sin\\,(\\,\\omega\\,(\\,t-K\\,)) + b$$\n",
    " - A = amplitude\n",
    "    \n",
    " - $\\omega$ : angular frequency\n",
    "     - $\\omega$ = 2 이면 한프레임(1주기 화면)에 2번 그려준다\n",
    "     - $\\omega = \\frac{2\\pi}{T}$\n",
    "   \n",
    " - t = time\n",
    "\n",
    " - K = arbitrary constant representing time offset\n",
    "\n",
    " - b = arbitrary constant representing displacement offset"
   ]
  },
  {
   "cell_type": "code",
   "execution_count": 82,
   "id": "c1684c08-e3a5-4998-9f4c-a5d347963689",
   "metadata": {},
   "outputs": [
    {
     "data": {
      "text/plain": [
       "array([ 3.9485112 ,  2.99890367, -1.67540183,  0.00570479])"
      ]
     },
     "execution_count": 82,
     "metadata": {},
     "output_type": "execute_result"
    }
   ],
   "source": [
    "from scipy.optimize import curve_fit\n",
    "def psi(x,A,w,K,b):\n",
    "    return A*np.sin(w*x-K) + b\n",
    "# popt = parse optimize, pcov = parse convarient\n",
    "# p0 = Initial guess for the parameters\n",
    "\n",
    "popt, pcov = curve_fit(psi,t_data,y_data,p0=(4,3,0,0))\n",
    "popt"
   ]
  },
  {
   "cell_type": "code",
   "execution_count": 83,
   "id": "7252fb28-c44b-4c38-a551-1972b3ab817b",
   "metadata": {},
   "outputs": [],
   "source": [
    "A,w,K,b = popt"
   ]
  },
  {
   "cell_type": "code",
   "execution_count": 84,
   "id": "d58056aa-a664-4cfc-b1cb-e22aa5b25f63",
   "metadata": {},
   "outputs": [
    {
     "data": {
      "text/plain": [
       "[<matplotlib.lines.Line2D at 0x7f4124af6be0>]"
      ]
     },
     "execution_count": 84,
     "metadata": {},
     "output_type": "execute_result"
    }
   ],
   "source": [
    "x = np.linspace(0,10,100)\n",
    "y = psi(x,A,w,K,b)\n",
    "plt.plot(x,y)"
   ]
  },
  {
   "cell_type": "code",
   "execution_count": null,
   "id": "bcb4310f-4718-41c4-8295-5f98b3d2ede8",
   "metadata": {},
   "outputs": [],
   "source": []
  }
 ],
 "metadata": {
  "kernelspec": {
   "display_name": "Python 3 (ipykernel)",
   "language": "python",
   "name": "python3"
  },
  "language_info": {
   "codemirror_mode": {
    "name": "ipython",
    "version": 3
   },
   "file_extension": ".py",
   "mimetype": "text/x-python",
   "name": "python",
   "nbconvert_exporter": "python",
   "pygments_lexer": "ipython3",
   "version": "3.9.7"
  }
 },
 "nbformat": 4,
 "nbformat_minor": 5
}
