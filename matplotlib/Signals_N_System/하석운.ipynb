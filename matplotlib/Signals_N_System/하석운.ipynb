{
 "cells": [
  {
   "cell_type": "markdown",
   "id": "558c6049-b59e-46b2-9f6b-3e2c6b97882a",
   "metadata": {},
   "source": [
    "[하석운](https://www.youtube.com/channel/UCmaZAHoSpcqSnU8bSX__rhQ)\n",
    "> ## $ A \\cdot \\sin(\\omega(t - \\phi)) - j\\Big( A \\cdot \\sin(\\omega(t - \\phi))\\big) $\n",
    ">> ## $ = A \\cdot e^{j\\omega f(t - \\phi)} $\n",
    "> ## $ \\cos(\\omega t) = \\frac{e^{j\\omega t} + e^{-j\\omega t}}{2} $\n",
    "> ## $ \\sin(\\omega t) = \\frac{e^{j\\omega t} - e^{-j\\omega t}}{2j} $ \n",
    ">> ## = $ -j\\Big (\\frac{e^{j\\omega t} - e^{-j\\omega t}}{2} \\Big)$\n",
    "---"
   ]
  },
  {
   "cell_type": "markdown",
   "id": "4a238911-b745-4603-a149-fc6100e8510a",
   "metadata": {},
   "source": [
    "# Sinusoidal Signal\n",
    "> #### 정현파\n",
    "> #### $ A\\sin(\\frac{2\\pi}{T} t + \\phi)$\n",
    "> #### $ A\\sin(2\\pi f t + \\phi)$\n",
    "> #### $ A\\sin(\\omega t + \\phi)$\n",
    "> #### $ z(t) = re^{i\\theta} = re^{j(2\\pi f t + \\phi)} = re^{j\\omega t + \\phi}$\n",
    "> #### $ A\\cos(2\\pi f n  + \\phi)$ n = 1,2..\n",
    "---"
   ]
  },
  {
   "cell_type": "markdown",
   "id": "d02f7411-7850-475f-bcfe-c633caa97552",
   "metadata": {},
   "source": [
    "# Amplifer\n",
    "> ### A"
   ]
  },
  {
   "cell_type": "markdown",
   "id": "ebd10400-6ed2-4156-943c-d828594871f7",
   "metadata": {},
   "source": [
    "# Angular frequency (=RPM)\n",
    "\n",
    "> ### $\\omega = 2 \\pi f = 2 \\pi / \\lambda$\n",
    "> ### $ 2 \\pi f t = 2 \\pi T t = \\omega t $\n",
    "> ### $\\theta/sec$\n",
    "---"
   ]
  },
  {
   "cell_type": "markdown",
   "id": "1b8671b6-a562-4d20-98c6-0a72af0c8baf",
   "metadata": {},
   "source": [
    "# Frequency\n",
    "> ### 1초에 동일한 사건이 몇 번 발생하였는지, 즉 단위시간당 빈도를 부르는 말이 바로 '주파수(frequency)'입니다.\n",
    "> ### $ f = \\frac{1}{T} $\n",
    "> ### Hz\n",
    "\n",
    "> ### $1Hz = (\\omega = (2\\pi/sec))/2\\pi$ \n",
    "> ### $\\frac{1}{T}$\n",
    "---"
   ]
  },
  {
   "cell_type": "markdown",
   "id": "bce72986-d2b3-42c3-98c1-dc8cba344b46",
   "metadata": {},
   "source": [
    "# Terms\n",
    "> ### $ T = sec $\n",
    ">> ### $ T = \\frac{1}{f} = \\frac{2\\pi}{\\omega}$\n",
    "\n",
    "# Wave length\n",
    "> ### $\\lambda = 2 \\pi (\\cos \\sin)$\n",
    "---"
   ]
  },
  {
   "cell_type": "markdown",
   "id": "af666bcf-c903-4e7a-a63f-9fb3026ed01c",
   "metadata": {},
   "source": [
    "# Velocity\n",
    "> ### $ v = f\\lambda = omega$\n",
    "> ### 회전운동(tangent line velocity)\n",
    ">> ### $\\nu = \\frac{r \\theta}{sec} = r \\omega = r 2\\pi f$"
   ]
  },
  {
   "cell_type": "markdown",
   "id": "c3388892-0ca5-4b38-9e78-ee87463caa1d",
   "metadata": {},
   "source": [
    "---\n",
    "# Phase shift\n",
    "> ## $\\phi$"
   ]
  },
  {
   "cell_type": "markdown",
   "id": "04a81bbc-d006-4929-a728-08047b142223",
   "metadata": {},
   "source": [
    "---\n",
    "# frequency spectrum\n",
    "> # $$ z(t) = A\\cos(\\omega t + \\phi) = A \\Big(\\frac{e^{j(\\omega t + \\phi)} + e^{-j(\\omega t + \\phi)}}{2}\\Big)$$\n",
    ">> # $$ = A \\Big(\\frac{e^{j\\omega t} e^{j\\phi} + e^{-j\\omega t}e^{j\\phi}}{2}\\Big)$$\n",
    ">> # $$ = \\frac{A}{2}\\Big(e^{j\\omega t} e^{j\\phi} + e^{-j\\omega t} e^{-j\\phi}\\Big)$$\n",
    ">> # $$ = \\frac{A}{2}e^{j\\omega t} e^{j\\phi} + \\frac{A}{2}e^{-j\\omega t} e^{-j\\phi}$$\n",
    ">> # $$ = \\frac{A}{2}e^{j\\phi} e^{j\\omega t} + \\frac{A}{2}e^{-j\\phi}e^{-j\\omega t} $$\n",
    ">> # $$ = \\frac{A}{2}e^{j\\phi} e^{j2\\pi f_0 t} + \\frac{A}{2}e^{-j\\phi}e^{-j2\\pi f_0 t} $$\n",
    "> # $$ x(f) = \\begin{cases} \n",
    "                        \\frac{A}{2}e^{j\\phi} & \\quad f = f_0 \\\\\n",
    "                        \\frac{A}{2}e^{-j\\phi} & \\quad f = -f_0 \\\\\n",
    "                        0 & \\quad otherwise\n",
    "                \\end{cases}$$"
   ]
  },
  {
   "cell_type": "code",
   "execution_count": 11,
   "id": "313b1252-2c66-4164-bf4a-1464061ea818",
   "metadata": {},
   "outputs": [
    {
     "data": {
      "text/latex": [
       "$\\displaystyle 2 n \\sin{\\left(n x \\right)} \\cos{\\left(n x \\right)}$"
      ],
      "text/plain": [
       "2*n*sin(n*x)*cos(n*x)"
      ]
     },
     "execution_count": 11,
     "metadata": {},
     "output_type": "execute_result"
    }
   ],
   "source": [
    "import sympy as sp\n",
    "x,n = sp.symbols('x n')\n",
    "sp.diff(sp.sin(n*x)**2,x)"
   ]
  },
  {
   "cell_type": "code",
   "execution_count": 12,
   "id": "3dbd2b59-07cb-4425-8a18-ecd58814f60d",
   "metadata": {},
   "outputs": [
    {
     "data": {
      "text/latex": [
       "$\\displaystyle \\begin{cases} \\frac{\\frac{n x}{2} - \\frac{\\sin{\\left(n x \\right)} \\cos{\\left(n x \\right)}}{2}}{n} & \\text{for}\\: n \\neq 0 \\\\0 & \\text{otherwise} \\end{cases}$"
      ],
      "text/plain": [
       "Piecewise(((n*x/2 - sin(n*x)*cos(n*x)/2)/n, Ne(n, 0)), (0, True))"
      ]
     },
     "execution_count": 12,
     "metadata": {},
     "output_type": "execute_result"
    }
   ],
   "source": [
    "sp.integrate(sp.sin(n*x)**2,x)"
   ]
  },
  {
   "cell_type": "code",
   "execution_count": 14,
   "id": "41ea76ee-3159-43ee-aa34-89c121f0dd53",
   "metadata": {},
   "outputs": [
    {
     "data": {
      "text/latex": [
       "$\\displaystyle \\pi$"
      ],
      "text/plain": [
       "pi"
      ]
     },
     "execution_count": 14,
     "metadata": {},
     "output_type": "execute_result"
    }
   ],
   "source": [
    "sp.integrate(sp.sin(n*x)**2,(x,-sp.pi,sp.pi)).subs(n,3)"
   ]
  },
  {
   "cell_type": "code",
   "execution_count": 27,
   "id": "b8470caa-6c24-4717-909d-98274b51816a",
   "metadata": {},
   "outputs": [
    {
     "data": {
      "text/plain": [
       "<matplotlib.legend.Legend at 0x7f0186391460>"
      ]
     },
     "execution_count": 27,
     "metadata": {},
     "output_type": "execute_result"
    },
    {
     "data": {
      "text/plain": [
       "<Figure size 504x504 with 0 Axes>"
      ]
     },
     "metadata": {},
     "output_type": "display_data"
    },
    {
     "data": {
      "image/png": "[encoded data removed]",
      "text/plain": [
       "<Figure size 432x288 with 2 Axes>"
      ]
     },
     "metadata": {
      "needs_background": "light"
     },
     "output_type": "display_data"
    }
   ],
   "source": [
    "import matplotlib.pyplot as plt\n",
    "import numpy as np\n",
    "\n",
    "hz = 100\n",
    "tm = 1/fs\n",
    "N = 300\n",
    "\n",
    "t = np.arange(0,300)/100\n",
    "\n",
    "#plt.axis('equal')\n",
    "plt.figure(figsize=(7,7))\n",
    "#plt.plot(x,np.sin(x))\n",
    "s1 = np.sin(2*np.pi*1*t)\n",
    "s2 = np.sin(2*np.pi*3*t)/3\n",
    "s3 = np.sin(2*np.pi*5*t)/5\n",
    "s4 = np.sin(2*np.pi*7*t)/7\n",
    "s = s1 + s2 + s3\n",
    "\n",
    "fx = np.arange(0,300)/3\n",
    "\n",
    "sf = np.fft.fft(s)\n",
    "fig = plt.figure()\n",
    "ax = fig.add_subplot(211)\n",
    "ax.plot(t,s)\n",
    "#plt.subplot(3,1,2);plt.plot(fx,sf.real,label='real');plt.legend()\n",
    "ax = fig.add_subplot(212)\n",
    "ax.plot(fx[0:int(151)],np.abs(sf[0:int(151)]),label='magnitude of Hzs')\n",
    "ax.set_xlabel('Hz')\n",
    "ax.set_ylabel('Spectrum')\n",
    "plt.legend()\n",
    "\n",
    "#plt.subplot(313);plt.plot(fx,sf.imag,label='imag');plt.legend()\n",
    "#plt.legend()"
   ]
  },
  {
   "cell_type": "markdown",
   "id": "3fc53ab4-88e4-4908-bb31-e028fcc2b28e",
   "metadata": {},
   "source": [
    "---\n",
    "# Trigonal Fourier Serises\n",
    "> ## $$ \\tilde x(t) = a_0 + \\sum_{k=1}^{\\infty} a_k \\, \\cos(k\\omega_0 t) + \\sum_{k=1}^{\\infty} b_k \\, \\sin(k\\omega_0 t) $$\n",
    ">> ## $$ = a_0 + \\sum_{k=1}^{\\infty} a_k \\, \\cos(2 \\pi k f t) + \\sum_{k=1}^{\\infty} b_k \\, \\sin(2 \\pi kft) $$"
   ]
  },
  {
   "cell_type": "markdown",
   "id": "7ecda23a-177a-4eac-b3b2-4353f09f54f1",
   "metadata": {},
   "source": [
    "# $$ \\because a_0 = \\frac{1}{T} \\int_{T} \\tilde x(t) dt = \\frac{1}{2L} \\int_{-L}^{L} \\tilde x(t) dt$$"
   ]
  },
  {
   "cell_type": "markdown",
   "id": "27fc3a8d-6031-43db-b22a-d689b8a50bb6",
   "metadata": {},
   "source": [
    "# $$ \\because a_n = \\frac{1}{2}\\frac{1}{T} \\int_T \\tilde{x}(t) \\, \\cos(n \\omega_0 t) dt = \\frac{1}{L} \\int_{-L}^{L} \\tilde x(t)\\, \\cos(n\\omega_0 t) dt $$ "
   ]
  },
  {
   "cell_type": "markdown",
   "id": "295faf08-b92d-4baa-a8b7-97789b817169",
   "metadata": {},
   "source": [
    "# $$ \\because b_n = \\frac{1}{2}\\frac{1}{T} \\int_T \\tilde{x}(t) \\, \\sin(n\\omega_0 t)dt = \\frac{1}{L}\\int_{-L}^{L} \\tilde{x}(t) \\, \\sin(n\\omega_0 t) dt$$"
   ]
  },
  {
   "cell_type": "markdown",
   "id": "3844430c-9af2-4596-bf6e-26186d6d3cfd",
   "metadata": {},
   "source": [
    "# basis frequency\n",
    "> ## $f_0$\n",
    "# basis signal\n",
    "> ## basis frequncy * n  , n = 1, 2, ...\n",
    "# harmonic signal"
   ]
  },
  {
   "cell_type": "code",
   "execution_count": null,
   "id": "9b34c2e4-120d-447e-951a-45b59873e0ac",
   "metadata": {},
   "outputs": [],
   "source": []
  }
 ],
 "metadata": {
  "kernelspec": {
   "display_name": "Python 3 (ipykernel)",
   "language": "python",
   "name": "python3"
  },
  "language_info": {
   "codemirror_mode": {
    "name": "ipython",
    "version": 3
   },
   "file_extension": ".py",
   "mimetype": "text/x-python",
   "name": "python",
   "nbconvert_exporter": "python",
   "pygments_lexer": "ipython3",
   "version": "3.9.7"
  }
 },
 "nbformat": 4,
 "nbformat_minor": 5
}
