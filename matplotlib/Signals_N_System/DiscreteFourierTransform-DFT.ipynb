{
 "cells": [
  {
   "cell_type": "markdown",
   "id": "c22d1ab3-013b-4a9b-817d-2461fca5d8c6",
   "metadata": {},
   "source": [
    "# [Discrete Fourier Transform (DFT)](https://pythonnumericalmethods.berkeley.edu/notebooks/chapter24.02-Discrete-Fourier-Transform.html)\n",
    ">  Characteristics of a wave\n",
    ">> $\\text{Frequency} = \\frac{1}{\\text{Period}} \\\\\n",
    "\\text{Period} = \\frac{1}{\\text{Frequency}}$ \n",
    "\n",
    ">> $ \\text{Wave Length}(\\lambda) = \\frac{f}{T}$\n",
    ">> $ f = \\frac{\\lambda}{T}$\n",
    "\n",
    "> wave number($\\omega$)\n",
    ">> $\\quad \\text{where}, \\begin{cases} \\text{in sinoidal} \\\\ \\text{wave length}(\\lambda) = 2\\pi \\end{cases}$\n",
    ">>\n",
    ">> $\\omega = k 2\\pi f_0$ \n",
    ">>> $ where, \\quad k = \\text{scaling number}$\n",
    ">>> $ \\quad \\quad f_0 = \\text{basis frequency}$\n",
    "\n",
    ">> $ \\omega = k 2\\pi \\frac{1}{T_0}$ \n",
    ">>> $ where, \\quad T_0 = \\text{basis peroid}$\n",
    "\n",
    ">> $ \\omega = k \\lambda \\frac{1}{T_0}$ \n",
    ">>> $ where, \\quad T_0 = \\text{basis peroid}$"
   ]
  },
  {
   "cell_type": "markdown",
   "id": "92ce2f2c-5910-470f-9469-83f0930eabc4",
   "metadata": {},
   "source": []
  },
  {
   "cell_type": "code",
   "execution_count": null,
   "id": "7ebbb45f-cd2b-4677-945e-3600f302f190",
   "metadata": {},
   "outputs": [],
   "source": []
  }
 ],
 "metadata": {
  "kernelspec": {
   "display_name": "Python 3 (ipykernel)",
   "language": "python",
   "name": "python3"
  },
  "language_info": {
   "codemirror_mode": {
    "name": "ipython",
    "version": 3
   },
   "file_extension": ".py",
   "mimetype": "text/x-python",
   "name": "python",
   "nbconvert_exporter": "python",
   "pygments_lexer": "ipython3",
   "version": "3.9.7"
  }
 },
 "nbformat": 4,
 "nbformat_minor": 5
}
