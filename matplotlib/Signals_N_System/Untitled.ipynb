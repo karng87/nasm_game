{
 "cells": [
  {
   "cell_type": "markdown",
   "id": "da265f73-8b33-4a45-a4bc-c8fd51593584",
   "metadata": {},
   "source": [
    "# sinusoidal signal\n",
    "> ## 정현파\n",
    "> ## $ A\\sin(\\frac{2\\pi}{T} t + \\phi)$\n",
    "> ## $ A\\sin(2\\pi f t + \\phi)$\n",
    "> ## $ A\\sin(\\omega t + \\phi)$\n",
    "> ## $ z(t) = re^{i\\theta} = re^{j(2\\pi f t + \\phi)} = re^{j\\omega t + \\phi}$\n",
    "> ## $ A\\cos(2\\pi f n  + \\phi)$ n = 1,2..\n",
    "# Amplifer\n",
    "> ## A\n",
    "\n",
    "# angular velocity\n",
    "> ## $\\omega$"
   ]
  },
  {
   "cell_type": "markdown",
   "id": "b3766007-830e-4c8d-a774-679a72ead016",
   "metadata": {},
   "source": [
    "---\n",
    "# frequency\n",
    "> ## radian frequency\n",
    ">> ## radian/sec\n",
    ">\n",
    "> ## frequency 1\n",
    ">> ## $\\omega = 2\\pi$ \\ sec"
   ]
  },
  {
   "cell_type": "code",
   "execution_count": null,
   "id": "adffc090-5b6b-4759-811f-6ec61cb8245f",
   "metadata": {},
   "outputs": [],
   "source": []
  },
  {
   "cell_type": "markdown",
   "id": "51e72a74-abcb-4606-b756-ac1b93e5e0bb",
   "metadata": {},
   "source": [
    "---\n",
    "# phase shift\n",
    "> ## $\\phi$"
   ]
  },
  {
   "cell_type": "markdown",
   "id": "04a81bbc-d006-4929-a728-08047b142223",
   "metadata": {},
   "source": [
    "# frequency spectrum\n",
    "> ## $$ A\\cos(j\\omega t + \\phi) = A\\Big(\\frac{e^{j(\\omega t + \\phi)}+e^{-j(\\omega t + \\phi)}}{2}\\Big)$$\n",
    "> ## $$ = \\frac{A}{2}\\Big(e^{j(\\omega t)} e^{j\\phi} + e^{-j(\\omega t)} e^{-j\\phi}\\Big)$$\n",
    "> ## $$ = \\frac{A}{2}e^{j(\\omega t)} e^{j\\phi} + \\frac{A}{2}e^{-j(\\omega t)} e^{-j\\phi}$$\n",
    "> ## $$ = \\frac{A}{2}e^{j\\phi} e^{j\\omega t} + \\frac{A}{2}e^{-j\\phi}e^{-j\\omega t} $$\n",
    "> ## $$ = \\frac{A}{2}e^{j\\phi} e^{j2\\pi f_0 t} + \\frac{A}{2}e^{-j\\phi}e^{-j2\\pi f_0 t} $$\n",
    "> ## $$ x(f) = \\begin{cases} \n",
    "                        \\frac{A}{2}e^{j\\phi} & \\quad f = f_0 \\\\\n",
    "                        \\frac{A}{2}e^{-j\\phi} & \\quad f = -f_0 \\\\\n",
    "                        0 & \\quad otherwise\n",
    "                \\end{cases}$$"
   ]
  },
  {
   "cell_type": "code",
   "execution_count": 11,
   "id": "313b1252-2c66-4164-bf4a-1464061ea818",
   "metadata": {},
   "outputs": [
    {
     "data": {
      "text/latex": [
       "$\\displaystyle 2 n \\sin{\\left(n x \\right)} \\cos{\\left(n x \\right)}$"
      ],
      "text/plain": [
       "2*n*sin(n*x)*cos(n*x)"
      ]
     },
     "execution_count": 11,
     "metadata": {},
     "output_type": "execute_result"
    }
   ],
   "source": [
    "import sympy as sp\n",
    "x,n = sp.symbols('x n')\n",
    "sp.diff(sp.sin(n*x)**2,x)"
   ]
  },
  {
   "cell_type": "code",
   "execution_count": 12,
   "id": "3dbd2b59-07cb-4425-8a18-ecd58814f60d",
   "metadata": {},
   "outputs": [
    {
     "data": {
      "text/latex": [
       "$\\displaystyle \\begin{cases} \\frac{\\frac{n x}{2} - \\frac{\\sin{\\left(n x \\right)} \\cos{\\left(n x \\right)}}{2}}{n} & \\text{for}\\: n \\neq 0 \\\\0 & \\text{otherwise} \\end{cases}$"
      ],
      "text/plain": [
       "Piecewise(((n*x/2 - sin(n*x)*cos(n*x)/2)/n, Ne(n, 0)), (0, True))"
      ]
     },
     "execution_count": 12,
     "metadata": {},
     "output_type": "execute_result"
    }
   ],
   "source": [
    "sp.integrate(sp.sin(n*x)**2,x)"
   ]
  },
  {
   "cell_type": "code",
   "execution_count": 14,
   "id": "41ea76ee-3159-43ee-aa34-89c121f0dd53",
   "metadata": {},
   "outputs": [
    {
     "data": {
      "text/latex": [
       "$\\displaystyle \\pi$"
      ],
      "text/plain": [
       "pi"
      ]
     },
     "execution_count": 14,
     "metadata": {},
     "output_type": "execute_result"
    }
   ],
   "source": [
    "sp.integrate(sp.sin(n*x)**2,(x,-sp.pi,sp.pi)).subs(n,3)"
   ]
  },
  {
   "cell_type": "code",
   "execution_count": 38,
   "id": "b8470caa-6c24-4717-909d-98274b51816a",
   "metadata": {},
   "outputs": [
    {
     "data": {
      "text/plain": [
       "(-3.4557519189487724, 3.4557519189487724, -1.1, 1.1)"
      ]
     },
     "execution_count": 38,
     "metadata": {},
     "output_type": "execute_result"
    },
    {
     "data": {
      "image/png": "[encoded data removed]",
      "text/plain": [
       "<Figure size 504x504 with 1 Axes>"
      ]
     },
     "metadata": {
      "needs_background": "light"
     },
     "output_type": "display_data"
    }
   ],
   "source": [
    "import matplotlib.pyplot as plt\n",
    "import numpy as np\n",
    "\n",
    "x = np.linspace(-np.pi,np.pi,100)\n",
    "plt.figure(figsize=(7,7))\n",
    "plt.plot(x,np.cos(x))\n",
    "#plt.plot(x,np.cos(2*x))\n",
    "#plt.plot(x,np.cos(3*x))\n",
    "#plt.plot(x,np.cos(4*x))\n",
    "#plt.plot(x,np.cos(5*x))\n",
    "plt.plot(x,np.cos(6*x))\n",
    "plt.axis('equal')\n",
    "#plt.plot(x,np.sin(2*x))"
   ]
  },
  {
   "cell_type": "markdown",
   "id": "3fc53ab4-88e4-4908-bb31-e028fcc2b28e",
   "metadata": {},
   "source": [
    "# angular velocity\n",
    "> ## $\\omega$"
   ]
  },
  {
   "cell_type": "code",
   "execution_count": null,
   "id": "06f55aa4-5bca-43af-b30a-45f4f07c5372",
   "metadata": {},
   "outputs": [],
   "source": []
  }
 ],
 "metadata": {
  "kernelspec": {
   "display_name": "Python 3 (ipykernel)",
   "language": "python",
   "name": "python3"
  },
  "language_info": {
   "codemirror_mode": {
    "name": "ipython",
    "version": 3
   },
   "file_extension": ".py",
   "mimetype": "text/x-python",
   "name": "python",
   "nbconvert_exporter": "python",
   "pygments_lexer": "ipython3",
   "version": "3.9.7"
  }
 },
 "nbformat": 4,
 "nbformat_minor": 5
}
