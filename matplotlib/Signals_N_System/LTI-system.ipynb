{
 "cells": [
  {
   "cell_type": "markdown",
   "id": "58192c8b-5689-4547-8612-0c53190f7980",
   "metadata": {},
   "source": [
    "# TI (Time InVarience)\n",
    "> A system: $x(t) \\to y(t) \\text{ is time invarient } \\overset{def}{\\iff} x(t-t_0) \\to y(t-t_0), \\forall t_0$"
   ]
  },
  {
   "cell_type": "markdown",
   "id": "b5944169-2c68-46d1-8570-21db8d1fc301",
   "metadata": {},
   "source": [
    "# Lienerity\n",
    "> ## Additivity\n",
    ">> $ x_1(t) + x_2(t) \\iff y_1(t) + y_2(t)$\n",
    "> ## Homogenity(Scalling property)\n",
    ">> $ ax_1 \\iff ay_1 $\n",
    "# Linerity\n",
    "> ## superposition principle (중첩의 원리)\n",
    ">> ## Additivity + Homogenity\n",
    ">> $ ax_1(t) + bx_2(t) \\iff ay_1 + by_2 $"
   ]
  },
  {
   "cell_type": "markdown",
   "id": "ff1de26b-193b-4cc5-9cff-d7ec64262bf5",
   "metadata": {},
   "source": [
    "# LTI system (Linerity Time Invarient)\n",
    "> $ y^{(n)} + a_1(t) y^{(n-1)} + a_2(t) y^{(n-2)} + \\dots + a_{n-1}(t)y^{(1)} + a_n(t) y = \\\\\n",
    "  x^{(m)} + b_1(t) x^{(m-1)} + b_2(t) x^{(m-2)} + \\dots + b_{(m-1)}(t)x^{(1)} + b_m(t) x\n",
    "$ \n",
    "> # if a_n(t) is constant then LTI system\n",
    "> $ y^{(n)} + a_1 y^{(n-1)} + a_2 y^{(n-2)} + \\dots + a_{n-1}y^{(1)} + a_n y = \\\\\n",
    "  x^{(m)} + b_1 x^{(m-1)} + b_2 x^{(m-2)} + \\dots + b_{(m-1)}x^{(1)} + b_m x\n",
    "$ \n",
    "# $$ \\dot y + \\alpha(t) y(t) = \\beta(t) x(t) \\\\\n",
    "where \\begin{cases} \n",
    "& \\text{if } \\alpha, \\beta \\text{ is constant } \\\\\n",
    "& then \\text{ Linearity Time Invarint}\n",
    "\\end{cases}$$"
   ]
  },
  {
   "cell_type": "markdown",
   "id": "1cf46a48-cf7d-421b-a137-2fc6756781dc",
   "metadata": {},
   "source": [
    "# Incrementally Linearity System\n",
    "> $ y[n] = 2 x[n] + 3 $\n",
    ">> $y[0] \\neq 0, \\quad \\because \\text{Non Linearity System}$\n",
    ">\n",
    ">> increamental linear system\n",
    ">> $ \\begin{cases} \\Delta y[n] & = & y[n] - y[n-1] \\\\\n",
    "                    & = &  2 \\Delta x[n] \\\\\n",
    "                   \\because \\Delta x[n] & = & x[n] - x[n-1]\n",
    "     \\end{cases}$\n",
    "     "
   ]
  }
 ],
 "metadata": {
  "kernelspec": {
   "display_name": "Python 3 (ipykernel)",
   "language": "python",
   "name": "python3"
  },
  "language_info": {
   "codemirror_mode": {
    "name": "ipython",
    "version": 3
   },
   "file_extension": ".py",
   "mimetype": "text/x-python",
   "name": "python",
   "nbconvert_exporter": "python",
   "pygments_lexer": "ipython3",
   "version": "3.9.7"
  }
 },
 "nbformat": 4,
 "nbformat_minor": 5
}
