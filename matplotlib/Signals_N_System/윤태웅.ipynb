{
 "cells": [
  {
   "cell_type": "markdown",
   "id": "63aaee61-e437-403e-b367-2bb2950625da",
   "metadata": {},
   "source": [
    "# 윤태웅의 신호와 시스템\n",
    "https://www.youtube.com/playlist?list=PLIzv0-ErbDpxvwnZ3yFBLKuYP0fhDECov"
   ]
  },
  {
   "cell_type": "raw",
   "id": "567f7431-1af9-44f8-8d79-3cfb43dafdde",
   "metadata": {},
   "source": [
    "# Unit Step Function\n",
    "# Delta Step Function\n",
    "# convolution\n",
    "# C-T D-T\n",
    "    continuous Time\n",
    "    discrete Time"
   ]
  },
  {
   "cell_type": "markdown",
   "id": "2715d2c3-82b0-4614-ba16-8382109b400b",
   "metadata": {},
   "source": [
    "# Section 7\n",
    "> https://www.youtube.com/watch?v=KFyQljJKoO8&list=PLIzv0-ErbDpxvwnZ3yFBLKuYP0fhDECov&index=7&t=1614s\n",
    "\n"
   ]
  },
  {
   "cell_type": "markdown",
   "id": "4f03aa77-5929-4a00-8916-a05be514aa35",
   "metadata": {},
   "source": [
    "# Affine Transform\n",
    "> ## $ x(t) \\to x(\\alpha t + \\beta)$\n",
    ">>### shift = $\\beta$\n",
    ">>### scaling = $\\alpha$\n",
    ">>### reflection \n",
    ">>>### (-1) $\\alpha$\n",
    ">>>### (-1) $x(t)$"
   ]
  },
  {
   "cell_type": "code",
   "execution_count": null,
   "id": "6028209b-ed9d-4c4c-aab2-800bb52358f0",
   "metadata": {},
   "outputs": [],
   "source": []
  }
 ],
 "metadata": {
  "kernelspec": {
   "display_name": "Python 3 (ipykernel)",
   "language": "python",
   "name": "python3"
  },
  "language_info": {
   "codemirror_mode": {
    "name": "ipython",
    "version": 3
   },
   "file_extension": ".py",
   "mimetype": "text/x-python",
   "name": "python",
   "nbconvert_exporter": "python",
   "pygments_lexer": "ipython3",
   "version": "3.9.7"
  }
 },
 "nbformat": 4,
 "nbformat_minor": 5
}
