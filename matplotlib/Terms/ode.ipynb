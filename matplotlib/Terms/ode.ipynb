{
 "cells": [
  {
   "cell_type": "markdown",
   "id": "4148ae0a-b8b5-42db-bfb3-a6e468ed41a1",
   "metadata": {},
   "source": [
    "# [Picards method](https://www.youtube.com/watch?v=ZpvUyOvoNHg)\n",
    "> # $ y' = f(x,y) $\n",
    ">> # $$ \\begin{align} \n",
    "    & y(x_0) & = \\quad & y_0 \\quad \\text{, given initial value}  \\\\\n",
    "    & \\frac{dy}{dx} & =\\quad  & f(x,y) \\\\\n",
    "    & dy & =\\quad  & \\frac{f(x,y)}{dx} \\\\\n",
    "    & \\int_{y_0}^{y}dy & =\\quad  & \\int_{x_0}^{x}f(x,y) dx \\\\\n",
    "    & y - y_0 & =\\quad  & \\int_{x_0}^{x}f(x,y)dx \\\\\n",
    "    & \\therefore y & =\\quad  & y_0 + \\int_{x_0}^{x}f(x,y)dx \\\\\n",
    "\\end{align}$$\n",
    ">\n",
    "> # first approximation method\n",
    ">> # $$ y_{n} = y_{0} + \\int_{x_0}^{x} f(x,y_{n-1}) dx $$\n"
   ]
  },
  {
   "cell_type": "markdown",
   "id": "63f84783-d058-47e8-b6d7-3c811818439e",
   "metadata": {},
   "source": [
    "# [ODE]( https://www.youtube.com/watch?v=C0Hl8DXDJ2M&list=PLW1_9UnhaSkEdN19b2KTQm1ShFGdHHbIJ&index=2)"
   ]
  },
  {
   "cell_type": "markdown",
   "id": "9a8d101a-df4e-4e7b-beb3-50926259e35a",
   "metadata": {},
   "source": [
    "# $  \n",
    "\\begin{cases}\n",
    "y = ce^x -x -1  \n",
    "        \\begin{cases}\n",
    "           y' & = \\frac{d}{dx}(ce^x - x -1) \\\\\n",
    "           & = ce^x -1 \\\\\n",
    "           & = ce^x -1 -x + x \\\\\n",
    "           & = y + x\\\\\n",
    "        \\end{cases} \\\\\n",
    "\\therefore y' = y + x \\\\\n",
    "\\end{cases} \n",
    "$"
   ]
  },
  {
   "cell_type": "markdown",
   "id": "598bdbaf-d62f-47d2-8515-ee47f34c257c",
   "metadata": {},
   "source": [
    "## $ y'' =  a^2 y $\n",
    "> ## $ y = c_{1}sinh(ax)+c_{2}cosh(ax)$\n",
    ">> ## $ \\because \\text{Recall: } \\begin{cases}\n",
    "        \\frac{d}{dx}sinh(x) = cosh(x) \\\\\n",
    "        \\frac{d}{dx}cosh(x)  = sinh(x)\n",
    "        \\end{cases} $\n",
    "> ## $ y = c_1 sinh(ax) + c_2 cosh(ax)$\n",
    "> ## $ y' = a c_1 cosh(ax) + ac_2sinh(ax)$\n",
    "> ## $ y'' = a^2 c_1 sinh(ax) + a^2c_2cosh(ax)$"
   ]
  },
  {
   "cell_type": "code",
   "execution_count": 59,
   "id": "10d1a2ec-1c98-4468-a762-eef75bc43e17",
   "metadata": {},
   "outputs": [
    {
     "data": {
      "text/plain": [
       "True"
      ]
     },
     "execution_count": 59,
     "metadata": {},
     "output_type": "execute_result"
    }
   ],
   "source": [
    "import sympy as sym\n",
    "import numpy as np\n",
    "import matplotlib.pyplot as plt\n",
    "import matplotlib.patches as pat\n",
    "\n",
    "x,y,a,b,c,c1,c2 = sym.symbols(r'x y alpha beta c c_1 c_2')\n",
    "f = sym.symbols('f',cls=sym.Function)\n",
    "fx =  c1*sym.sinh(a*x) + c2*sym.cosh(a*x)\n",
    "sym.diff(fx,x,x) == a**2*fx"
   ]
  },
  {
   "cell_type": "code",
   "execution_count": 87,
   "id": "b57806d0-adfb-40a1-a59d-f22110615a77",
   "metadata": {},
   "outputs": [
    {
     "data": {
      "text/plain": [
       "True"
      ]
     },
     "execution_count": 87,
     "metadata": {},
     "output_type": "execute_result"
    }
   ],
   "source": [
    "g = c*sym.exp(x) - x \n",
    "dgdx = sym.diff(dgdx,x)\n",
    "dgdx == g + x"
   ]
  },
  {
   "cell_type": "code",
   "execution_count": 103,
   "id": "b9531a05-980f-4ae9-8bea-794af6c3069e",
   "metadata": {},
   "outputs": [
    {
     "data": {
      "text/plain": [
       "True"
      ]
     },
     "execution_count": 103,
     "metadata": {},
     "output_type": "execute_result"
    }
   ],
   "source": [
    "def h(t,x):\n",
    "    return x * sym.integrate(sym.sin(t)/t,(t,0,x))\n",
    "\n",
    "t = sym.symbols('t')\n",
    "f = x*sym.integrate(sym.sin(t)/t,(t,0,x))\n",
    "sym.diff(h(t,x),x) == sym.sin(x) + f/x"
   ]
  },
  {
   "cell_type": "markdown",
   "id": "7b027bcf-92d8-4a90-9231-ca917b506e8b",
   "metadata": {},
   "source": [
    "> # $$ y = x\\int_0^x \\frac{sin(t)}{t}dt \\\\\n",
    " \\begin{align}\n",
    "    y' & = x\\,\\frac{d}{dx}\\int_{0}^{x}\\frac{sint(t)}{t}dt + \\frac{d}{dx}x\\, \\int_0^x \\frac{sin(t)}{t}dt \\\\\n",
    "       & = x\\,\\frac{sin(x)}{x} + \\int_0^x \\frac{sin(t)}{t}dt \\\\\n",
    "       & = sin(x) + \\int_0^x \\frac{sin(t)}{t}dt \\\\\n",
    "       & = sin(x) + \\frac{\\int_0^x \\frac{sin(t)}{t}dt}{x}\\,x \\\\\n",
    "       & = sin(x) + \\frac{x\\,\\int_0^x \\frac{sin(t)}{t}dt}{x} \\\\\n",
    "       & = sin(x) + \\frac{y}{x}\\\\\n",
    " \\end{align} \n",
    "$$\n",
    "---\n",
    "> # $$\n",
    "\\frac{d}{dx}\\int_{0}^{x}\\frac{sint(t)}{t}dt \n",
    "    \\begin{cases}\n",
    "        \\text{bottom varaiable(0) will be constant}\\\\\n",
    "        \\text{top variable(x) is the same as independent variable of diferentiation} \\\\\n",
    "        \\text{use fundmental thereom calculus}\n",
    "    \\end{cases}\n",
    "$$"
   ]
  },
  {
   "cell_type": "code",
   "execution_count": null,
   "id": "e0b76e46-5e4f-4616-b163-abfd29d64d3e",
   "metadata": {},
   "outputs": [],
   "source": []
  }
 ],
 "metadata": {
  "kernelspec": {
   "display_name": "Python 3 (ipykernel)",
   "language": "python",
   "name": "python3"
  },
  "language_info": {
   "codemirror_mode": {
    "name": "ipython",
    "version": 3
   },
   "file_extension": ".py",
   "mimetype": "text/x-python",
   "name": "python",
   "nbconvert_exporter": "python",
   "pygments_lexer": "ipython3",
   "version": "3.9.7"
  }
 },
 "nbformat": 4,
 "nbformat_minor": 5
}
