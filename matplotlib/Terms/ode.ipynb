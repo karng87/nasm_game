{
 "cells": [
  {
   "cell_type": "markdown",
   "id": "63f84783-d058-47e8-b6d7-3c811818439e",
   "metadata": {},
   "source": [
    "# [ODE]( https://www.youtube.com/watch?v=C0Hl8DXDJ2M&list=PLW1_9UnhaSkEdN19b2KTQm1ShFGdHHbIJ&index=2)"
   ]
  },
  {
   "cell_type": "markdown",
   "id": "9a8d101a-df4e-4e7b-beb3-50926259e35a",
   "metadata": {},
   "source": [
    "# $$  \n",
    "\\begin{cases}\n",
    "    y' = ce^x -x -1  \n",
    "        \\begin{cases}\n",
    "            & = \\frac{d}{dx}(ce^x - x -1) \\\\\n",
    "            & = ce^x -1 \\\\\n",
    "            & = ce^x -1 -x + x \\\\\n",
    "            & \\because y' = ce^x -1 -x \\\\\n",
    "        \\end{cases} \n",
    "    \\therefore y' = y + x \\\\\n",
    "\\end{cases} \n",
    "$$\n",
    "\n"
   ]
  },
  {
   "cell_type": "markdown",
   "id": "598bdbaf-d62f-47d2-8515-ee47f34c257c",
   "metadata": {},
   "source": [
    "# $ \\begin{case}\n",
    "y = c_{1}sinh(ax)+c_{2}cosh(ax) \\\\\n",
    " \\therefore a^2 y\n",
    " \\end{cases}\n",
    " $\n",
    "> ## $ \\because \\text{Recall: } \\begin{cases}\n",
    "        \\frac{d}{dx}sinh(x) = cosh(x) \\\\\n",
    "        \\frac{d}{dx}cosh(x)  = sinh(x)\n",
    "        \\end{cases} $\n",
    ">> y = c_1 sinh(ax) + c_2 cosh(x)\n",
    "y"
   ]
  },
  {
   "cell_type": "code",
   "execution_count": null,
   "id": "10d1a2ec-1c98-4468-a762-eef75bc43e17",
   "metadata": {},
   "outputs": [],
   "source": []
  }
 ],
 "metadata": {
  "kernelspec": {
   "display_name": "Python 3 (ipykernel)",
   "language": "python",
   "name": "python3"
  },
  "language_info": {
   "codemirror_mode": {
    "name": "ipython",
    "version": 3
   },
   "file_extension": ".py",
   "mimetype": "text/x-python",
   "name": "python",
   "nbconvert_exporter": "python",
   "pygments_lexer": "ipython3",
   "version": "3.9.7"
  }
 },
 "nbformat": 4,
 "nbformat_minor": 5
}
