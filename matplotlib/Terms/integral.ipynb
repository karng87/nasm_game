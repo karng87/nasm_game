{
 "cells": [
  {
   "cell_type": "code",
   "execution_count": 85,
   "id": "6a030618-2394-44ba-9e8b-fec2958943df",
   "metadata": {},
   "outputs": [
    {
     "name": "stdout",
     "output_type": "stream",
     "text": [
      "1\n"
     ]
    },
    {
     "data": {
      "text/plain": [
       "[<matplotlib.lines.Line2D at 0x7f87cd621100>]"
      ]
     },
     "execution_count": 85,
     "metadata": {},
     "output_type": "execute_result"
    },
    {
     "data": {
      "image/png": "[encoded data removed]",
      "text/plain": [
       "<Figure size 432x288 with 1 Axes>"
      ]
     },
     "metadata": {
      "needs_background": "light"
     },
     "output_type": "display_data"
    }
   ],
   "source": [
    "import numpy as np\n",
    "import sympy as sym\n",
    "import scipy as sci\n",
    "\n",
    "import matplotlib.pyplot as plt\n",
    "import matplotlib.patches as patches\n",
    "import warnings\n",
    "warnings.filterwarnings(\"ignore\") \n",
    "\n",
    "x,y = sym.symbols('x y')\n",
    "an = sym.solve(sym.ln(x),x)\n",
    "ans = sym.solveset(sym.ln(x),x)\n",
    "it = iter(ans)\n",
    "print(next(it))\n",
    "\n",
    "xi = np.linspace(0.01,10,1000)\n",
    "yd = [sym.ln(x) for x in xi]\n",
    "\n",
    "fig = plt.figure()\n",
    "ax = fig.add_subplot()\n",
    "ax.set_xlabel('$x$')\n",
    "ax.set_ylabel(\"$f(x)$\")\n",
    "ax.set_xlim(xmin=-5, xmax=5)\n",
    "ax.set_ylim(ymin=-5, ymax=5)\n",
    "ax.axvline(0)\n",
    "ax.axhline(0)\n",
    "ax.axvline(an)\n",
    "ax.grid()\n",
    "ax.plot(xi,yd, color='orange')"
   ]
  },
  {
   "cell_type": "code",
   "execution_count": 25,
   "id": "528ec355-69a8-47f1-aa19-4f72ac146925",
   "metadata": {},
   "outputs": [
    {
     "data": {
      "text/latex": [
       "$\\displaystyle 1 + i \\theta - \\frac{\\theta^{2}}{2} - \\frac{i \\theta^{3}}{6} + \\frac{\\theta^{4}}{24} + \\frac{i \\theta^{5}}{120} + O\\left(\\theta^{6}\\right)$"
      ],
      "text/plain": [
       "1 + I*theta - theta**2/2 - I*theta**3/6 + theta**4/24 + I*theta**5/120 + O(theta**6)"
      ]
     },
     "execution_count": 25,
     "metadata": {},
     "output_type": "execute_result"
    }
   ],
   "source": [
    "import sympy as sym\n",
    "x,y,theta = sym.symbols('x y theta')\n",
    "sym.integrate(x**2+2*x*y,x)\n",
    "sym.integrate(x**2+2*x*y,y)\n",
    "#sym.integrate(x**2+2*x*y,(x,0,1),(y,0,1))\n",
    "sym.limit(sym.sin(x)/x,x,0)\n",
    "sym.series(sym.exp(sym.I*theta),theta)"
   ]
  },
  {
   "cell_type": "code",
   "execution_count": 9,
   "id": "4b26ae6a-b638-4dab-916c-76a01d0c5a60",
   "metadata": {},
   "outputs": [
    {
     "name": "stdout",
     "output_type": "stream",
     "text": [
      "verts:  [(2, 0), (2.0, 70.0), (2.142857142857143, 73.10495626822157), (2.2857142857142856, 75.8600583090379), (2.4285714285714284, 78.28279883381924), (2.571428571428571, 80.39067055393586), (2.7142857142857144, 82.20116618075802), (2.857142857142857, 83.73177842565597), (3.0, 85.0), (3.142857142857143, 86.02332361516035), (3.2857142857142856, 86.8192419825073), (3.4285714285714284, 87.40524781341108), (3.571428571428571, 87.79883381924198), (3.7142857142857144, 88.01749271137027), (3.8571428571428568, 88.07871720116619), (4.0, 88.0), (4.142857142857142, 87.79883381924198), (4.285714285714286, 87.49271137026238), (4.428571428571429, 87.09912536443149), (4.571428571428571, 86.63556851311954), (4.7142857142857135, 86.1195335276968), (4.857142857142857, 85.56851311953353), (5.0, 85.0), (5.142857142857142, 84.43148688046648), (5.285714285714286, 83.88046647230321), (5.428571428571429, 83.36443148688046), (5.571428571428571, 82.90087463556851), (5.7142857142857135, 82.50728862973762), (5.857142857142857, 82.20116618075802), (6.0, 82.0), (6.142857142857142, 81.92128279883381), (6.285714285714286, 81.98250728862973), (6.428571428571428, 82.20116618075802), (6.571428571428571, 82.59475218658892), (6.714285714285714, 83.1807580174927), (6.857142857142857, 83.97667638483965), (7.0, 85.0), (7.142857142857142, 86.26822157434403), (7.285714285714286, 87.79883381924198), (7.428571428571428, 89.60932944606414), (7.571428571428571, 91.71720116618076), (7.7142857142857135, 94.13994169096209), (7.857142857142857, 96.89504373177842), (8.0, 100.0), (8.142857142857142, 103.47230320699707), (8.285714285714285, 107.32944606413992), (8.428571428571427, 111.58892128279878), (8.571428571428571, 116.26822157434401), (8.714285714285714, 121.38483965014575), (8.857142857142858, 126.95626822157436), (9.0, 133.0), (9, 0)]\n"
     ]
    },
    {
     "data": {
      "image/png": "[encoded data removed]",
      "text/plain": [
       "<Figure size 432x288 with 1 Axes>"
      ]
     },
     "metadata": {
      "needs_background": "light"
     },
     "output_type": "display_data"
    }
   ],
   "source": [
    "import numpy as np\n",
    "import matplotlib.pyplot as plt\n",
    "from matplotlib.patches import Polygon\n",
    "\n",
    "\n",
    "def func(x):\n",
    "    return (x - 3) * (x - 5) * (x - 7) + 85\n",
    "\n",
    "\n",
    "a, b = 2, 9  # integral limits\n",
    "x = np.linspace(0, 10)\n",
    "y = func(x)\n",
    "\n",
    "fig, ax = plt.subplots()\n",
    "ax.plot(x, y, 'r', linewidth=2)\n",
    "ax.set_ylim(bottom=0)\n",
    "\n",
    "# Make the shaded region\n",
    "ix = np.linspace(a, b)\n",
    "iy = func(ix)\n",
    "verts = [(a, 0), *zip(ix, iy), (b, 0)]\n",
    "print(\"verts: \", verts)\n",
    "poly = Polygon(verts, facecolor='0.9', edgecolor='0.5')\n",
    "ax.add_patch(poly)\n",
    "\n",
    "ax.text(0.5 * (a + b), 30, r\"$\\int_a^b f(x)\\mathrm{d}x$\",\n",
    "        horizontalalignment='center', fontsize=20)\n",
    "\n",
    "fig.text(0.9, 0.05, '$x$')\n",
    "fig.text(0.1, 0.9, '$y$')\n",
    "\n",
    "ax.spines.right.set_visible(False)\n",
    "ax.spines.top.set_visible(False)\n",
    "ax.xaxis.set_ticks_position('bottom')\n",
    "\n",
    "ax.set_xticks((a, b))\n",
    "ax.set_xticklabels(('$a$', '$b$'))\n",
    "ax.set_yticks([])\n",
    "\n",
    "plt.show()"
   ]
  },
  {
   "cell_type": "code",
   "execution_count": null,
   "id": "3076353b-20c9-4456-91ea-158a2d0eff00",
   "metadata": {},
   "outputs": [],
   "source": []
  }
 ],
 "metadata": {
  "kernelspec": {
   "display_name": "Python 3 (ipykernel)",
   "language": "python",
   "name": "python3"
  },
  "language_info": {
   "codemirror_mode": {
    "name": "ipython",
    "version": 3
   },
   "file_extension": ".py",
   "mimetype": "text/x-python",
   "name": "python",
   "nbconvert_exporter": "python",
   "pygments_lexer": "ipython3",
   "version": "3.9.7"
  }
 },
 "nbformat": 4,
 "nbformat_minor": 5
}
