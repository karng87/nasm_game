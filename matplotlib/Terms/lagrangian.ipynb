{
 "cells": [
  {
   "cell_type": "code",
   "execution_count": 102,
   "id": "cc970e0b-9196-4147-bf0d-dacfacabd4b8",
   "metadata": {},
   "outputs": [],
   "source": [
    "import numpy as np\n",
    "import sympy as sp\n",
    "import scipy as sci\n",
    "import matplotlib.pyplot as plt\n",
    "%matplotlib widget\n",
    "sp.physics.mechanics.init_vprinting()"
   ]
  },
  {
   "cell_type": "markdown",
   "id": "de2ea515-de58-4c7c-9886-079a39c20eef",
   "metadata": {},
   "source": [
    "# [Lagrangian 1](https://www.youtube.com/watch?v=HYUd9QFcefs)\n",
    "> # constant\n",
    ">> R : radius  \n",
    ">> L : line length \n",
    ">>> $ L = x + x_2 + \\pi R $\n",
    ">>\n",
    ">> $ x : m_1 $  \n",
    ">> $ y : m_2 $  "
   ]
  },
  {
   "cell_type": "code",
   "execution_count": 103,
   "id": "36694346-8d0e-4959-a2e8-702e81f5f520",
   "metadata": {},
   "outputs": [],
   "source": [
    "R,m1,m2,g,L = sp.symbols('R m_1 m_2 g L',positive=True)\n",
    "t = sp.symbols('t')\n",
    "\n",
    "x = sp.Function('x')(t)\n",
    "y = L-(x + (sp.pi * R))"
   ]
  },
  {
   "cell_type": "code",
   "execution_count": 104,
   "id": "dd9ada93-f3ad-47ef-8b55-fe6d1b111a34",
   "metadata": {},
   "outputs": [
    {
     "data": {
      "image/png": "[encoded data removed]",
      "text/latex": [
       "$\\displaystyle \\frac{\\left(m_{1} + m_{2}\\right) \\dot{x}^{2}}{2}$"
      ],
      "text/plain": [
       "           2\n",
       "(m₁ + m₂)⋅ẋ \n",
       "────────────\n",
       "     2      "
      ]
     },
     "execution_count": 104,
     "metadata": {},
     "output_type": "execute_result"
    }
   ],
   "source": [
    "T = (sp.Rational(1,2) * m1 * x.diff(t)**2) + (sp.Rational(1/2) * m2 * y.diff(t)**2)\n",
    "T.simplify()"
   ]
  },
  {
   "cell_type": "code",
   "execution_count": 105,
   "id": "8392219a-0b95-4c98-ae8d-f77b912c8306",
   "metadata": {},
   "outputs": [
    {
     "data": {
      "image/png": "[encoded data removed]",
      "text/latex": [
       "$\\displaystyle g \\left(m_{1} x - m_{2} \\left(- L + \\pi R + x\\right)\\right)$"
      ],
      "text/plain": [
       "g⋅(m₁⋅x - m₂⋅(-L + π⋅R + x))"
      ]
     },
     "execution_count": 105,
     "metadata": {},
     "output_type": "execute_result"
    }
   ],
   "source": [
    "U = m1*g*x + m2*g*y\n",
    "U.simplify()"
   ]
  },
  {
   "cell_type": "code",
   "execution_count": 106,
   "id": "a06fd7c8-d20c-45cd-9c77-7522ad34b04f",
   "metadata": {},
   "outputs": [
    {
     "data": {
      "image/png": "[encoded data removed]",
      "text/latex": [
       "$\\displaystyle - g m_{1} x + g m_{2} \\left(- L + \\pi R + x\\right) + \\frac{m_{1} \\dot{x}^{2}}{2} + \\frac{m_{2} \\dot{x}^{2}}{2}$"
      ],
      "text/plain": [
       "                                    2       2\n",
       "                                m₁⋅ẋ    m₂⋅ẋ \n",
       "-g⋅m₁⋅x + g⋅m₂⋅(-L + π⋅R + x) + ───── + ─────\n",
       "                                  2       2  "
      ]
     },
     "execution_count": 106,
     "metadata": {},
     "output_type": "execute_result"
    }
   ],
   "source": [
    "Lagrangian = T - U\n",
    "Lagrangian.simplify()"
   ]
  },
  {
   "cell_type": "code",
   "execution_count": 107,
   "id": "593cc0c5-a644-4183-b2dc-972e57c42a4f",
   "metadata": {},
   "outputs": [
    {
     "data": {
      "image/png": "[encoded data removed]",
      "text/latex": [
       "$\\displaystyle - g m_{1} + g m_{2}$"
      ],
      "text/plain": [
       "-g⋅m₁ + g⋅m₂"
      ]
     },
     "execution_count": 107,
     "metadata": {},
     "output_type": "execute_result"
    }
   ],
   "source": [
    "rhs = Lagrangian.diff(x)\n",
    "rhs"
   ]
  },
  {
   "cell_type": "code",
   "execution_count": 108,
   "id": "d0a2cb85-ffd7-49d4-b472-60641395ebc3",
   "metadata": {},
   "outputs": [
    {
     "data": {
      "image/png": "[encoded data removed]",
      "text/latex": [
       "$\\displaystyle m_{1} \\ddot{x} + m_{2} \\ddot{x}$"
      ],
      "text/plain": [
       "m₁⋅ẍ + m₂⋅ẍ"
      ]
     },
     "execution_count": 108,
     "metadata": {},
     "output_type": "execute_result"
    }
   ],
   "source": [
    "lhs = Lagrangian.diff(x.diff(t)).diff(t)\n",
    "lhs"
   ]
  },
  {
   "cell_type": "code",
   "execution_count": 109,
   "id": "2d4cdd37-b2cc-4e3e-88d2-5bcabedbe3c1",
   "metadata": {},
   "outputs": [
    {
     "data": {
      "image/png": "[encoded data removed]",
      "text/latex": [
       "$\\displaystyle \\left[ \\frac{g \\left(- m_{1} + m_{2}\\right)}{m_{1} + m_{2}}\\right]$"
      ],
      "text/plain": [
       "⎡g⋅(-m₁ + m₂)⎤\n",
       "⎢────────────⎥\n",
       "⎣  m₁ + m₂   ⎦"
      ]
     },
     "execution_count": 109,
     "metadata": {},
     "output_type": "execute_result"
    }
   ],
   "source": [
    "sp.solve(sp.Eq(rhs,lhs),x.diff(t,2))"
   ]
  },
  {
   "cell_type": "code",
   "execution_count": 110,
   "id": "8e1ae760-694d-4b26-a77c-e19cbeba7919",
   "metadata": {},
   "outputs": [
    {
     "data": {
      "image/png": "[encoded data removed]",
      "text/latex": [
       "$\\displaystyle \\frac{g \\left(- m_{1} + m_{2}\\right)}{m_{1} + m_{2}}$"
      ],
      "text/plain": [
       "g⋅(-m₁ + m₂)\n",
       "────────────\n",
       "  m₁ + m₂   "
      ]
     },
     "execution_count": 110,
     "metadata": {},
     "output_type": "execute_result"
    }
   ],
   "source": [
    "sp.solve(sp.Eq(rhs,lhs),x.diff(t,2))[0]"
   ]
  },
  {
   "cell_type": "markdown",
   "id": "b4993c3b-95e7-4445-b4b6-59b871593a1c",
   "metadata": {},
   "source": [
    "# https://www.youtube.com/watch?v=rJaXxb_piGI&t=1s\n"
   ]
  },
  {
   "cell_type": "code",
   "execution_count": 155,
   "id": "e2168c4e-9dec-42f3-8160-e9a728ddb151",
   "metadata": {},
   "outputs": [],
   "source": [
    "import numpy as np\n",
    "import matplotlib.pyplot as plt\n",
    "from scipy.integrate import odeint\n",
    "import sympy as smp\n",
    "from matplotlib import animation\n",
    "from matplotlib.animation import PillowWriter"
   ]
  },
  {
   "cell_type": "code",
   "execution_count": 166,
   "id": "894c75eb-e999-4231-a965-9b6b94076eeb",
   "metadata": {},
   "outputs": [],
   "source": [
    "t, g, l1, l2, m1, m2, m3, k, L0 = smp.symbols('t g l_1 l_2 m_1 m_2 m_3 k L_0')\n",
    "the1, the2 = smp.symbols(r'\\theta_1 \\theta_2', cls=smp.Function)"
   ]
  },
  {
   "cell_type": "code",
   "execution_count": 167,
   "id": "37b03d72-cdbe-4ae4-a019-e6bf166c8de3",
   "metadata": {},
   "outputs": [],
   "source": [
    "the1 = the1(t)\n",
    "the2 = the2(t)\n",
    "the1_d = smp.diff(the1, t)\n",
    "the2_d = smp.diff(the2, t)\n",
    "the1_dd = smp.diff(the1_d, t)\n",
    "the2_dd = smp.diff(the2_d, t)"
   ]
  },
  {
   "cell_type": "code",
   "execution_count": null,
   "id": "a469ef31-4363-4146-8d84-192849174ef0",
   "metadata": {},
   "outputs": [],
   "source": []
  }
 ],
 "metadata": {
  "kernelspec": {
   "display_name": "Python 3 (ipykernel)",
   "language": "python",
   "name": "python3"
  },
  "language_info": {
   "codemirror_mode": {
    "name": "ipython",
    "version": 3
   },
   "file_extension": ".py",
   "mimetype": "text/x-python",
   "name": "python",
   "nbconvert_exporter": "python",
   "pygments_lexer": "ipython3",
   "version": "3.9.7"
  }
 },
 "nbformat": 4,
 "nbformat_minor": 5
}
