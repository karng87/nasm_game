{
 "cells": [
  {
   "cell_type": "code",
   "execution_count": null,
   "id": "82ac8eb5-0eaf-418c-9a2d-df3879a3b214",
   "metadata": {},
   "outputs": [],
   "source": [
    "# Variation\n",
    "> independant variable\n",
    ">> t,s\n",
    "> dependent variable\n",
    ">> $x(t), y(t), F(x(t),y(t),t), G(x(t,s),t,s)$"
   ]
  }
 ],
 "metadata": {
  "kernelspec": {
   "display_name": "Python 3 (ipykernel)",
   "language": "python",
   "name": "python3"
  },
  "language_info": {
   "codemirror_mode": {
    "name": "ipython",
    "version": 3
   },
   "file_extension": ".py",
   "mimetype": "text/x-python",
   "name": "python",
   "nbconvert_exporter": "python",
   "pygments_lexer": "ipython3",
   "version": "3.9.7"
  }
 },
 "nbformat": 4,
 "nbformat_minor": 5
}
