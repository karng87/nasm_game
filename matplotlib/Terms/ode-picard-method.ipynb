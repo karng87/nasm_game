{
 "cells": [
  {
   "cell_type": "markdown",
   "id": "fa69497b-941e-424d-8f03-c50e5e18801f",
   "metadata": {},
   "source": [
    "# [first order differential eqations](https://people.math.wisc.edu/~angenent/519.2016s/notes/elementary-diffeqs.html)\n",
    "> ## First Order Separable Equation\n",
    ">> ## $\n",
    "\\frac{dy}{dx} = f(x,y) \\\\\n",
    "y'(x) = F(x)G(y(x)), \\quad or \\quad \\frac{dy}{dx} = F(x)G(y)\n",
    "$\n",
    ">>> ### not separable $ \\frac{dy}{dx} = x + y \\quad or \\quad y' = x + y$"
   ]
  },
  {
   "cell_type": "markdown",
   "id": "7792047d-2b4c-440b-ba07-96b81c515777",
   "metadata": {},
   "source": [
    "# The simplest case\n",
    "> ## $ \\frac{dx}{dt} = f(t), \\quad x(t_0) = x_0$\n",
    ">> ## $ x(t) = x_0 + \\int_{t_0}^{t} f(s)ds $\n",
    "\n",
    "# The general case\n",
    "> ## $ \\frac{dx}{dt} = f(t,x), \\quad x(t_0) = x_0 $\n",
    ">> ## $ x_0 - \\delta \\leq x \\leq x_0 + \\delta , \\quad t_{-}  \\leq t \\leq t_{+} $\n",
    "\n",
    "# [Proof by Picard iteration of Exisence Theorem](https://people.math.wisc.edu/~angenent/519.2016s/notes/picard.html#mjx-eqn-eqsimplest-ODE)\n",
    "> ## $\n",
    "x_0(t) = x_0 \\\\\n",
    "\\text{which gives us a new function } x_1(t)\n",
    "$\n",
    ">> ## $\n",
    "\\frac{dx_1}{dt} = f(t,x_0), \\quad x_0(t_0) = x_0 \\\\\n",
    "\\frac{dx_2}{dt} = f(t,x_1(t)), \\quad x_1(t0) = x_0 \\\\\n",
    "\\dots \\\\\n",
    "\\frac{dx_n}{dt} = f(t, x_{n-1}(t), \\quad x_{n-1}(t_0) = x_0 \\\\\n",
    "\\therefore x(t) \\overset{def}{=} \\lim \\limits_{k\\to\\infty} x_k(t) \\\\\n",
    "$\n",
    "> ## $$\n",
    "x_k(t) = x_0 + \\int_{t_0}^{t} f(s,x_{k-1}(s))ds \\\\\n",
    "x_{k+1}(t) = x_0 + \\int_{t_0}^{t} f(s,x_{k}(s))ds \\\\\n",
    "$$  \n",
    ">\n",
    "> ## $\n",
    "\\begin{cases}\n",
    "k \\to \\infty, \\Rightarrow x_k(t) \\to x(t) \\\\\n",
    "k \\to \\infty, \\Rightarrow y_k(x) \\to y(x)\n",
    "\\end{cases}\n",
    "$\n",
    "> ## $$\n",
    "x(t) = x_0 + \\int_{t_0}^{t} f(s,x(s))ds \\\\\n",
    "y(x) = y_0 + \\int_{x_0}^{x} f(t,x(t))dt \\\\\n",
    "$$"
   ]
  },
  {
   "cell_type": "code",
   "execution_count": 87,
   "id": "48e92ca5-bd43-430d-bdac-75973825d2d4",
   "metadata": {},
   "outputs": [
    {
     "data": {
      "text/latex": [
       "$\\displaystyle \\frac{x^{6}}{720} + \\frac{x^{5}}{40} + \\frac{x^{4}}{8} + \\frac{x^{3}}{2} + \\frac{3 x^{2}}{2} + 2 x + 2$"
      ],
      "text/plain": [
       "x**6/720 + x**5/40 + x**4/8 + x**3/2 + 3*x**2/2 + 2*x + 2"
      ]
     },
     "execution_count": 87,
     "metadata": {},
     "output_type": "execute_result"
    }
   ],
   "source": [
    "import sympy as sym\n",
    "t, x = sym.symbols('t x')\n",
    "f,y = sym.symbols('f y',cls=sym.Function)\n",
    "f.diff(x)\n",
    "\n",
    "# y' = x + y\n",
    "y = sym.dsolve(f(x).diff(x) - x - f(x),f(x))\n",
    "C1,_ = y.free_symbols\n",
    "y = y.subs(C1,2).simplify()\n",
    "\n",
    "# y'= x + y\n",
    "k1 = 2 + sym.integrate(t+2,(t,0,x))\n",
    "k2 = 2 + sym.integrate(t+k1.subs(x,t),(t,0,x))\n",
    "k3 = 2 + sym.integrate(t+k2.subs(x,t),(t,0,x))\n",
    "k4 = 2 + sym.integrate(t+k3.subs(x,t),(t,0,x))\n",
    "k5 = 2 + sym.integrate(t+k4.subs(x,t),(t,0,x))\n",
    "k5"
   ]
  },
  {
   "cell_type": "markdown",
   "id": "4148ae0a-b8b5-42db-bfb3-a6e468ed41a1",
   "metadata": {
    "tags": []
   },
   "source": [
    "# [Picards method](https://www.youtube.com/watch?v=ZpvUyOvoNHg)\n",
    "> # $ y'(x) = f(x,y) $\n",
    ">> # $$ \\begin{align} \n",
    "    & y(x_0) & = \\quad & y_0 \\quad \\text{, given initial value}  \\\\\n",
    "    & \\frac{d\\, y(x)}{dx} & =\\quad  & f(x,y) \\\\\n",
    "    & dy(x) & =\\quad  & f(x,y)\\,dx \\\\\n",
    "    & \\int_{y_0}^{y}dy(x) & =\\quad  & \\int_{x_0}^{x}f(t,y(x)) dx \\\\\n",
    "    & y - y_0 & =\\quad  & \\int_{x_0}^{x}f(x,y)dx \\\\\n",
    "    & \\therefore y & =\\quad  & y_0 + \\int_{x_0}^{x}f(x,y)dx \\\\\n",
    "\\end{align}$$\n",
    ">\n",
    "> # first approximation method\n",
    ">> # $$ y(x) = y_{0} + \\int_{x_0}^{x} f(x,y(x)) dx $$  \n",
    ">> # $$ y(x) = y_{0} + \\int_{x_0}^{x} f(t,y(t)) dt $$\n"
   ]
  },
  {
   "cell_type": "markdown",
   "id": "9a8d101a-df4e-4e7b-beb3-50926259e35a",
   "metadata": {},
   "source": [
    "# [ODE]( https://www.youtube.com/watch?v=C0Hl8DXDJ2M&list=PLW1_9UnhaSkEdN19b2KTQm1ShFGdHHbIJ&index=2)\n",
    "# $  \n",
    "\\begin{cases}\n",
    "y = ce^x -x -1  \n",
    "        \\begin{cases}\n",
    "           y' & = \\frac{d}{dx}(ce^x - x -1) \\\\\n",
    "           & = ce^x -1 \\\\\n",
    "           & = ce^x -1 -x + x \\\\\n",
    "           & = y + x\\\\\n",
    "        \\end{cases} \\\\\n",
    "\\therefore y' = y + x \\\\\n",
    "\\end{cases} \n",
    "$"
   ]
  },
  {
   "cell_type": "markdown",
   "id": "598bdbaf-d62f-47d2-8515-ee47f34c257c",
   "metadata": {},
   "source": [
    "## $ y'' =  a^2 y $\n",
    "> ## $ y = c_{1}sinh(ax)+c_{2}cosh(ax)$\n",
    ">> ## $ \\because \\text{Recall: } \\begin{cases}\n",
    "        \\frac{d}{dx}sinh(x) = cosh(x) \\\\\n",
    "        \\frac{d}{dx}cosh(x)  = sinh(x)\n",
    "        \\end{cases} $\n",
    "> ## $ y = c_1 sinh(ax) + c_2 cosh(ax)$\n",
    "> ## $ y' = a c_1 cosh(ax) + ac_2sinh(ax)$\n",
    "> ## $ y'' = a^2 c_1 sinh(ax) + a^2c_2cosh(ax)$"
   ]
  },
  {
   "cell_type": "code",
   "execution_count": 59,
   "id": "10d1a2ec-1c98-4468-a762-eef75bc43e17",
   "metadata": {},
   "outputs": [
    {
     "data": {
      "text/plain": [
       "True"
      ]
     },
     "execution_count": 59,
     "metadata": {},
     "output_type": "execute_result"
    }
   ],
   "source": [
    "import sympy as sym\n",
    "import numpy as np\n",
    "import matplotlib.pyplot as plt\n",
    "import matplotlib.patches as pat\n",
    "\n",
    "x,y,a,b,c,c1,c2 = sym.symbols(r'x y alpha beta c c_1 c_2')\n",
    "f = sym.symbols('f',cls=sym.Function)\n",
    "fx =  c1*sym.sinh(a*x) + c2*sym.cosh(a*x)\n",
    "sym.diff(fx,x,x) == a**2*fx"
   ]
  },
  {
   "cell_type": "code",
   "execution_count": 87,
   "id": "b57806d0-adfb-40a1-a59d-f22110615a77",
   "metadata": {},
   "outputs": [
    {
     "data": {
      "text/plain": [
       "True"
      ]
     },
     "execution_count": 87,
     "metadata": {},
     "output_type": "execute_result"
    }
   ],
   "source": [
    "g = c*sym.exp(x) - x \n",
    "dgdx = sym.diff(dgdx,x)\n",
    "dgdx == g + x"
   ]
  },
  {
   "cell_type": "code",
   "execution_count": 103,
   "id": "b9531a05-980f-4ae9-8bea-794af6c3069e",
   "metadata": {},
   "outputs": [
    {
     "data": {
      "text/plain": [
       "True"
      ]
     },
     "execution_count": 103,
     "metadata": {},
     "output_type": "execute_result"
    }
   ],
   "source": [
    "def h(t,x):\n",
    "    return x * sym.integrate(sym.sin(t)/t,(t,0,x))\n",
    "\n",
    "t = sym.symbols('t')\n",
    "f = x*sym.integrate(sym.sin(t)/t,(t,0,x))\n",
    "sym.diff(h(t,x),x) == sym.sin(x) + f/x"
   ]
  },
  {
   "cell_type": "code",
   "execution_count": null,
   "id": "59bee01d-a56f-495e-b5f2-c1b9898a9420",
   "metadata": {},
   "outputs": [],
   "source": []
  },
  {
   "cell_type": "code",
   "execution_count": 7,
   "id": "e0b76e46-5e4f-4616-b163-abfd29d64d3e",
   "metadata": {},
   "outputs": [
    {
     "data": {
      "text/plain": [
       "(-7.0, 7.0)"
      ]
     },
     "execution_count": 7,
     "metadata": {},
     "output_type": "execute_result"
    },
    {
     "data": {
      "image/png": "[encoded data removed]",
      "text/plain": [
       "<Figure size 432x288 with 1 Axes>"
      ]
     },
     "metadata": {
      "needs_background": "light"
     },
     "output_type": "display_data"
    }
   ],
   "source": [
    "import numpy as np\n",
    "import matplotlib.pyplot as plt\n",
    "fig = plt.figure()\n",
    "ax = fig.add_subplot()\n",
    "x = np.linspace(-7,7,1000)\n",
    "ax.plot(x,np.sinh(x))\n",
    "ax.plot(x,np.cosh(x))\n",
    "ax.axis('scaled')\n",
    "ax.set_xlim(xmin=-7,xmax=7)\n",
    "ax.set_ylim(ymin=-7,ymax=7)"
   ]
  },
  {
   "cell_type": "code",
   "execution_count": 46,
   "id": "58d0053f-c621-4442-a09e-c9face4ef5bf",
   "metadata": {},
   "outputs": [
    {
     "data": {
      "text/plain": [
       "[Eq(g(x), -asin(C1 + 4*x)/2 + pi/2), Eq(g(x), asin(C1 + 4*x)/2)]"
      ]
     },
     "execution_count": 46,
     "metadata": {},
     "output_type": "execute_result"
    }
   ],
   "source": [
    "import sympy as sym\n",
    "x,y = sym.symbols('x y')\n",
    "f,g = sym.symbols('f g', cls=sym.Function)\n",
    "f = f(x)\n",
    "\n",
    "sym.dsolve(f.diff(x)-1-f**2,f.simplify())\n",
    "sym.dsolve(f.diff(x) + (x+2)*f**2,f,hint='separable')\n",
    "sym.dsolve(g(x).diff(x)-2*sym.sec(2*g(x)),g(x),hint='separable')"
   ]
  },
  {
   "cell_type": "code",
   "execution_count": 48,
   "id": "aa3c66b4-c6c6-4ca8-9fe4-4f9f8cbc4f85",
   "metadata": {},
   "outputs": [
    {
     "data": {
      "text/latex": [
       "$\\displaystyle x + \\frac{f^{2}{\\left(x \\right)}}{x} = C_{1}$"
      ],
      "text/plain": [
       "Eq(x + f(x)**2/x, C1)"
      ]
     },
     "execution_count": 48,
     "metadata": {},
     "output_type": "execute_result"
    }
   ],
   "source": [
    "#sym.dsolve(2*x*f(x)*f(x).diff(x)-f(x)**2 + x**2,f(x),hint='separable_reduced')\n",
    "sym.dsolve(2*x*f*f.diff(x)-f**2 + x**2,f,simplify=False)"
   ]
  },
  {
   "cell_type": "code",
   "execution_count": 55,
   "id": "e7b237c1-2213-4c19-be55-ad7236f6a585",
   "metadata": {},
   "outputs": [
    {
     "data": {
      "text/latex": [
       "$\\displaystyle \\frac{1}{f^{2}{\\left(x \\right)}} = \\left(C_{1} - \\operatorname{Ei}{\\left(4 x^{2} \\right)}\\right) e^{- 4 x^{2}}$"
      ],
      "text/plain": [
       "Eq(f(x)**(-2), (C1 - Ei(4*x**2))*exp(-4*x**2))"
      ]
     },
     "execution_count": 55,
     "metadata": {},
     "output_type": "execute_result"
    }
   ],
   "source": [
    "sym.dsolve(f.diff(x) - (4*x**2+f**2)/x*f,f,simplify=False)"
   ]
  },
  {
   "cell_type": "code",
   "execution_count": 65,
   "id": "d31bde11-5d6e-4e11-9a95-d4fbca46e4b7",
   "metadata": {},
   "outputs": [
    {
     "ename": "TypeError",
     "evalue": "'f' object is not callable",
     "output_type": "error",
     "traceback": [
      "\u001b[0;31m---------------------------------------------------------------------------\u001b[0m",
      "\u001b[0;31mTypeError\u001b[0m                                 Traceback (most recent call last)",
      "\u001b[0;32m/tmp/ipykernel_1693/3957461718.py\u001b[0m in \u001b[0;36m<module>\u001b[0;34m\u001b[0m\n\u001b[1;32m      1\u001b[0m \u001b[0mdx\u001b[0m\u001b[0;34m,\u001b[0m \u001b[0mdy\u001b[0m \u001b[0;34m=\u001b[0m \u001b[0msym\u001b[0m\u001b[0;34m.\u001b[0m\u001b[0msymbols\u001b[0m\u001b[0;34m(\u001b[0m\u001b[0;34m'dx dy'\u001b[0m\u001b[0;34m)\u001b[0m\u001b[0;34m\u001b[0m\u001b[0;34m\u001b[0m\u001b[0m\n\u001b[0;32m----> 2\u001b[0;31m \u001b[0mf\u001b[0m \u001b[0;34m=\u001b[0m \u001b[0mf\u001b[0m\u001b[0;34m(\u001b[0m\u001b[0mx\u001b[0m\u001b[0;34m,\u001b[0m\u001b[0my\u001b[0m\u001b[0;34m)\u001b[0m\u001b[0;34m\u001b[0m\u001b[0;34m\u001b[0m\u001b[0m\n\u001b[0m\u001b[1;32m      3\u001b[0m \u001b[0msym\u001b[0m\u001b[0;34m.\u001b[0m\u001b[0mdsolve\u001b[0m\u001b[0;34m(\u001b[0m\u001b[0msym\u001b[0m\u001b[0;34m.\u001b[0m\u001b[0mcos\u001b[0m\u001b[0;34m(\u001b[0m\u001b[0mx\u001b[0m\u001b[0;34m+\u001b[0m\u001b[0my\u001b[0m\u001b[0;34m)\u001b[0m\u001b[0;34m*\u001b[0m\u001b[0mdx\u001b[0m \u001b[0;34m+\u001b[0m \u001b[0;34m(\u001b[0m\u001b[0;36m3\u001b[0m\u001b[0;34m*\u001b[0m\u001b[0my\u001b[0m\u001b[0;34m**\u001b[0m\u001b[0;36m2\u001b[0m \u001b[0;34m+\u001b[0m \u001b[0;36m2\u001b[0m\u001b[0;34m*\u001b[0m\u001b[0my\u001b[0m \u001b[0;34m+\u001b[0m \u001b[0msym\u001b[0m\u001b[0;34m.\u001b[0m\u001b[0mcos\u001b[0m\u001b[0;34m(\u001b[0m\u001b[0mx\u001b[0m\u001b[0;34m+\u001b[0m\u001b[0my\u001b[0m\u001b[0;34m)\u001b[0m\u001b[0;34m)\u001b[0m\u001b[0;34m*\u001b[0m\u001b[0mdy\u001b[0m\u001b[0;34m,\u001b[0m\u001b[0mf\u001b[0m\u001b[0;34m)\u001b[0m\u001b[0;34m\u001b[0m\u001b[0;34m\u001b[0m\u001b[0m\n",
      "\u001b[0;31mTypeError\u001b[0m: 'f' object is not callable"
     ]
    }
   ],
   "source": [
    "dx, dy = sym.symbols('dx dy')\n",
    "f = f(x,y)\n",
    "sym.dsolve(sym.cos(x+y)*dx + (3*y**2 + 2*y + sym.cos(x+y))*dy,f)"
   ]
  },
  {
   "cell_type": "code",
   "execution_count": null,
   "id": "4dd8ba38-0fcb-4ef4-82ab-a1cf84f2931a",
   "metadata": {},
   "outputs": [],
   "source": []
  }
 ],
 "metadata": {
  "kernelspec": {
   "display_name": "Python 3 (ipykernel)",
   "language": "python",
   "name": "python3"
  },
  "language_info": {
   "codemirror_mode": {
    "name": "ipython",
    "version": 3
   },
   "file_extension": ".py",
   "mimetype": "text/x-python",
   "name": "python",
   "nbconvert_exporter": "python",
   "pygments_lexer": "ipython3",
   "version": "3.9.7"
  }
 },
 "nbformat": 4,
 "nbformat_minor": 5
}
