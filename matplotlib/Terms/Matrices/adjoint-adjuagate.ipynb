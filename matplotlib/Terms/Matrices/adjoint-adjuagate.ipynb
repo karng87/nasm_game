{
 "cells": [
  {
   "cell_type": "code",
   "execution_count": null,
   "id": "8533aaf5-0f00-4dc2-b302-c780657dfc3e",
   "metadata": {},
   "outputs": [],
   "source": []
  },
  {
   "cell_type": "code",
   "execution_count": 110,
   "id": "dca13ddc-2a63-4a2f-a0ca-658dd98e534f",
   "metadata": {},
   "outputs": [
    {
     "data": {
      "text/latex": [
       "$\\displaystyle \\left[\\begin{matrix}\\frac{A_{1, 1} A_{2, 2} - A_{1, 2} A_{2, 1}}{A_{0, 0} A_{1, 1} A_{2, 2} - A_{0, 0} A_{1, 2} A_{2, 1} - A_{0, 1} A_{1, 0} A_{2, 2} + A_{0, 1} A_{1, 2} A_{2, 0} + A_{0, 2} A_{1, 0} A_{2, 1} - A_{0, 2} A_{1, 1} A_{2, 0}} & \\frac{- A_{0, 1} A_{2, 2} + A_{0, 2} A_{2, 1}}{A_{0, 0} A_{1, 1} A_{2, 2} - A_{0, 0} A_{1, 2} A_{2, 1} - A_{0, 1} A_{1, 0} A_{2, 2} + A_{0, 1} A_{1, 2} A_{2, 0} + A_{0, 2} A_{1, 0} A_{2, 1} - A_{0, 2} A_{1, 1} A_{2, 0}} & \\frac{A_{0, 1} A_{1, 2} - A_{0, 2} A_{1, 1}}{A_{0, 0} A_{1, 1} A_{2, 2} - A_{0, 0} A_{1, 2} A_{2, 1} - A_{0, 1} A_{1, 0} A_{2, 2} + A_{0, 1} A_{1, 2} A_{2, 0} + A_{0, 2} A_{1, 0} A_{2, 1} - A_{0, 2} A_{1, 1} A_{2, 0}}\\\\\\frac{- A_{1, 0} A_{2, 2} + A_{1, 2} A_{2, 0}}{A_{0, 0} A_{1, 1} A_{2, 2} - A_{0, 0} A_{1, 2} A_{2, 1} - A_{0, 1} A_{1, 0} A_{2, 2} + A_{0, 1} A_{1, 2} A_{2, 0} + A_{0, 2} A_{1, 0} A_{2, 1} - A_{0, 2} A_{1, 1} A_{2, 0}} & \\frac{A_{0, 0} A_{2, 2} - A_{0, 2} A_{2, 0}}{A_{0, 0} A_{1, 1} A_{2, 2} - A_{0, 0} A_{1, 2} A_{2, 1} - A_{0, 1} A_{1, 0} A_{2, 2} + A_{0, 1} A_{1, 2} A_{2, 0} + A_{0, 2} A_{1, 0} A_{2, 1} - A_{0, 2} A_{1, 1} A_{2, 0}} & \\frac{- A_{0, 0} A_{1, 2} + A_{0, 2} A_{1, 0}}{A_{0, 0} A_{1, 1} A_{2, 2} - A_{0, 0} A_{1, 2} A_{2, 1} - A_{0, 1} A_{1, 0} A_{2, 2} + A_{0, 1} A_{1, 2} A_{2, 0} + A_{0, 2} A_{1, 0} A_{2, 1} - A_{0, 2} A_{1, 1} A_{2, 0}}\\\\\\frac{A_{1, 0} A_{2, 1} - A_{1, 1} A_{2, 0}}{A_{0, 0} A_{1, 1} A_{2, 2} - A_{0, 0} A_{1, 2} A_{2, 1} - A_{0, 1} A_{1, 0} A_{2, 2} + A_{0, 1} A_{1, 2} A_{2, 0} + A_{0, 2} A_{1, 0} A_{2, 1} - A_{0, 2} A_{1, 1} A_{2, 0}} & \\frac{- A_{0, 0} A_{2, 1} + A_{0, 1} A_{2, 0}}{A_{0, 0} A_{1, 1} A_{2, 2} - A_{0, 0} A_{1, 2} A_{2, 1} - A_{0, 1} A_{1, 0} A_{2, 2} + A_{0, 1} A_{1, 2} A_{2, 0} + A_{0, 2} A_{1, 0} A_{2, 1} - A_{0, 2} A_{1, 1} A_{2, 0}} & \\frac{A_{0, 0} A_{1, 1} - A_{0, 1} A_{1, 0}}{A_{0, 0} A_{1, 1} A_{2, 2} - A_{0, 0} A_{1, 2} A_{2, 1} - A_{0, 1} A_{1, 0} A_{2, 2} + A_{0, 1} A_{1, 2} A_{2, 0} + A_{0, 2} A_{1, 0} A_{2, 1} - A_{0, 2} A_{1, 1} A_{2, 0}}\\end{matrix}\\right]$"
      ],
      "text/plain": [
       "Matrix([\n",
       "[ (A[1, 1]*A[2, 2] - A[1, 2]*A[2, 1])/(A[0, 0]*A[1, 1]*A[2, 2] - A[0, 0]*A[1, 2]*A[2, 1] - A[0, 1]*A[1, 0]*A[2, 2] + A[0, 1]*A[1, 2]*A[2, 0] + A[0, 2]*A[1, 0]*A[2, 1] - A[0, 2]*A[1, 1]*A[2, 0]), (-A[0, 1]*A[2, 2] + A[0, 2]*A[2, 1])/(A[0, 0]*A[1, 1]*A[2, 2] - A[0, 0]*A[1, 2]*A[2, 1] - A[0, 1]*A[1, 0]*A[2, 2] + A[0, 1]*A[1, 2]*A[2, 0] + A[0, 2]*A[1, 0]*A[2, 1] - A[0, 2]*A[1, 1]*A[2, 0]),  (A[0, 1]*A[1, 2] - A[0, 2]*A[1, 1])/(A[0, 0]*A[1, 1]*A[2, 2] - A[0, 0]*A[1, 2]*A[2, 1] - A[0, 1]*A[1, 0]*A[2, 2] + A[0, 1]*A[1, 2]*A[2, 0] + A[0, 2]*A[1, 0]*A[2, 1] - A[0, 2]*A[1, 1]*A[2, 0])],\n",
       "[(-A[1, 0]*A[2, 2] + A[1, 2]*A[2, 0])/(A[0, 0]*A[1, 1]*A[2, 2] - A[0, 0]*A[1, 2]*A[2, 1] - A[0, 1]*A[1, 0]*A[2, 2] + A[0, 1]*A[1, 2]*A[2, 0] + A[0, 2]*A[1, 0]*A[2, 1] - A[0, 2]*A[1, 1]*A[2, 0]),  (A[0, 0]*A[2, 2] - A[0, 2]*A[2, 0])/(A[0, 0]*A[1, 1]*A[2, 2] - A[0, 0]*A[1, 2]*A[2, 1] - A[0, 1]*A[1, 0]*A[2, 2] + A[0, 1]*A[1, 2]*A[2, 0] + A[0, 2]*A[1, 0]*A[2, 1] - A[0, 2]*A[1, 1]*A[2, 0]), (-A[0, 0]*A[1, 2] + A[0, 2]*A[1, 0])/(A[0, 0]*A[1, 1]*A[2, 2] - A[0, 0]*A[1, 2]*A[2, 1] - A[0, 1]*A[1, 0]*A[2, 2] + A[0, 1]*A[1, 2]*A[2, 0] + A[0, 2]*A[1, 0]*A[2, 1] - A[0, 2]*A[1, 1]*A[2, 0])],\n",
       "[ (A[1, 0]*A[2, 1] - A[1, 1]*A[2, 0])/(A[0, 0]*A[1, 1]*A[2, 2] - A[0, 0]*A[1, 2]*A[2, 1] - A[0, 1]*A[1, 0]*A[2, 2] + A[0, 1]*A[1, 2]*A[2, 0] + A[0, 2]*A[1, 0]*A[2, 1] - A[0, 2]*A[1, 1]*A[2, 0]), (-A[0, 0]*A[2, 1] + A[0, 1]*A[2, 0])/(A[0, 0]*A[1, 1]*A[2, 2] - A[0, 0]*A[1, 2]*A[2, 1] - A[0, 1]*A[1, 0]*A[2, 2] + A[0, 1]*A[1, 2]*A[2, 0] + A[0, 2]*A[1, 0]*A[2, 1] - A[0, 2]*A[1, 1]*A[2, 0]),  (A[0, 0]*A[1, 1] - A[0, 1]*A[1, 0])/(A[0, 0]*A[1, 1]*A[2, 2] - A[0, 0]*A[1, 2]*A[2, 1] - A[0, 1]*A[1, 0]*A[2, 2] + A[0, 1]*A[1, 2]*A[2, 0] + A[0, 2]*A[1, 0]*A[2, 1] - A[0, 2]*A[1, 1]*A[2, 0])]])"
      ]
     },
     "execution_count": 110,
     "metadata": {},
     "output_type": "execute_result"
    }
   ],
   "source": [
    "import sympy as sm\n",
    "i,j,k,l,m,n = sm.symbols('i j k l m n',cls=sm.Idx)\n",
    "# Minor matrix\n",
    "M1 = sm.MatrixSymbol('A',m,n)\n",
    "M2 = sm.MatrixSymbol('B',m,n)\n",
    "T = sm.Matrix([[1,2,3],[2,2,5],[3,3,2]])\n",
    "T.det()\n",
    "\n",
    "A = sm.Matrix(M1.subs([(m,3),(n,3)]))\n",
    "B = sm.Matrix(M2.subs([(m,2),(n,2)]))\n",
    "\n",
    "# minor matrix\n",
    "A.minorMatrix(0,0)\n",
    "B.minorMatrix(0,0)\n",
    "A.minor(0,0)\n",
    "B.minor(0,0)\n",
    "\n",
    "# cofactor matrix\n",
    "B.cofactorMatrix()\n",
    "A.cofactorMatrix()\n",
    "\n",
    "# aejoin matrix\n",
    "A.adjugate()\n",
    "B.adjugate()\n",
    "\n",
    "# determinat\n",
    "A.det()\n",
    "B.det()\n",
    "\n",
    "# inverse\n",
    "(1/A.det()*(A*A.cofactorMatrix().T))\n",
    "(1/A.det())*(A.adjugate())"
   ]
  },
  {
   "cell_type": "code",
   "execution_count": 115,
   "id": "e3141d94-ed44-4caa-a47e-e5b98ef362ef",
   "metadata": {},
   "outputs": [
    {
     "data": {
      "text/latex": [
       "$\\displaystyle \\left[\\begin{matrix}A_{1, 1} A_{2, 2} - A_{1, 2} A_{2, 1} & - A_{0, 1} A_{2, 2} + A_{0, 2} A_{2, 1} & A_{0, 1} A_{1, 2} - A_{0, 2} A_{1, 1}\\\\- A_{1, 0} A_{2, 2} + A_{1, 2} A_{2, 0} & A_{0, 0} A_{2, 2} - A_{0, 2} A_{2, 0} & - A_{0, 0} A_{1, 2} + A_{0, 2} A_{1, 0}\\\\A_{1, 0} A_{2, 1} - A_{1, 1} A_{2, 0} & - A_{0, 0} A_{2, 1} + A_{0, 1} A_{2, 0} & A_{0, 0} A_{1, 1} - A_{0, 1} A_{1, 0}\\end{matrix}\\right]$"
      ],
      "text/plain": [
       "Matrix([\n",
       "[ A[1, 1]*A[2, 2] - A[1, 2]*A[2, 1], -A[0, 1]*A[2, 2] + A[0, 2]*A[2, 1],  A[0, 1]*A[1, 2] - A[0, 2]*A[1, 1]],\n",
       "[-A[1, 0]*A[2, 2] + A[1, 2]*A[2, 0],  A[0, 0]*A[2, 2] - A[0, 2]*A[2, 0], -A[0, 0]*A[1, 2] + A[0, 2]*A[1, 0]],\n",
       "[ A[1, 0]*A[2, 1] - A[1, 1]*A[2, 0], -A[0, 0]*A[2, 1] + A[0, 1]*A[2, 0],  A[0, 0]*A[1, 1] - A[0, 1]*A[1, 0]]])"
      ]
     },
     "execution_count": 115,
     "metadata": {},
     "output_type": "execute_result"
    }
   ],
   "source": [
    "A.adjugate()"
   ]
  },
  {
   "cell_type": "code",
   "execution_count": 114,
   "id": "3ddeb899-a87a-44b3-8bc5-ad3eb32b3fd3",
   "metadata": {},
   "outputs": [
    {
     "data": {
      "text/latex": [
       "$\\displaystyle A_{1, 1} A_{2, 2} - A_{1, 2} A_{2, 1}$"
      ],
      "text/plain": [
       "A[1, 1]*A[2, 2] - A[1, 2]*A[2, 1]"
      ]
     },
     "execution_count": 114,
     "metadata": {},
     "output_type": "execute_result"
    }
   ],
   "source": [
    "sm.Sum(A[i,j]*A[j,k],(j,0,2))\n",
    "A.cofactor(0,0)"
   ]
  },
  {
   "cell_type": "code",
   "execution_count": 66,
   "id": "05c0e873-9e11-4c31-b9ad-0b701ee80b17",
   "metadata": {
    "tags": []
   },
   "outputs": [
    {
     "data": {
      "text/latex": [
       "$\\displaystyle -11$"
      ],
      "text/plain": [
       "-11"
      ]
     },
     "execution_count": 66,
     "metadata": {},
     "output_type": "execute_result"
    }
   ],
   "source": [
    "# minor (소행열 식)\n",
    "T.minor(0,1)"
   ]
  },
  {
   "cell_type": "code",
   "execution_count": 67,
   "id": "ee66f885-e441-452e-88f5-8543d0af9ebf",
   "metadata": {},
   "outputs": [
    {
     "data": {
      "text/latex": [
       "$\\displaystyle 11$"
      ],
      "text/plain": [
       "11"
      ]
     },
     "execution_count": 67,
     "metadata": {},
     "output_type": "execute_result"
    }
   ],
   "source": [
    "# cofactor (여인수)\n",
    "T.cofactor(0,1)"
   ]
  },
  {
   "cell_type": "code",
   "execution_count": 77,
   "id": "591d4690-e157-40b7-8d7e-6d5c896626a5",
   "metadata": {},
   "outputs": [
    {
     "data": {
      "text/latex": [
       "$\\displaystyle \\left[\\begin{matrix}-1 & 1 & 0\\\\\\frac{5}{11} & - \\frac{7}{11} & \\frac{3}{11}\\\\\\frac{4}{11} & \\frac{1}{11} & - \\frac{2}{11}\\end{matrix}\\right]$"
      ],
      "text/plain": [
       "Matrix([\n",
       "[  -1,     1,     0],\n",
       "[5/11, -7/11,  3/11],\n",
       "[4/11,  1/11, -2/11]])"
      ]
     },
     "execution_count": 77,
     "metadata": {},
     "output_type": "execute_result"
    }
   ],
   "source": [
    "# cofactor matrix(여인수 행열)\n",
    "T.cofactorMatrix()/T.det()"
   ]
  },
  {
   "cell_type": "markdown",
   "id": "b52bddaf-cda9-4028-8e39-9fb6ae8ce1ba",
   "metadata": {},
   "source": [
    "# inverse\n",
    "> ### $\n",
    "AA^{-1} = I, \\quad A^{-1} = B \\\\\n",
    "A\\vec{x} = \\vec{k} \n",
    "\\\\ \\Rightarrow (A^{-1}A)\\vec{x} = A^{-1}\\vec{k}\n",
    "\\\\ \\therefore \\vec{x} = A^{-1}\\vec{k}\n",
    "$\n",
    "> ### 1차원 : 길이로 나눈다\n",
    ">> ### $ A = \\Big[ a_{11} \\Big], x = [x_{11}], k = [k_{11}] \n",
    "\\\\ \\quad \\because A^{-1} = (a_{11})^{-1} = frac{1}{a_{11}} \\\\\n",
    "\\mapsto Ax = b \\to x_{11} = \\frac{k_{11}}{a_{11}}$\n",
    "> ### 2차원 : ()으로 나눈다\n",
    ">> ### $\n",
    "A = \\left[ \\begin{array}{}\n",
    "a_{11} & a_{12} \\\\ a_{21} & a_{22}\n",
    "\\end{array}\\right]\n",
    "= \\left[ \\begin{array}{}\n",
    "a & b \\\\ c &  d\n",
    "\\end{array}\\right]\n",
    "\\\\ A\\vec{x} = \\vec{k} \\Rightarrow \n",
    "\\left[ \\begin{array}{}\n",
    "a & b \\\\ c & d\n",
    "\\end{array}\\right]\n",
    "\\left[ \\begin{array}{}\n",
    "x \\\\ y\n",
    "\\end{array}\\right]\n",
    "=\n",
    "\\left[ \\begin{array}{}\n",
    "u \\\\ v\n",
    "\\end{array}\\right]\n",
    "$\n"
   ]
  },
  {
   "cell_type": "code",
   "execution_count": 72,
   "id": "9b402c4c-c2a8-43a4-9c80-5490301cedc4",
   "metadata": {
    "tags": []
   },
   "outputs": [
    {
     "data": {
      "text/latex": [
       "$\\displaystyle \\left[\\begin{matrix}-11 & 5 & 4\\\\11 & -7 & 1\\\\0 & 3 & -2\\end{matrix}\\right]$"
      ],
      "text/plain": [
       "Matrix([\n",
       "[-11,  5,  4],\n",
       "[ 11, -7,  1],\n",
       "[  0,  3, -2]])"
      ]
     },
     "execution_count": 72,
     "metadata": {},
     "output_type": "execute_result"
    }
   ],
   "source": [
    "# adjoin marix(수반행열) = cofactor matrix.transpose()\n",
    "# ad - bc \n",
    "T.adjugate()\n",
    "a+bi c+di\n",
    "[ab] [cd] [real imag]\n",
    "ad - bc "
   ]
  },
  {
   "cell_type": "code",
   "execution_count": 70,
   "id": "372d9818-c5b9-4a9d-80ab-9ace997233b7",
   "metadata": {},
   "outputs": [
    {
     "data": {
      "text/latex": [
       "$\\displaystyle \\left[\\begin{matrix}-1 & \\frac{5}{11} & \\frac{4}{11}\\\\1 & - \\frac{7}{11} & \\frac{1}{11}\\\\0 & \\frac{3}{11} & - \\frac{2}{11}\\end{matrix}\\right]$"
      ],
      "text/plain": [
       "Matrix([\n",
       "[-1,  5/11,  4/11],\n",
       "[ 1, -7/11,  1/11],\n",
       "[ 0,  3/11, -2/11]])"
      ]
     },
     "execution_count": 70,
     "metadata": {},
     "output_type": "execute_result"
    }
   ],
   "source": [
    "T.adjugate()/T.det()"
   ]
  },
  {
   "cell_type": "code",
   "execution_count": 58,
   "id": "229a4bfb-4487-4cf5-b03a-df49af7b1906",
   "metadata": {},
   "outputs": [
    {
     "data": {
      "text/latex": [
       "$\\displaystyle 0$"
      ],
      "text/plain": [
       "0"
      ]
     },
     "execution_count": 58,
     "metadata": {},
     "output_type": "execute_result"
    }
   ],
   "source": [
    "T.det()"
   ]
  },
  {
   "cell_type": "code",
   "execution_count": null,
   "id": "c3e98993-d149-49c1-b60c-dc845595c060",
   "metadata": {},
   "outputs": [],
   "source": []
  }
 ],
 "metadata": {
  "kernelspec": {
   "display_name": "Python 3 (ipykernel)",
   "language": "python",
   "name": "python3"
  },
  "language_info": {
   "codemirror_mode": {
    "name": "ipython",
    "version": 3
   },
   "file_extension": ".py",
   "mimetype": "text/x-python",
   "name": "python",
   "nbconvert_exporter": "python",
   "pygments_lexer": "ipython3",
   "version": "3.10.1"
  }
 },
 "nbformat": 4,
 "nbformat_minor": 5
}
