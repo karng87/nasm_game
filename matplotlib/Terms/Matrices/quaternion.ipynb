{
 "cells": [
  {
   "cell_type": "markdown",
   "id": "4d0a5530-08f3-4350-8ec3-a8913656f399",
   "metadata": {},
   "source": [
    "# $\\color{red}{\\text{Quaternion Matrix}}$\n",
    "> ### $\n",
    "(a + bi + cj + dk) =: (a,\\vec{v}), \\quad\n",
    "(e + fi + gj + hk) =: (e, \\vec{w})\n",
    "\\\\\n",
    "(a,\\vec{v})(e,\\vec{w})\n",
    "= (ae - (bf + cg + dh),  a(f+g+h) + e(b+c+d) + (ch-dg)_{jkj} + (df-bh)_{kik} + (bg-cf)_{iji})\n",
    "\\\\\n",
    "\\therefore \n",
    "\\Big(ae - \\big(\\vec{v} \\cdot \\vec{w}\\big), \\;\n",
    "a\\vec{w} + b\\vec{v} + \\big(\\vec{v} \\times \\vec{w}\\big) \\Big)\n",
    "\\\\\n",
    "(a,b,c,d)(e,f,g,h) = \\left( \\begin{array}{l|l}\n",
    "ae - bf - cg - dh & scalar\\\\\n",
    "be + af - dg + ch & i\\\\\n",
    "ce + df + ag - bh & j\\\\\n",
    "de - cf + bg + ah & k\n",
    "\\end{array}\\right)\n",
    "\\because ijk = -1,\\quad i^2, j^2 , k^2 = -1,\\quad ij = k ,jk = i,ki= j\n",
    "$"
   ]
  },
  {
   "cell_type": "code",
   "execution_count": 95,
   "id": "ca52d18f-a3ce-4e5f-b7c9-32a090569f34",
   "metadata": {},
   "outputs": [
    {
     "data": {
      "text/html": [
       "\n",
       "        <iframe\n",
       "            width=\"800\"\n",
       "            height=\"640\"\n",
       "            src=\"https://www.youtube.com/embed/https://www.youtube.com/watch?v=3Ki14CsP_9k&list=PLpzmRsG7u_gr0FO12cBWj-15_e0yqQQ1U&index=2\"\n",
       "            frameborder=\"0\"\n",
       "            allowfullscreen\n",
       "            \n",
       "        ></iframe>\n",
       "        "
      ],
      "text/plain": [
       "<IPython.lib.display.YouTubeVideo at 0x7fb12fa78e50>"
      ]
     },
     "execution_count": 95,
     "metadata": {},
     "output_type": "execute_result"
    }
   ],
   "source": [
    "# Quaternion Matrix\n",
    "import IPython as Ipy\n",
    "Ipy.display.YouTubeVideo('https://www.youtube.com/watch?v=3Ki14CsP_9k&list=PLpzmRsG7u_gr0FO12cBWj-15_e0yqQQ1U&index=2',width=800,height=640)"
   ]
  },
  {
   "cell_type": "code",
   "execution_count": 114,
   "id": "7b8606d1-99c5-41d0-9ec7-4af6eff4394d",
   "metadata": {},
   "outputs": [
    {
     "data": {
      "text/latex": [
       "$\\displaystyle \\left[\\begin{matrix}-1 & 0 & 0 & 0\\\\0 & -1 & 0 & 0\\\\0 & 0 & -1 & 0\\\\0 & 0 & 0 & -1\\end{matrix}\\right]$"
      ],
      "text/plain": [
       "Matrix([\n",
       "[-1,  0,  0,  0],\n",
       "[ 0, -1,  0,  0],\n",
       "[ 0,  0, -1,  0],\n",
       "[ 0,  0,  0, -1]])"
      ]
     },
     "execution_count": 114,
     "metadata": {},
     "output_type": "execute_result"
    }
   ],
   "source": [
    "import sympy as sm\n",
    "#a,b,c,d,e,f,g,h = sm.symbols('a:h')\n",
    "\n",
    "# quaternion muliply matrix\n",
    "# a + bi + cj + dk = (a,b,c,d)\n",
    "# a = scalar b = coeffient of i \n",
    "MQ = sm.Matrix([\n",
    "    [a,-b,-c,-d],\n",
    "    [b, a,-d, c],\n",
    "    [c, d, a,-b],\n",
    "    [d,-c, b, a]])\n",
    "q1 = sm.Matrix([e,f,g,h,])\n",
    "\n",
    "\n",
    "# list(i for i in zip(q1,[1,2,3,4]))\n",
    "# dict(i for i in zip(q1,[1,2,3,4]))\n",
    "\n",
    "# a = scalar\n",
    "I = sm.Matrix([1,0,0,0])\n",
    "# i = b vector\n",
    "i = sm.Matrix([\n",
    "    [ 0,-1, 0, 0],\n",
    "    [ 1, 0, 0, 0],\n",
    "    [ 0, 0, 0,-1],\n",
    "    [ 0, 0, 1, 0],\n",
    "])\n",
    "# j = c\n",
    "j = sm.Matrix([\n",
    "    [ 0, 0,-1, 0],\n",
    "    [ 0, 0, 0, 1],\n",
    "    [ 1, 0, 0, 0],\n",
    "    [ 0,-1, 0, 0],\n",
    "])\n",
    "# k = d\n",
    "k = sm.Matrix([\n",
    "    [ 0, 0, 0,-1],\n",
    "    [ 0, 0,-1, 0],\n",
    "    [ 0, 1, 0, 0],\n",
    "    [ 1, 0, 0, 0],\n",
    "])\n",
    "i*j*k"
   ]
  },
  {
   "cell_type": "code",
   "execution_count": null,
   "id": "22b79f48-8677-4d01-917f-d1b74a699c76",
   "metadata": {},
   "outputs": [],
   "source": []
  },
  {
   "cell_type": "markdown",
   "id": "afcf6456-3165-4308-8cd1-76d2157a1a76",
   "metadata": {},
   "source": [
    "# $\\color{red}{\\text{Quaternion Multiplication}}$\n",
    "> ### $\n",
    "(qs_{1}, \\vec{qv_{1}})(qs_{2},\\vec{qv_{2}})\n",
    "\\\\ \\therefore \\Big( qs_{1} qs_{2} -  \\big(\\vec{qv_{1}}  \\cdot \\vec{qv_{2}}\\big),\n",
    "\\; qs_1 \\vec{qv_{2}} + qs_2 \\vec{qv_{1}} + \\big(\\vec{qv_{1}}\\times\\vec{qv_{2}}\\big) \\Big)\n",
    "\\\\\n",
    "$"
   ]
  },
  {
   "cell_type": "markdown",
   "id": "051aea9c-4bb0-4f3d-a6a8-70db70cbbc7b",
   "metadata": {},
   "source": [
    "> ### $\n",
    "(0, \\vec{qv_{1}})(0,\\vec{qv_{2}})\n",
    "\\\\ \\therefore \\Big(-\\vec{qv_{1}}  \\cdot \\vec{qv_{2}},\n",
    "\\; \\vec{qv_{1}}\\times\\vec{qv_{2}} \\Big)\n",
    "\\\\\n",
    "$"
   ]
  },
  {
   "cell_type": "markdown",
   "id": "263fe7db-1221-4114-b374-943f4cd4718d",
   "metadata": {},
   "source": [
    "> ### $\n",
    "(0, \\vec{qv_{2}})(0,\\vec{qv_{1}})\n",
    "\\\\ \\therefore \\Big(-\\vec{qv_{1}}  \\cdot \\vec{qv_{2}},\n",
    "\\; \\vec{qv_{2}}\\times\\vec{qv_{1}} \\Big) \n",
    "\\iff \\Big(-\\vec{qv_{1}}  \\cdot \\vec{qv_{2}},\n",
    "\\; - \\vec{qv_{1}}\\times\\vec{qv_{2}} \\Big) \n",
    "\\\\\n",
    "$"
   ]
  },
  {
   "cell_type": "markdown",
   "id": "857eab91-2f49-4bec-8b9c-5e03257e1583",
   "metadata": {},
   "source": [
    "> ### $\n",
    "q_1 = (0, \\vec{qv_{1}}) \\quad q_2 = (0,\\vec{qv_{2}})\n",
    "\\\\ \n",
    "\\begin{array}{c|l}\n",
    "\\\\ &q_1 q_2 = \\Big(-\\vec{qv_{1}}  \\cdot \\vec{qv_{2}},\n",
    "\\; \\vec{qv_{1}}\\times\\vec{qv_{2}} \\Big) \n",
    "\\\\\n",
    "\\pm & q_2 q_1 = \\Big(-\\vec{qv_{1}}  \\cdot \\vec{qv_{2}},\n",
    "\\; - \\vec{qv_{1}}\\times\\vec{qv_{2}} \\Big) \\\\\n",
    "& \\hline \\\\ \n",
    "& q_1 q_2 + q_2 q_1 = \\Big(-2\\big(\\vec{qv_1} \\cdot \\vec{qv_2},\\; 0\\big) \\Big)\n",
    "= -2\\Big( \\vec{q_1} \\cdot \\vec{q_2}\\Big)\\\\\n",
    "& q_1 q_2 - q_2 q_1 = \\Big(0,\\; 2\\big(\\vec{qv_1} \\times \\vec{qv_2}\\big) \\Big)\n",
    "= 2\\Big( \\vec{qv_1} \\times \\vec{qv_2}\\Big)\n",
    "\\end{array}\n",
    "\\\\\n",
    "\\because \\vec{qv_1} \\times \\vec{qv_2} = \\frac{1}{2}\\Big(q_1 q_2 - q_2 q_1 \\Big)\n",
    "= \\frac{1}{2}\\Big[q_1,q_2\\Big]\n",
    "$\n",
    "## 교환자 ($\\color{magenta}{commutator}$)\n",
    "> ### $\n",
    "\\therefore \\Big[q_1, q_2 \\Big] = 2\\big( \\vec{qv_1} \\times \\vec{qv_2} \\big)\n",
    "\\quad s.t \\;q_1=(0,\\vec{qv_1}),q_2=(0,\\vec{qv_2})\n",
    "\\\\ \\therefore \\vec{qv_1} \\times \\vec{qv_2} = \\frac{1}{2}\\Big[q_1, q_2 \\Big]\n",
    "\\quad s.t \\; \\Big[A,B\\Big] = AB - BA\n",
    "$"
   ]
  },
  {
   "cell_type": "code",
   "execution_count": 112,
   "id": "be459399-5c2c-4641-aa89-7c0e2f1a560b",
   "metadata": {},
   "outputs": [
    {
     "data": {
      "text/html": [
       "\n",
       "        <iframe\n",
       "            width=\"800\"\n",
       "            height=\"600\"\n",
       "            src=\"https://ko.wikipedia.org/wiki/%EA%B5%90%ED%99%98%EC%9E%90_(%ED%99%98%EB%A1%A0)#%EC%A0%95%EC%9D%98\"\n",
       "            frameborder=\"0\"\n",
       "            allowfullscreen\n",
       "            \n",
       "        ></iframe>\n",
       "        "
      ],
      "text/plain": [
       "<IPython.lib.display.IFrame at 0x7fb12f8b3970>"
      ]
     },
     "execution_count": 112,
     "metadata": {},
     "output_type": "execute_result"
    }
   ],
   "source": [
    "# commutator\n",
    "Ipy.display.IFrame('https://ko.wikipedia.org/wiki/%EA%B5%90%ED%99%98%EC%9E%90_(%ED%99%98%EB%A1%A0)#%EC%A0%95%EC%9D%98',width=800,height=600)"
   ]
  },
  {
   "cell_type": "code",
   "execution_count": 113,
   "id": "aaa48a6a-0e17-4913-b802-390996f87287",
   "metadata": {},
   "outputs": [
    {
     "data": {
      "text/html": [
       "\n",
       "        <iframe\n",
       "            width=\"800\"\n",
       "            height=\"600\"\n",
       "            src=\"https://www.youtube.com/embed/https://www.youtube.com/watch?v=UaK2q22mMEg&list=PLpzmRsG7u_gr0FO12cBWj-15_e0yqQQ1U&index=4\"\n",
       "            frameborder=\"0\"\n",
       "            allowfullscreen\n",
       "            \n",
       "        ></iframe>\n",
       "        "
      ],
      "text/plain": [
       "<IPython.lib.display.YouTubeVideo at 0x7fb12f842040>"
      ]
     },
     "execution_count": 113,
     "metadata": {},
     "output_type": "execute_result"
    }
   ],
   "source": [
    "Ipy.display.YouTubeVideo('https://www.youtube.com/watch?v=UaK2q22mMEg&list=PLpzmRsG7u_gr0FO12cBWj-15_e0yqQQ1U&index=4',width=800,height=600)"
   ]
  },
  {
   "cell_type": "markdown",
   "id": "b0ae670b-5940-487c-9f4a-fc3cf60de68c",
   "metadata": {},
   "source": [
    "# $\\color{red}{\\text{Rotation}}$ of special angle\n",
    "> ### $ q^{v}_{r} = cos(\\theta) q^{v}_{1} + sin(\\theta)\\big(\\hat{q}^{v}_{axis} \\times q^{v}_{1} \\big)$\n",
    ">> ### $\n",
    "\\hat{q^{v}_{n}} \\times q^{v}_{1}\n",
    "\\left \\{ \n",
    "\\begin{array}{}\n",
    "q_1 = (0, q^v_1) \\\\\n",
    "q_r = (0, q^v_r) \\\\\n",
    "q_{axis} = (0, q^{v}_{axis}) : \\text{rotation axis} \\\\\n",
    "q_n = (0, \\hat{q}^{v}_{axis}) = (0, q^v_n) : \\text{nomalize of q_axis}\\\\\n",
    "\\end{array} \\right .\n",
    "\\\\\n",
    "q_n q_{1} \n",
    "\\left \\{ \n",
    "\\begin{array}{}\n",
    "\\big(0,q^v_n\\big)\\big(0,q^v_1\\big)\n",
    "\\\\  \\because q_n q_1 = (-q^v_n \\cdot q^v_1, \\; q^v_n \\times q^v_1),\\; q_n \\perp q_1\n",
    "\\\\ (0, q^v_n \\times q^v_1) \\iff q^v_n \\times q^v_1 \\; \\because q^v_n = \\hat{q}^v_{axix}\n",
    "\\\\\n",
    "\\therefore q^v_n \\times q^v_1 = q^v_n q^v_1 = q_n q_1\n",
    "\\end{array} \\right .\n",
    "$"
   ]
  },
  {
   "cell_type": "markdown",
   "id": "4009052f-214a-44aa-bcf3-bffe333161cf",
   "metadata": {},
   "source": [
    "> ### $ q^v_r = \\cos(\\theta)q^v_1 + \\sin(\\theta) \\big(q^v_n \\times q^v_1 \\big)\n",
    "\\\\ \\therefore q_r = \\cos(\\theta)q_1 + \\sin(\\theta) \\big(q_n q_1 \\big) \\because q^s_1,q^s_n, q^s_r = 0\n",
    "\\\\ \\quad = \\big( \\cos(\\theta) + \\sin(\\theta)q_n \\big)q_1\n",
    "\\\\ \\quad = \\exp^{\\theta q_n}q_1 \n",
    "\\\\ \\quad = \\big( \\cos(\\theta) + \\sin(\\theta)\\hat{q}^{v}_{axis} \\big)q_1\n",
    "\\\\ \\quad = \\exp^{\\theta \\hat{q}^v_{axis}}q_1 \n",
    "\\\\ \\because q_n q_n  \n",
    "= (q_n)^2 \n",
    "= (0,q^v_{n})(0,q^v_n) \n",
    "= \\big( - q^v_n \\cdot q^v_n,\\; q^v_n \\times q^v_n) \\big) \\\\\n",
    "\\quad = (-1,0) \\;\\because q_n \\parallel q_n\n",
    "\\\\ \\therefore (q_n)^2 = -1 = i = j = k\n",
    "$\n"
   ]
  },
  {
   "cell_type": "code",
   "execution_count": 161,
   "id": "533700bc-53f3-45fe-bacd-b3ca4ade32ca",
   "metadata": {},
   "outputs": [
    {
     "ename": "ShapeError",
     "evalue": "Dimensions incorrect for cross product: (4, 1) x (4, 1)",
     "output_type": "error",
     "traceback": [
      "\u001b[0;31m---------------------------------------------------------------------------\u001b[0m",
      "\u001b[0;31mShapeError\u001b[0m                                Traceback (most recent call last)",
      "\u001b[0;32m/tmp/ipykernel_54670/3558850637.py\u001b[0m in \u001b[0;36m<module>\u001b[0;34m\u001b[0m\n\u001b[1;32m     11\u001b[0m \u001b[0mqn\u001b[0m \u001b[0;34m=\u001b[0m \u001b[0msm\u001b[0m\u001b[0;34m.\u001b[0m\u001b[0msqrt\u001b[0m\u001b[0;34m(\u001b[0m\u001b[0mn\u001b[0m\u001b[0;34m)\u001b[0m\u001b[0;34m*\u001b[0m\u001b[0mqa\u001b[0m\u001b[0;34m\u001b[0m\u001b[0;34m\u001b[0m\u001b[0m\n\u001b[1;32m     12\u001b[0m \u001b[0msm\u001b[0m\u001b[0;34m.\u001b[0m\u001b[0mcos\u001b[0m\u001b[0;34m(\u001b[0m\u001b[0mtheta\u001b[0m\u001b[0;34m)\u001b[0m\u001b[0;34m*\u001b[0m\u001b[0mq1\u001b[0m\u001b[0;34m\u001b[0m\u001b[0;34m\u001b[0m\u001b[0m\n\u001b[0;32m---> 13\u001b[0;31m \u001b[0mqn\u001b[0m\u001b[0;34m.\u001b[0m\u001b[0mcross\u001b[0m\u001b[0;34m(\u001b[0m\u001b[0mq1\u001b[0m\u001b[0;34m)\u001b[0m\u001b[0;34m\u001b[0m\u001b[0;34m\u001b[0m\u001b[0m\n\u001b[0m",
      "\u001b[0;32m~/.local/lib/python3.9/site-packages/sympy/matrices/matrices.py\u001b[0m in \u001b[0;36mcross\u001b[0;34m(self, b)\u001b[0m\n\u001b[1;32m   1290\u001b[0m \u001b[0;34m\u001b[0m\u001b[0m\n\u001b[1;32m   1291\u001b[0m         \u001b[0;32mif\u001b[0m \u001b[0;32mnot\u001b[0m \u001b[0;34m(\u001b[0m\u001b[0mself\u001b[0m\u001b[0;34m.\u001b[0m\u001b[0mrows\u001b[0m \u001b[0;34m*\u001b[0m \u001b[0mself\u001b[0m\u001b[0;34m.\u001b[0m\u001b[0mcols\u001b[0m \u001b[0;34m==\u001b[0m \u001b[0mb\u001b[0m\u001b[0;34m.\u001b[0m\u001b[0mrows\u001b[0m \u001b[0;34m*\u001b[0m \u001b[0mb\u001b[0m\u001b[0;34m.\u001b[0m\u001b[0mcols\u001b[0m \u001b[0;34m==\u001b[0m \u001b[0;36m3\u001b[0m\u001b[0;34m)\u001b[0m\u001b[0;34m:\u001b[0m\u001b[0;34m\u001b[0m\u001b[0;34m\u001b[0m\u001b[0m\n\u001b[0;32m-> 1292\u001b[0;31m             raise ShapeError(\"Dimensions incorrect for cross product: %s x %s\" %\n\u001b[0m\u001b[1;32m   1293\u001b[0m                              ((self.rows, self.cols), (b.rows, b.cols)))\n\u001b[1;32m   1294\u001b[0m         \u001b[0;32melse\u001b[0m\u001b[0;34m:\u001b[0m\u001b[0;34m\u001b[0m\u001b[0;34m\u001b[0m\u001b[0m\n",
      "\u001b[0;31mShapeError\u001b[0m: Dimensions incorrect for cross product: (4, 1) x (4, 1)"
     ]
    }
   ],
   "source": [
    "# Rotate q_1 = (1, -1, 0) by \\pi/3  radian about the axix q_{axix} = (1,1,1)\n",
    "\n",
    "q1 = sm.Matrix([0,1,-1,0])\n",
    "qa = sm.Matrix([0,1,1,1])\n",
    "theta = sm.pi/3\n",
    "qir, qjr, qkr = sm.symbols('q^(i:k)_r')\n",
    "qr = sm.Matrix([0,qir,qjr,qkr])\n",
    "n = 0\n",
    "for i in qa:\n",
    "    n += sm.sqrt(i)\n",
    "qn = sm.sqrt(n)*qa\n",
    "sm.cos(theta)*q1\n",
    "qn.cross(q1)"
   ]
  },
  {
   "cell_type": "code",
   "execution_count": null,
   "id": "f6ca5c29-e4c6-40a6-81cf-a4a5b9f15020",
   "metadata": {},
   "outputs": [],
   "source": []
  }
 ],
 "metadata": {
  "kernelspec": {
   "display_name": "Python 3 (ipykernel)",
   "language": "python",
   "name": "python3"
  },
  "language_info": {
   "codemirror_mode": {
    "name": "ipython",
    "version": 3
   },
   "file_extension": ".py",
   "mimetype": "text/x-python",
   "name": "python",
   "nbconvert_exporter": "python",
   "pygments_lexer": "ipython3",
   "version": "3.9.9"
  }
 },
 "nbformat": 4,
 "nbformat_minor": 5
}
