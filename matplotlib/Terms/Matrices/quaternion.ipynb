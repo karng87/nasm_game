{
 "cells": [
  {
   "cell_type": "markdown",
   "id": "b24ae860-0d48-43c1-874e-041346a4e2bf",
   "metadata": {},
   "source": [
    "# radian\n",
    "> ### cos direction\n",
    ">> ### $\n",
    "\\frac{\\sqrt{3}}{2} = (3 \\times 2) \\iff \\cos \\frac{\\pi}{6} \\\\\n",
    "\\frac{\\sqrt{2}}{2} = (2 \\times 2) \\iff \\cos \\frac{\\pi}{4} \\\\\n",
    "\\frac{1}{2} = (1 + 2) \\iff \\cos \\frac{\\pi}{3} = \\cos \\frac{2\\pi}{6} \\\\\n",
    "\\cos \\frac{\\pi}{4} = (4 \\div 2) \\iff \\frac{\\sqrt{2}}{2} \\\\\n",
    "\\cos \\frac{\\pi}{6} = (6 \\div 2) \\iff \\frac{\\sqrt{3}}{2} \\\\\n",
    "\\cos \\frac{\\pi}{3} = (3 \\div 2) = \\cos \\frac{2\\pi}{6} \\iff \\frac{1}{2} \\\\\n",
    "$"
   ]
  },
  {
   "cell_type": "code",
   "execution_count": 89,
   "id": "0979251f-ffc0-40bc-909c-1bfc7ee31981",
   "metadata": {
    "tags": []
   },
   "outputs": [
    {
     "data": {
      "text/latex": [
       "$\\displaystyle 2 + 3 i + 1 j + 4 k$"
      ],
      "text/plain": [
       "2 + 3*i + 1*j + 4*k"
      ]
     },
     "execution_count": 89,
     "metadata": {},
     "output_type": "execute_result"
    }
   ],
   "source": [
    "import sympy as sm\n",
    "import sympy.vector\n",
    "sm.algebras.quaternion.Quaternion(2,3,1,4)"
   ]
  },
  {
   "cell_type": "code",
   "execution_count": null,
   "id": "1ea886fc-fb15-4722-9005-05f982bc9d7f",
   "metadata": {},
   "outputs": [],
   "source": []
  },
  {
   "cell_type": "code",
   "execution_count": 159,
   "id": "edc6319c-8fc5-4882-a501-54689411b4dd",
   "metadata": {},
   "outputs": [
    {
     "data": {
      "text/latex": [
       "$\\displaystyle \\frac{1}{2} + \\frac{\\sqrt{3}}{2} i + 0 j + 0 k$"
      ],
      "text/plain": [
       "1/2 + sqrt(3)/2*i + 0*j + 0*k"
      ]
     },
     "execution_count": 159,
     "metadata": {},
     "output_type": "execute_result"
    }
   ],
   "source": [
    "x,y,z = sm.symbols('x y z')\n",
    "a0,a1,a2,a3,b0,b1,b2,b3 = sm.symbols('a_(0:4), b_(0:4)')\n",
    "q1 = sm.algebras.quaternion.Quaternion(a0,a1,a2,a3)\n",
    "q2 = sm.algebras.quaternion.Quaternion(b0,b1,b2,b3)\n",
    "q1.to_rotation_matrix()\n",
    "\n",
    "# rotation 90 wrt axis(1,1,1)\n",
    "## (cos(90/2) + sin(90/2))*(\\vec{v})*(cos(90/2)-sin(90/2))\n",
    "v = N.i + N.j + N.k\n",
    "q1.from_axis_angle((1,0,0),sm.pi/2)\n",
    "q1.from_axis_angle((1,0,0),sm.pi/3)\n",
    "q1.from_axis_angle((1,0,0),2*sm.pi/3)"
   ]
  },
  {
   "cell_type": "code",
   "execution_count": 171,
   "id": "e32235d0-d823-46d5-89f6-a77f36ca9954",
   "metadata": {
    "tags": []
   },
   "outputs": [
    {
     "data": {
      "text/latex": [
       "$\\displaystyle \\frac{\\sqrt{3}}{2}$"
      ],
      "text/plain": [
       "sqrt(3)/2"
      ]
     },
     "execution_count": 171,
     "metadata": {},
     "output_type": "execute_result"
    }
   ],
   "source": [
    "sm.sqrt((sm.sqrt(3)/6)**2 + (sm.sqrt(3)/6)**2 + (sm.sqrt(3)/3)**2)\n",
    "(sm.sqrt(2)/2)/(sm.sqrt(7)/14)\n",
    "sm.cos(sm.pi/6)"
   ]
  },
  {
   "cell_type": "code",
   "execution_count": 111,
   "id": "37dc7c5a-4b3b-4a4e-b39a-306adffc2b52",
   "metadata": {},
   "outputs": [
    {
     "data": {
      "text/latex": [
       "$\\displaystyle 2$"
      ],
      "text/plain": [
       "2"
      ]
     },
     "execution_count": 111,
     "metadata": {},
     "output_type": "execute_result"
    }
   ],
   "source": [
    "(sm.sqrt(3)/3)/(sm.sqrt(3)/6)"
   ]
  },
  {
   "cell_type": "code",
   "execution_count": 91,
   "id": "a7108df6-282f-44ce-b6e6-03fb5ca22e0d",
   "metadata": {},
   "outputs": [
    {
     "data": {
      "text/latex": [
       "$\\displaystyle \\frac{\\sqrt{2}}{2} + \\frac{\\sqrt{6}}{6} i + \\frac{\\sqrt{6}}{6} j + \\frac{\\sqrt{6}}{6} k$"
      ],
      "text/plain": [
       "sqrt(2)/2 + sqrt(6)/6*i + sqrt(6)/6*j + sqrt(6)/6*k"
      ]
     },
     "execution_count": 91,
     "metadata": {},
     "output_type": "execute_result"
    }
   ],
   "source": [
    "q1.from_axis_angle((1,1,1),sm.pi/2)"
   ]
  },
  {
   "cell_type": "code",
   "execution_count": 92,
   "id": "6ed6e140-3958-4080-979d-b7ed0b505d3d",
   "metadata": {},
   "outputs": [
    {
     "data": {
      "text/plain": [
       "(Q.x, Q.y, Q.z)"
      ]
     },
     "execution_count": 92,
     "metadata": {},
     "output_type": "execute_result"
    }
   ],
   "source": [
    "N = sm.vector.CoordSys3D('N')\n",
    "r,i,j,k = sm.symbols('r i j k')\n",
    "Q = N.orient_new_quaternion('Q',r,i,j,k)\n",
    "Q.base_vectors()\n",
    "Q.base_scalars()"
   ]
  },
  {
   "cell_type": "code",
   "execution_count": 93,
   "id": "e35ca635-37fd-4b80-8c41-7d1e0fddece1",
   "metadata": {},
   "outputs": [
    {
     "data": {
      "text/latex": [
       "$\\displaystyle \\frac{\\sqrt{2}}{2}$"
      ],
      "text/plain": [
       "sqrt(2)/2"
      ]
     },
     "execution_count": 93,
     "metadata": {},
     "output_type": "execute_result"
    }
   ],
   "source": [
    "sm.cos(sm.pi/4)"
   ]
  },
  {
   "cell_type": "code",
   "execution_count": null,
   "id": "36bc55db-2a52-4c65-a0e0-f5ac53ad8968",
   "metadata": {},
   "outputs": [],
   "source": []
  }
 ],
 "metadata": {
  "kernelspec": {
   "display_name": "Python 3 (ipykernel)",
   "language": "python",
   "name": "python3"
  },
  "language_info": {
   "codemirror_mode": {
    "name": "ipython",
    "version": 3
   },
   "file_extension": ".py",
   "mimetype": "text/x-python",
   "name": "python",
   "nbconvert_exporter": "python",
   "pygments_lexer": "ipython3",
   "version": "3.9.9"
  }
 },
 "nbformat": 4,
 "nbformat_minor": 5
}
