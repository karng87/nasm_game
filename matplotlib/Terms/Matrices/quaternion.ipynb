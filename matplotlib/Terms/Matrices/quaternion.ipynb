{
 "cells": [
  {
   "cell_type": "markdown",
   "id": "b24ae860-0d48-43c1-874e-041346a4e2bf",
   "metadata": {},
   "source": [
    "# radian\n",
    "> ### cos direction\n",
    ">> ### $\n",
    "\\begin {array}{rr}\n",
    "\\frac{\\sqrt{3}}{2} = (3 \\times 2) & \\iff & \\cos \\frac{\\pi}{6}\\\\ \n",
    "\\frac{\\sqrt{2}}{2} = (2 \\times 2) & \\iff & \\cos \\frac{\\pi}{4}\\\\\n",
    "\\frac{1}{2} = (1 + 2) & \\iff & \\cos \\frac{\\pi}{3}\\\\\n",
    "\\cos \\frac{\\pi}{4} = (4 \\div 2) & \\iff & \\frac{\\sqrt{2}}{2}\\\\\n",
    "\\cos \\frac{\\pi}{6} = (6 \\div 2) & \\iff & \\frac{\\sqrt{3}}{2}\\\\\n",
    "\\cos \\frac{\\pi}{3} = (3 \\div 2) & \\iff & \\frac{1}{2}\\\\\n",
    "\\end{array}\n",
    "$"
   ]
  },
  {
   "cell_type": "code",
   "execution_count": 87,
   "id": "36919e81-73ba-45ce-97ac-1b657cdb086a",
   "metadata": {},
   "outputs": [
    {
     "data": {
      "text/html": [
       "\n",
       "        <iframe\n",
       "            width=\"640\"\n",
       "            height=\"480\"\n",
       "            src=\"https://audioscenedescriptionformat.readthedocs.io/en/latest/rotation-matrices.html\"\n",
       "            frameborder=\"0\"\n",
       "            allowfullscreen\n",
       "            \n",
       "        ></iframe>\n",
       "        "
      ],
      "text/plain": [
       "<IPython.lib.display.IFrame at 0x7f0e46def940>"
      ]
     },
     "execution_count": 87,
     "metadata": {},
     "output_type": "execute_result"
    }
   ],
   "source": [
    "import IPython as IPy\n",
    "IPy.display.IFrame('https://audioscenedescriptionformat.readthedocs.io/en/latest/rotation-matrices.html',width=640,height=480)"
   ]
  },
  {
   "cell_type": "markdown",
   "id": "c8550593-125a-4ffe-aa15-38629562ad43",
   "metadata": {},
   "source": [
    "---\n",
    "# [Azimuth(yaw)(heading)](https://audioscenedescriptionformat.readthedocs.io/en/latest/rotation-matrices.html) \n",
    "- rotation around the z-axis\n",
    "\n",
    "# Elevation(pitch)\n",
    "- rotation around the x-axix\n",
    "\n",
    "# Roll(bank)\n",
    "- rotation around the y-axis"
   ]
  },
  {
   "cell_type": "markdown",
   "id": "54ba67f8-c5c4-4170-86e8-c1a52090518e",
   "metadata": {},
   "source": [
    "---\n",
    "> ## $\\color{red}{\\text{Azimuth (yaw)}}$ angle $\\alpha$\n",
    ">> ### 0(zero) when pointing $\\color{magenta}{north}$(i.e.(that is, in other word) along the positive y-axix)\n",
    ">> ### rotating around the $\\color{magenta}{z-axis}$ (which points up)\n",
    ">> ### positive when rotating towards $\\color{magenta}{west}$(right hand rule)"
   ]
  },
  {
   "cell_type": "code",
   "execution_count": 88,
   "id": "262be566-bea3-4471-8510-5607869848ad",
   "metadata": {},
   "outputs": [],
   "source": [
    "import sympy as sm\n",
    "# vector a\n",
    "a_x, a_y, a_z = sm.symbols('a_x:z')\n",
    "\n",
    "# cylindrical coordinates (r, phi, z)\n",
    "r_z, phi_z = sm.symbols('r_z phi_z')\n",
    "\n",
    "# vector a (r,phi,z) (r*cos(phi), r*sin(phi), z)\n",
    "a = sm.Matrix([r_z*sm.cos(phi_z), r_z*sm.sin(phi_z), a_z])"
   ]
  },
  {
   "cell_type": "code",
   "execution_count": 89,
   "id": "953702d5-95cf-4e8f-8d03-17e2dad4b6f9",
   "metadata": {},
   "outputs": [
    {
     "data": {
      "text/latex": [
       "$\\displaystyle \\left[\\begin{matrix}r_{z} \\cos{\\left(\\alpha + \\phi_{z} \\right)}\\\\r_{z} \\sin{\\left(\\alpha + \\phi_{z} \\right)}\\\\a_{z}\\end{matrix}\\right]$"
      ],
      "text/plain": [
       "Matrix([\n",
       "[r_z*cos(alpha + phi_z)],\n",
       "[r_z*sin(alpha + phi_z)],\n",
       "[                   a_z]])"
      ]
     },
     "execution_count": 89,
     "metadata": {},
     "output_type": "execute_result"
    }
   ],
   "source": [
    "# let's rotate vector a by an azimuth angle \\alpha with vector b\n",
    "alpha = sm.symbols('alpha')\n",
    "b = sm.Matrix([r_z*sm.cos(phi_z + alpha), r_z*sm.sin(phi_z + alpha),a_z])\n",
    "# what T? s.t T * \\vec{a} = \\vec{b}\n",
    "# 변환된 \\vec{b}에서 일반화시킨 벡터 a의 계수를 뽑아내서 행열로 T로 만든다.\n",
    "# 일차 선형 변환임으로 계수는 미분으로도 구 할 수 있다.\n",
    "b"
   ]
  },
  {
   "cell_type": "code",
   "execution_count": 90,
   "id": "17da176c-31bd-487a-9acf-a07f63b6fca1",
   "metadata": {},
   "outputs": [
    {
     "data": {
      "text/latex": [
       "$\\displaystyle \\left[\\begin{matrix}- r_{z} \\sin{\\left(\\alpha \\right)} \\sin{\\left(\\phi_{z} \\right)} + r_{z} \\cos{\\left(\\alpha \\right)} \\cos{\\left(\\phi_{z} \\right)}\\\\r_{z} \\sin{\\left(\\alpha \\right)} \\cos{\\left(\\phi_{z} \\right)} + r_{z} \\sin{\\left(\\phi_{z} \\right)} \\cos{\\left(\\alpha \\right)}\\\\a_{z}\\end{matrix}\\right]$"
      ],
      "text/plain": [
       "Matrix([\n",
       "[-r_z*sin(alpha)*sin(phi_z) + r_z*cos(alpha)*cos(phi_z)],\n",
       "[ r_z*sin(alpha)*cos(phi_z) + r_z*sin(phi_z)*cos(alpha)],\n",
       "[                                                   a_z]])"
      ]
     },
     "execution_count": 90,
     "metadata": {},
     "output_type": "execute_result"
    }
   ],
   "source": [
    "b.expand(trig=True)"
   ]
  },
  {
   "cell_type": "code",
   "execution_count": 137,
   "id": "88c2e220-6fcc-421a-a5e8-ce219962820b",
   "metadata": {},
   "outputs": [
    {
     "name": "stdout",
     "output_type": "stream",
     "text": [
      "[r_z*cos(phi_z), a_x]\n",
      "[r_z*sin(phi_z), a_y]\n",
      "[a_z, a_z]\n"
     ]
    },
    {
     "data": {
      "text/plain": [
       "[(r_z*cos(phi_z), a_x), (r_z*sin(phi_z), a_y), (a_z, a_z)]"
      ]
     },
     "execution_count": 137,
     "metadata": {},
     "output_type": "execute_result"
    }
   ],
   "source": [
    "b = b.expand(trig=True).subs((list(zip(a,[a_x,a_y,a_z]))))\n",
    "b\n",
    "for i in zip(a,[a_x,a_y,a_z]):\n",
    "    print(list(i))\n",
    "    \n",
    "list(zip(a,[a_x,a_y,a_z]))"
   ]
  },
  {
   "cell_type": "code",
   "execution_count": 92,
   "id": "74e4bf89-b8a4-4381-8251-bd4cc8f5a94d",
   "metadata": {},
   "outputs": [
    {
     "data": {
      "text/latex": [
       "$\\displaystyle \\left[\\begin{matrix}\\cos{\\left(\\alpha \\right)} & - \\sin{\\left(\\alpha \\right)} & 0\\\\\\sin{\\left(\\alpha \\right)} & \\cos{\\left(\\alpha \\right)} & 0\\\\0 & 0 & 1\\end{matrix}\\right]$"
      ],
      "text/plain": [
       "Matrix([\n",
       "[cos(alpha), -sin(alpha), 0],\n",
       "[sin(alpha),  cos(alpha), 0],\n",
       "[         0,           0, 1]])"
      ]
     },
     "execution_count": 92,
     "metadata": {},
     "output_type": "execute_result"
    }
   ],
   "source": [
    "[[i.coeff(j) for j in [a_x,a_y,a_z]] for i in b]\n",
    "Yaw = sm.Matrix([[i.coeff(j) for j in [a_x,a_y,a_z]] for i in b])\n",
    "Yaw"
   ]
  },
  {
   "cell_type": "code",
   "execution_count": 93,
   "id": "1232b674-478b-47e1-882a-fe26c4f4813a",
   "metadata": {},
   "outputs": [
    {
     "data": {
      "text/latex": [
       "$\\displaystyle \\left[\\begin{matrix}\\cos{\\left(\\alpha \\right)} & - \\sin{\\left(\\alpha \\right)} & 0\\\\\\sin{\\left(\\alpha \\right)} & \\cos{\\left(\\alpha \\right)} & 0\\\\0 & 0 & 1\\end{matrix}\\right]$"
      ],
      "text/plain": [
       "Matrix([\n",
       "[cos(alpha), -sin(alpha), 0],\n",
       "[sin(alpha),  cos(alpha), 0],\n",
       "[         0,           0, 1]])"
      ]
     },
     "execution_count": 93,
     "metadata": {},
     "output_type": "execute_result"
    }
   ],
   "source": [
    "Azimuth = b.diff(a_x).row_join(b.diff(a_y)).row_join(b.diff(a_z))\n",
    "Azimuth"
   ]
  },
  {
   "cell_type": "code",
   "execution_count": 94,
   "id": "e6a935d2-a06c-446e-b392-372698fa7120",
   "metadata": {},
   "outputs": [
    {
     "data": {
      "text/latex": [
       "$\\displaystyle \\left[\\begin{matrix}- \\frac{\\sqrt{2}}{2}\\\\\\frac{\\sqrt{2}}{2}\\\\0\\end{matrix}\\right]$"
      ],
      "text/plain": [
       "Matrix([\n",
       "[-sqrt(2)/2],\n",
       "[ sqrt(2)/2],\n",
       "[         0]])"
      ]
     },
     "execution_count": 94,
     "metadata": {},
     "output_type": "execute_result"
    }
   ],
   "source": [
    "Yaw.subs(alpha,sm.pi/2)*sm.Matrix([0,1,0])\n",
    "Azimuth.subs(alpha,sm.pi/4)*sm.Matrix([0,1,0])"
   ]
  },
  {
   "cell_type": "markdown",
   "id": "3bf8eaaf-537b-4c8d-a66a-96b1a5b006d6",
   "metadata": {},
   "source": [
    "> ## $\\color{red}{\\text{Elevation (pitch)}}$ angle $\\beta$\n",
    ">> ### $\\color{magenta}{pitch}$\n",
    ">>> ### 투수가 발을 높이 들고 볼을 던지려는 현상\n",
    ">> ### 0(zero) in the $\\color{magenta}{horizontal}$ plane.\n",
    ">> ### rotating around the local $\\color{magenta}{x-axis}$\n",
    ">> ### positive when the $\\color{magenta}{nose}$ goes up (right hand rule)"
   ]
  },
  {
   "cell_type": "code",
   "execution_count": 209,
   "id": "1ed33efd-5e2a-4cbb-9b57-bd95e06599e0",
   "metadata": {},
   "outputs": [
    {
     "data": {
      "text/latex": [
       "$\\displaystyle \\left[\\begin{matrix}x_{0}\\\\- r \\sin{\\left(\\theta \\right)} \\sin{\\left(\\theta_{0} \\right)} + r \\cos{\\left(\\theta \\right)} \\cos{\\left(\\theta_{0} \\right)}\\\\r \\sin{\\left(\\theta \\right)} \\cos{\\left(\\theta_{0} \\right)} + r \\sin{\\left(\\theta_{0} \\right)} \\cos{\\left(\\theta \\right)}\\end{matrix}\\right]$"
      ],
      "text/plain": [
       "Matrix([\n",
       "[                                                   x_0],\n",
       "[-r*sin(theta)*sin(theta_0) + r*cos(theta)*cos(theta_0)],\n",
       "[ r*sin(theta)*cos(theta_0) + r*sin(theta_0)*cos(theta)]])"
      ]
     },
     "execution_count": 209,
     "metadata": {},
     "output_type": "execute_result"
    }
   ],
   "source": [
    "import sympy as sm\n",
    "beta = sm.symbols('beta')\n",
    "x = sm.MatrixSymbol('x', 3,1)\n",
    "k = sm.MatrixSymbol('k',3,1)\n",
    "A = sm.MatrixSymbol('A',3,3)\n",
    "i,j = sm.symbols('i j', positive=True)\n",
    "A.as_explicit()\n",
    "A.adjoint().as_explicit()\n",
    "A.inv().as_explicit()\n",
    "sm.Eq(A*x, k)\n",
    "\n",
    "r, theta, z = sm.symbols('r theta z')\n",
    "x_0, x_1, x_2 = sm.symbols('x_0:3')\n",
    "k = sm.Matrix(k).subs(\n",
    "    [(k[0],x_0),\n",
    "     (k[1],r*sm.cos(theta0+theta)),\n",
    "     (k[2],r*sm.sin(theta0+theta))])\n",
    "k.expand(trig=True)\n",
    "## A*x = k 에서 A를 구하려면, k 벡터 성분이 x벡터 성분에 어떤 행열곱 연산을 해주었나를 찾는것이다.\n",
    "# K 성분에서 x성분의 계수가 무엇인가 찾아서 행열곱 순서를 생각해서 A를 만들어 간다.\n",
    "# 1차식에서 독립변수의 게수를 구하는 것은 그 독립변수로 미분해주면된다. 즉 미분게수가 계수가 된다.\n"
   ]
  },
  {
   "cell_type": "code",
   "execution_count": 203,
   "id": "4a3d3659-beff-4f50-aa9c-effaece95243",
   "metadata": {},
   "outputs": [
    {
     "data": {
      "text/latex": [
       "$\\displaystyle \\left[\\begin{matrix}r \\cos{\\left(\\theta_{0} \\right)}\\\\r \\sin{\\left(\\theta_{0} \\right)}\\\\x_{2}\\end{matrix}\\right]$"
      ],
      "text/plain": [
       "Matrix([\n",
       "[r*cos(theta_0)],\n",
       "[r*sin(theta_0)],\n",
       "[           x_2]])"
      ]
     },
     "execution_count": 203,
     "metadata": {},
     "output_type": "execute_result"
    }
   ],
   "source": [
    "x0 = sm.Matrix(x).subs([(x[0], r*sm.cos(theta0) ),(x[1], r*sm.sin(theta0)),(x[2], x_2)])\n",
    "x0"
   ]
  },
  {
   "cell_type": "markdown",
   "id": "d938a4d9-909a-4ab3-a4f5-4275f6d4fcd3",
   "metadata": {},
   "source": [
    "> ## $\\color{red}{\\text{Roll (bank)}}$ angle $\\gamma$\n",
    ">> ### $\\color{magenta}{bank}$\n",
    ">>> ### 은행\n",
    ">> ### 0(zero) when the top of the object points to the $\\color{magenta}{zenith}$(which is just the normal upright orientation)\n",
    ">> ### rotaition around the local $\\color{magenta}{y-axis}$\n",
    ">> ### positive when the object is leaning towards $\\color{magenta}{starbord}$(right hand rule .우현 )"
   ]
  },
  {
   "cell_type": "code",
   "execution_count": 96,
   "id": "0979251f-ffc0-40bc-909c-1bfc7ee31981",
   "metadata": {
    "tags": []
   },
   "outputs": [
    {
     "data": {
      "text/latex": [
       "$\\displaystyle 2 + 3 i + 1 j + 4 k$"
      ],
      "text/plain": [
       "2 + 3*i + 1*j + 4*k"
      ]
     },
     "execution_count": 96,
     "metadata": {},
     "output_type": "execute_result"
    }
   ],
   "source": [
    "import sympy as sm\n",
    "import sympy.vector\n",
    "sm.algebras.quaternion.Quaternion(2,3,1,4)"
   ]
  },
  {
   "cell_type": "code",
   "execution_count": 97,
   "id": "edc6319c-8fc5-4882-a501-54689411b4dd",
   "metadata": {},
   "outputs": [
    {
     "data": {
      "text/latex": [
       "$\\displaystyle \\left[\\begin{matrix}- \\frac{2 \\left(a_{2}^{2} + a_{3}^{2}\\right)}{a_{0}^{2} + a_{1}^{2} + a_{2}^{2} + a_{3}^{2}} + 1 & \\frac{2 \\left(- a_{0} a_{3} + a_{1} a_{2}\\right)}{a_{0}^{2} + a_{1}^{2} + a_{2}^{2} + a_{3}^{2}} & \\frac{2 \\left(a_{0} a_{2} + a_{1} a_{3}\\right)}{a_{0}^{2} + a_{1}^{2} + a_{2}^{2} + a_{3}^{2}}\\\\\\frac{2 \\left(a_{0} a_{3} + a_{1} a_{2}\\right)}{a_{0}^{2} + a_{1}^{2} + a_{2}^{2} + a_{3}^{2}} & - \\frac{2 \\left(a_{1}^{2} + a_{3}^{2}\\right)}{a_{0}^{2} + a_{1}^{2} + a_{2}^{2} + a_{3}^{2}} + 1 & \\frac{2 \\left(- a_{0} a_{1} + a_{2} a_{3}\\right)}{a_{0}^{2} + a_{1}^{2} + a_{2}^{2} + a_{3}^{2}}\\\\\\frac{2 \\left(- a_{0} a_{2} + a_{1} a_{3}\\right)}{a_{0}^{2} + a_{1}^{2} + a_{2}^{2} + a_{3}^{2}} & \\frac{2 \\left(a_{0} a_{1} + a_{2} a_{3}\\right)}{a_{0}^{2} + a_{1}^{2} + a_{2}^{2} + a_{3}^{2}} & - \\frac{2 \\left(a_{1}^{2} + a_{2}^{2}\\right)}{a_{0}^{2} + a_{1}^{2} + a_{2}^{2} + a_{3}^{2}} + 1\\end{matrix}\\right]$"
      ],
      "text/plain": [
       "Matrix([\n",
       "[-2*(a_2**2 + a_3**2)/(a_0**2 + a_1**2 + a_2**2 + a_3**2) + 1,   2*(-a_0*a_3 + a_1*a_2)/(a_0**2 + a_1**2 + a_2**2 + a_3**2),    2*(a_0*a_2 + a_1*a_3)/(a_0**2 + a_1**2 + a_2**2 + a_3**2)],\n",
       "[   2*(a_0*a_3 + a_1*a_2)/(a_0**2 + a_1**2 + a_2**2 + a_3**2), -2*(a_1**2 + a_3**2)/(a_0**2 + a_1**2 + a_2**2 + a_3**2) + 1,   2*(-a_0*a_1 + a_2*a_3)/(a_0**2 + a_1**2 + a_2**2 + a_3**2)],\n",
       "[  2*(-a_0*a_2 + a_1*a_3)/(a_0**2 + a_1**2 + a_2**2 + a_3**2),    2*(a_0*a_1 + a_2*a_3)/(a_0**2 + a_1**2 + a_2**2 + a_3**2), -2*(a_1**2 + a_2**2)/(a_0**2 + a_1**2 + a_2**2 + a_3**2) + 1]])"
      ]
     },
     "execution_count": 97,
     "metadata": {},
     "output_type": "execute_result"
    }
   ],
   "source": [
    "theta,x,y,z = sm.symbols('theta x y z')\n",
    "a0,a1,a2,a3,b0,b1,b2,b3 = sm.symbols('a_(0:4), b_(0:4)')\n",
    "q1 = sm.algebras.quaternion.Quaternion(a0,a1,a2,a3)\n",
    "q2 = sm.algebras.quaternion.Quaternion(b0,b1,b2,b3)\n",
    "q1.to_rotation_matrix()\n",
    "\n",
    "# rotation 90 wrt axis(1,1,1)\n",
    "## (cos(90/2) + sin(90/2))*(\\vec{v})*(cos(90/2)-sin(90/2))"
   ]
  },
  {
   "cell_type": "code",
   "execution_count": 98,
   "id": "b7d2b3ca-9839-4075-a5bf-28c6effc555c",
   "metadata": {},
   "outputs": [],
   "source": [
    "# rotation around a axis"
   ]
  },
  {
   "cell_type": "code",
   "execution_count": 99,
   "id": "09c25388-e166-4372-aa24-4bbb6466c357",
   "metadata": {},
   "outputs": [
    {
     "data": {
      "text/latex": [
       "$\\displaystyle 0 + 1 i + 0 j + 0 k$"
      ],
      "text/plain": [
       "0 + 1*i + 0*j + 0*k"
      ]
     },
     "execution_count": 99,
     "metadata": {},
     "output_type": "execute_result"
    }
   ],
   "source": [
    "# [cos(theta/2)]^2 + [(sin(\\theta/2)i + sin(\\theta/2)j + sin(\\theta/2)k)]^2\n",
    "q1.from_axis_angle((1,0,0),sm.pi)"
   ]
  },
  {
   "cell_type": "code",
   "execution_count": 100,
   "id": "18a34afb-585f-4795-b70f-20a003f9feb0",
   "metadata": {},
   "outputs": [
    {
     "data": {
      "text/latex": [
       "$\\displaystyle \\frac{\\sqrt{2}}{2} + 0 i + \\frac{\\sqrt{2}}{2} j + 0 k$"
      ],
      "text/plain": [
       "sqrt(2)/2 + 0*i + sqrt(2)/2*j + 0*k"
      ]
     },
     "execution_count": 100,
     "metadata": {},
     "output_type": "execute_result"
    }
   ],
   "source": [
    "q1.from_axis_angle((0,1,0),sm.pi/2)"
   ]
  },
  {
   "cell_type": "code",
   "execution_count": 101,
   "id": "01e017e5-01d7-46dd-aaa4-d8eadcddee6b",
   "metadata": {
    "tags": []
   },
   "outputs": [
    {
     "data": {
      "text/latex": [
       "$\\displaystyle \\frac{\\sqrt{3}}{2} + 0 i + 0 j + \\frac{1}{2} k$"
      ],
      "text/plain": [
       "sqrt(3)/2 + 0*i + 0*j + 1/2*k"
      ]
     },
     "execution_count": 101,
     "metadata": {},
     "output_type": "execute_result"
    }
   ],
   "source": [
    "q1.from_axis_angle((0,0,1),2*sm.pi/6)"
   ]
  },
  {
   "cell_type": "code",
   "execution_count": 102,
   "id": "aa5bdd9f-85b5-478c-86ee-318ec655afe5",
   "metadata": {
    "tags": []
   },
   "outputs": [
    {
     "data": {
      "text/latex": [
       "$\\displaystyle \\frac{1}{2} + \\frac{\\sqrt{3}}{2} i + 0 j + 0 k$"
      ],
      "text/plain": [
       "1/2 + sqrt(3)/2*i + 0*j + 0*k"
      ]
     },
     "execution_count": 102,
     "metadata": {},
     "output_type": "execute_result"
    }
   ],
   "source": [
    "q1.from_axis_angle((1,0,0),2*sm.pi/3)"
   ]
  },
  {
   "cell_type": "code",
   "execution_count": 103,
   "id": "04896f40-25fe-49e4-8472-ef73e41c8b92",
   "metadata": {},
   "outputs": [
    {
     "data": {
      "text/latex": [
       "$\\displaystyle \\frac{1}{2} + \\frac{\\sqrt{6}}{4} i + \\frac{\\sqrt{6}}{4} j + 0 k$"
      ],
      "text/plain": [
       "1/2 + sqrt(6)/4*i + sqrt(6)/4*j + 0*k"
      ]
     },
     "execution_count": 103,
     "metadata": {},
     "output_type": "execute_result"
    }
   ],
   "source": [
    "# 6/16 = 3/8 + 3/8 = 3/4\n",
    "q1.from_axis_angle((1,1,0),2*sm.pi/3)"
   ]
  },
  {
   "cell_type": "code",
   "execution_count": 104,
   "id": "562280e4-f7ce-423c-9260-e517842aeab8",
   "metadata": {},
   "outputs": [
    {
     "data": {
      "text/latex": [
       "$\\displaystyle \\frac{1}{2} + \\frac{1}{2} i + \\frac{1}{2} j + \\frac{1}{2} k$"
      ],
      "text/plain": [
       "1/2 + 1/2*i + 1/2*j + 1/2*k"
      ]
     },
     "execution_count": 104,
     "metadata": {},
     "output_type": "execute_result"
    }
   ],
   "source": [
    "# (1/2)^2 + (1/2)^2 + (1/2)^2 = 3/4 = \\sqrt{3}/2\n",
    "q1.from_axis_angle((1,1,1),2*sm.pi/3)"
   ]
  },
  {
   "cell_type": "code",
   "execution_count": null,
   "id": "c1529c95-09be-4a8c-a0e3-67cc5aebc7cb",
   "metadata": {},
   "outputs": [],
   "source": []
  },
  {
   "cell_type": "code",
   "execution_count": null,
   "id": "91e4bd87-2707-4e3f-ad93-8ca844d2f611",
   "metadata": {},
   "outputs": [],
   "source": []
  },
  {
   "cell_type": "code",
   "execution_count": 105,
   "id": "e32235d0-d823-46d5-89f6-a77f36ca9954",
   "metadata": {
    "tags": []
   },
   "outputs": [
    {
     "data": {
      "text/latex": [
       "$\\displaystyle \\frac{\\sqrt{3}}{2}$"
      ],
      "text/plain": [
       "sqrt(3)/2"
      ]
     },
     "execution_count": 105,
     "metadata": {},
     "output_type": "execute_result"
    }
   ],
   "source": [
    "sm.sqrt((sm.sqrt(3)/6)**2 + (sm.sqrt(3)/6)**2 + (sm.sqrt(3)/3)**2)\n",
    "(sm.sqrt(2)/2)/(sm.sqrt(7)/14)\n",
    "sm.cos(sm.pi/6)"
   ]
  },
  {
   "cell_type": "code",
   "execution_count": 106,
   "id": "37dc7c5a-4b3b-4a4e-b39a-306adffc2b52",
   "metadata": {},
   "outputs": [
    {
     "data": {
      "text/latex": [
       "$\\displaystyle 2$"
      ],
      "text/plain": [
       "2"
      ]
     },
     "execution_count": 106,
     "metadata": {},
     "output_type": "execute_result"
    }
   ],
   "source": [
    "(sm.sqrt(3)/3)/(sm.sqrt(3)/6)"
   ]
  },
  {
   "cell_type": "code",
   "execution_count": 107,
   "id": "a7108df6-282f-44ce-b6e6-03fb5ca22e0d",
   "metadata": {},
   "outputs": [
    {
     "data": {
      "text/latex": [
       "$\\displaystyle \\frac{\\sqrt{2}}{2} + \\frac{\\sqrt{6}}{6} i + \\frac{\\sqrt{6}}{6} j + \\frac{\\sqrt{6}}{6} k$"
      ],
      "text/plain": [
       "sqrt(2)/2 + sqrt(6)/6*i + sqrt(6)/6*j + sqrt(6)/6*k"
      ]
     },
     "execution_count": 107,
     "metadata": {},
     "output_type": "execute_result"
    }
   ],
   "source": [
    "q1.from_axis_angle((1,1,1),sm.pi/2)"
   ]
  },
  {
   "cell_type": "code",
   "execution_count": 108,
   "id": "6ed6e140-3958-4080-979d-b7ed0b505d3d",
   "metadata": {},
   "outputs": [
    {
     "data": {
      "text/plain": [
       "(Q.x, Q.y, Q.z)"
      ]
     },
     "execution_count": 108,
     "metadata": {},
     "output_type": "execute_result"
    }
   ],
   "source": [
    "N = sm.vector.CoordSys3D('N')\n",
    "r,i,j,k = sm.symbols('r i j k')\n",
    "Q = N.orient_new_quaternion('Q',r,i,j,k)\n",
    "Q.base_vectors()\n",
    "Q.base_scalars()"
   ]
  },
  {
   "cell_type": "code",
   "execution_count": 109,
   "id": "e35ca635-37fd-4b80-8c41-7d1e0fddece1",
   "metadata": {},
   "outputs": [
    {
     "data": {
      "text/latex": [
       "$\\displaystyle \\frac{\\sqrt{2}}{2}$"
      ],
      "text/plain": [
       "sqrt(2)/2"
      ]
     },
     "execution_count": 109,
     "metadata": {},
     "output_type": "execute_result"
    }
   ],
   "source": [
    "sm.cos(sm.pi/4)"
   ]
  },
  {
   "cell_type": "code",
   "execution_count": null,
   "id": "36bc55db-2a52-4c65-a0e0-f5ac53ad8968",
   "metadata": {},
   "outputs": [],
   "source": []
  }
 ],
 "metadata": {
  "kernelspec": {
   "display_name": "Python 3 (ipykernel)",
   "language": "python",
   "name": "python3"
  },
  "language_info": {
   "codemirror_mode": {
    "name": "ipython",
    "version": 3
   },
   "file_extension": ".py",
   "mimetype": "text/x-python",
   "name": "python",
   "nbconvert_exporter": "python",
   "pygments_lexer": "ipython3",
   "version": "3.9.9"
  }
 },
 "nbformat": 4,
 "nbformat_minor": 5
}
