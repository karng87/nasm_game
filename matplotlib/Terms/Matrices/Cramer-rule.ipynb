{
 "cells": [
  {
   "cell_type": "code",
   "execution_count": 1,
   "id": "4773d392-7876-4949-8391-ed03a9217cf8",
   "metadata": {},
   "outputs": [
    {
     "data": {
      "text/html": [
       "\n",
       "        <iframe\n",
       "            width=\"600\"\n",
       "            height=\"400\"\n",
       "            src=\"https://www.youtube.com/embed/https://www.youtube.com/watch?v=ZKVa559aY2k&list=PLIxff5DJJR7oBEy0Kdg12WWSlS6XFtr6r&index=37\"\n",
       "            frameborder=\"0\"\n",
       "            allowfullscreen\n",
       "            \n",
       "        ></iframe>\n",
       "        "
      ],
      "text/plain": [
       "<IPython.lib.display.YouTubeVideo at 0x7f87f80d1a00>"
      ]
     },
     "execution_count": 1,
     "metadata": {},
     "output_type": "execute_result"
    }
   ],
   "source": [
    "import IPython as Ipy\n",
    "Ipy.display.YouTubeVideo('https://www.youtube.com/watch?v=ZKVa559aY2k&list=PLIxff5DJJR7oBEy0Kdg12WWSlS6XFtr6r&index=37',width=600,height=400)"
   ]
  },
  {
   "cell_type": "markdown",
   "id": "a933516f-9214-4bf7-b7db-ede301d3bd0d",
   "metadata": {},
   "source": [
    "# Cramer's rule\n",
    "> ### $\n",
    "Ax = b\n",
    "\\left[ \\begin{array}{cc|c|cccc}\n",
    "a11 & \\cdots & \\overset{A^{i}}{a_{1i}}& \\cdots & a_{1n}\\\\\n",
    "a21 & \\cdots & a_{2i} & \\cdots & a_{2n}\\\\\n",
    "\\vdots & \\ddots & \\ddots & \\ddots & \\vdots \\\\\n",
    "an1 & \\cdots & a_{ni} & \\cdots & a_{nn}\\\\\n",
    "\\end{array}\\right]\n",
    "$\n"
   ]
  },
  {
   "cell_type": "code",
   "execution_count": null,
   "id": "cf108656-009a-4692-815c-4e2883e26bb8",
   "metadata": {},
   "outputs": [],
   "source": []
  }
 ],
 "metadata": {
  "kernelspec": {
   "display_name": "Python 3 (ipykernel)",
   "language": "python",
   "name": "python3"
  },
  "language_info": {
   "codemirror_mode": {
    "name": "ipython",
    "version": 3
   },
   "file_extension": ".py",
   "mimetype": "text/x-python",
   "name": "python",
   "nbconvert_exporter": "python",
   "pygments_lexer": "ipython3",
   "version": "3.9.9"
  }
 },
 "nbformat": 4,
 "nbformat_minor": 5
}
