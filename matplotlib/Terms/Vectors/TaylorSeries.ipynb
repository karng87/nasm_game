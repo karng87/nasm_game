{
 "cells": [
  {
   "cell_type": "code",
   "execution_count": 2,
   "id": "ac507367-90fe-48b2-86f4-c17616c61b5d",
   "metadata": {},
   "outputs": [
    {
     "data": {
      "application/javascript": [
       "MathJax.Extension[\"TeX/cancel\"]={version:\"2.4.0\",ALLOWED:{color:1,mathcolor:1,background:1,mathbackground:1,padding:1,thickness:1}};MathJax.Hub.Register.StartupHook(\"TeX Jax Ready\",function(){var c=MathJax.InputJax.TeX,a=MathJax.ElementJax.mml,b=MathJax.Extension[\"TeX/cancel\"];b.setAttributes=function(h,e){if(e!==\"\"){e=e.replace(/ /g,\"\").split(/,/);for(var g=0,d=e.length;g<d;g++){var f=e[g].split(/[:=]/);if(b.ALLOWED[f[0]]){if(f[1]===\"true\"){f[1]=true}if(f[1]===\"false\"){f[1]=false}h[f[0]]=f[1]}}}return h};c.Definitions.Add({macros:{cancel:[\"Cancel\",a.NOTATION.UPDIAGONALSTRIKE],bcancel:[\"Cancel\",a.NOTATION.DOWNDIAGONALSTRIKE],xcancel:[\"Cancel\",a.NOTATION.UPDIAGONALSTRIKE+\" \"+a.NOTATION.DOWNDIAGONALSTRIKE],cancelto:\"CancelTo\"}},null,true);c.Parse.Augment({Cancel:function(e,g){var d=this.GetBrackets(e,\"\"),f=this.ParseArg(e);var h=b.setAttributes({notation:g},d);this.Push(a.menclose(f).With(h))},CancelTo:function(e,g){var i=this.ParseArg(e),d=this.GetBrackets(e,\"\"),f=this.ParseArg(e);var h=b.setAttributes({notation:a.NOTATION.UPDIAGONALSTRIKE+\" \"+a.NOTATION.UPDIAGONALARROW},d);i=a.mpadded(i).With({depth:\"-.1em\",height:\"+.1em\",voffset:\".1em\"});this.Push(a.msup(a.menclose(f).With(h),i))}});MathJax.Hub.Startup.signal.Post(\"TeX cancel Ready\")});MathJax.Ajax.loadComplete(\"[MathJax]/extensions/TeX/cancel.js\");\n"
      ],
      "text/plain": [
       "<IPython.core.display.Javascript object>"
      ]
     },
     "metadata": {},
     "output_type": "display_data"
    }
   ],
   "source": [
    "%%javascript\n",
    "MathJax.Extension[\"TeX/cancel\"]={version:\"2.4.0\",ALLOWED:{color:1,mathcolor:1,background:1,mathbackground:1,padding:1,thickness:1}};MathJax.Hub.Register.StartupHook(\"TeX Jax Ready\",function(){var c=MathJax.InputJax.TeX,a=MathJax.ElementJax.mml,b=MathJax.Extension[\"TeX/cancel\"];b.setAttributes=function(h,e){if(e!==\"\"){e=e.replace(/ /g,\"\").split(/,/);for(var g=0,d=e.length;g<d;g++){var f=e[g].split(/[:=]/);if(b.ALLOWED[f[0]]){if(f[1]===\"true\"){f[1]=true}if(f[1]===\"false\"){f[1]=false}h[f[0]]=f[1]}}}return h};c.Definitions.Add({macros:{cancel:[\"Cancel\",a.NOTATION.UPDIAGONALSTRIKE],bcancel:[\"Cancel\",a.NOTATION.DOWNDIAGONALSTRIKE],xcancel:[\"Cancel\",a.NOTATION.UPDIAGONALSTRIKE+\" \"+a.NOTATION.DOWNDIAGONALSTRIKE],cancelto:\"CancelTo\"}},null,true);c.Parse.Augment({Cancel:function(e,g){var d=this.GetBrackets(e,\"\"),f=this.ParseArg(e);var h=b.setAttributes({notation:g},d);this.Push(a.menclose(f).With(h))},CancelTo:function(e,g){var i=this.ParseArg(e),d=this.GetBrackets(e,\"\"),f=this.ParseArg(e);var h=b.setAttributes({notation:a.NOTATION.UPDIAGONALSTRIKE+\" \"+a.NOTATION.UPDIAGONALARROW},d);i=a.mpadded(i).With({depth:\"-.1em\",height:\"+.1em\",voffset:\".1em\"});this.Push(a.msup(a.menclose(f).With(h),i))}});MathJax.Hub.Startup.signal.Post(\"TeX cancel Ready\")});MathJax.Ajax.loadComplete(\"[MathJax]/extensions/TeX/cancel.js\");\n"
   ]
  },
  {
   "cell_type": "markdown",
   "id": "044f8381-964f-464d-b7e6-d9940a10102c",
   "metadata": {},
   "source": [
    "# Taylor series\n",
    "> ### $ f(x) = a_0(=f(0)) + a_1x + a_2x^2 + a_3x^3 + a_4x^4 + ... = \\displaystyle \\sum_{i=0}^{\\infty} a_{i}x^{i} $\n",
    "> ### $ f(x) = a_0(=f(a)) + a_1(x-a) + a_2(x-a)^2 + a_3(x-a)^3 + a_4(x-a)^4 + ... = \\displaystyle \\sum_{i=0}^{\\infty} a_{i}(x-a)^{i} $"
   ]
  },
  {
   "cell_type": "markdown",
   "id": "e25de816-f817-4e3d-8286-4365a1988e28",
   "metadata": {},
   "source": [
    "# differential\n",
    "> ### $ \\therefore  f(x)|_{x=a}= \\color{red}{f(a) = a_0} \\\\ f(x) = a_0 + a_1(\\cancelto{0}{x-a}) + a_2(x-a)^2 + a_3(x-a)^3 + a_4(x-a)^4 + ...$\n",
    "> ### $ f'(x)= \\cancelto{}{a_0}  + a_1 + \\frac{a_2(x-a)}{2}  + \\frac{a_3(x-a)^2}{3} + \\frac{a_3(x-a)^3}{4} + \\frac{a_3(x-a)^4}{5} + .... \\\\ \\therefore f'(x)|_{x=a} = \\color{red}{f'(a) = a_1} $\n",
    "> ### $ f''(x)= \\cancelto{}{a_0}  + \\cancelto {}{a_1} + \\frac{a_2\\cancel{(x-a)}}{2} + \\frac{a_3(x-a)^1}{3*2} + \\frac{a_3(x-a)^2}{4*3} + \\frac{a_3(x-a)^3}{5*4} + .... \\\\ \\therefore f''(x)|_{x=a}= \\color{red}{f''(a) = \\frac{a_2}{2}} $\n",
    "> ### $ f^{3}(x)= \\cancelto{}{a_0}  + \\cancelto {}{a_1} + \\cancelto{}{\\frac{a_2}{2}} + \\frac{a_3\\cancel{(x-a)^1}}{3*2} + \\frac{a_3(x-a)^1}{4*3*2} + \\frac{a_3(x-a)^2}{5*4*3} + .... \\\\ \\therefore f^{3}(x)|_{x=a} = \\color{red}{f^{3}(a) = \\frac{a_2}{3*2}} $"
   ]
  },
  {
   "cell_type": "markdown",
   "id": "85f66ad4-31f6-46cc-8cf2-069f1520b978",
   "metadata": {},
   "source": [
    "---\n",
    "> ## $\n",
    "f(x) = f(a) + f'(a)(x-a) + \\frac{f''(a)(x-a)^2}{2} + \\frac{f^{(3)}(a)(x-a)^3}{3*2} + \\frac{f^{(4)}(a) (x-a)^4}{4*3*2} + \\frac{f^{(5)}(a) (x-a)^5}{5*4*3*2} + ...\n",
    "\\\\\n",
    "f(x) = \\frac{f(a)}{0!} + \\frac{f'(a)(x-a)}{1!} + \\frac{f''(a)(x-a)^2}{2!} + \\frac{f^{(3)}(a)(x-a)^3}{3!} + \\frac{f^{(4)}(a) (x-a)^4}{4!} + \\frac{f^{(5)}(a) (x-a)^5}{5!} + ...\n",
    "$\n",
    "> ## $ \\displaystyle \\therefore f(x)|_{x=a} = \\color{red}{\\sum_{n=0}^{\\infty} \\frac{(x-a)^n}{n!} f^{(n)}(a)}\\;$\n",
    "> ## $ \\displaystyle \\therefore f(x)|_{x=0} = \\color{red}{\\sum_{n=0}^{\\infty} \\frac{x^n}{n!}f^{(n)}(0)} $"
   ]
  },
  {
   "cell_type": "markdown",
   "id": "aff6713d-bc94-4933-b439-26e00599c37c",
   "metadata": {},
   "source": [
    "# $e^{x}$\n",
    "> ### $\n",
    "\\left . \n",
    "\\begin{array}{} \n",
    "x = 0 \\\\\n",
    "\\frac{d}{dx}e^x \\to  e^{x} = e^{0}= 1 \\\\\n",
    "\\frac{d^2}{dx^2}e^x \\to  e^{x} = e^{0}= 1 \\\\\n",
    "\\frac{d^3}{dx^3}e^x \\to  e^{x} = e^{0}= 1 \\\\\n",
    "\\end{array}\\right \\} \n",
    "e^x = 1 + \\frac{x}{1} + \\frac{x^2}{2!} + \\frac{x^3}{3!} + ..,\n",
    "= \\displaystyle \\sum_{n=0}^{\\infty} \\frac{x^{n}}{n!}\n",
    "$"
   ]
  },
  {
   "cell_type": "markdown",
   "id": "c7445c7c-87b9-4ca1-9210-922a98e584ae",
   "metadata": {},
   "source": [
    "# [$\\cos(x)$](https://www.youtube.com/watch?v=LDBnS4c7YbA&t=160s)\n",
    "> ### $\n",
    "\\left . \n",
    "\\begin{array}{} \n",
    "cos(0) = 1 \\\\\n",
    "\\frac{d}{dx}\\cos x \\to  -sin(x) = -sin(0)= 0 \\\\\n",
    "\\frac{d^2}{dx^2}\\cos x \\to  -cos(x) = -cos(0)= -1 \\\\\n",
    "\\frac{d^3}{dx^3}\\cos x \\to  sin(x) = sin(0)= 0 \\\\\n",
    "\\frac{d^4}{dx^4}\\cos x \\to  cos(x) = cos(0)= 1 \\\\\n",
    "\\frac{d^5}{dx^5}\\cos x \\to  -sin(x) = -sin(0)= 0 \\\\\n",
    "\\frac{d^6}{dx^6}\\cos x \\to  -cos(x) = -cos(0)= -1 \\\\\n",
    "\\end{array}\\right \\}\n",
    "\\begin{array}{} \n",
    "1 + 0*\\frac{x}{1} + -1*\\frac{x^2}{2!} + 0*\\frac{x^3}{3!} + 1*\\frac{x^4}{4!} + 0 *\\frac{x^5}{5!} + -1*\\frac{x^6}{6!} + .., \\\\\n",
    "1 - 1*\\frac{x^2}{2!} + 1*\\frac{x^4}{4!} - 1*\\frac{x^6}{6!} + 1*\\frac{x^8}{8!} .., = \\displaystyle \\sum_{n=0}^{\\infty} \\frac{x^{2n}}{(2n)!}(-1)^n\n",
    "\\end{array}\n",
    "$"
   ]
  },
  {
   "cell_type": "markdown",
   "id": "ca509f20-a840-4a0d-9064-fcad89b1ef8e",
   "metadata": {
    "jp-MarkdownHeadingCollapsed": true,
    "tags": []
   },
   "source": [
    "# $\\sin(x)$\n",
    "> ### $\n",
    "\\left . \n",
    "\\begin{array}{} \n",
    "sin(0) = 0 \\\\\n",
    "\\frac{d}{dx}\\sin x \\to  cos(x) = cos(0)= 1 \\\\\n",
    "\\frac{d^2}{dx^2}\\sin x \\to  -sin(x) = -sin(0)= 0 \\\\\n",
    "\\frac{d^3}{dx^3}\\sin x \\to  -cos(x) = -cos(0)= -1 \\\\\n",
    "\\frac{d^4}{dx^4}\\sin x \\to  sin(x) = sin(0)= 0 \\\\\n",
    "\\frac{d^5}{dx^5}\\sin x \\to  cos(x) = cos(0)= 1 \\\\\n",
    "\\frac{d^6}{dx^6}\\sin x \\to  -sin(x) = -sin(0)= 0 \\\\\n",
    "\\end{array}\\right \\}\n",
    "\\begin{array}{} \n",
    "0 + 1\\frac{x}{1} + (0)\\frac{x^2}{2!} + (-1)\\frac{x^3}{3!} + (0)\\frac{x^4}{4!} + (1) \\frac{x^5}{5!} + (0)\\frac{x^6}{6!} + .., \\\\\n",
    "1\\frac{x^1}{1!} + (-1)\\frac{x^3}{3!} + 1\\frac{x^5}{5!} + (-1)\\frac{x^7}{7!} .., \n",
    "= \\displaystyle \\sum_{n=0}^{\\infty} \\frac{x^{2n+1}}{(2n+1)!}(-1)^n\n",
    "\\end{array}\n",
    "$"
   ]
  },
  {
   "cell_type": "markdown",
   "id": "6333e6d5-bebf-42e5-9ad0-ef59fd75f051",
   "metadata": {},
   "source": [
    "# [$\\Delta f$](https://www.youtube.com/watch?v=6fBiTe3LA8c)\n",
    "> ### $[x_0-h] - [x_0] - [x_0+h]$\n",
    ">> ### $[x_0]$ is constant, but x is independent variable\n",
    ">>> ### $ f(x_0) = f(x_0) + (x-x_0)\\,f'(x_0) + \\frac{(x-x_0)^2}{2!}f''(x_0) + \\frac{(x-x_0)^3}{3!}f^{(3)}(x_0) + ...$ \n",
    ">> ### $[x_0 + h]$ - substitude $x$ to $[x_0 + h]$\n",
    ">>> ### $ f(x_0 + h) = f(x_0) + (x_0+h - x_0)f'(x_0) + \\frac{((x_0 + h)  - x_0)^2}{2!}f''(x_0) + \\frac{((x_0+h)-x_0)^3}{3!}f^{(3)}(x_0) + ...$ \n",
    ">>> ### $ f(x_0 + h) = f(x_0) + hf'(x_0) + \\frac{h^2}{2!}f''(x_0) + \\frac{h^3}{3!}f^{(3)}(x_0) + ...$ \n",
    ">> ### gneralization\n",
    ">>> ### $ f(x+h) = f(x) + h\\, f'(x) + \\frac{h^2}{2!}f''(x) + \\frac{h^3}{3!}f^{(3)}(x) + ...$ \n",
    "> ### $\\because f(x+h) - f(x) = h f'(x) + \\frac{h^2}{2!}f''(x) + \\frac{h^3}{3!}f^{(3)}(x) + ... $ \n",
    "> ### $ h = \\Delta x$\n",
    "> ### $ \\because \\color{magenta} {\\Delta f} = f(\\color{magenta} {x+h}) - f(\\color{magenta}{x}) = \\color{magenta} {\\Delta{x}} f'(x) + \\frac{\\color{magenta}{\\Delta {x}^2}}{2!}f''(x) + \\frac{\\color{magenta}{\\Delta{x}^3}}{3!}f^{(3)}(x) \\, + ... $ "
   ]
  },
  {
   "cell_type": "markdown",
   "id": "ed529ace-e2df-41ca-b4a8-7be6f87f4c34",
   "metadata": {},
   "source": [
    "# [Taylor series](https://www.youtube.com/watch?v=of6_jCLW5HI&list=PLxjFN6S-kT9-BUCQ0oTKW1X6KG2gkomwp&index=62&t=558s)\n",
    "## $f(x,y,z) = \\begin{cases}\n",
    "f(a,b,c)\\: + \n",
    "\\\\\n",
    "\\frac{(x-a)}{1!}\\; \\frac{\\partial f}{\\partial{x}}\\; \\big|_{(a,b,c)}\\: +\\: \n",
    "\\frac{(y-b)}{1!}\\; \\frac{\\partial f}{\\partial{y}}\\; \\big|_{(a,b,c)}\\: +\\: \n",
    "\\frac{(z-c)}{1!}\\; \\frac{\\partial f}{\\partial{z}}\\; \\big|_{(a,b,c)}\\: +\\: \n",
    "\\\\\n",
    "\\frac{(x-a)^2}{2!}\\frac{\\partial^2 f}{\\partial{x}^2}\\,\\big|_{(a,b,c)}\\: +\\: \n",
    "\\frac{(y-b)^2}{2!}\\frac{\\partial^2 f}{\\partial{y}^2}\\,\\big|_{(a,b,c)}\\: +\\: \n",
    "\\frac{(z-c)^2}{2!}\\frac{\\partial^2 f}{\\partial{z}^2}\\,\\big|_{(a,b,c)}\\: +\\: \n",
    "\\frac{(x-a)(x-b)}{2!}\\frac{\\partial f}{\\partial{x}}\\, \\frac{\\partial f}{\\partial{y}}\\,\\big|_{(a,b,c)}\\: +\\: \n",
    "\\\\\n",
    "\\frac{(x-a)^3}{3!}\\frac{\\partial^3 f}{\\partial{x}^3}\\,\\big|_{(a,b,c)}\\: +\\: \n",
    "\\frac{(y-b)^3}{3!}\\frac{\\partial^3 f}{\\partial{y}^3}\\,\\big|_{(a,b,c)}\\: +\\: \n",
    "\\frac{(z-c)^3}{3!}\\frac{\\partial^3 f}{\\partial{z}^3}\\,\\big|_{(a,b,c)}\\: +\\: \\dots \n",
    "\\end{cases}\n",
    "$"
   ]
  },
  {
   "cell_type": "markdown",
   "id": "12d97299-8334-4166-8f4f-e975a9360f9c",
   "metadata": {},
   "source": [
    "> ## $ \\text{such that }\\begin{cases} \n",
    "\\delta x = x-a\\\\\n",
    "\\delta y = y-b\\\\\n",
    "\\delta z = z-c\\\\\n",
    "\\end{cases}$\n",
    "> ### $\n",
    "df = f(x,y,z) - f(a,b,c) \\\\\n",
    "\\quad =\\frac{(x-a)}{1!}\\frac{\\partial f}{\\partial x}\\big|_{(a,b,c)} \n",
    "+\n",
    "\\frac{(y-b)}{1!}\\frac{\\partial f}{\\partial y}\\big|_{(a,b,c)}\n",
    "+\n",
    "\\frac{(z-c)}{1!}\\frac{\\partial f}{\\partial z}\\big|_{(a,b,c)}\n",
    "+\n",
    "\\frac{(x-a)^2}{2!}\\frac{\\partial^2f}{\\partial x^2}\\big|_{(a,b,c)}\n",
    "+\n",
    "\\frac{(y-b)^2}{2!}\\frac{\\partial^2f}{\\partial y^2}\\big|_{(a,b,c)}\n",
    "+\n",
    "\\frac{(z-c)^2}{2!}\\frac{\\partial^2f}{\\partial z^2}\\big|_{(a,b,c)}\\\\\n",
    "\\quad =\\frac{dx}{1!}\\frac{\\partial f}{\\partial x}\\big|_{(a,b,c)} \n",
    "+\n",
    "\\frac{dy}{1!}\\frac{\\partial f}{\\partial y}\\big|_{(a,b,c)}\n",
    "+\n",
    "\\frac{dz}{1!}\\frac{\\partial f}{\\partial z}\\big|_{(a,b,c)}\n",
    "+\n",
    "\\frac{(dx)^2}{2!}\\frac{\\partial^2f}{\\partial x^2}\\big|_{(a,b,c)}\n",
    "+\n",
    "\\frac{(dy)^2}{2!}\\frac{\\partial^2f}{\\partial y^2}\\big|_{(a,b,c)}\n",
    "+\n",
    "\\frac{(dz)^2}{2!}\\frac{\\partial^2f}{\\partial z^2}\\big|_{(a,b,c)}\n",
    "\\\\\n",
    "\\quad =\\frac{dx}{1!}\\frac{\\partial f}{\\partial x}\\big|_{(a,b,c)} \n",
    "+\n",
    "\\frac{dy}{1!}\\frac{\\partial f}{\\partial y}\\big|_{(a,b,c)}\n",
    "+\n",
    "\\frac{dz}{1!}\\frac{\\partial f}{\\partial z}\\big|_{(a,b,c)}\n",
    "+ \\dots\n",
    "\\\\\n",
    "\\quad = \n",
    "(\\frac{\\partial f}{\\partial x}, \n",
    "\\frac{\\partial f}{\\partial y}, \n",
    "\\frac{\\partial f}{\\partial z}) \\cdot (dx, dy, dz) \\\\\n",
    "\\quad = \n",
    "(\\frac{\\partial }{\\partial x}f, \n",
    "\\frac{\\partial }{\\partial y}f, \n",
    "\\frac{\\partial }{\\partial z}f) \\cdot (dx, dy, dz) \\\\\n",
    "\\quad = \n",
    "(\\frac{\\partial }{\\partial x}, \n",
    "\\frac{\\partial }{\\partial y}, \n",
    "\\frac{\\partial }{\\partial z})f \\cdot (dx, dy, dz) \\\\\n",
    "\\begin{cases}\n",
    "\\quad \\because \\nabla = \n",
    "(\\frac{\\partial}{\\partial x}, \n",
    "\\frac{\\partial}{\\partial y}, \n",
    "\\frac{\\partial}{\\partial z}) \\\\\n",
    "\\nabla f \\cdot (dx,dy,dz) \\\\\n",
    "\\nabla f \\cdot d\\vec{r} \\\\\n",
    "\\quad d\\vec{r} = \\text{ 쬐끔 변하는 방향벡터}\n",
    "\\end{cases}\n",
    "$"
   ]
  },
  {
   "cell_type": "markdown",
   "id": "3c9827dd-74ce-4efd-a35e-447965d66978",
   "metadata": {},
   "source": [
    "## Del() nabla ($\\nabla$)\n",
    "> sympy.vector.Del()\n",
    ">> sympy.vector.Del(f),...dot(u), ..cross(u)\n",
    ">>> where, u is potential field vector, f is scalar function\n",
    "\n",
    "> ### $ \\nabla = \\; <\n",
    "\\frac{\\partial}{\\partial x_0},\n",
    "\\frac{\\partial}{\\partial x_1},\n",
    "\\frac{\\partial}{\\partial x_2},\n",
    "\\frac{\\partial}{\\partial x_3},\n",
    "\\dots>\n",
    "$ \n",
    ">> ### $\\nabla f(x,y,z) = [f(x,y,z)_x, f(x,y.z)_y, f(x,y,z)_z]$\n",
    ">>> ### $ \\because f(x,y,z) \\text{ is scalar function}$\n",
    ">> ### $\\nabla \\cdot f(x,y,z) = <g(t)_x, h(t)_y, k(t)_z>$\n",
    ">>> #### $ \\because f(x,y,z) \\begin{cases} x=g(t),\\\\y=h(t),\\\\z=k(t)\\end{cases}\n",
    "\\text{ is vector function of parameterized}$"
   ]
  },
  {
   "cell_type": "markdown",
   "id": "ab373ab3-3c0c-46ec-afe1-4ce7e5106019",
   "metadata": {},
   "source": [
    "## Gradient ($\\nabla f$)\n",
    "> ## f is scalar function\n",
    ">> ## the result turns out a vector\n",
    "> ## sympy.vector.Del(f)\n",
    ">> $\\therefore  f $ has to return a real number"
   ]
  },
  {
   "cell_type": "markdown",
   "id": "a6a93efc-81ff-4b48-a332-b4c723606de7",
   "metadata": {},
   "source": [
    "---\n",
    "# 전미분 (df)\n",
    "> ## $ df =  \\frac{\\partial f}{\\partial x}dx + \\frac{\\partial f}{\\partial y}dy + \\frac{\\partial f}{\\partial z}dz$\n",
    ">> ## $ (\\frac{\\partial f}{\\partial x} , \\frac{\\partial f}{\\partial y} , \\frac{\\partial f}{\\partial z}) \\cdot (dx,dy,dz)$\n",
    ">> ## $ (\\frac{\\partial}{\\partial x} , \\frac{\\partial}{\\partial y} , \\frac{\\partial}{\\partial z})f \\cdot (dx,dy,dz)$\n",
    ">> ## $ (\\frac{\\partial}{\\partial x} , \\frac{\\partial}{\\partial y} , \\frac{\\partial}{\\partial z})f \\cdot d\\vec{r}$\n",
    ">> ## $ \\nabla f \\cdot d\\vec{r} $\n",
    "\n",
    "> ## 전미분에서 방향 벡터를 제거하면 그래디언트  \n",
    ">> ## $\\nabla f \\cdot d\\vec{r} \\Rightarrow  \\nabla f\\\\\n",
    "\\because \\nabla f = (\\frac{\\partial}{\\partial x} , \\frac{\\partial}{\\partial y} , \\frac{\\partial}{\\partial z})f  $\n",
    "> ## 그래디언트에서 포텐셜 필드 함수를 빼내고 나면 델(nabla)가 된다.\n",
    ">> ## $\\nabla f \\cdot d\\vec{r} \\Rightarrow \\nabla f \\Rightarrow \\nabla \\\\\n",
    "\\because \\nabla  = (\\frac{\\partial}{\\partial x} , \\frac{\\partial}{\\partial y} , \\frac{\\partial}{\\partial z})  $\n",
    "---"
   ]
  },
  {
   "cell_type": "markdown",
   "id": "e3d2c664-38af-4909-96b3-de5862428ed8",
   "metadata": {
    "tags": []
   },
   "source": [
    "# Directional Derivative\n",
    "> ## $ \\nabla_v f(x) = \\nabla f(x) \\cdot \\vec{v}\n",
    "$\n",
    ">> ### 함수 f가 어떤 포인트에서 벡터 v방향으로 움직일때 그 지점에서 함수의 도함수(기울기,함수값의 변화율)를 구하려는 것임\n",
    "> ## $ \\nabla_v f(x) = \\nabla f(x) \\cdot \\frac{\\vec{v}}{||\\vec{v}||}\n",
    "$\n",
    "> ## $ \\quad \\text{ where } \\vec{u} = <a,b,c>, \\\\\n",
    "\\nabla_uf(x_0,x_1,x_2) \n",
    "= \n",
    "\\lim\\limits_{h\\to0}\n",
    "\\frac{f(x_0 + h_a,\\; x_1+h_b,\\; x_2h_c) - f(x_0,\\;x_1,\\;x_2)}{h} \\\\\n",
    "\\quad = f_{x_0}a + f_{x_1}b + f_{x_2}c \\\\\n",
    "\\quad = \\;< f_{x_0}, \\;f_{x_1}, \\; f_{x_2}> \\cdot < a,\\; b,\\; c > \\\\\n",
    "\\quad = \\;< \n",
    "\\frac{\\partial}{\\partial x_0}, \n",
    "\\frac{\\partial}{\\partial x_0}, \n",
    "\\frac{\\partial}{\\partial x_0}>\n",
    "f(x_0,\\;x_1\\;,x_2) \\; \\cdot < a,\\; b,\\; c >\n",
    "\\\\\n",
    "$\n",
    "> ## $ \\quad \\text{ restriction to a unit vector } \\vec{u} = <a,b,c>, \\\\\n",
    "\\nabla_{\\hat{u}}f(x_0,x_1,x_2) \n",
    "= \n",
    "\\lim\\limits_{h\\to0}\n",
    "\\frac{f(x_0 + h_a,\\; x_1+h_b,\\; x_2h_c) - f(x_0,\\;x_1,\\;x_2)}{h|v|}\n",
    "$\n",
    "\n",
    "> # $ D_uf(x,y) = \\lim\\limits_{h\\to 0} \\frac{f(x+hcos\\theta,\\; y + hsin\\theta) - f(x,y)}{h}$\n",
    "> [link](https://www.youtube.com/watch?v=r0NL1s6urhs)\n",
    ">> ### if $\\theta = 0$ then $D_uf(x,y) = f_x $  \n",
    ">> ### if $\\theta = \\frac{\\pi}{2}$ then $D_uf(x,y) = f_y$"
   ]
  },
  {
   "cell_type": "markdown",
   "id": "016c853f-d53b-407c-8545-200d096f2a54",
   "metadata": {},
   "source": [
    "# [problem](https://www.youtube.com/watch?v=H2eND512nQQ&t=596s)\n",
    "\n",
    "> ## $ f(x,y) = x^2y^3 - 4y, \\quad  v=<2,5> $ \n",
    "> ## find $ D_{u}F(3,-1) $\n",
    "> ## $\\vec{v}$ 방향으로 함수 f가 <3,-1> 지점에서 도함수를 구하라"
   ]
  },
  {
   "cell_type": "code",
   "execution_count": 143,
   "id": "57fd9820-9938-4d48-b9fc-bbc35e181576",
   "metadata": {},
   "outputs": [
    {
     "data": {
      "text/latex": [
       "$\\displaystyle - \\frac{41 \\sqrt{10}}{10}$"
      ],
      "text/plain": [
       "-41*sqrt(10)/10"
      ]
     },
     "execution_count": 143,
     "metadata": {},
     "output_type": "execute_result"
    }
   ],
   "source": [
    "# https://www.youtube.com/watch?v=H2eND512nQQ&t=596s\n",
    "# f(x,y) = x^y^3 - 4y v=<2,5> find D_{u}F(3,-1)\n",
    "## \\vec{v} 방향으로 함수f가 <3,-1> 지점에서 도함수를 구하라\n",
    "import sympy as sm\n",
    "import sympy.vector\n",
    "B = sm.vector.CoordSys3D('')\n",
    "n,x,y,z = sm.symbols('n x y z')\n",
    "\n",
    "f = B.x**2 * B.y**3 - 4*B.y\n",
    "\n",
    "# u vector and matrix\n",
    "um = sm.Matrix([3, -1, 0])\n",
    "uv = sm.vector.matrix_to_vector(umat,B)\n",
    "# normal u vector and matirx\n",
    "uvn = uvec/sm.sqrt(uvec.dot(uvec))\n",
    "umn = umat/sm.sqrt(umat.dot(umat)) \n",
    "\n",
    "# \\nabla f(x,y) = gradient\n",
    "nabla = sm.vector.Del()\n",
    "nabla.gradient(f).doit()\n",
    "\n",
    "# gradient = f_x + f_y + f_z\n",
    "gradient = sm.Matrix([f.diff(B.x), f.diff(B.y), f.diff(B.z)])\n",
    "grad = gradient.subs({B.x:3,B.y:-1,B.z:0})\n",
    "\n",
    "# \\nabla f(x,y)|_{x=3,y=-1,z=0} \\iff matrix.subs|_{}\n",
    "nabla.gradient(f).subs({B.x:3,B.y:-1,B.z:0}).doit()\n",
    "nabla.gradient(f).subs({B.x:3,B.y:-1,B.z:0}).doit().dot(uvn)\n",
    "gradient.subs({B.x:3,B.y:-1,B.z:0}).dot(umn)"
   ]
  },
  {
   "cell_type": "markdown",
   "id": "ef872bfd-87da-4120-a457-f5853ce72507",
   "metadata": {},
   "source": [
    "# Mean value theorem $\\iff$ total derivative\n",
    "> ## $ f'(c) = \\frac{f(b)-f(a)}{(b-a)}$\n",
    ">> ## $ \\quad a < c < b$\n",
    ">> ## $ f'(c)(b-a) = f(b) - f(a)$\n",
    ">> ## $ f'(c)(b-a) + f(a) = f(b)$\n",
    "> ## $\\therefore f(b) = f(a) + f'(c)(b-a)$\n",
    "> ## $\\therefore f(a+h) = f(a) + f'(a+(c-a))h, $\n",
    "> ## $\\therefore f(x + \\Delta x) = f(x) + f'(x+\\Delta x - \\epsilon_0)\\Delta x$\n",
    "> ## $\\therefore f(x + dx) \\approx f(x) + f'(x)\\;dx$\n",
    "> ## $\\therefore df \\approx f'(x)\\;dx$\n"
   ]
  },
  {
   "cell_type": "markdown",
   "id": "7fe628fa-f020-45b3-a93c-169bd2e06e40",
   "metadata": {},
   "source": [
    "# Sequences and Series\n",
    "> ## $$ \\sum_{n=0}^{\\infty}\\frac{6}{4^n}$$"
   ]
  },
  {
   "cell_type": "code",
   "execution_count": 2,
   "id": "722d3c32-1ce7-4536-a4ac-79043eef15dc",
   "metadata": {},
   "outputs": [
    {
     "data": {
      "text/latex": [
       "$\\displaystyle \\sum_{n=0}^{\\infty} 6 \\cdot 4^{- n}$"
      ],
      "text/plain": [
       "Sum(6/4**n, (n, 0, oo))"
      ]
     },
     "execution_count": 2,
     "metadata": {},
     "output_type": "execute_result"
    }
   ],
   "source": [
    "sm.Sum(6/4**n,(n,0,sm.oo))"
   ]
  },
  {
   "cell_type": "code",
   "execution_count": 3,
   "id": "c0740df8-4ad6-4ab8-86bd-b74f45925d61",
   "metadata": {},
   "outputs": [
    {
     "data": {
      "text/latex": [
       "$\\displaystyle 8$"
      ],
      "text/plain": [
       "8"
      ]
     },
     "execution_count": 3,
     "metadata": {},
     "output_type": "execute_result"
    }
   ],
   "source": [
    "sm.Sum(6/4**n,(n,0,sm.oo)).doit()"
   ]
  },
  {
   "cell_type": "markdown",
   "id": "f0e4331f-7303-4b9d-837a-9b41da4079ee",
   "metadata": {},
   "source": [
    "> ## approximation = n()\n",
    ">> n() : n is acronym of number\n",
    ">> ## $$ \\sum_{n=1}^{\\infty} \\frac{tan^{-1}(n)}{n^{1.1}}$$"
   ]
  },
  {
   "cell_type": "code",
   "execution_count": 10,
   "id": "dc04fd5b-c8bd-4639-8f20-c22468ba004a",
   "metadata": {},
   "outputs": [
    {
     "data": {
      "text/latex": [
       "$\\displaystyle \\frac{\\operatorname{atan}{\\left(n \\right)}}{n^{\\frac{11}{10}}}$"
      ],
      "text/plain": [
       "atan(n)/n**(11/10)"
      ]
     },
     "execution_count": 10,
     "metadata": {},
     "output_type": "execute_result"
    }
   ],
   "source": [
    "eq = sm.atan(n) / n**sm.Rational(11,10)\n",
    "eq"
   ]
  },
  {
   "cell_type": "code",
   "execution_count": 14,
   "id": "9f9626f5-f12b-4c17-9c3f-c3f179581708",
   "metadata": {},
   "outputs": [
    {
     "data": {
      "text/latex": [
       "$\\displaystyle \\sum_{n=1}^{\\infty} \\frac{\\operatorname{atan}{\\left(n \\right)}}{n^{\\frac{11}{10}}}$"
      ],
      "text/plain": [
       "Sum(atan(n)/n**(11/10), (n, 1, oo))"
      ]
     },
     "execution_count": 14,
     "metadata": {},
     "output_type": "execute_result"
    }
   ],
   "source": [
    "sm.Sum(eq,(n,1,sm.oo)).doit()"
   ]
  },
  {
   "cell_type": "code",
   "execution_count": 15,
   "id": "ba26f282-ad05-449b-8540-fe9c61fb26a8",
   "metadata": {},
   "outputs": [
    {
     "data": {
      "text/latex": [
       "$\\displaystyle 15.3028821020457$"
      ],
      "text/plain": [
       "15.3028821020457"
      ]
     },
     "execution_count": 15,
     "metadata": {},
     "output_type": "execute_result"
    }
   ],
   "source": [
    "sm.Sum(eq,(n,1,sm.oo)).n()"
   ]
  },
  {
   "cell_type": "code",
   "execution_count": 13,
   "id": "58a6ae41-1f57-4d74-900a-b11fcc895171",
   "metadata": {},
   "outputs": [
    {
     "data": {
      "text/latex": [
       "$\\displaystyle f{\\left(0 \\right)} - \\left(- a + x\\right) \\left. \\frac{d}{d \\xi} f{\\left(\\xi \\right)} \\right|_{\\substack{ \\xi=0 }} + \\frac{\\left(- a + x\\right)^{2} \\left. \\frac{d^{2}}{d \\xi^{2}} f{\\left(\\xi \\right)} \\right|_{\\substack{ \\xi=0 }}}{2} - \\frac{\\left(- a + x\\right)^{3} \\left. \\frac{d^{3}}{d \\xi^{3}} f{\\left(\\xi \\right)} \\right|_{\\substack{ \\xi=0 }}}{6} + \\frac{\\left(- a + x\\right)^{4} \\left. \\frac{d^{4}}{d \\xi^{4}} f{\\left(\\xi \\right)} \\right|_{\\substack{ \\xi=0 }}}{24} - \\frac{\\left(- a + x\\right)^{5} \\left. \\frac{d^{5}}{d \\xi^{5}} f{\\left(\\xi \\right)} \\right|_{\\substack{ \\xi=0 }}}{120} + O\\left(\\left(- a + x\\right)^{6}; x\\rightarrow a\\right)$"
      ],
      "text/plain": [
       "f(0) - (-a + x)*Subs(Derivative(f(xi), xi), xi, 0) + (-a + x)**2*Subs(Derivative(f(xi), (xi, 2)), xi, 0)/2 - (-a + x)**3*Subs(Derivative(f(xi), (xi, 3)), xi, 0)/6 + (-a + x)**4*Subs(Derivative(f(xi), (xi, 4)), xi, 0)/24 - (-a + x)**5*Subs(Derivative(f(xi), (xi, 5)), xi, 0)/120 + O((-a + x)**6, (x, a))"
      ]
     },
     "execution_count": 13,
     "metadata": {},
     "output_type": "execute_result"
    }
   ],
   "source": [
    "import sympy as sm\n",
    "x,a = sm.symbols('x a')\n",
    "f = sm.symbols('f',cls=sm.Function)\n",
    "sm.series(f(a-x),x,a,6,\"+\")"
   ]
  },
  {
   "cell_type": "markdown",
   "id": "21f8b8ad-7fdb-4a3f-9e9d-d65d22b26e7f",
   "metadata": {},
   "source": [
    "# [Tayloar series]( https://www.youtube.com/watch?v=UT4QY-H4Dyk&list=PLIxff5DJJR7oBEy0Kdg12WWSlS6XFtr6r&index=18)\n",
    "> ### $\n",
    "f(x+hx, y+hy) = \n",
    "f(x,y) + \n",
    "\\Big(hx \\frac{\\partial f}{\\partial x} + hy \\frac{\\partial f}{\\partial y}\\big) +\n",
    "\\frac{1}{2}\\Big({hx}^2 \\frac{\\partial^2 f}{\\partial x^2} + \n",
    "2{hx}^2{hy}^2 \\frac{\\partial^2 f}{\\partial x \\partial y} + \n",
    "{hy}^2 \\frac{\\partial^2 f}{\\partial y^2} \\Big) + ...\n",
    "$\n",
    "> ### $\n",
    "f(x+hx, y+hy) =  f(x,y) + \n",
    "\\begin{bmatrix}\n",
    "\\frac {\\partial f}{\\partial x} & \\frac{\\partial f}{\\partial y}\n",
    "\\end{bmatrix} \n",
    "\\begin{bmatrix} hx \\\\ hy \\end{bmatrix}\n",
    "+ \\frac{1}{2}\n",
    "\\begin{bmatrix} hx & hy \\end{bmatrix}\n",
    "\\begin{bmatrix}\n",
    "\\frac{\\partial^2 f}{\\partial x^2}  & \\frac{\\partial^2 f}{\\partial x \\partial y} \\\\ \n",
    "\\frac{\\partial^2 f}{\\partial y \\partial x}  & \\frac{\\partial^2 f}{\\partial y^2}\n",
    "\\end{bmatrix} \n",
    "\\begin{bmatrix} hx \\\\ hy \\end{bmatrix}\n",
    "$"
   ]
  },
  {
   "cell_type": "markdown",
   "id": "06323f9e-2016-437a-8241-2371441f398f",
   "metadata": {},
   "source": [
    "# 독립변수 미소 변화량 \n",
    ">> ### $ d = \\begin{bmatrix}hx \\\\ hy  \\end{bmatrix}$\n",
    "\n",
    "# gradient matrix\n",
    ">> ### $ g = \\frac{\\partial f}{\\partial \\vec{x}} \n",
    "= \n",
    "\\Big(\n",
    "\\frac{\\partial f}{\\partial x_i} \n",
    "\\Big)$\n",
    "\n",
    ">> ### $ df = g^T[d\\vec{x}]$"
   ]
  },
  {
   "cell_type": "markdown",
   "id": "af23ed10-e912-4278-b1b2-2d2d256c069b",
   "metadata": {},
   "source": [
    "# Hesian matrix\n",
    "> ### $\n",
    "H = \\frac{\\partial^2 f}{\\partial \\vec{x} \\partial \\vec{x}} \n",
    "= \\Big(\\frac{\\partial^2 f}{\\partial x_i \\partial x_j}\\Big)\n",
    "=\n",
    "\\begin{bmatrix}\n",
    "\\frac{\\partial^2 f}{\\partial x^2} & \n",
    "\\frac{\\partial^2 f}{\\partial x \\partial y }\\\\\n",
    "\\frac{\\partial^2 f}{\\partial y \\partial x } & \n",
    "\\frac{\\partial^2 f}{\\partial y2}\\\\\n",
    "\\end{bmatrix}\n",
    "$\n",
    "> ### $ df = [d\\vec{x}]^TH[d\\vec{x}]$"
   ]
  },
  {
   "cell_type": "markdown",
   "id": "2353e2b4-5068-44c5-856a-cae64935ed25",
   "metadata": {},
   "source": [
    "# $ \n",
    "f(x+d) = f(x) + \\Big( \\frac{\\partial f}{\\partial\\vec{x}}\\Big)^T d + d^THd\n",
    "$\n",
    "# $ \n",
    "f(x+dx) = f(x) + \\Big( \\frac{\\partial f}{\\partial\\vec{x}}\\Big)^T dx + (dx)^TH(dx)\n",
    "$"
   ]
  },
  {
   "cell_type": "markdown",
   "id": "6e06471a-ee3a-4a0b-9913-82b93eb6e1c8",
   "metadata": {},
   "source": [
    "# Multi function\n",
    "> ## multi independent variable\n",
    ">> ### $x = \\begin{bmatrix} x \\\\ y \\end{bmatrix}$\n",
    "\n",
    "> ## multi dependent variable\n",
    ">> ### $ f = \\begin{bmatrix} f_1 \\\\ f_2\\end{bmatrix}$\n",
    "> ### $\n",
    "df_1(x,y) = \n",
    "\\frac{\\partial f_1}{\\partial x}dx + \n",
    "\\frac{\\partial f_1}{\\partial y}dy$\n",
    "\n",
    "> ### $ \n",
    "df_2(x,y) = \n",
    "\\frac{\\partial f_2}{\\partial x}dx + \n",
    "\\frac{\\partial f_2}{\\partial y}dy$\n",
    "\n",
    "> ### $\\begin{bmatrix} df_1 \\\\ df_2 \\end{bmatrix}\n",
    "= \\begin{bmatrix} \n",
    "\\frac{\\partial f_1}{\\partial x} &\n",
    "\\frac{\\partial f_1}{\\partial y} \\\\\n",
    "\\frac{\\partial f_2}{\\partial x} &\n",
    "\\frac{\\partial f_2}{\\partial y}\n",
    "\\end{bmatrix} \n",
    "\\begin{bmatrix} \n",
    "dx \\\\  dy\n",
    "\\end{bmatrix}$\n",
    "\n",
    "> ### $ \\frac{\\partial \\vec{f}}{\\partial \\vec{x}}\n",
    "= \\Big( \\frac{\\partial f_i}{\\partial x_j} \\Big)\n",
    "= \\begin{bmatrix} \n",
    "\\frac{\\partial f_1}{\\partial x_1} &\n",
    "\\frac{\\partial f_1}{\\partial x_2} \\\\\n",
    "\\frac{\\partial f_2}{\\partial x_1} &\n",
    "\\frac{\\partial f_2}{\\partial x_2}\n",
    "\\end{bmatrix} $"
   ]
  },
  {
   "cell_type": "markdown",
   "id": "60a9f1b8-a51d-44ee-b10e-4b8c33c025e2",
   "metadata": {},
   "source": [
    "# Jacobian\n",
    "> ### $ J = \\frac{\\partial \\vec{f}}{\\partial \\vec{x}}\n",
    "= \\Big( \\frac{\\partial f_i}{\\partial x_j}\\Big)$\n",
    "> ### $ [d\\vec{f}] = J[d \\vec{x}]$"
   ]
  },
  {
   "cell_type": "markdown",
   "id": "6c0c49c7-a452-47ab-a623-71a72108f9d1",
   "metadata": {},
   "source": [
    "# gradient in n-space\n",
    ">### $\n",
    "d\\vec{r} = \\vec{e}_1dx_1 + \\vec{e}_2dx_2 + ... + \\vec{e}_ndx_n,\n",
    "\\quad \\vec{e}_i\\cdot \\vec{e}_j = \\delta_{ij}$\n",
    "> ### $\n",
    "f(\\vec{r} + d\\vec{r}) = f(\\vec{r}) + dx_1\\frac{\\partial f}{\\partial x_1} + \n",
    "dx_2\\frac{\\partial f}{\\partial x_2} + ... + \n",
    "dx_n\\frac{\\partial f}{\\partial x_n} \\\\\n",
    "= f(\\vec{r}) + d\\vec{r}\\cdot \\frac{\\partial f}{\\partial \\vec{r}} + ...\n",
    "$\n",
    "> ### $\n",
    "\\frac{df}{d\\vec{r}} = \\frac{d}{d\\vec{r}}(f) = \\Big(\\vec{e}_1 \\frac{\\partial}{\\partial x_1} + \\vec{e}_2 \\frac{\\partial}{\\partial x_2}+...+ \\vec{e}_n \\frac{\\partial}{\\partial x_n}  \\Big)(f) = \\nabla f\n",
    "$"
   ]
  },
  {
   "cell_type": "markdown",
   "id": "455e633d-5bfb-447d-8f34-49451250d5e0",
   "metadata": {},
   "source": [
    "# $ \\nabla f = \\frac{df}{dr} \\\\ \\therefore d = dr \\cdot \\nabla$\n"
   ]
  },
  {
   "cell_type": "code",
   "execution_count": null,
   "id": "3cec0294-2b54-4e0c-bd34-e1dc103b2d50",
   "metadata": {},
   "outputs": [],
   "source": []
  }
 ],
 "metadata": {
  "kernelspec": {
   "display_name": "Python 3 (ipykernel)",
   "language": "python",
   "name": "python3"
  },
  "language_info": {
   "codemirror_mode": {
    "name": "ipython",
    "version": 3
   },
   "file_extension": ".py",
   "mimetype": "text/x-python",
   "name": "python",
   "nbconvert_exporter": "python",
   "pygments_lexer": "ipython3",
   "version": "3.10.1"
  }
 },
 "nbformat": 4,
 "nbformat_minor": 5
}
