{
 "cells": [
  {
   "cell_type": "markdown",
   "id": "25582eed-20b5-46b4-9020-03c4ff8f6f20",
   "metadata": {},
   "source": [
    "# i.e\n",
    "> that is\n",
    ">> id est,\n",
    "\n",
    "# e.g\n",
    "> for example\n",
    ">> exempli gratia in Latin\n",
    "\n",
    "# s.t\n",
    "> such that\n",
    "\n",
    "# wrt\n",
    "> with respect to\n",
    ">> taking as independent varialbe\n",
    "\n",
    "# iff\n",
    "> if and only if "
   ]
  },
  {
   "cell_type": "markdown",
   "id": "484e5706-fb07-4359-a03b-efae4a56b6c1",
   "metadata": {},
   "source": [
    "# bases\n",
    "> 기본 축\n",
    "\n",
    "# scale factors (normalize)\n",
    "> scale\n",
    ">> 저울, 규모\n",
    "> factor\n",
    ">> 인수, \n",
    ">>> 2,3 is factor where 6 = 2 * 3 \n",
    "> scale factor\n",
    ">> 축척\n"
   ]
  },
  {
   "cell_type": "code",
   "execution_count": null,
   "id": "8953ddc4-b6e1-4000-87ca-a45039778d92",
   "metadata": {},
   "outputs": [],
   "source": []
  }
 ],
 "metadata": {
  "kernelspec": {
   "display_name": "Python 3 (ipykernel)",
   "language": "python",
   "name": "python3"
  },
  "language_info": {
   "codemirror_mode": {
    "name": "ipython",
    "version": 3
   },
   "file_extension": ".py",
   "mimetype": "text/x-python",
   "name": "python",
   "nbconvert_exporter": "python",
   "pygments_lexer": "ipython3",
   "version": "3.9.9"
  }
 },
 "nbformat": 4,
 "nbformat_minor": 5
}
