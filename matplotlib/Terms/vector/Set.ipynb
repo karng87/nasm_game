{
 "cells": [
  {
   "cell_type": "code",
   "execution_count": 53,
   "id": "96fe8a48-ba1c-4770-aa61-1f759608d962",
   "metadata": {},
   "outputs": [
    {
     "name": "stdout",
     "output_type": "stream",
     "text": [
      "(1, 1)\n",
      "(2, 1)\n",
      "(1, 2)\n",
      "(2, 2)\n"
     ]
    }
   ],
   "source": [
    "import sympy as sm\n",
    "s1 = sm.FiniteSet(1,2)\n",
    "s11 = sm.FiniteSet(1,2,3)\n",
    "s2 = sm.FiniteSet(1,2,3,4,5)\n",
    "s3 = sm.FiniteSet(*range(5,9))\n",
    "# element\n",
    "1 in s\n",
    "# subset\n",
    "s1.is_subset(s2)\n",
    "s2.is_superset(s1)\n",
    "s1.is_proper_subset(s11)\n",
    "# pwoerset\n",
    "s1.powerset()\n",
    "#union\n",
    "s3.union(s1)\n",
    "# intersect\n",
    "s3.intersect(s2)\n",
    "for i in s1**2:\n",
    "    print(i)"
   ]
  },
  {
   "cell_type": "code",
   "execution_count": 58,
   "id": "fa2d0ad8-e998-443e-b1db-37bb0aa4ae6d",
   "metadata": {},
   "outputs": [
    {
     "data": {
      "text/plain": [
       "[<matplotlib.lines.Line2D at 0x7ff0559027c0>]"
      ]
     },
     "execution_count": 58,
     "metadata": {},
     "output_type": "execute_result"
    },
    {
     "data": {
      "image/png": "[encoded data removed]",
      "text/plain": [
       "<Figure size 432x288 with 1 Axes>"
      ]
     },
     "metadata": {
      "needs_background": "light"
     },
     "output_type": "display_data"
    }
   ],
   "source": [
    "import matplotlib.pyplot as plt\n",
    "import numpy as np\n",
    "fig = plt.figure()\n",
    "ax = fig.add_subplot()\n",
    "x = np.linspace(-2,2,1000)\n",
    "y = np.exp(-x**2)\n",
    "ax.plot(x,y)\n",
    "ax.plot(x,np.exp(-x))"
   ]
  },
  {
   "cell_type": "code",
   "execution_count": 83,
   "id": "acd0f075-3432-4522-9138-691b3a7a4979",
   "metadata": {},
   "outputs": [
    {
     "data": {
      "text/latex": [
       "$\\displaystyle \\begin{cases} \\sqrt{2} \\sqrt{\\pi} C a & \\text{for}\\: 2 \\left|{\\arg{\\left(a \\right)}}\\right| \\leq \\frac{\\pi}{2} \\\\\\int\\limits_{-\\infty}^{\\infty} C e^{- \\frac{x^{2}}{2 a^{2}}}\\, dx & \\text{otherwise} \\end{cases}$"
      ],
      "text/plain": [
       "Piecewise((sqrt(2)*sqrt(pi)*C*a, 2*Abs(arg(a)) <= pi/2), (Integral(C*exp(-x**2/(2*a**2)), (x, -oo, oo)), True))"
      ]
     },
     "execution_count": 83,
     "metadata": {},
     "output_type": "execute_result"
    }
   ],
   "source": [
    "x = sm.symbols('x')\n",
    "a = sm.symbols('a',real=True)\n",
    "C = sm.symbols('C')\n",
    "p = C* sm.exp(-x**2/2/a**2)\n",
    "sm.Integral(p,(x,-sm.oo,sm.oo)).doit()"
   ]
  },
  {
   "cell_type": "code",
   "execution_count": 212,
   "id": "6872d9a2-4ca4-4ab5-889f-5bfb13c5f7f6",
   "metadata": {},
   "outputs": [
    {
     "data": {
      "text/latex": [
       "$\\displaystyle 20$"
      ],
      "text/plain": [
       "20"
      ]
     },
     "execution_count": 212,
     "metadata": {},
     "output_type": "execute_result"
    }
   ],
   "source": [
    "import sympy.functions\n",
    "sm.functions.combinatorial.numbers.nP(5,2)\n",
    "sm.factorial(5)/sm.factorial(3)\n",
    "sm.functions.combinatorial.numbers.nC(5,2)\n",
    "sm.factorial(5)/sm.factorial(3)/sm.factorial(2)"
   ]
  },
  {
   "cell_type": "code",
   "execution_count": 151,
   "id": "65ad6b0d-f0b6-4f7d-a276-7aa81ee410c1",
   "metadata": {},
   "outputs": [
    {
     "data": {
      "text/latex": [
       "$\\displaystyle \\operatorname{atan}{\\left(\\sqrt{2} \\right)}$"
      ],
      "text/plain": [
       "atan(sqrt(2))"
      ]
     },
     "execution_count": 151,
     "metadata": {},
     "output_type": "execute_result"
    }
   ],
   "source": []
  },
  {
   "cell_type": "code",
   "execution_count": 165,
   "id": "c8f733d6-795e-4da8-ae77-5c89ab382997",
   "metadata": {},
   "outputs": [
    {
     "data": {
      "text/latex": [
       "$\\displaystyle \\frac{\\sqrt{2}}{2}$"
      ],
      "text/plain": [
       "sqrt(2)/2"
      ]
     },
     "execution_count": 165,
     "metadata": {},
     "output_type": "execute_result"
    }
   ],
   "source": []
  },
  {
   "cell_type": "code",
   "execution_count": null,
   "id": "92add32c-267e-465b-8382-6862d2ac62e0",
   "metadata": {},
   "outputs": [],
   "source": []
  }
 ],
 "metadata": {
  "kernelspec": {
   "display_name": "Python 3 (ipykernel)",
   "language": "python",
   "name": "python3"
  },
  "language_info": {
   "codemirror_mode": {
    "name": "ipython",
    "version": 3
   },
   "file_extension": ".py",
   "mimetype": "text/x-python",
   "name": "python",
   "nbconvert_exporter": "python",
   "pygments_lexer": "ipython3",
   "version": "3.9.7"
  }
 },
 "nbformat": 4,
 "nbformat_minor": 5
}
