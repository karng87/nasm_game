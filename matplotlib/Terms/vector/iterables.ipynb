{
 "cells": [
  {
   "cell_type": "markdown",
   "id": "4482d616-64b1-4650-a480-1e7b36a23b6a",
   "metadata": {},
   "source": [
    "# Variation(변분법)\n",
    "## functional (범함수)\n",
    "> ## domain -> functions\n",
    ">> # rarnge -> functions\n",
    "> ## variation of calculus\n",
    ">> ## differential of funcional(변분)\n",
    ">>> ## cf) differential(미분) of value of function\n",
    ">>> ## cf) differnce(차분) of indipendent variable"
   ]
  },
  {
   "cell_type": "code",
   "execution_count": 5,
   "id": "2f7ed65b-ae2d-42af-b95e-ed5b2fa25603",
   "metadata": {},
   "outputs": [
    {
     "data": {
      "text/plain": [
       "[(1, 'a'), (1, 'b'), (2, 'a'), (2, 'b'), (3, 'a'), (3, 'b')]"
      ]
     },
     "execution_count": 5,
     "metadata": {},
     "output_type": "execute_result"
    }
   ],
   "source": [
    "import sympy as sm\n",
    "list(sm.utilities.iterables.cartes([1,2,3],'ab'))"
   ]
  },
  {
   "cell_type": "code",
   "execution_count": 102,
   "id": "5480aaf5-aaec-4b7e-b992-8342658809ec",
   "metadata": {},
   "outputs": [
    {
     "ename": "TypeError",
     "evalue": "variations() got an unexpected keyword argument 'repeat'",
     "output_type": "error",
     "traceback": [
      "\u001b[0;31m---------------------------------------------------------------------------\u001b[0m",
      "\u001b[0;31mTypeError\u001b[0m                                 Traceback (most recent call last)",
      "\u001b[0;32m/tmp/ipykernel_4078/3722303176.py\u001b[0m in \u001b[0;36m<module>\u001b[0;34m\u001b[0m\n\u001b[0;32m----> 1\u001b[0;31m \u001b[0mlist\u001b[0m\u001b[0;34m(\u001b[0m\u001b[0msm\u001b[0m\u001b[0;34m.\u001b[0m\u001b[0mutilities\u001b[0m\u001b[0;34m.\u001b[0m\u001b[0miterables\u001b[0m\u001b[0;34m.\u001b[0m\u001b[0mvariations\u001b[0m\u001b[0;34m(\u001b[0m\u001b[0;34m[\u001b[0m\u001b[0;36m1\u001b[0m\u001b[0;34m,\u001b[0m\u001b[0;36m2\u001b[0m\u001b[0;34m,\u001b[0m\u001b[0;36m3\u001b[0m\u001b[0;34m]\u001b[0m\u001b[0;34m,\u001b[0m\u001b[0;36m3\u001b[0m\u001b[0;34m,\u001b[0m\u001b[0mrepeat\u001b[0m\u001b[0;34m=\u001b[0m\u001b[0;32mTrue\u001b[0m\u001b[0;34m)\u001b[0m\u001b[0;34m)\u001b[0m\u001b[0;34m\u001b[0m\u001b[0;34m\u001b[0m\u001b[0m\n\u001b[0m",
      "\u001b[0;31mTypeError\u001b[0m: variations() got an unexpected keyword argument 'repeat'"
     ]
    }
   ],
   "source": [
    "list(sm.utilities.iterables.variations([1,2,3],3,repeat=True))"
   ]
  },
  {
   "cell_type": "code",
   "execution_count": 56,
   "id": "5f18a389-b8ed-42c1-8fbf-b1472c66bffd",
   "metadata": {},
   "outputs": [
    {
     "data": {
      "text/plain": [
       "{1: 4, 2: 5, 3: 3}"
      ]
     },
     "execution_count": 56,
     "metadata": {},
     "output_type": "execute_result"
    }
   ],
   "source": [
    "sm.utilities.iterables.flatten([[(1,2)],[(3,4)],[(5,6)]],levels=1)\n",
    "sm.utilities.iterables.group([1,1,2,2,2,3,1,2,3])\n",
    "sm.utilities.iterables.group([1,1,1,2,2,2,2,3,3,1,2,3],multiple=False)\n",
    "sm.utilities.iterables.multiset([1,1,1,2,2,2,2,3,3,1,2,3])\n",
    "sm.utilities.iterables.has_dups([1,2,3,2])\n",
    "set()\n",
    "dict()\n",
    "sm.Set()\n",
    "sm.Dict()"
   ]
  },
  {
   "cell_type": "code",
   "execution_count": 99,
   "id": "e492d457-9055-42b6-8e08-d71a1a6bf711",
   "metadata": {},
   "outputs": [
    {
     "data": {
      "text/plain": [
       "[(), (1,), (2,), (1, 2)]"
      ]
     },
     "execution_count": 99,
     "metadata": {},
     "output_type": "execute_result"
    }
   ],
   "source": [
    "import itertools\n",
    "list(itertools.permutations(range(3)))\n",
    "list(itertools.combinations(range(3),2))\n",
    "\n",
    "list(sm.utilities.iterables.multiset_combinations(range(3),2))\n",
    "list(sm.utilities.iterables.multiset_permutations(range(3),2))\n",
    "list(sm.utilities.iterables.multiset_partitions(range(4),2))\n",
    "list(sm.utilities.iterables.subsets([1,2]))"
   ]
  },
  {
   "cell_type": "code",
   "execution_count": null,
   "id": "e4238fd8-e00b-494a-beaf-4512e80317dc",
   "metadata": {},
   "outputs": [],
   "source": []
  }
 ],
 "metadata": {
  "kernelspec": {
   "display_name": "Python 3 (ipykernel)",
   "language": "python",
   "name": "python3"
  },
  "language_info": {
   "codemirror_mode": {
    "name": "ipython",
    "version": 3
   },
   "file_extension": ".py",
   "mimetype": "text/x-python",
   "name": "python",
   "nbconvert_exporter": "python",
   "pygments_lexer": "ipython3",
   "version": "3.9.7"
  }
 },
 "nbformat": 4,
 "nbformat_minor": 5
}
