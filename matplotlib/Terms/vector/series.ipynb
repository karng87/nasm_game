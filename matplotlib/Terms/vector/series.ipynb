{
 "cells": [
  {
   "cell_type": "markdown",
   "id": "d6506f4a-f7db-4e5c-b2b1-bd2013399905",
   "metadata": {},
   "source": [
    "### Taylor series\n",
    "> $ \n",
    "f(x,y,z) \n",
    "\\begin{cases}\n",
    "f(a,b,c)\\: + \n",
    "\\\\\n",
    "(x-a)\\frac{\\partial}{\\partial{x}}\\,f(a,b,c)\\: +\\: \n",
    "(y-a)\\frac{\\partial}{\\partial{y}}\\,f(a,b,c)\\: +\\: \n",
    "(z-a)\\frac{\\partial}{\\partial{z}}\\,f(a,b,c)\\: +\\: \n",
    "\\\\\n",
    "\\frac{(x-a)^2}{2!}\\frac{\\partial^2}{\\partial{x}^2}\\,f(a,b,c)\\: +\\: \n",
    "\\frac{(y-b)^2}{2!}\\frac{\\partial^2}{\\partial{y}^2}\\,f(a,b,c)\\: +\\: \n",
    "\\frac{(z-c)^2}{2!}\\frac{\\partial^2}{\\partial{z}^2}\\,f(a,b,c)\\: +\\: \n",
    "\\\\\n",
    "\\frac{(x-a)^3}{3!}\\frac{\\partial^3}{\\partial{x}^3}\\,f(a,b,c)\\: +\\: \n",
    "\\frac{(y-b)^3}{3!}\\frac{\\partial^3}{\\partial{y}^3}\\,f(a,b,c)\\: +\\: \n",
    "\\frac{(z-c)^3}{3!}\\frac{\\partial^3}{\\partial{z}^3}\\,f(a,b,c)\\: +\\: \n",
    "\\end{cases}\n",
    "$\n",
    "### Total derivative ($\\Delta f$, not $\\nabla f$)\n",
    "> ### $\\Delta f$  st. $\\Delta x$  \n",
    "> $\\delta f = f(x,y,z) - f(a,b,c) \n",
    "\\\\\n",
    "\\quad \\cong f(a,b,c)\\: + \\: \n",
    "(x-a)\\frac{\\partial}{\\partial{x}}\\,f(a,b,c)\\: +\\: \n",
    "(y-b)\\frac{\\partial}{\\partial{y}}\\,f(a,b,c)\\: +\\: \n",
    "(z-c)\\frac{\\partial}{\\partial{z}}\\,f(a,b,c)\\: - f(a,b,c)\\: \n",
    "\\\\\n",
    "\\begin{cases} \n",
    "x - a = dx \\\\\n",
    "y - b = dy \\\\\n",
    "z - c = dz\n",
    "\\end{cases} \\Longrightarrow\n",
    "\\Delta f = \n",
    "(dx)\\frac{\\partial}{\\partial{x}}\\,f(a,b,c)\\: +\\: \n",
    "(dy)\\frac{\\partial}{\\partial{y}}\\,f(a,b,c)\\: +\\: \n",
    "(dz)\\frac{\\partial}{\\partial{z}}\\,f(a,b,c)\\:\n",
    "$\n",
    "> ## $\\Delta f = (\\frac{\\partial}{\\partial x}f,\\frac{\\partial}{\\partial x}f,\\frac{\\partial}{\\partial x}f) \\cdot (dx, dy, dz) $\n",
    "\n",
    "> ## $\n",
    "st, (dx,dy,dz): = d\\vec{r}\\\\\n",
    "\\Delta f = \n",
    "\\begin {cases}\n",
    "(\\frac{\\partial}{\\partial x}f,\\frac{\\partial}{\\partial x}f,\\frac{\\partial}{\\partial x}f) \n",
    "\\cdot d\\vec{r} \n",
    "\\\\\n",
    "\\nabla f \\cdot d\\vec{r}\n",
    "\\end{cases}\n",
    "$\n",
    "## Del() nabla ($\\nabla$)\n",
    "> sympy.vector.Del()\n",
    ">> sympy.vector.Del(f),...dot(u), ..cross(u)\n",
    ">>> where, u is potential field vector, f is scalar function\n",
    "\n",
    "> ### $ \\nabla = [\n",
    "\\frac{\\partial}{\\partial x_0},\n",
    "\\frac{\\partial}{\\partial x_1},\n",
    "\\frac{\\partial}{\\partial x_2},\n",
    "\\frac{\\partial}{\\partial x_3},\n",
    "\\dots]\n",
    "$ \n",
    "\n",
    "## Gradient ($\\nabla f$)\n",
    "> ## f is scalar function\n",
    ">> ## the result turns out a vector\n",
    "> ## sympy.vector.Del(f)\n",
    ">> $\\therefore  f $ has to return a real number\n",
    "\n",
    "## 전미분 $(\\Delta f) \\Rightarrow $ Gradient f $(\\nabla f) \\Rightarrow \\nabla $ Del\n",
    "> 전미분에서 방향 벡터를 제거하면 그래디언트  \n",
    "> 그래디언트에서 포텐셜 필드 함수를 빼내고 나면 델(nabla)가 된다."
   ]
  },
  {
   "cell_type": "code",
   "execution_count": 1,
   "id": "57fd9820-9938-4d48-b9fc-bbc35e181576",
   "metadata": {},
   "outputs": [],
   "source": [
    "import sympy as sm\n",
    "n = sm.symbols('n')"
   ]
  },
  {
   "cell_type": "markdown",
   "id": "7fe628fa-f020-45b3-a93c-169bd2e06e40",
   "metadata": {},
   "source": [
    "# Sequences and Series\n",
    "> ## $$ \\sum_{n=0}^{\\infty}\\frac{6}{4^n}$$"
   ]
  },
  {
   "cell_type": "code",
   "execution_count": null,
   "id": "722d3c32-1ce7-4536-a4ac-79043eef15dc",
   "metadata": {},
   "outputs": [],
   "source": [
    "sm.Sum(6/4**n,(n,0,sm.oo))"
   ]
  },
  {
   "cell_type": "code",
   "execution_count": 16,
   "id": "c0740df8-4ad6-4ab8-86bd-b74f45925d61",
   "metadata": {},
   "outputs": [
    {
     "data": {
      "text/latex": [
       "$\\displaystyle 8$"
      ],
      "text/plain": [
       "8"
      ]
     },
     "execution_count": 16,
     "metadata": {},
     "output_type": "execute_result"
    }
   ],
   "source": [
    "sm.Sum(6/4**n,(n,0,sm.oo)).doit()"
   ]
  },
  {
   "cell_type": "markdown",
   "id": "f0e4331f-7303-4b9d-837a-9b41da4079ee",
   "metadata": {},
   "source": [
    "> ## approximation = n()\n",
    ">> n() : n is acronym of number\n",
    ">> ## $$ \\sum_{n=1}^{\\infty} \\frac{tan^{-1}(n)}{n^{1.1}}$$"
   ]
  },
  {
   "cell_type": "code",
   "execution_count": 10,
   "id": "dc04fd5b-c8bd-4639-8f20-c22468ba004a",
   "metadata": {},
   "outputs": [
    {
     "data": {
      "text/latex": [
       "$\\displaystyle \\frac{\\operatorname{atan}{\\left(n \\right)}}{n^{\\frac{11}{10}}}$"
      ],
      "text/plain": [
       "atan(n)/n**(11/10)"
      ]
     },
     "execution_count": 10,
     "metadata": {},
     "output_type": "execute_result"
    }
   ],
   "source": [
    "eq = sm.atan(n) / n**sm.Rational(11,10)\n",
    "eq"
   ]
  },
  {
   "cell_type": "code",
   "execution_count": 14,
   "id": "9f9626f5-f12b-4c17-9c3f-c3f179581708",
   "metadata": {},
   "outputs": [
    {
     "data": {
      "text/latex": [
       "$\\displaystyle \\sum_{n=1}^{\\infty} \\frac{\\operatorname{atan}{\\left(n \\right)}}{n^{\\frac{11}{10}}}$"
      ],
      "text/plain": [
       "Sum(atan(n)/n**(11/10), (n, 1, oo))"
      ]
     },
     "execution_count": 14,
     "metadata": {},
     "output_type": "execute_result"
    }
   ],
   "source": [
    "sm.Sum(eq,(n,1,sm.oo)).doit()"
   ]
  },
  {
   "cell_type": "code",
   "execution_count": 15,
   "id": "ba26f282-ad05-449b-8540-fe9c61fb26a8",
   "metadata": {},
   "outputs": [
    {
     "data": {
      "text/latex": [
       "$\\displaystyle 15.3028821020457$"
      ],
      "text/plain": [
       "15.3028821020457"
      ]
     },
     "execution_count": 15,
     "metadata": {},
     "output_type": "execute_result"
    }
   ],
   "source": [
    "sm.Sum(eq,(n,1,sm.oo)).n()"
   ]
  },
  {
   "cell_type": "code",
   "execution_count": null,
   "id": "58a6ae41-1f57-4d74-900a-b11fcc895171",
   "metadata": {},
   "outputs": [],
   "source": []
  }
 ],
 "metadata": {
  "kernelspec": {
   "display_name": "Python 3 (ipykernel)",
   "language": "python",
   "name": "python3"
  },
  "language_info": {
   "codemirror_mode": {
    "name": "ipython",
    "version": 3
   },
   "file_extension": ".py",
   "mimetype": "text/x-python",
   "name": "python",
   "nbconvert_exporter": "python",
   "pygments_lexer": "ipython3",
   "version": "3.9.7"
  }
 },
 "nbformat": 4,
 "nbformat_minor": 5
}
