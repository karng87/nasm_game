{
 "cells": [
  {
   "cell_type": "markdown",
   "id": "ed529ace-e2df-41ca-b4a8-7be6f87f4c34",
   "metadata": {},
   "source": [
    "# [Taylor series](https://www.youtube.com/watch?v=of6_jCLW5HI&list=PLxjFN6S-kT9-BUCQ0oTKW1X6KG2gkomwp&index=62&t=558s)\n",
    "## $f(x,y,z) = \\begin{cases}\n",
    "f(a,b,c)\\: + \n",
    "\\\\\n",
    "\\frac{(x-a)}{1!}\\; \\frac{\\partial f}{\\partial{x}}\\; \\big|_{(a,b,c)}\\: +\\: \n",
    "\\frac{(y-b)}{1!}\\; \\frac{\\partial f}{\\partial{y}}\\; \\big|_{(a,b,c)}\\: +\\: \n",
    "\\frac{(z-c)}{1!}\\; \\frac{\\partial f}{\\partial{z}}\\; \\big|_{(a,b,c)}\\: +\\: \n",
    "\\\\\n",
    "\\frac{(x-a)^2}{2!}\\frac{\\partial^2 f}{\\partial{x}^2}\\,\\big|_{(a,b,c)}\\: +\\: \n",
    "\\frac{(y-b)^2}{2!}\\frac{\\partial^2 f}{\\partial{y}^2}\\,\\big|_{(a,b,c)}\\: +\\: \n",
    "\\frac{(z-c)^2}{2!}\\frac{\\partial^2 f}{\\partial{z}^2}\\,\\big|_{(a,b,c)}\\: +\\: \n",
    "\\\\\n",
    "\\frac{(x-a)^3}{3!}\\frac{\\partial^3 f}{\\partial{x}^3}\\,\\big|_{(a,b,c)}\\: +\\: \n",
    "\\frac{(y-b)^3}{3!}\\frac{\\partial^3 f}{\\partial{y}^3}\\,\\big|_{(a,b,c)}\\: +\\: \n",
    "\\frac{(z-c)^3}{3!}\\frac{\\partial^3 f}{\\partial{z}^3}\\,\\big|_{(a,b,c)}\\: +\\: \\dots \n",
    "\\end{cases}\n",
    "$"
   ]
  },
  {
   "cell_type": "markdown",
   "id": "12d97299-8334-4166-8f4f-e975a9360f9c",
   "metadata": {},
   "source": [
    "> ## $ \\text{such that }\\begin{cases} \n",
    "\\delta x = x-a\\\\\n",
    "\\delta y = y-b\\\\\n",
    "\\delta z = z-c\\\\\n",
    "\\end{cases}$\n",
    "> ### $\n",
    "df = f(x,y,z) - f(a,b,c) \\\\\n",
    "\\quad =\\frac{(x-a)}{1!}\\frac{\\partial f}{\\partial x}\\big|_{(a,b,c)} \n",
    "+\n",
    "\\frac{(y-b)}{1!}\\frac{\\partial f}{\\partial y}\\big|_{(a,b,c)}\n",
    "+\n",
    "\\frac{(z-c)}{1!}\\frac{\\partial f}{\\partial z}\\big|_{(a,b,c)}\n",
    "+\n",
    "\\frac{(x-a)^2}{2!}\\frac{\\partial^2f}{\\partial x^2}\\big|_{(a,b,c)}\n",
    "+\n",
    "\\frac{(y-b)^2}{2!}\\frac{\\partial^2f}{\\partial y^2}\\big|_{(a,b,c)}\n",
    "+\n",
    "\\frac{(z-c)^2}{2!}\\frac{\\partial^2f}{\\partial z^2}\\big|_{(a,b,c)}\\\\\n",
    "\\quad =\\frac{dx}{1!}\\frac{\\partial f}{\\partial x}\\big|_{(a,b,c)} \n",
    "+\n",
    "\\frac{dy}{1!}\\frac{\\partial f}{\\partial y}\\big|_{(a,b,c)}\n",
    "+\n",
    "\\frac{dz}{1!}\\frac{\\partial f}{\\partial z}\\big|_{(a,b,c)}\n",
    "+\n",
    "\\frac{(dx)^2}{2!}\\frac{\\partial^2f}{\\partial x^2}\\big|_{(a,b,c)}\n",
    "+\n",
    "\\frac{(dy)^2}{2!}\\frac{\\partial^2f}{\\partial y^2}\\big|_{(a,b,c)}\n",
    "+\n",
    "\\frac{(dz)^2}{2!}\\frac{\\partial^2f}{\\partial z^2}\\big|_{(a,b,c)}\n",
    "\\\\\n",
    "\\quad =\\frac{dx}{1!}\\frac{\\partial f}{\\partial x}\\big|_{(a,b,c)} \n",
    "+\n",
    "\\frac{dy}{1!}\\frac{\\partial f}{\\partial y}\\big|_{(a,b,c)}\n",
    "+\n",
    "\\frac{dz}{1!}\\frac{\\partial f}{\\partial z}\\big|_{(a,b,c)}\n",
    "+ \\dots\n",
    "\\\\\n",
    "\\quad = \n",
    "(\\frac{\\partial f}{\\partial x}, \n",
    "\\frac{\\partial f}{\\partial y}, \n",
    "\\frac{\\partial f}{\\partial z}) \\cdot (dx, dy, dz) \\\\\n",
    "\\quad = \n",
    "(\\frac{\\partial }{\\partial x}f, \n",
    "\\frac{\\partial }{\\partial y}f, \n",
    "\\frac{\\partial }{\\partial z}f) \\cdot (dx, dy, dz) \\\\\n",
    "\\quad = \n",
    "(\\frac{\\partial }{\\partial x}, \n",
    "\\frac{\\partial }{\\partial y}, \n",
    "\\frac{\\partial }{\\partial z})f \\cdot (dx, dy, dz) \\\\\n",
    "\\begin{cases}\n",
    "\\quad \\because \\nabla = \n",
    "(\\frac{\\partial}{\\partial x}, \n",
    "\\frac{\\partial}{\\partial y}, \n",
    "\\frac{\\partial}{\\partial z}) \\\\\n",
    "\\nabla f \\cdot (dx,dy,dz) \\\\\n",
    "\\nabla f \\cdot d\\vec{r} \\\\\n",
    "\\quad d\\vec{r} = \\text{ 쬐끔 변하는 방향벡터}\n",
    "\\end{cases}\n",
    "$"
   ]
  },
  {
   "cell_type": "markdown",
   "id": "3c9827dd-74ce-4efd-a35e-447965d66978",
   "metadata": {},
   "source": [
    "## Del() nabla ($\\nabla$)\n",
    "> sympy.vector.Del()\n",
    ">> sympy.vector.Del(f),...dot(u), ..cross(u)\n",
    ">>> where, u is potential field vector, f is scalar function\n",
    "\n",
    "> ### $ \\nabla = [\n",
    "\\frac{\\partial}{\\partial x_0},\n",
    "\\frac{\\partial}{\\partial x_1},\n",
    "\\frac{\\partial}{\\partial x_2},\n",
    "\\frac{\\partial}{\\partial x_3},\n",
    "\\dots]\n",
    "$ "
   ]
  },
  {
   "cell_type": "markdown",
   "id": "ab373ab3-3c0c-46ec-afe1-4ce7e5106019",
   "metadata": {},
   "source": [
    "## Gradient ($\\nabla f$)\n",
    "> ## f is scalar function\n",
    ">> ## the result turns out a vector\n",
    "> ## sympy.vector.Del(f)\n",
    ">> $\\therefore  f $ has to return a real number"
   ]
  },
  {
   "cell_type": "markdown",
   "id": "a6a93efc-81ff-4b48-a332-b4c723606de7",
   "metadata": {},
   "source": [
    "---\n",
    "# 전미분 (df)\n",
    "> ## $ df =  \\frac{\\partial f}{\\partial x}dx + \\frac{\\partial f}{\\partial y}dy + \\frac{\\partial f}{\\partial z}dz$\n",
    ">> ## $ (\\frac{\\partial f}{\\partial x} , \\frac{\\partial f}{\\partial y} , \\frac{\\partial f}{\\partial z}) \\cdot (dx,dy,dz)$\n",
    ">> ## $ (\\frac{\\partial}{\\partial x} , \\frac{\\partial}{\\partial y} , \\frac{\\partial}{\\partial z})f \\cdot (dx,dy,dz)$\n",
    ">> ## $ (\\frac{\\partial}{\\partial x} , \\frac{\\partial}{\\partial y} , \\frac{\\partial}{\\partial z})f \\cdot d\\vec{r}$\n",
    ">> ## $ \\nabla f \\cdot d\\vec{r} $\n",
    "\n",
    "> ## 전미분에서 방향 벡터를 제거하면 그래디언트  \n",
    ">> ## $\\nabla f \\cdot d\\vec{r} \\Rightarrow  \\nabla f\\\\\n",
    "\\because \\nabla f = (\\frac{\\partial}{\\partial x} , \\frac{\\partial}{\\partial y} , \\frac{\\partial}{\\partial z})f  $\n",
    "> ## 그래디언트에서 포텐셜 필드 함수를 빼내고 나면 델(nabla)가 된다.\n",
    ">> ## $\\nabla f \\cdot d\\vec{r} \\Rightarrow \\nabla f \\Rightarrow \\nabla \\\\\n",
    "\\because \\nabla  = (\\frac{\\partial}{\\partial x} , \\frac{\\partial}{\\partial y} , \\frac{\\partial}{\\partial z})  $\n",
    "---"
   ]
  },
  {
   "cell_type": "code",
   "execution_count": 1,
   "id": "57fd9820-9938-4d48-b9fc-bbc35e181576",
   "metadata": {},
   "outputs": [],
   "source": [
    "import sympy as sm\n",
    "n = sm.symbols('n')"
   ]
  },
  {
   "cell_type": "markdown",
   "id": "7fe628fa-f020-45b3-a93c-169bd2e06e40",
   "metadata": {},
   "source": [
    "# Sequences and Series\n",
    "> ## $$ \\sum_{n=0}^{\\infty}\\frac{6}{4^n}$$"
   ]
  },
  {
   "cell_type": "code",
   "execution_count": 2,
   "id": "722d3c32-1ce7-4536-a4ac-79043eef15dc",
   "metadata": {},
   "outputs": [
    {
     "data": {
      "text/latex": [
       "$\\displaystyle \\sum_{n=0}^{\\infty} 6 \\cdot 4^{- n}$"
      ],
      "text/plain": [
       "Sum(6/4**n, (n, 0, oo))"
      ]
     },
     "execution_count": 2,
     "metadata": {},
     "output_type": "execute_result"
    }
   ],
   "source": [
    "sm.Sum(6/4**n,(n,0,sm.oo))"
   ]
  },
  {
   "cell_type": "code",
   "execution_count": 3,
   "id": "c0740df8-4ad6-4ab8-86bd-b74f45925d61",
   "metadata": {},
   "outputs": [
    {
     "data": {
      "text/latex": [
       "$\\displaystyle 8$"
      ],
      "text/plain": [
       "8"
      ]
     },
     "execution_count": 3,
     "metadata": {},
     "output_type": "execute_result"
    }
   ],
   "source": [
    "sm.Sum(6/4**n,(n,0,sm.oo)).doit()"
   ]
  },
  {
   "cell_type": "markdown",
   "id": "f0e4331f-7303-4b9d-837a-9b41da4079ee",
   "metadata": {},
   "source": [
    "> ## approximation = n()\n",
    ">> n() : n is acronym of number\n",
    ">> ## $$ \\sum_{n=1}^{\\infty} \\frac{tan^{-1}(n)}{n^{1.1}}$$"
   ]
  },
  {
   "cell_type": "code",
   "execution_count": 10,
   "id": "dc04fd5b-c8bd-4639-8f20-c22468ba004a",
   "metadata": {},
   "outputs": [
    {
     "data": {
      "text/latex": [
       "$\\displaystyle \\frac{\\operatorname{atan}{\\left(n \\right)}}{n^{\\frac{11}{10}}}$"
      ],
      "text/plain": [
       "atan(n)/n**(11/10)"
      ]
     },
     "execution_count": 10,
     "metadata": {},
     "output_type": "execute_result"
    }
   ],
   "source": [
    "eq = sm.atan(n) / n**sm.Rational(11,10)\n",
    "eq"
   ]
  },
  {
   "cell_type": "code",
   "execution_count": 14,
   "id": "9f9626f5-f12b-4c17-9c3f-c3f179581708",
   "metadata": {},
   "outputs": [
    {
     "data": {
      "text/latex": [
       "$\\displaystyle \\sum_{n=1}^{\\infty} \\frac{\\operatorname{atan}{\\left(n \\right)}}{n^{\\frac{11}{10}}}$"
      ],
      "text/plain": [
       "Sum(atan(n)/n**(11/10), (n, 1, oo))"
      ]
     },
     "execution_count": 14,
     "metadata": {},
     "output_type": "execute_result"
    }
   ],
   "source": [
    "sm.Sum(eq,(n,1,sm.oo)).doit()"
   ]
  },
  {
   "cell_type": "code",
   "execution_count": 15,
   "id": "ba26f282-ad05-449b-8540-fe9c61fb26a8",
   "metadata": {},
   "outputs": [
    {
     "data": {
      "text/latex": [
       "$\\displaystyle 15.3028821020457$"
      ],
      "text/plain": [
       "15.3028821020457"
      ]
     },
     "execution_count": 15,
     "metadata": {},
     "output_type": "execute_result"
    }
   ],
   "source": [
    "sm.Sum(eq,(n,1,sm.oo)).n()"
   ]
  },
  {
   "cell_type": "code",
   "execution_count": null,
   "id": "58a6ae41-1f57-4d74-900a-b11fcc895171",
   "metadata": {},
   "outputs": [],
   "source": []
  }
 ],
 "metadata": {
  "kernelspec": {
   "display_name": "Python 3 (ipykernel)",
   "language": "python",
   "name": "python3"
  },
  "language_info": {
   "codemirror_mode": {
    "name": "ipython",
    "version": 3
   },
   "file_extension": ".py",
   "mimetype": "text/x-python",
   "name": "python",
   "nbconvert_exporter": "python",
   "pygments_lexer": "ipython3",
   "version": "3.9.7"
  }
 },
 "nbformat": 4,
 "nbformat_minor": 5
}
