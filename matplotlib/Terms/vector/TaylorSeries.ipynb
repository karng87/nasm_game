{
 "cells": [
  {
   "cell_type": "markdown",
   "id": "5240ca14-6775-4ef5-b9a2-96b61606e109",
   "metadata": {},
   "source": [
    "# [Taylor series](https://www.youtube.com/watch?v=of6_jCLW5HI&list=PLxjFN6S-kT9-BUCQ0oTKW1X6KG2gkomwp&index=62&t=558s)\n",
    "> ### $ f(x,y,z) = $ \n",
    "> #### $\\begin{cases}\n",
    "f(a,b,c)\\: + \n",
    "\\\\\n",
    "(x-a)\\frac{\\partial}{\\partial{x}}\\,f(a,b,c)\\: +\\: \n",
    "(y-b)\\frac{\\partial}{\\partial{y}}\\,f(a,b,c)\\: +\\: \n",
    "(z-c)\\frac{\\partial}{\\partial{z}}\\,f(a,b,c)\\: +\\: \n",
    "\\\\\n",
    "\\frac{(x-a)^2}{2!}\\frac{\\partial^2}{\\partial{x}^2}\\,f(a,b,c)\\: +\\: \n",
    "\\frac{(y-b)^2}{2!}\\frac{\\partial^2}{\\partial{y}^2}\\,f(a,b,c)\\: +\\: \n",
    "\\frac{(z-c)^2}{2!}\\frac{\\partial^2}{\\partial{z}^2}\\,f(a,b,c)\\: +\\: \n",
    "\\\\\n",
    "\\frac{(x-a)^3}{3!}\\frac{\\partial^3}{\\partial{x}^3}\\,f(a,b,c)\\: +\\: \n",
    "\\frac{(y-b)^3}{3!}\\frac{\\partial^3}{\\partial{y}^3}\\,f(a,b,c)\\: +\\: \n",
    "\\frac{(z-c)^3}{3!}\\frac{\\partial^3}{\\partial{z}^3}\\,f(a,b,c)\\: +\\: \\ddots \n",
    "\\end{cases} \\\\\n",
    "\\delta x = x-a\\\\\n",
    "\\delta y = x-y\\\\\n",
    "\\delta z = x-z\\\\\n",
    "\\therefore df = f(x,y,z) - f(a,b,c) \\\\\n",
    "\\quad = \\frac{\\partial f}{\\partial x}dx \n",
    "+\n",
    "\\frac{\\partial f}{\\partial y}dy \n",
    "+\n",
    "\\frac{\\partial f}{\\partial z}dz \\\\\n",
    "\\quad = \n",
    "(\\frac{\\partial f}{\\partial x}, \n",
    "\\frac{\\partial f}{\\partial y}, \n",
    "\\frac{\\partial f}{\\partial z}) \\cdot (dx, dy, dz) \\\\\n",
    "\\quad = \n",
    "(\\frac{\\partial }{\\partial x}f, \n",
    "\\frac{\\partial }{\\partial y}f, \n",
    "\\frac{\\partial }{\\partial z}f) \\cdot (dx, dy, dz) \\\\\n",
    "\\quad = \n",
    "(\\frac{\\partial }{\\partial x}, \n",
    "\\frac{\\partial }{\\partial y}, \n",
    "\\frac{\\partial }{\\partial z})f \\cdot (dx, dy, dz) \\\\\n",
    "\\begin{cases}\n",
    "\\quad \\because \\nabla = \n",
    "(\\frac{\\partial}{\\partial x}, \n",
    "\\frac{\\partial}{\\partial y}, \n",
    "\\frac{\\partial}{\\partial z}) \\\\\n",
    "\\nabla f \\cdot (dx,dy,dz) \\\\\n",
    "\\nabla f \\cdot d\\vec{r} \\\\\n",
    "\\quad d\\vec{r} = \\text{ 쬐끔 변하는 방향벡터}\n",
    "\\end{cases}\n",
    "$"
   ]
  },
  {
   "cell_type": "markdown",
   "id": "9eb21a8a-fbc3-4392-a69a-554f644653c9",
   "metadata": {},
   "source": [
    "# [Finite defference approximations to derivatives](https://docs.sympy.org/latest/special_topics/finite_diff_derivatives.html#a-direct-method-using-sympy-matrices)\n",
    "> ## is quite important in numerical analysis and in computational pysics\n",
    ">> finite (파이나잇) $\\leftrightarrow$ infinite\n",
    "\n",
    "> $\n",
    "F(x_0 + h) = $\n",
    "\n",
    ">> ## $\n",
    "\\begin{cases} \n",
    "\\quad \\text{where, } x_0 \\in \\{1,...,\\mathbb N\\} \\\\\n",
    "F(x_0) \n",
    "+ \n",
    "\\big(\\frac{dF}{dx}\\big)_{x0}*h \n",
    "+ \n",
    "\\frac{1}{2!}\\big(\\frac{d^2F}{dx^2}\\big)_{x0}*h^2 +\n",
    "\\frac{1}{3!}\\big(\\frac{d^3F}{dx^3}\\big)_{x0}*h^3 + \\dots \\\\\n",
    "\\quad c_n := \\frac{1}{n!}\\big(\\frac{d^nF}{dx^n}\\big)_{x_0} \\\\\n",
    "\\therefore F(x_0) \n",
    "+ \n",
    "c_1*h \n",
    "+ \n",
    "c_2*h^2 +\n",
    "c_3*h^3 + \\dots\n",
    "\\end{cases} $\n",
    "\n",
    "> ## $ \\text{let } x_0 = x_i,$   \n",
    "> ## $\\text{evaluate the series at } x_{i+1} = x_i + h $  \n",
    "> ## $ \\text{truncate all terms above } O(h^1) \\text{we can solve the singl coefficiet }c_1$\n",
    ">> ## $ \\big( \\frac{dF}{dx} \\big)_{x_i} \\approx \\frac{F_{i+1} - F_{i}}{h} + O(h) $ \n",
    "\n",
    ">> ## $ F(x_i + h) - F(x_i) = c_i * h + O(h)$   \n",
    ">> ## $ F(x_i + h) - F(x_i) = \\big(\\frac{dF}{dx}\\big)_{x_0} * h + O(h)$   \n",
    ">> ## $ \\frac{F(x_i + h) - F(x_i)}{h} = \\big(\\frac{dF}{dx}\\big)_{x_0} + O(h)$   \n",
    ">> ## $ \\big(\\frac{dF}{dx}\\big)_{x_0} = \\frac{F(x_i + h) - F(x_i)}{h} + O(h) $ "
   ]
  },
  {
   "cell_type": "markdown",
   "id": "bb42cf1f-6e78-45c4-a839-d8bd90f43343",
   "metadata": {},
   "source": [
    "# total differentials\n",
    "> ### $ z = f(x,y)$\n",
    ">> ### $ dz = df \n",
    "= \\frac{\\partial z}{\\partial x}dx+\\frac{\\partial z}{\\partial y}dy $\n",
    "> ### $ u = f(x,y,z)$\n",
    ">> ### $ du = df \n",
    "= \\frac{\\partial u}{\\partial x}dx+\\frac{\\partial u}{\\partial y}dy +\\frac{\\partial u}{\\partial y}dz $\n",
    "\n",
    ">>> $ z=xx^2 + 5xy^2 \\\\\n",
    "\\frac{\\partial z}{\\partial x} = 9x^2y + 5y^2 \\\\\n",
    "\\frac{\\partial z}{\\partial y} = 3x^3 + 10xy \\\\\n",
    "dz =  \\frac{\\partial z}{\\partial x} + \\frac{\\partial z}{\\partial y}\\\\\n",
    "dz = (9x^2y + 5y^2)dx + (3x^3 + 10xy)dy $\n",
    "> ### $f(x,y) = \\sqrt{x^2 + y^2}$, find $x=2.98, y = 4.03$ \n",
    ">> ### $ f(x) = f(x_0) + f'(x_0)(x-x_0)$\n",
    ">> ### $ f(x,y) = f(x_0,y_0) + f'(x_0,y_0)|_x (x-x_0) + f'(x_0,y_0)|_y (y-y_0)$\n",
    ">> ### $ f(x,y) = f(x_0,y_0) + \\frac{\\partial f}{\\partial x}(x_0,y_0)(x-x_0) \n",
    "+ \n",
    "\\frac{\\partial f}{\\partial y}(x_0,y_0)(y-y_0)$"
   ]
  },
  {
   "cell_type": "markdown",
   "id": "8738f87e-8ba4-49b0-bafc-c2af1d4e8991",
   "metadata": {},
   "source": [
    "# total differential \n",
    "> ## $ z= f(x,y), \\begin{cases} x = g(t) \\\\ y = h(t) \\end{cases} \\\\\n",
    "dz = \n",
    "\\frac{\\partial z}{\\partial x}dx + \\frac{\\partial z}{\\partial y}dy \\\\\n",
    "\\frac{\\partial z}{\\partial t}\n",
    "= \n",
    "\\frac{\\partial z}{\\partial x}\\: \\frac{\\partial x}{\\partial t} \n",
    "+ \n",
    "\\frac{\\partial z}{\\partial y}\\: \\frac{\\partial y}{\\partial t} \n",
    "$"
   ]
  },
  {
   "cell_type": "markdown",
   "id": "5a6aed04-47e2-444d-a5a1-20b4abef5222",
   "metadata": {},
   "source": [
    "# Taylor series\n",
    "> ### $ f(x,y,z) = $ \n",
    "> #### $\\begin{cases}\n",
    "f(a,b,c)\\: + \n",
    "\\\\\n",
    "(x-a)\\frac{\\partial}{\\partial{x}}\\,f(a,b,c)\\: +\\: \n",
    "(y-b)\\frac{\\partial}{\\partial{y}}\\,f(a,b,c)\\: +\\: \n",
    "(z-c)\\frac{\\partial}{\\partial{z}}\\,f(a,b,c)\\: +\\: \n",
    "\\\\\n",
    "\\frac{(x-a)^2}{2!}\\frac{\\partial^2}{\\partial{x}^2}\\,f(a,b,c)\\: +\\: \n",
    "\\frac{(y-b)^2}{2!}\\frac{\\partial^2}{\\partial{y}^2}\\,f(a,b,c)\\: +\\: \n",
    "\\frac{(z-c)^2}{2!}\\frac{\\partial^2}{\\partial{z}^2}\\,f(a,b,c)\\: +\\: \n",
    "\\\\\n",
    "\\frac{(x-a)^3}{3!}\\frac{\\partial^3}{\\partial{x}^3}\\,f(a,b,c)\\: +\\: \n",
    "\\frac{(y-b)^3}{3!}\\frac{\\partial^3}{\\partial{y}^3}\\,f(a,b,c)\\: +\\: \n",
    "\\frac{(z-c)^3}{3!}\\frac{\\partial^3}{\\partial{z}^3}\\,f(a,b,c)\\: +\\: \\ddots \n",
    "\\end{cases} \\\\\n",
    "\\delta x = x-a\\\\\n",
    "\\delta y = x-y\\\\\n",
    "\\delta z = x-z\\\\\n",
    "\\therefore df = f(x,y,z) - f(a,b,c) \\\\\n",
    "\\quad = \\frac{\\partial f}{\\partial x}dx \n",
    "+\n",
    "\\frac{\\partial f}{\\partial y}dy \n",
    "+\n",
    "\\frac{\\partial f}{\\partial z}dz \\\\\n",
    "\\quad = \n",
    "(\\frac{\\partial f}{\\partial x}, \n",
    "\\frac{\\partial f}{\\partial y}, \n",
    "\\frac{\\partial f}{\\partial z}) \\cdot (dx, dy, dz)\n",
    "$"
   ]
  },
  {
   "cell_type": "markdown",
   "id": "cd88ee93-6ccf-4014-9352-10fee58b08bd",
   "metadata": {},
   "source": [
    "### Total derivative ($\\Delta f$, not $\\nabla f$)\n",
    "> ### $\\Delta f$  st. $\\Delta x$  \n",
    "> $\\delta f = f(x,y,z) - f(a,b,c) \n",
    "\\\\\n",
    "\\quad \\cong f(a,b,c)\\: + \\: \n",
    "(x-a)\\frac{\\partial}{\\partial{x}}\\,f(a,b,c)\\: +\\: \n",
    "(y-b)\\frac{\\partial}{\\partial{y}}\\,f(a,b,c)\\: +\\: \n",
    "(z-c)\\frac{\\partial}{\\partial{z}}\\,f(a,b,c)\\: - f(a,b,c)\\: \n",
    "\\\\\n",
    "\\begin{cases} \n",
    "x - a = dx \\\\\n",
    "y - b = dy \\\\\n",
    "z - c = dz\n",
    "\\end{cases} \\Longrightarrow\n",
    "\\Delta f = \n",
    "(dx)\\frac{\\partial}{\\partial{x}}\\,f(a,b,c)\\: +\\: \n",
    "(dy)\\frac{\\partial}{\\partial{y}}\\,f(a,b,c)\\: +\\: \n",
    "(dz)\\frac{\\partial}{\\partial{z}}\\,f(a,b,c)\\:\n",
    "$\n",
    "> ## $\\Delta f = (\\frac{\\partial}{\\partial x}f,\\frac{\\partial}{\\partial x}f,\\frac{\\partial}{\\partial x}f) \\cdot (dx, dy, dz) $\n",
    "\n",
    "> ## $\n",
    "st, (dx,dy,dz): = d\\vec{r}\\\\\n",
    "\\Delta f = \n",
    "\\begin {cases}\n",
    "(\\frac{\\partial}{\\partial x}f,\\frac{\\partial}{\\partial x}f,\\frac{\\partial}{\\partial x}f) \n",
    "\\cdot d\\vec{r} \n",
    "\\\\\n",
    "\\nabla f \\cdot d\\vec{r}\n",
    "\\end{cases}\n",
    "$"
   ]
  },
  {
   "cell_type": "markdown",
   "id": "8c193a57-c3c1-4168-9398-df99ec1eb29c",
   "metadata": {},
   "source": [
    "## Del() nabla ($\\nabla$)\n",
    "> sympy.vector.Del()\n",
    ">> sympy.vector.Del(f),...dot(u), ..cross(u)\n",
    ">>> where, u is potential field vector, f is scalar function\n",
    "\n",
    "> ### $ \\nabla = [\n",
    "\\frac{\\partial}{\\partial x_0},\n",
    "\\frac{\\partial}{\\partial x_1},\n",
    "\\frac{\\partial}{\\partial x_2},\n",
    "\\frac{\\partial}{\\partial x_3},\n",
    "\\dots]\n",
    "$ \n",
    "\n",
    "## Gradient ($\\nabla f$)\n",
    "> ## f is scalar function\n",
    ">> ## the result turns out a vector\n",
    "> ## sympy.vector.Del(f)\n",
    ">> $\\therefore  f $ has to return a real number\n",
    "\n",
    "## 전미분 $(\\Delta f) \\Rightarrow $ Gradient f $(\\nabla f) \\Rightarrow \\nabla $ Del\n",
    "> 전미분에서 방향 벡터를 제거하면 그래디언트  \n",
    "> 그래디언트에서 포텐셜 필드 함수를 빼내고 나면 델(nabla)가 된다."
   ]
  },
  {
   "cell_type": "code",
   "execution_count": 1,
   "id": "57fd9820-9938-4d48-b9fc-bbc35e181576",
   "metadata": {},
   "outputs": [],
   "source": [
    "import sympy as sm\n",
    "n = sm.symbols('n')"
   ]
  },
  {
   "cell_type": "markdown",
   "id": "7fe628fa-f020-45b3-a93c-169bd2e06e40",
   "metadata": {},
   "source": [
    "# Sequences and Series\n",
    "> ## $$ \\sum_{n=0}^{\\infty}\\frac{6}{4^n}$$"
   ]
  },
  {
   "cell_type": "code",
   "execution_count": 2,
   "id": "722d3c32-1ce7-4536-a4ac-79043eef15dc",
   "metadata": {},
   "outputs": [
    {
     "data": {
      "text/latex": [
       "$\\displaystyle \\sum_{n=0}^{\\infty} 6 \\cdot 4^{- n}$"
      ],
      "text/plain": [
       "Sum(6/4**n, (n, 0, oo))"
      ]
     },
     "execution_count": 2,
     "metadata": {},
     "output_type": "execute_result"
    }
   ],
   "source": [
    "sm.Sum(6/4**n,(n,0,sm.oo))"
   ]
  },
  {
   "cell_type": "code",
   "execution_count": 3,
   "id": "c0740df8-4ad6-4ab8-86bd-b74f45925d61",
   "metadata": {},
   "outputs": [
    {
     "data": {
      "text/latex": [
       "$\\displaystyle 8$"
      ],
      "text/plain": [
       "8"
      ]
     },
     "execution_count": 3,
     "metadata": {},
     "output_type": "execute_result"
    }
   ],
   "source": [
    "sm.Sum(6/4**n,(n,0,sm.oo)).doit()"
   ]
  },
  {
   "cell_type": "markdown",
   "id": "f0e4331f-7303-4b9d-837a-9b41da4079ee",
   "metadata": {},
   "source": [
    "> ## approximation = n()\n",
    ">> n() : n is acronym of number\n",
    ">> ## $$ \\sum_{n=1}^{\\infty} \\frac{tan^{-1}(n)}{n^{1.1}}$$"
   ]
  },
  {
   "cell_type": "code",
   "execution_count": 10,
   "id": "dc04fd5b-c8bd-4639-8f20-c22468ba004a",
   "metadata": {},
   "outputs": [
    {
     "data": {
      "text/latex": [
       "$\\displaystyle \\frac{\\operatorname{atan}{\\left(n \\right)}}{n^{\\frac{11}{10}}}$"
      ],
      "text/plain": [
       "atan(n)/n**(11/10)"
      ]
     },
     "execution_count": 10,
     "metadata": {},
     "output_type": "execute_result"
    }
   ],
   "source": [
    "eq = sm.atan(n) / n**sm.Rational(11,10)\n",
    "eq"
   ]
  },
  {
   "cell_type": "code",
   "execution_count": 14,
   "id": "9f9626f5-f12b-4c17-9c3f-c3f179581708",
   "metadata": {},
   "outputs": [
    {
     "data": {
      "text/latex": [
       "$\\displaystyle \\sum_{n=1}^{\\infty} \\frac{\\operatorname{atan}{\\left(n \\right)}}{n^{\\frac{11}{10}}}$"
      ],
      "text/plain": [
       "Sum(atan(n)/n**(11/10), (n, 1, oo))"
      ]
     },
     "execution_count": 14,
     "metadata": {},
     "output_type": "execute_result"
    }
   ],
   "source": [
    "sm.Sum(eq,(n,1,sm.oo)).doit()"
   ]
  },
  {
   "cell_type": "code",
   "execution_count": 15,
   "id": "ba26f282-ad05-449b-8540-fe9c61fb26a8",
   "metadata": {},
   "outputs": [
    {
     "data": {
      "text/latex": [
       "$\\displaystyle 15.3028821020457$"
      ],
      "text/plain": [
       "15.3028821020457"
      ]
     },
     "execution_count": 15,
     "metadata": {},
     "output_type": "execute_result"
    }
   ],
   "source": [
    "sm.Sum(eq,(n,1,sm.oo)).n()"
   ]
  },
  {
   "cell_type": "code",
   "execution_count": null,
   "id": "58a6ae41-1f57-4d74-900a-b11fcc895171",
   "metadata": {},
   "outputs": [],
   "source": []
  }
 ],
 "metadata": {
  "kernelspec": {
   "display_name": "Python 3 (ipykernel)",
   "language": "python",
   "name": "python3"
  },
  "language_info": {
   "codemirror_mode": {
    "name": "ipython",
    "version": 3
   },
   "file_extension": ".py",
   "mimetype": "text/x-python",
   "name": "python",
   "nbconvert_exporter": "python",
   "pygments_lexer": "ipython3",
   "version": "3.9.7"
  }
 },
 "nbformat": 4,
 "nbformat_minor": 5
}
