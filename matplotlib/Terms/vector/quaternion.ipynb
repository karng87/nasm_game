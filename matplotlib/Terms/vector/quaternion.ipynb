{
 "cells": [
  {
   "cell_type": "code",
   "execution_count": 115,
   "id": "cf0b1b9a-de5a-4bfc-95b3-70679bbe67e2",
   "metadata": {},
   "outputs": [
    {
     "data": {
      "text/html": [
       "\n",
       "        <iframe\n",
       "            width=\"800\"\n",
       "            height=\"480\"\n",
       "            src=\"https://en.wikipedia.org/wiki/Conversion_between_quaternions_and_Euler_angles#Definition\"\n",
       "            frameborder=\"0\"\n",
       "            allowfullscreen\n",
       "            \n",
       "        ></iframe>\n",
       "        "
      ],
      "text/plain": [
       "<IPython.lib.display.IFrame at 0x7fbb18c34d60>"
      ]
     },
     "execution_count": 115,
     "metadata": {},
     "output_type": "execute_result"
    }
   ],
   "source": [
    "import IPython as IPy\n",
    "IPy.display.IFrame('https://en.wikipedia.org/wiki/Conversion_between_quaternions_and_Euler_angles#Definition',width=800,height=480)"
   ]
  },
  {
   "cell_type": "markdown",
   "id": "55cf1ca2-e1b1-420b-8edd-c710c9b85276",
   "metadata": {
    "tags": []
   },
   "source": [
    "# Quaternion (JPL quaternion convention)\n",
    "> ## $ q = [ q_0 \\quad q_1  \\quad q_2  \\quad q_3]^T = [q_w  \\quad q_x  \\quad q_y  \\quad q_z]^T $\n",
    "> ## $ |q|^2 = q_{0}^{2} + q_{1}^{2} + q_{2}^{2} + q_{3}^{2} = q_{w}^{2} + q_{x}^{2} + q_{y}^{2} + q_{z}^{2} $"
   ]
  },
  {
   "cell_type": "code",
   "execution_count": 114,
   "id": "c5879530-e6ce-49dc-8815-aa846667bf06",
   "metadata": {},
   "outputs": [
    {
     "data": {
      "text/html": [
       "\n",
       "        <iframe\n",
       "            width=\"800\"\n",
       "            height=\"480\"\n",
       "            src=\"https://en.wikipedia.org/wiki/Direction_cosine#Three-dimensional_Cartesian_coordinates\"\n",
       "            frameborder=\"0\"\n",
       "            allowfullscreen\n",
       "            \n",
       "        ></iframe>\n",
       "        "
      ],
      "text/plain": [
       "<IPython.lib.display.IFrame at 0x7fbb18975760>"
      ]
     },
     "execution_count": 114,
     "metadata": {},
     "output_type": "execute_result"
    }
   ],
   "source": [
    "import IPython as IPy\n",
    "IPy.display.IFrame(\"https://en.wikipedia.org/wiki/Direction_cosine#Three-dimensional_Cartesian_coordinates\",width=800,height=480)"
   ]
  },
  {
   "cell_type": "markdown",
   "id": "9b6bdf83-0828-4ca5-88fe-2111097da0fc",
   "metadata": {},
   "source": [
    "# direction cosine & direction vector\n",
    "> # direction cos(ine)\n",
    "> ## a dirction vector where magnitude = 1\n",
    ">> ### $ \n",
    "\\alpha = cos(a) = \n",
    "\\frac{\\vec{d} \\cdot \\hat{i}}{||\\vec{d}||} \\\\\n",
    "\\quad \\text{where, a is angle between axis of rotaion and i axix}\\\\\n",
    "\\beta = cos(b) = \n",
    "\\frac{\\vec{d} \\cdot \\hat{j}}{||\\vec{d}||} \\\\\n",
    "\\quad \\text{where, b is angle between axis of rotaion and j axix}\\\\\n",
    "\\gamma = cos(c) = \n",
    "\\frac{\\vec{d} \\cdot \\hat{k}}{||\\vec{d}||} \\\\\n",
    "\\quad \\text{where, c is angle between axis of rotaion and k axix}\n",
    "$"
   ]
  },
  {
   "cell_type": "code",
   "execution_count": 111,
   "id": "194bb297-5d41-4119-8262-3e23c5f6fa35",
   "metadata": {},
   "outputs": [
    {
     "data": {
      "text/latex": [
       "$\\displaystyle 1$"
      ],
      "text/plain": [
       "1"
      ]
     },
     "execution_count": 111,
     "metadata": {},
     "output_type": "execute_result"
    }
   ],
   "source": [
    "import sympy as sm\n",
    "import sympy.vector\n",
    "import sympy.algebras\n",
    "import numpy as np\n",
    "import matplotlib.pyplot as plt\n",
    "%matplotlib widget\n",
    "\n",
    "q0, q1, q2, q3 = sm.symbols('q_0 q_1 q_2 q_3')\n",
    "a,b1,b2,b3 = sm.symbols('alpha beta1:4')\n",
    "x,y,z = sm.symbols('x y z')\n",
    "B = sm.vector.CoordSys3D('')\n",
    "\n",
    "C = B.create_new('C','cylindrical')\n",
    "S = B.create_new('S',transformation='spherical')\n",
    "Q = B.orient_new_quaternion('Q',q0,q1,q2,q3)\n",
    "\n",
    "# Direction Cosine\n",
    "v = B.x*B.i + B.y*B.j + B.z*B.k\n",
    "cx = v.dot(B.i)/sm.sqrt(v.dot(v)) # cos(v)_xaxis\n",
    "cy = v.dot(B.j)/sm.sqrt(v.dot(v)) # cos(v)_yaxis\n",
    "cz = v.dot(B.k)/sm.sqrt(v.dot(v)) # cos(v)_zaxis\n",
    "# q\n",
    "q0 = sm.cos(a/2)\n",
    "q1 = sm.sin(a/2) * cx\n",
    "q2 = sm.sin(a/2) * cy\n",
    "q3 = sm.sin(a/2) * cz\n",
    "\n",
    "q = q0**2 + q1**2 + q2**2 + q3**2\n",
    "q.simplify()"
   ]
  },
  {
   "cell_type": "code",
   "execution_count": 19,
   "id": "e6394c5b-ceca-421f-8ac3-7456ffe69f22",
   "metadata": {},
   "outputs": [
    {
     "data": {
      "text/latex": [
       "$\\displaystyle -1$"
      ],
      "text/plain": [
       "-1"
      ]
     },
     "execution_count": 19,
     "metadata": {},
     "output_type": "execute_result"
    }
   ],
   "source": [
    "sm.cos(sm.pi) \n"
   ]
  },
  {
   "cell_type": "code",
   "execution_count": 86,
   "id": "b39a18e7-b787-4ec7-acb6-256a0ac5d13c",
   "metadata": {},
   "outputs": [
    {
     "data": {
      "text/plain": [
       "transpose"
      ]
     },
     "execution_count": 86,
     "metadata": {},
     "output_type": "execute_result"
    }
   ],
   "source": [
    "import sympy.algebras\n",
    "a,b,c,d,e,f,g,h = sm.symbols('a b c d e f g h')\n",
    "q0 = sm.algebras.Quaternion(1,1,1,1)\n",
    "q1 = sm.algebras.Quaternion(a,b,c,d)\n",
    "q2 = sm.algebras.Quaternion(e,f,g,h)\n",
    "type(q1.adjoint())"
   ]
  },
  {
   "cell_type": "code",
   "execution_count": 87,
   "id": "c8c72f3b-74fd-4f2b-a1d6-851ca09b1b26",
   "metadata": {},
   "outputs": [
    {
     "data": {
      "text/latex": [
       "$\\displaystyle a + - b i + - c j + - d k$"
      ],
      "text/plain": [
       "a + (-b)*i + (-c)*j + (-d)*k"
      ]
     },
     "execution_count": 87,
     "metadata": {},
     "output_type": "execute_result"
    }
   ],
   "source": [
    "q1.conjugate()"
   ]
  },
  {
   "cell_type": "code",
   "execution_count": 123,
   "id": "37bf8bfe-71e9-4049-b035-1be0c63ddb65",
   "metadata": {},
   "outputs": [
    {
     "data": {
      "text/latex": [
       "$\\displaystyle \\left[\\begin{matrix}a & - b & - c & - d\\\\b & a & - d & c\\\\c & d & a & - b\\\\d & - c & b & a\\end{matrix}\\right]$"
      ],
      "text/plain": [
       "Matrix([\n",
       "[a, -b, -c, -d],\n",
       "[b,  a, -d,  c],\n",
       "[c,  d,  a, -b],\n",
       "[d, -c,  b,  a]])"
      ]
     },
     "execution_count": 123,
     "metadata": {},
     "output_type": "execute_result"
    }
   ],
   "source": [
    "QM = sm.Matrix([[a,-b,-c,-d],\n",
    "                [b, a,-d, c],\n",
    "                [c, d, a,-b],\n",
    "                [d,-c, b, a]])\n",
    "QM"
   ]
  },
  {
   "cell_type": "code",
   "execution_count": 138,
   "id": "a9150f4e-289a-4be1-8c87-786b90c9fd64",
   "metadata": {},
   "outputs": [
    {
     "data": {
      "text/latex": [
       "$\\displaystyle \\left[\\begin{matrix}-1 & 0 & 0 & 0\\\\0 & -1 & 0 & 0\\\\0 & 0 & -1 & 0\\\\0 & 0 & 0 & -1\\end{matrix}\\right]$"
      ],
      "text/plain": [
       "Matrix([\n",
       "[-1,  0,  0,  0],\n",
       "[ 0, -1,  0,  0],\n",
       "[ 0,  0, -1,  0],\n",
       "[ 0,  0,  0, -1]])"
      ]
     },
     "execution_count": 138,
     "metadata": {},
     "output_type": "execute_result"
    }
   ],
   "source": [
    "iM = sm.Matrix([[0,-1, 0, 0],\n",
    "                [1, 0, 0, 0],\n",
    "                [0, 0, 0,-1],\n",
    "                [0, 0, 1, 0]])\n",
    "jM = sm.Matrix([[0, 0,-1, 0],\n",
    "                [0, 0, 0, 1],\n",
    "                [1, 0, 0, 0],\n",
    "                [0,-1, 0, 0]])\n",
    "kM = sm.Matrix([[0, 0, 0,-1],\n",
    "                [0, 0,-1, 0],\n",
    "                [0, 1, 0, 0],\n",
    "                [1, 0, 0, 0]])\n",
    "iM*jM*kM"
   ]
  },
  {
   "cell_type": "code",
   "execution_count": 107,
   "id": "02c4a676-d9de-48a1-8592-1d3bd5b605a1",
   "metadata": {},
   "outputs": [
    {
     "data": {
      "text/plain": [
       "(Q.i, Q.j, Q.k)"
      ]
     },
     "execution_count": 107,
     "metadata": {},
     "output_type": "execute_result"
    }
   ],
   "source": [
    "Q.base_vectors()"
   ]
  },
  {
   "cell_type": "code",
   "execution_count": 108,
   "id": "a3a4be22-19c8-4886-8d50-15d5b88c8b1c",
   "metadata": {},
   "outputs": [
    {
     "data": {
      "text/latex": [
       "$\\displaystyle e \\cos{\\left(\\sqrt{3} \\right)} + \\frac{\\sqrt{3} e \\sin{\\left(\\sqrt{3} \\right)}}{3} i + \\frac{\\sqrt{3} e \\sin{\\left(\\sqrt{3} \\right)}}{3} j + \\frac{\\sqrt{3} e \\sin{\\left(\\sqrt{3} \\right)}}{3} k$"
      ],
      "text/plain": [
       "E*cos(sqrt(3)) + sqrt(3)*E*sin(sqrt(3))/3*i + sqrt(3)*E*sin(sqrt(3))/3*j + sqrt(3)*E*sin(sqrt(3))/3*k"
      ]
     },
     "execution_count": 108,
     "metadata": {},
     "output_type": "execute_result"
    }
   ],
   "source": [
    "q0.exp()"
   ]
  },
  {
   "cell_type": "code",
   "execution_count": 83,
   "id": "94029e10-b387-4f88-92b3-4e4c26820db4",
   "metadata": {},
   "outputs": [
    {
     "data": {
      "text/latex": [
       "$\\displaystyle \\left[\\begin{matrix}a_{0, 0} & a_{0, 1} & a_{0, 2}\\\\a_{1, 0} & a_{1, 1} & a_{1, 2}\\\\a_{2, 0} & a_{2, 1} & a_{2, 2}\\end{matrix}\\right]$"
      ],
      "text/plain": [
       "Matrix([\n",
       "[a[0, 0], a[0, 1], a[0, 2]],\n",
       "[a[1, 0], a[1, 1], a[1, 2]],\n",
       "[a[2, 0], a[2, 1], a[2, 2]]])"
      ]
     },
     "execution_count": 83,
     "metadata": {},
     "output_type": "execute_result"
    }
   ],
   "source": [
    "import sympy as sm\n",
    "a = sm.MatrixSymbol('a',3,3)\n",
    "b = sm.MatrixSymbol('b',3,3)\n",
    "sm.BlockMatrix([[a,b],[b,a]]).as_explicit()\n",
    "a.as_explicit()"
   ]
  }
 ],
 "metadata": {
  "kernelspec": {
   "display_name": "Python 3 (ipykernel)",
   "language": "python",
   "name": "python3"
  },
  "language_info": {
   "codemirror_mode": {
    "name": "ipython",
    "version": 3
   },
   "file_extension": ".py",
   "mimetype": "text/x-python",
   "name": "python",
   "nbconvert_exporter": "python",
   "pygments_lexer": "ipython3",
   "version": "3.9.7"
  }
 },
 "nbformat": 4,
 "nbformat_minor": 5
}
