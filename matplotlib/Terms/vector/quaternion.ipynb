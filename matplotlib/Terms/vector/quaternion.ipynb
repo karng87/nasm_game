{
 "cells": [
  {
   "cell_type": "code",
   "execution_count": 32,
   "id": "194bb297-5d41-4119-8262-3e23c5f6fa35",
   "metadata": {},
   "outputs": [
    {
     "data": {
      "text/latex": [
       "$\\displaystyle CoordSys3D\\left(Q, \\left( \\left[\\begin{matrix}q_{0}^{2} + q_{1}^{2} - q_{2}^{2} - q_{3}^{2} & 2 q_{0} q_{3} + 2 q_{1} q_{2} & - 2 q_{0} q_{2} + 2 q_{1} q_{3}\\\\- 2 q_{0} q_{3} + 2 q_{1} q_{2} & q_{0}^{2} - q_{1}^{2} + q_{2}^{2} - q_{3}^{2} & 2 q_{0} q_{1} + 2 q_{2} q_{3}\\\\2 q_{0} q_{2} + 2 q_{1} q_{3} & - 2 q_{0} q_{1} + 2 q_{2} q_{3} & q_{0}^{2} - q_{1}^{2} - q_{2}^{2} + q_{3}^{2}\\end{matrix}\\right], \\  \\mathbf{\\hat{0}}\\right), CoordSys3D\\left(B, \\left( \\left[\\begin{matrix}1 & 0 & 0\\\\0 & 1 & 0\\\\0 & 0 & 1\\end{matrix}\\right], \\  \\mathbf{\\hat{0}}\\right)\\right)\\right)$"
      ],
      "text/plain": [
       "Q"
      ]
     },
     "execution_count": 32,
     "metadata": {},
     "output_type": "execute_result"
    }
   ],
   "source": [
    "import sympy as sm\n",
    "import sympy.vector\n",
    "import sympy.algebras\n",
    "import numpy as np\n",
    "q0, q1, q2, q3 = sm.symbols('q_0 q_1 q_2 q_3')\n",
    "B = sm.vector.CoordSys3D('B')\n",
    "\n",
    "C = B.create_new('C','cylindrical')\n",
    "S = B.create_new('S',transformation='spherical')\n",
    "Q = B.orient_new_quaternion('Q',q0,q1,q2,q3)\n",
    "Q"
   ]
  },
  {
   "cell_type": "code",
   "execution_count": 37,
   "id": "e6394c5b-ceca-421f-8ac3-7456ffe69f22",
   "metadata": {},
   "outputs": [
    {
     "data": {
      "text/plain": [
       "(Q.x*(q_0**2 + q_1**2 - q_2**2 - q_3**2) + Q.y*(2*q_0*q_3 + 2*q_1*q_2) + Q.z*(-2*q_0*q_2 + 2*q_1*q_3),\n",
       " Q.x*(-2*q_0*q_3 + 2*q_1*q_2) + Q.y*(q_0**2 - q_1**2 + q_2**2 - q_3**2) + Q.z*(2*q_0*q_1 + 2*q_2*q_3),\n",
       " Q.x*(2*q_0*q_2 + 2*q_1*q_3) + Q.y*(-2*q_0*q_1 + 2*q_2*q_3) + Q.z*(q_0**2 - q_1**2 - q_2**2 + q_3**2))"
      ]
     },
     "execution_count": 37,
     "metadata": {},
     "output_type": "execute_result"
    }
   ],
   "source": [
    "S.transformation_to_parent()\n",
    "S.transformation_from_parent()\n",
    "\n",
    "Q.transformation_from_parent()\n",
    "Q.transformation_to_parent()"
   ]
  },
  {
   "cell_type": "code",
   "execution_count": 86,
   "id": "b39a18e7-b787-4ec7-acb6-256a0ac5d13c",
   "metadata": {},
   "outputs": [
    {
     "data": {
      "text/plain": [
       "transpose"
      ]
     },
     "execution_count": 86,
     "metadata": {},
     "output_type": "execute_result"
    }
   ],
   "source": [
    "import sympy.algebras\n",
    "a,b,c,d,e,f,g,h = sm.symbols('a b c d e f g h')\n",
    "q0 = sm.algebras.Quaternion(1,1,1,1)\n",
    "q1 = sm.algebras.Quaternion(a,b,c,d)\n",
    "q2 = sm.algebras.Quaternion(e,f,g,h)\n",
    "type(q1.adjoint())"
   ]
  },
  {
   "cell_type": "code",
   "execution_count": 87,
   "id": "c8c72f3b-74fd-4f2b-a1d6-851ca09b1b26",
   "metadata": {},
   "outputs": [
    {
     "data": {
      "text/latex": [
       "$\\displaystyle a + - b i + - c j + - d k$"
      ],
      "text/plain": [
       "a + (-b)*i + (-c)*j + (-d)*k"
      ]
     },
     "execution_count": 87,
     "metadata": {},
     "output_type": "execute_result"
    }
   ],
   "source": [
    "q1.conjugate()"
   ]
  },
  {
   "cell_type": "code",
   "execution_count": 123,
   "id": "37bf8bfe-71e9-4049-b035-1be0c63ddb65",
   "metadata": {},
   "outputs": [
    {
     "data": {
      "text/latex": [
       "$\\displaystyle \\left[\\begin{matrix}a & - b & - c & - d\\\\b & a & - d & c\\\\c & d & a & - b\\\\d & - c & b & a\\end{matrix}\\right]$"
      ],
      "text/plain": [
       "Matrix([\n",
       "[a, -b, -c, -d],\n",
       "[b,  a, -d,  c],\n",
       "[c,  d,  a, -b],\n",
       "[d, -c,  b,  a]])"
      ]
     },
     "execution_count": 123,
     "metadata": {},
     "output_type": "execute_result"
    }
   ],
   "source": [
    "QM = sm.Matrix([[a,-b,-c,-d],\n",
    "                [b, a,-d, c],\n",
    "                [c, d, a,-b],\n",
    "                [d,-c, b, a]])\n",
    "QM"
   ]
  },
  {
   "cell_type": "code",
   "execution_count": 138,
   "id": "a9150f4e-289a-4be1-8c87-786b90c9fd64",
   "metadata": {},
   "outputs": [
    {
     "data": {
      "text/latex": [
       "$\\displaystyle \\left[\\begin{matrix}-1 & 0 & 0 & 0\\\\0 & -1 & 0 & 0\\\\0 & 0 & -1 & 0\\\\0 & 0 & 0 & -1\\end{matrix}\\right]$"
      ],
      "text/plain": [
       "Matrix([\n",
       "[-1,  0,  0,  0],\n",
       "[ 0, -1,  0,  0],\n",
       "[ 0,  0, -1,  0],\n",
       "[ 0,  0,  0, -1]])"
      ]
     },
     "execution_count": 138,
     "metadata": {},
     "output_type": "execute_result"
    }
   ],
   "source": [
    "iM = sm.Matrix([[0,-1, 0, 0],\n",
    "                [1, 0, 0, 0],\n",
    "                [0, 0, 0,-1],\n",
    "                [0, 0, 1, 0]])\n",
    "jM = sm.Matrix([[0, 0,-1, 0],\n",
    "                [0, 0, 0, 1],\n",
    "                [1, 0, 0, 0],\n",
    "                [0,-1, 0, 0]])\n",
    "kM = sm.Matrix([[0, 0, 0,-1],\n",
    "                [0, 0,-1, 0],\n",
    "                [0, 1, 0, 0],\n",
    "                [1, 0, 0, 0]])\n",
    "iM*jM*kM"
   ]
  },
  {
   "cell_type": "code",
   "execution_count": 107,
   "id": "02c4a676-d9de-48a1-8592-1d3bd5b605a1",
   "metadata": {},
   "outputs": [
    {
     "data": {
      "text/plain": [
       "(Q.i, Q.j, Q.k)"
      ]
     },
     "execution_count": 107,
     "metadata": {},
     "output_type": "execute_result"
    }
   ],
   "source": [
    "Q.base_vectors()"
   ]
  },
  {
   "cell_type": "code",
   "execution_count": 108,
   "id": "a3a4be22-19c8-4886-8d50-15d5b88c8b1c",
   "metadata": {},
   "outputs": [
    {
     "data": {
      "text/latex": [
       "$\\displaystyle e \\cos{\\left(\\sqrt{3} \\right)} + \\frac{\\sqrt{3} e \\sin{\\left(\\sqrt{3} \\right)}}{3} i + \\frac{\\sqrt{3} e \\sin{\\left(\\sqrt{3} \\right)}}{3} j + \\frac{\\sqrt{3} e \\sin{\\left(\\sqrt{3} \\right)}}{3} k$"
      ],
      "text/plain": [
       "E*cos(sqrt(3)) + sqrt(3)*E*sin(sqrt(3))/3*i + sqrt(3)*E*sin(sqrt(3))/3*j + sqrt(3)*E*sin(sqrt(3))/3*k"
      ]
     },
     "execution_count": 108,
     "metadata": {},
     "output_type": "execute_result"
    }
   ],
   "source": [
    "q0.exp()"
   ]
  },
  {
   "cell_type": "code",
   "execution_count": 83,
   "id": "94029e10-b387-4f88-92b3-4e4c26820db4",
   "metadata": {},
   "outputs": [
    {
     "data": {
      "text/latex": [
       "$\\displaystyle \\left[\\begin{matrix}a_{0, 0} & a_{0, 1} & a_{0, 2}\\\\a_{1, 0} & a_{1, 1} & a_{1, 2}\\\\a_{2, 0} & a_{2, 1} & a_{2, 2}\\end{matrix}\\right]$"
      ],
      "text/plain": [
       "Matrix([\n",
       "[a[0, 0], a[0, 1], a[0, 2]],\n",
       "[a[1, 0], a[1, 1], a[1, 2]],\n",
       "[a[2, 0], a[2, 1], a[2, 2]]])"
      ]
     },
     "execution_count": 83,
     "metadata": {},
     "output_type": "execute_result"
    }
   ],
   "source": [
    "import sympy as sm\n",
    "a = sm.MatrixSymbol('a',3,3)\n",
    "b = sm.MatrixSymbol('b',3,3)\n",
    "sm.BlockMatrix([[a,b],[b,a]]).as_explicit()\n",
    "a.as_explicit()"
   ]
  }
 ],
 "metadata": {
  "kernelspec": {
   "display_name": "Python 3 (ipykernel)",
   "language": "python",
   "name": "python3"
  },
  "language_info": {
   "codemirror_mode": {
    "name": "ipython",
    "version": 3
   },
   "file_extension": ".py",
   "mimetype": "text/x-python",
   "name": "python",
   "nbconvert_exporter": "python",
   "pygments_lexer": "ipython3",
   "version": "3.9.7"
  }
 },
 "nbformat": 4,
 "nbformat_minor": 5
}
