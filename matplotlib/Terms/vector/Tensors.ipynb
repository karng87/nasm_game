{
 "cells": [
  {
   "cell_type": "markdown",
   "id": "1db1ae86-d1b3-440c-9b6c-5e4fbd3650c9",
   "metadata": {
    "tags": []
   },
   "source": [
    "# Cordinate basis\n",
    "> ### basis를 행열 F로 변환 시키면 본래 벡터는 그대로 인데 벡터의 성분만 달라진다.\n",
    "> ### Old basis: {$\\vec{e_1}, \\vec{e_2}$},  New basis: {$\\tilde{\\vec{e_1}},\\tilde{\\vec{e_2}}$}\n",
    ">> #### $\\tilde{\\vec{e_1}} = 2\\vec{e_1} + 1\\vec{e_2} \\\\\n",
    "\\tilde{\\vec{e_2}} = \\frac{-1}{2}\\vec{e_1} + \\frac{1}{4}\\vec{e_2} \\\\\n",
    "F = \\begin{bmatrix} 2 & \\frac{-1}{2} \\\\ 1 & \\frac{1}{4}\n",
    "\\end{bmatrix}, \\because \\text{ firstly inner product}\n",
    "$\n",
    ">> #### 행열 F는 기본좌표계의 elements를 변환 시킨후 변환된 기본 좌표값을 넘겨준다.\n",
    ">> #### 기본좌표계에서 vector v의 elements가 변환된 좌표를 기본축으로 했을때 어떻게 읽혀지는가 하고는 다른 것이다.\n",
    "\n"
   ]
  },
  {
   "cell_type": "code",
   "execution_count": 112,
   "id": "14d789d6-9c08-4f2c-af6a-b2b3a97fecc6",
   "metadata": {},
   "outputs": [],
   "source": [
    "# matrix product \n",
    "##  firstly inner product (same element * same eleemnt)\n"
   ]
  },
  {
   "cell_type": "markdown",
   "id": "a20fe435-8bb8-470f-bedd-5f88debc83d3",
   "metadata": {
    "tags": []
   },
   "source": [
    "# Tensors\n",
    "> ## in an m-dimentional space, \n",
    ">> ### a tensor of rank n is\n",
    ">>> ### a mathmatical object\n",
    ">>>> ### that has n indices, $m^n$ components, and\n",
    ">>>>> ### obeys certain transformation rules.\n",
    "> ### transformation rules:\n",
    ">> ### A tensor is an object that transformation like a tensor.\n",
    ">> ### A tensor is an object that is invariant under a change of coordinate systems, with components that change according to a special set of mathmatical formulae.\n",
    "> ### cordinate system change Intuition:\n",
    ">> ### To specify component of rank-n tensor,\n",
    ">> ### need:\n",
    ">>> ### magnitude of componet\n",
    ">>> ### n basis vecotors\n",
    ">> ### Suppose N is a coordinate transformation operator applied to a tensor\n",
    ">>> ### magnitude of tensor components will transform according to L,\n",
    ">>> ### basis vectors will transform according to $L^{-1}$.\n",
    ">>>> ### Effects of L and $L^{-1}$ cancle $\\to$ same overall tensor as under old coordinates(but writtern differently).\n",
    "\n",
    "> ## a collection of vectors and covectors combined together using the tensor product\n",
    ">> ### Tensors as partial derivatives and gradients that transform with the Jacobian Matrix"
   ]
  },
  {
   "cell_type": "code",
   "execution_count": 113,
   "id": "98ced01d-66a0-4899-94ba-f3f3717a53f6",
   "metadata": {},
   "outputs": [],
   "source": [
    "#M = N.create_new('M',transformation=lambda x,y,z:(2*x+y,-1/2*x + 1/4*y,z))"
   ]
  },
  {
   "cell_type": "markdown",
   "id": "53456861-f37f-4ab2-92dd-e49d75b73fcb",
   "metadata": {},
   "source": [
    "## Matices\n",
    "> ### representations of rank-2 tensors. Just arrays of numbers.\n",
    "## Tensors\n",
    "> ### required detailed specification and are invariant under change of coordinate system."
   ]
  },
  {
   "cell_type": "markdown",
   "id": "07e0923d-a79d-4341-8085-41cbc5e62ae0",
   "metadata": {},
   "source": []
  },
  {
   "cell_type": "markdown",
   "id": "907f1345-6ac2-4cad-b263-92be84d9246b",
   "metadata": {},
   "source": [
    "## [forward backward](https://www.youtube.com/watch?v=uPbBDToXjBw&list=PLJHszsWbB6hrkmmq57lX8BV-o-YIOFsiG&index=5)\n",
    "> ### Old basis: {$\\vec{e_1}, \\vec{e_2}$},  New basis: {$\\tilde{\\vec{e_1}},\\tilde{\\vec{e_2}}$}\n",
    ">> #### $\\tilde{\\vec{e_1}} = 2\\vec{e_1} + 1\\vec{e_2} \\\\\n",
    "\\tilde{\\vec{e_2}} = \\frac{-1}{2}\\vec{e_1} + \\frac{1}{4}\\vec{e_2} \\\\\n",
    "F = \\begin{bmatrix} 2 & \\frac{-1}{2} \\\\ 1 & \\frac{1}{4}\n",
    "\\end{bmatrix}, \\because \\text{ firstly inner product}\n",
    "$"
   ]
  },
  {
   "cell_type": "code",
   "execution_count": 234,
   "id": "f17995a0-c4be-42bd-bea4-18e6deadda22",
   "metadata": {},
   "outputs": [
    {
     "data": {
      "text/latex": [
       "$\\displaystyle \\left[\\begin{matrix}1.0\\\\1.5\\\\0\\end{matrix}\\right]$"
      ],
      "text/plain": [
       "Matrix([\n",
       "[1.0],\n",
       "[1.5],\n",
       "[  0]])"
      ]
     },
     "execution_count": 234,
     "metadata": {},
     "output_type": "execute_result"
    },
    {
     "data": {
      "application/vnd.jupyter.widget-view+json": {
       "model_id": "9d225b2ed348412eaa16e2add01d080d",
       "version_major": 2,
       "version_minor": 0
      },
      "text/html": [
       "\n",
       "            <div style=\"display: inline-block;\">\n",
       "                <div class=\"jupyter-widgets widget-label\" style=\"text-align: center;\">\n",
       "                    Figure\n",
       "                </div>\n",
       "                <img src='data:image/png;base64,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' width=640.0/>\n",
       "            </div>\n",
       "        "
      ],
      "text/plain": [
       "Canvas(toolbar=Toolbar(toolitems=[('Home', 'Reset original view', 'home', 'home'), ('Back', 'Back to previous …"
      ]
     },
     "metadata": {},
     "output_type": "display_data"
    }
   ],
   "source": [
    "#### Basis.base_vector \\vec{e_b}(B.i,B.j,B.k)\n",
    "\n",
    "#### New.base_vector \\vec{e_n}(N.i, N.j, N.k)\n",
    "\n",
    "#--- wrt = with respect to ---\n",
    "\n",
    "##### represent New basis wrt Basis #####\n",
    "\n",
    "### (1,0) wrt New -> (?,?) wrt Basis\n",
    "\n",
    "# N.i = x*B.i + y*B.j + z*B.k\n",
    "# N.j = x*B.i + y*B.j + z*B.k\n",
    "# N.k = x*B.i + y*B.j + z*B.k\n",
    "\n",
    "## N.i = ( 2,    1,  0)\n",
    "## N.j = (-1/2, 1/4, 0)\n",
    "## N.k = ( 0,    0,  1)\n",
    "\n",
    "# v = B(1, 1.5, 0) = B.i + 1.5*B.j \n",
    "# v = N(1, 2,   0) = N.i + 2*N.j\n",
    "##############################\n",
    "import sympy as sm\n",
    "import sympy.vector\n",
    "B = sm.vector.CoordSys3D('B')\n",
    "N = sm.vector.CoordSys3D('N')\n",
    "\n",
    "# asign(=) 을 표현 해준다로 해석\n",
    "N.i = 2*B.i + 1*B.j\n",
    "N.j = (-1/2)*B.i + 1/4*B.j\n",
    "N.k = B.k\n",
    "# N(1,2,0) wrt vector\n",
    "N.i + 2*N.j\n",
    "# 똑같은 하나의 벡터의 성분이 \n",
    "#   새로운 좌표계값 기준으로 읽은 값이라면 기존 좌표값 기준으로 좌표값은?(Forward).\n",
    "# 똑같은 하나의 벡터의 성분이 \n",
    "#   기존 좌표값 기준으로 읽은 값이라면 새로운 좌표값 기준으로 좌표값은?(Backward)\n",
    "\n",
    "# Foreward Matrix\n",
    "Fm = sm.Matrix([[ 2, -1/2, 0 ],\n",
    "                [ 1,  1/4, 0 ],\n",
    "                [ 0,  0,   1 ]])\n",
    "\n",
    "# N(1,2,0) wrt Matrix\n",
    "Fm*(sm.Matrix([1,2,0]))\n",
    "\n",
    "# N(1,2,0) wrt Matrix and vector\n",
    "Bv = 1*B.i + 2*B.j\n",
    "Fm*Bv.to_matrix(B) \n",
    "\n",
    "# Backward Matrix\n",
    "Bm = Fm.inv()\n",
    "Bm*sm.Matrix([1,1.5,0])\n",
    "\n",
    "Fm*(sm.Matrix([1,2,0]))\n",
    "\n",
    "#####################\n",
    "import matplotlib.pyplot as plt\n",
    "%matplotlib widget\n",
    "fig = plt.figure()\n",
    "ax = fig.add_subplot()\n",
    "ax.set(xlim=(-2,3),ylim=(-1,3),aspect='equal')\n",
    "ax.grid()\n",
    "ax.quiver(0,0,2,1,units='xy',color='red',scale=1)\n",
    "ax.quiver(0,0,-0.5,1/4,units='xy',color='red',scale=1)\n",
    "ax.quiver(0,0,1,0,units='xy',scale=1)\n",
    "ax.quiver(0,0,0,1,units='xy',scale=1)\n",
    "ax.quiver(0,0,1,1.5,color='green',units='xy',scale=1)\n",
    "Fm*Bv.to_matrix(B) "
   ]
  },
  {
   "cell_type": "code",
   "execution_count": 242,
   "id": "0a7adc2f-af77-46aa-a5ff-8adc520bc2dd",
   "metadata": {},
   "outputs": [
    {
     "data": {
      "text/latex": [
       "$\\displaystyle \\left[\\begin{matrix}1.0\\\\2.0\\\\0\\end{matrix}\\right]$"
      ],
      "text/plain": [
       "Matrix([\n",
       "[1.0],\n",
       "[2.0],\n",
       "[  0]])"
      ]
     },
     "execution_count": 242,
     "metadata": {},
     "output_type": "execute_result"
    }
   ],
   "source": [
    "M = sm.vector.CoordSys3D('M')\n",
    "# represent Basis wrt M\n",
    "B.i = 1/4*M.i + (-1)*M.j\n",
    "B.j = 1/2*M.i + 2*M.j\n",
    "B.k = M.k\n",
    "\n",
    "# B(1, 1.5, 0) wrt vector\n",
    "1*B.i + 1.5*B.j\n",
    "\n",
    "# B(1, 1.5, 0) wrt Matrix\n",
    "Bm = Fm.inv()\n",
    "Bm * sm.Matrix( [1, 1.5, 0] )\n",
    "\n",
    "# wrt matrix and vector\n",
    "Mv = 1*M.i + 1.5*M.j\n",
    "Bm * Mv.to_matrix(M)"
   ]
  },
  {
   "cell_type": "markdown",
   "id": "d4993581-daf4-407c-ba41-0f999d145165",
   "metadata": {},
   "source": [
    ">> #### $\\vec{e_1} = \n",
    "\\frac{1}{4}\\tilde{\\vec{e_1}} + -1\\tilde{\\vec{e_2}} \\\\\n",
    "\\vec{e_2} = \\frac{1}{2}\\tilde{\\vec{e_1}} + 2\\tilde{\\vec{e_2}} \\\\\n",
    "B = \\begin{bmatrix} \\frac{1}{4} & \\frac{1}{2} \\\\ -1 & 2\n",
    "\\end{bmatrix}$\n",
    "> ## $\n",
    "FB = \\begin{bmatrix} 2 & \\frac{-1}{2} \\\\ 1 & \\frac{1}{4} \n",
    "\\end{bmatrix}\n",
    "\\begin{bmatrix} \\frac{1}{4} & \\frac{1}{2} \\\\ -1 & 2\n",
    "\\end{bmatrix}\n",
    "= \n",
    "\\begin{bmatrix} 1 & 0 \\\\ 0 & 1\n",
    "\\end{bmatrix} \\\\\n",
    "B = F^{-1}\n",
    "$ "
   ]
  },
  {
   "cell_type": "code",
   "execution_count": 35,
   "id": "72af73cd-6dd9-4aae-bb41-6002838c3faa",
   "metadata": {},
   "outputs": [
    {
     "data": {
      "text/latex": [
       "$\\displaystyle \\left[\\begin{matrix}\\frac{1}{4} & \\frac{1}{2}\\\\-1 & 2\\end{matrix}\\right]$"
      ],
      "text/plain": [
       "Matrix([\n",
       "[1/4, 1/2],\n",
       "[ -1,   2]])"
      ]
     },
     "execution_count": 35,
     "metadata": {},
     "output_type": "execute_result"
    }
   ],
   "source": [
    "B = sm.Matrix([[sm.Rational(1,4),sm.Rational(1,2)],[-1,2]])\n",
    "B"
   ]
  },
  {
   "cell_type": "code",
   "execution_count": 12,
   "id": "079bb130-78e3-48de-80eb-a2e3417b9465",
   "metadata": {},
   "outputs": [
    {
     "data": {
      "text/plain": [
       "True"
      ]
     },
     "execution_count": 12,
     "metadata": {},
     "output_type": "execute_result"
    }
   ],
   "source": [
    "import sympy as sm\n",
    "F = sm.Matrix([[2,1],[sm.Rational(-1,2),sm.Rational(1,4)]])\n",
    "B = sm.Matrix([[sm.Rational(1,4), -1], [sm.Rational(1,2),2]])\n",
    "F.inv() == B"
   ]
  },
  {
   "cell_type": "markdown",
   "id": "81dab016-eca3-48f7-b17d-d0f5d9b73cd6",
   "metadata": {},
   "source": [
    "> ### $\n",
    "\\tilde{\\vec{e_1}} =  F_{11}\\; \\vec{e_1} + F_{21}\\; \\vec{e_2} + \\dots + F_{n1}\\;\\vec{e_n}\\\\\n",
    "\\tilde{\\vec{e_2}} =  F_{12}\\; \\vec{e_1} + F_{22}\\; \\vec{e_2} + \\dots + F_{n2}\\;\\vec{e_n}\\\\\n",
    "\\tilde{\\vec{e_n}} =  F_{1n}\\; \\vec{e_1} + F_{2n}\\; \\vec{e_2} + \\dots + F_{nn}\\;\\vec{e_n}\\\\\n",
    "F = \\begin{bmatrix} \n",
    "F_{11} & F_{12} & F_{13} & \\dots & F_{1n} \\\\ \n",
    "F_{21} & F_{22} & F_{23} & \\dots & F_{2n} \\\\ \n",
    "\\vdots & \\vdots & \\ddots & \\vdots \\\\ \n",
    "F_{n1} & F_{n2} & F_{n3} & \\dots & F_{nn} \\\\ \n",
    "\\end{bmatrix}$ \n",
    ">> ### $$ \\tilde{\\vec{e_i}} = \\sum_{j=1}^{n}F_{ji}\\;\\vec{e_{j}}\n",
    "$$"
   ]
  },
  {
   "cell_type": "code",
   "execution_count": 13,
   "id": "76a6f9e4-9dad-4d52-aaae-53d1300e49ee",
   "metadata": {},
   "outputs": [
    {
     "data": {
      "text/latex": [
       "$\\displaystyle \\sum_{j=1}^{n} b_{j, 3} f_{3, j}$"
      ],
      "text/plain": [
       "Sum(b[j, 3]*f[3, j], (j, 1, n))"
      ]
     },
     "execution_count": 13,
     "metadata": {},
     "output_type": "execute_result"
    }
   ],
   "source": [
    "i,j,k,n = sm.symbols('i j k n', postive=True)\n",
    "\n",
    "f = sm.MatrixSymbol('f',n,n)\n",
    "b = sm.MatrixSymbol('b',n,n)\n",
    "sm.Sum(f[i,j]*b[j,k],(j,1,n))\n",
    "sm.Sum(f[k,j]*b[j,i],(j,1,n)).subs({i:3,k:3})"
   ]
  },
  {
   "cell_type": "markdown",
   "id": "cf1b3327-e499-45eb-b150-cca706f6e9e0",
   "metadata": {},
   "source": [
    "> ### $\n",
    "\\vec{e_1} =  B_{11}\\;\\tilde{ \\vec{e_1}} + B_{21}\\;\\tilde{ \\vec{e_2}} + \\dots + B_{n1}\\;\\tilde{\\vec{e_n}}\\\\\n",
    "\\vec{e_2} =  B_{12}\\;\\tilde{ \\vec{e_1}} + B_{22}\\;\\tilde{ \\vec{e_2}} + \\dots + B_{n2}\\;\\tilde{\\vec{e_n}}\\\\\n",
    "\\vec{e_n} =  B_{1n}\\;\\tilde{ \\vec{e_1}} + B_{2n}\\;\\tilde{ \\vec{e_2}} + \\dots + B_{nn}\\;\\tilde{\\vec{e_n}}\\\\\n",
    "B = \\begin{bmatrix} \n",
    "B_{11} & B_{12} & \\dots & B_{1n} \\\\ \n",
    "B_{21} & B_{22} & \\dots & B_{2n} \\\\ \n",
    "\\vdots & \\vdots & \\ddots & \\vdots \\\\ \n",
    "B_{n1} & B_{n2} & \\dots & B_{nn} \\\\ \n",
    "\\end{bmatrix}$ \n",
    ">> ### $$ \\vec{e_i} = \\sum_{j=1}^{n}B_{ji}\\;\\tilde{\\vec{e_{j}}}\n",
    "$$"
   ]
  },
  {
   "cell_type": "markdown",
   "id": "3ed14162-303a-4e5e-80d5-901d11b1e556",
   "metadata": {},
   "source": [
    "---\n",
    "### $$ \n",
    "\\vec{e_i} = \\sum_{j=1}^{n} B_{ji}\\; \\tilde{\\vec{e_j}} \\quad\n",
    "\\because \\tilde{\\vec{e_j}} = \\sum_{k=1}^{n}F_{kj}\\; \\vec{e_k}, \\\\\n",
    "\\vec{e_i} = \\sum_{j} B_{ji}\\; \\sum_{k} F_{kj}\\; \\vec{e_{k}} \\\\\n",
    "\\vec{e_i} = \\sum_{k} \\Big(\\sum_{j} B_{ji}\\; F_{kj}\\Big)\\; \\vec{e_{k}} \\\\\n",
    "\\quad \\because \\sum_{j}B_{ji}F_{jk} = \n",
    "\\begin{cases} \n",
    "1 & \\text{if } i = k \\\\\n",
    "0 & \\text{if } i \\neq k \\\\\n",
    "\\therefore \\delta_{ik} =: \\text{Kronecker Delta}\n",
    "\\end{cases}\n",
    "$$ \n",
    "$\n",
    "F = \\begin{bmatrix} \n",
    "F_{11} & F_{12} & \\dots & F_{1n} \\\\ \n",
    "F_{21} & F_{22} & \\dots & F_{2n} \\\\ \n",
    "\\vdots & \\vdots & \\ddots & \\vdots \\\\ \n",
    "F_{n1} & F_{n2} & \\dots & F_{nn} \\\\ \n",
    "\\end{bmatrix} \\;\n",
    "B = \\begin{bmatrix} \n",
    "B_{11} & B_{12} & \\dots & B_{1n} \\\\ \n",
    "B_{21} & B_{22} & \\dots & B_{2n} \\\\ \n",
    "\\vdots & \\vdots & \\ddots & \\vdots \\\\ \n",
    "B_{n1} & B_{n2} & \\dots & B_{nn} \\\\ \n",
    "\\end{bmatrix}\\;\n",
    "I(FB) = \\begin{bmatrix} \n",
    "1 & 0 & \\dots & 0 \\\\ \n",
    "0 & 1 & \\dots & 0 \\\\ \n",
    "\\vdots & \\vdots & 1 & \\vdots \\\\ \n",
    "0 & 0 & \\dots & 1\\\\ \n",
    "\\end{bmatrix}$ "
   ]
  },
  {
   "cell_type": "code",
   "execution_count": null,
   "id": "0390fa21-e92c-46c7-9391-516735e69f46",
   "metadata": {},
   "outputs": [],
   "source": []
  },
  {
   "cell_type": "markdown",
   "id": "e719976c-4787-4a82-bc30-7ab90fd8bcdc",
   "metadata": {},
   "source": [
    "> vectors\n",
    ">> invariant\n",
    "\n",
    "> vector components\n",
    ">> variant\n",
    "\n",
    "> vector sapce\n",
    ">> $(V,S,+,\\cdot)$  \n",
    ">>> V := Set of vectors  \n",
    ">>> S := Set of Scalars  \n",
    ">>> \\+ := addtion  \n",
    ">>> $\\cdot$ := scaling"
   ]
  },
  {
   "cell_type": "markdown",
   "id": "4f448048-5c1d-45e3-a47d-87a39dc47fe9",
   "metadata": {},
   "source": [
    "> ### $F = \\begin{bmatrix} 2 & \\frac{-1}{2} \\\\ 1 & \\frac{1}{4} \\end{bmatrix}$\n",
    "> ### $B = \\begin{bmatrix} \\frac{1}{4} & \\frac{1}{2} \\\\ -1 & 2 \\end{bmatrix}$\n",
    "> ### $\\vec{v} \n",
    "= 1\\; \\vec{e_1} + 1.5\\; \\vec{e_2} \\\\ \\vec{v} \n",
    "= 1\\; \\tilde{\\vec{e_1}} + 2\\; \\tilde{\\vec{e_2}}$\n",
    "> ### $\\begin{bmatrix}1 \\\\ 1.5 \\end{bmatrix}_{\\vec{e_i}} \\iff \\begin{bmatrix}1 \\\\ 2 \\end{bmatrix}_{\\tilde{\\vec{e_i}}}$"
   ]
  },
  {
   "cell_type": "code",
   "execution_count": 38,
   "id": "2ed187df-8106-43eb-9f91-2f43b95cb23b",
   "metadata": {},
   "outputs": [
    {
     "data": {
      "text/latex": [
       "$\\displaystyle \\left[\\begin{matrix}1.0\\\\2.0\\end{matrix}\\right]$"
      ],
      "text/plain": [
       "Matrix([\n",
       "[1.0],\n",
       "[2.0]])"
      ]
     },
     "execution_count": 38,
     "metadata": {},
     "output_type": "execute_result"
    }
   ],
   "source": [
    "# v0 = <1,1.5>\n",
    "v0 = 1*N.i + 1.5*N.j\n",
    "m = v0.to_matrix(N)\n",
    "m = m.row_del(2)\n",
    "# transformation\n",
    "F*m\n",
    "# Not transforamtion but how to read elements with respect to \\tilde{\\vec{[e}} system\n",
    "B*m"
   ]
  },
  {
   "cell_type": "markdown",
   "id": "5f958bf5-32a9-4335-b80a-56c63e718c77",
   "metadata": {},
   "source": [
    "# Contra Variant\n",
    "> ### $\n",
    "\\vec{v} \n",
    "=  v_1\\vec{e_1} + v_2\\vec{e_2} + ... + v_n\\vec{e_n} \n",
    "= \\sum_{j=1}^n v_j\\vec{e_j}\\\\\n",
    "\\vec{v} \n",
    "= \\tilde{v_1}\\tilde{\\vec{e_1}} + \\tilde{v_2}\\tilde{\\vec{e_2}} + ... + \\tilde{v_n}\\tilde{\\vec{e_n}} \n",
    "= \\sum_{j=1}^n \\tilde{v_j}\\tilde{\\vec{e_j}}\\\\\n",
    "\\vec{v} \n",
    "\\begin{cases} \n",
    "\\sum_{j=1}^{n}v_j\\vec{e_j} \\\\\n",
    "\\sum_{i=1}^{n} \\tilde{v_i}\\tilde{\\vec{e_i}}\n",
    "\\end{cases}\n",
    "$"
   ]
  },
  {
   "cell_type": "markdown",
   "id": "93fa7c62-8bc4-4df2-8958-3dc0bbab53c3",
   "metadata": {},
   "source": [
    "> ### $ \\because\n",
    "\\tilde{\\vec{e_j}} = \\sum_{i=1}^n F_{ij}\\vec{e_i}, \\quad\n",
    "\\vec{e_j} = \\sum_{i=1}^n B_{ij}\\tilde{\\vec{e_i}}\n",
    "$\n",
    ">> ### $\\sum_{j=1}^{n}v_j\\vec{e_j}\n",
    "=\\sum_{j=1}^{n}v_j \\Big(\\sum_{i=1}^n B_{ij}\\tilde{\\vec{e_i}}\\Big)\n",
    "=\\sum_{i=1}^{n}\\Big(\\sum_{j=1}^n B_{ij}\\; v_j\\Big)\\tilde{\\vec{e_i}}\\\\\n",
    "\\quad \\because \\vec{v} = \\sum_{i=1}^{n}\\tilde{v_i}\\tilde{\\vec{e_i}} \\\\\n",
    "\\quad =\\sum_{i=1}^{n}\\Big(\\tilde{v_i}\\Big)\\tilde{\\vec{e_i}} \\\\\n",
    "\\therefore \\tilde{v_j} = \\sum_{j=1}^{n}B_{ij}\\; \\vec{v_j} \\\\\n",
    "$\n",
    "## Components vectors Transformation \n",
    "- ### Contra Varient\n",
    "> ### behave contray to the basis vecotrs\n",
    ">> ### therefore we gona wirte the indices above the V\n",
    ">> ### $\n",
    "\\quad \\therefore \\tilde{v^j} = \\sum_{j=1}^{n}B_{ij}\\; v^j \\\\\n",
    "\\quad \\therefore v^j = \\sum_{j=1}^{n}F_{ij}\\; \\tilde{v^j} \\\\\n",
    "\\vec{v} = \\sum_{i=1}^{n} v^{i}\\; \\vec{e_i} = \\sum_{i=1}^{n}\\tilde{v^i}\\; \\tilde{\\vec{e_i}}\n",
    "$\n",
    "\n",
    "## Basis vectors trasformation\n",
    "> ### $ \n",
    "\\quad \\therefore \\tilde{\\vec{e_j}} = \\sum_{i=1}^n F_{ij}\\vec{e_i} \\\\\n",
    "\\quad \\therefore \\vec{e_j} = \\sum_{i=1}^n B_{ij}\\tilde{\\vec{e_i}}\n",
    "$"
   ]
  },
  {
   "cell_type": "code",
   "execution_count": null,
   "id": "be446639-8f28-4f59-8eb1-98e222fea315",
   "metadata": {},
   "outputs": [],
   "source": []
  },
  {
   "cell_type": "markdown",
   "id": "9aed97bd-970d-4829-89e3-89f961950a21",
   "metadata": {
    "tags": []
   },
   "source": [
    "# CoVectors\n",
    "> - ### covectors are invariant\n",
    "> - ### covector components are not invariant\n",
    "> - ### covectors are functions $\\alpha : V \\to \\mathbb{R}$\n",
    "> - ### covectors don't live in the vector space V\n",
    "> - ### so we can't use basis vectors in V like {$\\vec{e_1}, \\vec{e_2}$} to measure covectors\n",
    "\n",
    "> ### take the basis{$\\vec{e_1}, \\vec{e_2}$} for V.\n",
    "> ### introduce two special covectors $\\epsilon^1, \\epsilon^2: V \\to \\mathbb{R}$\n",
    ">> ### $\\epsilon^1 (\\vec{e_1}) = 1, \\quad \\epsilon^1 (\\vec{e_2}) = 0$\n",
    ">> ### $\\epsilon^2 (\\vec{e_1}) = 1, \\quad \\epsilon^2 (\\vec{e_2}) = 0$\n",
    ">> ### $\\epsilon^i (\\vec{e_j}) = \\delta_{ij} = \n",
    "\\begin{cases} \n",
    "1 & if \\;i = j \\\\\n",
    "0 & if \\;i \\neq j \\\\\n",
    "\\end{cases}\n",
    "$\n",
    ">>> ### $\\epsilon^1 (\\vec{v}) \n",
    "= \\epsilon^1 ( {v}^1 \\vec{e_1} + {v}^2 \\vec{e_2}) \n",
    "= v^1 \\epsilon^1 (\\vec{e_1}) + v^2 \\epsilon^1(\\vec{e_2}) = v^1 $\n",
    ">>> ### $\\epsilon^2 (\\vec{v}) \n",
    "= \\epsilon^2 ( {v}^1 \\vec{e_1} + {v}^2 \\vec{e_2}) \n",
    "= v^1 \\epsilon^2 (\\vec{e_1}) + v^2 \\epsilon^2(\\vec{e_2}) = v^2 $\n",
    ">> ### $\\therefore \\epsilon^i (\\vec{v}) = v^i$\n",
    ">> ### $\\therefore  v^i = \\epsilon^i (\\vec{v}) $"
   ]
  },
  {
   "cell_type": "code",
   "execution_count": 48,
   "id": "a95c5265-36a7-4dfa-85e6-cc2869c24cd2",
   "metadata": {},
   "outputs": [],
   "source": [
    "#"
   ]
  },
  {
   "cell_type": "markdown",
   "id": "99f8e5c6-6842-4da3-b150-b5b2042fd082",
   "metadata": {
    "tags": []
   },
   "source": [
    "> ### $\\alpha (\\vec{v}) \\begin{cases}\n",
    "\\alpha ( {v}^1 \\vec{e_1} + {v}^2 \\vec{e_2}) \\\\\n",
    "v^1 \\alpha(\\vec{e_1}) + {v}^2 \\alpha(\\vec{e_2}) \\\\\n",
    "\\quad \\because v^1 = \\epsilon^1(\\vec{v}), \\quad \\epsilon^2(\\vec{v}) = v^2 \\\\\n",
    "\\epsilon^1(\\vec{v})\\alpha(\\vec{e_1}) + \\epsilon^2(\\vec{v})\\alpha(\\vec{e_1}) \\\\\n",
    "\\text{Define: } \\alpha(\\vec{e_1}) = \\alpha_1, \\quad \\alpha(\\vec{e_2}) = \\alpha_2 \\\\\n",
    "\\epsilon^1 \\alpha_1(\\vec{v}) + \\epsilon^2\\alpha_1 (\\vec{v})\\\\\n",
    "(\\epsilon^1 \\alpha_1 + \\epsilon^2\\alpha_1) (\\vec{v})\\\\\n",
    "\\quad \\because \\text{cancel } \\vec{v}\n",
    "\\end{cases}\n",
    "$\n",
    "> ### $\\alpha = \\alpha_1 \\epsilon^1 + \\alpha_2 \\epsilon^2$\n",
    ">> ### $\\epsilon$ is called Dual Basis(양쪽에서 Basis)\n",
    ">>> ### $\\because \\epsilon$ Covector form a basis for the set of all Covectors \n",
    ">> ### $\\alpha$ is General Covector"
   ]
  },
  {
   "cell_type": "code",
   "execution_count": 49,
   "id": "fb77219b-efeb-4066-96f6-7bb068ce9899",
   "metadata": {},
   "outputs": [],
   "source": [
    "#"
   ]
  },
  {
   "cell_type": "markdown",
   "id": "cfc2873b-f23b-4f33-baac-fa0ea7d2b846",
   "metadata": {},
   "source": [
    "> ### A covector(row vector) is \n",
    ">>  ### Linearity\n",
    ">>> ### A fucntion that takes a vector and produces a scalar/number \n",
    "$ \\alpha: V \\to \\mathbb{R}$\n",
    ">>> ### We can add inputs or add output and get the same answer\n",
    "$ \\alpha(\\vec{v} + \\vec{w}) = \\alpha(\\vec{v}) + \\alpha \\vec{w}$\n",
    ">>> ### We can scale inputs or scale outputs and get the same answer\n",
    "$ \\alpha(n \\vec{v} + m \\vec{w}) = n \\alpha(\\vec{v}) + m \\alpha(\\vec{w})$\n"
   ]
  },
  {
   "cell_type": "code",
   "execution_count": 50,
   "id": "fbb32899-64bb-4e67-a1e9-ee8031e28c15",
   "metadata": {},
   "outputs": [],
   "source": [
    "#"
   ]
  },
  {
   "cell_type": "markdown",
   "id": "dc6e7de1-2929-4565-90c2-3c5c7033cc4f",
   "metadata": {},
   "source": [
    "---\n",
    "# Vector Space\n",
    "> ### $(V,S, +,\\cdot)$\n",
    "# Dual Vector Space\n",
    "> ### $(V^*, S, + , \\cdot)$\n",
    ">> ### Elements of $V^*$ ard covectors, $\\alpha: V \\to \\mathbb{R}$\n",
    ">>> $(n \\cdot \\alpha)(\\vec{v}) = n\\alpha(\\vec v) \\\\\n",
    "(\\beta + \\gamma)(\\vec v) = \\beta(\\vec v) + \\gamma(\\vec v)\\\\\n",
    "\\alpha(\\vec v + \\vec w) = \\alpha(\\vec v) + \\alpha(\\vec w)\\\\\n",
    "\\alpha(n\\vec v) = n \\alpha(\\vec v)\n",
    "$\n"
   ]
  },
  {
   "cell_type": "code",
   "execution_count": 184,
   "id": "cdb828cc-ed52-4c0b-b8ca-8511f22e02b6",
   "metadata": {},
   "outputs": [
    {
     "data": {
      "text/latex": [
       "$\\displaystyle CoordSys3D\\left(, \\left( \\left[\\begin{matrix}1 & 0 & 0\\\\0 & 1 & 0\\\\0 & 0 & 1\\end{matrix}\\right], \\  \\mathbf{\\hat{0}}\\right)\\right)$"
      ],
      "text/plain": []
     },
     "execution_count": 184,
     "metadata": {},
     "output_type": "execute_result"
    },
    {
     "data": {
      "image/png": "[encoded data removed]",
      "text/plain": [
       "<Figure size 720x720 with 1 Axes>"
      ]
     },
     "metadata": {
      "needs_background": "light"
     },
     "output_type": "display_data"
    }
   ],
   "source": [
    "import matplotlib.pyplot as plt\n",
    "import numpy as np\n",
    "x = np.linspace(-10,10,100)\n",
    "fig = plt.figure(figsize=(10,10))\n",
    "ax = fig.add_subplot()\n",
    "ax.set_aspect('equal')\n",
    "ax.set_xlim(xmin=-10,xmax=10)\n",
    "ax.set_ylim(ymin=-10,ymax=10)\n",
    "ax.set_xticks(np.arange(-10,10,1))\n",
    "ax.set_yticks(np.arange(-10,10,1))\n",
    "ax.spines['left'].set_position('center')\n",
    "ax.spines['bottom'].set_position('center')\n",
    "ax.grid()\n",
    "\n",
    "e1 = 2*N.i + \n",
    "#ax.axhline(0)\n",
    "#ax.axvline(0)\n"
   ]
  },
  {
   "cell_type": "code",
   "execution_count": null,
   "id": "b7a81316-16d2-45f8-a550-d27442e92805",
   "metadata": {},
   "outputs": [],
   "source": []
  },
  {
   "cell_type": "code",
   "execution_count": null,
   "id": "1c01edd9-e431-4994-9653-14e1b284bae6",
   "metadata": {},
   "outputs": [],
   "source": []
  }
 ],
 "metadata": {
  "kernelspec": {
   "display_name": "Python 3 (ipykernel)",
   "language": "python",
   "name": "python3"
  },
  "language_info": {
   "codemirror_mode": {
    "name": "ipython",
    "version": 3
   },
   "file_extension": ".py",
   "mimetype": "text/x-python",
   "name": "python",
   "nbconvert_exporter": "python",
   "pygments_lexer": "ipython3",
   "version": "3.9.7"
  }
 },
 "nbformat": 4,
 "nbformat_minor": 5
}
