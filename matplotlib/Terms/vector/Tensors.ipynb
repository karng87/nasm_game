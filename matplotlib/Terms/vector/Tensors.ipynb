{
 "cells": [
  {
   "cell_type": "markdown",
   "id": "1db1ae86-d1b3-440c-9b6c-5e4fbd3650c9",
   "metadata": {
    "tags": []
   },
   "source": [
    "# Cordinate basis\n",
    "> ### basis를 행열 F로 변환 시키면 본래 벡터는 그대로 인데 벡터의 성분만 달라진다.\n",
    "> ### Old basis: {$\\vec{e_1}, \\vec{e_2}$},  New basis: {$\\tilde{\\vec{e_1}},\\tilde{\\vec{e_2}}$}\n",
    ">> #### $\\tilde{\\vec{e_1}} = 2\\vec{e_1} + 1\\vec{e_2} \\\\\n",
    "\\tilde{\\vec{e_2}} = \\frac{-1}{2}\\vec{e_1} + \\frac{1}{4}\\vec{e_2} \\\\\n",
    "F = \\begin{bmatrix} 2 & \\frac{-1}{2} \\\\ 1 & \\frac{1}{4}\n",
    "\\end{bmatrix}, \\because \\text{ firstly inner product}\n",
    "$\n",
    ">> #### 행열 F는 기본좌표계의 elements를 변환 시킨후 변환된 기본 좌표값을 넘겨준다.\n",
    ">> #### 기본좌표계에서 vector v의 elements가 변환된 좌표를 기본축으로 했을때 어떻게 읽혀지는가 하고는 다른 것이다.\n",
    "\n"
   ]
  },
  {
   "cell_type": "code",
   "execution_count": 112,
   "id": "14d789d6-9c08-4f2c-af6a-b2b3a97fecc6",
   "metadata": {},
   "outputs": [],
   "source": [
    "# matrix product \n",
    "##  firstly inner product (same element * same eleemnt)\n"
   ]
  },
  {
   "cell_type": "markdown",
   "id": "a20fe435-8bb8-470f-bedd-5f88debc83d3",
   "metadata": {
    "tags": []
   },
   "source": [
    "# Tensors\n",
    "> ## in an m-dimentional space, \n",
    ">> ### a tensor of rank n is\n",
    ">>> ### a mathmatical object\n",
    ">>>> ### that has n indices, $m^n$ components, and\n",
    ">>>>> ### obeys certain transformation rules.\n",
    "> ### transformation rules:\n",
    ">> ### A tensor is an object that transformation like a tensor.\n",
    ">> ### A tensor is an object that is invariant under a change of coordinate systems, with components that change according to a special set of mathmatical formulae.\n",
    "> ### cordinate system change Intuition:\n",
    ">> ### To specify component of rank-n tensor,\n",
    ">> ### need:\n",
    ">>> ### magnitude of componet\n",
    ">>> ### n basis vecotors\n",
    ">> ### Suppose N is a coordinate transformation operator applied to a tensor\n",
    ">>> ### magnitude of tensor components will transform according to L,\n",
    ">>> ### basis vectors will transform according to $L^{-1}$.\n",
    ">>>> ### Effects of L and $L^{-1}$ cancle $\\to$ same overall tensor as under old coordinates(but writtern differently).\n",
    "\n",
    "> ## a collection of vectors and covectors combined together using the tensor product\n",
    ">> ### Tensors as partial derivatives and gradients that transform with the Jacobian Matrix"
   ]
  },
  {
   "cell_type": "code",
   "execution_count": 113,
   "id": "98ced01d-66a0-4899-94ba-f3f3717a53f6",
   "metadata": {},
   "outputs": [],
   "source": [
    "#M = N.create_new('M',transformation=lambda x,y,z:(2*x+y,-1/2*x + 1/4*y,z))"
   ]
  },
  {
   "cell_type": "markdown",
   "id": "53456861-f37f-4ab2-92dd-e49d75b73fcb",
   "metadata": {},
   "source": [
    "## Matices\n",
    "> ### representations of rank-2 tensors. Just arrays of numbers.\n",
    "## Tensors\n",
    "> ### required detailed specification and are invariant under change of coordinate system."
   ]
  },
  {
   "cell_type": "markdown",
   "id": "07e0923d-a79d-4341-8085-41cbc5e62ae0",
   "metadata": {},
   "source": []
  },
  {
   "cell_type": "markdown",
   "id": "907f1345-6ac2-4cad-b263-92be84d9246b",
   "metadata": {},
   "source": [
    "## [forward backward](https://www.youtube.com/watch?v=uPbBDToXjBw&list=PLJHszsWbB6hrkmmq57lX8BV-o-YIOFsiG&index=5)\n",
    "> ### Old basis: {$\\vec{e_1}, \\vec{e_2}$},  New basis: {$\\tilde{\\vec{e_1}},\\tilde{\\vec{e_2}}$}\n",
    ">> #### $\\tilde{\\vec{e_1}} = 2\\vec{e_1} + 1\\vec{e_2} \\\\\n",
    "\\tilde{\\vec{e_2}} = \\frac{-1}{2}\\vec{e_1} + \\frac{1}{4}\\vec{e_2} \\\\\n",
    "F = \\begin{bmatrix} 2 & \\frac{-1}{2} \\\\ 1 & \\frac{1}{4}\n",
    "\\end{bmatrix}, \\because \\text{ firstly inner product}\n",
    "$"
   ]
  },
  {
   "cell_type": "code",
   "execution_count": 236,
   "id": "f17995a0-c4be-42bd-bea4-18e6deadda22",
   "metadata": {},
   "outputs": [
    {
     "data": {
      "text/latex": [
       "$\\displaystyle \\left[\\begin{matrix}1.0\\\\1.5\\\\0\\end{matrix}\\right]$"
      ],
      "text/plain": [
       "Matrix([\n",
       "[1.0],\n",
       "[1.5],\n",
       "[  0]])"
      ]
     },
     "execution_count": 236,
     "metadata": {},
     "output_type": "execute_result"
    }
   ],
   "source": [
    "#### Basis.base_vector \\vec{e_b}(B.i,B.j,B.k)\n",
    "\n",
    "#### New.base_vector \\vec{e_n}(N.i, N.j, N.k)\n",
    "\n",
    "#--- wrt = with respect to ---\n",
    "\n",
    "##### represent New basis wrt Basis #####\n",
    "\n",
    "### (1,0) wrt New -> (?,?) wrt Basis\n",
    "\n",
    "# N.i = x*B.i + y*B.j + z*B.k\n",
    "# N.j = x*B.i + y*B.j + z*B.k\n",
    "# N.k = x*B.i + y*B.j + z*B.k\n",
    "\n",
    "## N.i = ( 2,    1,  0)\n",
    "## N.j = (-1/2, 1/4, 0)\n",
    "## N.k = ( 0,    0,  1)\n",
    "\n",
    "# v = B(1, 1.5, 0) = B.i + 1.5*B.j \n",
    "# v = N(1, 2,   0) = N.i + 2*N.j\n",
    "##############################\n",
    "\n",
    "import sympy as sm\n",
    "import sympy.vector\n",
    "B = sm.vector.CoordSys3D('B')\n",
    "N = sm.vector.CoordSys3D('N')\n",
    "\n",
    "# asign(=) 을 표현 해준다로 해석\n",
    "N.i = 2*B.i + 1*B.j\n",
    "N.j = (-1/2)*B.i + 1/4*B.j\n",
    "N.k = B.k\n",
    "\n",
    "# N(1,2,0) wrt vector\n",
    "N.i + 2*N.j\n",
    "\n",
    "# 똑같은 하나의 벡터의 성분이 \n",
    "#   새로운 좌표계값 기준으로 읽은 값이라면 기존 좌표값 기준으로 좌표값은?(Forward).\n",
    "# 똑같은 하나의 벡터의 성분이 \n",
    "#   기존 좌표값 기준으로 읽은 값이라면 새로운 좌표값 기준으로 좌표값은?(Backward)\n",
    "\n",
    "# Foreward Matrix\n",
    "Fm = sm.Matrix([[ 2, -1/2, 0 ],\n",
    "                [ 1,  1/4, 0 ],\n",
    "                [ 0,  0,   1 ]])\n",
    "\n",
    "# N(1,2,0) wrt Matrix\n",
    "Fm*(sm.Matrix([1,2,0]))\n",
    "\n",
    "# N(1,2,0) wrt Matrix and vector\n",
    "Bv = 1*B.i + 2*B.j\n",
    "Fm*Ov.to_matrix(B) \n",
    "\n",
    "# Backward Matrix\n",
    "Bm = Fm.inv()\n",
    "Bm*sm.Matrix([1,1.5,0])\n",
    "\n",
    "Fm*(sm.Matrix([1,2,0]))"
   ]
  },
  {
   "cell_type": "code",
   "execution_count": 231,
   "id": "0a7adc2f-af77-46aa-a5ff-8adc520bc2dd",
   "metadata": {},
   "outputs": [
    {
     "data": {
      "text/latex": [
       "$\\displaystyle \\left[\\begin{matrix}1.0\\\\2.0\\\\0\\end{matrix}\\right]$"
      ],
      "text/plain": [
       "Matrix([\n",
       "[1.0],\n",
       "[2.0],\n",
       "[  0]])"
      ]
     },
     "execution_count": 231,
     "metadata": {},
     "output_type": "execute_result"
    }
   ],
   "source": [
    "B = sm.vector.CoordSys3D('B')\n",
    "O.i = 1/4*B.i + (-1)*B.j\n",
    "O.j = 1/2*B.i + 2*B.j\n",
    "O.k = B.k\n",
    "\n",
    "# O(1, 1.5, 0) wrt vector\n",
    "O.i + 1.5*O.j\n",
    "\n",
    "# O(1, 1.5, 0) wrt Matrix\n",
    "Bm = Fm.inv()\n",
    "Bm * sm.Matrix( [1, 1.5, 0] )\n",
    "\n",
    "# wrt matrix and vector\n",
    "vB0 = 1*B.i + 1.5*B.j\n",
    "Bm*vB0.to_matrix(B)"
   ]
  },
  {
   "cell_type": "markdown",
   "id": "d4993581-daf4-407c-ba41-0f999d145165",
   "metadata": {},
   "source": [
    ">> #### $\\vec{e_1} = \n",
    "\\frac{1}{4}\\tilde{\\vec{e_1}} + -1\\tilde{\\vec{e_2}} \\\\\n",
    "\\vec{e_2} = \\frac{1}{2}\\tilde{\\vec{e_1}} + 2\\tilde{\\vec{e_2}} \\\\\n",
    "B = \\begin{bmatrix} \\frac{1}{4} & \\frac{1}{2} \\\\ -1 & 2\n",
    "\\end{bmatrix}$\n",
    "> ## $\n",
    "FB = \\begin{bmatrix} 2 & \\frac{-1}{2} \\\\ 1 & \\frac{1}{4} \n",
    "\\end{bmatrix}\n",
    "\\begin{bmatrix} \\frac{1}{4} & \\frac{1}{2} \\\\ -1 & 2\n",
    "\\end{bmatrix}\n",
    "= \n",
    "\\begin{bmatrix} 1 & 0 \\\\ 0 & 1\n",
    "\\end{bmatrix} \\\\\n",
    "B = F^{-1}\n",
    "$ "
   ]
  },
  {
   "cell_type": "code",
   "execution_count": 35,
   "id": "72af73cd-6dd9-4aae-bb41-6002838c3faa",
   "metadata": {},
   "outputs": [
    {
     "data": {
      "text/latex": [
       "$\\displaystyle \\left[\\begin{matrix}\\frac{1}{4} & \\frac{1}{2}\\\\-1 & 2\\end{matrix}\\right]$"
      ],
      "text/plain": [
       "Matrix([\n",
       "[1/4, 1/2],\n",
       "[ -1,   2]])"
      ]
     },
     "execution_count": 35,
     "metadata": {},
     "output_type": "execute_result"
    }
   ],
   "source": [
    "B = sm.Matrix([[sm.Rational(1,4),sm.Rational(1,2)],[-1,2]])\n",
    "B"
   ]
  },
  {
   "cell_type": "code",
   "execution_count": 12,
   "id": "079bb130-78e3-48de-80eb-a2e3417b9465",
   "metadata": {},
   "outputs": [
    {
     "data": {
      "text/plain": [
       "True"
      ]
     },
     "execution_count": 12,
     "metadata": {},
     "output_type": "execute_result"
    }
   ],
   "source": [
    "import sympy as sm\n",
    "F = sm.Matrix([[2,1],[sm.Rational(-1,2),sm.Rational(1,4)]])\n",
    "B = sm.Matrix([[sm.Rational(1,4), -1], [sm.Rational(1,2),2]])\n",
    "F.inv() == B"
   ]
  },
  {
   "cell_type": "markdown",
   "id": "81dab016-eca3-48f7-b17d-d0f5d9b73cd6",
   "metadata": {},
   "source": [
    "> ### $\n",
    "\\tilde{\\vec{e_1}} =  F_{11}\\; \\vec{e_1} + F_{21}\\; \\vec{e_2} + \\dots + F_{n1}\\;\\vec{e_n}\\\\\n",
    "\\tilde{\\vec{e_2}} =  F_{12}\\; \\vec{e_1} + F_{22}\\; \\vec{e_2} + \\dots + F_{n2}\\;\\vec{e_n}\\\\\n",
    "\\tilde{\\vec{e_n}} =  F_{1n}\\; \\vec{e_1} + F_{2n}\\; \\vec{e_2} + \\dots + F_{nn}\\;\\vec{e_n}\\\\\n",
    "F = \\begin{bmatrix} \n",
    "F_{11} & F_{12} & F_{13} & \\dots & F_{1n} \\\\ \n",
    "F_{21} & F_{22} & F_{23} & \\dots & F_{2n} \\\\ \n",
    "\\vdots & \\vdots & \\ddots & \\vdots \\\\ \n",
    "F_{n1} & F_{n2} & F_{n3} & \\dots & F_{nn} \\\\ \n",
    "\\end{bmatrix}$ \n",
    ">> ### $$ \\tilde{\\vec{e_i}} = \\sum_{j=1}^{n}F_{ji}\\;\\vec{e_{j}}\n",
    "$$"
   ]
  },
  {
   "cell_type": "code",
   "execution_count": 13,
   "id": "76a6f9e4-9dad-4d52-aaae-53d1300e49ee",
   "metadata": {},
   "outputs": [
    {
     "data": {
      "text/latex": [
       "$\\displaystyle \\sum_{j=1}^{n} b_{j, 3} f_{3, j}$"
      ],
      "text/plain": [
       "Sum(b[j, 3]*f[3, j], (j, 1, n))"
      ]
     },
     "execution_count": 13,
     "metadata": {},
     "output_type": "execute_result"
    }
   ],
   "source": [
    "i,j,k,n = sm.symbols('i j k n', postive=True)\n",
    "\n",
    "f = sm.MatrixSymbol('f',n,n)\n",
    "b = sm.MatrixSymbol('b',n,n)\n",
    "sm.Sum(f[i,j]*b[j,k],(j,1,n))\n",
    "sm.Sum(f[k,j]*b[j,i],(j,1,n)).subs({i:3,k:3})"
   ]
  },
  {
   "cell_type": "markdown",
   "id": "cf1b3327-e499-45eb-b150-cca706f6e9e0",
   "metadata": {},
   "source": [
    "> ### $\n",
    "\\vec{e_1} =  B_{11}\\;\\tilde{ \\vec{e_1}} + B_{21}\\;\\tilde{ \\vec{e_2}} + \\dots + B_{n1}\\;\\tilde{\\vec{e_n}}\\\\\n",
    "\\vec{e_2} =  B_{12}\\;\\tilde{ \\vec{e_1}} + B_{22}\\;\\tilde{ \\vec{e_2}} + \\dots + B_{n2}\\;\\tilde{\\vec{e_n}}\\\\\n",
    "\\vec{e_n} =  B_{1n}\\;\\tilde{ \\vec{e_1}} + B_{2n}\\;\\tilde{ \\vec{e_2}} + \\dots + B_{nn}\\;\\tilde{\\vec{e_n}}\\\\\n",
    "B = \\begin{bmatrix} \n",
    "B_{11} & B_{12} & \\dots & B_{1n} \\\\ \n",
    "B_{21} & B_{22} & \\dots & B_{2n} \\\\ \n",
    "\\vdots & \\vdots & \\ddots & \\vdots \\\\ \n",
    "B_{n1} & B_{n2} & \\dots & B_{nn} \\\\ \n",
    "\\end{bmatrix}$ \n",
    ">> ### $$ \\vec{e_i} = \\sum_{j=1}^{n}B_{ji}\\;\\tilde{\\vec{e_{j}}}\n",
    "$$"
   ]
  },
  {
   "cell_type": "markdown",
   "id": "3ed14162-303a-4e5e-80d5-901d11b1e556",
   "metadata": {},
   "source": [
    "---\n",
    "### $$ \n",
    "\\vec{e_i} = \\sum_{j=1}^{n} B_{ji}\\; \\tilde{\\vec{e_j}} \\quad\n",
    "\\because \\tilde{\\vec{e_j}} = \\sum_{k=1}^{n}F_{kj}\\; \\vec{e_k}, \\\\\n",
    "\\vec{e_i} = \\sum_{j} B_{ji}\\; \\sum_{k} F_{kj}\\; \\vec{e_{k}} \\\\\n",
    "\\vec{e_i} = \\sum_{k} \\Big(\\sum_{j} B_{ji}\\; F_{kj}\\Big)\\; \\vec{e_{k}} \\\\\n",
    "\\quad \\because \\sum_{j}B_{ji}F_{jk} = \n",
    "\\begin{cases} \n",
    "1 & \\text{if } i = k \\\\\n",
    "0 & \\text{if } i \\neq k \\\\\n",
    "\\therefore \\delta_{ik} =: \\text{Kronecker Delta}\n",
    "\\end{cases}\n",
    "$$ \n",
    "$\n",
    "F = \\begin{bmatrix} \n",
    "F_{11} & F_{12} & \\dots & F_{1n} \\\\ \n",
    "F_{21} & F_{22} & \\dots & F_{2n} \\\\ \n",
    "\\vdots & \\vdots & \\ddots & \\vdots \\\\ \n",
    "F_{n1} & F_{n2} & \\dots & F_{nn} \\\\ \n",
    "\\end{bmatrix} \\;\n",
    "B = \\begin{bmatrix} \n",
    "B_{11} & B_{12} & \\dots & B_{1n} \\\\ \n",
    "B_{21} & B_{22} & \\dots & B_{2n} \\\\ \n",
    "\\vdots & \\vdots & \\ddots & \\vdots \\\\ \n",
    "B_{n1} & B_{n2} & \\dots & B_{nn} \\\\ \n",
    "\\end{bmatrix}\\;\n",
    "I(FB) = \\begin{bmatrix} \n",
    "1 & 0 & \\dots & 0 \\\\ \n",
    "0 & 1 & \\dots & 0 \\\\ \n",
    "\\vdots & \\vdots & 1 & \\vdots \\\\ \n",
    "0 & 0 & \\dots & 1\\\\ \n",
    "\\end{bmatrix}$ "
   ]
  },
  {
   "cell_type": "code",
   "execution_count": null,
   "id": "0390fa21-e92c-46c7-9391-516735e69f46",
   "metadata": {},
   "outputs": [],
   "source": []
  },
  {
   "cell_type": "markdown",
   "id": "e719976c-4787-4a82-bc30-7ab90fd8bcdc",
   "metadata": {},
   "source": [
    "> vectors\n",
    ">> invariant\n",
    "\n",
    "> vector components\n",
    ">> variant\n",
    "\n",
    "> vector sapce\n",
    ">> $(V,S,+,\\cdot)$  \n",
    ">>> V := Set of vectors  \n",
    ">>> S := Set of Scalars  \n",
    ">>> \\+ := addtion  \n",
    ">>> $\\cdot$ := scaling"
   ]
  },
  {
   "cell_type": "markdown",
   "id": "4f448048-5c1d-45e3-a47d-87a39dc47fe9",
   "metadata": {},
   "source": [
    "> ### $F = \\begin{bmatrix} 2 & \\frac{-1}{2} \\\\ 1 & \\frac{1}{4} \\end{bmatrix}$\n",
    "> ### $B = \\begin{bmatrix} \\frac{1}{4} & \\frac{1}{2} \\\\ -1 & 2 \\end{bmatrix}$\n",
    "> ### $\\vec{v} \n",
    "= 1\\; \\vec{e_1} + 1.5\\; \\vec{e_2} \\\\ \\vec{v} \n",
    "= 1\\; \\tilde{\\vec{e_1}} + 2\\; \\tilde{\\vec{e_2}}$\n",
    "> ### $\\begin{bmatrix}1 \\\\ 1.5 \\end{bmatrix}_{\\vec{e_i}} \\iff \\begin{bmatrix}1 \\\\ 2 \\end{bmatrix}_{\\tilde{\\vec{e_i}}}$"
   ]
  },
  {
   "cell_type": "code",
   "execution_count": 38,
   "id": "2ed187df-8106-43eb-9f91-2f43b95cb23b",
   "metadata": {},
   "outputs": [
    {
     "data": {
      "text/latex": [
       "$\\displaystyle \\left[\\begin{matrix}1.0\\\\2.0\\end{matrix}\\right]$"
      ],
      "text/plain": [
       "Matrix([\n",
       "[1.0],\n",
       "[2.0]])"
      ]
     },
     "execution_count": 38,
     "metadata": {},
     "output_type": "execute_result"
    }
   ],
   "source": [
    "# v0 = <1,1.5>\n",
    "v0 = 1*N.i + 1.5*N.j\n",
    "m = v0.to_matrix(N)\n",
    "m = m.row_del(2)\n",
    "# transformation\n",
    "F*m\n",
    "# Not transforamtion but how to read elements with respect to \\tilde{\\vec{[e}} system\n",
    "B*m"
   ]
  },
  {
   "cell_type": "markdown",
   "id": "5f958bf5-32a9-4335-b80a-56c63e718c77",
   "metadata": {},
   "source": [
    "# Contra Variant\n",
    "> ### $\n",
    "\\vec{v} \n",
    "=  v_1\\vec{e_1} + v_2\\vec{e_2} + ... + v_n\\vec{e_n} \n",
    "= \\sum_{j=1}^n v_j\\vec{e_j}\\\\\n",
    "\\vec{v} \n",
    "= \\tilde{v_1}\\tilde{\\vec{e_1}} + \\tilde{v_2}\\tilde{\\vec{e_2}} + ... + \\tilde{v_n}\\tilde{\\vec{e_n}} \n",
    "= \\sum_{j=1}^n \\tilde{v_j}\\tilde{\\vec{e_j}}\\\\\n",
    "\\vec{v} \n",
    "\\begin{cases} \n",
    "\\sum_{j=1}^{n}v_j\\vec{e_j} \\\\\n",
    "\\sum_{i=1}^{n} \\tilde{v_i}\\tilde{\\vec{e_i}}\n",
    "\\end{cases}\n",
    "$"
   ]
  },
  {
   "cell_type": "markdown",
   "id": "93fa7c62-8bc4-4df2-8958-3dc0bbab53c3",
   "metadata": {},
   "source": [
    "> ### $ \\because\n",
    "\\tilde{\\vec{e_j}} = \\sum_{i=1}^n F_{ij}\\vec{e_i}, \\quad\n",
    "\\vec{e_j} = \\sum_{i=1}^n B_{ij}\\tilde{\\vec{e_i}}\n",
    "$\n",
    ">> ### $\\sum_{j=1}^{n}v_j\\vec{e_j}\n",
    "=\\sum_{j=1}^{n}v_j \\Big(\\sum_{i=1}^n B_{ij}\\tilde{\\vec{e_i}}\\Big)\n",
    "=\\sum_{i=1}^{n}\\Big(\\sum_{j=1}^n B_{ij}\\; v_j\\Big)\\tilde{\\vec{e_i}}\\\\\n",
    "\\quad \\because \\vec{v} = \\sum_{i=1}^{n}\\tilde{v_i}\\tilde{\\vec{e_i}} \\\\\n",
    "\\quad =\\sum_{i=1}^{n}\\Big(\\tilde{v_i}\\Big)\\tilde{\\vec{e_i}} \\\\\n",
    "\\therefore \\tilde{v_j} = \\sum_{j=1}^{n}B_{ij}\\; \\vec{v_j} \\\\\n",
    "$\n",
    "## Components vectors Transformation \n",
    "- ### Contra Varient\n",
    "> ### behave contray to the basis vecotrs\n",
    ">> ### therefore we gona wirte the indices above the V\n",
    ">> ### $\n",
    "\\quad \\therefore \\tilde{v^j} = \\sum_{j=1}^{n}B_{ij}\\; v^j \\\\\n",
    "\\quad \\therefore v^j = \\sum_{j=1}^{n}F_{ij}\\; \\tilde{v^j} \\\\\n",
    "\\vec{v} = \\sum_{i=1}^{n} v^{i}\\; \\vec{e_i} = \\sum_{i=1}^{n}\\tilde{v^i}\\; \\tilde{\\vec{e_i}}\n",
    "$\n",
    "\n",
    "## Basis vectors trasformation\n",
    "> ### $ \n",
    "\\quad \\therefore \\tilde{\\vec{e_j}} = \\sum_{i=1}^n F_{ij}\\vec{e_i} \\\\\n",
    "\\quad \\therefore \\vec{e_j} = \\sum_{i=1}^n B_{ij}\\tilde{\\vec{e_i}}\n",
    "$"
   ]
  },
  {
   "cell_type": "code",
   "execution_count": null,
   "id": "be446639-8f28-4f59-8eb1-98e222fea315",
   "metadata": {},
   "outputs": [],
   "source": []
  },
  {
   "cell_type": "markdown",
   "id": "9aed97bd-970d-4829-89e3-89f961950a21",
   "metadata": {
    "tags": []
   },
   "source": [
    "# CoVectors\n",
    "> - ### covectors are invariant\n",
    "> - ### covector components are not invariant\n",
    "> - ### covectors are functions $\\alpha : V \\to \\mathbb{R}$\n",
    "> - ### covectors don't live in the vector space V\n",
    "> - ### so we can't use basis vectors in V like {$\\vec{e_1}, \\vec{e_2}$} to measure covectors\n",
    "\n",
    "> ### take the basis{$\\vec{e_1}, \\vec{e_2}$} for V.\n",
    "> ### introduce two special covectors $\\epsilon^1, \\epsilon^2: V \\to \\mathbb{R}$\n",
    ">> ### $\\epsilon^1 (\\vec{e_1}) = 1, \\quad \\epsilon^1 (\\vec{e_2}) = 0$\n",
    ">> ### $\\epsilon^2 (\\vec{e_1}) = 1, \\quad \\epsilon^2 (\\vec{e_2}) = 0$\n",
    ">> ### $\\epsilon^i (\\vec{e_j}) = \\delta_{ij} = \n",
    "\\begin{cases} \n",
    "1 & if \\;i = j \\\\\n",
    "0 & if \\;i \\neq j \\\\\n",
    "\\end{cases}\n",
    "$\n",
    ">>> ### $\\epsilon^1 (\\vec{v}) \n",
    "= \\epsilon^1 ( {v}^1 \\vec{e_1} + {v}^2 \\vec{e_2}) \n",
    "= v^1 \\epsilon^1 (\\vec{e_1}) + v^2 \\epsilon^1(\\vec{e_2}) = v^1 $\n",
    ">>> ### $\\epsilon^2 (\\vec{v}) \n",
    "= \\epsilon^2 ( {v}^1 \\vec{e_1} + {v}^2 \\vec{e_2}) \n",
    "= v^1 \\epsilon^2 (\\vec{e_1}) + v^2 \\epsilon^2(\\vec{e_2}) = v^2 $\n",
    ">> ### $\\therefore \\epsilon^i (\\vec{v}) = v^i$\n",
    ">> ### $\\therefore  v^i = \\epsilon^i (\\vec{v}) $"
   ]
  },
  {
   "cell_type": "code",
   "execution_count": 48,
   "id": "a95c5265-36a7-4dfa-85e6-cc2869c24cd2",
   "metadata": {},
   "outputs": [],
   "source": [
    "#"
   ]
  },
  {
   "cell_type": "markdown",
   "id": "99f8e5c6-6842-4da3-b150-b5b2042fd082",
   "metadata": {
    "tags": []
   },
   "source": [
    "> ### $\\alpha (\\vec{v}) \\begin{cases}\n",
    "\\alpha ( {v}^1 \\vec{e_1} + {v}^2 \\vec{e_2}) \\\\\n",
    "v^1 \\alpha(\\vec{e_1}) + {v}^2 \\alpha(\\vec{e_2}) \\\\\n",
    "\\quad \\because v^1 = \\epsilon^1(\\vec{v}), \\quad \\epsilon^2(\\vec{v}) = v^2 \\\\\n",
    "\\epsilon^1(\\vec{v})\\alpha(\\vec{e_1}) + \\epsilon^2(\\vec{v})\\alpha(\\vec{e_1}) \\\\\n",
    "\\text{Define: } \\alpha(\\vec{e_1}) = \\alpha_1, \\quad \\alpha(\\vec{e_2}) = \\alpha_2 \\\\\n",
    "\\epsilon^1 \\alpha_1(\\vec{v}) + \\epsilon^2\\alpha_1 (\\vec{v})\\\\\n",
    "(\\epsilon^1 \\alpha_1 + \\epsilon^2\\alpha_1) (\\vec{v})\\\\\n",
    "\\quad \\because \\text{cancel } \\vec{v}\n",
    "\\end{cases}\n",
    "$\n",
    "> ### $\\alpha = \\alpha_1 \\epsilon^1 + \\alpha_2 \\epsilon^2$\n",
    ">> ### $\\epsilon$ is called Dual Basis(양쪽에서 Basis)\n",
    ">>> ### $\\because \\epsilon$ Covector form a basis for the set of all Covectors \n",
    ">> ### $\\alpha$ is General Covector"
   ]
  },
  {
   "cell_type": "code",
   "execution_count": 49,
   "id": "fb77219b-efeb-4066-96f6-7bb068ce9899",
   "metadata": {},
   "outputs": [],
   "source": [
    "#"
   ]
  },
  {
   "cell_type": "markdown",
   "id": "cfc2873b-f23b-4f33-baac-fa0ea7d2b846",
   "metadata": {},
   "source": [
    "> ### A covector(row vector) is \n",
    ">>  ### Linearity\n",
    ">>> ### A fucntion that takes a vector and produces a scalar/number \n",
    "$ \\alpha: V \\to \\mathbb{R}$\n",
    ">>> ### We can add inputs or add output and get the same answer\n",
    "$ \\alpha(\\vec{v} + \\vec{w}) = \\alpha(\\vec{v}) + \\alpha \\vec{w}$\n",
    ">>> ### We can scale inputs or scale outputs and get the same answer\n",
    "$ \\alpha(n \\vec{v} + m \\vec{w}) = n \\alpha(\\vec{v}) + m \\alpha(\\vec{w})$\n"
   ]
  },
  {
   "cell_type": "code",
   "execution_count": 50,
   "id": "fbb32899-64bb-4e67-a1e9-ee8031e28c15",
   "metadata": {},
   "outputs": [],
   "source": [
    "#"
   ]
  },
  {
   "cell_type": "markdown",
   "id": "dc6e7de1-2929-4565-90c2-3c5c7033cc4f",
   "metadata": {},
   "source": [
    "---\n",
    "# Vector Space\n",
    "> ### $(V,S, +,\\cdot)$\n",
    "# Dual Vector Space\n",
    "> ### $(V^*, S, + , \\cdot)$\n",
    ">> ### Elements of $V^*$ ard covectors, $\\alpha: V \\to \\mathbb{R}$\n",
    ">>> $(n \\cdot \\alpha)(\\vec{v}) = n\\alpha(\\vec v) \\\\\n",
    "(\\beta + \\gamma)(\\vec v) = \\beta(\\vec v) + \\gamma(\\vec v)\\\\\n",
    "\\alpha(\\vec v + \\vec w) = \\alpha(\\vec v) + \\alpha(\\vec w)\\\\\n",
    "\\alpha(n\\vec v) = n \\alpha(\\vec v)\n",
    "$\n"
   ]
  },
  {
   "cell_type": "code",
   "execution_count": 184,
   "id": "cdb828cc-ed52-4c0b-b8ca-8511f22e02b6",
   "metadata": {},
   "outputs": [
    {
     "data": {
      "text/latex": [
       "$\\displaystyle CoordSys3D\\left(, \\left( \\left[\\begin{matrix}1 & 0 & 0\\\\0 & 1 & 0\\\\0 & 0 & 1\\end{matrix}\\right], \\  \\mathbf{\\hat{0}}\\right)\\right)$"
      ],
      "text/plain": []
     },
     "execution_count": 184,
     "metadata": {},
     "output_type": "execute_result"
    },
    {
     "data": {
      "image/png": "[encoded data removed]",
      "text/plain": [
       "<Figure size 720x720 with 1 Axes>"
      ]
     },
     "metadata": {
      "needs_background": "light"
     },
     "output_type": "display_data"
    }
   ],
   "source": [
    "import matplotlib.pyplot as plt\n",
    "import numpy as np\n",
    "x = np.linspace(-10,10,100)\n",
    "fig = plt.figure(figsize=(10,10))\n",
    "ax = fig.add_subplot()\n",
    "ax.set_aspect('equal')\n",
    "ax.set_xlim(xmin=-10,xmax=10)\n",
    "ax.set_ylim(ymin=-10,ymax=10)\n",
    "ax.set_xticks(np.arange(-10,10,1))\n",
    "ax.set_yticks(np.arange(-10,10,1))\n",
    "ax.spines['left'].set_position('center')\n",
    "ax.spines['bottom'].set_position('center')\n",
    "ax.grid()\n",
    "\n",
    "e1 = 2*N.i + \n",
    "#ax.axhline(0)\n",
    "#ax.axvline(0)\n"
   ]
  },
  {
   "cell_type": "code",
   "execution_count": null,
   "id": "b7a81316-16d2-45f8-a550-d27442e92805",
   "metadata": {},
   "outputs": [],
   "source": []
  },
  {
   "cell_type": "code",
   "execution_count": null,
   "id": "1c01edd9-e431-4994-9653-14e1b284bae6",
   "metadata": {},
   "outputs": [],
   "source": []
  }
 ],
 "metadata": {
  "kernelspec": {
   "display_name": "Python 3 (ipykernel)",
   "language": "python",
   "name": "python3"
  },
  "language_info": {
   "codemirror_mode": {
    "name": "ipython",
    "version": 3
   },
   "file_extension": ".py",
   "mimetype": "text/x-python",
   "name": "python",
   "nbconvert_exporter": "python",
   "pygments_lexer": "ipython3",
   "version": "3.9.7"
  }
 },
 "nbformat": 4,
 "nbformat_minor": 5
}
