{
 "cells": [
  {
   "cell_type": "code",
   "execution_count": 8,
   "id": "14d789d6-9c08-4f2c-af6a-b2b3a97fecc6",
   "metadata": {},
   "outputs": [],
   "source": [
    "# matrix product \n",
    "##  firstly inner product (same element * same eleemnt)\n",
    "import sympy as sm"
   ]
  },
  {
   "cell_type": "markdown",
   "id": "a20fe435-8bb8-470f-bedd-5f88debc83d3",
   "metadata": {},
   "source": [
    "# Tensors\n",
    "> ## a collection of vectors and covectors combined together using the tensor product\n",
    ">> ### Tensors as partial derivatives and gradients that transform with the Jacobian Matrix"
   ]
  },
  {
   "cell_type": "code",
   "execution_count": 10,
   "id": "98ced01d-66a0-4899-94ba-f3f3717a53f6",
   "metadata": {},
   "outputs": [],
   "source": [
    "import sympy.vector\n",
    "N = sm.vector.CoordSys3D('')"
   ]
  },
  {
   "cell_type": "markdown",
   "id": "907f1345-6ac2-4cad-b263-92be84d9246b",
   "metadata": {},
   "source": [
    "## [forward backward](https://www.youtube.com/watch?v=sdCmW5N1LW4&list=PLJHszsWbB6hrkmmq57lX8BV-o-YIOFsiG&index=3)\n",
    "> ### Old basis: {$\\vec{e_1}, \\vec{e_2}$},  New basis: {$\\tilde{\\vec{e_1}},\\tilde{\\vec{e_2}}$}\n",
    ">> #### $\\tilde{\\vec{e_1}} = 2\\vec{e_1} + 1\\vec{e_2} \\\\\n",
    "\\tilde{\\vec{e_2}} = \\frac{-1}{2}\\vec{e_1} + \\frac{1}{4}\\vec{e_2} \\\\\n",
    "F = \\begin{bmatrix} 2 & \\frac{-1}{2} \\\\ 1 & \\frac{1}{4}\n",
    "\\end{bmatrix}, \\because \\text{ firstly inner product}\n",
    "$"
   ]
  },
  {
   "cell_type": "code",
   "execution_count": 12,
   "id": "f17995a0-c4be-42bd-bea4-18e6deadda22",
   "metadata": {},
   "outputs": [
    {
     "data": {
      "text/latex": [
       "$\\displaystyle \\left[\\begin{matrix}2 & - \\frac{1}{2}\\\\1 & \\frac{1}{4}\\end{matrix}\\right]$"
      ],
      "text/plain": [
       "Matrix([\n",
       "[2, -1/2],\n",
       "[1,  1/4]])"
      ]
     },
     "execution_count": 12,
     "metadata": {},
     "output_type": "execute_result"
    }
   ],
   "source": [
    "F = sm.Matrix([[2,sm.Rational(-1,2)],[1,sm.Rational(1,4)]])\n",
    "F"
   ]
  },
  {
   "cell_type": "markdown",
   "id": "d4993581-daf4-407c-ba41-0f999d145165",
   "metadata": {},
   "source": [
    ">> #### $\\vec{e_1} = \n",
    "\\frac{1}{4}\\tilde{\\vec{e_1}} + -1\\tilde{\\vec{e_2}} \\\\\n",
    "\\vec{e_2} = \\frac{1}{2}\\tilde{\\vec{e_1}} + 2\\tilde{\\vec{e_2}} \\\\\n",
    "B = \\begin{bmatrix} \\frac{1}{4} & \\frac{1}{2} \\\\ -1 & 2\n",
    "\\end{bmatrix}$\n",
    "> ## $\n",
    "FB = \\begin{bmatrix} 2 & \\frac{-1}{2} \\\\ 1 & \\frac{1}{4} \n",
    "\\end{bmatrix}\n",
    "\\begin{bmatrix} \\frac{1}{4} & \\frac{1}{2} \\\\ -1 & 2\n",
    "\\end{bmatrix}\n",
    "= \n",
    "\\begin{bmatrix} 1 & 0 \\\\ 0 & 1\n",
    "\\end{bmatrix} \\\\\n",
    "B = F^{-1}\n",
    "$ "
   ]
  },
  {
   "cell_type": "code",
   "execution_count": 17,
   "id": "72af73cd-6dd9-4aae-bb41-6002838c3faa",
   "metadata": {},
   "outputs": [
    {
     "data": {
      "text/plain": [
       "True"
      ]
     },
     "execution_count": 17,
     "metadata": {},
     "output_type": "execute_result"
    }
   ],
   "source": [
    "B = sm.Matrix([[sm.Rational(1,4),sm.Rational(1,2)],[-1,2]])\n",
    "B.inv() == F\n",
    "F.inv() == B"
   ]
  },
  {
   "cell_type": "code",
   "execution_count": 7,
   "id": "079bb130-78e3-48de-80eb-a2e3417b9465",
   "metadata": {},
   "outputs": [
    {
     "data": {
      "text/plain": [
       "True"
      ]
     },
     "execution_count": 7,
     "metadata": {},
     "output_type": "execute_result"
    }
   ],
   "source": [
    "import sympy as sm\n",
    "F = sm.Matrix([[2,1],[sm.Rational(-1,2),sm.Rational(1,4)]])\n",
    "B = sm.Matrix([[sm.Rational(1,4), -1], [sm.Rational(1,2),2]])\n",
    "F.inv() == B"
   ]
  },
  {
   "cell_type": "markdown",
   "id": "81dab016-eca3-48f7-b17d-d0f5d9b73cd6",
   "metadata": {},
   "source": [
    "> ### $\n",
    "\\tilde{\\vec{e_1}} =  F_{11}\\; \\vec{e_1} + F_{21}\\; \\vec{e_2} + \\dots + F_{n1}\\;\\vec{e_n}\\\\\n",
    "\\tilde{\\vec{e_2}} =  F_{12}\\; \\vec{e_1} + F_{22}\\; \\vec{e_2} + \\dots + F_{n2}\\;\\vec{e_n}\\\\\n",
    "\\tilde{\\vec{e_n}} =  F_{1n}\\; \\vec{e_1} + F_{2n}\\; \\vec{e_2} + \\dots + F_{nn}\\;\\vec{e_n}\\\\\n",
    "F = \\begin{bmatrix} \n",
    "F_{11} & F_{12} & F_{13} & \\dots & F_{1n} \\\\ \n",
    "F_{21} & F_{22} & F_{23} & \\dots & F_{2n} \\\\ \n",
    "\\vdots & \\vdots & \\ddots & \\vdots \\\\ \n",
    "F_{n1} & F_{n2} & F_{n3} & \\dots & F_{nn} \\\\ \n",
    "\\end{bmatrix}$ \n",
    ">> ### $$ \\tilde{\\vec{e_i}} = \\sum_{j=1}^{n}F_{ji}\\;\\vec{e_{j}}\n",
    "$$"
   ]
  },
  {
   "cell_type": "code",
   "execution_count": 71,
   "id": "76a6f9e4-9dad-4d52-aaae-53d1300e49ee",
   "metadata": {},
   "outputs": [
    {
     "data": {
      "text/latex": [
       "$\\displaystyle \\sum_{j=1}^{n} b_{j, 3} f_{3, j}$"
      ],
      "text/plain": [
       "Sum(b[j, 3]*f[3, j], (j, 1, n))"
      ]
     },
     "execution_count": 71,
     "metadata": {},
     "output_type": "execute_result"
    }
   ],
   "source": [
    "i,j,k,n = sm.symbols('i j k n', postive=True)\n",
    "\n",
    "f = sm.MatrixSymbol('f',n,n)\n",
    "b = sm.MatrixSymbol('b',n,n)\n",
    "sm.Sum(f[i,j]*b[j,k],(j,1,n))\n",
    "sm.Sum(f[k,j]*b[j,i],(j,1,n)).subs({i:3,k:3})"
   ]
  },
  {
   "cell_type": "markdown",
   "id": "cf1b3327-e499-45eb-b150-cca706f6e9e0",
   "metadata": {},
   "source": [
    "> ### $\n",
    "\\vec{e_1} =  B_{11}\\;\\tilde{ \\vec{e_1}} + B_{21}\\;\\tilde{ \\vec{e_2}} + \\dots + B_{n1}\\;\\tilde{\\vec{e_n}}\\\\\n",
    "\\vec{e_2} =  B_{12}\\;\\tilde{ \\vec{e_1}} + B_{22}\\;\\tilde{ \\vec{e_2}} + \\dots + B_{n2}\\;\\tilde{\\vec{e_n}}\\\\\n",
    "\\vec{e_n} =  B_{1n}\\;\\tilde{ \\vec{e_1}} + B_{2n}\\;\\tilde{ \\vec{e_2}} + \\dots + B_{nn}\\;\\tilde{\\vec{e_n}}\\\\\n",
    "B = \\begin{bmatrix} \n",
    "B_{11} & B_{12} & \\dots & B_{1n} \\\\ \n",
    "B_{21} & B_{22} & \\dots & B_{2n} \\\\ \n",
    "\\vdots & \\vdots & \\ddots & \\vdots \\\\ \n",
    "B_{n1} & B_{n2} & \\dots & B_{nn} \\\\ \n",
    "\\end{bmatrix}$ \n",
    ">> ### $$ \\vec{e_i} = \\sum_{j=1}^{n}B_{ji}\\;\\tilde{\\vec{e_{j}}}\n",
    "$$"
   ]
  },
  {
   "cell_type": "markdown",
   "id": "3ed14162-303a-4e5e-80d5-901d11b1e556",
   "metadata": {},
   "source": [
    "## $$ \n",
    "\\vec{e_i} = \\sum_{j=1}^{n} B_{ji}\\; \\tilde{\\vec{e_j}} \\quad\n",
    "\\because \\tilde{\\vec{e_j}} = \\sum_{k=1}^{n}F_{kj}\\; \\vec{e_k}, \\\\\n",
    "\\vec{e_i} = \\sum_{j} B_{ji}\\; \\sum_{k} F_{kj}\\; \\vec{e_{k}} \\\\\n",
    "\\vec{e_i} = \\sum_{k} \\Big(\\sum_{j} B_{ji}\\; F_{kj}\\Big)\\; \\vec{e_{k}} \\\\\n",
    "\\quad \\because \\sum_{j}B_{ji}F_{jk} = \n",
    "\\begin{cases} \n",
    "1 & \\text{if } i = k \\\\\n",
    "0 & \\text{if } i \\neq k \\\\\n",
    "\\therefore \\delta_{ik} =: \\text{Kronecker Delta}\n",
    "\\end{cases}\n",
    "$$ \n",
    "$\n",
    "F = \\begin{bmatrix} \n",
    "F_{11} & F_{12} & \\dots & F_{1n} \\\\ \n",
    "F_{21} & F_{22} & \\dots & F_{2n} \\\\ \n",
    "\\vdots & \\vdots & \\ddots & \\vdots \\\\ \n",
    "F_{n1} & F_{n2} & \\dots & F_{nn} \\\\ \n",
    "\\end{bmatrix} \\;\n",
    "B = \\begin{bmatrix} \n",
    "B_{11} & B_{12} & \\dots & B_{1n} \\\\ \n",
    "B_{21} & B_{22} & \\dots & B_{2n} \\\\ \n",
    "\\vdots & \\vdots & \\ddots & \\vdots \\\\ \n",
    "B_{n1} & B_{n2} & \\dots & B_{nn} \\\\ \n",
    "\\end{bmatrix}\\;\n",
    "I(FB) = \\begin{bmatrix} \n",
    "1 & 0 & \\dots & 0 \\\\ \n",
    "0 & 1 & \\dots & 0 \\\\ \n",
    "\\vdots & \\vdots & 1 & \\vdots \\\\ \n",
    "0 & 0 & \\dots & 1\\\\ \n",
    "\\end{bmatrix}$ "
   ]
  },
  {
   "cell_type": "code",
   "execution_count": null,
   "id": "0390fa21-e92c-46c7-9391-516735e69f46",
   "metadata": {},
   "outputs": [],
   "source": []
  },
  {
   "cell_type": "markdown",
   "id": "e719976c-4787-4a82-bc30-7ab90fd8bcdc",
   "metadata": {},
   "source": [
    "> vectors\n",
    ">> invariant\n",
    "\n",
    "> vector components\n",
    ">> variant\n",
    "\n",
    "> vector sapce\n",
    ">> $(V,S,+,\\cdot)$  \n",
    ">>> V := Set of vectors  \n",
    ">>> S := Set of Scalars  \n",
    ">>> \\+ := addtion  \n",
    ">>> $\\cdot$ := scaling"
   ]
  },
  {
   "cell_type": "markdown",
   "id": "4f448048-5c1d-45e3-a47d-87a39dc47fe9",
   "metadata": {},
   "source": [
    "> ### $F = \\begin{bmatrix} 2 & \\frac{-1}{2} \\\\ 1 & \\frac{1}{4} \\end{bmatrix}$\n",
    "> ### $B = \\begin{bmatrix} \\frac{1}{4} & \\frac{1}{2} \\\\ -1 & 2 \\end{bmatrix}$\n",
    "> ### $\\vec{v} \n",
    "= 1\\vec{e_1} + 1.5 \\vec{e_2} \\\\ \\vec{v} \n",
    "= 1\\tilde{\\vec{e_1}} + 2\\tilde{\\vec{e_2}}$\n",
    "> ### $\\begin{bmatrix}1 \\\\ 1.5 \\end{bmatrix}_{\\vec{e_i}} \\iff \\begin{bmatrix}1 \\\\ 2 \\end{bmatrix}_{\\tilde{\\vec{e_i}}}$"
   ]
  },
  {
   "cell_type": "code",
   "execution_count": 133,
   "id": "2ed187df-8106-43eb-9f91-2f43b95cb23b",
   "metadata": {},
   "outputs": [
    {
     "data": {
      "text/latex": [
       "$\\displaystyle \\left[\\begin{matrix}1\\\\\\frac{3}{2}\\end{matrix}\\right]$"
      ],
      "text/plain": [
       "Matrix([\n",
       "[  1],\n",
       "[3/2]])"
      ]
     },
     "execution_count": 133,
     "metadata": {},
     "output_type": "execute_result"
    }
   ],
   "source": [
    "# v0 = <1,1.5>\n",
    "v0 = 1*N.i + 1.5*N.j\n",
    "m = v.to_matrix(N)\n",
    "m = m.row_del(2)\n",
    "B*m\n",
    "\n",
    "# v1 = <1,2>\n",
    "m1 = sm.Matrix([1,2])\n",
    "F*m1"
   ]
  },
  {
   "cell_type": "markdown",
   "id": "5f958bf5-32a9-4335-b80a-56c63e718c77",
   "metadata": {},
   "source": [
    "# Contra Variant\n",
    "> ### $\n",
    "\\vec{v} \n",
    "=  v_1\\vec{e_1} + v_2\\vec{e_2} + ... + v_n\\vec{e_n} \n",
    "= \\sum_{j=1}^n v_j\\vec{e_j}\\\\\n",
    "\\vec{v} \n",
    "= \\tilde{v_1}\\tilde{\\vec{e_1}} + \\tilde{v_2}\\tilde{\\vec{e_2}} + ... + \\tilde{v_n}\\tilde{\\vec{e_n}} \n",
    "= \\sum_{j=1}^n \\tilde{v_j}\\tilde{\\vec{e_j}}\\\\\n",
    "\\vec{v} \n",
    "\\begin{cases} \n",
    "\\sum_{j=1}^{n}v_j\\vec{e_j} \\\\\n",
    "\\sum_{i=1}^{n} \\tilde{v_i}\\tilde{\\vec{e_i}}\n",
    "\\end{cases}\n",
    "$"
   ]
  },
  {
   "cell_type": "markdown",
   "id": "93fa7c62-8bc4-4df2-8958-3dc0bbab53c3",
   "metadata": {},
   "source": [
    "> ### $\n",
    "\\tilde{\\vec{e_j}} = \\sum_{i=1}^n F_{ij}\\vec{e_i}, \\quad\n",
    "\\vec{e_j} = \\sum_{i=1}^n B_{ij}\\tilde{\\vec{e_i}}\n",
    "$"
   ]
  },
  {
   "cell_type": "code",
   "execution_count": null,
   "id": "4025cc44-804a-42f5-a832-3ffc05f00141",
   "metadata": {},
   "outputs": [],
   "source": []
  }
 ],
 "metadata": {
  "kernelspec": {
   "display_name": "Python 3 (ipykernel)",
   "language": "python",
   "name": "python3"
  },
  "language_info": {
   "codemirror_mode": {
    "name": "ipython",
    "version": 3
   },
   "file_extension": ".py",
   "mimetype": "text/x-python",
   "name": "python",
   "nbconvert_exporter": "python",
   "pygments_lexer": "ipython3",
   "version": "3.9.7"
  }
 },
 "nbformat": 4,
 "nbformat_minor": 5
}
