{
 "cells": [
  {
   "cell_type": "markdown",
   "id": "1db1ae86-d1b3-440c-9b6c-5e4fbd3650c9",
   "metadata": {
    "tags": []
   },
   "source": [
    "# Cordinate basis\n",
    "> ### basis를 행열 F로 변환 시키면 본래 벡터는 그대로 인데 벡터의 성분만 달라진다.\n",
    "> ### Old basis: {$\\vec{e_1}, \\vec{e_2}$},  New basis: {$\\tilde{\\vec{e_1}},\\tilde{\\vec{e_2}}$}\n",
    ">> #### $\\tilde{\\vec{e_1}} = 2\\vec{e_1} + 1\\vec{e_2} \\\\\n",
    "\\tilde{\\vec{e_2}} = \\frac{-1}{2}\\vec{e_1} + \\frac{1}{4}\\vec{e_2} \\\\\n",
    "F = \\begin{bmatrix} 2 & \\frac{-1}{2} \\\\ 1 & \\frac{1}{4}\n",
    "\\end{bmatrix}, \\because \\text{ firstly inner product}\n",
    "$\n",
    ">> #### 행열 F는 기본좌표계의 elements를 변환 시킨후 변환된 기본 좌표값을 넘겨준다.\n",
    ">> #### 기본좌표계에서 vector v의 elements가 변환된 좌표를 기본축으로 했을때 어떻게 읽혀지는가 하고는 다른 것이다.\n",
    "\n"
   ]
  },
  {
   "cell_type": "code",
   "execution_count": 1,
   "id": "14d789d6-9c08-4f2c-af6a-b2b3a97fecc6",
   "metadata": {},
   "outputs": [],
   "source": [
    "# matrix product \n",
    "##  firstly inner product (same element * same eleemnt)\n"
   ]
  },
  {
   "cell_type": "markdown",
   "id": "a20fe435-8bb8-470f-bedd-5f88debc83d3",
   "metadata": {
    "tags": []
   },
   "source": [
    "# Tensors\n",
    "> ## in an m-dimentional space, \n",
    ">> ### a tensor of rank n is\n",
    ">>> ### a mathmatical object\n",
    ">>>> ### that has n indices, $m^n$ components, and\n",
    ">>>>> ### obeys certain transformation rules.\n",
    "> ### transformation rules:\n",
    ">> ### A tensor is an object that transformation like a tensor.\n",
    ">> ### A tensor is an object that is invariant under a change of coordinate systems, with components that change according to a special set of mathmatical formulae.\n",
    "> ### cordinate system change Intuition:\n",
    ">> ### To specify component of rank-n tensor,\n",
    ">> ### need:\n",
    ">>> ### magnitude of componet\n",
    ">>> ### n basis vecotors\n",
    ">> ### Suppose N is a coordinate transformation operator applied to a tensor\n",
    ">>> ### magnitude of tensor components will transform according to L,\n",
    ">>> ### basis vectors will transform according to $L^{-1}$.\n",
    ">>>> ### Effects of L and $L^{-1}$ cancle $\\to$ same overall tensor as under old coordinates(but writtern differently).\n",
    "\n",
    "> ## a collection of vectors and covectors combined together using the tensor product\n",
    ">> ### Tensors as partial derivatives and gradients that transform with the Jacobian Matrix"
   ]
  },
  {
   "cell_type": "code",
   "execution_count": 2,
   "id": "98ced01d-66a0-4899-94ba-f3f3717a53f6",
   "metadata": {},
   "outputs": [],
   "source": [
    "#M = N.create_new('M',transformation=lambda x,y,z:(2*x+y,-1/2*x + 1/4*y,z))"
   ]
  },
  {
   "cell_type": "markdown",
   "id": "53456861-f37f-4ab2-92dd-e49d75b73fcb",
   "metadata": {},
   "source": [
    "## Matices\n",
    "> ### representations of rank-2 tensors. Just arrays of numbers.\n",
    "## Tensors\n",
    "> ### required detailed specification and are invariant under change of coordinate system."
   ]
  },
  {
   "cell_type": "markdown",
   "id": "07e0923d-a79d-4341-8085-41cbc5e62ae0",
   "metadata": {},
   "source": []
  },
  {
   "cell_type": "markdown",
   "id": "907f1345-6ac2-4cad-b263-92be84d9246b",
   "metadata": {},
   "source": [
    "## [forward backward](https://www.youtube.com/watch?v=uPbBDToXjBw&list=PLJHszsWbB6hrkmmq57lX8BV-o-YIOFsiG&index=5)\n",
    "> ### Old basis: {$\\vec{e_1}, \\vec{e_2}$},  New basis: {$\\tilde{\\vec{e_1}},\\tilde{\\vec{e_2}}$}\n",
    ">> #### $\\tilde{\\vec{e_1}} = 2\\vec{e_1} + 1\\vec{e_2} \\\\\n",
    "\\tilde{\\vec{e_2}} = \\frac{-1}{2}\\vec{e_1} + \\frac{1}{4}\\vec{e_2} \\\\\n",
    "F = \\begin{bmatrix} 2 & \\frac{-1}{2} \\\\ 1 & \\frac{1}{4}\n",
    "\\end{bmatrix}, \\because \\text{ firstly inner product}\n",
    "$"
   ]
  },
  {
   "cell_type": "code",
   "execution_count": null,
   "id": "ff8a7fb3-4934-4d8e-9301-35a726eaaf20",
   "metadata": {},
   "outputs": [],
   "source": []
  },
  {
   "cell_type": "markdown",
   "id": "6575a19e-1d88-4633-a860-f5f26c35bcaf",
   "metadata": {},
   "source": [
    "# $ \\vec{v}  \\text{ wrt B } = \\vec{w} \\text{ wrt T}$\n",
    "> #### $\\left \\{ \\begin{aligned} \n",
    "\\vec{v} \\text{ wrt B, base_vectors(basis)} & \\iff  B_1 + B_2 + B_3 + ...  =  \\sum_{i=1}^{n}B_i \\\\\n",
    "\\vec{v} \\text{ wrt B, base_scalars(components)} & \\iff (v^1,  v^2,  v^3 , ...) \\iff v^i\n",
    "\\end{aligned} \\right .$\n",
    "> #### $\\left \\{ \\begin{align} \n",
    "\\vec{w} \\text{ wrt T, base_vectors(basis)} & \\iff  T_1 + T_2 + T_3 + ...  = \\sum_{i=1}^{n}T_i \\\\\n",
    "T_i = \\sum_{i=1}^{n}Tm * B_i \\\\\n",
    "\\vec{w} \\text{ wrt T, base_scalars(components)} & \\iff (w^1,  w^2,  w^3 , ...)  \\iff w^i\n",
    "\\end{align} \\right .$"
   ]
  },
  {
   "cell_type": "code",
   "execution_count": 43,
   "id": "2b970bc0-de54-4686-983d-69128f1674ac",
   "metadata": {},
   "outputs": [
    {
     "data": {
      "text/plain": [
       "<matplotlib.quiver.Quiver at 0x7fd0be8b3340>"
      ]
     },
     "execution_count": 43,
     "metadata": {},
     "output_type": "execute_result"
    },
    {
     "data": {
      "application/vnd.jupyter.widget-view+json": {
       "model_id": "385df071b43141939055ecf8581dcdb6",
       "version_major": 2,
       "version_minor": 0
      },
      "text/html": [
       "\n",
       "            <div style=\"display: inline-block;\">\n",
       "                <div class=\"jupyter-widgets widget-label\" style=\"text-align: center;\">\n",
       "                    Figure\n",
       "                </div>\n",
       "                <img src='data:image/png;base64,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' width=400.0/>\n",
       "            </div>\n",
       "        "
      ],
      "text/plain": [
       "Canvas(toolbar=Toolbar(toolitems=[('Home', 'Reset original view', 'home', 'home'), ('Back', 'Back to previous …"
      ]
     },
     "metadata": {},
     "output_type": "display_data"
    }
   ],
   "source": [
    "#####################\n",
    "import matplotlib.pyplot as plt\n",
    "%matplotlib widget\n",
    "import numpy as np\n",
    "\n",
    "\n",
    "fig = plt.figure(figsize=(4,4))\n",
    "#ax = fig.add_subplot(projection='3d')\n",
    "#\n",
    "#ax.set_xlim(-2,3)\n",
    "#ax.set_ylim(-2,3)\n",
    "#ax.set_zlim(-2,3)\n",
    "#ax.set_yticks(np.arange(-3,3,1/4))\n",
    "#ax.set_xticks(np.arange(-3,3,1/4))\n",
    "#ax.set_xticklabels(ax.get_xticks(),rotation=90)\n",
    "#ax.set_yticklabels(ax.get_yticks(),rotation=90)\n",
    "#ax.grid()\n",
    "##ax.quiver(0,0,2,1,units='xy',color='red',scale=1)\n",
    "#ax.quiver3D(0,0,0,2,1,0,arrow_length_ratio=0.1,color='red')\n",
    "#ax.quiver3D(0,0,0,-0.5,1/4,0,color='red')\n",
    "#ax.quiver3D(0,0,0,1,0,0)\n",
    "#ax.quiver3D(0,0,0,0,1,0)\n",
    "#ax.quiver3D(0,0,0,1,1.5,0,color='green')\n",
    "ax = fig.add_subplot()\n",
    "ax.set_xlim(-0.75,2.25)\n",
    "ax.set_ylim(-0.75,2.25)\n",
    "ax.set_xticks(np.arange(-0.75,2.25,1/4))\n",
    "ax.set_yticks(np.arange(-0.75,2.25,1/4))\n",
    "ax.set_xticklabels(ax.get_xticks(),rotation=90)\n",
    "ax.grid()\n",
    "ax.quiver(0,0,1,0,units='xy',scale=1,color='k')\n",
    "ax.quiver(0,0,0,1,units='xy',scale=1,color='k')\n",
    "ax.quiver(0,0,2,1,units='xy',scale=1,color='r')\n",
    "ax.quiver(0,0,-1/2,1/4,units='xy',scale=1,color='r')\n",
    "ax.quiver(0,0,1,3/2,units='xy',scale=1,color='g')\n"
   ]
  },
  {
   "cell_type": "code",
   "execution_count": 29,
   "id": "267f9ba8-42ba-45f4-8d12-dcecfb30dc97",
   "metadata": {},
   "outputs": [],
   "source": [
    "#### \\vec{v} base_vectors(basis) -> B_1 + B_2 + B_3.. = \\sum_{i=1}^{n}B_i\n",
    "#### \\vec{v} base_scalars(components) -> B^1 + B^2 + B^3.. = \\sum_{i=1}^{n}B^i\n",
    "\n",
    "#### New.base_vector \\vec{e_n}(N.i, N.j, N.k)\n",
    "#--- wrt = with respect to ---  ##### represent New basis wrt Basis #####\n",
    "### (1,0) wrt New -> (?,?) wrt Basis\n",
    "# N.i = x*B.i + y*B.j + z*B.k\n",
    "# N.j = x*B.i + y*B.j + z*B.k\n",
    "# N.k = x*B.i + y*B.j + z*B.k\n",
    "## N.i = ( 2,    1,  0)\n",
    "## N.j = (-1/2, 1/4, 0)\n",
    "## N.k = ( 0,    0,  1)\n",
    "# v = B(1, 1.5, 0) = B.i + 1.5*B.j \n",
    "# v = N(1, 2,   0) = N.i + 2*N.j\n",
    "##############################\n",
    "import sympy as sm\n",
    "import sympy.vector\n",
    "B = sm.vector.CoordSys3D('B')\n",
    "T = sm.vector.CoordSys3D('T')\n",
    "# B frame = Coordinate system\n",
    "Bs = B.x*B.i + B.y*B.j + B.z*B.k\n",
    "Ts = T.x*T.i + T.y*T.j + T.z*T.k\n",
    "\n",
    "T.i = Bs.subs({B.x:2,B.y:1,B.z:0}) # components expression :(2,1,0) wrt Ti\n",
    "T.i = 2*B.i + 1*B.j + 0*B.k # vector expression\n",
    "# v_1\n",
    "T.j = Bs.subs({B.x:-1/2,B.y:1/4,B.z:0})\n",
    "T.j = (-1/2)*B.i + 1/4*B.j + 0*B.k\n",
    "# v_2\n",
    "T.k = Bs.subs({B.x:0,B.y:0,B.z:1})\n",
    "T.k = 1*B.k"
   ]
  },
  {
   "cell_type": "markdown",
   "id": "d47f263f-b12b-4b99-b9d1-ef8ab6946bbd",
   "metadata": {},
   "source": [
    "# Matrix\n",
    "> ### $\n",
    "\\begin{bmatrix}\n",
    "2 & 1 & 0 \\\\\n",
    "-1/2 & 1/4 & 0 \\\\\n",
    "0 & 0 & 1 \\\\\n",
    "\\end{bmatrix}\n",
    "\\begin{bmatrix}\n",
    "B.x \\\\\n",
    "B.y \\\\\n",
    "B.z \\\\\n",
    "\\end{bmatrix} = \n",
    "\\begin{bmatrix} \n",
    "T.i \\\\\n",
    "T.j \\\\\n",
    "T.k \\\\\n",
    "\\end{bmatrix} \\Rightarrow\n",
    "\\begin{bmatrix}\n",
    "2B.x + 1B.y + 0B.z \\\\\n",
    "-1/2B.x + 1/4B.y + 0B.k \\\\\n",
    "0B.x + 0B.j + 1B.k \\\\\n",
    "\\end{bmatrix} =\n",
    "\\begin{bmatrix} \n",
    "T.i \\\\\n",
    "T.j \\\\\n",
    "T.k \\\\\n",
    "\\end{bmatrix} \\Rightarrow\n",
    "\\begin{bmatrix}\n",
    "2B.x & 1B.y & 0B.z \\\\\n",
    "-1/2B.x & 1/4B.y & 0B.k \\\\\n",
    "0B.x & 0B.j & 1B.k \\\\\n",
    "\\end{bmatrix} \n",
    "\\begin{bmatrix} \n",
    "T.i \\\\\n",
    "T.j \\\\\n",
    "T.k \\\\\n",
    "\\end{bmatrix} \\Rightarrow\n",
    "\\begin{bmatrix}\n",
    "T.x(2) + T.x(1) + T.x(0) \\\\\n",
    "T.y(-1/2) +  T.y(1/4) + T.y(0) \\\\\n",
    "T.z(0) + T.z(0) + T.z(1) \\\\\n",
    "\\end{bmatrix} \\Leftarrow\n",
    "\\begin{pmatrix} \n",
    "?\\\\\n",
    "? \\\\\n",
    "? \\\\\n",
    "\\end{pmatrix}\n",
    "\\begin{pmatrix} \n",
    "T.x \\\\\n",
    "T.y \\\\\n",
    "T.z \\\\\n",
    "\\end{pmatrix}\n",
    "$"
   ]
  },
  {
   "cell_type": "code",
   "execution_count": 29,
   "id": "ba5ee063-637f-4cf5-9c9b-961aa0f47c4e",
   "metadata": {},
   "outputs": [
    {
     "data": {
      "text/latex": [
       "$\\displaystyle \\left[\\begin{matrix}2 & 1 & 0\\\\-0.5 & 0.25 & 0\\\\0 & 0 & 1\\end{matrix}\\right]$"
      ],
      "text/plain": [
       "Matrix([\n",
       "[   2,    1, 0],\n",
       "[-0.5, 0.25, 0],\n",
       "[   0,    0, 1]])"
      ]
     },
     "execution_count": 29,
     "metadata": {},
     "output_type": "execute_result"
    }
   ],
   "source": [
    "   2    1 0  B.x  = T.i [T.x T.y T.z] = \n",
    "-1/2  1/4 0  B.y  = T.j\n",
    "   0    0 1  B.z  = T.k\n",
    "Fv = T.x*T.i + T.y*T.j + T.z*T.k\n",
    "# T.x\n",
    "F11 = T.i.coeff(B.i) \n",
    "F21 = T.i.coeff(B.j) \n",
    "F31 = T.i.coeff(B.k) \n",
    "# T.y\n",
    "F11 = T.j.coeff(B.i) \n",
    "F22 = T.j.coeff(B.j) \n",
    "F33 = T.j.coeff(B.k) \n",
    "#T.z\n",
    "F11 = T.k.coeff(B.i) \n",
    "F22 = T.k.coeff(B.j) \n",
    "F33 = T.k.coeff(B.k) \n",
    "F = sm.Matrix([[F11, F12, F13],\n",
    "               [F21, F22, F23],\n",
    "               [F31, F32, F33]])\n",
    "vx = T.x*T.i  # v^0\n",
    "vy = T.y*T.j  # v^1\n",
    "vz = T.z*T.k  # v^2\n",
    "v = vx + vy + vz # sum_{i=1}^{3} v^i\n",
    "\n",
    "m1x = v.to_matrix(B)[0].coeff(T.x)\n",
    "m1y = v.to_matrix(B)[0].coeff(T.y)\n",
    "m1z = v.to_matrix(B)[0].coeff(T.z)\n",
    "m1x\n",
    "m2x = v.to_matrix(B)[1].coeff(T.x)\n",
    "m2y = v.to_matrix(B)[1].coeff(T.y)\n",
    "m2z = v.to_matrix(B)[1].coeff(T.z)\n",
    "m2x\n",
    "m3x = v.to_matrix(B)[2].coeff(T.x)\n",
    "m3y = v.to_matrix(B)[2].coeff(T.y)\n",
    "m3z = v.to_matrix(B)[2].coeff(T.z)\n",
    "m3x\n",
    "Tm = sm.Matrix([[m1x, m1y, m1z],[m2x, m2y, m2z],[m3x, m3y, m3z]])\n",
    "# Tm * b_i = t_i\n",
    "Fv.subs({T.x:1,T.y:2,T.z:0})\n",
    "sm.Matrix([[1],[2],[0]])\n",
    "F"
   ]
  },
  {
   "cell_type": "code",
   "execution_count": 81,
   "id": "229de8e6-d695-4b10-a5af-85e1deda4c18",
   "metadata": {},
   "outputs": [
    {
     "data": {
      "text/latex": [
       "$\\displaystyle \\left[\\begin{matrix}2 \\mathbf{{x}_{T}} - 0.5 \\mathbf{{y}_{T}}\\\\\\mathbf{{x}_{T}} + 0.25 \\mathbf{{y}_{T}}\\\\\\mathbf{{z}_{T}}\\end{matrix}\\right]$"
      ],
      "text/plain": [
       "Matrix([\n",
       "[2*T.x - 0.5*T.y],\n",
       "[ T.x + 0.25*T.y],\n",
       "[            T.z]])"
      ]
     },
     "execution_count": 81,
     "metadata": {},
     "output_type": "execute_result"
    }
   ],
   "source": [
    "vT.to_matrix(B)"
   ]
  },
  {
   "cell_type": "code",
   "execution_count": 12,
   "id": "a3bf882b-1591-4052-8ae4-ef433fc205e0",
   "metadata": {},
   "outputs": [
    {
     "data": {
      "text/latex": [
       "$\\displaystyle \\mathbf{\\hat{i}_{B}} + (1.5)\\mathbf{\\hat{j}_{B}}$"
      ],
      "text/plain": [
       "1.0*B.i + 1.5*B.j"
      ]
     },
     "execution_count": 12,
     "metadata": {},
     "output_type": "execute_result"
    }
   ],
   "source": [
    "# Foreward Matrix\n",
    "Fm = sm.Matrix([[ 2, -1/2, 0 ],\n",
    "                [ 1,  1/4, 0 ],\n",
    "                [ 0,  0,   1 ]])\n",
    "\n",
    "# N(1,2,0) wrt Matrix\n",
    "Fm*(sm.Matrix([1,2,0]))\n",
    "\n",
    "# N(1,2,0) wrt Matrix and vector\n",
    "vB = 1*B.i + 2*B.j\n",
    "Fm*vN.to_matrix(B) \n",
    "\n",
    "# Backward Matrix\n",
    "Bm = Fm.inv()\n",
    "Bm*sm.Matrix([1,1.5,0])"
   ]
  },
  {
   "cell_type": "markdown",
   "id": "57c1b896-5665-4142-8ea9-6e85aa3b274a",
   "metadata": {},
   "source": [
    "---\n",
    ">> #### $\\vec{e_1} = \n",
    "\\frac{1}{4}\\tilde{\\vec{e_1}} + -1\\tilde{\\vec{e_2}} \\\\\n",
    "\\vec{e_2} = \\frac{1}{2}\\tilde{\\vec{e_1}} + 2\\tilde{\\vec{e_2}} \\\\\n",
    "B = \\begin{bmatrix} \\frac{1}{4} & \\frac{1}{2} \\\\ -1 & 2\n",
    "\\end{bmatrix}$\n",
    "> ## $\n",
    "FB = \\begin{bmatrix} 2 & \\frac{-1}{2} \\\\ 1 & \\frac{1}{4} \n",
    "\\end{bmatrix}\n",
    "\\begin{bmatrix} \\frac{1}{4} & \\frac{1}{2} \\\\ -1 & 2\n",
    "\\end{bmatrix}\n",
    "= \n",
    "\\begin{bmatrix} 1 & 0 \\\\ 0 & 1\n",
    "\\end{bmatrix} \\\\\n",
    "B = F^{-1}\n",
    "$ "
   ]
  },
  {
   "cell_type": "code",
   "execution_count": 15,
   "id": "0a7adc2f-af77-46aa-a5ff-8adc520bc2dd",
   "metadata": {},
   "outputs": [
    {
     "data": {
      "text/latex": [
       "$\\displaystyle \\left[\\begin{matrix}1.0\\\\2.0\\\\0\\end{matrix}\\right]$"
      ],
      "text/plain": [
       "Matrix([\n",
       "[1.0],\n",
       "[2.0],\n",
       "[  0]])"
      ]
     },
     "execution_count": 15,
     "metadata": {},
     "output_type": "execute_result"
    }
   ],
   "source": [
    "M = sm.vector.CoordSys3D('M')\n",
    "# represent Basis wrt M\n",
    "B.i = 1/4*M.i + (-1)*M.j\n",
    "B.j = 1/2*M.i + 2*M.j\n",
    "B.k = M.k\n",
    "\n",
    "# B(1, 1.5, 0) wrt vector\n",
    "1*B.i + 1.5*B.j\n",
    "\n",
    "# B(1, 1.5, 0) wrt Matrix\n",
    "Bm = Fm.inv()\n",
    "Bm * sm.Matrix( [1, 1.5, 0] )\n",
    "\n",
    "# wrt matrix and vector\n",
    "Mv = 1*M.i + 1.5*M.j\n",
    "Bm * Mv.to_matrix(M)"
   ]
  },
  {
   "cell_type": "markdown",
   "id": "81dab016-eca3-48f7-b17d-d0f5d9b73cd6",
   "metadata": {},
   "source": [
    "---\n",
    "> ### $\n",
    "\\tilde{\\vec{e_1}} =  F_{11}\\; \\vec{e_1} + F_{21}\\; \\vec{e_2} + \\dots + F_{n1}\\;\\vec{e_n}\\\\\n",
    "\\tilde{\\vec{e_2}} =  F_{12}\\; \\vec{e_1} + F_{22}\\; \\vec{e_2} + \\dots + F_{n2}\\;\\vec{e_n}\\\\\n",
    "\\tilde{\\vec{e_n}} =  F_{1n}\\; \\vec{e_1} + F_{2n}\\; \\vec{e_2} + \\dots + F_{nn}\\;\\vec{e_n}\\\\\n",
    "F = \\begin{bmatrix} \n",
    "F_{11} & F_{12} & F_{13} & \\dots & F_{1n} \\\\ \n",
    "F_{21} & F_{22} & F_{23} & \\dots & F_{2n} \\\\ \n",
    "\\vdots & \\vdots & \\ddots & \\vdots \\\\ \n",
    "F_{n1} & F_{n2} & F_{n3} & \\dots & F_{nn} \\\\ \n",
    "\\end{bmatrix}$ \n",
    ">> ### $$ \\tilde{\\vec{e_i}} = \\sum_{j=1}^{n}F_{ji}\\;\\vec{e_{j}}\n",
    "$$"
   ]
  },
  {
   "cell_type": "code",
   "execution_count": 8,
   "id": "76a6f9e4-9dad-4d52-aaae-53d1300e49ee",
   "metadata": {},
   "outputs": [
    {
     "data": {
      "text/latex": [
       "$\\displaystyle \\sum_{j=1}^{n} b_{j, 3} f_{3, j}$"
      ],
      "text/plain": [
       "Sum(b[j, 3]*f[3, j], (j, 1, n))"
      ]
     },
     "execution_count": 8,
     "metadata": {},
     "output_type": "execute_result"
    }
   ],
   "source": [
    "i,j,k,n = sm.symbols('i j k n', postive=True)\n",
    "\n",
    "f = sm.MatrixSymbol('f',n,n)\n",
    "b = sm.MatrixSymbol('b',n,n)\n",
    "sm.Sum(f[i,j]*b[j,k],(j,1,n))\n",
    "sm.Sum(f[k,j]*b[j,i],(j,1,n)).subs({i:3,k:3})"
   ]
  },
  {
   "cell_type": "markdown",
   "id": "cf1b3327-e499-45eb-b150-cca706f6e9e0",
   "metadata": {},
   "source": [
    "> ### $\n",
    "\\vec{e_1} =  B_{11}\\;\\tilde{ \\vec{e_1}} + B_{21}\\;\\tilde{ \\vec{e_2}} + \\dots + B_{n1}\\;\\tilde{\\vec{e_n}}\\\\\n",
    "\\vec{e_2} =  B_{12}\\;\\tilde{ \\vec{e_1}} + B_{22}\\;\\tilde{ \\vec{e_2}} + \\dots + B_{n2}\\;\\tilde{\\vec{e_n}}\\\\\n",
    "\\vec{e_n} =  B_{1n}\\;\\tilde{ \\vec{e_1}} + B_{2n}\\;\\tilde{ \\vec{e_2}} + \\dots + B_{nn}\\;\\tilde{\\vec{e_n}}\\\\\n",
    "B = \\begin{bmatrix} \n",
    "B_{11} & B_{12} & \\dots & B_{1n} \\\\ \n",
    "B_{21} & B_{22} & \\dots & B_{2n} \\\\ \n",
    "\\vdots & \\vdots & \\ddots & \\vdots \\\\ \n",
    "B_{n1} & B_{n2} & \\dots & B_{nn} \\\\ \n",
    "\\end{bmatrix}$ \n",
    ">> ### $$ \\vec{e_i} = \\sum_{j=1}^{n}B_{ji}\\;\\tilde{\\vec{e_{j}}}\n",
    "$$"
   ]
  },
  {
   "cell_type": "markdown",
   "id": "3ed14162-303a-4e5e-80d5-901d11b1e556",
   "metadata": {},
   "source": [
    "---\n",
    "### $$ \n",
    "\\vec{e_i} = \\sum_{j=1}^{n} B_{ji}\\; \\tilde{\\vec{e_j}} \\quad\n",
    "\\because \\tilde{\\vec{e_j}} = \\sum_{k=1}^{n}F_{kj}\\; \\vec{e_k}, \\\\\n",
    "\\vec{e_i} = \\sum_{j} B_{ji}\\; \\sum_{k} F_{kj}\\; \\vec{e_{k}} \\\\\n",
    "\\vec{e_i} = \\sum_{k} \\Big(\\sum_{j} B_{ji}\\; F_{kj}\\Big)\\; \\vec{e_{k}} \\\\\n",
    "\\quad \\because \\sum_{j}B_{ji}F_{jk} = \n",
    "\\begin{cases} \n",
    "1 & \\text{if } i = k \\\\\n",
    "0 & \\text{if } i \\neq k \\\\\n",
    "\\therefore \\delta_{ik} =: \\text{Kronecker Delta}\n",
    "\\end{cases}\n",
    "$$ \n",
    "$\n",
    "F = \\begin{bmatrix} \n",
    "F_{11} & F_{12} & \\dots & F_{1n} \\\\ \n",
    "F_{21} & F_{22} & \\dots & F_{2n} \\\\ \n",
    "\\vdots & \\vdots & \\ddots & \\vdots \\\\ \n",
    "F_{n1} & F_{n2} & \\dots & F_{nn} \\\\ \n",
    "\\end{bmatrix} \\;\n",
    "B = \\begin{bmatrix} \n",
    "B_{11} & B_{12} & \\dots & B_{1n} \\\\ \n",
    "B_{21} & B_{22} & \\dots & B_{2n} \\\\ \n",
    "\\vdots & \\vdots & \\ddots & \\vdots \\\\ \n",
    "B_{n1} & B_{n2} & \\dots & B_{nn} \\\\ \n",
    "\\end{bmatrix}\\;\n",
    "I(FB) = \\begin{bmatrix} \n",
    "1 & 0 & \\dots & 0 \\\\ \n",
    "0 & 1 & \\dots & 0 \\\\ \n",
    "\\vdots & \\vdots & 1 & \\vdots \\\\ \n",
    "0 & 0 & \\dots & 1\\\\ \n",
    "\\end{bmatrix}$ "
   ]
  },
  {
   "cell_type": "code",
   "execution_count": null,
   "id": "0390fa21-e92c-46c7-9391-516735e69f46",
   "metadata": {},
   "outputs": [],
   "source": []
  },
  {
   "cell_type": "markdown",
   "id": "e719976c-4787-4a82-bc30-7ab90fd8bcdc",
   "metadata": {},
   "source": [
    "> vectors\n",
    ">> invariant\n",
    "\n",
    "> vector components\n",
    ">> variant\n",
    "\n",
    "> vector sapce\n",
    ">> $(V,S,+,\\cdot)$  \n",
    ">>> V := Set of vectors  \n",
    ">>> S := Set of Scalars  \n",
    ">>> \\+ := addtion  \n",
    ">>> $\\cdot$ := scaling"
   ]
  },
  {
   "cell_type": "markdown",
   "id": "4f448048-5c1d-45e3-a47d-87a39dc47fe9",
   "metadata": {},
   "source": [
    "> ### $F = \\begin{bmatrix} 2 & \\frac{-1}{2} \\\\ 1 & \\frac{1}{4} \\end{bmatrix}$\n",
    "> ### $B = \\begin{bmatrix} \\frac{1}{4} & \\frac{1}{2} \\\\ -1 & 2 \\end{bmatrix}$\n",
    "> ### $\\vec{v} \n",
    "= 1\\; \\vec{e_1} + 1.5\\; \\vec{e_2} \\\\ \\vec{v} \n",
    "= 1\\; \\tilde{\\vec{e_1}} + 2\\; \\tilde{\\vec{e_2}}$\n",
    "> ### $\\begin{bmatrix}1 \\\\ 1.5 \\end{bmatrix}_{\\vec{e_i}} \\iff \\begin{bmatrix}1 \\\\ 2 \\end{bmatrix}_{\\tilde{\\vec{e_i}}}$"
   ]
  },
  {
   "cell_type": "code",
   "execution_count": 9,
   "id": "2ed187df-8106-43eb-9f91-2f43b95cb23b",
   "metadata": {},
   "outputs": [
    {
     "data": {
      "text/latex": [
       "$\\displaystyle \\left[\\begin{matrix}\\frac{1.25 \\left(\\mathbf{\\hat{i}_{B}} \\cdot \\mathbf{\\hat{i}_{N}}\\right) + 1.375 \\left(\\mathbf{\\hat{j}_{B}} \\cdot \\mathbf{\\hat{i}_{N}}\\right)}{4} - \\left(1.25 \\left(\\mathbf{\\hat{i}_{B}} \\cdot \\mathbf{\\hat{j}_{N}}\\right) + 1.375 \\left(\\mathbf{\\hat{j}_{B}} \\cdot \\mathbf{\\hat{j}_{N}}\\right)\\right)\\\\\\frac{1.25 \\left(\\mathbf{\\hat{i}_{B}} \\cdot \\mathbf{\\hat{i}_{N}}\\right) + 1.375 \\left(\\mathbf{\\hat{j}_{B}} \\cdot \\mathbf{\\hat{i}_{N}}\\right)}{2} + 2 \\left(1.25 \\left(\\mathbf{\\hat{i}_{B}} \\cdot \\mathbf{\\hat{j}_{N}}\\right) + 1.375 \\left(\\mathbf{\\hat{j}_{B}} \\cdot \\mathbf{\\hat{j}_{N}}\\right)\\right)\\end{matrix}\\right]$"
      ],
      "text/plain": [
       "Matrix([\n",
       "[  (1.25*Dot(B.i, N.i) + 1.375*Dot(B.j, N.i))/4 - (1.25*Dot(B.i, N.j) + 1.375*Dot(B.j, N.j))],\n",
       "[(1.25*Dot(B.i, N.i) + 1.375*Dot(B.j, N.i))/2 + 2*(1.25*Dot(B.i, N.j) + 1.375*Dot(B.j, N.j))]])"
      ]
     },
     "execution_count": 9,
     "metadata": {},
     "output_type": "execute_result"
    }
   ],
   "source": [
    "# v0 = <1,1.5>\n",
    "v0 = 1*N.i + 1.5*N.j\n",
    "m = v0.to_matrix(N)\n",
    "m = m.row_del(2)\n",
    "# transformation\n",
    "F*m\n",
    "# Not transforamtion but how to read elements with respect to \\tilde{\\vec{[e}} system\n",
    "B*m"
   ]
  },
  {
   "cell_type": "markdown",
   "id": "5f958bf5-32a9-4335-b80a-56c63e718c77",
   "metadata": {},
   "source": [
    "# Contra Variant\n",
    "> ### $\n",
    "\\vec{v} \n",
    "=  v_1\\vec{e_1} + v_2\\vec{e_2} + ... + v_n\\vec{e_n} \n",
    "= \\sum_{j=1}^n v_j\\vec{e_j}\\\\\n",
    "\\vec{v} \n",
    "= \\tilde{v_1}\\tilde{\\vec{e_1}} + \\tilde{v_2}\\tilde{\\vec{e_2}} + ... + \\tilde{v_n}\\tilde{\\vec{e_n}} \n",
    "= \\sum_{j=1}^n \\tilde{v_j}\\tilde{\\vec{e_j}}\\\\\n",
    "\\vec{v} \n",
    "\\begin{cases} \n",
    "\\sum_{j=1}^{n}v_j\\vec{e_j} \\\\\n",
    "\\sum_{i=1}^{n} \\tilde{v_i}\\tilde{\\vec{e_i}}\n",
    "\\end{cases}\n",
    "$"
   ]
  },
  {
   "cell_type": "markdown",
   "id": "93fa7c62-8bc4-4df2-8958-3dc0bbab53c3",
   "metadata": {},
   "source": [
    "> ### $ \\because\n",
    "\\tilde{\\vec{e_j}} = \\sum_{i=1}^n F_{ij}\\vec{e_i}, \\quad\n",
    "\\vec{e_j} = \\sum_{i=1}^n B_{ij}\\tilde{\\vec{e_i}}\n",
    "$\n",
    ">> ### $\\sum_{j=1}^{n}v_j\\vec{e_j}\n",
    "=\\sum_{j=1}^{n}v_j \\Big(\\sum_{i=1}^n B_{ij}\\tilde{\\vec{e_i}}\\Big)\n",
    "=\\sum_{i=1}^{n}\\Big(\\sum_{j=1}^n B_{ij}\\; v_j\\Big)\\tilde{\\vec{e_i}}\\\\\n",
    "\\quad \\because \\vec{v} = \\sum_{i=1}^{n}\\tilde{v_i}\\tilde{\\vec{e_i}} \\\\\n",
    "\\quad =\\sum_{i=1}^{n}\\Big(\\tilde{v_i}\\Big)\\tilde{\\vec{e_i}} \\\\\n",
    "\\therefore \\tilde{v_j} = \\sum_{j=1}^{n}B_{ij}\\; \\vec{v_j} \\\\\n",
    "$\n",
    "## Components vectors Transformation \n",
    "- ### Contra Varient\n",
    "> ### behave contray to the basis vecotrs\n",
    ">> ### therefore we gona wirte the indices above the V\n",
    ">> ### $\n",
    "\\quad \\therefore \\tilde{v^j} = \\sum_{j=1}^{n}B_{ij}\\; v^j \\\\\n",
    "\\quad \\therefore v^j = \\sum_{j=1}^{n}F_{ij}\\; \\tilde{v^j} \\\\\n",
    "\\vec{v} = \\sum_{i=1}^{n} v^{i}\\; \\vec{e_i} = \\sum_{i=1}^{n}\\tilde{v^i}\\; \\tilde{\\vec{e_i}}\n",
    "$\n",
    "\n",
    "## Basis vectors trasformation\n",
    "> ### $ \n",
    "\\quad \\therefore \\tilde{\\vec{e_j}} = \\sum_{i=1}^n F_{ij}\\vec{e_i} \\\\\n",
    "\\quad \\therefore \\vec{e_j} = \\sum_{i=1}^n B_{ij}\\tilde{\\vec{e_i}}\n",
    "$"
   ]
  },
  {
   "cell_type": "code",
   "execution_count": null,
   "id": "be446639-8f28-4f59-8eb1-98e222fea315",
   "metadata": {},
   "outputs": [],
   "source": []
  },
  {
   "cell_type": "markdown",
   "id": "9aed97bd-970d-4829-89e3-89f961950a21",
   "metadata": {
    "tags": []
   },
   "source": [
    "# CoVectors\n",
    "> - ### covectors are invariant\n",
    "> - ### covector components are not invariant\n",
    "> - ### covectors are functions $\\alpha : V \\to \\mathbb{R}$\n",
    "> - ### covectors don't live in the vector space V\n",
    "> - ### so we can't use basis vectors in V like {$\\vec{e_1}, \\vec{e_2}$} to measure covectors\n",
    "\n",
    "> ### take the basis{$\\vec{e_1}, \\vec{e_2}$} for V.\n",
    "> ### introduce two special covectors $\\epsilon^1, \\epsilon^2: V \\to \\mathbb{R}$\n",
    ">> ### $\\epsilon^1 (\\vec{e_1}) = 1, \\quad \\epsilon^1 (\\vec{e_2}) = 0$\n",
    ">> ### $\\epsilon^2 (\\vec{e_1}) = 1, \\quad \\epsilon^2 (\\vec{e_2}) = 0$\n",
    ">> ### $\\epsilon^i (\\vec{e_j}) = \\delta_{ij} = \n",
    "\\begin{cases} \n",
    "1 & if \\;i = j \\\\\n",
    "0 & if \\;i \\neq j \\\\\n",
    "\\end{cases}\n",
    "$\n",
    ">>> ### $\\epsilon^1 (\\vec{v}) \n",
    "= \\epsilon^1 ( {v}^1 \\vec{e_1} + {v}^2 \\vec{e_2}) \n",
    "= v^1 \\epsilon^1 (\\vec{e_1}) + v^2 \\epsilon^1(\\vec{e_2}) = v^1 $\n",
    ">>> ### $\\epsilon^2 (\\vec{v}) \n",
    "= \\epsilon^2 ( {v}^1 \\vec{e_1} + {v}^2 \\vec{e_2}) \n",
    "= v^1 \\epsilon^2 (\\vec{e_1}) + v^2 \\epsilon^2(\\vec{e_2}) = v^2 $\n",
    ">> ### $\\therefore \\epsilon^i (\\vec{v}) = v^i$\n",
    ">> ### $\\therefore  v^i = \\epsilon^i (\\vec{v}) $"
   ]
  },
  {
   "cell_type": "code",
   "execution_count": 10,
   "id": "a95c5265-36a7-4dfa-85e6-cc2869c24cd2",
   "metadata": {},
   "outputs": [],
   "source": [
    "#"
   ]
  },
  {
   "cell_type": "markdown",
   "id": "99f8e5c6-6842-4da3-b150-b5b2042fd082",
   "metadata": {
    "tags": []
   },
   "source": [
    "> ### $\\alpha (\\vec{v}) \\begin{cases}\n",
    "\\alpha ( {v}^1 \\vec{e_1} + {v}^2 \\vec{e_2}) \\\\\n",
    "v^1 \\alpha(\\vec{e_1}) + {v}^2 \\alpha(\\vec{e_2}) \\\\\n",
    "\\quad \\because v^1 = \\epsilon^1(\\vec{v}), \\quad \\epsilon^2(\\vec{v}) = v^2 \\\\\n",
    "\\epsilon^1(\\vec{v})\\alpha(\\vec{e_1}) + \\epsilon^2(\\vec{v})\\alpha(\\vec{e_1}) \\\\\n",
    "\\text{Define: } \\alpha(\\vec{e_1}) = \\alpha_1, \\quad \\alpha(\\vec{e_2}) = \\alpha_2 \\\\\n",
    "\\epsilon^1 \\alpha_1(\\vec{v}) + \\epsilon^2\\alpha_1 (\\vec{v})\\\\\n",
    "(\\epsilon^1 \\alpha_1 + \\epsilon^2\\alpha_1) (\\vec{v})\\\\\n",
    "\\quad \\because \\text{cancel } \\vec{v}\n",
    "\\end{cases}\n",
    "$\n",
    "> ### $\\alpha = \\alpha_1 \\epsilon^1 + \\alpha_2 \\epsilon^2$\n",
    ">> ### $\\epsilon$ is called Dual Basis(양쪽에서 Basis)\n",
    ">>> ### $\\because \\epsilon$ Covector form a basis for the set of all Covectors \n",
    ">> ### $\\alpha$ is General Covector"
   ]
  },
  {
   "cell_type": "code",
   "execution_count": 11,
   "id": "fb77219b-efeb-4066-96f6-7bb068ce9899",
   "metadata": {},
   "outputs": [],
   "source": [
    "#"
   ]
  },
  {
   "cell_type": "markdown",
   "id": "cfc2873b-f23b-4f33-baac-fa0ea7d2b846",
   "metadata": {},
   "source": [
    "> ### A covector(row vector) is \n",
    ">>  ### Linearity\n",
    ">>> ### A fucntion that takes a vector and produces a scalar/number \n",
    "$ \\alpha: V \\to \\mathbb{R}$\n",
    ">>> ### We can add inputs or add output and get the same answer\n",
    "$ \\alpha(\\vec{v} + \\vec{w}) = \\alpha(\\vec{v}) + \\alpha \\vec{w}$\n",
    ">>> ### We can scale inputs or scale outputs and get the same answer\n",
    "$ \\alpha(n \\vec{v} + m \\vec{w}) = n \\alpha(\\vec{v}) + m \\alpha(\\vec{w})$\n"
   ]
  },
  {
   "cell_type": "code",
   "execution_count": 12,
   "id": "fbb32899-64bb-4e67-a1e9-ee8031e28c15",
   "metadata": {},
   "outputs": [],
   "source": [
    "#"
   ]
  },
  {
   "cell_type": "markdown",
   "id": "dc6e7de1-2929-4565-90c2-3c5c7033cc4f",
   "metadata": {},
   "source": [
    "---\n",
    "# Vector Space\n",
    "> ### $(V,S, +,\\cdot)$\n",
    "# Dual Vector Space\n",
    "> ### $(V^*, S, + , \\cdot)$\n",
    ">> ### Elements of $V^*$ ard covectors, $\\alpha: V \\to \\mathbb{R}$\n",
    ">>> $(n \\cdot \\alpha)(\\vec{v}) = n\\alpha(\\vec v) \\\\\n",
    "(\\beta + \\gamma)(\\vec v) = \\beta(\\vec v) + \\gamma(\\vec v)\\\\\n",
    "\\alpha(\\vec v + \\vec w) = \\alpha(\\vec v) + \\alpha(\\vec w)\\\\\n",
    "\\alpha(n\\vec v) = n \\alpha(\\vec v)\n",
    "$\n"
   ]
  },
  {
   "cell_type": "code",
   "execution_count": 13,
   "id": "cdb828cc-ed52-4c0b-b8ca-8511f22e02b6",
   "metadata": {},
   "outputs": [
    {
     "ename": "SyntaxError",
     "evalue": "invalid syntax (1022210316.py, line 15)",
     "output_type": "error",
     "traceback": [
      "\u001b[0;36m  File \u001b[0;32m\"/tmp/ipykernel_42986/1022210316.py\"\u001b[0;36m, line \u001b[0;32m15\u001b[0m\n\u001b[0;31m    e1 = 2*N.i +\u001b[0m\n\u001b[0m                 ^\u001b[0m\n\u001b[0;31mSyntaxError\u001b[0m\u001b[0;31m:\u001b[0m invalid syntax\n"
     ]
    }
   ],
   "source": [
    "import matplotlib.pyplot as plt\n",
    "import numpy as np\n",
    "x = np.linspace(-10,10,100)\n",
    "fig = plt.figure(figsize=(10,10))\n",
    "ax = fig.add_subplot()\n",
    "ax.set_aspect('equal')\n",
    "ax.set_xlim(xmin=-10,xmax=10)\n",
    "ax.set_ylim(ymin=-10,ymax=10)\n",
    "ax.set_xticks(np.arange(-10,10,1))\n",
    "ax.set_yticks(np.arange(-10,10,1))\n",
    "ax.spines['left'].set_position('center')\n",
    "ax.spines['bottom'].set_position('center')\n",
    "ax.grid()\n",
    "\n",
    "e1 = 2*N.i + \n",
    "#ax.axhline(0)\n",
    "#ax.axvline(0)\n"
   ]
  },
  {
   "cell_type": "code",
   "execution_count": null,
   "id": "b7a81316-16d2-45f8-a550-d27442e92805",
   "metadata": {},
   "outputs": [],
   "source": []
  },
  {
   "cell_type": "code",
   "execution_count": null,
   "id": "1c01edd9-e431-4994-9653-14e1b284bae6",
   "metadata": {},
   "outputs": [],
   "source": []
  }
 ],
 "metadata": {
  "kernelspec": {
   "display_name": "Python 3 (ipykernel)",
   "language": "python",
   "name": "python3"
  },
  "language_info": {
   "codemirror_mode": {
    "name": "ipython",
    "version": 3
   },
   "file_extension": ".py",
   "mimetype": "text/x-python",
   "name": "python",
   "nbconvert_exporter": "python",
   "pygments_lexer": "ipython3",
   "version": "3.9.9"
  }
 },
 "nbformat": 4,
 "nbformat_minor": 5
}
