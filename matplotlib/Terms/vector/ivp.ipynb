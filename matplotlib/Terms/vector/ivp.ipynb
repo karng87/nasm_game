{
 "cells": [
  {
   "cell_type": "markdown",
   "id": "287c652a-f80b-462f-91de-f9a2e0959ddc",
   "metadata": {},
   "source": [
    "# Initail Value Problem\n",
    "> ## Given $\\frac{dy}{dx} = 8x + csc^2(x)$ with $y(\\pi/2) = -7$ solve for $y(x)$"
   ]
  },
  {
   "cell_type": "code",
   "execution_count": 40,
   "id": "33f57e58-6e85-4dee-9c55-79f0da8431f6",
   "metadata": {},
   "outputs": [
    {
     "data": {
      "text/latex": [
       "$\\displaystyle 4 x^{2} - \\pi^{2} - 7 - \\frac{\\cos{\\left(x \\right)}}{\\sin{\\left(x \\right)}}$"
      ],
      "text/plain": [
       "4*x**2 - pi**2 - 7 - cos(x)/sin(x)"
      ]
     },
     "execution_count": 40,
     "metadata": {},
     "output_type": "execute_result"
    }
   ],
   "source": [
    "import sympy as sm\n",
    "x, C = sm.symbols('x C')\n",
    "sol = sm.integrate(8*x + sm.csc(x)**2, x)\n",
    "\n",
    "# y = sol + C\n",
    "# y(pi/2) = -7\n",
    "\n",
    "C = -sol - 7\n",
    "ans = sol + C.subs(x,sm.pi/2)\n",
    "ans\n",
    "# ans.subs(x,sm.pi/2)"
   ]
  },
  {
   "cell_type": "markdown",
   "id": "a89ea4aa-fb71-4bb1-9d93-9eba2d126b8c",
   "metadata": {},
   "source": [
    "> ## $$ \\int \\frac{(1+\\sqrt{x})^{1/3}}{\\sqrt{x}}dx$$"
   ]
  },
  {
   "cell_type": "code",
   "execution_count": 41,
   "id": "c57f7f30-3e1d-47ac-8a1a-41179afd74a9",
   "metadata": {},
   "outputs": [
    {
     "data": {
      "text/latex": [
       "$\\displaystyle \\frac{\\sqrt[3]{\\sqrt{x} + 1}}{\\sqrt{x}}$"
      ],
      "text/plain": [
       "(sqrt(x) + 1)**(1/3)/sqrt(x)"
      ]
     },
     "execution_count": 41,
     "metadata": {},
     "output_type": "execute_result"
    }
   ],
   "source": [
    "(1 + sm.sqrt(x))**sm.Rational(1,3) / sm.sqrt(x)"
   ]
  },
  {
   "cell_type": "markdown",
   "id": "0834cc95-6352-43ab-b1dc-78e8dd2f26ae",
   "metadata": {},
   "source": [
    "> ## $$\n",
    "\\int x(1-x^2)^{1/4} dx\n",
    "$$"
   ]
  },
  {
   "cell_type": "code",
   "execution_count": 42,
   "id": "ad2e3971-0984-40a2-aef6-297ed50ad0c8",
   "metadata": {},
   "outputs": [
    {
     "data": {
      "text/latex": [
       "$\\displaystyle \\sqrt[4]{x \\left(1 - x^{2}\\right)}$"
      ],
      "text/plain": [
       "(x*(1 - x**2))**(1/4)"
      ]
     },
     "execution_count": 42,
     "metadata": {},
     "output_type": "execute_result"
    }
   ],
   "source": [
    "(x*(1-x**2))**sm.Rational(1/4)"
   ]
  },
  {
   "cell_type": "markdown",
   "id": "9b21c699-452f-4925-9252-4100d89b0f43",
   "metadata": {},
   "source": [
    "# Definite Integrals\n",
    "> ## $$ \\int_0^{ln(4)}\\frac{e^x}{e^{2x}+9}dt $$"
   ]
  },
  {
   "cell_type": "code",
   "execution_count": 45,
   "id": "f2895f98-f7f7-4564-bdb6-00b704cbcdd2",
   "metadata": {},
   "outputs": [
    {
     "data": {
      "text/latex": [
       "$\\displaystyle \\frac{e^{x}}{e^{2 x} + 9}$"
      ],
      "text/plain": [
       "exp(x)/(exp(2*x) + 9)"
      ]
     },
     "execution_count": 45,
     "metadata": {},
     "output_type": "execute_result"
    }
   ],
   "source": [
    "sm.exp(x) / (sm.exp(2*x) + 9)"
   ]
  },
  {
   "cell_type": "markdown",
   "id": "e90663a7-78c4-4911-901f-0e69d5408fbd",
   "metadata": {},
   "source": [
    "> ## $$\\int _1^t x^{10}e^x dx $$"
   ]
  },
  {
   "cell_type": "code",
   "execution_count": 48,
   "id": "b0a7258a-0902-41d8-85f4-7b625c91ce03",
   "metadata": {},
   "outputs": [
    {
     "data": {
      "text/latex": [
       "$\\displaystyle \\left(t^{10} - 10 t^{9} + 90 t^{8} - 720 t^{7} + 5040 t^{6} - 30240 t^{5} + 151200 t^{4} - 604800 t^{3} + 1814400 t^{2} - 3628800 t + 3628800\\right) e^{t} - 1334961 e$"
      ],
      "text/plain": [
       "(t**10 - 10*t**9 + 90*t**8 - 720*t**7 + 5040*t**6 - 30240*t**5 + 151200*t**4 - 604800*t**3 + 1814400*t**2 - 3628800*t + 3628800)*exp(t) - 1334961*E"
      ]
     },
     "execution_count": 48,
     "metadata": {},
     "output_type": "execute_result"
    }
   ],
   "source": [
    "t = sm.symbols('t')\n",
    "sm.integrate(x**10 * sm.exp(x),(x,1,t))"
   ]
  },
  {
   "cell_type": "markdown",
   "id": "14f9fe35-70da-484d-96fe-26b9681f0ee2",
   "metadata": {},
   "source": [
    "# Improper Integrals\n",
    "> ## $$ \\int_0^{\\infty} \\frac{16tan^-1(x)}{1+x^2}dx$$"
   ]
  },
  {
   "cell_type": "code",
   "execution_count": 51,
   "id": "1978f792-a6df-4d87-b7d2-522dfbda1420",
   "metadata": {},
   "outputs": [
    {
     "data": {
      "text/latex": [
       "$\\displaystyle 2 \\pi^{2}$"
      ],
      "text/plain": [
       "2*pi**2"
      ]
     },
     "execution_count": 51,
     "metadata": {},
     "output_type": "execute_result"
    }
   ],
   "source": [
    "sm.integrate(16*sm.atan(x) / (1+x**2),(x,0,sm.oo))"
   ]
  },
  {
   "cell_type": "code",
   "execution_count": null,
   "id": "aa3fcfe0-d7d9-4e3b-bccb-c854b0f7d1d5",
   "metadata": {},
   "outputs": [],
   "source": []
  }
 ],
 "metadata": {
  "kernelspec": {
   "display_name": "Python 3 (ipykernel)",
   "language": "python",
   "name": "python3"
  },
  "language_info": {
   "codemirror_mode": {
    "name": "ipython",
    "version": 3
   },
   "file_extension": ".py",
   "mimetype": "text/x-python",
   "name": "python",
   "nbconvert_exporter": "python",
   "pygments_lexer": "ipython3",
   "version": "3.9.7"
  }
 },
 "nbformat": 4,
 "nbformat_minor": 5
}
