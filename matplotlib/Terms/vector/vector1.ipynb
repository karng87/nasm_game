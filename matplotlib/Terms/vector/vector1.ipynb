{
 "cells": [
  {
   "cell_type": "markdown",
   "id": "508a01fc-9b3b-4d53-88b0-2912cfe272f4",
   "metadata": {},
   "source": [
    "# Marix multilication\n",
    "> ### $\n",
    "\\begin {bmatrix}1 && 2 && 3  \\\\ 1 && 2 &&  3 \\\\ 1 && 2 && 3\\end{bmatrix}\\:\n",
    "\\begin {bmatrix} 3 \\\\ 4 \\\\ 5 \\end{bmatrix} = \\\\\n",
    "3 \\begin{bmatrix} 1 \\\\ 1 \\\\ 1 \\end{bmatrix} +\n",
    "4 \\begin{bmatrix} 2 \\\\ 2 \\\\ 2 \\end{bmatrix} +\n",
    "5 \\begin{bmatrix} 3 \\\\ 3 \\\\ 3 \\end{bmatrix} = \n",
    "\\begin{bmatrix} 26 \\\\ 26 \\\\ 26 \\end{bmatrix} \\dots (14)\n",
    "$"
   ]
  },
  {
   "cell_type": "markdown",
   "id": "4eda8b76-5878-4204-a506-f8ac60642a24",
   "metadata": {},
   "source": [
    "# [vector](https://ghebook.blogspot.com/2010/07/vector.html)\n",
    "> # Vector $\\leftrightarrow$ Scalar\n",
    ">> ## quaternion $\\to$ vector\n",
    ">> ## scalar multiply\n",
    ">> ## addictive\n",
    ">>> ### addition, subtraction"
   ]
  },
  {
   "cell_type": "code",
   "execution_count": 137,
   "id": "ff3b8e35-74b7-45c1-97f6-b0368f9f240f",
   "metadata": {},
   "outputs": [
    {
     "data": {
      "text/plain": [
       "(Q.x*(q0**2 + q1**2 - q2**2 - q3**2) + Q.y*(2*q0*q3 + 2*q1*q2) + Q.z*(-2*q0*q2 + 2*q1*q3),\n",
       " Q.x*(-2*q0*q3 + 2*q1*q2) + Q.y*(q0**2 - q1**2 + q2**2 - q3**2) + Q.z*(2*q0*q1 + 2*q2*q3),\n",
       " Q.x*(2*q0*q2 + 2*q1*q3) + Q.y*(-2*q0*q1 + 2*q2*q3) + Q.z*(q0**2 - q1**2 - q2**2 + q3**2))"
      ]
     },
     "execution_count": 137,
     "metadata": {},
     "output_type": "execute_result"
    }
   ],
   "source": [
    "import sympy as sm\n",
    "import sympy.vector\n",
    "B = sm.vector.CoordSys3D('B')\n",
    "q0,q1,q2,q3 = sm.symbols('q0:4')\n",
    "Q = B.orient_new_quaternion('Q',q0,q1,q2,q3)\n",
    "Q.transformation_to_parent()"
   ]
  },
  {
   "cell_type": "code",
   "execution_count": 139,
   "id": "cee3184b-5009-4710-bd57-a7ec53c06d13",
   "metadata": {},
   "outputs": [
    {
     "data": {
      "text/latex": [
       "$\\displaystyle \\left[\\begin{matrix}\\frac{\\mathbf{{x}_{B}} \\left(q_{0}^{2} + q_{1}^{2} - q_{2}^{2} - q_{3}^{2}\\right)}{q_{0}^{4} + 2 q_{0}^{2} q_{1}^{2} + 2 q_{0}^{2} q_{2}^{2} + 2 q_{0}^{2} q_{3}^{2} + q_{1}^{4} + 2 q_{1}^{2} q_{2}^{2} + 2 q_{1}^{2} q_{3}^{2} + q_{2}^{4} + 2 q_{2}^{2} q_{3}^{2} + q_{3}^{4}} + \\frac{\\mathbf{{y}_{B}} \\left(- 2 q_{0} q_{3} + 2 q_{1} q_{2}\\right)}{q_{0}^{4} + 2 q_{0}^{2} q_{1}^{2} + 2 q_{0}^{2} q_{2}^{2} + 2 q_{0}^{2} q_{3}^{2} + q_{1}^{4} + 2 q_{1}^{2} q_{2}^{2} + 2 q_{1}^{2} q_{3}^{2} + q_{2}^{4} + 2 q_{2}^{2} q_{3}^{2} + q_{3}^{4}} + \\frac{\\mathbf{{z}_{B}} \\left(2 q_{0} q_{2} + 2 q_{1} q_{3}\\right)}{q_{0}^{4} + 2 q_{0}^{2} q_{1}^{2} + 2 q_{0}^{2} q_{2}^{2} + 2 q_{0}^{2} q_{3}^{2} + q_{1}^{4} + 2 q_{1}^{2} q_{2}^{2} + 2 q_{1}^{2} q_{3}^{2} + q_{2}^{4} + 2 q_{2}^{2} q_{3}^{2} + q_{3}^{4}}\\\\\\frac{\\mathbf{{x}_{B}} \\left(2 q_{0} q_{3} + 2 q_{1} q_{2}\\right)}{q_{0}^{4} + 2 q_{0}^{2} q_{1}^{2} + 2 q_{0}^{2} q_{2}^{2} + 2 q_{0}^{2} q_{3}^{2} + q_{1}^{4} + 2 q_{1}^{2} q_{2}^{2} + 2 q_{1}^{2} q_{3}^{2} + q_{2}^{4} + 2 q_{2}^{2} q_{3}^{2} + q_{3}^{4}} + \\frac{\\mathbf{{y}_{B}} \\left(q_{0}^{2} - q_{1}^{2} + q_{2}^{2} - q_{3}^{2}\\right)}{q_{0}^{4} + 2 q_{0}^{2} q_{1}^{2} + 2 q_{0}^{2} q_{2}^{2} + 2 q_{0}^{2} q_{3}^{2} + q_{1}^{4} + 2 q_{1}^{2} q_{2}^{2} + 2 q_{1}^{2} q_{3}^{2} + q_{2}^{4} + 2 q_{2}^{2} q_{3}^{2} + q_{3}^{4}} + \\frac{\\mathbf{{z}_{B}} \\left(- 2 q_{0} q_{1} + 2 q_{2} q_{3}\\right)}{q_{0}^{4} + 2 q_{0}^{2} q_{1}^{2} + 2 q_{0}^{2} q_{2}^{2} + 2 q_{0}^{2} q_{3}^{2} + q_{1}^{4} + 2 q_{1}^{2} q_{2}^{2} + 2 q_{1}^{2} q_{3}^{2} + q_{2}^{4} + 2 q_{2}^{2} q_{3}^{2} + q_{3}^{4}}\\\\\\frac{\\mathbf{{x}_{B}} \\left(- 2 q_{0} q_{2} + 2 q_{1} q_{3}\\right)}{q_{0}^{4} + 2 q_{0}^{2} q_{1}^{2} + 2 q_{0}^{2} q_{2}^{2} + 2 q_{0}^{2} q_{3}^{2} + q_{1}^{4} + 2 q_{1}^{2} q_{2}^{2} + 2 q_{1}^{2} q_{3}^{2} + q_{2}^{4} + 2 q_{2}^{2} q_{3}^{2} + q_{3}^{4}} + \\frac{\\mathbf{{y}_{B}} \\left(2 q_{0} q_{1} + 2 q_{2} q_{3}\\right)}{q_{0}^{4} + 2 q_{0}^{2} q_{1}^{2} + 2 q_{0}^{2} q_{2}^{2} + 2 q_{0}^{2} q_{3}^{2} + q_{1}^{4} + 2 q_{1}^{2} q_{2}^{2} + 2 q_{1}^{2} q_{3}^{2} + q_{2}^{4} + 2 q_{2}^{2} q_{3}^{2} + q_{3}^{4}} + \\frac{\\mathbf{{z}_{B}} \\left(q_{0}^{2} - q_{1}^{2} - q_{2}^{2} + q_{3}^{2}\\right)}{q_{0}^{4} + 2 q_{0}^{2} q_{1}^{2} + 2 q_{0}^{2} q_{2}^{2} + 2 q_{0}^{2} q_{3}^{2} + q_{1}^{4} + 2 q_{1}^{2} q_{2}^{2} + 2 q_{1}^{2} q_{3}^{2} + q_{2}^{4} + 2 q_{2}^{2} q_{3}^{2} + q_{3}^{4}}\\end{matrix}\\right]$"
      ],
      "text/plain": [
       "Matrix([\n",
       "[B.x*(q0**2 + q1**2 - q2**2 - q3**2)/(q0**4 + 2*q0**2*q1**2 + 2*q0**2*q2**2 + 2*q0**2*q3**2 + q1**4 + 2*q1**2*q2**2 + 2*q1**2*q3**2 + q2**4 + 2*q2**2*q3**2 + q3**4) + B.y*(-2*q0*q3 + 2*q1*q2)/(q0**4 + 2*q0**2*q1**2 + 2*q0**2*q2**2 + 2*q0**2*q3**2 + q1**4 + 2*q1**2*q2**2 + 2*q1**2*q3**2 + q2**4 + 2*q2**2*q3**2 + q3**4) + B.z*(2*q0*q2 + 2*q1*q3)/(q0**4 + 2*q0**2*q1**2 + 2*q0**2*q2**2 + 2*q0**2*q3**2 + q1**4 + 2*q1**2*q2**2 + 2*q1**2*q3**2 + q2**4 + 2*q2**2*q3**2 + q3**4)],\n",
       "[B.x*(2*q0*q3 + 2*q1*q2)/(q0**4 + 2*q0**2*q1**2 + 2*q0**2*q2**2 + 2*q0**2*q3**2 + q1**4 + 2*q1**2*q2**2 + 2*q1**2*q3**2 + q2**4 + 2*q2**2*q3**2 + q3**4) + B.y*(q0**2 - q1**2 + q2**2 - q3**2)/(q0**4 + 2*q0**2*q1**2 + 2*q0**2*q2**2 + 2*q0**2*q3**2 + q1**4 + 2*q1**2*q2**2 + 2*q1**2*q3**2 + q2**4 + 2*q2**2*q3**2 + q3**4) + B.z*(-2*q0*q1 + 2*q2*q3)/(q0**4 + 2*q0**2*q1**2 + 2*q0**2*q2**2 + 2*q0**2*q3**2 + q1**4 + 2*q1**2*q2**2 + 2*q1**2*q3**2 + q2**4 + 2*q2**2*q3**2 + q3**4)],\n",
       "[B.x*(-2*q0*q2 + 2*q1*q3)/(q0**4 + 2*q0**2*q1**2 + 2*q0**2*q2**2 + 2*q0**2*q3**2 + q1**4 + 2*q1**2*q2**2 + 2*q1**2*q3**2 + q2**4 + 2*q2**2*q3**2 + q3**4) + B.y*(2*q0*q1 + 2*q2*q3)/(q0**4 + 2*q0**2*q1**2 + 2*q0**2*q2**2 + 2*q0**2*q3**2 + q1**4 + 2*q1**2*q2**2 + 2*q1**2*q3**2 + q2**4 + 2*q2**2*q3**2 + q3**4) + B.z*(q0**2 - q1**2 - q2**2 + q3**2)/(q0**4 + 2*q0**2*q1**2 + 2*q0**2*q2**2 + 2*q0**2*q3**2 + q1**4 + 2*q1**2*q2**2 + 2*q1**2*q3**2 + q2**4 + 2*q2**2*q3**2 + q3**4)]])"
      ]
     },
     "execution_count": 139,
     "metadata": {},
     "output_type": "execute_result"
    }
   ],
   "source": [
    "Q.transformation_from_parent()"
   ]
  },
  {
   "cell_type": "code",
   "execution_count": 115,
   "id": "c1472266-f40b-48f8-a5d8-a1202db37d1a",
   "metadata": {
    "tags": []
   },
   "outputs": [
    {
     "data": {
      "text/plain": [
       "True"
      ]
     },
     "execution_count": 115,
     "metadata": {},
     "output_type": "execute_result"
    }
   ],
   "source": [
    "import numpy as np\n",
    "A1 = np.matrix([1,2,3])\n",
    "A2 = np.matrix([4,5,6])\n",
    "np.dot(A1,A2.T) == 1*4 + 2*5 + 3*6\n",
    "np.cross(A1,A2) == np.matrix([2*6 - 5*3, 3*4 -1*6, 1*5 - 2*4])\n",
    "\n",
    "a1 = np.array([1,2,3])\n",
    "a2 = np.array([4,5,6])\n",
    "np.dot(a1,a2) == 1*4 + 2*5 + 3*6\n",
    "np.cross(a1,a2) == [2*6 - 5*3, 3*4 -1*6, 1*5 - 2*4]\n",
    "\n",
    "c1 = np.array([1+2j,7+8j])\n",
    "c2 = np.array([3+4j,5+6j])\n",
    "# np.vdot(c1,c2) \\iff \\conj{c1} \\dot c2\n",
    "np.vdot(c1,c2) == np.conj(c1) * c2\n",
    "np.dot(c1,c2) == c1*c2\n",
    "np.dot(c1,c2)  == (1*3 - 2*4 + 7*5 - 8*6)+(1*4j + 2*3j + 7*6j + 5*8j)\n",
    "np.cross(c1,c2) == (1+2j)*(5+6j) - (7+8j)*(3+4j)"
   ]
  },
  {
   "cell_type": "code",
   "execution_count": 133,
   "id": "86ef454d-8815-4a03-b52a-6c4db6496389",
   "metadata": {},
   "outputs": [
    {
     "data": {
      "text/plain": [
       "{C1: C1.i, C2: C2.i}"
      ]
     },
     "execution_count": 133,
     "metadata": {},
     "output_type": "execute_result"
    }
   ],
   "source": [
    "import sympy as sm\n",
    "import sympy.vector\n",
    "C1 = sm.vector.CoordSys3D('C1')\n",
    "C2 = sm.vector.CoordSys3D('C2')\n",
    "x,y,z,u1,u2,u3,v1,v2,v3 = sm.symbols('x y z u1:4 v1:4')\n",
    "u = sm.Matrix([u1,u2,u3])\n",
    "v = sm.Matrix([v1,v2,u3])\n",
    "sm.vector.dot(u,v)\n",
    "u.dot(v)\n",
    "\n",
    "sm.vector.cross(u,v)\n",
    "u.cross(v)\n",
    "\n",
    "u.project(v)\n",
    "v = C1.i + C2.i\n",
    "v.separate()"
   ]
  },
  {
   "cell_type": "code",
   "execution_count": 13,
=======
   "execution_count": 77,
>>>>>>> 02d1d2c (asus):matplotlib/Terms/vector/vector1.ipynb
   "id": "138e9766-fa6c-4d2e-9c02-057d9ad15348",
   "metadata": {},
   "outputs": [
    {
     "data": {
      "text/plain": [
       "True"
      ]
     },
     "execution_count": 78,
     "metadata": {},
     "output_type": "execute_result"
    }
   ],
<<<<<<< HEAD:matplotlib/Terms/vector/vector.ipynb
   "source": []
=======
   "source": [
    "import numpy as np\n",
    "a = np.array([1,2,3])\n",
    "b = np.array([7,8,9])\n",
    "# product of np.array\n",
    "a+b, a*b\n",
    "np.dot(a,b)\n",
    "np.cross(a,b)\n",
    "# Norm of a np.array\n",
    "np.linalg.norm(a) == np.sqrt(np.dot(a,a))\n",
    "np.dot(a,b)/np.linalg.norm(b) == np.dot(a,b)/np.sqrt(np.dot(b,b))\n",
    "\n",
    "import sympy as sm\n",
    "t,x,y,z,u1,u2,u3,v1,v2,v3 = sm.symbols('t x y z u_1 u_2 u_3 v_1 v_2 v_3')\n",
    "A = sm.Matrix([u1,u2,u3])\n",
    "B = sm.Matrix([v1,v2,u3])\n",
    "# Matrix\n",
    "A+B, A.dot(B), A.cross(B),\n",
    "A*B.T\n",
    "\n",
    "#Vector\n",
    "B = sm.vector.CoordSys3D('B')\n",
    "u = x*B.i + y*B.j + z*B.k\n",
    "v = x*B.i + y*B.j + z*B.k\n",
    "u = u.subs({x:2*t,y:3*t,z:2*t})\n",
    "v = v.subs({x:2*t,y:2*t,z:1*t})\n",
    "u.dot(v)\n",
    "u.cross(v)\n",
    "u.to_matrix(B)*v.to_matrix(B).T\n",
    "\n",
    "# Proj_{vec{u}} (\\vec{v})\n",
    "(v.dot(u)/sm.sqrt(u.dot(u)))*(u/sm.sqrt(u.dot(u))) == u.projection(v).doit()\n",
    "sm.vector.matrix_to_vector(A,B)"
   ]
>>>>>>> 02d1d2c (asus):matplotlib/Terms/vector/vector1.ipynb
  },
  {
   "cell_type": "code",
   "execution_count": 69,
   "id": "c0a47e13-fc11-4867-adb4-1db306da9747",
   "metadata": {},
   "outputs": [
    {
     "data": {
      "text/latex": [
       "$\\displaystyle (\\frac{24 t}{17})\\mathbf{\\hat{i}_{B}} + (\\frac{36 t}{17})\\mathbf{\\hat{j}_{B}} + (\\frac{24 t}{17})\\mathbf{\\hat{k}_{B}}$"
      ],
      "text/plain": [
       "24*t/17*B.i + 36*t/17*B.j + 24*t/17*B.k"
      ]
     },
     "execution_count": 69,
     "metadata": {},
     "output_type": "execute_result"
    }
   ],
   "source": []
  },
  {
   "cell_type": "markdown",
   "id": "ec94e05f-b430-4098-aa5f-90bd023620f6",
   "metadata": {},
   "source": [
    "## Addition and Multiplication\n",
    "> ## dot product\n",
    ">> ## $ \\vec{v} \\cdot \\vec{u} = ||\\vec{v}||\\: ||\\vec{u}||\\: cos(\\theta)$\n",
    "> ## cross product\n",
    ">> ## $ \\vec{v} \\times \\vec{u} = ||\\vec{v}||\\: ||\\vec{u}||\\: sin(\\theta)\\: \\hat{k}$\n",
    "> ## dyad product\n",
    ">> ## $ \\vec{v} \\otimes \\vec{u}$"
   ]
  },
  {
   "cell_type": "markdown",
   "id": "69505e97-9f8f-4145-a264-ff051f21b3b5",
   "metadata": {},
   "source": [
    "> ## Length of vectors\n",
    ">> ## norm\n",
    ">>> ## $||\\vec{v}||$"
   ]
  },
  {
   "cell_type": "markdown",
   "id": "1acc80b6-3ac3-488f-8963-a32f64c6fb8a",
   "metadata": {},
   "source": [
    "> ## Projection \n",
    ">> ## $$ proj_v(u) = \\frac{\\vec{u}\\cdot \\vec{v}}{||\\vec{v}||^2} = ||\\vec{u}||\\:cos(\\theta)$$"
   ]
  },
  {
   "cell_type": "code",
   "execution_count": 28,
   "id": "65e3642e-e167-44e1-ab79-68e0eef20aa2",
   "metadata": {},
   "outputs": [
    {
     "data": {
      "text/plain": [
       "50"
      ]
     },
     "execution_count": 28,
     "metadata": {},
     "output_type": "execute_result"
    }
   ],
   "source": []
  }
 ],
 "metadata": {
  "kernelspec": {
   "display_name": "Python 3 (ipykernel)",
   "language": "python",
   "name": "python3"
  },
  "language_info": {
   "codemirror_mode": {
    "name": "ipython",
    "version": 3
   },
   "file_extension": ".py",
   "mimetype": "text/x-python",
   "name": "python",
   "nbconvert_exporter": "python",
   "pygments_lexer": "ipython3",
   "version": "3.9.7"
  }
 },
 "nbformat": 4,
 "nbformat_minor": 5
}
