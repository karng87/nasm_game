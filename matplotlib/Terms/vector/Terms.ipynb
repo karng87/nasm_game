{
 "cells": [
  {
   "cell_type": "markdown",
   "id": "25582eed-20b5-46b4-9020-03c4ff8f6f20",
   "metadata": {},
   "source": [
    "# i.e\n",
    "> that is\n",
    ">> id est,\n",
    "\n",
    "# e.g\n",
    "> for example\n",
    ">> exempli gratia in Latin\n",
    "\n",
    "# s.t\n",
    "> such that\n",
    "\n",
    "# wrt\n",
    "> with respect to\n",
    "\n",
    "# iff\n",
    "> if and only if "
   ]
  },
  {
   "cell_type": "code",
   "execution_count": null,
   "id": "402b27c7-7d80-46d6-a16e-2e1d5e9a43b7",
   "metadata": {},
   "outputs": [],
   "source": [
    "# bases\n",
    "> 기본 축\n",
    "\n",
    "# scale factors (normalize)\n",
    "> scale\n",
    ">> 저울, 규모\n",
    "> factor\n",
    ">> 인수, \n",
    ">>> 2,3 is factor where 6 = 2 * 3 \n",
    "> scale factor\n",
    ">> 축척\n"
   ]
  }
 ],
 "metadata": {
  "kernelspec": {
   "display_name": "Python 3 (ipykernel)",
   "language": "python",
   "name": "python3"
  },
  "language_info": {
   "codemirror_mode": {
    "name": "ipython",
    "version": 3
   },
   "file_extension": ".py",
   "mimetype": "text/x-python",
   "name": "python",
   "nbconvert_exporter": "python",
   "pygments_lexer": "ipython3",
   "version": "3.9.7"
  }
 },
 "nbformat": 4,
 "nbformat_minor": 5
}
