{
 "cells": [
  {
   "cell_type": "code",
   "execution_count": 2,
   "id": "2642872f-f4c5-4268-99b3-88d960ec7ec1",
   "metadata": {},
   "outputs": [],
   "source": [
    "import sympy as sm\n",
    "x = sm.symbols('x')"
   ]
  },
  {
   "cell_type": "markdown",
   "id": "ec17ea3c-3529-4a4d-9bf4-449468917075",
   "metadata": {},
   "source": [
    "# Derivatives\n",
    "> ## $ \\frac{d}{dx}(\\frac{1+sinn\\,x}{1-cos\\,x})^2 $"
   ]
  },
  {
   "cell_type": "code",
   "execution_count": 7,
   "id": "703b89a3-b0b1-4241-9174-587435cf60ac",
   "metadata": {},
   "outputs": [
    {
     "data": {
      "text/latex": [
       "$\\displaystyle \\frac{\\cos{\\left(x \\right)}}{\\left(1 - \\cos{\\left(x \\right)}\\right)^{2}} - \\frac{2 \\left(\\sin{\\left(x \\right)} + 1\\right) \\sin{\\left(x \\right)}}{\\left(1 - \\cos{\\left(x \\right)}\\right)^{3}}$"
      ],
      "text/plain": [
       "cos(x)/(1 - cos(x))**2 - 2*(sin(x) + 1)*sin(x)/(1 - cos(x))**3"
      ]
     },
     "execution_count": 7,
     "metadata": {},
     "output_type": "execute_result"
    }
   ],
   "source": [
    "sm.diff((1+sm.sin(x)) / (1 - sm.cos(x))**2,x)"
   ]
  },
  {
   "cell_type": "markdown",
   "id": "26b8a5be-e3d3-4518-86ac-03aa770b6770",
   "metadata": {},
   "source": [
    ">  ## $\n",
    "\\frac{d}{dx}(log_5(x))^{x/2}\n",
    "$"
   ]
  },
  {
   "cell_type": "code",
   "execution_count": 11,
   "id": "c77b2b0e-6664-4503-9a15-f9eac95bb508",
   "metadata": {},
   "outputs": [
    {
     "data": {
      "text/latex": [
       "$\\displaystyle \\left(\\frac{\\log{\\left(x \\right)}}{\\log{\\left(5 \\right)}}\\right)^{\\frac{x}{2}} \\left(\\frac{\\log{\\left(\\frac{\\log{\\left(x \\right)}}{\\log{\\left(5 \\right)}} \\right)}}{2} + \\frac{1}{2 \\log{\\left(x \\right)}}\\right)$"
      ],
      "text/plain": [
       "(log(x)/log(5))**(x/2)*(log(log(x)/log(5))/2 + 1/(2*log(x)))"
      ]
     },
     "execution_count": 11,
     "metadata": {},
     "output_type": "execute_result"
    }
   ],
   "source": [
    "sm.diff(sm.log(x,5)**(x/2),x)"
   ]
  },
  {
   "cell_type": "markdown",
   "id": "61f80f19-210e-42df-a9da-64b383e3537b",
   "metadata": {},
   "source": [
    "> ## $ \n",
    "\\frac{d}{dx}f(x+g(x)) \\\\\n",
    "c.f \\quad \\xi ,\\, \\Xi \\to xi\n",
    "$"
   ]
  },
  {
   "cell_type": "code",
   "execution_count": 18,
   "id": "d8012b7c-914d-4923-b48c-66c2f5c6caa7",
   "metadata": {},
   "outputs": [
    {
     "data": {
      "text/latex": [
       "$\\displaystyle \\left(\\frac{d}{d x} g{\\left(x \\right)} + 1\\right) \\left. \\frac{d}{d \\xi_{1}} f{\\left(\\xi_{1} \\right)} \\right|_{\\substack{ \\xi_{1}=x + g{\\left(x \\right)} }}$"
      ],
      "text/plain": [
       "(Derivative(g(x), x) + 1)*Subs(Derivative(f(_xi_1), _xi_1), _xi_1, x + g(x))"
      ]
     },
     "execution_count": 18,
     "metadata": {},
     "output_type": "execute_result"
    }
   ],
   "source": [
    "f,g = sm.symbols('f g',cls=sm.Function)\n",
    "g = g(x)\n",
    "f = f(x + g)\n",
    "sm.diff(f,x)"
   ]
  },
  {
   "cell_type": "markdown",
   "id": "68529492-9c22-4d99-a5ee-203f8ad3fdfa",
   "metadata": {},
   "source": [
    "# Basic AntiDerivative\n",
    "> ## $ \\int csc(x)cot(x)dx$"
   ]
  },
  {
   "cell_type": "code",
   "execution_count": 22,
   "id": "71a0a9b8-2517-4213-93d2-ac272af5518e",
   "metadata": {},
   "outputs": [
    {
     "data": {
      "text/latex": [
       "$\\displaystyle - \\frac{1}{\\sin{\\left(x \\right)}}$"
      ],
      "text/plain": [
       "-1/sin(x)"
      ]
     },
     "execution_count": 22,
     "metadata": {},
     "output_type": "execute_result"
    }
   ],
   "source": [
    "sm.integrate(sm.csc(x)*sm.cot(x),x)"
   ]
  },
  {
   "cell_type": "markdown",
   "id": "c436d0f2-8888-4fb2-a196-2c4528067ba4",
   "metadata": {},
   "source": [
    "> ## $\n",
    "\\int 4sec(3x)tan(3x)dx\n",
    "$"
   ]
  },
  {
   "cell_type": "code",
   "execution_count": 25,
   "id": "afdb422c-cc34-48d4-b413-f278131795e5",
   "metadata": {},
   "outputs": [
    {
     "data": {
      "text/latex": [
       "$\\displaystyle \\frac{4}{3 \\cos{\\left(3 x \\right)}}$"
      ],
      "text/plain": [
       "4/(3*cos(3*x))"
      ]
     },
     "execution_count": 25,
     "metadata": {},
     "output_type": "execute_result"
    }
   ],
   "source": [
    "sm.integrate(4*sm.sec(3*x)*sm.tan(3*x),x)"
   ]
  },
  {
   "cell_type": "code",
   "execution_count": null,
   "id": "10cc3f67-ac8c-4fb1-9f86-89918432e166",
   "metadata": {},
   "outputs": [],
   "source": []
  }
 ],
 "metadata": {
  "kernelspec": {
   "display_name": "Python 3 (ipykernel)",
   "language": "python",
   "name": "python3"
  },
  "language_info": {
   "codemirror_mode": {
    "name": "ipython",
    "version": 3
   },
   "file_extension": ".py",
   "mimetype": "text/x-python",
   "name": "python",
   "nbconvert_exporter": "python",
   "pygments_lexer": "ipython3",
   "version": "3.9.7"
  }
 },
 "nbformat": 4,
 "nbformat_minor": 5
}
