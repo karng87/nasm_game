{
 "cells": [
  {
   "cell_type": "code",
   "execution_count": 128,
   "id": "e5bc640c-6bc1-48ca-b6d0-c557bcf0f3e1",
   "metadata": {},
   "outputs": [
    {
     "data": {
      "text/latex": [
       "$\\displaystyle (5)\\mathbf{\\hat{k}_{N}}$"
      ],
      "text/plain": [
       "5*N.k"
      ]
     },
     "execution_count": 128,
     "metadata": {},
     "output_type": "execute_result"
    },
    {
     "data": {
      "application/vnd.jupyter.widget-view+json": {
       "model_id": "ce58427296ec4d3286bc828a7e6b0528",
       "version_major": 2,
       "version_minor": 0
      },
      "text/html": [
       "\n",
       "            <div style=\"display: inline-block;\">\n",
       "                <div class=\"jupyter-widgets widget-label\" style=\"text-align: center;\">\n",
       "                    Figure\n",
       "                </div>\n",
       "                <img src='data:image/png;base64,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' width=640.0/>\n",
       "            </div>\n",
       "        "
      ],
      "text/plain": [
       "Canvas(toolbar=Toolbar(toolitems=[('Home', 'Reset original view', 'home', 'home'), ('Back', 'Back to previous …"
      ]
     },
     "metadata": {},
     "output_type": "display_data"
    }
   ],
   "source": [
    "import sympy as sm\n",
    "import sympy.vector\n",
    "N = sm.vector.CoordSys3D('N')\n",
    "v = 3*N.i + N.j\n",
    "w = N.i + 2*N.j\n",
    "import matplotlib.pyplot as plt\n",
    "%matplotlib widget\n",
    "fig = plt.figure()\n",
    "ax = fig.add_subplot()\n",
    "ax.grid()\n",
    "ax.spines[['left','bottom']].set_position('zero')\n",
    "ax.set_aspect('equal')\n",
    "ax.set_xlim(xmin=-2,xmax=5)\n",
    "ax.set_ylim(ymin=-2,ymax=5)\n",
    "ax.quiver(0,0,3,1,scale=1,units='xy')\n",
    "ax.quiver(0,0,-1,3,scale=1,units='xy')\n",
    "ax.annotate(\"B'(3,1)\",(2.2,1.1))\n",
    "ax.quiver(0,0,1,2,scale=1,units='xy')\n",
    "ax.quiver(0,0,2,-1,scale=1,units='xy')\n",
    "ax.annotate('A(1,2)',(0.6,2.1))\n",
    "ax.annotate(\"A'(0,0)\",(0.2,-0.3))\n",
    "ax.quiver(0,0,4,3,scale=1,units='xy')\n",
    "ax.annotate('B(4,3)',(4.1,3))\n",
    "ax.annotate('C(4,2)',(4.2,2))\n",
    "ax.annotate(\"C'(3,0)\",(3.1,0.1))\n",
    "ax.annotate(\"D(3,3)\",(2.8,3.1))\n",
    "ax.annotate(\"D'(0,2)\",(-0.8,1.7))\n",
    "ax.plot([1,4],[2,2],color='r')\n",
    "ax.plot([1,4],[2,3],color='r')\n",
    "ax.plot([4,4],[2,3],color='r')\n",
    "ax.plot([3,3],[0,1],color='r')\n",
    "ax.plot([0,3],[0,0],color='r')\n",
    "\n",
    "ax.plot([3,4],[1,3],color='b')\n",
    "ax.plot([3,4],[3,3],color='b')\n",
    "ax.plot([0,0],[0,2],color='b')\n",
    "ax.plot([0,1],[2,2],color='b')\n",
    "ax.plot([3,3],[2,3],color='b')\n",
    "ax.plot([3,3],[1,2],color='k')\n",
    "v.cross(w)"
   ]
  },
  {
   "cell_type": "markdown",
   "id": "0a7dfd20-513b-4701-829d-561752ee29e3",
   "metadata": {},
   "source": [
    "# $ \\begin{vmatrix} a & b \\\\ c & d \\end{vmatrix} \\iff ad -bc = 5 $ \n",
    "# $ \\begin{vmatrix} 3 & 1 \\\\ 1 & 2 \\end{vmatrix} \\iff ad -bc = 5 $ \n",
    "> ### $\n",
    "\\triangle ABC \\equiv \\triangle A'B'C' \\\\\n",
    "\\triangle DBB' \\equiv \\triangle D'AA'\n",
    "$"
   ]
  },
  {
   "cell_type": "code",
   "execution_count": 131,
   "id": "a56d87e9-4a6d-4f50-8370-7b5b1c548e81",
   "metadata": {},
   "outputs": [],
   "source": [
    "#%%javascript\n",
    "#MathJax.Hub.Config({\n",
    "#    TeX: { equationNumbers: { autoNumber: \"AMS\" } }\n",
    "#});"
   ]
  },
  {
   "cell_type": "markdown",
   "id": "9c1eda66-713b-487c-9127-3df9880f0501",
   "metadata": {},
   "source": [
    "# 1 by 1 determinat\n",
    "> ### $\n",
    "ax = b \\\\\n",
    "x = \\frac{b}{a}\n",
    "$\n",
    "# 2 by 2 determinant\n",
    "> ### $\n",
    "\\begin{align}\n",
    "& ax + by = u  \\label{eq1}\\tag{1}\\\\\n",
    "& cx + dy = v  \\label{eq2}\\tag{2}\\\\\n",
    "& adx + bdy = ud & \\eqref{eq1} \\times d \\label{eq3}\\tag{3}\\\\\\\n",
    "& bcx + bdy = bv & \\eqref{eq2} \\times b \\label{eq4}\\tag{4}\\\\\n",
    "& (ad - bc)x = ud - bv & \\eqref{eq3} - \\eqref{eq4} \\\\\n",
    "\\therefore x = \\frac{ud - bv}{ad - bc} & \\\\\n",
    "\\end{align}\n",
    "$\n",
    "> ### 행교환 $\\iff$ 부호가 바뀜\n",
    ">> ### $\n",
    "cx + dy = v \\\\\n",
    "ax + by = u \\\\\n",
    "x = \\frac{bv - ud}{bc - ad}\n",
    "$"
   ]
  },
  {
   "cell_type": "markdown",
   "id": "8d11a51b-0c69-4047-b170-48dcd5c808b3",
   "metadata": {
    "tags": []
   },
   "source": [
    "# 3 by 3 determinant\n",
    "> ### $ \n",
    "a_1x + b_1y + c_1z = u\\\\\n",
    "a_2x + b_2y + c_2z = v\\\\\n",
    "a_3x + b_3y + c_3z = w\\\\\n",
    "\\therefore \n",
    "|A| = det(A)$\n",
    ">> ### $$\n",
    "x = \n",
    "\\frac{\n",
    "u\\begin{vmatrix}b_2 & c_2 \\\\ b_3 & c_3\\end{vmatrix} - \n",
    "v\\begin{vmatrix}b_1 & c_1 \\\\ b_3 & c_3\\end{vmatrix} +\n",
    "w\\begin{vmatrix}b_1 & c_1 \\\\ b_2 & c_2\\end{vmatrix}\n",
    "}\n",
    "{\n",
    "a_1\\begin{vmatrix}b_2 & c_2 \\\\ b_3 & c_3\\end{vmatrix} - \n",
    "a_2\\begin{vmatrix}b_1 & c_1 \\\\ b_3 & c_3\\end{vmatrix} +\n",
    "a_3\\begin{vmatrix}b_1 & c_1 \\\\ b_2 & c_2\\end{vmatrix}\n",
    "}\n",
    "$$"
   ]
  },
  {
   "cell_type": "markdown",
   "id": "4a1478ff-360b-4902-843a-9b66d8a30a4d",
   "metadata": {},
   "source": []
  },
  {
   "cell_type": "code",
   "execution_count": null,
   "id": "0e8868d4-ecc7-4706-b65e-851204723e34",
   "metadata": {},
   "outputs": [],
   "source": []
  }
 ],
 "metadata": {
  "kernelspec": {
   "display_name": "Python 3 (ipykernel)",
   "language": "python",
   "name": "python3"
  },
  "language_info": {
   "codemirror_mode": {
    "name": "ipython",
    "version": 3
   },
   "file_extension": ".py",
   "mimetype": "text/x-python",
   "name": "python",
   "nbconvert_exporter": "python",
   "pygments_lexer": "ipython3",
   "version": "3.9.9"
  }
 },
 "nbformat": 4,
 "nbformat_minor": 5
}
