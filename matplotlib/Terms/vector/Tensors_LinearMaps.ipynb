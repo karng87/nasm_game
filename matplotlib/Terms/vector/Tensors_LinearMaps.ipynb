{
 "cells": [
  {
   "cell_type": "markdown",
   "id": "91303b00-fde2-4283-8175-24a5700c9668",
   "metadata": {},
   "source": [
    "# [Linear Maps](https://www.youtube.com/watch?v=dtvM-CzNe50&list=PLJHszsWbB6hrkmmq57lX8BV-o-YIOFsiG&index=10)\n",
    "### transform input vectors , don't transform the basis.\n",
    "- keep gridlines parallel\n",
    "- keep gridlines evenly spaced\n",
    "- keep the origin stationary\n",
    "- translations are not linear maps\n",
    "- Maps vectors to vectors $ L:V \\to W$\n",
    "- Linearity \n",
    "\n",
    "> ### - Coordinate Definition(arrays)\n",
    ">> ### Matirx\n",
    ">>> ### are the coordinate version of linear maps\n",
    ">>> ### transform column vectors\n",
    ">> ### Column Vectors\n",
    ">>> ### Vectors\n",
    ">> ### Row Vectors\n",
    ">>> ### Covectors\n",
    "> ### - Geometric Definition(pictures)\n",
    "> ### - Abstact Definition(algebra)"
   ]
  },
  {
   "cell_type": "code",
   "execution_count": null,
   "id": "26ce59da-0f81-4027-a585-b6a7ac9ebffd",
   "metadata": {},
   "outputs": [],
   "source": []
  },
  {
   "cell_type": "markdown",
   "id": "bab0f5d5-52e4-4d15-a49b-6300d43761d3",
   "metadata": {},
   "source": [
    "> ### $ \\quad L: V \\to V \\quad \\{\\vec{e_1}, \\vec{e_2}\\}$ \n",
    ">> ### $\\vec{W} = L(\\vec{v}) = L(v^1 \\vec{e_1} + v^2 \\vec{e_2}) = v^1 L(\\vec{e_1}) + v^2 L(\\vec{e_2})$\n",
    ">>> ### $ L(\\vec{e_1}) = L_{1}^{1} \\vec{e_1} + L_{1}^{2} \\vec{e_2}$   \n",
    ">>> ### $ L(\\vec{e_2}) = L_{2}^{1} + L_{2}^{2} \\vec{e_2}$"
   ]
  },
  {
   "cell_type": "markdown",
   "id": "a27b93b8-dc5b-4f95-92db-5ad5cfdb9f63",
   "metadata": {},
   "source": [
    "> ### $\\vec{W} = L(\\vec{v}) \\\\\n",
    "= v^1(L_{1}^{1}\\vec{e_1} + L_{1}^{2} \\vec{e_2}) +\n",
    " v^2(L_{2}^{1}\\vec{e_1} + L_{2}^{2} \\vec{e_2}) \\\\\n",
    "= (L_{1}^{1}v^1 + L_{2}^{1} {v^2})\\vec{e_1} +\n",
    " (L_{1}^{2}{v^1} + L_{2}^{2} {v^2}) \\vec{e_2} \\\\\n",
    "= w^1 \\vec{e_1} + w^2 \\vec{e_2}$"
   ]
  },
  {
   "cell_type": "markdown",
   "id": "7b864c3c-675a-4bb0-8508-e54f61df9423",
   "metadata": {},
   "source": [
    "> ### $\\therefore w^1 = L_{1}^{1} v^1 + L_{2}^{1} v^2 $\n",
    "> ### $\\therefore w^2 = L_{1}^{2} v^1 + L_{2}^{2} v^2 $\n",
    "> ### $\\therefore w^i = \\sum_{j=1}^{n} L_{j}^{i} v^j $\n",
    "> ### $\\therefore \\vec{w} = L(\\vec{v}) = \\sum_{i=1}^{n}w^i \\vec{e_i}$\n",
    "> ### $\\therefore L(\\vec{e_i}) = \\sum_{j=1}^{n}L_{i}^{j}\\vec{e_j}$"
   ]
  },
  {
   "cell_type": "code",
   "execution_count": 46,
   "id": "b483718d-e291-4bf3-9bb8-06460d552bd4",
   "metadata": {},
   "outputs": [
    {
     "data": {
      "text/latex": [
       "$\\displaystyle \\left[\\begin{matrix}\\left[\\begin{matrix}2 x & x\\\\0 & - x\\end{matrix}\\right] & \\left[\\begin{matrix}2 y & y\\\\0 & - y\\end{matrix}\\right]\\\\\\left[\\begin{matrix}2 z & z\\\\0 & - z\\end{matrix}\\right] & \\left[\\begin{matrix}2 t & t\\\\0 & - t\\end{matrix}\\right]\\end{matrix}\\right]$"
      ],
      "text/plain": [
       "[[[[2*x, x], [0, -x]], [[2*y, y], [0, -y]]], [[[2*z, z], [0, -z]], [[2*t, t], [0, -t]]]]"
      ]
     },
     "execution_count": 46,
     "metadata": {},
     "output_type": "execute_result"
    }
   ],
   "source": [
    "import sympy as sm\n",
    "x,y,z,t = sm.symbols('x y z t')\n",
    "A = sm.Array([[x,y],[z,t]])\n",
    "B = sm.Array([[2,1],[0,-1]])\n",
    "sm.tensorproduct(A,B)"
   ]
  },
  {
   "cell_type": "code",
   "execution_count": 44,
   "id": "1e812556-d5ee-43eb-b3ea-d44cf57c2a72",
   "metadata": {},
   "outputs": [
    {
     "data": {
      "text/latex": [
       "$\\displaystyle \\left[\\begin{matrix}\\left[\\begin{matrix}x^{2} & x y\\\\x z & t x\\end{matrix}\\right] & \\left[\\begin{matrix}x y & y^{2}\\\\y z & t y\\end{matrix}\\right]\\\\\\left[\\begin{matrix}x z & y z\\\\z^{2} & t z\\end{matrix}\\right] & \\left[\\begin{matrix}t x & t y\\\\t z & t^{2}\\end{matrix}\\right]\\end{matrix}\\right]$"
      ],
      "text/plain": [
       "[[[[x**2, x*y], [x*z, t*x]], [[x*y, y**2], [y*z, t*y]]], [[[x*z, y*z], [z**2, t*z]], [[t*x, t*y], [t*z, t**2]]]]"
      ]
     },
     "execution_count": 44,
     "metadata": {},
     "output_type": "execute_result"
    }
   ],
   "source": [
    "sm.tensorproduct(A,A)"
   ]
  },
  {
   "cell_type": "code",
   "execution_count": null,
   "id": "ebd2877a-07cd-4628-b4b5-1ddca24eb4b7",
   "metadata": {},
   "outputs": [],
   "source": []
  }
 ],
 "metadata": {
  "kernelspec": {
   "display_name": "Python 3 (ipykernel)",
   "language": "python",
   "name": "python3"
  },
  "language_info": {
   "codemirror_mode": {
    "name": "ipython",
    "version": 3
   },
   "file_extension": ".py",
   "mimetype": "text/x-python",
   "name": "python",
   "nbconvert_exporter": "python",
   "pygments_lexer": "ipython3",
   "version": "3.9.7"
  }
 },
 "nbformat": 4,
 "nbformat_minor": 5
}
