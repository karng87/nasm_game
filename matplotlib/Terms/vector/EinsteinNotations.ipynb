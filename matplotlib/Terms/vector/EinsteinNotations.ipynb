{
 "cells": [
  {
   "cell_type": "markdown",
   "id": "9f470028-be46-46d3-839d-9c32b72b4df3",
   "metadata": {},
   "source": [
    "---\n",
    "# Einstein Notation\n",
    "> ### $a_i, a^i$ (a super i), $(i = \\text{ index}) $\n",
    ">> ### Lots of expressions involve sumation over particular indices.\n",
    ">> ### $$ \\sum_{i=1}^{3} a_{i} x_{i} = a_1x_1 + a_2x_2 + a_3x_3 \\iff a_{i}x_{i}$$"
   ]
  },
  {
   "cell_type": "markdown",
   "id": "f6741507-32ca-487b-ac1d-58884c45e9b7",
   "metadata": {},
   "source": [
    "> ### Rule 1:\n",
    ">> ### Any twice-repeated index in a single term is summed over, Index = 1,2,...,n Typically n =3.\n",
    ">>> ### $a_{ij}b{j} = a_{i1}b_{1} + a_{i2}b_{2} + a{i3}b){3} = a_{ir}b_{r}: $\n",
    ">>>> ### j is dummy index\n",
    ">>>> ### i is free index\n",
    "> ## dummy index $\\iff$ can replace it with any index\n",
    ">> ### Not already in the expression\n",
    ">> ### that is over the same range\n",
    "\n",
    "> ## free index $\\iff$ can take an any value that j takes on e.g i = 1,2,3 but only ONE value\n",
    ">> ## occurs only once in the exoression and can not be replaced by another free index\n",
    ">>> ### $ a_{ij}b_{j} \\neq a_{kj}b{j}$"
   ]
  },
  {
   "cell_type": "markdown",
   "id": "d4aa9df8-0817-44c6-bc4f-495596e20c7b",
   "metadata": {},
   "source": [
    "> ## Rule 2 : definitions of indices\n",
    "> ## Rule 3:\n",
    ">> ### No index may occur 3 or more times on a given term.\n",
    "> ### $ \n",
    "a_{ij}b_{ij} \\to \\text{ right} \\\\\n",
    "a_{ii}b{ij}, \\quad a_{ij}b_{jj} \\to \\text{worng} \\\\\n",
    "a_{j}^{j} : \\text{ j is a dummy index} \\\\\n",
    "a_{i}^{jj} \\to \\text{ i = free, j = dummy}$\n",
    "> ## in Multiple terms\n",
    ">> ### $a_{ij}b_{j} + a_{ji}b{j} \\to \\text{ right: index counter resets after each term}$\n",
    ">>> ### j is dummy index in both terms"
   ]
  },
  {
   "cell_type": "markdown",
   "id": "6e48d3e5-77c7-42a8-9783-2491489fe561",
   "metadata": {
    "tags": []
   },
   "source": [
    "# Rule 4:\n",
    "> ### In equation involving Einsein notation, \n",
    ">> ### the free indices on both sides must match.\n",
    ">> ### $\n",
    "x_{i} = a_{ij}b{j} \\to \\text{ free: i = free: i} \\\\\n",
    "a_{i} = A_{ki}B_{kj}x_{j} + C_{ik}u{k} \\to \\text{ free: i = free: i, dummy: j,k} \\\\\n",
    "$\n",
    ">> ### Wrong \n",
    ">>> ### $\n",
    "x_{i} = A_{ij} \\to \\text{ free:i = free: i,j} \\\\\n",
    "x{j} = A{ik}u{k} \\to \\text{ free:j = free: i} \\\\\n",
    "x_{i} = A_{ik}u_{k} + C_{j} \\to \\text{ free:i = free:i,j}\n",
    "$"
   ]
  },
  {
   "cell_type": "markdown",
   "id": "e86ce384-e364-4fa7-a01a-467f9117d424",
   "metadata": {},
   "source": [
    "# Brackets in Einstein Notaion\n",
    "> ### $ a_{ij}(b_{i} + c_{j} + d{k})$\n",
    ">> ### step 1: combine terms oustside parentheses with each term inside parentheses separately\n",
    ">>> ### $ a_{ij} b_{i} \\to \\text{ i: 2, j: 1} \\\\\n",
    "a_{ij} c_{j} \\to \\text{ i: 1, j: 2} \\\\\n",
    "a_{ij}d_{k} \\to \\text{ i: 1, j: 1, k:1} \\\\\n",
    "\\therefore \\text{ total = i: 2, j: 2, k:1 } \\\\\n",
    "\\therefore \\text{ i,j is dummy index, k is free index}\n",
    "$"
   ]
  },
  {
   "cell_type": "markdown",
   "id": "98c6fb3d-9a78-43ab-979b-780062e6d971",
   "metadata": {},
   "source": [
    "# Kronecker Delta\n",
    "> ### $\\delta_{ij} \\equiv \\delta_{j}^{i} \\equiv \\delta^{ij} \\equiv \\begin{cases} 1, & i=j \\\\ 0,& i \\neq j\\end{cases}$"
   ]
  },
  {
   "cell_type": "markdown",
   "id": "cf1136c5-1ba3-47a9-9494-e807a1156584",
   "metadata": {},
   "source": [
    "# Linear Transformations:\n",
    "> ### $ C \\overset{\\text{linear}}{\\underset{\\text{transformation}}{\\longrightarrow}} C' \\\\\n",
    "\\vec{x'} = L\\vec{x}, \\quad L \\text{ is transformation matrix}$\n",
    ">> Linear Transformations map lines to lines \n"
   ]
  },
  {
   "cell_type": "markdown",
   "id": "26580ff1-a1b5-45ec-8c4e-cfdcc5ef8a94",
   "metadata": {},
   "source": [
    "# General Transformations\n",
    "> ### bijective transformation\n",
    ">> ### is one-to-one\n",
    ">>> ### every x in the original coordinate system corresponds to a unique x' in the image coordinate system and every x' in image coordinate system corresponds tto a unique x in the original coordinate system.\n",
    "> ### $\n",
    "\\vec{x}' = T(\\vec{x}) \\quad x'_i = T_i(x_1, x_2, ... , x_n)\\\\\n",
    "\\text{If T is linear, the } x'_{i} \\text{ coordinate system is called affine coordinate system.}\\\\\n",
    "\\text{If T is nonlinear, the } x'_{i} \\text{ coordinate system is called a set of curvilinear coordinate system. (e.g. polar, cylindrical, spherical)}\\\\\n",
    "$ "
   ]
  },
  {
   "cell_type": "markdown",
   "id": "0cc3829d-0e37-4183-8fdb-97053867af2f",
   "metadata": {},
   "source": [
    "# Chain Rule Partial Derivative\n",
    "> ### Suppose $ w = f(u_1, u_2,..., u_n)$, \n",
    "where $u_i = u_i(x_1, x_2, ..., x_n)$ , \n",
    "i is an integer index from 1 to n\n",
    ">> ### $\\frac{\\partial w}{\\partial x_j} = \n",
    "\\frac{\\partial f}{\\partial u_1} \\frac{\\partial u_1}{\\partial x_j} +  \n",
    "\\frac{\\partial f}{\\partial u_2} \\frac{\\partial u_2}{\\partial x_j} +  ... +\n",
    "\\frac{\\partial f}{\\partial u_n} \\frac{\\partial u_n}{\\partial x_j}\n",
    "$\n",
    "> ### Einstein Notation\n",
    ">> ### $ \\frac{\\partial w}{\\partial x_j} = \\frac{\\partial f}{\\partial u_i} \\frac{\\partial u_i}{\\partial x_j}$"
   ]
  },
  {
   "cell_type": "markdown",
   "id": "8e607ff4-bc92-4d4e-9d47-d20832ddaff3",
   "metadata": {},
   "source": [
    "# Coordinate Transformation for Tensors\n",
    "> ## New Notaion\n",
    ">> ### A vector in $\\mathbb{R}^n$\n",
    ">>> ### $\\vec{PG} = \\vec{x} = \\begin{bmatrix}x^1 \\\\ x^2 \\\\ \\vdots \\\\ x^n \\end{bmatrix}$\n",
    ">>> ### $A = ( a^1, a^2, \\cdots, a^n) $"
   ]
  },
  {
   "cell_type": "markdown",
   "id": "44df764c-61c5-4cc8-a221-e9b042cdc9b3",
   "metadata": {},
   "source": [
    "# Rectangular Coordinates\n",
    "> ### $ \\sqrt{(x^1 - y^1)^2 + (x^2 - y^2)^2 + ...} = \n",
    "\\sqrt{\\delta_{ij} \\Delta x^i \\Delta x^j }\\\\\n",
    "\\quad \\text{ where } \\Delta x^i = x^i - y^i$"
   ]
  },
  {
   "cell_type": "markdown",
   "id": "50f3c048-3ee5-474a-ba62-b50fdeda6ea8",
   "metadata": {
    "tags": []
   },
   "source": [
    "# Polar Coordinate system\n",
    "\n",
    "> ### $ P: (x^1,x^2), \\quad \\text{where, }\\quad x^1, x^2 \\text{ is rectangular coordinates} \\\\ \n",
    "\\left.\\begin{aligned}\\bar{x}^1 &= \\sqrt{(x^{1})^2 + (x^{2})^2} \\\\\n",
    "\\bar x^2 &= atan(\\frac{x^2}{x^1}) \\end{aligned} \\quad \\right \\} T_p$\n",
    "\n",
    "> ### $ \\left.\\begin{aligned} x^1 &= \\bar{x}^{1}cos(\\bar{x}^{2}) \\\\\n",
    "x^2 & = \\bar{x}^{1}sin(\\bar{x}^{2}) \\end{aligned} \\quad \\right \\} T_p^{-1}$\n",
    "\n",
    "> ### $ T_p $ is a curvilinear coordinate transformation"
   ]
  },
  {
   "cell_type": "markdown",
   "id": "c59ba1b7-987f-4e5d-b70b-e83a1d79421a",
   "metadata": {
    "tags": []
   },
   "source": [
    "# Cylindrical Coordinate System\n",
    "> ### $ P:(x^1, x^2, x^3) $ - rectangular coordinates\n",
    ">> ### $ \\left.\n",
    "\\begin{aligned}\n",
    "\\bar{x^1} &= \\sqrt{(x^1)^2 + (x^2)^2} \\\\\n",
    "\\bar{x^2} &= atan(\\frac{x^2}{x^1})\\\\\n",
    "\\bar{x^3} &= x^3 \\end{aligned} \\quad \\right \\} T_c$"
   ]
  },
  {
   "cell_type": "code",
   "execution_count": 194,
   "id": "195dcdac-98c6-43d4-bffd-cfbe646465e4",
   "metadata": {},
   "outputs": [],
   "source": [
    "# Shperical Coordinate system"
   ]
  },
  {
   "cell_type": "markdown",
   "id": "7162affc-f153-45b1-b108-574fc76acfe7",
   "metadata": {},
   "source": [
    "# Curvilinear Coordiante\n",
    "> ### suppose\n",
    ">> ### $P$ is a point in a coordiante system($x^i$)  in $\\mathbb R^n$ given by $P:(x^1, x^2,...,x^n)$\n",
    ">> ### $(\\bar{x}^i)$ is another coordiante system  in $\\mathbb R^n$ such that the coordinates of $P$ in this system are $P:(\\bar{x}^1,\\bar{x}^2,...,\\bar{x}^n)$\n",
    "\n",
    ">> ### $\\text{suppose that } \\bar{x}^i = \\bar{x}^i(x^1, x^2,...,x^n)\\big\\} F \\text{ is a transformation.}$\n",
    ">>> ### - If the function $ \\bar x^i (x^1, x^2, ..., x^n)$ are all real-value, have continuous 2nd partial derivatives everywhere, and are all invertible, then $F$ is called a coordinate transformation}"
   ]
  },
  {
   "cell_type": "code",
   "execution_count": 61,
   "id": "17ccdc5a-f301-4c67-a9f5-7d2262ed74c1",
   "metadata": {},
   "outputs": [
    {
     "data": {
      "text/plain": [
       "(P.r*cos(P.theta), P.r*sin(P.theta), P.z)"
      ]
     },
     "execution_count": 61,
     "metadata": {},
     "output_type": "execute_result"
    }
   ],
   "source": [
    "# polar coordinate system\n",
    "import sympy as sm\n",
    "import sympy.vector\n",
    "N = sm.vector.CoordSys3D('R')\n",
    "P = N.create_new('P', transformation='cylindrical')\n",
    "P.base_scalars()\n",
    "P.transformation_to_parent()"
   ]
  },
  {
   "cell_type": "markdown",
   "id": "a70fb09c-1a7f-4ca9-b673-ce9720f88413",
   "metadata": {},
   "source": [
    "# [Jacobian](https://www.youtube.com/watch?v=kzKQUVNEPhc&list=PL0q7DjoZohFuMRNxE9nvU16nx607cRGxI)\n",
    "> ### Suppose that $\\bar{x}^i = \\bar{x}^i(x^1, x^2,...,x^n) $"
   ]
  },
  {
   "cell_type": "code",
   "execution_count": 189,
   "id": "354aa290-0a18-4727-bf57-fd58f59d41d7",
   "metadata": {},
   "outputs": [
    {
     "data": {
      "text/latex": [
       "$\\displaystyle 0.75$"
      ],
      "text/plain": [
       "0.750000000000000"
      ]
     },
     "execution_count": 189,
     "metadata": {},
     "output_type": "execute_result"
    }
   ],
   "source": [
    "# a(1,2,0)\n",
    "a = N.i + 2*N.j\n",
    "a.to_matrix(N)\n",
    "# b(-1,1,0)\n",
    "b = -1*N.i + N.j\n",
    "b.to_matrix(N)\n",
    "\n",
    "M = sm.vector.CoordSys3D('M')\n",
    "\n",
    "# am(2,2,0)\n",
    "am = 2*M.i + 2*M.j\n",
    "# bm(0,2,0)\n",
    "bm = 2*M.j\n",
    "am.cross(bm)\n",
    "a.cross(b)\n",
    "# Foreward Matrix(N.e -> M.e)\n",
    "l = N.i + 1/2*N.j\n",
    "m = -1/2*N.i + 1/2*N.j\n",
    "mm = m.to_matrix(N)\n",
    "lm = l.to_matrix(N)\n",
    "\n",
    "F = sm.Matrix([\n",
    "    [1,1/2,0],\n",
    "    [-1/2,1/2,0],\n",
    "    [0,0,1]])\n",
    "F*am.to_matrix(M)\n",
    "# Backward Matrix(M.e -> N.e)\n",
    "B = F.inv()\n",
    "B*a.to_matrix(N) == am.to_matrix(M)\n",
    "\n",
    "# area\n",
    "da = a.cross(b).subs(N.k,1) / am.cross(bm).subs(M.k,1)\n",
    "F.det()"
   ]
  },
  {
   "cell_type": "code",
   "execution_count": 193,
   "id": "e53f589e-bde9-4190-8116-ac573e862e1f",
   "metadata": {},
   "outputs": [
    {
     "data": {
      "text/latex": [
       "$\\displaystyle CoordSys3D\\left(P, cylindrical, CoordSys3D\\left(N, \\left( \\left[\\begin{matrix}1 & 0 & 0\\\\0 & 1 & 0\\\\0 & 0 & 1\\end{matrix}\\right], \\  \\mathbf{\\hat{0}}\\right)\\right)\\right)$"
      ],
      "text/plain": [
       "P"
      ]
     },
     "execution_count": 193,
     "metadata": {},
     "output_type": "execute_result"
    }
   ],
   "source": [
    "# Jacobian 2 Polar CoordSys3D\n",
    "P = N.create_new('P',transformation='cylindrical')\n",
    "P"
   ]
  },
  {
   "cell_type": "markdown",
   "id": "014bff64-ee75-467b-bd57-6d9aee3aecfd",
   "metadata": {},
   "source": [
    "# Jacobian Matrix\n",
    "> ## $ \n",
    "J = \n",
    "\\begin{bmatrix} \n",
    "\\frac{\\partial f}{\\partial x_{1}} \\cdots \\frac{\\partial f}{\\partial x_{n}}\n",
    "\\end{bmatrix}\n",
    "= \n",
    "\\begin{bmatrix} \n",
    "\\nabla^{T}f_{1} \\\\ \\vdots \\\\ \\nabla^{T}f_{m}\n",
    "\\end{bmatrix}\n",
    "=\n",
    "\\begin{bmatrix} \n",
    "\\frac{\\partial f_{1}}{\\partial x_{1}} & \\cdots & \\frac{\\partial f_{1}}{\\partial x_{n}} \\\\\n",
    "\\vdots & \\ddots & \\vdots  \\\\\n",
    "\\frac{\\partial f_{m}}{\\partial x_{1}} & \\cdots & \\frac{\\partial f_{m}}{\\partial x_{n}}\n",
    "\\end{bmatrix}\n",
    "$\n",
    ">> ## gradient at f(p)\n",
    "$\n",
    "\\nabla f(p) = \n",
    "\\begin{bmatrix} \n",
    "\\frac{\\partial f}{\\partial x_{1}}(p) \\\\ \\vdots \\\\ \\frac{\\partial f}{\\partial x_{n}}(p)\n",
    "\\end{bmatrix}\n",
    "$\n",
    "\n",
    "# jacobian \n",
    "> ### $ J \\equiv \\text{ det J}$"
   ]
  },
  {
   "cell_type": "code",
   "execution_count": null,
   "id": "653be788-9311-4693-88b3-279b045f0a46",
   "metadata": {},
   "outputs": [],
   "source": [
    "# Variant\n",
    "> ### Contravariant Tensors\n",
    "\n",
    "> ### Covariant Tensors"
   ]
  },
  {
   "cell_type": "code",
   "execution_count": 197,
   "id": "f9361836-b325-4a5c-a524-1b0d2c232b75",
   "metadata": {},
   "outputs": [
    {
     "data": {
      "text/latex": [
       "$\\displaystyle CoordSys3D\\left(N, \\left( \\left[\\begin{matrix}1 & 0 & 0\\\\0 & 1 & 0\\\\0 & 0 & 1\\end{matrix}\\right], \\  \\mathbf{\\hat{0}}\\right)\\right)$"
      ],
      "text/plain": [
       "N"
      ]
     },
     "execution_count": 197,
     "metadata": {},
     "output_type": "execute_result"
    }
   ],
   "source": [
    "N"
   ]
  },
  {
   "cell_type": "code",
   "execution_count": null,
   "id": "442c8b77-4e3a-4316-b472-a39b9775ddae",
   "metadata": {},
   "outputs": [],
   "source": []
  }
 ],
 "metadata": {
  "kernelspec": {
   "display_name": "Python 3 (ipykernel)",
   "language": "python",
   "name": "python3"
  },
  "language_info": {
   "codemirror_mode": {
    "name": "ipython",
    "version": 3
   },
   "file_extension": ".py",
   "mimetype": "text/x-python",
   "name": "python",
   "nbconvert_exporter": "python",
   "pygments_lexer": "ipython3",
   "version": "3.9.7"
  }
 },
 "nbformat": 4,
 "nbformat_minor": 5
}
