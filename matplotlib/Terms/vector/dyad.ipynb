{
 "cells": [
  {
   "cell_type": "markdown",
   "id": "e80e1205-7c05-489f-b6ad-7373385c6076",
   "metadata": {},
   "source": [
    "# [Dyad Product](https://blog.naver.com/mykepzzang/221468071984)\n",
    "## 2nd order tensor\n",
    "> Vector (1st order tensor)\n",
    ">> $ a = a_1e_1 + a_2 e_2 + a_3 e_3 \\dots$\n",
    ">\n",
    ">> unit vecor $ e_1=(1,0,0), e_2=(0,1,0), e_3=(0,0,1)$\n",
    "\n",
    "> Dyad (2nd order tensor)\n",
    ">> $ A = \\begin{cases}\n",
    "A_{11}e_1 e_1 + A_{12} e_1e_2 + A_{13}e_1 e_3 & + \\\\\n",
    "A_{21}e_2 e_1 + A_{22} e_2e_2 + A_{23}e_2 e_3 & +  \\\\\n",
    "A_{31}e_3 e_1 + A_{32} e_3e_2 + A_{23}e_3 e_3\n",
    "\\end{cases}\n",
    "$\n",
    ">\n",
    ">> Unit dyad $\n",
    "\\begin{cases} \n",
    "e_1\\,e_1 &=& \\begin{pmatrix} 1 \\\\ 0 \\\\ 0 \\end{pmatrix}\n",
    "(1 & 0 & 0) &= \n",
    "\\begin{pmatrix} \n",
    "1 && 0 && 0 \\\\\n",
    "0 && 0 && 0 \\\\\n",
    "0 && 0 && 0 \\\\\n",
    "\\end{pmatrix} \\\\\n",
    "e_1\\,e_2 &=& \\begin{pmatrix} 1 \\\\ 0 \\\\ 0 \\end{pmatrix}\n",
    "(0 & 1 & 0) &= \n",
    "\\begin{pmatrix} \n",
    "0 && 1 && 0 \\\\\n",
    "0 && 0 && 0 \\\\\n",
    "0 && 0 && 0 \\\\\n",
    "\\end{pmatrix} \\\\\n",
    "e_1\\,e_3 &=& \\begin{pmatrix} 1 \\\\ 0 \\\\ 0 \\end{pmatrix}\n",
    "(0 & 0 & 1) &= \n",
    "\\begin{pmatrix} \n",
    "0 && 0 && 1 \\\\\n",
    "0 && 0 && 0 \\\\\n",
    "0 && 0 && 0 \\\\\n",
    "\\end{pmatrix} \\\\\n",
    "e_2\\,e_1 &=& \\begin{pmatrix} 0 \\\\ 1 \\\\ 0 \\end{pmatrix}\n",
    "(1 & 0 & 0) &= \n",
    "\\begin{pmatrix} \n",
    "0 && 0 && 0 \\\\\n",
    "1 && 0 && 0 \\\\\n",
    "0 && 0 && 0 \\\\\n",
    "\\end{pmatrix} \\\\\n",
    "e_2\\,e_2 &=& \\begin{pmatrix} 0 \\\\ 1 \\\\ 0 \\end{pmatrix}\n",
    "(0 & 1 & 0) &= \n",
    "\\begin{pmatrix} \n",
    "0 && 0 && 0 \\\\\n",
    "0 && 1 && 0 \\\\\n",
    "0 && 0 && 0 \\\\\n",
    "\\end{pmatrix} \\\\\n",
    "e_2\\,e_3 &=& \\begin{pmatrix} 0 \\\\ 1 \\\\ 0 \\end{pmatrix}\n",
    "(0 & 0 & 1) &= \n",
    "\\begin{pmatrix} \n",
    "0 && 0 && 0 \\\\\n",
    "0 && 0 && 1 \\\\\n",
    "0 && 0 && 0 \\\\\n",
    "\\end{pmatrix} \\\\\n",
    "e_3\\,e_1 &=& \\begin{pmatrix} 0 \\\\ 0 \\\\ 1 \\end{pmatrix}\n",
    "(1 & 0 & 0) &= \n",
    "\\begin{pmatrix} \n",
    "0 && 0 && 0 \\\\\n",
    "0 && 0 && 0 \\\\\n",
    "1 && 0 && 0 \\\\\n",
    "\\end{pmatrix} \\\\\n",
    "e_3\\,e_2 &=& \\begin{pmatrix} 0 \\\\ 0 \\\\ 1 \\end{pmatrix}\n",
    "(0 & 1 & 0) &= \n",
    "\\begin{pmatrix} \n",
    "0 && 0 && 0 \\\\\n",
    "0 && 0 && 0 \\\\\n",
    "0 && 1 && 0 \\\\\n",
    "\\end{pmatrix} \\\\\n",
    "e_3\\,e_3 &=& \\begin{pmatrix} 0 \\\\ 0 \\\\ 1 \\end{pmatrix}\n",
    "(0 & 0 & 1) &= \n",
    "\\begin{pmatrix} \n",
    "0 && 0 && 0 \\\\\n",
    "0 && 0 && 0 \\\\\n",
    "0 && 0 && 1 \\\\\n",
    "\\end{pmatrix} \\\\\n",
    "\\end{cases}\n",
    "$\n",
    ">\n",
    "> ## $$ \\begin{align}\n",
    "T  = T_{ij} e_i e_j = \\sum_{i\\to1}^3 \\, \\sum_{j\\to 1}^3 \\, T_{ij} \\, e_i \\, e_j \\end{align}$$"
   ]
  },
  {
   "cell_type": "markdown",
   "id": "ca8bbc91-a547-42f8-ba26-91f50b135039",
   "metadata": {},
   "source": [
    "# Gradient($\\nabla u$)\n",
    "> is 2nd order tensor\n",
    ">> ### $\\nabla = \\frac{\\partial u_j}{\\partial x_i} \\, e_i e_j $"
   ]
  },
  {
   "cell_type": "code",
   "execution_count": 5,
   "id": "4e876f56-4bae-41ad-b958-fb0d7bf6e95e",
   "metadata": {},
   "outputs": [
    {
     "data": {
      "text/latex": [
       "$\\displaystyle (\\mathbf{\\hat{i}_{}}{|}\\mathbf{\\hat{j}_{}})$"
      ],
      "text/plain": [
       "(.i|.j)"
      ]
     },
     "execution_count": 5,
     "metadata": {},
     "output_type": "execute_result"
    }
   ],
   "source": [
    "import sympy as sm\n",
    "import sympy.vector\n",
    "C = sm.vector.CoordSys3D('')\n",
    "\n",
    "C.i.cross(C.j)\n",
    "C.i.outer(C.j)"
   ]
  },
  {
   "cell_type": "code",
   "execution_count": 8,
   "id": "8d8e6da1-1b91-4336-a3c4-9b733806e737",
   "metadata": {},
   "outputs": [
    {
     "data": {
      "text/latex": [
       "$\\displaystyle (\\mathbf{\\hat{i}_{}}{|}\\mathbf{\\hat{i}_{}}) - (\\mathbf{\\hat{i}_{}}{|}\\mathbf{\\hat{j}_{}})$"
      ],
      "text/plain": [
       "(.i|.i) + (-1)*(.i|.j)"
      ]
     },
     "execution_count": 8,
     "metadata": {},
     "output_type": "execute_result"
    }
   ],
   "source": [
    "C.i.outer(C.i) -  C.i.outer(C.j)"
   ]
  },
  {
   "cell_type": "code",
   "execution_count": 109,
   "id": "5f49166c-16a1-4132-985c-affd954500b4",
   "metadata": {},
   "outputs": [
    {
     "data": {
      "text/plain": [
       "(0, 0, 0)"
      ]
     },
     "execution_count": 109,
     "metadata": {},
     "output_type": "execute_result"
    }
   ],
   "source": [
    "theta,x,y,z = sm.symbols('theta x y z')\n",
    "C = sm.vector.CoordSys3D('C') \n",
    "\n",
    "M = C.locate_new('N', 3*C.i +4*C.j + 5*C.k)\n",
    "\n",
    "N = C.orient_new('N', sm.vector.AxisOrienter(theta,C.k))\n",
    "\n",
    "M.position_wrt(C)\n",
    "M.origin.express_coordinates(C)\n",
    "\n",
    "N.position_wrt(C)\n",
    "N.origin.express_coordinates(C)"
   ]
  },
  {
   "cell_type": "code",
   "execution_count": 96,
   "id": "f423e73f-60b7-4a9b-80af-6d63901b0864",
   "metadata": {},
   "outputs": [
    {
     "data": {
      "text/latex": [
       "$\\displaystyle (\\mathbf{{y}_{C}} \\mathbf{{z}_{C}})\\mathbf{\\hat{i}_{C}} + (\\mathbf{{x}_{C}} \\mathbf{{z}_{C}})\\mathbf{\\hat{j}_{C}} + (\\mathbf{{x}_{C}} \\mathbf{{y}_{C}})\\mathbf{\\hat{k}_{C}}$"
      ],
      "text/plain": [
       "C.y*C.z*C.i + C.x*C.z*C.j + C.x*C.y*C.k"
      ]
     },
     "execution_count": 96,
     "metadata": {},
     "output_type": "execute_result"
    }
   ],
   "source": [
    "# Nabla (Del)operator(mathmatical notaion)\n",
    "dl = sm.vector.Del()\n",
    "dl(C.x * C.y * C.z).doit()"
   ]
  },
  {
   "cell_type": "code",
   "execution_count": 101,
   "id": "82ef2f1b-3c28-4868-89de-959140cf11d6",
   "metadata": {},
   "outputs": [
    {
     "data": {
      "text/latex": [
       "$\\displaystyle (\\mathbf{{x}_{C}} \\mathbf{{y}_{C}})\\mathbf{\\hat{j}_{C}} + (- \\mathbf{{x}_{C}} \\mathbf{{z}_{C}})\\mathbf{\\hat{k}_{C}}$"
      ],
      "text/plain": [
       "C.x*C.y*C.j + (-C.x*C.z)*C.k"
      ]
     },
     "execution_count": 101,
     "metadata": {},
     "output_type": "execute_result"
    }
   ],
   "source": [
    "# Curl\n",
    "dlx = sm.vector.Del()\n",
    "dlx.cross(C.x * C.y * C.z * C.i).doit()\n",
    "                                "
   ]
  },
  {
   "cell_type": "code",
   "execution_count": 106,
   "id": "945ae652-93c3-4b70-876f-43cf409b6f89",
   "metadata": {},
   "outputs": [
    {
     "data": {
      "text/latex": [
       "$\\displaystyle \\operatorname{Poly}{\\left( \\sin{\\left(\\theta \\right)}, \\sin{\\left(\\theta \\right)}, domain=\\mathbb{Z} \\right)}$"
      ],
      "text/plain": [
       "Poly((sin(theta)), sin(theta), domain='ZZ')"
      ]
     },
     "execution_count": 106,
     "metadata": {},
     "output_type": "execute_result"
    }
   ],
   "source": [
    "sm.poly(sm.sin(theta)).doit()"
   ]
  },
  {
   "cell_type": "code",
   "execution_count": 115,
   "id": "1c9ee85f-f12f-49e8-9a00-88417357ed90",
   "metadata": {},
   "outputs": [
    {
     "ename": "TypeError",
     "evalue": "'f' object is not callable",
     "output_type": "error",
     "traceback": [
      "\u001b[0;31m---------------------------------------------------------------------------\u001b[0m",
      "\u001b[0;31mTypeError\u001b[0m                                 Traceback (most recent call last)",
      "\u001b[0;32m/tmp/ipykernel_9264/3076414911.py\u001b[0m in \u001b[0;36m<module>\u001b[0;34m\u001b[0m\n\u001b[1;32m      1\u001b[0m \u001b[0mf\u001b[0m \u001b[0;34m=\u001b[0m \u001b[0msm\u001b[0m\u001b[0;34m.\u001b[0m\u001b[0msymbols\u001b[0m\u001b[0;34m(\u001b[0m\u001b[0;34m'f'\u001b[0m\u001b[0;34m,\u001b[0m \u001b[0mcls\u001b[0m\u001b[0;34m=\u001b[0m\u001b[0msm\u001b[0m\u001b[0;34m.\u001b[0m\u001b[0mFunction\u001b[0m\u001b[0;34m)\u001b[0m\u001b[0;34m\u001b[0m\u001b[0;34m\u001b[0m\u001b[0m\n\u001b[1;32m      2\u001b[0m \u001b[0mf\u001b[0m \u001b[0;34m=\u001b[0m \u001b[0mf\u001b[0m\u001b[0;34m(\u001b[0m\u001b[0mx\u001b[0m\u001b[0;34m,\u001b[0m\u001b[0my\u001b[0m\u001b[0;34m,\u001b[0m\u001b[0mz\u001b[0m\u001b[0;34m)\u001b[0m\u001b[0;34m\u001b[0m\u001b[0;34m\u001b[0m\u001b[0m\n\u001b[0;32m----> 3\u001b[0;31m \u001b[0mf\u001b[0m\u001b[0;34m(\u001b[0m\u001b[0mx\u001b[0m\u001b[0;34m,\u001b[0m\u001b[0my\u001b[0m\u001b[0;34m,\u001b[0m\u001b[0mz\u001b[0m\u001b[0;34m)\u001b[0m\u001b[0;34m.\u001b[0m\u001b[0mseries\u001b[0m\u001b[0;34m(\u001b[0m\u001b[0;34m)\u001b[0m\u001b[0;34m\u001b[0m\u001b[0;34m\u001b[0m\u001b[0m\n\u001b[0m",
      "\u001b[0;31mTypeError\u001b[0m: 'f' object is not callable"
     ]
    }
   ],
   "source": [
    "f = sm.symbols('f', cls=sm.Function)"
   ]
  },
  {
   "cell_type": "code",
   "execution_count": null,
   "id": "56ae6889-4c56-4622-97aa-64c40ee43ca6",
   "metadata": {},
   "outputs": [],
   "source": []
  }
 ],
 "metadata": {
  "kernelspec": {
   "display_name": "Python 3 (ipykernel)",
   "language": "python",
   "name": "python3"
  },
  "language_info": {
   "codemirror_mode": {
    "name": "ipython",
    "version": 3
   },
   "file_extension": ".py",
   "mimetype": "text/x-python",
   "name": "python",
   "nbconvert_exporter": "python",
   "pygments_lexer": "ipython3",
   "version": "3.9.7"
  }
 },
 "nbformat": 4,
 "nbformat_minor": 5
}
