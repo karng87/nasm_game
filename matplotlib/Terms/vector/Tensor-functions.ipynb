{
 "cells": [
  {
   "cell_type": "markdown",
   "id": "3140fdd1-13f1-4783-9486-ce1531dea42a",
   "metadata": {},
   "source": [
    "# Matrix product\n",
    "> ### $ A_{ij} B_{jk} = (AB)_{ik}$\n",
    "> ### dummy index\n",
    ">> ### 모든 term에서 인덱스 치환이 동시에 일어난다, 한 term에서 인덱스변수가 반드시 두번 등장한다.\n",
    "> ### free index\n",
    ">> ### 한 term에서 한번만 존재하는 인덱스 변수 이다."
   ]
  },
  {
   "cell_type": "markdown",
   "id": "80434a62-fee7-4c00-bfb0-f91d265a8ee0",
   "metadata": {
    "tags": []
   },
   "source": [
    "# KroneckerDelta tensor(Unit tensor)\n",
    "> ## Indentity of tensor\n",
    ">> ## $\\begin{bmatrix} 1 & 0 & 0 \\\\ 0 & 1 & 0 \\\\ 0 & 0 & 1 \\end{bmatrix}$\n",
    ">> ### $\\delta_{ij} \\begin{cases}\n",
    "1 & i = j \\\\\n",
    "0 & i \\neq j \\\\\n",
    "\\end{cases} $\n",
    ">> ### $ \\delta_{ij} = \\delta_{ji} $\n",
    ">> ### $ \\delta_{jj} = \\sum_{j=1}^{n=3}\\delta_{jj} = \\delta_{11} + \\delta_{22} + \\delta_{33} = 3$\n",
    ">> ### $ \\delta_{ij}\\delta_{jk} \n",
    "= \\sum_{j=1}^{n=3}\\delta_{ij}\\delta_{jk} \n",
    "= \\delta_{i1}\\delta_{1k} + \\delta_{i2}\\delta_{2k} + \\delta_{i3}\\delta_{3k} \n",
    "= \\delta_{ik}$\n",
    ">> ### $\n",
    "\\delta_{ij}v_{j} = \\sum_{j=1}^{n=3}\\delta_{ij}v_{j} = \\delta_{i1}v_{1} + \\delta_{i2}v_{2} + \\delta_{i3}v_{3}\\\\\n",
    "\\begin{cases} \n",
    "i =  1 & \\delta_{11}v_{1} + \\delta_{12}v_{2} + \\delta_{13}v_{3}  = v_{1} \\\\\n",
    "i =  2 & \\delta_{21}v_{1} + \\delta_{22}v_{2} + \\delta_{23}v_{3}  = v_{2} \\\\\n",
    "i =  3 & \\delta_{31}v_{1} + \\delta_{32}v_{2} + \\delta_{33}v_{3}  = v_{3} \\\\\n",
    "\\therefore v_{i}\n",
    "\\end{cases}$\n",
    "\n",
    ">> ### $\n",
    "\\delta_{ij}M_{jk} = \\sum_{j=1}^{n=3}\\delta_{ij}M_{jk} = \\delta_{i1}M_{1k} + \\delta_{i2}M_{2k} + \\delta_{i3}M_{3k}\\\\\n",
    "\\begin{cases} \n",
    "i =  1 & \\delta_{11}M_{1k} + \\delta_{12}M_{2k} + \\delta_{13}M_{3k}  = M_{1k} \\\\\n",
    "i =  2 & \\delta_{21}M_{1k} + \\delta_{22}M_{2k} + \\delta_{23}M_{3k}  = M_{2k} \\\\\n",
    "i =  3 & \\delta_{31}M_{1k} + \\delta_{32}M_{2k} + \\delta_{33}M_{3k}  = M_{3k} \\\\\n",
    "\\therefore M_{ik}\n",
    "\\end{cases}$"
   ]
  },
  {
   "cell_type": "markdown",
   "id": "fff2b6ab-4d65-4d0f-843a-165863bb9f00",
   "metadata": {},
   "source": [
    "---\n",
    "> # $$\\vec{a} \\cdot  \\vec{b}\n",
    "= \\sum_{i=1}^{3}\\sum_{j=1}^{3}\\delta_{ij}A^{i}B^{j}\n",
    "= \\delta_{ij}A^{i}B^{j}\n",
    "$$"
   ]
  },
  {
   "cell_type": "code",
   "execution_count": 46,
   "id": "e185e2ac-fb4a-455a-a8a6-51e6011beada",
   "metadata": {},
   "outputs": [
    {
     "data": {
      "text/latex": [
       "$\\displaystyle \\sum_{Idx\\left(i\\right)=1}^{2} {a}_{Idx\\left(i\\right)}$"
      ],
      "text/plain": [
       "Sum(a[i], (i, 1, 2))"
      ]
     },
     "execution_count": 46,
     "metadata": {},
     "output_type": "execute_result"
    }
   ],
   "source": [
    "# KroneckerDelta tensor = unit tensor\n",
    "import sympy as sm\n",
    "import sympy.vector\n",
    "sm.KroneckerDelta(i,i+1)\n",
    "sm.KroneckerDelta(i,i)\n",
    "B = sm.vector.CoordSys3D('B')\n",
    "a = 2*B.i + 3*B.j + B.k\n",
    "A = a.to_matrix(B)\n",
    "b = B.i + 2*B.j + 3*B.k\n",
    "B= b.to_matrix(B)\n",
    "sm.Sum(sm.IndexedBase('a')[sm.symbols('i',cls=sm.Idx)],(i,1,2))"
   ]
  },
  {
   "cell_type": "markdown",
   "id": "27458566-fff2-4f0b-9238-7e302e8df269",
   "metadata": {},
   "source": [
    "# LeviCiviata tensor (permutaion symbol tensor)\n",
    "> ### epsilon tensor\n",
    "> ### altenative tensor\n",
    "> ### $ \\epsilon_{ijk} \\begin{cases}\n",
    "0 & i = j \\text{ or } j=k \\text{ or } k=j \\\\\n",
    "1 & (i,j,k) = (1,2,3),(2,3,1),(3,1,2) \\\\\n",
    "-1 & (i,j,k) = (1,3,2),(2,1,3),(3,2,1) \\\\\n",
    "\\end{cases}$\n",
    "> ### $\n",
    "(\\vec{a} \\times \\vec{b})_{i} = \\epsilon_{ijk}a_{j}b_{k}\n",
    "$\n",
    "> ### determinent\n",
    ">> ### $\n",
    "\\begin{align}\n",
    "\\begin{vmatrix}\n",
    "a_1 & a_2 & a_3 \\\\\n",
    "b_1 & b_2 & b_3 \\\\\n",
    "c_1 & c_2 & c_3 \\\\\n",
    "\\end{vmatrix} \n",
    "&= a_1b_2c_3 + a_2b_3c_1 + a_3b_1c_2 - a_1b_3c_2 - a_2b_1c_3 - a_3b_2c_1\n",
    "= \\sum_{i=1}^{3}\\sum_{j=1}^{3}\\sum_{k=1}^{3}\\epsilon_{ijk}a_{i}b_{j}c_{k}\n",
    "\\end{align}\n",
    "$\n",
    "> ### cross product\n",
    ">> ### $\n",
    "\\begin{align}\n",
    "\\begin{vmatrix}\n",
    "e_{1} & e_{2} & e_{3} \\\\\n",
    "A_{x_1} & A_{x_2} & A_{x_3} \\\\\n",
    "B_{x_1} & B_{x_2} & B_{x_3} \\\\\n",
    "\\end{vmatrix} \n",
    "&= e_1A_{x_2}B_{x_3} + e_2A_{x_3}B_{x_1} + e_3A_{x_1}B_{x_2} - e_1A_{x_3}B_{x_2} - e_2A_{x_1}B_{x_3} - e_3A_{x_2}B_{x_1}\n",
    "= \\sum_{i=1}^{3}\\sum_{j=1}^{3}\\sum_{k=1}^{3}\\epsilon_{ijk}e_{i}A_{x_{j}}B_{x_{k}}\n",
    "\\end{align}\n",
    "$"
   ]
  },
  {
   "cell_type": "markdown",
   "id": "fdaaee48-bb4d-470a-9b67-11fb9ecdd356",
   "metadata": {},
   "source": [
    "---\n",
    "> $$\n",
    "\\begin{align}\n",
    "\\vec{A} \\times \\vec{B} = \n",
    "\\begin{vmatrix}\n",
    "e_{1} & e_{2} & e_{3} \\\\\n",
    "A^1 & A^2 & A^3 \\\\\n",
    "B^1 & B^2 & B^3 \\\\\n",
    "\\end{vmatrix}\n",
    "&=\n",
    "\\begin{vmatrix}\n",
    "A^1 & A^2 & A^3 \\\\\n",
    "B^1 & B^2 & B^3 \\\\\n",
    "e_{1} & e_{2} & e_{3} \\\\\n",
    "\\end{vmatrix} \n",
    "= -\n",
    "\\begin{vmatrix}\n",
    "A^1 & A^2 & A^3 \\\\\n",
    "e_{1} & e_{2} & e_{3} \\\\\n",
    "B^1 & B^2 & B^3 \\\\\n",
    "\\end{vmatrix} \\\\\n",
    "&= e_1 A^2 B^3 + e_2 A^3 B^1 + e_3 A^1 B^2 - e_1 A^3 B^2 - e_2 A^1 B^3 - e_3 A^2 B^1\n",
    "\\\\ &= \\sum_{i=1}^{3} \\sum_{j=1}^{3} \\sum_{k=1}^{3} \\epsilon_{ijk} e_{i} A^{j} B^{k}\n",
    "\\\\ &= \\epsilon_{ijk} e_{i} A^{j} B^{k}\n",
    "\\\\ &= \\epsilon_{ijk} A^{i} B^{j} e_{k}\n",
    "\\end{align}\n",
    "$$"
   ]
  },
  {
   "cell_type": "markdown",
   "id": "7b68f6a5-76c9-4f74-bf47-bd33cddb9f86",
   "metadata": {},
   "source": [
    "---\n",
    "> ## $\n",
    "\\begin{align}\n",
    "\\big(\\vec{a} \\times \\vec{b}\\big) \\cdot \\vec{c}\n",
    "&= \\epsilon_{ijk} e_{i} A^{j} B^{k} \\cdot \\vec{C}\n",
    "\\\\ &= \\epsilon_{ijk} A^{i} B^{j} e_{k} \\cdot \\vec{C}\n",
    "\\\\ &= \\epsilon_{ijk} A^{i} B^{j} (e_{k} \\cdot C^{l}e_{l})\n",
    "\\\\ &= \\epsilon_{ijk} A^{i} B^{j} (e_{k} \\cdot e_{l})C^{l}\n",
    "\\\\ &= \\epsilon_{ijk} A^{i} B^{j} \\delta_{kl}C^{l}\n",
    "\\\\ &= \\epsilon_{ijk} A^{i} B^{j} C^{k}\n",
    "\\\\ \\therefore & \\text{ det}\\begin{bmatrix}A^i \\\\ B^i \\\\ C^i \\end{bmatrix}\n",
    "\\\\ \\therefore & \\text{ The volumn of } \\vec{a},\\vec{b},\\vec{c}\n",
    "\\end{align}\n",
    "$"
   ]
  },
  {
   "cell_type": "code",
   "execution_count": 21,
   "id": "96490c08-f5ba-46b0-aae0-96977ef56dfc",
   "metadata": {},
   "outputs": [
    {
     "data": {
      "text/latex": [
       "$\\displaystyle \\varepsilon_{i j k}$"
      ],
      "text/plain": [
       "LeviCivita(i, j, k)"
      ]
     },
     "execution_count": 21,
     "metadata": {},
     "output_type": "execute_result"
    }
   ],
   "source": [
    "# LeviCivita\n",
    "sm.LeviCivita(i,j,k)\n",
    "sm.LeviCivita(i,j,j)\n",
    "sm.LeviCivita(j,i,k)\n",
    "sm.Eijk(i,j,k)"
   ]
  },
  {
   "cell_type": "code",
   "execution_count": 55,
   "id": "98954a50-6feb-40dd-9919-1bbecec074c2",
   "metadata": {},
   "outputs": [
    {
     "data": {
      "text/latex": [
       "$\\displaystyle \\delta\\left(x\\right)$"
      ],
      "text/plain": [
       "DiracDelta(x)"
      ]
     },
     "execution_count": 55,
     "metadata": {},
     "output_type": "execute_result"
    }
   ],
   "source": [
    "# DirecDelta\n",
    "sm.DiracDelta(1)\n",
    "sm.DiracDelta(-1)\n",
    "sm.DiracDelta(0)\n",
    "sm.diff(sm.DiracDelta(x))\n",
    "sm.DiracDelta(x)"
   ]
  },
  {
   "cell_type": "code",
   "execution_count": 57,
   "id": "28d02030-9faa-40ff-9d8e-33780e295e0d",
   "metadata": {},
   "outputs": [
    {
     "data": {
      "text/latex": [
       "$\\displaystyle \\theta\\left(x\\right)$"
      ],
      "text/plain": [
       "Heaviside(x)"
      ]
     },
     "execution_count": 57,
     "metadata": {},
     "output_type": "execute_result"
    }
   ],
   "source": [
    "# Heaviside\n",
    "\n",
    "sm.Heaviside(-1)\n",
    "sm.Heaviside(1)\n",
    "sm.Heaviside(0)\n",
    "sm.diff(sm.Heaviside(x))\n",
    "sm.Heaviside(x)"
   ]
  },
  {
   "cell_type": "code",
   "execution_count": null,
   "id": "d5631399-1f0b-4761-b6ba-157963e2ccfd",
   "metadata": {},
   "outputs": [],
   "source": []
  }
 ],
 "metadata": {
  "kernelspec": {
   "display_name": "Python 3 (ipykernel)",
   "language": "python",
   "name": "python3"
  },
  "language_info": {
   "codemirror_mode": {
    "name": "ipython",
    "version": 3
   },
   "file_extension": ".py",
   "mimetype": "text/x-python",
   "name": "python",
   "nbconvert_exporter": "python",
   "pygments_lexer": "ipython3",
   "version": "3.9.9"
  }
 },
 "nbformat": 4,
 "nbformat_minor": 5
}
