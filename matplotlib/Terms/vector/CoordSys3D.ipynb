{
 "cells": [
  {
   "cell_type": "markdown",
   "id": "39e5152e-20f3-4704-8d1f-bcb7660871a4",
   "metadata": {
    "tags": []
   },
   "source": [
    "# origin\n",
    "> 기시점, 원점  \n",
    ">> 참조 point   \n",
    ">> reference point: one point를 중심으로 모든 대상을 상대적인 비율(거리)로 나타내려할때 그 중심 point \n",
    "\n",
    "# axis\n",
    "> 축\n",
    ">> 원점에 서있을때 정면 옆면 윗면방향으로 무한히 확장한 축\n",
    "\n",
    "# perspective\n",
    "> 관점.  \n",
    ">> 목적 대상(object)을 원점과의 상대적인 물리적인 관계로 상태(states)를 기술하는 방법\n",
    "\n",
    "# Scaling Factor\n",
    "> 축척\n",
    "\n",
    ">> line\n",
    ">>> 1D\n",
    "\n",
    ">> Area\n",
    ">>> Determinant = scaling factor for areas in matrix\n",
    "\n",
    ">> Volumn\n",
    ">>> corss product = scaling factor fo rarea in matix"
   ]
  },
  {
   "cell_type": "code",
   "execution_count": 9,
   "id": "43530c1f-b04f-4647-823f-85f0f7180be6",
   "metadata": {
    "tags": []
   },
   "outputs": [
    {
     "data": {
      "text/plain": [
       "True"
      ]
     },
     "execution_count": 9,
     "metadata": {},
     "output_type": "execute_result"
    }
   ],
   "source": [
    "# 직각좌표계\n",
    "import sympy as sm\n",
    "import sympy.vector\n",
    "\n",
    "### nabla operator = Del()\n",
    "###    sympy.vector.Del()\n",
    "nabla = sm.vector.Del()\n",
    "\n",
    "# 직각 좌표계\n",
    "B = sm.vector.CoordSys3D('')\n",
    "\n",
    "# 직각 좌표계의 base vector(i,j,k), base scalar(x,y,z)\n",
    "B.base_scalars(), B.base_vectors()\n",
    "\n",
    "# vector in i,j,k vector\n",
    "v1 = 1*B.i+2*B.j+3*B.k\n",
    "type(v1)\n",
    "\n",
    "v2 = 3*B.i+4*B.j+5*B.k\n",
    "type(v2)\n",
    "\n",
    "# scalar in x,y,z not a vector\n",
    "v0 = B.x + B.y + B.z\n",
    "type(v0)\n",
    "\n",
    "# to matrix of the Coordinate system,where, v is vector\n",
    "v1.to_matrix(B)\n",
    "\n",
    "v1.magnitude() == sm.sqrt(v1.dot(v1))\n",
    "v1.cross(v2)\n",
    "v1.normalize()\n",
    "\n",
    "### projection vector ###\n",
    "# v1.projection(v2)\n",
    "# v1.dot(v2) = ||v1|| ||v2|| cos(theta)\n",
    "# cos(theta) = (v1.dot(v2))/(||v1|| ||v2||)\n",
    "# v1.project(v2) = ||v2|| cost(theta) \\hat{v1} = (v1.dot(v2))/(|\\v1||^2) x \\vec{v1}\n",
    "# v1.project(v2) = \\frac{||v2||cost(theta)}{\\hat{v1}} = \\frac{(v1.dot(v2))}{|\\v1||^2} \\vec{v1}\n",
    "# v1.project(v2) = \\frac{(v1.dot(v2))}{v1.dot(v1)}\\vec{v1}\n",
    "v1.projection(v2) == v1.dot(v2)/v1.dot(v1)*v1\n",
    "\n",
    "#### nabla Del(), where in field potential energy ###\n",
    "# \\nabla \\cdot = divergence\n",
    "# \\nabla \\times = curl\n",
    "# \\nabla * f(x,y,z) = gradient, where f(x,y,z) is scalar function(that return real numbers)\n",
    "u_field = 2 * B.x * B.y**2 * B.i + 3 * B.z**2 * B.y*B.j + 4 * B.x**3 * B.z * B.k\n",
    "type(u_field)\n",
    "\n",
    "f_field = 3* B.x**2 + B.y**3 + B.z**2\n",
    "type(f_field)\n",
    "\n",
    "nabla = sm.vector.Del()\n",
    "nabla.dot(u_field)\n",
    "nabla.dot(u_field).doit() == sm.vector.divergence(u_field)\n",
    "nabla.cross(u_field)\n",
    "nabla.cross(u_field).doit() == sm.vector.curl(u_field)\n",
    "nabla(f_field)\n",
    "nabla(f_field).doit() == sm.vector.gradient(f_field)"
   ]
  },
  {
   "cell_type": "code",
   "execution_count": 10,
   "id": "f75a78f7-09a7-4223-a4cb-281c9e4da761",
   "metadata": {
    "tags": []
   },
   "outputs": [
    {
     "data": {
      "text/latex": [
       "$\\displaystyle (\\frac{2 \\mathbf{{r}_{C}} \\sin^{2}{\\left(\\mathbf{{theta}_{C}} \\right)} + 2 \\mathbf{{r}_{C}} \\sin{\\left(\\mathbf{{theta}_{C}} \\right)} \\cos{\\left(\\mathbf{{theta}_{C}} \\right)}}{\\mathbf{{r}_{C}}})\\mathbf{\\hat{k}_{C}}$"
      ],
      "text/plain": [
       "((2*C.r*sin(C.theta)**2 + 2*C.r*sin(C.theta)*cos(C.theta))/C.r)*C.k"
      ]
     },
     "execution_count": 10,
     "metadata": {},
     "output_type": "execute_result"
    }
   ],
   "source": [
    "#### cylindrical CoordSys3D ####\n",
    "#### 원통 좌표계\n",
    "B = sm.vector.CoordSys3D('B')\n",
    "C = B.create_new('C', transformation='cylindrical')\n",
    "\n",
    "#### (r,theta,z) -> (x,y.z)\n",
    "# (r x cos(theta), r x sin(theta), z)\n",
    "#rv = C.transformation_from_parent()\n",
    "ra = [ C.r * sm.cos(C.theta), C.r* sm.sin(C.theta), C.z]\n",
    "rm = sm.Matrix(ra)\n",
    "rv = sm.vector.matrix_to_vector(rm,C)\n",
    "\n",
    "#### (r,theta,z) -> (sqrt(x^2 + y^2), atan(y\\x), z)\n",
    "#r_v = C.transformation_from_parent()\n",
    "####  r > 0, 0 < theta <  2{\\pi} -oo < z < oo\n",
    "r_a = [ sm.sqrt(B.x**2 + B.y**2), sm.atan(B.y/B.x), B.z]\n",
    "r_m = sm.Matrix(r_a)\n",
    "r_v = sm.vector.matrix_to_vector(r_m, C)\n",
    "\n",
    "#### Scale factor Jacobian(행열식) ####\n",
    "hr = sm.sqrt(rv.diff(C.r).dot(rv.diff(C.r))).simplify()\n",
    "ht = sm.sqrt(rv.diff(C.theta).dot(rv.diff(C.theta))).simplify()\n",
    "hz = sm.sqrt(rv.diff(C.z).dot(rv.diff(C.z))).simplify()\n",
    "#### bases\n",
    "rh = rv.diff(C.r)/hr\n",
    "th = rv.diff(C.theta)/ht\n",
    "zh = rv.diff(C.z)/hz\n",
    "rh.cross(th).simplify() == zh\n",
    "\n",
    "#### dS = d{\\theta} * dz + 2*dr\n",
    "## dS = ht * hz * d{\\theta}*dz + 2(hr*dr)\n",
    "## dS = r*d{\\theta}*dz + 2(dr)\n",
    "sm.Integral(C.r,(C.theta,0,2*sm.pi),(C.z,0,C.z)) + 2*sm.Integral(C.r,(C.theta,0,2*sm.pi)) \n",
    "sm.integrate(C.r,(C.theta,0,2*sm.pi),(C.z,0,C.z)) + 2*sm.integrate(C.r,(C.theta,0,2*sm.pi)) \n",
    "sm.integrate(ht*hz,(C.theta,0,2*sm.pi),(C.z,0,C.z)) + 2*sm.integrate(ht,(C.theta,0,2*sm.pi)) \n",
    "\n",
    "#### dV\n",
    "## dV = hr * ht * hz * dr * dt * dz = dr * r*dt * dz\n",
    "## dV = dr * r*d{\\theta} * dz\n",
    "sm.Integral(hr*ht*hz,(C.z,0,C.z),(C.theta,0,2*sm.pi),(C.r,0,C.r))\n",
    "sm.integrate(hr*ht*hz,(C.z,0,C.z),(C.theta,0,2*sm.pi),(C.r,0,C.r))\n",
    "sm.integrate(C.r,(C.z,0,C.z),(C.theta,0,2*sm.pi),(C.r,0,C.r))\n",
    "\n",
    "sm.Matrix(C.transformation_to_parent()).subs({C.i:sm.cos(C.theta),C.j:sm.sin(C.theta)})\n",
    "uf = C.r*sm.cos(C.theta)**2*C.i + C.r*sm.sin(C.theta)**2*C.j + C.z*C.k\n",
    "type(uf)\n",
    "uf.to_matrix(C)\n",
    "\n",
    "sf = C.r**2\n",
    "type(sf)\n",
    "\n",
    "nabla = sm.vector.Del()\n",
    "\n",
    "nabla(sf).doit() == sm.vector.gradient(sf)\n",
    "nabla.dot(uf).doit() == sm.vector.divergence(uf)\n",
    "nabla.cross(uf).doit() == sm.vector.curl(uf)\n",
    "nabla.cross(uf).doit()\n"
   ]
  },
  {
   "cell_type": "code",
   "execution_count": 11,
   "id": "19d326da-f8a9-4359-ae9f-7cc3d442a19d",
   "metadata": {},
   "outputs": [
    {
     "name": "stdout",
     "output_type": "stream",
     "text": [
      "(sin(S.theta)*cos(S.phi))*S.i + (sin(S.phi)*sin(S.theta))*S.j + (cos(S.theta))*S.k\n",
      "dr \n",
      "1 \n",
      "(sin(S.theta)*cos(S.phi))*S.i + (sin(S.phi)*sin(S.theta))*S.j + (cos(S.theta))*S.k\n"
     ]
    },
    {
     "data": {
      "text/plain": [
       "True"
      ]
     },
     "execution_count": 11,
     "metadata": {},
     "output_type": "execute_result"
    }
   ],
   "source": [
    "#### spherical CoordSys3D #####\n",
    "#### 구 좌표계 ####\n",
    "B = sm.vector.CoordSys3D('B')\n",
    "S = B.create_new('S', transformation='spherical')\n",
    "u = S.r*sm.sin(S.theta)*sm.cos(S.phi)*S.i + S.r*sm.sin(S.theta)*sm.sin(S.phi)*S.j + S.r*sm.cos(S.theta)\n",
    "u.to_matrix(S)\n",
    "sm.vector.matrix_to_vector(sm.Matrix(S.transformation_to_parent()),S)\n",
    "\n",
    "### \\ver{r} (r,theta,phi) -> (x,y,z)\n",
    "ra = [S.r*sm.sin(S.theta)*sm.cos(S.phi), S.r*sm.sin(S.theta)*sm.sin(S.phi),S.r*sm.cos(S.theta)]\n",
    "rm = sm.Matrix(ra)\n",
    "rv = sm.vector.matrix_to_vector(rm,S)\n",
    "\n",
    "#### (x,y,z) ->  (r, theta, phi)\n",
    "r_a = [sm.sqrt(B.x**2 + B.y**2 + B.z**2),\n",
    "       sm.atan(sm.sqrt(B.x**2 + B.y**2)/B.z),\n",
    "       sm.atan(B.y/B.x)]\n",
    "r_m = sm.Matrix(r_a)\n",
    "r_x = sm.vector.matrix_to_vector(r_m,S)\n",
    "#print(f'{r_x}\\n{sm.vector.matrix_to_vector(sm.Matrix(S.transformation_from_parent()),S)}')   \n",
    "\n",
    "### height : length r theta phi \n",
    "## \n",
    "#hr = rv.diff(S.r).magnitude().doit().simplify()\n",
    "hr = rv.diff(S.r)\n",
    "print(f'{hr}')\n",
    "hr = sm.sqrt(hr.dot(hr)).simplify()\n",
    "print(f'dr \\n{hr} \\n{rv.diff(S.r)}')\n",
    "ht = rv.diff(S.theta)\n",
    "ht = sm.sqrt(ht.dot(ht)).simplify()\n",
    "\n",
    "hp = rv.diff(S.phi)\n",
    "hp = sm.sqrt(hp.dot(hp)).simplify()\n",
    "\n",
    "rh = rv.diff(S.r) / hr\n",
    "th = rv.diff(S.theta) / ht\n",
    "ph = rv.diff(S.phi) / hp\n",
    "\n",
    "rh.dot(th).doit().simplify()\n",
    "rh.dot(ph).doit().simplify()\n",
    "th.dot(ph).doit().simplify()\n",
    "\n",
    "rh.cross(th).simplify()\n",
    "th.cross(ph).simplify()\n",
    "\n",
    "### dS ###\n",
    "## dS = d{\\theta } * d{\\phi}\n",
    "## dr/{\\partial \\theta}.magnitude() => r * d{\\theta}\n",
    "#print(f'D_theta= {ht.simplify()}')\n",
    "## dr/{\\partial \\phi}.magnitude() /phi 축 방향 크기 => r * sin(\\theta) d{\\phi}\n",
    "#print(f'D_phi = {hp.simplify()}')\n",
    "# r^2 x sin({\\theta})\n",
    "# dS = ht x hp x dt x dp = r^2 x sin(theta) x d{\\theta} x d{\\phi}\n",
    "sm.Integral(S.r**2 * sm.sin(S.theta),(S.theta,0,sm.pi),(S.phi,0,2*sm.pi))\n",
    "sm.integrate(S.r**2 * sm.sin(S.theta),(S.theta,0,sm.pi),(S.phi,0,2*sm.pi))\n",
    "\n",
    "### dV ###\n",
    "## dV = dr x d{\\theta} x d{\\phi}\n",
    "## dr = 1\n",
    "#print(f'D_r = {hr.simplify()}')\n",
    "rv.diff(S.r)\n",
    "sm.Integral(hr*ht*hp,(S.r,0,2*sm.pi),(S.theta,0,sm.pi),(S.phi,0,2*sm.pi))\n",
    "sm.integrate(hr*ht*hp,(S.r,0,S.r),(S.theta,0,sm.pi),(S.phi,0,2*sm.pi))\n",
    "\n",
    "### gradient = \\nabla(f) ###\n",
    "nabla = sm.vector.Del()\n",
    "sm.integrate(S.r**2 * sm.sin(S.theta),(S.theta,0,sm.pi),(S.phi,0,2*sm.pi)) ==  sm.integrate(ht*hp,(S.theta,0,sm.pi),(S.phi,0,2*sm.pi))"
   ]
  },
  {
   "cell_type": "code",
   "execution_count": null,
   "id": "19aa18ff-a1e9-4900-986f-ed565a6e549e",
   "metadata": {},
   "outputs": [],
   "source": []
  },
  {
   "cell_type": "markdown",
   "id": "591cd74f-1cd4-4b92-bfd6-b9b72131ea33",
   "metadata": {},
   "source": [
    "# Creating New System v.to_matrix(B)\n",
    "> ## sympy.vector.CoordSys3D('name')\n",
    "\n",
    "# Transformaing New System\n",
    "> ## obj.create_new (name, transforamtion='')\n",
    ">> ## 원점은 변하지 않는다, axis 만 각과 섞어서 쓴다.\n",
    ">>> name: str,  \n",
    ">>> transformation: lambda,tuple.str('cylindrical','spherical'),  \n",
    ">>> vector_names = ' ',  \n",
    ">>> variable_names = ' '"
   ]
  },
  {
   "cell_type": "code",
   "execution_count": 12,
   "id": "6ea571fd-4303-4c63-a02c-ab8d754fbc8e",
   "metadata": {},
   "outputs": [
    {
     "ename": "NameError",
     "evalue": "name 'p' is not defined",
     "output_type": "error",
     "traceback": [
      "\u001b[0;31m---------------------------------------------------------------------------\u001b[0m",
      "\u001b[0;31mNameError\u001b[0m                                 Traceback (most recent call last)",
      "\u001b[0;32m/tmp/ipykernel_6112/3188072250.py\u001b[0m in \u001b[0;36m<module>\u001b[0;34m\u001b[0m\n\u001b[1;32m     10\u001b[0m \u001b[0;31m# wrt = with respect to\u001b[0m\u001b[0;34m\u001b[0m\u001b[0;34m\u001b[0m\u001b[0m\n\u001b[1;32m     11\u001b[0m \u001b[0;31m#C.position_wrt(B)\u001b[0m\u001b[0;34m\u001b[0m\u001b[0;34m\u001b[0m\u001b[0m\n\u001b[0;32m---> 12\u001b[0;31m \u001b[0msm\u001b[0m\u001b[0;34m.\u001b[0m\u001b[0mvector\u001b[0m\u001b[0;34m.\u001b[0m\u001b[0mexpress\u001b[0m\u001b[0;34m(\u001b[0m\u001b[0mp\u001b[0m\u001b[0;34m,\u001b[0m\u001b[0mC\u001b[0m\u001b[0;34m)\u001b[0m\u001b[0;34m\u001b[0m\u001b[0;34m\u001b[0m\u001b[0m\n\u001b[0m",
      "\u001b[0;31mNameError\u001b[0m: name 'p' is not defined"
     ]
    }
   ],
   "source": [
    "C = B.create_new('C','cylindrical')\n",
    "C = B.create_new(name='C',transformation='cylindrical')\n",
    "D = B.create_new('D',transformation=lambda x,y,z:(sm.cos(x),sm.sin(y),z))\n",
    "\n",
    "C.base_vectors()\n",
    "C.base_scalars()\n",
    "\n",
    "sm.Matrix(C.transformation_from_parent())\n",
    "sm.Matrix(C.transformation_to_parent()) \n",
    "# wrt = with respect to\n",
    "#C.position_wrt(B)\n",
    "sm.vector.express(p,C)"
   ]
  },
  {
   "cell_type": "code",
   "execution_count": null,
   "id": "e6f45d08-8dc6-4de9-be74-9312722b72bb",
   "metadata": {},
   "outputs": [],
   "source": [
    "x = sm.symbols('x')\n",
    "expr = abs(sm.sin(x**2))\n",
    "sm.ccode(expr)\n",
    "sm.julia_code(expr)\n",
    "sm.octave_code(expr)\n",
    "#import sympy.printing.cxxcode\n",
    "sm.cxxcode(expr)\n",
    "sm.ccode?"
   ]
  },
  {
   "cell_type": "code",
   "execution_count": null,
   "id": "ecfd393d-e4c3-4324-97b3-7c4713220303",
   "metadata": {},
   "outputs": [],
   "source": [
    "S = B.create_new('S','spherical')\n",
    "S.to_matrix()"
   ]
  },
  {
   "cell_type": "markdown",
   "id": "a20674d8-cb63-4bdf-a2a8-3aa054fa50a1",
   "metadata": {},
   "source": [
    "# Locating New System\n",
    "> # obj.locate_new(...)\n",
    ">> name,  \n",
    ">> postition,  \n",
    ">> vector_names,  \n",
    ">> variable_names\n"
   ]
  },
  {
   "cell_type": "code",
   "execution_count": null,
   "id": "9a98326d-1b0c-466c-8289-d9ec9bcd8067",
   "metadata": {},
   "outputs": [],
   "source": [
    "L = B.locate_new('L', 5*B.i+ 2*B.j + 3*B.k)\n",
    "sm.Matrix(L.transformation_to_parent()).subs({L.x:7,L.y:2,L.z:3})\n",
    "sm.Matrix(L.transformation_to_parent())\n",
    "L.position_wrt(B)\n",
    "sm.vector.express(p,L)"
   ]
  },
  {
   "cell_type": "markdown",
   "id": "2bf64ae9-4d7c-4ab0-ad34-8b49d128b477",
   "metadata": {},
   "source": [
    "# Orienting New System\n",
    "> ## 한축을 중심으로 나머지 origin 회전시킨다..  \n",
    "\n",
    "> # obj.orient_new(..)\n",
    "> ## 축의 각도가 변한다.\n",
    ">> ### obj.orient_new_axis\n",
    ">>> ### B.orient_new_axis(\n",
    "        name, \n",
    "        angle, \n",
    "        axis vector, \n",
    "        locastion=$\\vec{v}$\n",
    ")\n",
    ">> ### obj.orient_new_body\n",
    ">> ### obj.orient_new_space\n",
    ">> ### obj.orient_new_quaternion\n",
    "\n",
    "# QuaternionOrienter\n",
    "## obj.orient_new(name,(,))v\n"
   ]
  },
  {
   "cell_type": "code",
   "execution_count": null,
   "id": "0a127ce9-8a8c-4076-8a98-c5b24bf76ad2",
   "metadata": {},
   "outputs": [],
   "source": [
    "theta = sm.symbols('theta')\n",
    "\n",
    "# \\hat{k}를 축으로 해서 \\theta 만큼 회전시킨다.\n",
    "N = B.orient_new_axis('N', theta, B.k)\n",
    "\n",
    "sm.Matrix(N.transformation_to_parent())\n",
    "#sm.Matrix(N.transformation_to_parent()).subs({theta:sm.pi/4,N.x:1,N.y:2,N.z:2})\n",
    "# sm.vector.express(p,N)"
   ]
  },
  {
   "cell_type": "code",
   "execution_count": null,
   "id": "56ca8857-b5f7-4cf1-81a7-0b623e3c1d71",
   "metadata": {},
   "outputs": [],
   "source": [
    "import sympy.functions\n",
    "N.rotation_matrix(B)\n",
    "N.rotation_matrix(B).subs({theta:sm.pi/4})\n",
    "N.rotation_matrix(B).subs({theta:sm.pi/4}).dot([1,2,2])\n",
    "#sm.Matrix(N.rotation_matrix(B).subs({theta:sm.pi/4}).dot([1,2,2]))"
   ]
  },
  {
   "cell_type": "markdown",
   "id": "2e0588a3-4cf2-4859-a6a7-9da81d5ee195",
   "metadata": {},
   "source": [
    "# Orienting and Locating New Coordinate System\n",
    "> ## B.orient_new_axis (\n",
    ">> ### 'name',\n",
    ">> ### $(\\angle)$ angle scalar, $(\\vec{axis})$ axis vector,\n",
    ">> ### location = $(\\vec{move})$ vector \n",
    "> ## )"
   ]
  },
  {
   "cell_type": "code",
   "execution_count": null,
   "id": "dd820e83-9d2b-4cc0-b6cb-9fb241c13bfb",
   "metadata": {},
   "outputs": [],
   "source": [
    "a,b,r = sm.symbols('alpha beta gamma')\n",
    "M = B.orient_new_axis('M',theta,B.k,location= a*B.i + b*B.j + r*B.k)\n",
    "sm.Matrix(M.transformation_to_parent()).subs({theta:sm.pi/4,a:1,b:1,r:1,M.x:1,M.y:2,M.z:2})"
   ]
  },
  {
   "cell_type": "markdown",
   "id": "bb1a48af-0c58-4fad-afc1-5876d01f6a98",
   "metadata": {
    "tags": []
   },
   "source": [
    "# quaternion\n",
    "> ## sympy.algebras.quaternion\n",
    ">> ## $q = (w , \\vec{v})$\n",
    ">>> ## $q = (w,(x,y,z))$\n",
    ">>> ## $q = w + xi + yj + zk \\\\ q_1 = w_1 + \\vec{v_1} \\\\ q_2= w_2 + \\vec{v_2}$\n",
    "> ## $q_1\\:q_2 = (w_1w_2 - \\vec{v_1}\\cdot \\vec{v_2}, \\quad w_1\\vec{v_1} + w_2\\vec{v_2} + \\vec{v_1}\\times\\vec{v_2})$\n",
    "> ## $q^2 = (0,\\vec{v})(0,\\vec{v}) = (-\\vec{v}\\cdot \\vec{v}, \\vec{0}) = -|\\vec{v}|^2 $"
   ]
  },
  {
   "cell_type": "code",
   "execution_count": null,
   "id": "9a489e72-c513-45e1-8619-b298c8c55474",
   "metadata": {},
   "outputs": [],
   "source": [
    "import sympy.algebras\n",
    "x = sm.symbols('x')\n",
    "q = sm.algebras.Quaternion(1,2,3,4)\n",
    "q1 = sm.algebras.Quaternion(x,x**3,x,x**2,real_field=False)\n",
    "q2 = sm.algebras.Quaternion(3+4*sm.I,2+5*sm.I,0,7+8*sm.I,real_field=False)\n",
    "q2"
   ]
  },
  {
   "cell_type": "markdown",
   "id": "fc46e760-e725-4818-ac4f-251e509db9b8",
   "metadata": {},
   "source": [
    "# \n",
    "> ### $ \\vec{v} = ai + bj + ck \\\\\n",
    "q = w + \\vec{v} \\\\\n",
    "\\quad = (w, \\vec{v}) \\\\\n",
    "\\quad = (w, ai + bj + ck) $\n",
    ">> ### $ e^{ai + bj + ck} = cos(|\\vec{v}|) + \n",
    "\\frac{sin(|\\vec{v}|}{|\\vec{v}|} \n",
    "(ai + bj + ck)$  \n",
    ">> ### $ e^{w + ai + bj + ck} \\\\\n",
    "\\quad = e^{w} e^{ai+bj+ck} \\\\\n",
    "\\quad = cos(|\\vec{v}|) +  \\frac{sin(|\\vec{v}|}{|\\vec{v}|} \n",
    "(ai + bj + ck) \\\\\n",
    "\\quad = cos(|\\vec{v}|) + sin(|\\vec{v}|)\\,\n",
    "\\frac {ai + bj + ck}{|\\vec{v}|} \\\\\n",
    "\\quad = cos(|\\vec{v}|) + sin(|\\vec{v}|)\\,\n",
    "\\frac {\\vec{v}}{|\\vec{v}|} \\\\\n",
    "\\quad = cos(|\\vec{v}|) + sin(|\\vec{v}|)\\,\\hat{v}\\\\\n",
    "$\n",
    "> ## $ e^{\\vec{v}} = e^{ai+bj+ck} \n",
    "\\begin{cases}\n",
    "cos(|\\vec{v}|) +  \n",
    "\\frac{sin(|\\vec{v}|}{|\\vec{v}|}\\,(ai + bj + ck) \\\\\n",
    "cos(|\\vec{v}|) + \n",
    "sin(|\\vec{v}|)\\,\n",
    "(\n",
    "\\frac{ai}{|\\vec{v}|} + \n",
    "\\frac{bj}{|\\vec{v}|} + \n",
    "\\frac{ck}{|\\vec{v}|}\n",
    ") \\\\\n",
    "cos(|\\vec{v}|) + sin(|\\vec{v}|)\\,\\hat{v} \\\\\n",
    "\\end{cases}$"
   ]
  },
  {
   "cell_type": "code",
   "execution_count": null,
   "id": "4ab222f3-5b4c-4fb5-a990-c3f80f174a40",
   "metadata": {},
   "outputs": [],
   "source": [
    "# e^q\n",
    "q = sm.algebras.Quaternion(sm.cos(theta),\n",
    "                           sm.sin(theta)*sm.sqrt(1/3),\n",
    "                           sm.sin(theta)*sm.sqrt(1/3),\n",
    "                           sm.sin(theta)*sm.sqrt(1/3))\n",
    "q.mul(q).trigsimp()"
   ]
  },
  {
   "cell_type": "code",
   "execution_count": null,
   "id": "35ac5cd7-b24e-4afc-b9d7-e04ea95c7728",
   "metadata": {},
   "outputs": [],
   "source": [
    "sm.exp(sm.algebras.Quaternion(1,1,1,1)) "
   ]
  },
  {
   "cell_type": "code",
   "execution_count": null,
   "id": "24a25bd8-5727-43c6-8ead-80c3a6792f07",
   "metadata": {},
   "outputs": [],
   "source": [
    "sm.algebras.Quaternion(1,1,1,1).exp()"
   ]
  },
  {
   "cell_type": "markdown",
   "id": "ed44cf6e-ece9-46da-be2c-cd48f0fee73c",
   "metadata": {},
   "source": [
    "# Quaternion Multiply\n",
    "> #[quaternion](https://www.youtube.com/watch?v=88BA8aO3qXA)\n",
    "> $ (a + bi + cj + dk)\\:(e + fi + gj + hk ) \\\\\n",
    "\\begin{bmatrix}\n",
    "a & -b & -c & -d \\\\\n",
    "b &  a & -d & c \\\\\n",
    "c &  d &  a & -b \\\\\n",
    "d & -c &  b & a\n",
    "\\end{bmatrix} \\quad\n",
    "\\begin{bmatrix}\n",
    "e \\\\ f \\\\ g \\\\ h \n",
    "\\end{bmatrix}\n",
    "$\n",
    "> # unit quaternion matrix\n",
    ">> $ 1 = (1,0,0,0) \\\\\n",
    "\\begin{bmatrix}\n",
    "1 & 0 & 0 & 0 \\\\\n",
    "0 & 1 & 0 & 0 \\\\\n",
    "0 & 0 & 1 & 0 \\\\\n",
    "0 & 0 & 0 & 1 \n",
    "\\end{bmatrix} \n",
    "$  \n",
    ">> $ i = (0,1,0,0) \\\\\n",
    "\\begin{bmatrix}\n",
    "0 & -1 & 0 & 0  \\\\\n",
    "1 & 0 & 0 & 0 \\\\\n",
    "0 & 0 & 0 & -1 \\\\\n",
    "0 & 0 & 1 & 0 \\\\\n",
    "\\end{bmatrix}\n",
    "$  \n",
    ">> $ j = (0,0,1,0) \\\\\n",
    "\\begin{bmatrix}\n",
    "0 & 0 & -1 & 0 \\\\\n",
    "0 & 0 & 0 & -1 \\\\\n",
    "1 & 0 & 0 & 0 \\\\\n",
    "0 & -1 & 0 & 0 \\\\\n",
    "\\end{bmatrix}\n",
    "$  \n",
    ">> $k = (0,0,0,1) \\\\\n",
    "\\begin{bmatrix}\n",
    "0 & 0 & 0 & -1 \\\\\n",
    "0 & 0 & -1 & 0 \\\\\n",
    "0 & 1 & 0 & 0 \\\\\n",
    "1 & 0 & 0 & 0 \\\\\n",
    "\\end{bmatrix}\n",
    "$"
   ]
  },
  {
   "cell_type": "code",
   "execution_count": null,
   "id": "953577da-f161-4330-8e05-bad810e485d0",
   "metadata": {},
   "outputs": [],
   "source": [
    "q0, q1, q2, q3 = sm.symbols('q_0 q_1 q_2 q_3')\n",
    "Q = B.orient_new_quaternion('Q',q0,q1,q2,q3)\n",
    "sm.Matrix(Q.transformation_to_parent())"
   ]
  },
  {
   "cell_type": "code",
   "execution_count": null,
   "id": "37d3c114-72d4-4898-95fc-119d0f9f3c63",
   "metadata": {},
   "outputs": [],
   "source": [
    "m = sm.Matrix([1,2,3])\n",
    "q = sm.algebras.Quaternion(1,2,3,4)\n",
    "\n",
    "q.norm()\n",
    "q.normalize()\n",
    "q.inverse()\n",
    "q.pow(2) == q.mul(q) == q*q\n",
    "sm.vector.divergence(q)\n",
    "sm.vector.curl(q)\n",
    "sm.vector.gradient(q)"
   ]
  },
  {
   "cell_type": "code",
   "execution_count": 24,
   "id": "7a22469a-b7d5-4d0c-a9b7-729217ccc294",
   "metadata": {},
   "outputs": [],
   "source": [
    "x = sm.symbols('x')\n",
    "q1 = sm.algebras.Quaternion(x**2,x**3,x)\n",
    "q2 = sm.algebras.Quaternion(2,(3+2*sm.I), x**2, 3.5*sm.I)"
   ]
  },
  {
   "cell_type": "code",
   "execution_count": 25,
   "id": "927b6ba0-9399-48de-a0b4-a4f61f92124b",
   "metadata": {},
   "outputs": [
    {
     "data": {
      "text/latex": [
       "$\\displaystyle \\left(- x^{3} - x^{3} \\left(3 + 2 i\\right) + 2 x^{2}\\right) + \\left(2 x^{3} + x^{2} \\left(3 + 2 i\\right) + 3.5 i x\\right) i + \\left(x^{4} - 3.5 i x^{3} + 2 x\\right) j + \\left(x^{5} + 3.5 i x^{2} - x \\left(3 + 2 i\\right)\\right) k$"
      ],
      "text/plain": [
       "(-x**3 - x**3*(3 + 2*I) + 2*x**2) + (2*x**3 + x**2*(3 + 2*I) + 3.5*I*x)*i + (x**4 - 3.5*I*x**3 + 2*x)*j + (x**5 + 3.5*I*x**2 - x*(3 + 2*I))*k"
      ]
     },
     "execution_count": 25,
     "metadata": {},
     "output_type": "execute_result"
    }
   ],
   "source": [
    "q1 * q2"
   ]
  },
  {
   "cell_type": "code",
   "execution_count": 30,
   "id": "c9c2d27d-9134-41bd-baaa-63128aa48257",
   "metadata": {},
   "outputs": [
    {
     "data": {
      "text/latex": [
       "$\\displaystyle \\frac{x^{2}}{\\sqrt{x^{6} + x^{4} + x^{2}}} + - \\frac{x^{3}}{\\sqrt{x^{6} + x^{4} + x^{2}}} i + - \\frac{x}{\\sqrt{x^{6} + x^{4} + x^{2}}} j + 0 k$"
      ],
      "text/plain": [
       "x**2/sqrt(x**6 + x**4 + x**2) + (-x**3/sqrt(x**6 + x**4 + x**2))*i + (-x/sqrt(x**6 + x**4 + x**2))*j + 0*k"
      ]
     },
     "execution_count": 30,
     "metadata": {},
     "output_type": "execute_result"
    }
   ],
   "source": [
    "q1.inverse()\n",
    "q1.conjugate()/q1.norm()"
   ]
  },
  {
   "cell_type": "code",
   "execution_count": 32,
   "id": "6909a3ac-3342-472d-b93c-621660d066ca",
   "metadata": {},
   "outputs": [
    {
     "data": {
      "text/latex": [
       "$\\displaystyle \\frac{x^{2}}{x^{6} + x^{4} + x^{2}} + - \\frac{x^{3}}{x^{6} + x^{4} + x^{2}} i + - \\frac{x}{x^{6} + x^{4} + x^{2}} j + 0 k$"
      ],
      "text/plain": [
       "x**2/(x**6 + x**4 + x**2) + (-x**3/(x**6 + x**4 + x**2))*i + (-x/(x**6 + x**4 + x**2))*j + 0*k"
      ]
     },
     "execution_count": 32,
     "metadata": {},
     "output_type": "execute_result"
    }
   ],
   "source": [
    "q1.inverse()"
   ]
  },
  {
   "cell_type": "code",
   "execution_count": null,
   "id": "4b9fc6ee-28f1-432c-aadf-2490d20c9c73",
   "metadata": {},
   "outputs": [],
   "source": []
  }
 ],
 "metadata": {
  "kernelspec": {
   "display_name": "Python 3 (ipykernel)",
   "language": "python",
   "name": "python3"
  },
  "language_info": {
   "codemirror_mode": {
    "name": "ipython",
    "version": 3
   },
   "file_extension": ".py",
   "mimetype": "text/x-python",
   "name": "python",
   "nbconvert_exporter": "python",
   "pygments_lexer": "ipython3",
   "version": "3.9.7"
  }
 },
 "nbformat": 4,
 "nbformat_minor": 5
}
