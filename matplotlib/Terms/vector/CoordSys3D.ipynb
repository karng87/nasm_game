{
 "cells": [
  {
   "cell_type": "markdown",
   "id": "39e5152e-20f3-4704-8d1f-bcb7660871a4",
   "metadata": {},
   "source": [
    "# origin\n",
    "> 기시점, 원점  \n",
    ">> 참조 point   \n",
    ">> reference point: one point를 중심으로 모든 대상을 상대적인 비율(거리)로 나타내려할때 그 중심 point \n",
    "\n",
    "# axis\n",
    "> 축\n",
    ">> 원점에 서있을때 정면 옆면 윗면방향으로 무한히 확장한 축\n",
    "\n",
    "# perspective\n",
    "> 관점.  \n",
    ">> 목적 대상(object)을 원점과의 상대적인 물리적인 관계로 상태(states)를 기술하는 방법"
   ]
  },
  {
   "cell_type": "code",
   "execution_count": 276,
   "id": "43530c1f-b04f-4647-823f-85f0f7180be6",
   "metadata": {},
   "outputs": [
    {
     "data": {
      "text/latex": [
       "$\\displaystyle (3)\\mathbf{\\hat{i}_{}} + (4)\\mathbf{\\hat{j}_{}} + (2)\\mathbf{\\hat{k}_{}}$"
      ],
      "text/plain": [
       "3*.i + 4*.j + 2*.k"
      ]
     },
     "execution_count": 276,
     "metadata": {},
     "output_type": "execute_result"
    }
   ],
   "source": [
    "import sympy as sm\n",
    "import sympy.vector\n",
    "\n",
    "B = sm.vector.CoordSys3D('')\n",
    "B.base_scalars(), B.base_vectors()\n",
    "\n",
    "p = 3*B.i+4*B.j+2*B.k\n",
    "sm.vector.express(p,B) \n",
    "sm.vector.express(3*B.i+4*B.j+2*B.k, B)"
   ]
  },
  {
   "cell_type": "markdown",
   "id": "591cd74f-1cd4-4b92-bfd6-b9b72131ea33",
   "metadata": {},
   "source": [
    "# Creating New System\n",
    "> ## sympy.vector.CoordSys3D('name')\n",
    "\n",
    "# Transformaing New System\n",
    "> ## obj.create_new (name, transforamtion='')\n",
    ">> ## 원점은 변하지 않는다, axis 만 각과 섞어서 쓴다.\n",
    ">>> name: str,  \n",
    ">>> transformation: lambda,tuple.str('cylindrical','spherical'),  \n",
    ">>> vector_names = ' ',  \n",
    ">>> variable_names = ' '"
   ]
  },
  {
   "cell_type": "code",
   "execution_count": 275,
   "id": "6ea571fd-4303-4c63-a02c-ab8d754fbc8e",
   "metadata": {},
   "outputs": [
    {
     "data": {
      "text/latex": [
       "$\\displaystyle 3 \\mathbf{{x}_{}} + 4 \\mathbf{{y}_{}} + 2 \\mathbf{{z}_{}}$"
      ],
      "text/plain": [
       "3*.x + 4*.y + 2*.z"
      ]
     },
     "execution_count": 275,
     "metadata": {},
     "output_type": "execute_result"
    }
   ],
   "source": [
    "C = B.create_new('C','cylindrical')\n",
    "C = B.create_new(name='C',transformation='cylindrical')\n",
    "D = B.create_new('D',transformation=lambda x,y,z:(sm.cos(x),sm.sin(y),z))\n",
    "\n",
    "C.base_vectors()\n",
    "C.base_scalars()\n",
    "\n",
    "sm.Matrix(C.transformation_from_parent())\n",
    "sm.Matrix(C.transformation_to_parent()) \n",
    "# wrt = with respect to\n",
    "#C.position_wrt(B)\n",
    "sm.vector.express(p,C)"
   ]
  },
  {
   "cell_type": "code",
   "execution_count": null,
   "id": "e44f8f79-a40c-4ae9-886b-2b690f85e72c",
   "metadata": {},
   "outputs": [],
   "source": []
  },
  {
   "cell_type": "code",
   "execution_count": 99,
   "id": "e6f45d08-8dc6-4de9-be74-9312722b72bb",
   "metadata": {},
   "outputs": [],
   "source": []
  },
  {
   "cell_type": "code",
   "execution_count": 99,
   "id": "ecfd393d-e4c3-4324-97b3-7c4713220303",
   "metadata": {},
   "outputs": [
    {
     "data": {
      "text/latex": [
       "$\\displaystyle \\left[\\begin{matrix}1 & 0 & 0\\\\0 & 1 & 0\\\\0 & 0 & 1\\end{matrix}\\right]$"
      ],
      "text/plain": [
       "Matrix([\n",
       "[1, 0, 0],\n",
       "[0, 1, 0],\n",
       "[0, 0, 1]])"
      ]
     },
     "execution_count": 99,
     "metadata": {},
     "output_type": "execute_result"
    }
   ],
   "source": [
    "S = B.create_new('S','spherical')\n",
    "sm.Matrix(S.base_scalars()) \n",
    "sm.Matrix(S.base_vectors())\n",
    "type(S.transformation_to_parent())\n",
    "sm.Matrix((S.transformation_to_parent())).subs({S.theta:sm.pi/2,S.r:3,S.phi:sm.pi/2})\n",
    "sm.Matrix((S.transformation_to_parent())).subs([(S.theta,sm.pi/2),(S.r,3),(S.phi,sm.pi/2)])\n",
    "sm.Matrix((S.transformation_to_parent())).subs([[S.theta,sm.pi/2],[S.r,3],[S.phi,sm.pi/2]])"
   ]
  },
  {
   "cell_type": "markdown",
   "id": "a20674d8-cb63-4bdf-a2a8-3aa054fa50a1",
   "metadata": {},
   "source": [
    "# Locating New System\n",
    "> # obj.locate_new(...)\n",
    ">> name,  \n",
    ">> postition,  \n",
    ">> vector_names,  \n",
    ">> variable_names\n"
   ]
  },
  {
   "cell_type": "code",
   "execution_count": 277,
   "id": "9a98326d-1b0c-466c-8289-d9ec9bcd8067",
   "metadata": {},
   "outputs": [
    {
     "data": {
      "text/latex": [
       "$\\displaystyle (3)\\mathbf{\\hat{i}_{L}} + (4)\\mathbf{\\hat{j}_{L}} + (2)\\mathbf{\\hat{k}_{L}}$"
      ],
      "text/plain": [
       "3*L.i + 4*L.j + 2*L.k"
      ]
     },
     "execution_count": 277,
     "metadata": {},
     "output_type": "execute_result"
    }
   ],
   "source": [
    "L = B.locate_new('L', 5*B.i+ 2*B.j + 3*B.k)\n",
    "sm.Matrix(L.transformation_to_parent()).subs({L.x:7,L.y:2,L.z:3})\n",
    "sm.Matrix(L.transformation_to_parent())\n",
    "L.position_wrt(B)\n",
    "sm.vector.express(p,L)"
   ]
  },
  {
   "cell_type": "markdown",
   "id": "2bf64ae9-4d7c-4ab0-ad34-8b49d128b477",
   "metadata": {},
   "source": [
    "# Orienting New System\n",
    "> ## 한축을 중심으로 나머지 origin 회전시킨다..  \n",
    "\n",
    "> # obj.orient_new(..)\n",
    "> ## 축의 각도가 변한다.\n",
    ">> ### obj.orient_new_axis\n",
    ">>> ### B.orient_new_axis(\n",
    "        name, \n",
    "        angle, \n",
    "        axis vector, \n",
    "        locastion=$\\vec{v}$\n",
    ")\n",
    ">> ### obj.orient_new_body\n",
    ">> ### obj.orient_new_space\n",
    ">> ### obj.orient_new_quaternion\n",
    "\n",
    "# QuaternionOrienter\n",
    "## obj.orient_new(name,(,))v\n"
   ]
  },
  {
   "cell_type": "code",
   "execution_count": 286,
   "id": "0a127ce9-8a8c-4076-8a98-c5b24bf76ad2",
   "metadata": {},
   "outputs": [
    {
     "data": {
      "text/latex": [
       "$\\displaystyle \\left[\\begin{matrix}\\mathbf{{x}_{N}} \\cos{\\left(\\theta \\right)} + \\mathbf{{y}_{N}} \\sin{\\left(\\theta \\right)}\\\\- \\mathbf{{x}_{N}} \\sin{\\left(\\theta \\right)} + \\mathbf{{y}_{N}} \\cos{\\left(\\theta \\right)}\\\\\\mathbf{{z}_{N}}\\end{matrix}\\right]$"
      ],
      "text/plain": [
       "Matrix([\n",
       "[ N.x*cos(theta) + N.y*sin(theta)],\n",
       "[-N.x*sin(theta) + N.y*cos(theta)],\n",
       "[                             N.z]])"
      ]
     },
     "execution_count": 286,
     "metadata": {},
     "output_type": "execute_result"
    }
   ],
   "source": [
    "theta = sm.symbols('theta')\n",
    "\n",
    "# \\hat{k}를 축으로 해서 \\theta 만큼 회전시킨다.\n",
    "N = B.orient_new_axis('N', theta, B.k)\n",
    "\n",
    "sm.Matrix(N.transformation_to_parent())\n",
    "#sm.Matrix(N.transformation_to_parent()).subs({theta:sm.pi/4,N.x:1,N.y:2,N.z:2})\n",
    "# sm.vector.express(p,N)"
   ]
  },
  {
   "cell_type": "code",
   "execution_count": 205,
   "id": "56ca8857-b5f7-4cf1-81a7-0b623e3c1d71",
   "metadata": {},
   "outputs": [
    {
     "data": {
      "text/plain": [
       "[3*sqrt(2)/2, sqrt(2)/2, 2]"
      ]
     },
     "execution_count": 205,
     "metadata": {},
     "output_type": "execute_result"
    }
   ],
   "source": [
    "import sympy.functions\n",
    "N.rotation_matrix(B)\n",
    "N.rotation_matrix(B).subs({theta:sm.pi/4})\n",
    "N.rotation_matrix(B).subs({theta:sm.pi/4}).dot([1,2,2])\n",
    "#sm.Matrix(N.rotation_matrix(B).subs({theta:sm.pi/4}).dot([1,2,2]))"
   ]
  },
  {
   "cell_type": "markdown",
   "id": "2e0588a3-4cf2-4859-a6a7-9da81d5ee195",
   "metadata": {},
   "source": [
    "# Orienting and Locating New Coordinate System\n",
    "> ## B.orient_new_axis (\n",
    ">> ### 'name',\n",
    ">> ### $(\\angle)$ angle scalar, $(\\vec{axis})$ axis vector,\n",
    ">> ### location = $(\\vec{move})$ vector \n",
    "> ## )"
   ]
  },
  {
   "cell_type": "code",
   "execution_count": 223,
   "id": "dd820e83-9d2b-4cc0-b6cb-9fb241c13bfb",
   "metadata": {},
   "outputs": [
    {
     "data": {
      "text/latex": [
       "$\\displaystyle \\left[\\begin{matrix}1 + \\frac{3 \\sqrt{2}}{2}\\\\\\frac{\\sqrt{2}}{2} + 1\\\\3\\end{matrix}\\right]$"
      ],
      "text/plain": [
       "Matrix([\n",
       "[1 + 3*sqrt(2)/2],\n",
       "[  sqrt(2)/2 + 1],\n",
       "[              3]])"
      ]
     },
     "execution_count": 223,
     "metadata": {},
     "output_type": "execute_result"
    }
   ],
   "source": [
    "a,b,r = sm.symbols('alpha beta gamma')\n",
    "M = B.orient_new_axis('M',theta,B.k,location= a*B.i + b*B.j + r*B.k)\n",
    "sm.Matrix(M.transformation_to_parent()).subs({theta:sm.pi/4,a:1,b:1,r:1,M.x:1,M.y:2,M.z:2})"
   ]
  },
  {
   "cell_type": "markdown",
   "id": "bb1a48af-0c58-4fad-afc1-5876d01f6a98",
   "metadata": {
    "tags": []
   },
   "source": [
    "# quaternion\n",
    "> ## sympy.algebras.quaternion\n",
    ">> ## $q = (w , \\vec{v})$\n",
    ">>> ## $q = (w,(x,y,z))$\n",
    ">>> ## $q = w + xi + yj + zk \\\\ q_1 = w_1 + \\vec{v_1} \\\\ q_2= w_2 + \\vec{v_2}$\n",
    "> ## $q_1\\:q_2 = (w_1w_2 - \\vec{v_1}\\cdot \\vec{v_2}, \\quad w_1\\vec{v_1} + w_2\\vec{v_2} + \\vec{v_1}\\times\\vec{v_2})$\n",
    "> ## $q^2 = (0,\\vec{v})(0,\\vec{v}) = (-\\vec{v}\\cdot \\vec{v}, \\vec{0}) = -|\\vec{v}|^2 $"
   ]
  },
  {
   "cell_type": "code",
   "execution_count": 300,
   "id": "9a489e72-c513-45e1-8619-b298c8c55474",
   "metadata": {},
   "outputs": [
    {
     "data": {
      "text/latex": [
       "$\\displaystyle \\left(3 + 4 i\\right) + \\left(2 + 5 i\\right) i + 0 j + \\left(7 + 8 i\\right) k$"
      ],
      "text/plain": [
       "(3 + 4*I) + (2 + 5*I)*i + 0*j + (7 + 8*I)*k"
      ]
     },
     "execution_count": 300,
     "metadata": {},
     "output_type": "execute_result"
    }
   ],
   "source": [
    "import sympy.algebras\n",
    "q = sm.algebras.Quaternion(1,2,3,4)\n",
    "q1 = sm.algebras.Quaternion(x,x**3,x,x**2,real_field=False)\n",
    "q2 = sm.algebras.Quaternion(3+4*sm.I,2+5*sm.I,0,7+8*sm.I,real_field=False)\n",
    "q2"
   ]
  },
  {
   "cell_type": "code",
   "execution_count": 312,
   "id": "4ab222f3-5b4c-4fb5-a990-c3f80f174a40",
   "metadata": {},
   "outputs": [
    {
     "data": {
      "text/latex": [
       "$\\displaystyle e \\cos{\\left(1 \\right)} + e \\sin{\\left(1 \\right)} i + 0 j + 0 k$"
      ],
      "text/plain": [
       "E*cos(1) + E*sin(1)*i + 0*j + 0*k"
      ]
     },
     "execution_count": 312,
     "metadata": {},
     "output_type": "execute_result"
    }
   ],
   "source": [
    "# e^q\n",
    "sm.algebras.Quaternion(1,0,0,0).exp()\n",
    "sm.algebras.Quaternion(1,1,0,0).exp()\n",
    "#sm.algebras.Quaternion(1,0,1,0).exp()\n",
    "#sm.algebras.Quaternion(1,0,0,1).exp()"
   ]
  },
  {
   "cell_type": "code",
   "execution_count": 343,
   "id": "35ac5cd7-b24e-4afc-b9d7-e04ea95c7728",
   "metadata": {},
   "outputs": [
    {
     "data": {
      "text/latex": [
       "$\\displaystyle e^{1 + 1 i + 1 j + 1 k}$"
      ],
      "text/plain": [
       "exp(1 + 1*i + 1*j + 1*k)"
      ]
     },
     "execution_count": 343,
     "metadata": {},
     "output_type": "execute_result"
    }
   ],
   "source": [
    "sm.exp(sm.algebras.Quaternion(1,1,1,1)) "
   ]
  },
  {
   "cell_type": "code",
   "execution_count": 344,
   "id": "24a25bd8-5727-43c6-8ead-80c3a6792f07",
   "metadata": {},
   "outputs": [
    {
     "data": {
      "text/latex": [
       "$\\displaystyle e \\cos{\\left(\\sqrt{3} \\right)} + \\frac{\\sqrt{3} e \\sin{\\left(\\sqrt{3} \\right)}}{3} i + \\frac{\\sqrt{3} e \\sin{\\left(\\sqrt{3} \\right)}}{3} j + \\frac{\\sqrt{3} e \\sin{\\left(\\sqrt{3} \\right)}}{3} k$"
      ],
      "text/plain": [
       "E*cos(sqrt(3)) + sqrt(3)*E*sin(sqrt(3))/3*i + sqrt(3)*E*sin(sqrt(3))/3*j + sqrt(3)*E*sin(sqrt(3))/3*k"
      ]
     },
     "execution_count": 344,
     "metadata": {},
     "output_type": "execute_result"
    }
   ],
   "source": [
    "sm.algebras.Quaternion(1,1,1,1).exp()"
   ]
  },
  {
   "cell_type": "markdown",
   "id": "ed44cf6e-ece9-46da-be2c-cd48f0fee73c",
   "metadata": {},
   "source": [
    "# Quaternion Multiply\n",
    "> #[quaternion](https://www.youtube.com/watch?v=88BA8aO3qXA)\n",
    "> $ (a + bi + cj + dk)\\:(e + fi + gj + hk ) \\\\\n",
    "\\begin{bmatrix}\n",
    "a & -b & -c & -d \\\\\n",
    "b &  a & -d & c \\\\\n",
    "c &  d &  a & -b \\\\\n",
    "d & -c &  b & a\n",
    "\\end{bmatrix} \\quad\n",
    "\\begin{bmatrix}\n",
    "e \\\\ f \\\\ g \\\\ h \n",
    "\\end{bmatrix}\n",
    "$\n",
    "> # unit quaternion matrix\n",
    ">> $ 1 = (1,0,0,0) \\\\\n",
    "\\begin{bmatrix}\n",
    "1 & 0 & 0 & 0 \\\\\n",
    "0 & 1 & 0 & 0 \\\\\n",
    "0 & 0 & 1 & 0 \\\\\n",
    "0 & 0 & 0 & 1 \n",
    "\\end{bmatrix} \n",
    "$  \n",
    ">> $ i = (0,1,0,0) \\\\\n",
    "\\begin{bmatrix}\n",
    "0 & -1 & 0 & 0  \\\\\n",
    "1 & 0 & 0 & 0 \\\\\n",
    "0 & 0 & 0 & -1 \\\\\n",
    "0 & 0 & 1 & 0 \\\\\n",
    "\\end{bmatrix}\n",
    "$  \n",
    ">> $ j = (0,0,1,0) \\\\\n",
    "\\begin{bmatrix}\n",
    "0 & 0 & -1 & 0 \\\\\n",
    "0 & 0 & 0 & -1 \\\\\n",
    "1 & 0 & 0 & 0 \\\\\n",
    "0 & -1 & 0 & 0 \\\\\n",
    "\\end{bmatrix}\n",
    "$  \n",
    ">> $k = (0,0,0,1) \\\\\n",
    "\\begin{bmatrix}\n",
    "0 & 0 & 0 & -1 \\\\\n",
    "0 & 0 & -1 & 0 \\\\\n",
    "0 & 1 & 0 & 0 \\\\\n",
    "1 & 0 & 0 & 0 \\\\\n",
    "\\end{bmatrix}\n",
    "$"
   ]
  },
  {
   "cell_type": "markdown",
   "id": "56f67c22-4d68-4eae-978b-b4e9630e3b10",
   "metadata": {},
   "source": []
  },
  {
   "cell_type": "code",
   "execution_count": 361,
   "id": "953577da-f161-4330-8e05-bad810e485d0",
   "metadata": {},
   "outputs": [
    {
     "data": {
      "text/plain": [
       "1.0"
      ]
     },
     "execution_count": 361,
     "metadata": {},
     "output_type": "execute_result"
    }
   ],
   "source": []
  },
  {
   "cell_type": "code",
   "execution_count": 360,
   "id": "37d3c114-72d4-4898-95fc-119d0f9f3c63",
   "metadata": {},
   "outputs": [
    {
     "data": {
      "text/plain": [
       "0.75"
      ]
     },
     "execution_count": 360,
     "metadata": {},
     "output_type": "execute_result"
    }
   ],
   "source": []
  },
  {
   "cell_type": "code",
   "execution_count": null,
   "id": "28ce1c8f-9b33-44e8-a278-682abf3d268b",
   "metadata": {},
   "outputs": [],
   "source": []
  }
 ],
 "metadata": {
  "kernelspec": {
   "display_name": "Python 3 (ipykernel)",
   "language": "python",
   "name": "python3"
  },
  "language_info": {
   "codemirror_mode": {
    "name": "ipython",
    "version": 3
   },
   "file_extension": ".py",
   "mimetype": "text/x-python",
   "name": "python",
   "nbconvert_exporter": "python",
   "pygments_lexer": "ipython3",
   "version": "3.9.7"
  }
 },
 "nbformat": 4,
 "nbformat_minor": 5
}
