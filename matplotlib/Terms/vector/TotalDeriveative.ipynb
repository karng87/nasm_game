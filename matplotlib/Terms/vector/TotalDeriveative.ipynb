{
 "cells": [
  {
   "cell_type": "markdown",
   "id": "c564bd30-c401-46fa-b98d-ec8ebf198357",
   "metadata": {},
   "source": [
    "# Total Derivative\n",
    "> ### $$ df \n",
    "\\begin{cases} \n",
    "\\lim\\limits_{\\Delta x \\to 0\\\\\\Delta y \\to 0}\n",
    "\\Delta f \\\\\n",
    "\\lim\\limits_{\\Delta x \\to 0\\\\\\Delta y \\to 0}\n",
    "f(x+\\Delta x , y+\\Delta y) - f(x,y) \\\\\n",
    "\\lim\\limits_{\\Delta x \\to 0\\\\\\Delta y \\to 0}\n",
    "f(x+\\Delta x , y+\\Delta y) - \\big( - f(x, y + \\Delta y) + f(x+\\Delta y, y)\\big) - f(x,y,z) \\\\\n",
    "\\lim\\limits_{\\Delta x \\to 0\\\\\\Delta y \\to 0}\n",
    "f(x+\\Delta x , y+\\Delta y) - f(x, y + \\Delta y) + f(x+\\Delta y, y)\\big) - f(x,y,z) \\\\\n",
    "\\lim\\limits_{\\Delta x \\to 0\\\\\\Delta y \\to 0}\n",
    "\\frac{f(x+\\Delta x , y+\\Delta y) - f(x, y + \\Delta y)}{\\Delta x}\\Delta x + \n",
    "\\frac{f(x+\\Delta y, y)\\big) - f(x,y,z)}{\\Delta y}\\Delta y \\\\\n",
    "\\therefore f_x(x,y)dx + f_y(x,y)dy\\\\\n",
    "\\therefore \\frac{df(x,y)}{dx}dx +  \\frac{df(x,y)}{dy}dy \\\\\n",
    "\\therefore \\frac{d}{dx}f(x,y)dx +  \\frac{d}{dy}f(x,y)dy \\\\\n",
    "\\therefore \\;<\\frac{d}{dx}f(x,y),  \\frac{d}{dy}f(x,y)> \\;\\cdot < dx, dy > \\\\\n",
    "\\therefore \\;<\\frac{d}{dx},  \\frac{d}{dy}>f(x,y) \\;\\cdot < dx, dy > \\\\\n",
    "\\end{cases}$$\n",
    "\n",
    "> ### Del , nabla \n",
    ">> ### $ \\nabla = \\begin {bmatrix}\n",
    "\\frac{\\partial}{\\partial x_0},&\n",
    "\\frac{\\partial}{\\partial x_1},&\n",
    "\\frac{\\partial}{\\partial x_2},&...\n",
    "\\end{bmatrix}$\n",
    ">>> ### $ \\nabla \\; f \\cdot (dx_0, dx_1, dx_2 ..)$\n",
    ">>> ### $ \\nabla \\; f \\cdot d\\vec{r}$\n",
    "> ### Gradient \n",
    ">> ### $ \\nabla \\; f $\n",
    ">> ### $ f$ is scalar function"
   ]
  },
  {
   "cell_type": "code",
   "execution_count": 32,
   "id": "e182d541-bea3-43b7-bb3b-55dd767dfa57",
   "metadata": {},
   "outputs": [
    {
     "data": {
      "text/latex": [
       "$\\displaystyle 3 \\mathbf{{y}_{}}^{2} + 6 \\mathbf{{y}_{}} \\left(\\mathbf{{y}_{}} + 5\\right) + 2 \\mathbf{{y}_{}}$"
      ],
      "text/plain": [
       "3*.y**2 + 6*.y*(.y + 5) + 2*.y"
      ]
     },
     "execution_count": 32,
     "metadata": {},
     "output_type": "execute_result"
    }
   ],
   "source": [
    "# find the total dervative dz/dy of z = 5x+xy+y^2, where x=3y^2 \n",
    "# dz = f_x(z) * dx/dy + f_y(x)\n",
    "import sympy as sm\n",
    "import sympy.vector\n",
    "N = sm.vector.CoordSys3D('')\n",
    "A = sm.Matrix([N.x, N.y, N.z])\n",
    "v = sm.vector.matrix_to_vector(A,N)\n",
    "z = 5*N.x + N.x*N.y+N.y**2\n",
    "g = 3*N.y**2\n",
    "sm.diff(z,N.x)*sm.diff(g,N.y) + sm.diff(z,N.y).subs({N.x:3*N.y**2})"
   ]
  },
  {
   "cell_type": "code",
   "execution_count": 56,
   "id": "ee33e733-db7f-4f47-be82-09d2047ec9ae",
   "metadata": {},
   "outputs": [
    {
     "data": {
      "text/latex": [
       "$\\displaystyle 3 t^{2} + 60 t - 21$"
      ],
      "text/plain": [
       "3*t**2 + 60*t - 21"
      ]
     },
     "execution_count": 56,
     "metadata": {},
     "output_type": "execute_result"
    }
   ],
   "source": [
    "# find the total derivative dz/dt of z=x^2-8xy-y^3, where x=3t and y=1-t\n",
    "z = N.x**2 - 8*N.x*N.y - N.y**3\n",
    "t = sm.symbols('t')\n",
    "x = 3*t\n",
    "y = 1-t\n",
    "# dz = z_x*dx/dt + z_y*dy/dt\n",
    "(sm.diff(z,N.x)*sm.diff(x,t) + sm.diff(z,N.y)*sm.diff(y,t)).subs({N.x:3*t,N.y:1-t}).simplify()"
   ]
  },
  {
   "cell_type": "code",
   "execution_count": 114,
   "id": "6cffbb93-5da3-4a92-b43b-47db22c895a0",
   "metadata": {},
   "outputs": [
    {
     "data": {
      "text/latex": [
       "$\\displaystyle 30 t + 1$"
      ],
      "text/plain": [
       "30*t + 1"
      ]
     },
     "execution_count": 114,
     "metadata": {},
     "output_type": "execute_result"
    }
   ],
   "source": [
    "# find the total derivative dz/dt of z = 7*u+v*t, where u=2t^2 and v=t+1\n",
    "# u(t)\n",
    "u = 2*t**2\n",
    "# v(t)\n",
    "v = t+1\n",
    "# z(u,v,t)\n",
    "z = 7*u+v*t\n",
    "sm.diff(z,t)"
   ]
  },
  {
   "cell_type": "code",
   "execution_count": 201,
   "id": "691b836e-33f7-4ffd-afc2-1d67d26efa49",
   "metadata": {},
   "outputs": [
    {
     "data": {
      "text/latex": [
       "$\\displaystyle 1.51234242057036$"
      ],
      "text/plain": [
       "1.51234242057036"
      ]
     },
     "execution_count": 201,
     "metadata": {},
     "output_type": "execute_result"
    }
   ],
   "source": [
    "# https://www.youtube.com/watch?v=j91ijDR-YIc\n",
    "# T(x,y) = 20 - 4x^2 - y^2\n",
    "T = 20 - 4*N.x**2 - N.y**2\n",
    "# sm.Matrix\n",
    "mTg = sm.Matrix([sm.diff(T,N.x), sm.diff(T,N.y)])\n",
    "# matrix_to_vector ~ to_matrix\n",
    "vTg = sm.vector.matrix_to_vector(mTg, N)\n",
    "mTg = mTg.subs({N.x:2,N.y:-3})\n",
    "# Matrix norm()\n",
    "mTg.norm()\n",
    "\n",
    "sm.N(sm.atan(mTg.norm()))"
   ]
  },
  {
   "cell_type": "code",
   "execution_count": null,
   "id": "8e1dd11d-9e0a-4000-bc97-a6793acec055",
   "metadata": {},
   "outputs": [],
   "source": []
  }
 ],
 "metadata": {
  "kernelspec": {
   "display_name": "Python 3 (ipykernel)",
   "language": "python",
   "name": "python3"
  },
  "language_info": {
   "codemirror_mode": {
    "name": "ipython",
    "version": 3
   },
   "file_extension": ".py",
   "mimetype": "text/x-python",
   "name": "python",
   "nbconvert_exporter": "python",
   "pygments_lexer": "ipython3",
   "version": "3.9.7"
  }
 },
 "nbformat": 4,
 "nbformat_minor": 5
}
