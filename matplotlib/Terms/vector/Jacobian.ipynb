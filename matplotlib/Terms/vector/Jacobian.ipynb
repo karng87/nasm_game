{
 "cells": [
  {
   "cell_type": "code",
   "execution_count": 1,
   "id": "a5b09dde-c6e2-4bd5-a93f-3efa8e4b01a4",
   "metadata": {},
   "outputs": [
    {
     "data": {
      "text/html": [
       "\n",
       "        <iframe\n",
       "            width=\"800\"\n",
       "            height=\"400\"\n",
       "            src=\"https://en.wikipedia.org/wiki/Jacobian_matrix_and_determinant#Examples\"\n",
       "            frameborder=\"0\"\n",
       "            allowfullscreen\n",
       "            \n",
       "        ></iframe>\n",
       "        "
      ],
      "text/plain": [
       "<IPython.lib.display.IFrame at 0x7f3532e5cdf0>"
      ]
     },
     "execution_count": 1,
     "metadata": {},
     "output_type": "execute_result"
    }
   ],
   "source": [
    "import IPython as ipy\n",
    "ipy.display.IFrame('https://en.wikipedia.org/wiki/Jacobian_matrix_and_determinant#Examples',width=800,height=400)\n"
   ]
  },
  {
   "cell_type": "markdown",
   "id": "c799927d-e6cb-4209-a1ff-4e46c0f1a38e",
   "metadata": {},
   "source": [
    "# Jacobian Matrix\n",
    "> ## $ \n",
    "J = \n",
    "\\begin{bmatrix} \n",
    "\\frac{\\partial f}{\\partial x_{1}} \\cdots \\frac{\\partial f}{\\partial x_{n}}\n",
    "\\end{bmatrix}\n",
    "= \n",
    "\\begin{bmatrix} \n",
    "\\nabla^{T}f_{1} \\\\ \\vdots \\\\ \\nabla^{T}f_{m}\n",
    "\\end{bmatrix}\n",
    "=\n",
    "\\begin{bmatrix} \n",
    "\\frac{\\partial f_{1}}{\\partial x_{1}} & \\cdots & \\frac{\\partial f_{1}}{\\partial x_{n}} \\\\\n",
    "\\vdots & \\ddots & \\vdots  \\\\\n",
    "\\frac{\\partial f_{m}}{\\partial x_{1}} & \\cdots & \\frac{\\partial f_{m}}{\\partial x_{n}}\n",
    "\\end{bmatrix}\n",
    "$\n",
    ">> ## gradient at f(p)\n",
    "$\n",
    "\\nabla f(p) = \n",
    "\\begin{bmatrix} \n",
    "\\frac{\\partial f}{\\partial x_{1}}(p) \\\\ \\vdots \\\\ \\frac{\\partial f}{\\partial x_{n}}(p)\n",
    "\\end{bmatrix}\n",
    "$"
   ]
  },
  {
   "cell_type": "code",
   "execution_count": 31,
   "id": "0418a3dc-f987-4d37-94cc-3c2843f38254",
   "metadata": {},
   "outputs": [],
   "source": [
    "# Define function utilization\n",
    "import sympy as sm\n",
    "x,y = sm.symbols('x y', real=True)\n",
    "#y = x**2\n",
    "#y.subs({x:5})"
   ]
  },
  {
   "cell_type": "markdown",
   "id": "ec768072-fc8b-4cd7-9b9f-f60951503615",
   "metadata": {},
   "source": [
    "$$ f = \\begin{bmatrix} f_{1}(x,y) \\\\ f_{2}(x,y) \\end{bmatrix}$$\n",
    "$$ f:\\mathbb{R}^{2} \\to \\mathbb{R}^{2} $$"
   ]
  },
  {
   "cell_type": "code",
   "execution_count": 32,
   "id": "1c3dfc70-0e54-4dab-b4dd-8cd88b18a894",
   "metadata": {},
   "outputs": [
    {
     "data": {
      "text/latex": [
       "$\\displaystyle \\left[\\begin{matrix}10\\\\3\\end{matrix}\\right]$"
      ],
      "text/plain": [
       "Matrix([\n",
       "[10],\n",
       "[ 3]])"
      ]
     },
     "execution_count": 32,
     "metadata": {},
     "output_type": "execute_result"
    }
   ],
   "source": [
    "f1 = x**2 + y**2\n",
    "f2 = x*y\n",
    "f=sm.Matrix([f1,f2])\n",
    "f.subs({x:1,y:3})"
   ]
  },
  {
   "cell_type": "code",
   "execution_count": 33,
   "id": "d593f6fe-3f6c-487a-ba12-ebd06cb55d95",
   "metadata": {},
   "outputs": [
    {
     "data": {
      "text/latex": [
       "$\\displaystyle \\left[\\begin{matrix}2 x & 2 y\\\\y & x\\end{matrix}\\right]$"
      ],
      "text/plain": [
       "Matrix([\n",
       "[2*x, 2*y],\n",
       "[  y,   x]])"
      ]
     },
     "execution_count": 33,
     "metadata": {},
     "output_type": "execute_result"
    }
   ],
   "source": [
    "j = sm.Matrix([[f1.diff(x),f1.diff(y)],[f2.diff(x),f2.diff(y)]])\n",
    "j"
   ]
  },
  {
   "cell_type": "code",
   "execution_count": 47,
   "id": "9995a17a-c22c-4226-8d52-6c617d9d5a6d",
   "metadata": {},
   "outputs": [
    {
     "data": {
      "text/latex": [
       "$\\displaystyle \\left[\\begin{matrix}\\frac{\\partial}{\\partial x} f{\\left(x,y \\right)} & \\frac{\\partial}{\\partial y} f{\\left(x,y \\right)}\\end{matrix}\\right]$"
      ],
      "text/plain": [
       "Matrix([[Derivative(f(x, y), x), Derivative(f(x, y), y)]])"
      ]
     },
     "execution_count": 47,
     "metadata": {},
     "output_type": "execute_result"
    }
   ],
   "source": [
    "a = sm.Matrix([sm.Function('f')(x,y)])\n",
    "#a.jacobian?\n",
    "a.jacobian([x,y])"
   ]
  },
  {
   "cell_type": "code",
   "execution_count": null,
   "id": "d98430e6-0d30-411d-b3b9-96fea775f260",
   "metadata": {},
   "outputs": [],
   "source": []
  },
  {
   "cell_type": "code",
   "execution_count": null,
   "id": "0377b56c-30c2-4009-abe0-f42de33a852a",
   "metadata": {},
   "outputs": [],
   "source": []
  }
 ],
 "metadata": {
  "kernelspec": {
   "display_name": "Python 3 (ipykernel)",
   "language": "python",
   "name": "python3"
  },
  "language_info": {
   "codemirror_mode": {
    "name": "ipython",
    "version": 3
   },
   "file_extension": ".py",
   "mimetype": "text/x-python",
   "name": "python",
   "nbconvert_exporter": "python",
   "pygments_lexer": "ipython3",
   "version": "3.9.9"
  }
 },
 "nbformat": 4,
 "nbformat_minor": 5
}
