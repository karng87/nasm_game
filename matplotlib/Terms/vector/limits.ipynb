{
 "cells": [
  {
   "cell_type": "code",
   "execution_count": 1,
   "id": "6199eda9-5a3b-4092-88fb-85fb6d0aac2a",
   "metadata": {},
   "outputs": [],
   "source": [
    "import sympy as sm"
   ]
  },
  {
   "cell_type": "markdown",
   "id": "245f1df2-a978-42e2-bdfb-d94352e76843",
   "metadata": {},
   "source": [
    "# Limit\n",
    "> ## $ \\lim \\limits_{x \\to \\pi} sin(\\frac{x}{2}+sin(x))$"
   ]
  },
  {
   "cell_type": "code",
   "execution_count": 5,
   "id": "73ec1a10-0478-4529-bc1a-5ce9d0d54606",
   "metadata": {},
   "outputs": [
    {
     "data": {
      "text/latex": [
       "$\\displaystyle 1$"
      ],
      "text/plain": [
       "1"
      ]
     },
     "execution_count": 5,
     "metadata": {},
     "output_type": "execute_result"
    }
   ],
   "source": [
    "x = sm.symbols('x')\n",
    "expr = sm.sin(x/2 + sm.sin(x))\n",
    "sm.limit(expr,x,sm.pi)"
   ]
  },
  {
   "cell_type": "markdown",
   "id": "05f5cee4-d9b5-456b-a417-f0e2e9df1b8e",
   "metadata": {},
   "source": [
    "## $ \\lim \\limits_{x\\to0^{+}} \\frac{2e^{1/x}}{e^{1/x}+1} $"
   ]
  },
  {
   "cell_type": "code",
   "execution_count": 12,
   "id": "50302ebd-f0b4-47bf-9075-841b568a006c",
   "metadata": {},
   "outputs": [
    {
     "data": {
      "text/latex": [
       "$\\displaystyle 2$"
      ],
      "text/plain": [
       "2"
      ]
     },
     "execution_count": 12,
     "metadata": {},
     "output_type": "execute_result"
    }
   ],
   "source": [
    "sm.limit(2*sm.exp(1/x) / (sm.exp(1/x)+1),x,0,dir='+')"
   ]
  },
  {
   "cell_type": "markdown",
   "id": "025de11a-259a-4328-8acd-03303767bd09",
   "metadata": {},
   "source": [
    "## $ \\lim\\limits_{x \\to \\infty} \\frac{cos(x)-1}{x}$"
   ]
  },
  {
   "cell_type": "code",
   "execution_count": 15,
   "id": "6c56ffce-6405-4522-b317-c65a67c3165e",
   "metadata": {},
   "outputs": [
    {
     "data": {
      "text/latex": [
       "$\\displaystyle 0$"
      ],
      "text/plain": [
       "0"
      ]
     },
     "execution_count": 15,
     "metadata": {},
     "output_type": "execute_result"
    }
   ],
   "source": [
    "sm.limit( (sm.cos(x)-1)/x, x, sm.oo)"
   ]
  },
  {
   "cell_type": "markdown",
   "id": "6c357682-908a-4999-a135-9dee413ccda9",
   "metadata": {},
   "source": [
    "# Derivatvies\n",
    "## $ \\frac{d}{dx}(\\frac{1+sin\\,x}{1-cos\\, x})^2 $"
   ]
  },
  {
   "cell_type": "code",
   "execution_count": null,
   "id": "c7d4e32a-598d-4ce7-9a82-4b37a05861d4",
   "metadata": {},
   "outputs": [],
   "source": []
  }
 ],
 "metadata": {
  "kernelspec": {
   "display_name": "Python 3 (ipykernel)",
   "language": "python",
   "name": "python3"
  },
  "language_info": {
   "codemirror_mode": {
    "name": "ipython",
    "version": 3
   },
   "file_extension": ".py",
   "mimetype": "text/x-python",
   "name": "python",
   "nbconvert_exporter": "python",
   "pygments_lexer": "ipython3",
   "version": "3.9.7"
  }
 },
 "nbformat": 4,
 "nbformat_minor": 5
}
