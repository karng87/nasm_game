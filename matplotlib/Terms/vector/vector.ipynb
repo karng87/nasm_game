{
 "cells": [
  {
   "cell_type": "markdown",
   "id": "17970923-1528-41fd-8c58-bee6758f8c91",
   "metadata": {},
   "source": [
    "# [vector](https://ghebook.blogspot.com/2010/07/vector.html)\n",
    "> # Vector $\\leftrightarrow$ Scalar\n",
    ">> ## quaternion $\\to$ vector\n",
    ">> ## scalar multiply\n",
    ">> ## addictive\n",
    ">>> ### addition, subtraction"
   ]
  },
  {
   "cell_type": "code",
   "execution_count": 137,
   "id": "ff3b8e35-74b7-45c1-97f6-b0368f9f240f",
   "metadata": {},
   "outputs": [
    {
     "data": {
      "text/plain": [
       "(Q.x*(q0**2 + q1**2 - q2**2 - q3**2) + Q.y*(2*q0*q3 + 2*q1*q2) + Q.z*(-2*q0*q2 + 2*q1*q3),\n",
       " Q.x*(-2*q0*q3 + 2*q1*q2) + Q.y*(q0**2 - q1**2 + q2**2 - q3**2) + Q.z*(2*q0*q1 + 2*q2*q3),\n",
       " Q.x*(2*q0*q2 + 2*q1*q3) + Q.y*(-2*q0*q1 + 2*q2*q3) + Q.z*(q0**2 - q1**2 - q2**2 + q3**2))"
      ]
     },
     "execution_count": 137,
     "metadata": {},
     "output_type": "execute_result"
    }
   ],
   "source": [
    "import sympy as sm\n",
    "import sympy.vector\n",
    "B = sm.vector.CoordSys3D('B')\n",
    "q0,q1,q2,q3 = sm.symbols('q0:4')\n",
    "Q = B.orient_new_quaternion('Q',q0,q1,q2,q3)\n",
    "Q.transformation_to_parent()"
   ]
  },
  {
   "cell_type": "code",
   "execution_count": 139,
   "id": "cee3184b-5009-4710-bd57-a7ec53c06d13",
   "metadata": {},
   "outputs": [
    {
     "data": {
      "text/latex": [
       "$\\displaystyle \\left[\\begin{matrix}\\frac{\\mathbf{{x}_{B}} \\left(q_{0}^{2} + q_{1}^{2} - q_{2}^{2} - q_{3}^{2}\\right)}{q_{0}^{4} + 2 q_{0}^{2} q_{1}^{2} + 2 q_{0}^{2} q_{2}^{2} + 2 q_{0}^{2} q_{3}^{2} + q_{1}^{4} + 2 q_{1}^{2} q_{2}^{2} + 2 q_{1}^{2} q_{3}^{2} + q_{2}^{4} + 2 q_{2}^{2} q_{3}^{2} + q_{3}^{4}} + \\frac{\\mathbf{{y}_{B}} \\left(- 2 q_{0} q_{3} + 2 q_{1} q_{2}\\right)}{q_{0}^{4} + 2 q_{0}^{2} q_{1}^{2} + 2 q_{0}^{2} q_{2}^{2} + 2 q_{0}^{2} q_{3}^{2} + q_{1}^{4} + 2 q_{1}^{2} q_{2}^{2} + 2 q_{1}^{2} q_{3}^{2} + q_{2}^{4} + 2 q_{2}^{2} q_{3}^{2} + q_{3}^{4}} + \\frac{\\mathbf{{z}_{B}} \\left(2 q_{0} q_{2} + 2 q_{1} q_{3}\\right)}{q_{0}^{4} + 2 q_{0}^{2} q_{1}^{2} + 2 q_{0}^{2} q_{2}^{2} + 2 q_{0}^{2} q_{3}^{2} + q_{1}^{4} + 2 q_{1}^{2} q_{2}^{2} + 2 q_{1}^{2} q_{3}^{2} + q_{2}^{4} + 2 q_{2}^{2} q_{3}^{2} + q_{3}^{4}}\\\\\\frac{\\mathbf{{x}_{B}} \\left(2 q_{0} q_{3} + 2 q_{1} q_{2}\\right)}{q_{0}^{4} + 2 q_{0}^{2} q_{1}^{2} + 2 q_{0}^{2} q_{2}^{2} + 2 q_{0}^{2} q_{3}^{2} + q_{1}^{4} + 2 q_{1}^{2} q_{2}^{2} + 2 q_{1}^{2} q_{3}^{2} + q_{2}^{4} + 2 q_{2}^{2} q_{3}^{2} + q_{3}^{4}} + \\frac{\\mathbf{{y}_{B}} \\left(q_{0}^{2} - q_{1}^{2} + q_{2}^{2} - q_{3}^{2}\\right)}{q_{0}^{4} + 2 q_{0}^{2} q_{1}^{2} + 2 q_{0}^{2} q_{2}^{2} + 2 q_{0}^{2} q_{3}^{2} + q_{1}^{4} + 2 q_{1}^{2} q_{2}^{2} + 2 q_{1}^{2} q_{3}^{2} + q_{2}^{4} + 2 q_{2}^{2} q_{3}^{2} + q_{3}^{4}} + \\frac{\\mathbf{{z}_{B}} \\left(- 2 q_{0} q_{1} + 2 q_{2} q_{3}\\right)}{q_{0}^{4} + 2 q_{0}^{2} q_{1}^{2} + 2 q_{0}^{2} q_{2}^{2} + 2 q_{0}^{2} q_{3}^{2} + q_{1}^{4} + 2 q_{1}^{2} q_{2}^{2} + 2 q_{1}^{2} q_{3}^{2} + q_{2}^{4} + 2 q_{2}^{2} q_{3}^{2} + q_{3}^{4}}\\\\\\frac{\\mathbf{{x}_{B}} \\left(- 2 q_{0} q_{2} + 2 q_{1} q_{3}\\right)}{q_{0}^{4} + 2 q_{0}^{2} q_{1}^{2} + 2 q_{0}^{2} q_{2}^{2} + 2 q_{0}^{2} q_{3}^{2} + q_{1}^{4} + 2 q_{1}^{2} q_{2}^{2} + 2 q_{1}^{2} q_{3}^{2} + q_{2}^{4} + 2 q_{2}^{2} q_{3}^{2} + q_{3}^{4}} + \\frac{\\mathbf{{y}_{B}} \\left(2 q_{0} q_{1} + 2 q_{2} q_{3}\\right)}{q_{0}^{4} + 2 q_{0}^{2} q_{1}^{2} + 2 q_{0}^{2} q_{2}^{2} + 2 q_{0}^{2} q_{3}^{2} + q_{1}^{4} + 2 q_{1}^{2} q_{2}^{2} + 2 q_{1}^{2} q_{3}^{2} + q_{2}^{4} + 2 q_{2}^{2} q_{3}^{2} + q_{3}^{4}} + \\frac{\\mathbf{{z}_{B}} \\left(q_{0}^{2} - q_{1}^{2} - q_{2}^{2} + q_{3}^{2}\\right)}{q_{0}^{4} + 2 q_{0}^{2} q_{1}^{2} + 2 q_{0}^{2} q_{2}^{2} + 2 q_{0}^{2} q_{3}^{2} + q_{1}^{4} + 2 q_{1}^{2} q_{2}^{2} + 2 q_{1}^{2} q_{3}^{2} + q_{2}^{4} + 2 q_{2}^{2} q_{3}^{2} + q_{3}^{4}}\\end{matrix}\\right]$"
      ],
      "text/plain": [
       "Matrix([\n",
       "[B.x*(q0**2 + q1**2 - q2**2 - q3**2)/(q0**4 + 2*q0**2*q1**2 + 2*q0**2*q2**2 + 2*q0**2*q3**2 + q1**4 + 2*q1**2*q2**2 + 2*q1**2*q3**2 + q2**4 + 2*q2**2*q3**2 + q3**4) + B.y*(-2*q0*q3 + 2*q1*q2)/(q0**4 + 2*q0**2*q1**2 + 2*q0**2*q2**2 + 2*q0**2*q3**2 + q1**4 + 2*q1**2*q2**2 + 2*q1**2*q3**2 + q2**4 + 2*q2**2*q3**2 + q3**4) + B.z*(2*q0*q2 + 2*q1*q3)/(q0**4 + 2*q0**2*q1**2 + 2*q0**2*q2**2 + 2*q0**2*q3**2 + q1**4 + 2*q1**2*q2**2 + 2*q1**2*q3**2 + q2**4 + 2*q2**2*q3**2 + q3**4)],\n",
       "[B.x*(2*q0*q3 + 2*q1*q2)/(q0**4 + 2*q0**2*q1**2 + 2*q0**2*q2**2 + 2*q0**2*q3**2 + q1**4 + 2*q1**2*q2**2 + 2*q1**2*q3**2 + q2**4 + 2*q2**2*q3**2 + q3**4) + B.y*(q0**2 - q1**2 + q2**2 - q3**2)/(q0**4 + 2*q0**2*q1**2 + 2*q0**2*q2**2 + 2*q0**2*q3**2 + q1**4 + 2*q1**2*q2**2 + 2*q1**2*q3**2 + q2**4 + 2*q2**2*q3**2 + q3**4) + B.z*(-2*q0*q1 + 2*q2*q3)/(q0**4 + 2*q0**2*q1**2 + 2*q0**2*q2**2 + 2*q0**2*q3**2 + q1**4 + 2*q1**2*q2**2 + 2*q1**2*q3**2 + q2**4 + 2*q2**2*q3**2 + q3**4)],\n",
       "[B.x*(-2*q0*q2 + 2*q1*q3)/(q0**4 + 2*q0**2*q1**2 + 2*q0**2*q2**2 + 2*q0**2*q3**2 + q1**4 + 2*q1**2*q2**2 + 2*q1**2*q3**2 + q2**4 + 2*q2**2*q3**2 + q3**4) + B.y*(2*q0*q1 + 2*q2*q3)/(q0**4 + 2*q0**2*q1**2 + 2*q0**2*q2**2 + 2*q0**2*q3**2 + q1**4 + 2*q1**2*q2**2 + 2*q1**2*q3**2 + q2**4 + 2*q2**2*q3**2 + q3**4) + B.z*(q0**2 - q1**2 - q2**2 + q3**2)/(q0**4 + 2*q0**2*q1**2 + 2*q0**2*q2**2 + 2*q0**2*q3**2 + q1**4 + 2*q1**2*q2**2 + 2*q1**2*q3**2 + q2**4 + 2*q2**2*q3**2 + q3**4)]])"
      ]
     },
     "execution_count": 139,
     "metadata": {},
     "output_type": "execute_result"
    }
   ],
   "source": [
    "Q.transformation_from_parent()"
   ]
  },
  {
   "cell_type": "code",
   "execution_count": 115,
   "id": "c1472266-f40b-48f8-a5d8-a1202db37d1a",
   "metadata": {
    "tags": []
   },
   "outputs": [
    {
     "data": {
      "text/plain": [
       "True"
      ]
     },
     "execution_count": 115,
     "metadata": {},
     "output_type": "execute_result"
    }
   ],
   "source": [
    "import numpy as np\n",
    "A1 = np.matrix([1,2,3])\n",
    "A2 = np.matrix([4,5,6])\n",
    "np.dot(A1,A2.T) == 1*4 + 2*5 + 3*6\n",
    "np.cross(A1,A2) == np.matrix([2*6 - 5*3, 3*4 -1*6, 1*5 - 2*4])\n",
    "\n",
    "a1 = np.array([1,2,3])\n",
    "a2 = np.array([4,5,6])\n",
    "np.dot(a1,a2) == 1*4 + 2*5 + 3*6\n",
    "np.cross(a1,a2) == [2*6 - 5*3, 3*4 -1*6, 1*5 - 2*4]\n",
    "\n",
    "c1 = np.array([1+2j,7+8j])\n",
    "c2 = np.array([3+4j,5+6j])\n",
    "# np.vdot(c1,c2) \\iff \\conj{c1} \\dot c2\n",
    "np.vdot(c1,c2) == np.conj(c1) * c2\n",
    "np.dot(c1,c2) == c1*c2\n",
    "np.dot(c1,c2)  == (1*3 - 2*4 + 7*5 - 8*6)+(1*4j + 2*3j + 7*6j + 5*8j)\n",
    "np.cross(c1,c2) == (1+2j)*(5+6j) - (7+8j)*(3+4j)"
   ]
  },
  {
   "cell_type": "code",
   "execution_count": 133,
   "id": "86ef454d-8815-4a03-b52a-6c4db6496389",
   "metadata": {},
   "outputs": [
    {
     "data": {
      "text/plain": [
       "{C1: C1.i, C2: C2.i}"
      ]
     },
     "execution_count": 133,
     "metadata": {},
     "output_type": "execute_result"
    }
   ],
   "source": [
    "import sympy as sm\n",
    "import sympy.vector\n",
    "C1 = sm.vector.CoordSys3D('C1')\n",
    "C2 = sm.vector.CoordSys3D('C2')\n",
    "x,y,z,u1,u2,u3,v1,v2,v3 = sm.symbols('x y z u1:4 v1:4')\n",
    "u = sm.Matrix([u1,u2,u3])\n",
    "v = sm.Matrix([v1,v2,u3])\n",
    "sm.vector.dot(u,v)\n",
    "u.dot(v)\n",
    "\n",
    "sm.vector.cross(u,v)\n",
    "u.cross(v)\n",
    "\n",
    "u.project(v)\n",
    "v = C1.i + C2.i\n",
    "v.separate()"
   ]
  },
  {
   "cell_type": "code",
   "execution_count": 13,
   "id": "138e9766-fa6c-4d2e-9c02-057d9ad15348",
   "metadata": {},
   "outputs": [
    {
     "data": {
      "text/latex": [
       "$\\displaystyle \\left[\\begin{matrix}u_{1}\\\\u_{2}\\\\u_{3}\\end{matrix}\\right]$"
      ],
      "text/plain": [
       "Matrix([\n",
       "[u_1],\n",
       "[u_2],\n",
       "[u_3]])"
      ]
     },
     "execution_count": 13,
     "metadata": {},
     "output_type": "execute_result"
    }
   ],
   "source": []
  },
  {
   "cell_type": "markdown",
   "id": "ec94e05f-b430-4098-aa5f-90bd023620f6",
   "metadata": {},
   "source": [
    "## Addition and Multiplication\n",
    "> ## dot product\n",
    ">> ## $ \\vec{v} \\cdot \\vec{u} = ||\\vec{v}||\\: ||\\vec{u}||\\: cos(\\theta)$\n",
    "> ## cross product\n",
    ">> ## $ \\vec{v} \\times \\vec{u} = ||\\vec{v}||\\: ||\\vec{u}||\\: sin(\\theta)\\: \\hat{k}$\n",
    "> ## dyad product\n",
    ">> ## $ \\vec{v} \\otimes \\vec{u}$"
   ]
  },
  {
   "cell_type": "code",
   "execution_count": 33,
   "id": "edbc1fc1-a171-483b-ae49-646969c5e866",
   "metadata": {},
   "outputs": [
    {
     "data": {
      "text/plain": [
       "(array([ 7, 16, 27]), array([ 7, 16, 27]), 50, array([-6, 12, -6]))"
      ]
     },
     "execution_count": 33,
     "metadata": {},
     "output_type": "execute_result"
    }
   ],
   "source": [
    "a*b, a*b , np.dot(a,b), np.cross(a,b)"
   ]
  },
  {
   "cell_type": "code",
   "execution_count": 39,
   "id": "ccb57718-1103-4ebf-8005-0e07a66ae89c",
   "metadata": {},
   "outputs": [
    {
     "data": {
      "text/plain": [
       "(Matrix([\n",
       " [u_1 + v_1],\n",
       " [u_2 + v_2],\n",
       " [    2*u_3]]),\n",
       " u_1*v_1 + u_2*v_2 + u_3**2,\n",
       " Matrix([\n",
       " [ u_2*u_3 - u_3*v_2],\n",
       " [-u_1*u_3 + u_3*v_1],\n",
       " [ u_1*v_2 - u_2*v_1]]))"
      ]
     },
     "execution_count": 39,
     "metadata": {},
     "output_type": "execute_result"
    }
   ],
   "source": [
    "u+v, v.dot(u), u.cross(v),"
   ]
  },
  {
   "cell_type": "markdown",
   "id": "69505e97-9f8f-4145-a264-ff051f21b3b5",
   "metadata": {},
   "source": [
    "> ## Length of vectors\n",
    ">> ## norm\n",
    ">>> ## $||\\vec{v}||$"
   ]
  },
  {
   "cell_type": "code",
   "execution_count": 40,
   "id": "403f660c-463c-47dd-a3a0-766ed8e19bc0",
   "metadata": {},
   "outputs": [
    {
     "data": {
      "text/plain": [
       "3.7416573867739413"
      ]
     },
     "execution_count": 40,
     "metadata": {},
     "output_type": "execute_result"
    }
   ],
   "source": [
    "np.linalg.norm(a)"
   ]
  },
  {
   "cell_type": "code",
   "execution_count": 41,
   "id": "da5475a1-9e6e-4510-b667-29067d62f2a0",
   "metadata": {},
   "outputs": [
    {
     "data": {
      "text/latex": [
       "$\\displaystyle \\sqrt{\\left|{u_{1}}\\right|^{2} + \\left|{u_{2}}\\right|^{2} + \\left|{u_{3}}\\right|^{2}}$"
      ],
      "text/plain": [
       "sqrt(Abs(u_1)**2 + Abs(u_2)**2 + Abs(u_3)**2)"
      ]
     },
     "execution_count": 41,
     "metadata": {},
     "output_type": "execute_result"
    }
   ],
   "source": [
    "u.norm()"
   ]
  },
  {
   "cell_type": "markdown",
   "id": "1acc80b6-3ac3-488f-8963-a32f64c6fb8a",
   "metadata": {},
   "source": [
    "> ## Projection \n",
    ">> ## $$ proj_v(u) = \\frac{\\vec{u}\\cdot \\vec{v}}{||\\vec{v}||^2} = ||\\vec{u}||\\:cos(\\theta)$$"
   ]
  },
  {
   "cell_type": "code",
   "execution_count": 28,
   "id": "65e3642e-e167-44e1-ab79-68e0eef20aa2",
   "metadata": {},
   "outputs": [
    {
     "data": {
      "text/plain": [
       "50"
      ]
     },
     "execution_count": 28,
     "metadata": {},
     "output_type": "execute_result"
    }
   ],
   "source": [
    "np.dot(a,b)/np.linalg.norm(b)"
   ]
  },
  {
   "cell_type": "code",
   "execution_count": null,
   "id": "e6120837-0620-421f-8d9d-90e4aa620c6e",
   "metadata": {},
   "outputs": [],
   "source": []
  }
 ],
 "metadata": {
  "kernelspec": {
   "display_name": "Python 3 (ipykernel)",
   "language": "python",
   "name": "python3"
  },
  "language_info": {
   "codemirror_mode": {
    "name": "ipython",
    "version": 3
   },
   "file_extension": ".py",
   "mimetype": "text/x-python",
   "name": "python",
   "nbconvert_exporter": "python",
   "pygments_lexer": "ipython3",
   "version": "3.9.7"
  }
 },
 "nbformat": 4,
 "nbformat_minor": 5
}
