{
 "cells": [
  {
   "cell_type": "markdown",
   "id": "508a01fc-9b3b-4d53-88b0-2912cfe272f4",
   "metadata": {
    "tags": []
   },
   "source": [
    "# Marix multilication\n",
    "> ### $\n",
    "\\begin {bmatrix}1 && 2 && 3  \\\\ 1 && 2 &&  3 \\\\ 1 && 2 && 3\\end{bmatrix}\\:\n",
    "\\begin {bmatrix} 3 \\\\ 4 \\\\ 5 \\end{bmatrix} = \\\\\n",
    "3 \\begin{bmatrix} 1 \\\\ 1 \\\\ 1 \\end{bmatrix} +\n",
    "4 \\begin{bmatrix} 2 \\\\ 2 \\\\ 2 \\end{bmatrix} +\n",
    "5 \\begin{bmatrix} 3 \\\\ 3 \\\\ 3 \\end{bmatrix} = \n",
    "\\begin{bmatrix} 26 \\\\ 26 \\\\ 26 \\end{bmatrix} \\dots (14)\n",
    "$"
   ]
  },
  {
   "cell_type": "markdown",
   "id": "4eda8b76-5878-4204-a506-f8ac60642a24",
   "metadata": {},
   "source": [
    "> ### $\n",
    "\\begin {bmatrix} 1 \\\\ 4 \\\\ 7 \\end{bmatrix} \\:\n",
    "\\begin {bmatrix} 1 && 1 && 1  \\\\ 2 && 2 &&  2 \\\\ 3 && 3 && 3 \\end{bmatrix} = \\\\\n",
    "1 \\begin{bmatrix} 1 && 1 && 1 \\end{bmatrix} +\n",
    "4 \\begin{bmatrix} 2 && 2 && 2 \\end{bmatrix} +\n",
    "7 \\begin{bmatrix} 3 && 3 && 3 \\end{bmatrix} = \n",
    "\\begin{bmatrix} 30 && 30 && 30 \\end{bmatrix} \\dots (15)\n",
    "$"
   ]
  },
  {
   "cell_type": "code",
   "execution_count": 6,
   "id": "c1472266-f40b-48f8-a5d8-a1202db37d1a",
   "metadata": {
    "tags": []
   },
   "outputs": [],
   "source": [
    "import numpy as np\n",
    "\n",
    "import sympy as sm\n",
    "import sympy.vector\n",
    "\n",
    "import scipy as sc\n",
    "import scipy.integrate"
   ]
  },
  {
   "cell_type": "code",
   "execution_count": 13,
   "id": "138e9766-fa6c-4d2e-9c02-057d9ad15348",
   "metadata": {},
   "outputs": [
    {
     "data": {
      "text/latex": [
       "$\\displaystyle \\left[\\begin{matrix}u_{1}\\\\u_{2}\\\\u_{3}\\end{matrix}\\right]$"
      ],
      "text/plain": [
       "Matrix([\n",
       "[u_1],\n",
       "[u_2],\n",
       "[u_3]])"
      ]
     },
     "execution_count": 13,
     "metadata": {},
     "output_type": "execute_result"
    }
   ],
   "source": [
    "x,y,z,u1,u2,u3,v1,v2,v3 = sm.symbols('x y z u_1 u_2 u_3 v_1 v_2 v_3')\n",
    "a = np.array([1,2,3])\n",
    "b = np.array([7,8,9])\n",
    "u = sm.Matrix([u1,u2,u3])\n",
    "v = sm.Matrix([v1,v2,u3])\n"
   ]
  },
  {
   "cell_type": "markdown",
   "id": "ec94e05f-b430-4098-aa5f-90bd023620f6",
   "metadata": {},
   "source": [
    "## Addition and Multiplication\n",
    "> ## dot product\n",
    ">> ## $ \\vec{v} \\cdot \\vec{u} = ||\\vec{v}||\\: ||\\vec{u}||\\: cos(\\theta)$\n",
    "> ## cross product\n",
    ">> ## $ \\vec{v} \\times \\vec{u} = ||\\vec{v}||\\: ||\\vec{u}||\\: sin(\\theta)\\: \\hat{k}$\n",
    "> ## dyad product\n",
    ">> ## $ \\vec{v} \\otimes \\vec{u}$"
   ]
  },
  {
   "cell_type": "code",
   "execution_count": 33,
   "id": "edbc1fc1-a171-483b-ae49-646969c5e866",
   "metadata": {},
   "outputs": [
    {
     "data": {
      "text/plain": [
       "(array([ 7, 16, 27]), array([ 7, 16, 27]), 50, array([-6, 12, -6]))"
      ]
     },
     "execution_count": 33,
     "metadata": {},
     "output_type": "execute_result"
    }
   ],
   "source": [
    "a*b, a*b , np.dot(a,b), np.cross(a,b)"
   ]
  },
  {
   "cell_type": "code",
   "execution_count": 39,
   "id": "ccb57718-1103-4ebf-8005-0e07a66ae89c",
   "metadata": {},
   "outputs": [
    {
     "data": {
      "text/plain": [
       "(Matrix([\n",
       " [u_1 + v_1],\n",
       " [u_2 + v_2],\n",
       " [    2*u_3]]),\n",
       " u_1*v_1 + u_2*v_2 + u_3**2,\n",
       " Matrix([\n",
       " [ u_2*u_3 - u_3*v_2],\n",
       " [-u_1*u_3 + u_3*v_1],\n",
       " [ u_1*v_2 - u_2*v_1]]))"
      ]
     },
     "execution_count": 39,
     "metadata": {},
     "output_type": "execute_result"
    }
   ],
   "source": [
    "u+v, v.dot(u), u.cross(v),"
   ]
  },
  {
   "cell_type": "markdown",
   "id": "69505e97-9f8f-4145-a264-ff051f21b3b5",
   "metadata": {},
   "source": [
    "> ## Length of vectors\n",
    ">> ## norm\n",
    ">>> ## $||\\vec{v}||$"
   ]
  },
  {
   "cell_type": "code",
   "execution_count": 40,
   "id": "403f660c-463c-47dd-a3a0-766ed8e19bc0",
   "metadata": {},
   "outputs": [
    {
     "data": {
      "text/plain": [
       "3.7416573867739413"
      ]
     },
     "execution_count": 40,
     "metadata": {},
     "output_type": "execute_result"
    }
   ],
   "source": [
    "np.linalg.norm(a)"
   ]
  },
  {
   "cell_type": "code",
   "execution_count": 41,
   "id": "da5475a1-9e6e-4510-b667-29067d62f2a0",
   "metadata": {},
   "outputs": [
    {
     "data": {
      "text/latex": [
       "$\\displaystyle \\sqrt{\\left|{u_{1}}\\right|^{2} + \\left|{u_{2}}\\right|^{2} + \\left|{u_{3}}\\right|^{2}}$"
      ],
      "text/plain": [
       "sqrt(Abs(u_1)**2 + Abs(u_2)**2 + Abs(u_3)**2)"
      ]
     },
     "execution_count": 41,
     "metadata": {},
     "output_type": "execute_result"
    }
   ],
   "source": [
    "u.norm()"
   ]
  },
  {
   "cell_type": "markdown",
   "id": "1acc80b6-3ac3-488f-8963-a32f64c6fb8a",
   "metadata": {},
   "source": [
    "> ## Projection \n",
    ">> ## $$ proj_v(u) = \\frac{\\vec{u}\\cdot \\vec{v}}{||\\vec{v}||^2} = ||\\vec{u}||\\:cos(\\theta)$$"
   ]
  },
  {
   "cell_type": "code",
   "execution_count": 28,
   "id": "65e3642e-e167-44e1-ab79-68e0eef20aa2",
   "metadata": {},
   "outputs": [
    {
     "data": {
      "text/plain": [
       "50"
      ]
     },
     "execution_count": 28,
     "metadata": {},
     "output_type": "execute_result"
    }
   ],
   "source": [
    "np.dot(a,b)/np.linalg.norm(b)"
   ]
  },
  {
   "cell_type": "code",
   "execution_count": null,
   "id": "e6120837-0620-421f-8d9d-90e4aa620c6e",
   "metadata": {},
   "outputs": [],
   "source": []
  }
 ],
 "metadata": {
  "kernelspec": {
   "display_name": "Python 3 (ipykernel)",
   "language": "python",
   "name": "python3"
  },
  "language_info": {
   "codemirror_mode": {
    "name": "ipython",
    "version": 3
   },
   "file_extension": ".py",
   "mimetype": "text/x-python",
   "name": "python",
   "nbconvert_exporter": "python",
   "pygments_lexer": "ipython3",
   "version": "3.9.7"
  }
 },
 "nbformat": 4,
 "nbformat_minor": 5
}
