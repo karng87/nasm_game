{
 "cells": [
  {
   "cell_type": "markdown",
   "id": "91303b00-fde2-4283-8175-24a5700c9668",
   "metadata": {},
   "source": [
    "# [Linear Maps](https://www.youtube.com/watch?v=dtvM-CzNe50&list=PLJHszsWbB6hrkmmq57lX8BV-o-YIOFsiG&index=10)\n",
    "### transform input vectors , don't transform the basis.\n",
    "- keep gridlines parallel\n",
    "- keep gridlines evenly spaced\n",
    "- keep the origin stationary\n",
    "- translations are not linear maps\n",
    "- Maps vectors to vectors $ L:V \\to W$\n",
    "- Linearity \n",
    "\n",
    "> ### - Coordinate Definition(arrays)\n",
    ">> ### Matirx\n",
    ">>> ### are the coordinate version of linear maps\n",
    ">>> ### transform column vectors\n",
    ">> ### Column Vectors\n",
    ">>> ### Vectors\n",
    ">> ### Row Vectors\n",
    ">>> ### Covectors\n",
    "> ### - Geometric Definition(pictures)\n",
    "> ### - Abstact Definition(algebra)"
   ]
  },
  {
   "cell_type": "code",
   "execution_count": null,
   "id": "26ce59da-0f81-4027-a585-b6a7ac9ebffd",
   "metadata": {},
   "outputs": [],
   "source": []
  },
  {
   "cell_type": "markdown",
   "id": "bab0f5d5-52e4-4d15-a49b-6300d43761d3",
   "metadata": {},
   "source": [
    "> ### $ \\quad L: V \\to V \\quad \\{\\vec{e_1}, \\vec{e_2}\\}$ \n",
    ">> ### $\\vec{W} = L(\\vec{v}) = L(v^1 \\vec{e_1} + v^2 \\vec{e_2}) = v^1 L(\\vec{e_1}) + v^2 L(\\vec{e_2})$\n",
    ">>> ### $ L(\\vec{e_1}) = L_{1}^{1} \\vec{e_1} + L_{1}^{2} \\vec{e_2}$   \n",
    ">>> ### $ L(\\vec{e_2}) = L_{2}^{1} + L_{2}^{2} \\vec{e_2}$"
   ]
  },
  {
   "cell_type": "markdown",
   "id": "a27b93b8-dc5b-4f95-92db-5ad5cfdb9f63",
   "metadata": {},
   "source": [
    "> ### $\\vec{W} = L(\\vec{v}) \\\\\n",
    "= v^1(L_{1}^{1}\\vec{e_1} + L_{1}^{2} \\vec{e_2}) +\n",
    " v^2(L_{2}^{1}\\vec{e_1} + L_{2}^{2} \\vec{e_2}) \\\\\n",
    "= (L_{1}^{1}v^1 + L_{2}^{1} {v^2})\\vec{e_1} +\n",
    " (L_{1}^{2}{v^1} + L_{2}^{2} {v^2}) \\vec{e_2} \\\\\n",
    "= w^1 \\vec{e_1} + w^2 \\vec{e_2}$"
   ]
  },
  {
   "cell_type": "markdown",
   "id": "7b864c3c-675a-4bb0-8508-e54f61df9423",
   "metadata": {},
   "source": [
    "> ### $\\therefore w^1 = L_{1}^{1} v^1 + L_{2}^{1} v^2 $\n",
    "> ### $\\therefore w^2 = L_{1}^{2} v^1 + L_{2}^{2} v^2 $\n",
    "> ### $\\therefore w^i = \\sum_{j=1}^{n} L_{j}^{i} v^j $\n",
    "> ### $\\therefore \\vec{w} = L(\\vec{v}) = \\sum_{i=1}^{n}w^i \\vec{e_i}$\n",
    "> ### $\\therefore L(\\vec{e_i}) = \\sum_{j=1}^{n}L_{i}^{j}\\vec{e_j}$"
   ]
  },
  {
   "cell_type": "code",
   "execution_count": 80,
   "id": "f37cab97-1693-4d56-81e8-2d8dff44ca4b",
   "metadata": {},
   "outputs": [
    {
     "data": {
      "text/plain": [
       "<matplotlib.quiver.Quiver at 0x7fe53487eac0>"
      ]
     },
     "execution_count": 80,
     "metadata": {},
     "output_type": "execute_result"
    },
    {
     "data": {
      "image/png": "[encoded data removed]",
      "text/plain": [
       "<Figure size 720x720 with 1 Axes>"
      ]
     },
     "metadata": {
      "needs_background": "light"
     },
     "output_type": "display_data"
    }
   ],
   "source": [
    "import sympy as sm\n",
    "import sympy.vector\n",
    "import matplotlib.pyplot as plt\n",
    "import numpy as np\n",
    "fig = plt.figure(figsize=(10,10))\n",
    "ax = fig.add_subplot()\n",
    "xi = np.linspace(-3,3,1)\n",
    "ax.spines['left'].set_position('center')\n",
    "ax.spines['bottom'].set_position('center')\n",
    "ax.set(xticks=np.arange(-3,3,0.5), yticks=np.arange(-3,3,0.5),\n",
    "      xlim=(-3,3), ylim=(-3,3),\n",
    "      aspect='equal')\n",
    "\n",
    "ax.grid()\n",
    "ax.quiver(0,0,1,1)\n",
    "ax.quiver(0,0,2,1)\n",
    "ax.quiver(0,0,-1/2,1/4)"
   ]
  },
  {
   "cell_type": "code",
   "execution_count": null,
   "id": "7d1e7769-7a6e-47b9-99e6-062c5943305f",
   "metadata": {},
   "outputs": [],
   "source": []
  },
  {
   "cell_type": "code",
   "execution_count": null,
   "id": "f7e6c91c-e38f-4dd7-a9e4-2be841833eea",
   "metadata": {},
   "outputs": [],
   "source": []
  }
 ],
 "metadata": {
  "kernelspec": {
   "display_name": "Python 3 (ipykernel)",
   "language": "python",
   "name": "python3"
  },
  "language_info": {
   "codemirror_mode": {
    "name": "ipython",
    "version": 3
   },
   "file_extension": ".py",
   "mimetype": "text/x-python",
   "name": "python",
   "nbconvert_exporter": "python",
   "pygments_lexer": "ipython3",
   "version": "3.9.7"
  }
 },
 "nbformat": 4,
 "nbformat_minor": 5
}
