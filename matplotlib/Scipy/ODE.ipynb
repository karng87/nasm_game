{
 "cells": [
  {
   "cell_type": "code",
   "execution_count": 141,
   "id": "8a33389b-ae0b-49d1-9743-4c72286c12f8",
   "metadata": {},
   "outputs": [],
   "source": [
    "import sympy as sp"
   ]
  },
  {
   "cell_type": "code",
   "execution_count": 156,
   "id": "54090af3-6ea8-42d6-98bc-33bdefc5d528",
   "metadata": {},
   "outputs": [
    {
     "data": {
      "text/latex": [
       "$\\displaystyle f{\\left(x,y \\right)}$"
      ],
      "text/plain": [
       "f(x, y)"
      ]
     },
     "execution_count": 156,
     "metadata": {},
     "output_type": "execute_result"
    }
   ],
   "source": [
    "x,y = sp.symbols('x y')\n",
    "f = sp.Function('f')(x)\n",
    "g = sp.Function('f')(x, y)\n",
    "f\n",
    "g"
   ]
  },
  {
   "cell_type": "code",
   "execution_count": 157,
   "id": "59c9b2e9-c589-4bbc-b255-22a03e244162",
   "metadata": {},
   "outputs": [
    {
     "data": {
      "text/latex": [
       "$\\displaystyle \\frac{d}{d x} f{\\left(x \\right)}$"
      ],
      "text/plain": [
       "Derivative(f(x), x)"
      ]
     },
     "execution_count": 157,
     "metadata": {},
     "output_type": "execute_result"
    }
   ],
   "source": [
    "f.diff(x)"
   ]
  },
  {
   "cell_type": "code",
   "execution_count": 158,
   "id": "8712e240-a462-4aeb-a73f-69675fe9a25e",
   "metadata": {},
   "outputs": [
    {
     "data": {
      "text/latex": [
       "$\\displaystyle \\frac{\\partial}{\\partial x} f{\\left(x,y \\right)}$"
      ],
      "text/plain": [
       "Derivative(f(x, y), x)"
      ]
     },
     "execution_count": 158,
     "metadata": {},
     "output_type": "execute_result"
    }
   ],
   "source": [
    "g.diff(x)"
   ]
  },
  {
   "cell_type": "code",
   "execution_count": 164,
   "id": "7c33f254-669b-489d-b203-044e68786e29",
   "metadata": {},
   "outputs": [
    {
     "data": {
      "text/latex": [
       "$\\displaystyle x \\frac{d^{2}}{d x^{2}} f{\\left(x \\right)} + \\frac{d}{d x} f{\\left(x \\right)} = x^{3}$"
      ],
      "text/plain": [
       "Eq(x*Derivative(f(x), (x, 2)) + Derivative(f(x), x), x**3)"
      ]
     },
     "metadata": {},
     "output_type": "display_data"
    },
    {
     "data": {
      "text/latex": [
       "$\\displaystyle f{\\left(x \\right)} = C_{1} + C_{2} \\log{\\left(x \\right)} + \\frac{x^{4}}{16}$"
      ],
      "text/plain": [
       "Eq(f(x), C1 + C2*log(x) + x**4/16)"
      ]
     },
     "execution_count": 164,
     "metadata": {},
     "output_type": "execute_result"
    }
   ],
   "source": [
    "ode = sp.Eq(x*f.diff(x,x)+f.diff(x), x**3)\n",
    "display(ode)\n",
    "sol = sp.dsolve(ode)\n",
    "sol"
   ]
  },
  {
   "cell_type": "code",
   "execution_count": 166,
   "id": "c9e02538-bca5-415a-845f-05636c737191",
   "metadata": {},
   "outputs": [
    {
     "data": {
      "text/latex": [
       "$\\displaystyle f{\\left(x \\right)} = \\frac{x^{4}}{16} - 2 \\log{\\left(x \\right)} - \\frac{1}{16}$"
      ],
      "text/plain": [
       "Eq(f(x), x**4/16 - 2*log(x) - 1/16)"
      ]
     },
     "execution_count": 166,
     "metadata": {},
     "output_type": "execute_result"
    }
   ],
   "source": [
    "ivp = sp.dsolve(ode, ics={f.subs(x,1):0, f.diff().subs(x,2):1})\n",
    "ivp"
   ]
  },
  {
   "cell_type": "code",
   "execution_count": 168,
   "id": "83447082-5994-471e-9a48-5e8d6e0a4a49",
   "metadata": {},
   "outputs": [
    {
     "data": {
      "text/latex": [
       "$\\displaystyle f{\\left(1 \\right)} = 0$"
      ],
      "text/plain": [
       "Eq(f(1), 0)"
      ]
     },
     "execution_count": 168,
     "metadata": {},
     "output_type": "execute_result"
    }
   ],
   "source": [
    "ivp.subs(x,1)\n"
   ]
  },
  {
   "cell_type": "code",
   "execution_count": 171,
   "id": "925ee81f-545b-4a4a-9b20-1deaee38c6ab",
   "metadata": {},
   "outputs": [
    {
     "data": {
      "text/latex": [
       "$\\displaystyle 1$"
      ],
      "text/plain": [
       "1"
      ]
     },
     "execution_count": 171,
     "metadata": {},
     "output_type": "execute_result"
    }
   ],
   "source": [
    "ivp.rhs.diff().subs(x,2)"
   ]
  },
  {
   "cell_type": "code",
   "execution_count": 173,
   "id": "26aa4972-4619-4025-8729-0140e280cdf9",
   "metadata": {},
   "outputs": [
    {
     "data": {
      "text/latex": [
       "$\\displaystyle x^{3}$"
      ],
      "text/plain": [
       "x**3"
      ]
     },
     "execution_count": 173,
     "metadata": {},
     "output_type": "execute_result"
    }
   ],
   "source": [
    "(x*ivp.rhs.diff(x,x) + ivp.rhs.diff()).simplify()"
   ]
  },
  {
   "cell_type": "code",
   "execution_count": null,
   "id": "4a4390c4-0ca5-41e2-8216-69ca83a932fd",
   "metadata": {},
   "outputs": [],
   "source": []
  }
 ],
 "metadata": {
  "kernelspec": {
   "display_name": "Python 3 (ipykernel)",
   "language": "python",
   "name": "python3"
  },
  "language_info": {
   "codemirror_mode": {
    "name": "ipython",
    "version": 3
   },
   "file_extension": ".py",
   "mimetype": "text/x-python",
   "name": "python",
   "nbconvert_exporter": "python",
   "pygments_lexer": "ipython3",
   "version": "3.9.7"
  }
 },
 "nbformat": 4,
 "nbformat_minor": 5
}
