{
 "cells": [
  {
   "cell_type": "code",
   "execution_count": 19,
   "id": "4f70df12-30c4-4b24-8dc8-78b30097ac96",
   "metadata": {},
   "outputs": [
    {
     "data": {
      "image/png": "[encoded data removed]",
      "text/latex": [
       "$\\displaystyle \\sin{\\left(x \\right)}$"
      ],
      "text/plain": [
       "sin(x)"
      ]
     },
     "metadata": {},
     "output_type": "display_data"
    },
    {
     "data": {
      "image/png": "[encoded data removed]",
      "text/latex": [
       "$\\displaystyle \\int \\sin{\\left(x \\right)}\\, dx$"
      ],
      "text/plain": [
       "⌠          \n",
       "⎮ sin(x) dx\n",
       "⌡          "
      ]
     },
     "metadata": {},
     "output_type": "display_data"
    },
    {
     "data": {
      "image/png": "[encoded data removed]",
      "text/latex": [
       "$\\displaystyle - \\cos{\\left(x \\right)}$"
      ],
      "text/plain": [
       "-cos(x)"
      ]
     },
     "metadata": {},
     "output_type": "display_data"
    },
    {
     "data": {
      "image/png": "[encoded data removed]",
      "text/latex": [
       "$\\displaystyle \\cos{\\left(x \\right)}$"
      ],
      "text/plain": [
       "cos(x)"
      ]
     },
     "metadata": {},
     "output_type": "display_data"
    }
   ],
   "source": [
    "from sympy.interactive import printing\n",
    "printing.init_printing(use_latex=True)\n",
    "import numpy as np\n",
    "import sympy as sp\n",
    "x = sp.Symbol('x')\n",
    "f = sp.Function('func')\n",
    "f = sp.sin(x)\n",
    "display(f)\n",
    "f_int = sp.Integral(f,x)\n",
    "display(int_f_x)\n",
    "int_f = sp.integrate(f,x)\n",
    "display(ans)\n",
    "deriv_f = sp.diff(f,x)\n",
    "display(deriv_f)\n"
   ]
  },
  {
   "cell_type": "markdown",
   "id": "21ea73fd-10a9-4505-8ec9-60a486df674c",
   "metadata": {},
   "source": [
    "$$ -\\frac{\\hbar^2}{2m} \\nabla^2 \\psi + V\\psi $$\n"
   ]
  },
  {
   "cell_type": "code",
   "execution_count": 34,
   "id": "f738fc80-2baf-47c1-a5df-ffe9c25770d8",
   "metadata": {},
   "outputs": [
    {
     "data": {
      "image/png": "[encoded data removed]",
      "text/latex": [
       "$\\displaystyle \\left[\\begin{matrix}2 & -1 & -4\\\\3 & -1 & -2\\end{matrix}\\right]$"
      ],
      "text/plain": [
       "⎡2  -1  -4⎤\n",
       "⎢         ⎥\n",
       "⎣3  -1  -2⎦"
      ]
     },
     "metadata": {},
     "output_type": "display_data"
    },
    {
     "data": {
      "image/png": "[encoded data removed]",
      "text/latex": [
       "$\\displaystyle \\left\\{ x : 2, \\  y : 8\\right\\}$"
      ],
      "text/plain": [
       "{x: 2, y: 8}"
      ]
     },
     "metadata": {},
     "output_type": "display_data"
    },
    {
     "name": "stdout",
     "output_type": "stream",
     "text": [
      "with numpy:\n"
     ]
    },
    {
     "data": {
      "text/plain": [
       "array([2., 8.])"
      ]
     },
     "metadata": {},
     "output_type": "display_data"
    },
    {
     "name": "stdout",
     "output_type": "stream",
     "text": [
      "row1: [2, -1, -4]\n"
     ]
    }
   ],
   "source": [
    "x,y = sp.symbols('x y')\n",
    "eq1 = sp.Eq(2*x-y,-4)\n",
    "eq2 = sp.Eq(3*x-y,-2)\n",
    "\n",
    "row1 = [ 2, -1, -4 ]\n",
    "row2 = [ 3, -1, -2 ]\n",
    "mat = sp.Matrix((row1, row2))\n",
    "display(mat)\n",
    "ans = sp.solve_linear_system(mat,x,y)\n",
    "display(ans)\n",
    "\n",
    "print(\"with numpy:\")\n",
    "\n",
    "nrow1 = [2, -1]\n",
    "nrow2 = [3, -1]\n",
    "\n",
    "nmat = np.array([nrow1, nrow2])\n",
    "cmat = np.array([-4,-2])\n",
    "nans = np.linalg.solve(nmat, cmat)\n",
    "display(nans)\n",
    "print(\"row1:\",row1)"
   ]
  },
  {
   "cell_type": "code",
   "execution_count": null,
   "id": "78b486b7-c17b-4c3a-a1b7-1aeca2359111",
   "metadata": {},
   "outputs": [],
   "source": []
  }
 ],
 "metadata": {
  "kernelspec": {
   "display_name": "Python 3 (ipykernel)",
   "language": "python",
   "name": "python3"
  },
  "language_info": {
   "codemirror_mode": {
    "name": "ipython",
    "version": 3
   },
   "file_extension": ".py",
   "mimetype": "text/x-python",
   "name": "python",
   "nbconvert_exporter": "python",
   "pygments_lexer": "ipython3",
   "version": "3.9.7"
  }
 },
 "nbformat": 4,
 "nbformat_minor": 5
}
