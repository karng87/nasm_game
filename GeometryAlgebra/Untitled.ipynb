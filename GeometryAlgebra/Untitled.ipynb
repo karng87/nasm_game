{
 "cells": [
  {
   "cell_type": "code",
   "execution_count": 49,
   "id": "1ae4c86a-c6da-4177-9d34-d9b2826b6de0",
   "metadata": {},
   "outputs": [
    {
     "data": {
      "text/latex": [
       "$\\displaystyle \\left[\\begin{matrix}\\frac{1}{5} & \\frac{1}{5} & 0\\\\\\frac{2}{5} & \\frac{2}{5} & 0\\\\0 & 0 & 0\\end{matrix}\\right]$"
      ],
      "text/plain": [
       "Matrix([\n",
       "[1/5, 1/5, 0],\n",
       "[2/5, 2/5, 0],\n",
       "[  0,   0, 0]])"
      ]
     },
     "execution_count": 49,
     "metadata": {},
     "output_type": "execute_result"
    }
   ],
   "source": [
    "import sympy as sm\n",
    "import sympy.physics.vector\n",
    "B = sm.physics.vector.ReferenceFrame(\"B\")\n",
    "u = B.x + B.y\n",
    "v = B.x + 2*B.y\n",
    "vi = (1/(v&v)*v)\n",
    "(vi|u).to_matrix(B)"
   ]
  },
  {
   "cell_type": "code",
   "execution_count": 48,
   "id": "a02d709a-50c3-4f4f-b642-8adc2b30de2a",
   "metadata": {},
   "outputs": [
    {
     "data": {
      "text/latex": [
       "$\\displaystyle \\frac{1}{5}\\mathbf{\\hat{b}_x}\\otimes \\mathbf{\\hat{b}_x} + \\frac{1}{5}\\mathbf{\\hat{b}_x}\\otimes \\mathbf{\\hat{b}_y} + \\frac{2}{5}\\mathbf{\\hat{b}_y}\\otimes \\mathbf{\\hat{b}_x} + \\frac{2}{5}\\mathbf{\\hat{b}_y}\\otimes \\mathbf{\\hat{b}_y}$"
      ],
      "text/plain": [
       "1/5*(B.x|B.x) + 1/5*(B.x|B.y) + 2/5*(B.y|B.x) + 2/5*(B.y|B.y)"
      ]
     },
     "execution_count": 48,
     "metadata": {},
     "output_type": "execute_result"
    }
   ],
   "source": [
    "w|u"
   ]
  },
  {
   "cell_type": "code",
   "execution_count": 50,
   "id": "9dfa68a2-1ff2-4320-951f-cc056fa8c8c0",
   "metadata": {
    "tags": []
   },
   "outputs": [
    {
     "data": {
      "text/latex": [
       "$\\displaystyle \\frac{1}{5}\\mathbf{\\hat{b}_x} + \\frac{2}{5}\\mathbf{\\hat{b}_y}$"
      ],
      "text/plain": [
       "1/5*B.x + 2/5*B.y"
      ]
     },
     "execution_count": 50,
     "metadata": {},
     "output_type": "execute_result"
    }
   ],
   "source": [
    "vi"
   ]
  },
  {
   "cell_type": "code",
   "execution_count": 55,
   "id": "cc2810e4-3abd-467b-8d09-f898da57272c",
   "metadata": {},
   "outputs": [
    {
     "data": {
      "text/latex": [
       "$\\displaystyle \\mathbf{\\hat{b}_x} + \\mathbf{\\hat{b}_y}$"
      ],
      "text/plain": [
       "B.x + B.y"
      ]
     },
     "execution_count": 55,
     "metadata": {},
     "output_type": "execute_result"
    }
   ],
   "source": [
    "u"
   ]
  },
  {
   "cell_type": "code",
   "execution_count": 77,
   "id": "675aff81-0d94-4835-bfc8-4a08c51292aa",
   "metadata": {},
   "outputs": [
    {
     "data": {
      "text/latex": [
       "$\\displaystyle -  \\frac{1}{5}\\mathbf{\\hat{b}_z}$"
      ],
      "text/plain": [
       "- 1/5*B.z"
      ]
     },
     "execution_count": 77,
     "metadata": {},
     "output_type": "execute_result"
    }
   ],
   "source": [
    "vi&u\n",
    "vi^u"
   ]
  },
  {
   "cell_type": "code",
   "execution_count": null,
   "id": "4e689640-5ab2-4bce-af68-4df1bbf82424",
   "metadata": {},
   "outputs": [],
   "source": []
  }
 ],
 "metadata": {
  "kernelspec": {
   "display_name": "Python 3 (ipykernel)",
   "language": "python",
   "name": "python3"
  },
  "language_info": {
   "codemirror_mode": {
    "name": "ipython",
    "version": 3
   },
   "file_extension": ".py",
   "mimetype": "text/x-python",
   "name": "python",
   "nbconvert_exporter": "python",
   "pygments_lexer": "ipython3",
   "version": "3.10.1"
  }
 },
 "nbformat": 4,
 "nbformat_minor": 5
}
