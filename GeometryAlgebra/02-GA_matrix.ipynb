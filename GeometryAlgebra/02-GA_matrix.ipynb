{
 "cells": [
  {
   "cell_type": "code",
   "execution_count": 230,
   "id": "bd948865-f881-4bfb-b3d7-28e31ac5798c",
   "metadata": {},
   "outputs": [
    {
     "ename": "AttributeError",
     "evalue": "module 'sympy' has no attribute 'j'",
     "output_type": "error",
     "traceback": [
      "\u001b[0;31m---------------------------------------------------------------------------\u001b[0m",
      "\u001b[0;31mAttributeError\u001b[0m                            Traceback (most recent call last)",
      "\u001b[0;32m/tmp/ipykernel_10042/4207358395.py\u001b[0m in \u001b[0;36m<module>\u001b[0;34m\u001b[0m\n\u001b[1;32m     45\u001b[0m \u001b[0mb1\u001b[0m \u001b[0;34m=\u001b[0m \u001b[0mb1\u001b[0m\u001b[0;34m*\u001b[0m\u001b[0mE1\u001b[0m \u001b[0;34m+\u001b[0m \u001b[0mb2\u001b[0m\u001b[0;34m*\u001b[0m\u001b[0mE2\u001b[0m\u001b[0;34m+\u001b[0m \u001b[0mb3\u001b[0m\u001b[0;34m*\u001b[0m\u001b[0mE3\u001b[0m\u001b[0;34m\u001b[0m\u001b[0;34m\u001b[0m\u001b[0m\n\u001b[1;32m     46\u001b[0m \u001b[0mI\u001b[0m\u001b[0;34m*\u001b[0m\u001b[0;34m(\u001b[0m\u001b[0ma1\u001b[0m\u001b[0;34m*\u001b[0m\u001b[0mb1\u001b[0m\u001b[0;34m)\u001b[0m\u001b[0;34m\u001b[0m\u001b[0;34m\u001b[0m\u001b[0m\n\u001b[0;32m---> 47\u001b[0;31m \u001b[0msm\u001b[0m\u001b[0;34m.\u001b[0m\u001b[0mj\u001b[0m\u001b[0;34m\u001b[0m\u001b[0;34m\u001b[0m\u001b[0m\n\u001b[0m",
      "\u001b[0;31mAttributeError\u001b[0m: module 'sympy' has no attribute 'j'"
     ]
    }
   ],
   "source": [
    "import sympy as sm\n",
    "import sympy.physics.vector\n",
    "B = sm.physics.vector.ReferenceFrame(\"B\")\n",
    "e0,e1,e2,e3,b0,b1,b2,b3 = sm.symbols('e_0:4, e\\'_0:4')\n",
    "((e0+e1+e2+e3)*(b0+b1+b2+b3)).expand()\n",
    "# e0b0 \n",
    "M = sm.Matrix([\n",
    "    [e0,e1,e2,e3],\n",
    "    [e1,e0, 0, 0],\n",
    "    [e2, 0,e0, 0],\n",
    "    [e3, 0, 0,e0]])\n",
    "N = sm.Matrix([\n",
    "    [b0,b1,b2,b3],\n",
    "    [b1,b0, 0, 0],\n",
    "    [b2, 0,b0, 0],\n",
    "    [b3, 0, 0,b0],])\n",
    "M*N\n",
    "S = sm.Matrix([\n",
    "    [1,0,0,0],\n",
    "    [0,1,0,0],\n",
    "    [0,0,1,0],\n",
    "    [0,0,0,1],])\n",
    "E1 = sm.Matrix([\n",
    "    [0,1,0,0],\n",
    "    [1,0,0,0],\n",
    "    [0,0,0,0],\n",
    "    [0,0,0,0],])\n",
    "E2 = sm.Matrix([\n",
    "    [0,0,1,0],\n",
    "    [0,0,0,0],\n",
    "    [1,0,0,0],\n",
    "    [0,0,0,0],])\n",
    "E3 = sm.Matrix([\n",
    "    [0,0,0,1],\n",
    "    [0,0,0,0],\n",
    "    [0,0,0,0],\n",
    "    [1,0,0,0],])\n",
    "\n",
    "I = sm.Matrix([\n",
    "    [1,0,0,0],\n",
    "    [0,1,0,0],\n",
    "    [0,0,1,0],\n",
    "    [0,0,0,1]])\n",
    "a1 = e1*E1 + e2*E2+ e3*E3\n",
    "b1 = b1*E1 + b2*E2+ b3*E3\n",
    "I*(a1*b1)"
   ]
  },
  {
   "cell_type": "code",
   "execution_count": 200,
   "id": "651e9166-c97d-4c93-b6e3-e03a6f10d67e",
   "metadata": {},
   "outputs": [
    {
     "data": {
      "text/latex": [
       "$\\displaystyle \\left[\\begin{matrix}b_{1} e_{1} & b_{2} e_{1} & b_{3} e_{1}\\\\b_{1} e_{2} & b_{2} e_{2} & b_{3} e_{2}\\\\b_{1} e_{3} & b_{2} e_{3} & b_{3} e_{3}\\end{matrix}\\right]$"
      ],
      "text/plain": [
       "Matrix([\n",
       "[b_1*e_1, b_2*e_1, b_3*e_1],\n",
       "[b_1*e_2, b_2*e_2, b_3*e_2],\n",
       "[b_1*e_3, b_2*e_3, b_3*e_3]])"
      ]
     },
     "execution_count": 200,
     "metadata": {},
     "output_type": "execute_result"
    }
   ],
   "source": [
    "a = e1*B.x + e2*B.y + e3*B.z\n",
    "b = b1*B.x + b2*B.y + b3*B.z\n",
    "(a|b).to_matrix(B)"
   ]
  },
  {
   "cell_type": "code",
   "execution_count": 217,
   "id": "e9de46fb-c4fe-47d7-bb47-d54b0c0566a2",
   "metadata": {},
   "outputs": [
    {
     "data": {
      "text/latex": [
       "$\\displaystyle 0$"
      ],
      "text/plain": [
       "0"
      ]
     },
     "execution_count": 217,
     "metadata": {},
     "output_type": "execute_result"
    }
   ],
   "source": [
    "(B.x^B.y)^B.z"
   ]
  },
  {
   "cell_type": "code",
   "execution_count": 48,
   "id": "a02d709a-50c3-4f4f-b642-8adc2b30de2a",
   "metadata": {},
   "outputs": [
    {
     "data": {
      "text/latex": [
       "$\\displaystyle \\frac{1}{5}\\mathbf{\\hat{b}_x}\\otimes \\mathbf{\\hat{b}_x} + \\frac{1}{5}\\mathbf{\\hat{b}_x}\\otimes \\mathbf{\\hat{b}_y} + \\frac{2}{5}\\mathbf{\\hat{b}_y}\\otimes \\mathbf{\\hat{b}_x} + \\frac{2}{5}\\mathbf{\\hat{b}_y}\\otimes \\mathbf{\\hat{b}_y}$"
      ],
      "text/plain": [
       "1/5*(B.x|B.x) + 1/5*(B.x|B.y) + 2/5*(B.y|B.x) + 2/5*(B.y|B.y)"
      ]
     },
     "execution_count": 48,
     "metadata": {},
     "output_type": "execute_result"
    }
   ],
   "source": [
    "w|u"
   ]
  },
  {
   "cell_type": "code",
   "execution_count": 50,
   "id": "9dfa68a2-1ff2-4320-951f-cc056fa8c8c0",
   "metadata": {
    "tags": []
   },
   "outputs": [
    {
     "data": {
      "text/latex": [
       "$\\displaystyle \\frac{1}{5}\\mathbf{\\hat{b}_x} + \\frac{2}{5}\\mathbf{\\hat{b}_y}$"
      ],
      "text/plain": [
       "1/5*B.x + 2/5*B.y"
      ]
     },
     "execution_count": 50,
     "metadata": {},
     "output_type": "execute_result"
    }
   ],
   "source": [
    "vi"
   ]
  },
  {
   "cell_type": "code",
   "execution_count": 55,
   "id": "cc2810e4-3abd-467b-8d09-f898da57272c",
   "metadata": {},
   "outputs": [
    {
     "data": {
      "text/latex": [
       "$\\displaystyle \\mathbf{\\hat{b}_x} + \\mathbf{\\hat{b}_y}$"
      ],
      "text/plain": [
       "B.x + B.y"
      ]
     },
     "execution_count": 55,
     "metadata": {},
     "output_type": "execute_result"
    }
   ],
   "source": [
    "u"
   ]
  },
  {
   "cell_type": "code",
   "execution_count": 80,
   "id": "675aff81-0d94-4835-bfc8-4a08c51292aa",
   "metadata": {},
   "outputs": [
    {
     "data": {
      "text/latex": [
       "$\\displaystyle \\frac{3}{5}$"
      ],
      "text/plain": [
       "3/5"
      ]
     },
     "execution_count": 80,
     "metadata": {},
     "output_type": "execute_result"
    }
   ],
   "source": [
    "vi&u"
   ]
  },
  {
   "cell_type": "code",
   "execution_count": 83,
   "id": "4e689640-5ab2-4bce-af68-4df1bbf82424",
   "metadata": {},
   "outputs": [
    {
     "data": {
      "text/latex": [
       "$\\displaystyle \\mathbf{\\hat{b}_x} + 2\\mathbf{\\hat{b}_y}$"
      ],
      "text/plain": [
       "B.x + 2*B.y"
      ]
     },
     "execution_count": 83,
     "metadata": {},
     "output_type": "execute_result"
    }
   ],
   "source": [
    "# 1/5*B.x*B.y - 2/5*B.y*B.x\n",
    "# 3/5 + 3/5*B.x*B.y\n",
    "v"
   ]
  },
  {
   "cell_type": "code",
   "execution_count": 234,
   "id": "aa20440a-a8d2-428a-9fd1-d17a65368c4e",
   "metadata": {},
   "outputs": [
    {
     "data": {
      "text/latex": [
       "$\\displaystyle \\varepsilon_{e_{1} e_{2} e_{3}}$"
      ],
      "text/plain": [
       "LeviCivita(e_1, e_2, e_3)"
      ]
     },
     "execution_count": 234,
     "metadata": {},
     "output_type": "execute_result"
    }
   ],
   "source": [
    "sm.Eijk(e1,e2,e3)"
   ]
  },
  {
   "cell_type": "code",
   "execution_count": null,
   "id": "b6f640d5-1986-49fc-abca-c58a0a2290c8",
   "metadata": {},
   "outputs": [],
   "source": []
  }
 ],
 "metadata": {
  "kernelspec": {
   "display_name": "Python 3 (ipykernel)",
   "language": "python",
   "name": "python3"
  },
  "language_info": {
   "codemirror_mode": {
    "name": "ipython",
    "version": 3
   },
   "file_extension": ".py",
   "mimetype": "text/x-python",
   "name": "python",
   "nbconvert_exporter": "python",
   "pygments_lexer": "ipython3",
   "version": "3.10.1"
  }
 },
 "nbformat": 4,
 "nbformat_minor": 5
}
