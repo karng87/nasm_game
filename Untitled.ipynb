{
 "cells": [
  {
   "cell_type": "code",
   "execution_count": null,
   "id": "87b1922e-2aed-42c4-950d-9cdf860ef503",
   "metadata": {},
   "outputs": [],
   "source": [
    "#include <iosream>\n",
    "main(){\n",
    "    std::cout << \"hello\" << std::enl;\n",
    "}"
   ]
  },
  {
   "cell_type": "code",
   "execution_count": null,
   "id": "628cefaa-1b94-486d-ac4f-e12e9e7a55e9",
   "metadata": {},
   "outputs": [],
   "source": []
  }
 ],
 "metadata": {
  "kernelspec": {
   "display_name": "ROOT C++",
   "language": "c++",
   "name": "root"
  },
  "language_info": {
   "name": ""
  }
 },
 "nbformat": 4,
 "nbformat_minor": 5
}
